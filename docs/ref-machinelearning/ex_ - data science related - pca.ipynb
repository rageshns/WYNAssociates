{
  "nbformat": 4,
  "nbformat_minor": 0,
  "metadata": {
    "colab": {
      "provenance": [],
      "toc_visible": true
    },
    "kernelspec": {
      "name": "python3",
      "display_name": "Python 3"
    },
    "language_info": {
      "name": "python"
    }
  },
  "cells": [
    {
      "cell_type": "markdown",
      "source": [
        "# Principal Component Analysis (PCA) from Scratch\n",
        "\n",
        "This code implements Principal Component Analysis (PCA) from scratch using Python and the NumPy library. PCA is a method used to emphasize variation and bring out strong patterns in a dataset.\n",
        "\n",
        "## Standardize Data\n",
        "\n",
        "First, the data is standardized. Standardization is a crucial step in PCA to make sure that each feature has equal weight.\n",
        "\n",
        "```python\n",
        "import numpy as np\n",
        "\n",
        "def standardize_data(X):\n",
        "    \"\"\"Standardize the dataset\"\"\"\n",
        "    mean = np.mean(X, axis=0)\n",
        "    std = np.std(X, axis=0)\n",
        "    return (X - mean) / std\n",
        "```\n",
        "\n",
        "This function takes a data matrix `X` as input. It calculates the mean and standard deviation of each feature (column) in the matrix using `np.mean` and `np.std`, respectively. It then subtracts the mean and divides by the standard deviation for each feature to standardize the data.\n",
        "\n",
        "## Compute Covariance Matrix\n",
        "\n",
        "Next, the covariance matrix of the standardized data is computed. The covariance matrix captures the relationships between the features.\n",
        "\n",
        "```python\n",
        "def compute_covariance_matrix(X):\n",
        "    \"\"\"Compute the covariance matrix of the dataset\"\"\"\n",
        "    return np.cov(X, rowvar=False)\n",
        "```\n",
        "\n",
        "This function takes the standardized data matrix `X` as input. It computes the covariance matrix using `np.cov` with `rowvar=False` to indicate that features are in columns.\n",
        "\n",
        "## Compute Principal Components\n",
        "\n",
        "The eigenvectors and eigenvalues of the covariance matrix are computed. These will be used to transform the data to the new feature space defined by the principal components.\n",
        "\n",
        "```python\n",
        "def compute_principal_components(cov_matrix):\n",
        "    \"\"\"Compute the eigenvectors and eigenvalues of the covariance matrix\"\"\"\n",
        "    eigenvalues, eigenvectors = np.linalg.eigh(cov_matrix)\n",
        "    return eigenvalues, eigenvectors\n",
        "```\n",
        "\n",
        "This function takes the covariance matrix as input and calculates the eigenvalues and eigenvectors using `np.linalg.eigh`, which is a function that computes the eigenvalues and eigenvectors of a Hermitian matrix.\n",
        "\n",
        "## Project Data\n",
        "\n",
        "Finally, the data is projected onto the top `num_components` eigenvectors, resulting in the principal component scores.\n",
        "\n",
        "```python\n",
        "def project_data(X, eigenvectors, num_components):\n",
        "    \"\"\"Project the data onto the top 'num_components' eigenvectors\"\"\"\n",
        "    W = eigenvectors[:, -num_components:]\n",
        "    return np.dot(X, W)\n",
        "```\n",
        "\n",
        "This function takes the standardized data matrix `X`, the matrix of eigenvectors, and the desired number of principal components `num_components` as input. It selects the top `num_components` eigenvectors and computes the dot product between the data matrix and these eigenvectors to project the data onto the lower-dimensional space.\n",
        "\n",
        "This markdown file provides an explanation of the Python code for performing PCA from scratch. The code includes functions for standardizing the data, computing the covariance matrix, obtaining the eigenvectors and eigenvalues, and projecting the data onto the principal components."
      ],
      "metadata": {
        "id": "gbGh-aG7_DR2"
      }
    },
    {
      "cell_type": "code",
      "execution_count": null,
      "metadata": {
        "id": "HKDF2vB5-QP7"
      },
      "outputs": [],
      "source": [
        "import numpy as np\n",
        "\n",
        "def standardize_data(X):\n",
        "    \"\"\"Standardize the dataset\"\"\"\n",
        "    mean = np.mean(X, axis=0)\n",
        "    std = np.std(X, axis=0)\n",
        "    return (X - mean) / std\n",
        "\n",
        "def compute_covariance_matrix(X):\n",
        "    \"\"\"Compute the covariance matrix of the dataset\"\"\"\n",
        "    return np.cov(X, rowvar=False)\n",
        "\n",
        "def compute_principal_components(cov_matrix):\n",
        "    \"\"\"Compute the eigenvectors and eigenvalues of the covariance matrix\"\"\"\n",
        "    eigenvalues, eigenvectors = np.linalg.eigh(cov_matrix)\n",
        "    return eigenvalues, eigenvectors\n",
        "\n",
        "def project_data(X, eigenvectors, num_components):\n",
        "    \"\"\"Project the data onto the top 'num_components' eigenvectors\"\"\"\n",
        "    W = eigenvectors[:, -num_components:]\n",
        "    return np.dot(X, W)"
      ]
    },
    {
      "cell_type": "markdown",
      "source": [
        "## Toy Data\n",
        "\n",
        "In this example, the goal is to create an `n` by `p` matrix of random numbers and use it as the data matrix `X`. This matrix is then intended to be used in subsequent operations or analyses, like PCA, as mentioned in the previous discussions. Here's a breakdown of what each line of the code does:\n",
        "\n",
        "1. `n, p = 100, 5`: This line sets up the dimensions of the matrix. The variable `n` is assigned the value 100, representing the number of observations (rows) in the matrix. The variable `p` is assigned the value 5, representing the number of features (columns) in the matrix.\n",
        "\n",
        "2. `np.random.seed(42)`: This line sets the random seed for NumPy's random number generator to the value 42. The purpose of setting a random seed is to make the results reproducible. When you use the same seed value, you'll get the same sequence of random numbers every time you run the code.\n",
        "\n",
        "3. `X = np.random.rand(n, p)`: This line generates an `n` by `p` matrix of random numbers and assigns it to the variable `X`. Specifically, the `np.random.rand` function generates random numbers uniformly distributed between 0 and 1. The resulting matrix `X` will have 100 rows and 5 columns, with each entry being a random number between 0 and 1.\n",
        "\n",
        "The variable `X` is now ready to be used in subsequent operations or analyses, such as PCA. In this example, `X` is simply a random dataset that can be used to test or demonstrate the PCA procedure described in the previous explanations."
      ],
      "metadata": {
        "id": "NZzBlpfJA_qt"
      }
    },
    {
      "cell_type": "code",
      "source": [
        "# # Example usage\n",
        "# n, p = 100, 3\n",
        "# np.random.seed(42)\n",
        "# X = np.random.rand(n, p) # example n by p matrix of random numbers"
      ],
      "metadata": {
        "id": "1gJYjGhl-Rb3"
      },
      "execution_count": null,
      "outputs": []
    },
    {
      "cell_type": "code",
      "source": [
        "import numpy as np\n",
        "\n",
        "np.random.seed(42) # Set the random seed for reproducibility\n",
        "\n",
        "n = 100 # Number of observations\n",
        "\n",
        "# Generate the data with different variances\n",
        "x1 = np.random.normal(0, 1, n) # Large variance\n",
        "x2 = np.random.normal(0, 1, n) # Standard normal distribution\n",
        "x3 = np.random.normal(0, 100, n) # Standard normal distribution\n",
        "\n",
        "# Stack the variables together to form the data matrix X\n",
        "X = np.column_stack((x1, x2, x3))"
      ],
      "metadata": {
        "id": "9B8TB-A-BWPj"
      },
      "execution_count": null,
      "outputs": []
    },
    {
      "cell_type": "markdown",
      "source": [
        "Create a target variable that is binary and only depends on $x_1$ which means the other $x$'s are all noise."
      ],
      "metadata": {
        "id": "t4-iPoXMC1Jo"
      }
    },
    {
      "cell_type": "code",
      "source": [
        "y = (x1 > 0).astype(int)\n",
        "y"
      ],
      "metadata": {
        "colab": {
          "base_uri": "https://localhost:8080/"
        },
        "id": "zZNMWhgaCR5h",
        "outputId": "01a6842c-a49c-4bd4-a697-97faae6b4d25"
      },
      "execution_count": null,
      "outputs": [
        {
          "output_type": "execute_result",
          "data": {
            "text/plain": [
              "array([1, 0, 1, 1, 0, 0, 1, 1, 0, 1, 0, 0, 1, 0, 0, 0, 0, 1, 0, 0, 1, 0,\n",
              "       1, 0, 0, 1, 0, 1, 0, 0, 0, 1, 0, 0, 1, 0, 1, 0, 0, 1, 1, 1, 0, 0,\n",
              "       0, 0, 0, 1, 1, 0, 1, 0, 0, 1, 1, 1, 0, 0, 1, 1, 0, 0, 0, 0, 1, 1,\n",
              "       0, 1, 1, 0, 1, 1, 0, 1, 0, 1, 1, 0, 1, 0, 0, 1, 1, 0, 0, 0, 1, 1,\n",
              "       0, 1, 1, 1, 0, 0, 0, 0, 1, 1, 1, 0])"
            ]
          },
          "metadata": {},
          "execution_count": 18
        }
      ]
    },
    {
      "cell_type": "code",
      "source": [
        "# PCA\n",
        "# X_standardized = standardize_data(X)\n",
        "cov_matrix = compute_covariance_matrix(X)\n",
        "eigenvalues, eigenvectors = compute_principal_components(cov_matrix)\n",
        "\n",
        "# Project data onto the first 2 principal components\n",
        "principal_component_scores = project_data(X, eigenvectors, 2)"
      ],
      "metadata": {
        "id": "fKac1SamA1LV"
      },
      "execution_count": null,
      "outputs": []
    },
    {
      "cell_type": "code",
      "source": [
        "# PCA\n",
        "X_standardized = standardize_data(X)\n",
        "cov_matrix = compute_covariance_matrix(X_standardized)\n",
        "eigenvalues, eigenvectors = compute_principal_components(cov_matrix)\n",
        "\n",
        "# Project data onto the first 2 principal components\n",
        "principal_component_scores = project_data(X_standardized, eigenvectors, 2)"
      ],
      "metadata": {
        "id": "XngaizEUOjgT"
      },
      "execution_count": null,
      "outputs": []
    },
    {
      "cell_type": "code",
      "source": [
        "import matplotlib.pyplot as plt"
      ],
      "metadata": {
        "id": "szjRQQdZCJta"
      },
      "execution_count": null,
      "outputs": []
    },
    {
      "cell_type": "code",
      "source": [
        "# Assuming you have principal_component_scores and y defined\n",
        "colors = ['red', 'blue']\n",
        "scatter = plt.scatter(principal_component_scores[:, 0], principal_component_scores[:, 1], c=y, cmap='bwr', alpha=0.5)\n",
        "plt.colorbar(scatter, ticks=[0, 1], label='Class')\n",
        "plt.xlabel('Principal Component 1')\n",
        "plt.ylabel('Principal Component 2')\n",
        "plt.title('PCA with Color-Coded Classes')\n",
        "plt.show()"
      ],
      "metadata": {
        "colab": {
          "base_uri": "https://localhost:8080/",
          "height": 472
        },
        "id": "RHrAcPIYCYB0",
        "outputId": "d62b20c3-4d5e-489d-9f76-794cbfd81b89"
      },
      "execution_count": null,
      "outputs": [
        {
          "output_type": "display_data",
          "data": {
            "text/plain": [
              "<Figure size 640x480 with 2 Axes>"
            ],
            "image/png": "[encoded data removed]"
          },
          "metadata": {}
        }
      ]
    },
    {
      "cell_type": "markdown",
      "source": [
        "## Loadings of the Principal Components\n",
        "\n",
        "Feature importance in PCA can be assessed by looking at the loadings of the principal components. These loadings indicate the contribution of each original feature to the principal components. Loadings are obtained by examining the eigenvectors of the covariance matrix.\n",
        "\n",
        "Here are the steps to assess feature importance in PCA:\n",
        "\n",
        "1. Compute the PCA and obtain the eigenvectors (principal component loadings) and eigenvalues.\n",
        "2. Consider the first few principal components that explain a significant amount of the variance in the data (e.g., the first one or two principal components).\n",
        "3. Examine the loadings (eigenvectors) of these principal components to see which features contribute the most to these components.\n",
        "4. Features with high absolute loadings in the first few principal components are the most important ones, as they contribute significantly to explaining the variance in the data.\n",
        "\n",
        "Here's an example in Python to illustrate this:\n",
        "\n",
        "```python\n",
        "import numpy as np\n",
        "\n",
        "# Assuming you have already computed the PCA and have the eigenvectors and eigenvalues\n",
        "eigenvalues, eigenvectors = compute_principal_components(compute_covariance_matrix(standardize_data(X)))\n",
        "\n",
        "# Assuming you're interested in the first principal component\n",
        "pc1_loadings = eigenvectors[:, -1] # Loadings of the first principal component\n",
        "\n",
        "# Print the loadings for each feature\n",
        "feature_names = [\"x1\", \"x2\", \"x3\", \"x4\", \"x5\"]\n",
        "for feature, loading in zip(feature_names, pc1_loadings):\n",
        "    print(f\"{feature}: {loading}\")\n",
        "\n",
        "# Identify the feature with the highest absolute loading\n",
        "important_feature_index = np.argmax(np.abs(pc1_loadings))\n",
        "important_feature = feature_names[important_feature_index]\n",
        "print(f\"The most important feature is: {important_feature}\")\n",
        "```\n",
        "\n",
        "In this example, we examine the loadings of the first principal component. We print the loadings for each feature and identify the feature with the highest absolute loading as the most important one.\n",
        "\n",
        "Keep in mind that PCA focuses on the variance explained by the principal components, so the importance of a feature is determined by its contribution to the variance of the data. This might not directly align with other definitions of feature importance that consider classification accuracy or regression performance."
      ],
      "metadata": {
        "id": "cPVviTloET-k"
      }
    },
    {
      "cell_type": "code",
      "source": [
        "# Assuming you're interested in the first principal component\n",
        "pc1_loadings = eigenvectors[:, -1] # Loadings of the first principal component\n",
        "\n",
        "# Print the loadings for each feature\n",
        "feature_names = [\"x1\", \"x2\", \"x3\"]\n",
        "for feature, loading in zip(feature_names, pc1_loadings):\n",
        "    print(f\"{feature}: {loading}\")"
      ],
      "metadata": {
        "colab": {
          "base_uri": "https://localhost:8080/"
        },
        "id": "EzTW1FTcC9fd",
        "outputId": "a946dead-3186-4e5d-f82e-45b16db1f4e9"
      },
      "execution_count": null,
      "outputs": [
        {
          "output_type": "stream",
          "name": "stdout",
          "text": [
            "x1: -0.6798701939874915\n",
            "x2: 0.450682019737755\n",
            "x3: -0.5784999882562729\n"
          ]
        }
      ]
    },
    {
      "cell_type": "code",
      "source": [
        "# Identify the feature with the highest absolute loading\n",
        "important_feature_index = np.argmax(np.abs(pc1_loadings))\n",
        "important_feature = feature_names[important_feature_index]\n",
        "print(f\"The most important feature is: {important_feature}\")"
      ],
      "metadata": {
        "colab": {
          "base_uri": "https://localhost:8080/"
        },
        "id": "raRCT1QwELbM",
        "outputId": "add5ab97-3fe8-4c31-d80d-07e6231f5708"
      },
      "execution_count": null,
      "outputs": [
        {
          "output_type": "stream",
          "name": "stdout",
          "text": [
            "The most important feature is: x1\n"
          ]
        }
      ]
    },
    {
      "cell_type": "markdown",
      "source": [
        "## Feature Importance\n",
        "\n",
        "This code calculates a measure of feature importance by taking the dot product of the absolute values of the eigenvectors (rounded to three decimal places) and the eigenvalues. This results in a weighted sum of the feature contributions for each principal component.\n",
        "\n",
        "Here's a breakdown of the operations in the code:\n",
        "\n",
        "1. `np.abs(eigenvectors)` computes the absolute values of the elements in the `eigenvectors` matrix, which is used to disregard the direction of the eigenvector components.\n",
        "\n",
        "2. `np.round(..., 3)` rounds the absolute values of the eigenvectors to three decimal places.\n",
        "\n",
        "3. `np.dot(..., eigenvalues)` calculates the dot product of the rounded absolute eigenvectors and the eigenvalues. This operation can be seen as a weighted sum, where the eigenvalues serve as weights. By multiplying the eigenvectors by the eigenvalues, the importance of each feature is weighted by the amount of variance explained by the corresponding principal component.\n",
        "\n",
        "The resulting array, `feature_importance`, contains the importance scores for each feature based on the PCA results. Features with higher importance scores contribute more to the variance of the data, as captured by the principal components.\n",
        "\n",
        "It is important to note that this approach considers both the contribution of each feature to the principal components (eigenvectors) and the amount of variance explained by each principal component (eigenvalues) in determining the feature importance."
      ],
      "metadata": {
        "id": "ZO3OMIa1AUAy"
      }
    },
    {
      "cell_type": "code",
      "source": [
        "import pandas as pd"
      ],
      "metadata": {
        "id": "RTkAwV5NHyOZ"
      },
      "execution_count": null,
      "outputs": []
    },
    {
      "cell_type": "markdown",
      "source": [
        "Recall earlier we check the magnitude of the loadings to see what the important $x$ is from the loadings of *ONE* principal components."
      ],
      "metadata": {
        "id": "To7lyQDUMwS4"
      }
    },
    {
      "cell_type": "code",
      "source": [
        "pc1_loadings = np.abs(eigenvectors[:, -1]) # Loadings of the first principal component\n",
        "feature_names[np.argmax(pc1_loadings)]"
      ],
      "metadata": {
        "colab": {
          "base_uri": "https://localhost:8080/",
          "height": 36
        },
        "id": "VZyhJBUXIxrT",
        "outputId": "c09db042-8dc3-4715-b6f5-bd24f357dc0b"
      },
      "execution_count": null,
      "outputs": [
        {
          "output_type": "execute_result",
          "data": {
            "text/plain": [
              "'x1'"
            ],
            "application/vnd.google.colaboratory.intrinsic+json": {
              "type": "string"
            }
          },
          "metadata": {},
          "execution_count": 60
        }
      ]
    },
    {
      "cell_type": "markdown",
      "source": [
        "Now let's use all the loadings. Note that the loadings for the first pincipal component is always the highest so this sets of loadings have a larger effect to the final result."
      ],
      "metadata": {
        "id": "X7j6bqC1M51q"
      }
    },
    {
      "cell_type": "code",
      "source": [
        "feature_importance = np.dot(np.round(np.abs(eigenvectors), 3), eigenvalues)"
      ],
      "metadata": {
        "id": "EaKN2FHe-kSS"
      },
      "execution_count": null,
      "outputs": []
    },
    {
      "cell_type": "code",
      "source": [
        "feature_names"
      ],
      "metadata": {
        "colab": {
          "base_uri": "https://localhost:8080/"
        },
        "id": "_g4IlsdmLgBX",
        "outputId": "cf961772-eaec-4277-89ff-6aee64859f10"
      },
      "execution_count": null,
      "outputs": [
        {
          "output_type": "execute_result",
          "data": {
            "text/plain": [
              "['x1', 'x2', 'x3']"
            ]
          },
          "metadata": {},
          "execution_count": 62
        }
      ]
    },
    {
      "cell_type": "code",
      "source": [
        "final_feature_importance_table = pd.DataFrame(feature_importance, index=feature_names)\n",
        "final_feature_importance_table"
      ],
      "metadata": {
        "colab": {
          "base_uri": "https://localhost:8080/",
          "height": 143
        },
        "id": "4a7ZpAFAHz8U",
        "outputId": "91c2e057-e66b-4884-a1e5-f404735d326e"
      },
      "execution_count": null,
      "outputs": [
        {
          "output_type": "execute_result",
          "data": {
            "text/plain": [
              "           0\n",
              "x1  1.489438\n",
              "x2  1.651726\n",
              "x3  1.748404"
            ],
            "text/html": [
              "\n",
              "  <div id=\"df-2fb169c8-935b-452e-8947-bf80aa2525b8\" class=\"colab-df-container\">\n",
              "    <div>\n",
              "<style scoped>\n",
              "    .dataframe tbody tr th:only-of-type {\n",
              "        vertical-align: middle;\n",
              "    }\n",
              "\n",
              "    .dataframe tbody tr th {\n",
              "        vertical-align: top;\n",
              "    }\n",
              "\n",
              "    .dataframe thead th {\n",
              "        text-align: right;\n",
              "    }\n",
              "</style>\n",
              "<table border=\"1\" class=\"dataframe\">\n",
              "  <thead>\n",
              "    <tr style=\"text-align: right;\">\n",
              "      <th></th>\n",
              "      <th>0</th>\n",
              "    </tr>\n",
              "  </thead>\n",
              "  <tbody>\n",
              "    <tr>\n",
              "      <th>x1</th>\n",
              "      <td>1.489438</td>\n",
              "    </tr>\n",
              "    <tr>\n",
              "      <th>x2</th>\n",
              "      <td>1.651726</td>\n",
              "    </tr>\n",
              "    <tr>\n",
              "      <th>x3</th>\n",
              "      <td>1.748404</td>\n",
              "    </tr>\n",
              "  </tbody>\n",
              "</table>\n",
              "</div>\n",
              "    <div class=\"colab-df-buttons\">\n",
              "\n",
              "  <div class=\"colab-df-container\">\n",
              "    <button class=\"colab-df-convert\" onclick=\"convertToInteractive('df-2fb169c8-935b-452e-8947-bf80aa2525b8')\"\n",
              "            title=\"Convert this dataframe to an interactive table.\"\n",
              "            style=\"display:none;\">\n",
              "\n",
              "  <svg xmlns=\"http://www.w3.org/2000/svg\" height=\"24px\" viewBox=\"0 -960 960 960\">\n",
              "    <path d=\"M120-120v-720h720v720H120Zm60-500h600v-160H180v160Zm220 220h160v-160H400v160Zm0 220h160v-160H400v160ZM180-400h160v-160H180v160Zm440 0h160v-160H620v160ZM180-180h160v-160H180v160Zm440 0h160v-160H620v160Z\"/>\n",
              "  </svg>\n",
              "    </button>\n",
              "\n",
              "  <style>\n",
              "    .colab-df-container {\n",
              "      display:flex;\n",
              "      gap: 12px;\n",
              "    }\n",
              "\n",
              "    .colab-df-convert {\n",
              "      background-color: #E8F0FE;\n",
              "      border: none;\n",
              "      border-radius: 50%;\n",
              "      cursor: pointer;\n",
              "      display: none;\n",
              "      fill: #1967D2;\n",
              "      height: 32px;\n",
              "      padding: 0 0 0 0;\n",
              "      width: 32px;\n",
              "    }\n",
              "\n",
              "    .colab-df-convert:hover {\n",
              "      background-color: #E2EBFA;\n",
              "      box-shadow: 0px 1px 2px rgba(60, 64, 67, 0.3), 0px 1px 3px 1px rgba(60, 64, 67, 0.15);\n",
              "      fill: #174EA6;\n",
              "    }\n",
              "\n",
              "    .colab-df-buttons div {\n",
              "      margin-bottom: 4px;\n",
              "    }\n",
              "\n",
              "    [theme=dark] .colab-df-convert {\n",
              "      background-color: #3B4455;\n",
              "      fill: #D2E3FC;\n",
              "    }\n",
              "\n",
              "    [theme=dark] .colab-df-convert:hover {\n",
              "      background-color: #434B5C;\n",
              "      box-shadow: 0px 1px 3px 1px rgba(0, 0, 0, 0.15);\n",
              "      filter: drop-shadow(0px 1px 2px rgba(0, 0, 0, 0.3));\n",
              "      fill: #FFFFFF;\n",
              "    }\n",
              "  </style>\n",
              "\n",
              "    <script>\n",
              "      const buttonEl =\n",
              "        document.querySelector('#df-2fb169c8-935b-452e-8947-bf80aa2525b8 button.colab-df-convert');\n",
              "      buttonEl.style.display =\n",
              "        google.colab.kernel.accessAllowed ? 'block' : 'none';\n",
              "\n",
              "      async function convertToInteractive(key) {\n",
              "        const element = document.querySelector('#df-2fb169c8-935b-452e-8947-bf80aa2525b8');\n",
              "        const dataTable =\n",
              "          await google.colab.kernel.invokeFunction('convertToInteractive',\n",
              "                                                    [key], {});\n",
              "        if (!dataTable) return;\n",
              "\n",
              "        const docLinkHtml = 'Like what you see? Visit the ' +\n",
              "          '<a target=\"_blank\" href=https://colab.research.google.com/notebooks/data_table.ipynb>data table notebook</a>'\n",
              "          + ' to learn more about interactive tables.';\n",
              "        element.innerHTML = '';\n",
              "        dataTable['output_type'] = 'display_data';\n",
              "        await google.colab.output.renderOutput(dataTable, element);\n",
              "        const docLink = document.createElement('div');\n",
              "        docLink.innerHTML = docLinkHtml;\n",
              "        element.appendChild(docLink);\n",
              "      }\n",
              "    </script>\n",
              "  </div>\n",
              "\n",
              "\n",
              "<div id=\"df-c9dda631-895a-4733-ad27-5102eea96757\">\n",
              "  <button class=\"colab-df-quickchart\" onclick=\"quickchart('df-c9dda631-895a-4733-ad27-5102eea96757')\"\n",
              "            title=\"Suggest charts.\"\n",
              "            style=\"display:none;\">\n",
              "\n",
              "<svg xmlns=\"http://www.w3.org/2000/svg\" height=\"24px\"viewBox=\"0 0 24 24\"\n",
              "     width=\"24px\">\n",
              "    <g>\n",
              "        <path d=\"M19 3H5c-1.1 0-2 .9-2 2v14c0 1.1.9 2 2 2h14c1.1 0 2-.9 2-2V5c0-1.1-.9-2-2-2zM9 17H7v-7h2v7zm4 0h-2V7h2v10zm4 0h-2v-4h2v4z\"/>\n",
              "    </g>\n",
              "</svg>\n",
              "  </button>\n",
              "\n",
              "<style>\n",
              "  .colab-df-quickchart {\n",
              "    background-color: #E8F0FE;\n",
              "    border: none;\n",
              "    border-radius: 50%;\n",
              "    cursor: pointer;\n",
              "    display: none;\n",
              "    fill: #1967D2;\n",
              "    height: 32px;\n",
              "    padding: 0 0 0 0;\n",
              "    width: 32px;\n",
              "  }\n",
              "\n",
              "  .colab-df-quickchart:hover {\n",
              "    background-color: #E2EBFA;\n",
              "    box-shadow: 0px 1px 2px rgba(60, 64, 67, 0.3), 0px 1px 3px 1px rgba(60, 64, 67, 0.15);\n",
              "    fill: #174EA6;\n",
              "  }\n",
              "\n",
              "  [theme=dark] .colab-df-quickchart {\n",
              "    background-color: #3B4455;\n",
              "    fill: #D2E3FC;\n",
              "  }\n",
              "\n",
              "  [theme=dark] .colab-df-quickchart:hover {\n",
              "    background-color: #434B5C;\n",
              "    box-shadow: 0px 1px 3px 1px rgba(0, 0, 0, 0.15);\n",
              "    filter: drop-shadow(0px 1px 2px rgba(0, 0, 0, 0.3));\n",
              "    fill: #FFFFFF;\n",
              "  }\n",
              "</style>\n",
              "\n",
              "  <script>\n",
              "    async function quickchart(key) {\n",
              "      const charts = await google.colab.kernel.invokeFunction(\n",
              "          'suggestCharts', [key], {});\n",
              "    }\n",
              "    (() => {\n",
              "      let quickchartButtonEl =\n",
              "        document.querySelector('#df-c9dda631-895a-4733-ad27-5102eea96757 button');\n",
              "      quickchartButtonEl.style.display =\n",
              "        google.colab.kernel.accessAllowed ? 'block' : 'none';\n",
              "    })();\n",
              "  </script>\n",
              "</div>\n",
              "    </div>\n",
              "  </div>\n"
            ]
          },
          "metadata": {},
          "execution_count": 63
        }
      ]
    },
    {
      "cell_type": "markdown",
      "source": [
        "It points to the correct $x$ with highest variance."
      ],
      "metadata": {
        "id": "1cdObcIMNBNd"
      }
    }
  ]
}