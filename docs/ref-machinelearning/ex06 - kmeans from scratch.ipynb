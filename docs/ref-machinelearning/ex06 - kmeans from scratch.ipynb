{
  "nbformat": 4,
  "nbformat_minor": 0,
  "metadata": {
    "colab": {
      "provenance": [],
      "toc_visible": true
    },
    "kernelspec": {
      "name": "python3",
      "display_name": "Python 3"
    },
    "language_info": {
      "name": "python"
    }
  },
  "cells": [
    {
      "cell_type": "markdown",
      "source": [
        "## Library"
      ],
      "metadata": {
        "id": "mtHUkkatsBGw"
      }
    },
    {
      "cell_type": "code",
      "source": [
        "import pandas as pd\n",
        "import numpy as np"
      ],
      "metadata": {
        "id": "_Ze9IY0_nOO-"
      },
      "execution_count": 60,
      "outputs": []
    },
    {
      "cell_type": "markdown",
      "source": [
        "## K-means\n",
        "\n",
        "Let's code k-means from scratch. To implement the k-means clustering algorithm from scratch, follow these steps:\n",
        "\n",
        "1. Initialize centroids by selecting random data points from the DataFrame.\n",
        "2. Assign each data point to the nearest centroid.\n",
        "3. Update the centroids based on the mean of data points assigned to them.\n",
        "4. Repeat steps 2 and 3 until convergence or a set number of iterations is reached.\n",
        "\n",
        "Here's a Python function to compute k-means clustering for a pandas DataFrame with two columns, using \\( k = 2 \\):\n",
        "\n",
        "```python\n",
        "import pandas as pd\n",
        "import numpy as np\n",
        "\n",
        "def distance(p1, p2):\n",
        "    \"\"\"Compute Euclidean distance between two points.\"\"\"\n",
        "    return np.sqrt((p1[0] - p2[0]) ** 2 + (p1[1] - p2[1]) ** 2)\n",
        "\n",
        "def kmeans_2clusters(df, max_iterations=100, tolerance=1e-4):\n",
        "    \"\"\"\n",
        "    Compute 2-means clustering on a DataFrame with two columns.\n",
        "    \n",
        "    Args:\n",
        "    - df (pd.DataFrame): Input DataFrame with two columns.\n",
        "    - max_iterations (int): Maximum number of iterations.\n",
        "    - tolerance (float): Convergence tolerance.\n",
        "    \n",
        "    Returns:\n",
        "    - centroids (np.array): Updated centroids.\n",
        "    - assignments (list): Cluster assignments for each data point.\n",
        "    \"\"\"\n",
        "    # 1. Initialize centroids by selecting two random data points.\n",
        "    # 2. Assign each data point to the nearest centroid.\n",
        "    # 3. Update centroids.\n",
        "\n",
        "    return centroids, assignments\n",
        "```\n",
        "\n",
        "This function initializes two centroids by selecting two random data points from the DataFrame. It then assigns each data point to the nearest centroid, updates the centroids, and checks for convergence."
      ],
      "metadata": {
        "id": "bOJnPmchsC9l"
      }
    },
    {
      "cell_type": "code",
      "source": [
        "def distance(p1, p2):\n",
        "    \"\"\"Compute Euclidean distance between two points.\"\"\"\n",
        "    return np.sqrt((p1[0] - p2[0]) ** 2 + (p1[1] - p2[1]) ** 2)\n",
        "\n",
        "def kmeans_2clusters(df, max_iterations=100, tolerance=1e-4):\n",
        "    \"\"\"\n",
        "    Compute 2-means clustering on a DataFrame with two columns.\n",
        "\n",
        "    Args:\n",
        "    - df (pd.DataFrame): Input DataFrame with two columns.\n",
        "    - max_iterations (int): Maximum number of iterations.\n",
        "    - tolerance (float): Convergence tolerance.\n",
        "\n",
        "    Returns:\n",
        "    - centroids (np.array): Updated centroids.\n",
        "    - assignments (list): Cluster assignments for each data point.\n",
        "    \"\"\"\n",
        "    # 1. Initialize centroids by selecting two random data points.\n",
        "    centroids = df.sample(2).values\n",
        "\n",
        "    for _ in range(max_iterations):\n",
        "        # 2. Assign each data point to the nearest centroid.\n",
        "        assignments = []\n",
        "        for _, row in df.iterrows():\n",
        "            distances = [distance(row.values, centroid) for centroid in centroids]\n",
        "            cluster = np.argmin(distances)\n",
        "            assignments.append(cluster)\n",
        "\n",
        "        # Convert assignments to a NumPy array for boolean indexing\n",
        "        assignments = np.array(assignments)\n",
        "\n",
        "        # 3. Update centroids.\n",
        "        new_centroids = []\n",
        "        for i in range(2):\n",
        "            cluster_points = df[assignments == i].values\n",
        "            if len(cluster_points) > 0:\n",
        "                new_centroid = cluster_points.mean(axis=0)\n",
        "                new_centroids.append(new_centroid)\n",
        "            else:\n",
        "                # if no points were assigned to the centroid, reinitialize it\n",
        "                new_centroids.append(df.sample(1).values[0])\n",
        "\n",
        "        # Check for convergence.\n",
        "        shifts = [distance(centroids[i], new_centroids[i]) for i in range(2)]\n",
        "        if max(shifts) < tolerance:\n",
        "            break\n",
        "\n",
        "        centroids = np.array(new_centroids)\n",
        "\n",
        "    return centroids, assignments"
      ],
      "metadata": {
        "id": "AfV2gIXRr6r5"
      },
      "execution_count": null,
      "outputs": []
    },
    {
      "cell_type": "code",
      "source": [
        "# Example\n",
        "df = pd.DataFrame({\n",
        "    'x': [1, 2, 5, 6, 9, 10],\n",
        "    'y': [1, 2, 5, 6, 9, 10]\n",
        "})\n",
        "\n",
        "centroids, assignments = kmeans_2clusters(df)\n",
        "print('Centroids:', centroids)\n",
        "print('Assignments:', assignments)"
      ],
      "metadata": {
        "colab": {
          "base_uri": "https://localhost:8080/"
        },
        "id": "l0WgGA8rrQaR",
        "outputId": "ccaf79c4-e1f7-42c1-b69f-39aa3b507571"
      },
      "execution_count": 61,
      "outputs": [
        {
          "output_type": "stream",
          "name": "stdout",
          "text": [
            "Centroids: [[7.5 7.5]\n",
            " [1.5 1.5]]\n",
            "Assignments: [1 1 0 0 0 0]\n"
          ]
        }
      ]
    },
    {
      "cell_type": "code",
      "source": [],
      "metadata": {
        "id": "T-FzGTsjrRKS"
      },
      "execution_count": null,
      "outputs": []
    }
  ]
}