{
  "nbformat": 4,
  "nbformat_minor": 0,
  "metadata": {
    "colab": {
      "provenance": [],
      "machine_shape": "hm",
      "gpuType": "A100"
    },
    "kernelspec": {
      "name": "python3",
      "display_name": "Python 3"
    },
    "language_info": {
      "name": "python"
    },
    "accelerator": "GPU"
  },
  "cells": [
    {
      "cell_type": "code",
      "execution_count": 6,
      "metadata": {
        "id": "PwGAVfkQzxQ_"
      },
      "outputs": [],
      "source": [
        "# Import necessary libraries\n",
        "from transformers import AutoTokenizer, AutoModelForCausalLM\n",
        "import torch\n",
        "\n",
        "# Load the tokenizer and model\n",
        "tokenizer = AutoTokenizer.from_pretrained(\"eagle0504/llama-3.2-1B-financial-sentiment\")\n",
        "model = AutoModelForCausalLM.from_pretrained(\"eagle0504/llama-3.2-1B-financial-sentiment\")\n",
        "\n",
        "def generate_financial_sentiment(prompt: str, max_length=100) -> str:\n",
        "    \"\"\"\n",
        "    Generate financial sentiment based on the given prompt using the pretrained model.\n",
        "\n",
        "    Args:\n",
        "        prompt (str): A text string containing the input prompt related to financial topics.\n",
        "\n",
        "    Returns:\n",
        "        str: The generated sentiment/response from the model.\n",
        "    \"\"\"\n",
        "    # Encode the prompt text into tokens\n",
        "    input_ids = tokenizer.encode(prompt, return_tensors='pt')\n",
        "\n",
        "    # Generate output from the model\n",
        "    # Adjust `num_return_sequences` and `num_beams` for varying outputs\n",
        "    output_ids = model.generate(input_ids, max_length=max_length, num_beams=5, no_repeat_ngram_size=2, early_stopping=True)\n",
        "\n",
        "    # Decode the generated ids to a text string\n",
        "    output = tokenizer.decode(output_ids[0], skip_special_tokens=True)\n",
        "\n",
        "    return output"
      ]
    },
    {
      "cell_type": "code",
      "source": [
        "# Example usage\n",
        "prompt = \"In recent quarters, DeltaTech Inc., a once-thriving technology firm, has reported a disheartening downturn in both revenue and market share. Despite its early promise and extensive investment in research and development, the company has failed to innovate at the pace of its competitors, leading to obsolete product offerings and declining customer satisfaction. Shareholder confidence has plummeted as DeltaTech's strategic missteps have become apparent, with its stock price hitting a five-year low. The company's lack of clear direction and failure to adapt to rapidly changing technology trends has left analysts skeptical about its ability to recover in the competitive tech industry\"\n",
        "output = generate_financial_sentiment(prompt, max_length=512)\n",
        "print(\"Generated Sentiment:\", output)"
      ],
      "metadata": {
        "colab": {
          "base_uri": "https://localhost:8080/"
        },
        "id": "4aQ7Ew9T0Ais",
        "outputId": "b96e5b50-0d21-4a34-bf14-2bcbc0e92186"
      },
      "execution_count": 7,
      "outputs": [
        {
          "output_type": "stream",
          "name": "stderr",
          "text": [
            "The attention mask and the pad token id were not set. As a consequence, you may observe unexpected behavior. Please pass your input's `attention_mask` to obtain reliable results.\n",
            "Setting `pad_token_id` to `eos_token_id`:128001 for open-end generation.\n"
          ]
        },
        {
          "output_type": "stream",
          "name": "stdout",
          "text": [
            "Generated Sentiment: In recent quarters, DeltaTech Inc., a once-thriving technology firm, has reported a disheartening downturn in both revenue and market share. Despite its early promise and extensive investment in research and development, the company has failed to innovate at the pace of its competitors, leading to obsolete product offerings and declining customer satisfaction. Shareholder confidence has plummeted as DeltaTech's strategic missteps have become apparent, with its stock price hitting a five-year low. The company's lack of clear direction and failure to adapt to rapidly changing technology trends has left analysts skeptical about its ability to recover in the competitive tech industry.\n",
            "DeltaTech stock is down nearly 50% from its high of $4.5 billion in revenue in 2019. This is a significant decline from the year-end of 2020, when the stock was trading at $3.4 billion.\n",
            "The company is now down 49% year-to-date, down from $1.1 billion a year ago.\n",
            "This is the lowest point in its history since 2009, after which it has rebounded over the past decade.\n",
            "It's also the second consecutive year in a row for the tech company to fall below the $2 billion mark, and the third consecutive in as many years as it's been on the Nasdaq Composite.\n",
            "These are the worst times for a company that's fallen to a 52-week low in less than two years.\n",
            "What's Happened\n",
            "The stock has fallen by more than 40% since its peak of over $5.3 billion on June 30, 1998, while the S&P 500 (SPX) has declined by about 10% in that same period.\n",
            "That's the first time in history that the Dow Jones Industrial Average (DJIA) had fallen below $10,000, a level it had not reached for over 20 years. DJIA fell below that level on July 31, as well as on August 15, in July and on November 16, on December 7.\n",
            "In February, it fell to the 8.7% level, which is its lowest level since January 1988.\n",
            "On March 1, DJI fell down to $7,800.00, falling to its 12-month low of just $6,700.50.\n",
            "As of April 14, this stock fell 2.8% to just over a quarter of the low it reached in January, at which point it was down by 11.2%.\n",
            "On May 17\n"
          ]
        }
      ]
    },
    {
      "cell_type": "code",
      "source": [],
      "metadata": {
        "id": "Hw9jp4Ks1E96"
      },
      "execution_count": null,
      "outputs": []
    }
  ]
}