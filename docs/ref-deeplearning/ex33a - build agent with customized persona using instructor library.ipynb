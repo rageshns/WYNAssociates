{
  "nbformat": 4,
  "nbformat_minor": 0,
  "metadata": {
    "colab": {
      "provenance": [],
      "toc_visible": true
    },
    "kernelspec": {
      "name": "python3",
      "display_name": "Python 3"
    },
    "language_info": {
      "name": "python"
    }
  },
  "cells": [
    {
      "cell_type": "markdown",
      "source": [
        "## Installation"
      ],
      "metadata": {
        "id": "4Xs0rWffQvpU"
      }
    },
    {
      "cell_type": "code",
      "source": [
        "! pip install instructor"
      ],
      "metadata": {
        "id": "B8f4i9aEPdNc"
      },
      "execution_count": null,
      "outputs": []
    },
    {
      "cell_type": "markdown",
      "source": [
        "## Import"
      ],
      "metadata": {
        "id": "IbTaX98sQylE"
      }
    },
    {
      "cell_type": "code",
      "execution_count": 3,
      "metadata": {
        "id": "E7f_mJ49PVmn"
      },
      "outputs": [],
      "source": [
        "import instructor\n",
        "from pydantic import BaseModel\n",
        "from openai import OpenAI"
      ]
    },
    {
      "cell_type": "markdown",
      "source": [
        "## Custom Persona"
      ],
      "metadata": {
        "id": "j2XNlrVOQ0DM"
      }
    },
    {
      "cell_type": "code",
      "source": [
        "# Define your desired output structure\n",
        "class UserPersona(BaseModel):\n",
        "    name: str\n",
        "    age: int\n",
        "    interests: list[str]"
      ],
      "metadata": {
        "id": "99P5ThrmPauL"
      },
      "execution_count": 20,
      "outputs": []
    },
    {
      "cell_type": "code",
      "source": [
        "from google.colab import userdata\n",
        "OPENAI_API_KEY = userdata.get('OPENAI_API_KEY')"
      ],
      "metadata": {
        "id": "sOUGfyYIPtFs"
      },
      "execution_count": 6,
      "outputs": []
    },
    {
      "cell_type": "markdown",
      "source": [
        "## Client + Persona Setup"
      ],
      "metadata": {
        "id": "YRa-RhHMQ2Tk"
      }
    },
    {
      "cell_type": "code",
      "source": [
        "# Patch the OpenAI client\n",
        "client = instructor.from_openai(OpenAI(api_key=OPENAI_API_KEY))"
      ],
      "metadata": {
        "id": "noqTco4nPnSc"
      },
      "execution_count": 12,
      "outputs": []
    },
    {
      "cell_type": "code",
      "source": [
        "# Extract structured data from natural language\n",
        "user_persona = client.chat.completions.create(\n",
        "    model=\"gpt-3.5-turbo\",\n",
        "    response_model=UserPersona,\n",
        "    messages=[\n",
        "        {\n",
        "            \"role\": \"user\",\n",
        "            \"content\": \"My name is Yiqiao and I'm 32 years old. I love playing tennis, swmming, and jogging.\"\n",
        "        }\n",
        "    ]\n",
        ")"
      ],
      "metadata": {
        "id": "KofU4E-xPreL"
      },
      "execution_count": 21,
      "outputs": []
    },
    {
      "cell_type": "markdown",
      "source": [
        "### Test"
      ],
      "metadata": {
        "id": "0FvuuGONQ4ls"
      }
    },
    {
      "cell_type": "code",
      "source": [
        "user_persona.name"
      ],
      "metadata": {
        "colab": {
          "base_uri": "https://localhost:8080/",
          "height": 36
        },
        "id": "ISJmBCV8Q5G2",
        "outputId": "d223e738-6d71-414e-f9de-4fd122ec7b95"
      },
      "execution_count": 22,
      "outputs": [
        {
          "output_type": "execute_result",
          "data": {
            "text/plain": [
              "'Yiqiao'"
            ],
            "application/vnd.google.colaboratory.intrinsic+json": {
              "type": "string"
            }
          },
          "metadata": {},
          "execution_count": 22
        }
      ]
    },
    {
      "cell_type": "code",
      "source": [
        "user_persona.age"
      ],
      "metadata": {
        "colab": {
          "base_uri": "https://localhost:8080/"
        },
        "id": "_sZk_l8LR4KP",
        "outputId": "71c9852b-7332-48ea-8835-9ed3c49dbdcf"
      },
      "execution_count": 23,
      "outputs": [
        {
          "output_type": "execute_result",
          "data": {
            "text/plain": [
              "32"
            ]
          },
          "metadata": {},
          "execution_count": 23
        }
      ]
    },
    {
      "cell_type": "code",
      "source": [
        "user_persona.interests"
      ],
      "metadata": {
        "colab": {
          "base_uri": "https://localhost:8080/"
        },
        "id": "BPW3tYqHR81a",
        "outputId": "82c1108d-0759-4f0c-c699-05d1e9354e36"
      },
      "execution_count": 24,
      "outputs": [
        {
          "output_type": "execute_result",
          "data": {
            "text/plain": [
              "['playing tennis', 'swimming', 'jogging']"
            ]
          },
          "metadata": {},
          "execution_count": 24
        }
      ]
    },
    {
      "cell_type": "code",
      "source": [],
      "metadata": {
        "id": "Ch6vf4dKSARe"
      },
      "execution_count": null,
      "outputs": []
    }
  ]
}