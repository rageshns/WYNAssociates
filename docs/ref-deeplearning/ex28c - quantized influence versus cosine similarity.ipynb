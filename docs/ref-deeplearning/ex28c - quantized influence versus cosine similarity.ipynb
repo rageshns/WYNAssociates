{
  "nbformat": 4,
  "nbformat_minor": 0,
  "metadata": {
    "colab": {
      "provenance": [],
      "toc_visible": true
    },
    "kernelspec": {
      "name": "python3",
      "display_name": "Python 3"
    },
    "language_info": {
      "name": "python"
    }
  },
  "cells": [
    {
      "cell_type": "markdown",
      "source": [
        "# Quantized Influence versus Cosine Similarity\n",
        "\n",
        "Let's break down the tasks you've outlined, starting with writing the formulas for `quantized_influence()` and `cosine_similarity()` in LaTeX, and then moving on to the mathematical discussion and comparison.\n",
        "\n"
      ],
      "metadata": {
        "id": "osUyjs7aSH9i"
      }
    },
    {
      "cell_type": "markdown",
      "source": [
        "### Formulas in LaTeX\n",
        "\n",
        "#### Quantized Influence\n",
        "\n",
        "The `quantized_influence()` function computes a measure based on the difference in local averages from the global average of `arr2_4bit`, weighted by the square of the count of elements in each partition and normalized by the standard deviation of `arr2_4bit`. The formula for the quantized influence can be expressed as follows:\n",
        "\n",
        "$$ \\text{Quantized Influence} = \\frac{\\sum_{i=1}^{n} \\left( \\overline{y}_{\\text{local}, i} - \\overline{y}_{\\text{global}} \\right)^2 \\cdot N_i^2}{n \\cdot \\sigma_{\\text{arr2_4bit}}} $$\n",
        "\n",
        "Where:\n",
        "- $\\overline{y}_{\\text{local}, i}$ is the local average of `arr2_4bit` for the $i^{th}$ unique value in `arr1_4bit`.\n",
        "- $\\overline{y}_{\\text{global}}$ is the global average of `arr2_4bit`.\n",
        "- $N_i$ is the count of elements in `arr2_4bit` that correspond to the $i^{th}$ unique value in `arr1_4bit`.\n",
        "- $\\sigma_{\\text{arr2\\_4bit}}$ is the standard deviation of `arr2_4bit`.\n",
        "- $n$ is the total number of unique values in `arr1_4bit`.\n",
        "\n",
        "#### Cosine Similarity\n",
        "\n",
        "The `cosine_similarity()` function calculates the cosine of the angle between two vectors (arrays). The formula for cosine similarity is:\n",
        "\n",
        "$$ \\text{Cosine Similarity} = \\frac{\\vec{a} \\cdot \\vec{b}}{\\| \\vec{a} \\| \\cdot \\| \\vec{b} \\|} $$\n",
        "\n",
        "Where:\n",
        "- $\\vec{a}$ and $\\vec{b}$ are the vectors corresponding to `arr1` and `arr2`, respectively.\n",
        "- $\\| \\vec{a} \\|$ and $\\| \\vec{b} \\|$ are the Euclidean norms (magnitudes) of vectors $\\vec{a}$ and $\\vec{b}$, respectively.\n",
        "\n",
        "### Mathematical Discussion and Comparison\n",
        "\n",
        "Now, to discuss and prove the effect of the term $(N_i^2$ in the `quantized_influence()` formula on making its measure exponentially higher than the `cosine_similarity()`, especially as the numerical measure gets higher, we will focus on the impact of this term.\n",
        "\n",
        "The $N_i^2$ term in the `quantized_influence()` formula significantly increases the influence of partitions with more elements. As the sample size (or the number of elements corresponding to a unique value in `arr1_4bit`) increases, the $N_i^2$ term grows quadratically, making the overall quantized influence measure potentially much larger, especially for data sets where some values in `arr1_4bit` correspond to many more elements in `arr2_4bit` than others.\n",
        "\n",
        "#### Proving the Exponential Increase\n",
        "\n",
        "To illustrate the exponential increase and compare the two measures, let's consider the scenario where the sample size goes to infinity. We'll simplify the scenario to focus on the effect of the $N_i^2$ term. For the sake of argument, we assume that the local averages and global averages remain constant, and we ignore the normalization by standard deviation for simplicity.\n",
        "\n",
        "For `quantized_influence()`, as $N_i$ increases, the term $N_i^2$ will dominate the measure, causing it to increase quadratically.\n",
        "\n",
        "For `cosine_similarity()`, the measure is bounded between -1 and 1, as it is a ratio involving dot products and magnitudes of vectors, which do not increase quadratically with the size of the data.\n",
        "\n",
        "To formally compare them, one might look at the ratio or difference of these measures as the size of the dataset increases. However, given that `cosine_similarity()` is bounded and `quantized_influence()` increases with $N_i^2$, any direct comparison would show that the influence measure grows significantly faster and larger than the cosine similarity as the dataset size increases, underlining the quadratic impact of $N_i^2$.\n",
        "\n",
        "This demonstrates conceptually why the `quantized_influence()` measure could exponentially exceed `cosine_similarity()` as numerical measures get higher, particularly due to the quadratic growth contributed by the $N_i^2$ term. A formal proof would involve defining specific behaviors for the averages and distributions of `arr1` and `arr2`, which goes beyond this conceptual explanation."
      ],
      "metadata": {
        "id": "DKWcjkk-UclZ"
      }
    },
    {
      "cell_type": "markdown",
      "source": [
        "To present a formal proof comparing the exponential increase of the `quantized_influence()` measure relative to the `cosine_similarity()` measure, let's simplify and focus on key aspects of each formula, especially emphasizing the impact of the $N_i^2$ term in `quantized_influence()`.\n",
        "\n"
      ],
      "metadata": {
        "id": "83rkB8vFSzIS"
      }
    },
    {
      "cell_type": "markdown",
      "source": [
        "### Assumptions\n",
        "\n",
        "1. The `cosine_similarity()` is bounded between $[-1, 1]$ due to its definition.\n",
        "2. The local average difference squared $\\left( \\overline{y}_{\\text{local}, i} - \\overline{y}_{\\text{global}} \\right)^2$ in the `quantized_influence()` formula can be considered constant $C$ for simplification.\n",
        "3. $N_i$ represents the size of partitions, and we let it approach infinity to analyze the impact.\n",
        "\n"
      ],
      "metadata": {
        "id": "iiSUUWe_Um42"
      }
    },
    {
      "cell_type": "markdown",
      "source": [
        "### Objective\n",
        "\n",
        "Show that as $N_i$ (the size of partitions in `arr2_4bit` for each unique value in `arr1_4bit`) approaches infinity, the `quantized_influence()` measure increases at a rate that is significantly higher than any possible value of `cosine_similarity()`.\n",
        "\n"
      ],
      "metadata": {
        "id": "GHzASq99UosL"
      }
    },
    {
      "cell_type": "markdown",
      "source": [
        "### Formulation\n",
        "\n",
        "Given the simplified `quantized_influence()` formula without normalization by standard deviation for illustration:\n",
        "\n",
        "$$ \\text{Quantized Influence} = \\frac{\\sum_{i=1}^{n} C \\cdot N_i^2}{n} $$\n",
        "\n",
        "Assuming $C$ is constant and ignoring the division by $n$ for the moment, the dominant term as $N_i$ grows is $N_i^2$.\n",
        "\n"
      ],
      "metadata": {
        "id": "ck3HC6CtUpdJ"
      }
    },
    {
      "cell_type": "markdown",
      "source": [
        "### Proof\n",
        "\n",
        "For `cosine_similarity()`, the maximum value as $N \\rightarrow \\infty$ remains 1 (or -1 for inverse direction), which can be represented as:\n",
        "\n",
        "$$ \\lim_{N \\rightarrow \\infty} \\text{Cosine Similarity} = 1 $$\n",
        "\n",
        "For `quantized_influence()`, as $N_i$ increases:\n",
        "\n",
        "$$ \\lim_{N_i \\rightarrow \\infty} \\text{Quantized Influence} = \\lim_{N_i \\rightarrow \\infty} C \\cdot N_i^2 $$\n",
        "\n",
        "Since $C$ is a positive constant and $N_i^2$ increases quadratically:\n",
        "\n",
        "$$ \\lim_{N_i \\rightarrow \\infty} C \\cdot N_i^2 = \\infty $$\n",
        "\n"
      ],
      "metadata": {
        "id": "tdcbaPpQUqXa"
      }
    },
    {
      "cell_type": "markdown",
      "source": [
        "### Conclusion\n",
        "\n",
        "The `quantized_influence()` measure grows without bound as the size of the partitions $N_i$ increases, particularly because of the $N_i^2$ term, which ensures that this growth is quadratic. In contrast, `cosine_similarity()` is inherently limited to a maximum value of 1, regardless of the size of the input vectors.\n",
        "\n",
        "This demonstrates that as the partition sizes $N_i$ increase, the difference between the `quantized_influence()` measure and the `cosine_similarity()` measure not only grows but does so in a manner that can be considered exponential due to the quadratic factor of $N_i^2$. Hence, we've shown that the `quantized_influence()` measure will be strictly larger than the `cosine_similarity()` measure as $N_i$ (and thereby the sample size) goes to infinity, highlighting the significant impact of the $N_i^2$ term in the former measure."
      ],
      "metadata": {
        "id": "GQ5N9fGOUrlP"
      }
    },
    {
      "cell_type": "markdown",
      "source": [
        "## Library"
      ],
      "metadata": {
        "id": "lEAB1kPvaoTq"
      }
    },
    {
      "cell_type": "code",
      "source": [
        "import tensorflow as tf\n",
        "from tensorflow.keras.utils import plot_model\n",
        "from tensorflow.keras import backend as K\n",
        "\n",
        "import matplotlib.pyplot as plt\n",
        "import numpy as np\n",
        "import pandas as pd"
      ],
      "metadata": {
        "id": "JCp9T7vVUjg4"
      },
      "execution_count": 1,
      "outputs": []
    },
    {
      "cell_type": "markdown",
      "source": [
        "## Fake Data"
      ],
      "metadata": {
        "id": "uDUN5yhdaphT"
      }
    },
    {
      "cell_type": "code",
      "source": [
        "# inputs\n",
        "xs = np.array([-1.0, 0.0, 1.0, 2.0, 3.0, 4.0], dtype=float)\n",
        "# labels\n",
        "ys = np.array([-3.0, -1.0, 1.0, 3.0, 5.0, 7.0], dtype=float)"
      ],
      "metadata": {
        "id": "zlnYs_paXr5b"
      },
      "execution_count": 2,
      "outputs": []
    },
    {
      "cell_type": "markdown",
      "source": [
        "## Define `soft_quantized_influence_measure`"
      ],
      "metadata": {
        "id": "WGlwRLwmaq3W"
      }
    },
    {
      "cell_type": "markdown",
      "source": [
        "### Customized `categorical_crossentropy`"
      ],
      "metadata": {
        "id": "H4Rk831aR-iF"
      }
    },
    {
      "cell_type": "code",
      "source": [
        "def custom_categorical_crossentropy(y_true: tf.Tensor, y_pred: tf.Tensor) -> tf.Tensor:\n",
        "    \"\"\"\n",
        "    Custom implementation of the categorical crossentropy loss function.\n",
        "\n",
        "    Args:\n",
        "    - y_true: tf.Tensor. The true labels, one-hot encoded.\n",
        "    - y_pred: tf.Tensor. The predicted probabilities.\n",
        "\n",
        "    Returns:\n",
        "    - tf.Tensor: The categorical crossentropy loss.\n",
        "    \"\"\"\n",
        "    # Ensure y_pred is clipped to prevent log(0) which is undefined\n",
        "    epsilon = tf.keras.backend.epsilon()\n",
        "    y_pred = tf.clip_by_value(y_pred, epsilon, 1. - epsilon)\n",
        "\n",
        "    # Calculate the categorical crossentropy loss\n",
        "    loss = -tf.reduce_sum(y_true * tf.math.log(y_pred), axis=-1)\n",
        "\n",
        "    return loss"
      ],
      "metadata": {
        "id": "qH8xblWA62zT"
      },
      "execution_count": 73,
      "outputs": []
    },
    {
      "cell_type": "markdown",
      "source": [
        "### `qim` function"
      ],
      "metadata": {
        "id": "HFYJNWhrSB3_"
      }
    },
    {
      "cell_type": "code",
      "source": [
        "def soft_quantized_influence_measure(y_pred: tf.Tensor, y_true: tf.Tensor, threshold: float = 0.5) -> float:\n",
        "    \"\"\"\n",
        "    Calculates a custom loss measure that takes into account the mean squared error (MSE)\n",
        "    between predictions and true values, adjusted by a threshold for soft quantization.\n",
        "\n",
        "    Args:\n",
        "    - y_pred: tf.Tensor. The predicted values by the model.\n",
        "    - y_true: tf.Tensor. The true values.\n",
        "    - threshold: float. The threshold used to determine the categorization of errors.\n",
        "\n",
        "    Returns:\n",
        "    - float: The computed custom loss as a numerical value.\n",
        "    \"\"\"\n",
        "    # Ensure y_pred is clipped to prevent log(0) which is undefined\n",
        "    epsilon = tf.keras.backend.epsilon()\n",
        "    y_pred = tf.clip_by_value(y_pred, epsilon, 1. - epsilon)\n",
        "\n",
        "    # Flatten the tensors\n",
        "    y_pred_flat = tf.reshape(y_pred, [-1])\n",
        "    y_true_flat = tf.reshape(y_true, [-1])\n",
        "\n",
        "    # Ensure predictions and true values are in float format\n",
        "    arr1 = tf.cast(y_pred_flat, dtype=tf.float32)\n",
        "    arr2 = tf.cast(y_true_flat, dtype=tf.float32)\n",
        "\n",
        "    # Calculate the mean and standard deviation of the true values\n",
        "    y_global_mean = tf.reduce_mean(arr2)\n",
        "    y_std = tf.math.reduce_std(arr2)\n",
        "\n",
        "    # Sort predictions in descending order and apply the same order to true values\n",
        "    sorted_indices = tf.argsort(arr1, direction='DESCENDING')\n",
        "    sorted_arr1 = tf.gather(arr1, sorted_indices)\n",
        "    sorted_arr2 = tf.gather(arr2, sorted_indices)\n",
        "\n",
        "    # Check if MSE is within the threshold, indicating small or large error\n",
        "    pi_1 = sorted_arr1 <= threshold\n",
        "    pi_2 = sorted_arr1 > threshold\n",
        "\n",
        "    # Count occurrences of small and large errors\n",
        "    n1 = tf.reduce_sum(tf.cast(pi_1, tf.float32))  # Small errors count\n",
        "    n2 = tf.reduce_sum(tf.cast(pi_2, tf.float32))  # Large errors count\n",
        "    N = n1 + n2\n",
        "\n",
        "    # Weight errors based on their classification and counts\n",
        "    local_mean_true = tf.reduce_mean(tf.where(pi_1, arr2, 0))\n",
        "    local_mean_false = tf.reduce_mean(tf.where(pi_2, arr2, 0))\n",
        "    true_error_loss = tf.square(arr1 - local_mean_true) * n1 ** 2\n",
        "    false_error_loss = tf.square(arr1 - local_mean_false) * n2 ** 2\n",
        "\n",
        "    # Conditionally apply weights and normalize the loss by the variance of true values\n",
        "    final = true_error_loss + false_error_loss\n",
        "    final_loss = final / (tf.square(y_std) ** 2) / N\n",
        "\n",
        "    # Convert the final tensor loss to a numerical value and return\n",
        "    final_loss = tf.math.log(final_loss)\n",
        "\n",
        "    # Convert the final tensor loss to a numerical value and return\n",
        "    return final_loss\n",
        "\n",
        "def qim(threshold: float = 0.5) -> callable:\n",
        "    return lambda y_pred, y_true: soft_quantized_influence_measure(y_pred, y_true, threshold)"
      ],
      "metadata": {
        "id": "aKqHH-vDYR8d"
      },
      "execution_count": 143,
      "outputs": []
    },
    {
      "cell_type": "markdown",
      "metadata": {
        "id": "EUKTqJjwYOmV"
      },
      "source": [
        "### Training the model\n",
        "\n",
        "Let's build a simple model and train using a built-in loss function like the `mean_squared_error`."
      ]
    },
    {
      "cell_type": "code",
      "source": [
        "# Model definition\n",
        "model = tf.keras.Sequential([\n",
        "    tf.keras.layers.Dense(1, input_shape=[1])\n",
        "])\n",
        "\n",
        "# Compile and fit model\n",
        "model.compile(optimizer='sgd', loss='mse')\n",
        "history0 = model.fit(xs, ys, epochs=5, verbose=1)"
      ],
      "metadata": {
        "colab": {
          "base_uri": "https://localhost:8080/"
        },
        "id": "BrM141zeZlcl",
        "outputId": "264c6477-4f63-4b46-93fd-9f03feaaf577"
      },
      "execution_count": 4,
      "outputs": [
        {
          "output_type": "stream",
          "name": "stdout",
          "text": [
            "Epoch 1/5\n",
            "1/1 [==============================] - 1s 810ms/step - loss: 51.8292\n",
            "Epoch 2/5\n",
            "1/1 [==============================] - 0s 10ms/step - loss: 41.1777\n",
            "Epoch 3/5\n",
            "1/1 [==============================] - 0s 13ms/step - loss: 32.7894\n",
            "Epoch 4/5\n",
            "1/1 [==============================] - 0s 8ms/step - loss: 26.1818\n",
            "Epoch 5/5\n",
            "1/1 [==============================] - 0s 7ms/step - loss: 20.9754\n"
          ]
        }
      ]
    },
    {
      "cell_type": "code",
      "source": [
        "# Model definition\n",
        "model = tf.keras.Sequential([\n",
        "    tf.keras.layers.Dense(1, input_shape=[1])\n",
        "])\n",
        "\n",
        "# Compile and fit model\n",
        "model.compile(optimizer='sgd', loss=qim(0.6))\n",
        "history1 = model.fit(xs, ys, epochs=5, verbose=1)"
      ],
      "metadata": {
        "colab": {
          "base_uri": "https://localhost:8080/"
        },
        "id": "FiUdP4l3Zm2D",
        "outputId": "977ba700-7419-4133-dc7c-a9b2935885a2"
      },
      "execution_count": 136,
      "outputs": [
        {
          "output_type": "stream",
          "name": "stdout",
          "text": [
            "Epoch 1/5\n",
            "1/1 [==============================] - 0s 479ms/step - loss: 4.0304\n",
            "Epoch 2/5\n",
            "1/1 [==============================] - 0s 5ms/step - loss: 3.1314\n",
            "Epoch 3/5\n",
            "1/1 [==============================] - 0s 7ms/step - loss: 2.2232\n",
            "Epoch 4/5\n",
            "1/1 [==============================] - 0s 5ms/step - loss: 1.3813\n",
            "Epoch 5/5\n",
            "1/1 [==============================] - 0s 5ms/step - loss: 1.7745\n"
          ]
        }
      ]
    },
    {
      "cell_type": "markdown",
      "source": [
        "### Visualize Training Loss"
      ],
      "metadata": {
        "id": "431wYvb_auyl"
      }
    },
    {
      "cell_type": "code",
      "source": [
        "plt.plot(history0.history['loss'])\n",
        "plt.plot(history1.history['loss'])\n",
        "plt.xlabel('Epochs')\n",
        "plt.ylabel('Loss')\n",
        "plt.grid()\n",
        "plt.legend(['MSE', 'Soft QIM'])"
      ],
      "metadata": {
        "colab": {
          "base_uri": "https://localhost:8080/",
          "height": 466
        },
        "id": "StCG6c_lZpvE",
        "outputId": "c54571b7-5bc1-43ff-82d2-df34c2968ea9"
      },
      "execution_count": 137,
      "outputs": [
        {
          "output_type": "execute_result",
          "data": {
            "text/plain": [
              "<matplotlib.legend.Legend at 0x78747b48d240>"
            ]
          },
          "metadata": {},
          "execution_count": 137
        },
        {
          "output_type": "display_data",
          "data": {
            "text/plain": [
              "<Figure size 640x480 with 1 Axes>"
            ],
            "image/png": "[encoded data removed]"
          },
          "metadata": {}
        }
      ]
    },
    {
      "cell_type": "markdown",
      "source": [
        "## Test on the `MNIST` Dataset"
      ],
      "metadata": {
        "id": "MXZ4HUG-b6GH"
      }
    },
    {
      "cell_type": "code",
      "source": [
        "import tensorflow as tf\n",
        "from tensorflow.keras.datasets import mnist\n",
        "from tensorflow.keras.models import Sequential\n",
        "from tensorflow.keras.layers import Dense, Flatten\n",
        "from tensorflow.keras.utils import to_categorical"
      ],
      "metadata": {
        "id": "OosKbNUGb8QO"
      },
      "execution_count": 7,
      "outputs": []
    },
    {
      "cell_type": "code",
      "source": [
        "# Load MNIST data\n",
        "(x_train, y_train), (x_test, y_test) = mnist.load_data()\n",
        "\n",
        "# Normalize the input data\n",
        "x_train, x_test = x_train / 255.0, x_test / 255.0\n",
        "\n",
        "# One-hot encode the labels\n",
        "y_train = to_categorical(y_train, 10)\n",
        "y_test = to_categorical(y_test, 10)"
      ],
      "metadata": {
        "colab": {
          "base_uri": "https://localhost:8080/"
        },
        "id": "wqcoQuWqcrFi",
        "outputId": "146ab67c-d296-44ee-ed2d-7391635aadd8"
      },
      "execution_count": 8,
      "outputs": [
        {
          "output_type": "stream",
          "name": "stdout",
          "text": [
            "Downloading data from https://storage.googleapis.com/tensorflow/tf-keras-datasets/mnist.npz\n",
            "11490434/11490434 [==============================] - 0s 0us/step\n"
          ]
        }
      ]
    },
    {
      "cell_type": "code",
      "source": [
        "y_train"
      ],
      "metadata": {
        "colab": {
          "base_uri": "https://localhost:8080/"
        },
        "id": "aOHT_R2dVn7i",
        "outputId": "a0bef771-d4ca-440a-c0d3-89fd8ae7774e"
      },
      "execution_count": 131,
      "outputs": [
        {
          "output_type": "execute_result",
          "data": {
            "text/plain": [
              "array([[0., 0., 0., ..., 0., 0., 0.],\n",
              "       [1., 0., 0., ..., 0., 0., 0.],\n",
              "       [0., 0., 0., ..., 0., 0., 0.],\n",
              "       ...,\n",
              "       [0., 0., 0., ..., 0., 0., 0.],\n",
              "       [0., 0., 0., ..., 0., 0., 0.],\n",
              "       [0., 0., 0., ..., 0., 1., 0.]], dtype=float32)"
            ]
          },
          "metadata": {},
          "execution_count": 131
        }
      ]
    },
    {
      "cell_type": "code",
      "source": [
        "# Define a 3-layer neural network model\n",
        "model = Sequential([\n",
        "    Flatten(input_shape=(28, 28)),  # Flatten the input images\n",
        "    Dense(128, activation='relu'),  # First hidden layer with 128 units and ReLU activation\n",
        "    Dense(128, activation='relu'),  # Second hidden layer with 128 units and ReLU activation\n",
        "    Dense(128, activation='relu'),  # Third hidden layer with 128 units and ReLU activation\n",
        "    Dense(10, activation='softmax')  # Output layer with 10 units for 10 classes and softmax activation\n",
        "])\n",
        "\n",
        "# Compile the model\n",
        "model.compile(optimizer='adam',\n",
        "              loss=custom_categorical_crossentropy,\n",
        "              metrics=['accuracy'])\n",
        "\n",
        "# Train the model\n",
        "history = model.fit(x_train, y_train, epochs=5, validation_split=0.2)\n",
        "\n",
        "# Evaluate the model on the test set\n",
        "test_loss, test_accuracy = model.evaluate(x_test, y_test)\n",
        "\n",
        "print(f\"Test Loss: {test_loss}, Test Accuracy: {test_accuracy}\")"
      ],
      "metadata": {
        "colab": {
          "base_uri": "https://localhost:8080/"
        },
        "id": "i3XNfyg0csjG",
        "outputId": "a933bed7-03ba-4bac-f79f-8207bc44b582"
      },
      "execution_count": 81,
      "outputs": [
        {
          "output_type": "stream",
          "name": "stdout",
          "text": [
            "Epoch 1/5\n",
            "1500/1500 [==============================] - 4s 2ms/step - loss: 0.2556 - accuracy: 0.9227 - val_loss: 0.1420 - val_accuracy: 0.9568\n",
            "Epoch 2/5\n",
            "1500/1500 [==============================] - 4s 3ms/step - loss: 0.1065 - accuracy: 0.9671 - val_loss: 0.1015 - val_accuracy: 0.9706\n",
            "Epoch 3/5\n",
            "1500/1500 [==============================] - 3s 2ms/step - loss: 0.0745 - accuracy: 0.9763 - val_loss: 0.1075 - val_accuracy: 0.9678\n",
            "Epoch 4/5\n",
            "1500/1500 [==============================] - 4s 2ms/step - loss: 0.0589 - accuracy: 0.9815 - val_loss: 0.1057 - val_accuracy: 0.9695\n",
            "Epoch 5/5\n",
            "1500/1500 [==============================] - 5s 4ms/step - loss: 0.0488 - accuracy: 0.9844 - val_loss: 0.0923 - val_accuracy: 0.9731\n",
            "313/313 [==============================] - 0s 1ms/step - loss: 0.0885 - accuracy: 0.9750\n",
            "Test Loss: 0.08847285062074661, Test Accuracy: 0.9750000238418579\n"
          ]
        }
      ]
    },
    {
      "cell_type": "code",
      "source": [
        "# Define a 3-layer neural network model\n",
        "model1 = Sequential([\n",
        "    Flatten(input_shape=(28, 28)),  # Flatten the input images\n",
        "    Dense(128, activation='relu'),  # First hidden layer with 128 units and ReLU activation\n",
        "    Dense(128, activation='relu'),  # Second hidden layer with 128 units and ReLU activation\n",
        "    Dense(128, activation='relu'),  # Third hidden layer with 128 units and ReLU activation\n",
        "    Dense(10, activation='softmax')  # Output layer with 10 units for 10 classes and softmax activation\n",
        "])\n",
        "\n",
        "# Compile the model\n",
        "model1.compile(optimizer='adam',\n",
        "              loss=qim(0.5),\n",
        "              metrics=['accuracy'])\n",
        "\n",
        "# Train the model\n",
        "history1 = model1.fit(x_train, y_train, epochs=5, validation_split=0.2)\n",
        "\n",
        "# Evaluate the model on the test set\n",
        "test_loss, test_accuracy = model1.evaluate(x_test, y_test)\n",
        "\n",
        "print(f\"Test Loss: {test_loss}, Test Accuracy: {test_accuracy}\")\n"
      ],
      "metadata": {
        "colab": {
          "base_uri": "https://localhost:8080/"
        },
        "id": "P_hGT0JKcBlT",
        "outputId": "bcb3c97e-59d0-4506-dfeb-2d0c04749525"
      },
      "execution_count": 144,
      "outputs": [
        {
          "output_type": "stream",
          "name": "stdout",
          "text": [
            "Epoch 1/5\n",
            "1500/1500 [==============================] - 5s 3ms/step - loss: 6.0511 - accuracy: 0.0901 - val_loss: 6.0342 - val_accuracy: 0.0914\n",
            "Epoch 2/5\n",
            "1500/1500 [==============================] - 4s 3ms/step - loss: 6.0342 - accuracy: 0.0901 - val_loss: 6.0342 - val_accuracy: 0.0914\n",
            "Epoch 3/5\n",
            "1500/1500 [==============================] - 4s 2ms/step - loss: 6.0342 - accuracy: 0.0901 - val_loss: 6.0342 - val_accuracy: 0.0914\n",
            "Epoch 4/5\n",
            "1500/1500 [==============================] - 4s 2ms/step - loss: 6.0342 - accuracy: 0.0901 - val_loss: 6.0342 - val_accuracy: 0.0914\n",
            "Epoch 5/5\n",
            "1500/1500 [==============================] - 4s 3ms/step - loss: 6.0342 - accuracy: 0.0901 - val_loss: 6.0342 - val_accuracy: 0.0914\n",
            "313/313 [==============================] - 0s 1ms/step - loss: 6.0330 - accuracy: 0.0892\n",
            "Test Loss: 6.03299617767334, Test Accuracy: 0.08919999748468399\n"
          ]
        }
      ]
    },
    {
      "cell_type": "code",
      "source": [
        "plt.plot(history.history['loss'])\n",
        "plt.plot(history1.history['loss'])\n",
        "plt.xlabel('Epochs')\n",
        "plt.ylabel('Loss')\n",
        "plt.grid()\n",
        "plt.legend(['Categorical CE', 'Soft QIM'])"
      ],
      "metadata": {
        "id": "WPGQ2pK9cP14"
      },
      "execution_count": null,
      "outputs": []
    }
  ]
}