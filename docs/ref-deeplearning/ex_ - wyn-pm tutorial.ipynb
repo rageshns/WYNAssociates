{
  "nbformat": 4,
  "nbformat_minor": 0,
  "metadata": {
    "colab": {
      "provenance": [],
      "machine_shape": "hm",
      "collapsed_sections": [
        "FlfTmmMdeST9"
      ]
    },
    "kernelspec": {
      "name": "python3",
      "display_name": "Python 3"
    },
    "language_info": {
      "name": "python"
    }
  },
  "cells": [
    {
      "cell_type": "markdown",
      "source": [
        "## Installation"
      ],
      "metadata": {
        "id": "FlfTmmMdeST9"
      }
    },
    {
      "cell_type": "code",
      "execution_count": null,
      "metadata": {
        "id": "NZjkep-dWC_R"
      },
      "outputs": [],
      "source": [
        "%%time\n",
        "\n",
        "! pip install wyn-pm"
      ]
    },
    {
      "cell_type": "markdown",
      "source": [
        "## Buy/Sell Signal"
      ],
      "metadata": {
        "id": "NpzgqQMDeTpb"
      }
    },
    {
      "cell_type": "code",
      "source": [
        "from wyn_pm.stock_analyzer import *"
      ],
      "metadata": {
        "id": "VsZzorxAcs_C"
      },
      "execution_count": null,
      "outputs": []
    },
    {
      "cell_type": "code",
      "source": [
        "# Example usage:\n",
        "stock_analysis = StockAnalysis(ticker=\"TSLA\")\n",
        "stock_analysis.fetch_data()\n",
        "stock_analysis.calculate_macd()\n",
        "stock_analysis.find_crossovers(bullish_threshold=-15, bearish_threshold=15)\n",
        "fig = stock_analysis.create_fig()\n",
        "fig.show()"
      ],
      "metadata": {
        "id": "aW4-v6reWQPl"
      },
      "execution_count": null,
      "outputs": []
    },
    {
      "cell_type": "markdown",
      "source": [
        "## Efficient Portfolio"
      ],
      "metadata": {
        "id": "aoDFS4IUeWFj"
      }
    },
    {
      "cell_type": "code",
      "source": [
        "from wyn_pm.efficient_portfolio import *"
      ],
      "metadata": {
        "id": "WVWbk_i0dFtD"
      },
      "execution_count": null,
      "outputs": []
    },
    {
      "cell_type": "code",
      "source": [
        "# Example usage:\n",
        "portfolio = EfficientPortfolio(tickers=[\"AAPL\", \"MSFT\", \"GOOGL\", \"META\", \"IBM\", \"TSLA\"], start_date=\"2020-01-01\", end_date=\"2022-01-01\", interval=\"1d\")\n",
        "stock_data = portfolio.download_stock_data()\n",
        "portfolio_returns = portfolio.create_portfolio_and_calculate_returns(top_n=2)\n",
        "\n",
        "# Calculate mean returns and covariance matrix\n",
        "mean_returns = stock_data.pct_change().mean()\n",
        "cov_matrix = stock_data.pct_change().cov()\n",
        "\n",
        "# Define the number of portfolios to simulate and the risk-free rate\n",
        "num_portfolios = 1000\n",
        "risk_free_rate = 0.01\n",
        "\n",
        "# Display the efficient frontier with randomly generated portfolios\n",
        "fig, details = portfolio.display_simulated_ef_with_random(mean_returns.values, cov_matrix.values, num_portfolios, risk_free_rate)\n",
        "plt.show()"
      ],
      "metadata": {
        "id": "eIeLyTA5aUbW"
      },
      "execution_count": null,
      "outputs": []
    },
    {
      "cell_type": "markdown",
      "source": [
        "## Momentum Strategy"
      ],
      "metadata": {
        "id": "VwIDoboLyJ7I"
      }
    },
    {
      "cell_type": "code",
      "source": [
        "from wyn_pm.efficient_portfolio import *"
      ],
      "metadata": {
        "id": "zZ7eodbcpnGG"
      },
      "execution_count": null,
      "outputs": []
    },
    {
      "cell_type": "code",
      "source": [
        "# Example usage:\n",
        "# Test: MSFT, AAPL, NVDA, GOOG, AMZN, META, LLY, AVGO, TSLA, JPM, V, WMT, UNH, MA, PG, HD, JNJ, ORCL, MRK, COST, ABBV, BAC, CRM, AMD, NFLX, ACN, ADBE, DIS, TMO, WFC, MCD, CSCO, ABT, QCOM, INTC, INTU, IBM, AMAT, CMCSA, AXP, PFE, NOW, AMGN, MU\n",
        "portfolio = EfficientPortfolio(tickers=[\"AAPL\", \"MSFT\", \"GOOGL\", \"NFLX\", \"IBM\", \"TSLA\", \"META\", \"V\", \"ORCL\", \"COST\", \"DIS\", \"WFC\"], start_date=\"2017-01-01\", end_date=\"2024-07-01\", interval=\"1mo\")\n",
        "stock_data = portfolio.download_stock_data()\n",
        "portfolio_returns = portfolio.create_portfolio_and_calculate_returns(top_n=3)\n",
        "\n",
        "# Plot\n",
        "fig = portfolio.plot_portfolio_performance(portfolio_returns, height_of_graph=600)\n",
        "fig.show()"
      ],
      "metadata": {
        "id": "ds7K4M6kvRck"
      },
      "execution_count": null,
      "outputs": []
    },
    {
      "cell_type": "markdown",
      "source": [
        "## Training Neural Network Models"
      ],
      "metadata": {
        "id": "FSONGVs8eYHT"
      }
    },
    {
      "cell_type": "code",
      "source": [
        "from wyn_pm.trainer import *"
      ],
      "metadata": {
        "id": "9ouSmD6qsJnf"
      },
      "execution_count": null,
      "outputs": []
    },
    {
      "cell_type": "code",
      "source": [
        "%%time\n",
        "\n",
        "# Example usage:\n",
        "stock_modeling = StockModeling()\n",
        "\n",
        "# Training\n",
        "forecast_results, mc_figure = stock_modeling.forecast_and_plot(stock=\"AAPL\", start_date=\"2020-01-01\", end_date=\"2023-01-01\", look_back=50, num_of_epochs=10, n_futures=365, n_samples=1000, verbose_style=1)\n",
        "\n",
        "# Results\n",
        "print(forecast_results)\n",
        "mc_figure.show()"
      ],
      "metadata": {
        "id": "m8JBU4ctc6VD"
      },
      "execution_count": null,
      "outputs": []
    },
    {
      "cell_type": "code",
      "source": [
        "# %%time\n",
        "\n",
        "# # Example usage:\n",
        "# stock_modeling = StockModeling()\n",
        "\n",
        "# # Training\n",
        "# with tf.device('/device:GPU:0'):\n",
        "#     forecast_results, mc_figure = stock_modeling.forecast_and_plot(stock=\"AAPL\", start_date=\"2020-01-01\", end_date=\"2023-01-01\", look_back=50, num_of_epochs=10, n_futures=365, n_samples=1000, verbose_style=1)\n",
        "\n",
        "# # Results\n",
        "# print(forecast_results)"
      ],
      "metadata": {
        "id": "N6gvEnfSntSz"
      },
      "execution_count": null,
      "outputs": []
    },
    {
      "cell_type": "code",
      "source": [
        "# mc_figure.show()"
      ],
      "metadata": {
        "id": "0WJDggvA1HIx"
      },
      "execution_count": null,
      "outputs": []
    },
    {
      "cell_type": "code",
      "source": [],
      "metadata": {
        "id": "18q6E1lYurox"
      },
      "execution_count": null,
      "outputs": []
    }
  ]
}