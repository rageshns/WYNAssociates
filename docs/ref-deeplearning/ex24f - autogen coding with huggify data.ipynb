{
  "cells": [
    {
      "cell_type": "markdown",
      "id": "eacbb70c",
      "metadata": {
        "id": "eacbb70c"
      },
      "source": [
        "# Autogen: Coding and Financial Analysis"
      ]
    },
    {
      "cell_type": "markdown",
      "source": [
        "## Installation"
      ],
      "metadata": {
        "id": "NbjbuVsgRyVz"
      },
      "id": "NbjbuVsgRyVz"
    },
    {
      "cell_type": "code",
      "source": [
        "! pip install huggify-data"
      ],
      "metadata": {
        "colab": {
          "base_uri": "https://localhost:8080/",
          "height": 1000
        },
        "id": "4JXkDUnbR_qL",
        "outputId": "1e116e25-a765-4990-eb05-ab8f488feb40"
      },
      "id": "4JXkDUnbR_qL",
      "execution_count": 1,
      "outputs": [
        {
          "output_type": "stream",
          "name": "stdout",
          "text": [
            "Collecting huggify-data\n",
            "  Downloading huggify_data-0.4.4-py3-none-any.whl.metadata (7.5 kB)\n",
            "Collecting accelerate<0.21.0,>=0.20.3 (from huggify-data)\n",
            "  Downloading accelerate-0.20.3-py3-none-any.whl.metadata (17 kB)\n",
            "Collecting bitsandbytes==0.40.2 (from huggify-data)\n",
            "  Downloading bitsandbytes-0.40.2-py3-none-any.whl.metadata (9.8 kB)\n",
            "Collecting datasets==2.20.0 (from huggify-data)\n",
            "  Downloading datasets-2.20.0-py3-none-any.whl.metadata (19 kB)\n",
            "Collecting huggingface-hub==0.23.4 (from huggify-data)\n",
            "  Downloading huggingface_hub-0.23.4-py3-none-any.whl.metadata (12 kB)\n",
            "Collecting matplotlib==3.9.0 (from huggify-data)\n",
            "  Downloading matplotlib-3.9.0-cp310-cp310-manylinux_2_17_x86_64.manylinux2014_x86_64.whl.metadata (11 kB)\n",
            "Collecting numpy==1.24.4 (from huggify-data)\n",
            "  Downloading numpy-1.24.4-cp310-cp310-manylinux_2_17_x86_64.manylinux2014_x86_64.whl.metadata (5.6 kB)\n",
            "Collecting openai<2.0.0,>=1.35.3 (from huggify-data)\n",
            "  Downloading openai-1.38.0-py3-none-any.whl.metadata (22 kB)\n",
            "Collecting pandas==2.2.2 (from huggify-data)\n",
            "  Downloading pandas-2.2.2-cp310-cp310-manylinux_2_17_x86_64.manylinux2014_x86_64.whl.metadata (19 kB)\n",
            "Collecting peft==0.4.0 (from huggify-data)\n",
            "  Downloading peft-0.4.0-py3-none-any.whl.metadata (21 kB)\n",
            "Collecting pymupdf<2.0.0,>=1.24.5 (from huggify-data)\n",
            "  Downloading PyMuPDF-1.24.9-cp310-none-manylinux2014_x86_64.whl.metadata (3.4 kB)\n",
            "Requirement already satisfied: tqdm<5.0.0,>=4.66.4 in /usr/local/lib/python3.10/dist-packages (from huggify-data) (4.66.4)\n",
            "Collecting transformers==4.31.0 (from huggify-data)\n",
            "  Downloading transformers-4.31.0-py3-none-any.whl.metadata (116 kB)\n",
            "\u001b[2K     \u001b[90m━━━━━━━━━━━━━━━━━━━━━━━━━━━━━━━━━━━━━━━━\u001b[0m \u001b[32m116.9/116.9 kB\u001b[0m \u001b[31m8.4 MB/s\u001b[0m eta \u001b[36m0:00:00\u001b[0m\n",
            "\u001b[?25hCollecting trl==0.4.7 (from huggify-data)\n",
            "  Downloading trl-0.4.7-py3-none-any.whl.metadata (10 kB)\n",
            "Requirement already satisfied: filelock in /usr/local/lib/python3.10/dist-packages (from datasets==2.20.0->huggify-data) (3.15.4)\n",
            "Collecting pyarrow>=15.0.0 (from datasets==2.20.0->huggify-data)\n",
            "  Downloading pyarrow-17.0.0-cp310-cp310-manylinux_2_28_x86_64.whl.metadata (3.3 kB)\n",
            "Requirement already satisfied: pyarrow-hotfix in /usr/local/lib/python3.10/dist-packages (from datasets==2.20.0->huggify-data) (0.6)\n",
            "Collecting dill<0.3.9,>=0.3.0 (from datasets==2.20.0->huggify-data)\n",
            "  Downloading dill-0.3.8-py3-none-any.whl.metadata (10 kB)\n",
            "Collecting requests>=2.32.2 (from datasets==2.20.0->huggify-data)\n",
            "  Downloading requests-2.32.3-py3-none-any.whl.metadata (4.6 kB)\n",
            "Collecting xxhash (from datasets==2.20.0->huggify-data)\n",
            "  Downloading xxhash-3.4.1-cp310-cp310-manylinux_2_17_x86_64.manylinux2014_x86_64.whl.metadata (12 kB)\n",
            "Collecting multiprocess (from datasets==2.20.0->huggify-data)\n",
            "  Downloading multiprocess-0.70.16-py310-none-any.whl.metadata (7.2 kB)\n",
            "Collecting fsspec<=2024.5.0,>=2023.1.0 (from fsspec[http]<=2024.5.0,>=2023.1.0->datasets==2.20.0->huggify-data)\n",
            "  Downloading fsspec-2024.5.0-py3-none-any.whl.metadata (11 kB)\n",
            "Requirement already satisfied: aiohttp in /usr/local/lib/python3.10/dist-packages (from datasets==2.20.0->huggify-data) (3.9.5)\n",
            "Requirement already satisfied: packaging in /usr/local/lib/python3.10/dist-packages (from datasets==2.20.0->huggify-data) (24.1)\n",
            "Requirement already satisfied: pyyaml>=5.1 in /usr/local/lib/python3.10/dist-packages (from datasets==2.20.0->huggify-data) (6.0.1)\n",
            "Requirement already satisfied: typing-extensions>=3.7.4.3 in /usr/local/lib/python3.10/dist-packages (from huggingface-hub==0.23.4->huggify-data) (4.12.2)\n",
            "Requirement already satisfied: contourpy>=1.0.1 in /usr/local/lib/python3.10/dist-packages (from matplotlib==3.9.0->huggify-data) (1.2.1)\n",
            "Requirement already satisfied: cycler>=0.10 in /usr/local/lib/python3.10/dist-packages (from matplotlib==3.9.0->huggify-data) (0.12.1)\n",
            "Requirement already satisfied: fonttools>=4.22.0 in /usr/local/lib/python3.10/dist-packages (from matplotlib==3.9.0->huggify-data) (4.53.1)\n",
            "Requirement already satisfied: kiwisolver>=1.3.1 in /usr/local/lib/python3.10/dist-packages (from matplotlib==3.9.0->huggify-data) (1.4.5)\n",
            "Requirement already satisfied: pillow>=8 in /usr/local/lib/python3.10/dist-packages (from matplotlib==3.9.0->huggify-data) (9.4.0)\n",
            "Requirement already satisfied: pyparsing>=2.3.1 in /usr/local/lib/python3.10/dist-packages (from matplotlib==3.9.0->huggify-data) (3.1.2)\n",
            "Requirement already satisfied: python-dateutil>=2.7 in /usr/local/lib/python3.10/dist-packages (from matplotlib==3.9.0->huggify-data) (2.8.2)\n",
            "Requirement already satisfied: pytz>=2020.1 in /usr/local/lib/python3.10/dist-packages (from pandas==2.2.2->huggify-data) (2024.1)\n",
            "Requirement already satisfied: tzdata>=2022.7 in /usr/local/lib/python3.10/dist-packages (from pandas==2.2.2->huggify-data) (2024.1)\n",
            "Requirement already satisfied: psutil in /usr/local/lib/python3.10/dist-packages (from peft==0.4.0->huggify-data) (5.9.5)\n",
            "Requirement already satisfied: torch>=1.13.0 in /usr/local/lib/python3.10/dist-packages (from peft==0.4.0->huggify-data) (2.3.1+cu121)\n",
            "Requirement already satisfied: safetensors in /usr/local/lib/python3.10/dist-packages (from peft==0.4.0->huggify-data) (0.4.3)\n",
            "Requirement already satisfied: regex!=2019.12.17 in /usr/local/lib/python3.10/dist-packages (from transformers==4.31.0->huggify-data) (2024.5.15)\n",
            "Collecting tokenizers!=0.11.3,<0.14,>=0.11.1 (from transformers==4.31.0->huggify-data)\n",
            "  Downloading tokenizers-0.13.3-cp310-cp310-manylinux_2_17_x86_64.manylinux2014_x86_64.whl.metadata (6.7 kB)\n",
            "Requirement already satisfied: anyio<5,>=3.5.0 in /usr/local/lib/python3.10/dist-packages (from openai<2.0.0,>=1.35.3->huggify-data) (3.7.1)\n",
            "Requirement already satisfied: distro<2,>=1.7.0 in /usr/lib/python3/dist-packages (from openai<2.0.0,>=1.35.3->huggify-data) (1.7.0)\n",
            "Collecting httpx<1,>=0.23.0 (from openai<2.0.0,>=1.35.3->huggify-data)\n",
            "  Downloading httpx-0.27.0-py3-none-any.whl.metadata (7.2 kB)\n",
            "Requirement already satisfied: pydantic<3,>=1.9.0 in /usr/local/lib/python3.10/dist-packages (from openai<2.0.0,>=1.35.3->huggify-data) (2.8.2)\n",
            "Requirement already satisfied: sniffio in /usr/local/lib/python3.10/dist-packages (from openai<2.0.0,>=1.35.3->huggify-data) (1.3.1)\n",
            "Collecting PyMuPDFb==1.24.9 (from pymupdf<2.0.0,>=1.24.5->huggify-data)\n",
            "  Downloading PyMuPDFb-1.24.9-py3-none-manylinux2014_x86_64.manylinux_2_17_x86_64.whl.metadata (1.4 kB)\n",
            "Requirement already satisfied: idna>=2.8 in /usr/local/lib/python3.10/dist-packages (from anyio<5,>=3.5.0->openai<2.0.0,>=1.35.3->huggify-data) (3.7)\n",
            "Requirement already satisfied: exceptiongroup in /usr/local/lib/python3.10/dist-packages (from anyio<5,>=3.5.0->openai<2.0.0,>=1.35.3->huggify-data) (1.2.2)\n",
            "Requirement already satisfied: aiosignal>=1.1.2 in /usr/local/lib/python3.10/dist-packages (from aiohttp->datasets==2.20.0->huggify-data) (1.3.1)\n",
            "Requirement already satisfied: attrs>=17.3.0 in /usr/local/lib/python3.10/dist-packages (from aiohttp->datasets==2.20.0->huggify-data) (23.2.0)\n",
            "Requirement already satisfied: frozenlist>=1.1.1 in /usr/local/lib/python3.10/dist-packages (from aiohttp->datasets==2.20.0->huggify-data) (1.4.1)\n",
            "Requirement already satisfied: multidict<7.0,>=4.5 in /usr/local/lib/python3.10/dist-packages (from aiohttp->datasets==2.20.0->huggify-data) (6.0.5)\n",
            "Requirement already satisfied: yarl<2.0,>=1.0 in /usr/local/lib/python3.10/dist-packages (from aiohttp->datasets==2.20.0->huggify-data) (1.9.4)\n",
            "Requirement already satisfied: async-timeout<5.0,>=4.0 in /usr/local/lib/python3.10/dist-packages (from aiohttp->datasets==2.20.0->huggify-data) (4.0.3)\n",
            "Requirement already satisfied: certifi in /usr/local/lib/python3.10/dist-packages (from httpx<1,>=0.23.0->openai<2.0.0,>=1.35.3->huggify-data) (2024.7.4)\n",
            "Collecting httpcore==1.* (from httpx<1,>=0.23.0->openai<2.0.0,>=1.35.3->huggify-data)\n",
            "  Downloading httpcore-1.0.5-py3-none-any.whl.metadata (20 kB)\n",
            "Collecting h11<0.15,>=0.13 (from httpcore==1.*->httpx<1,>=0.23.0->openai<2.0.0,>=1.35.3->huggify-data)\n",
            "  Downloading h11-0.14.0-py3-none-any.whl.metadata (8.2 kB)\n",
            "Requirement already satisfied: annotated-types>=0.4.0 in /usr/local/lib/python3.10/dist-packages (from pydantic<3,>=1.9.0->openai<2.0.0,>=1.35.3->huggify-data) (0.7.0)\n",
            "Requirement already satisfied: pydantic-core==2.20.1 in /usr/local/lib/python3.10/dist-packages (from pydantic<3,>=1.9.0->openai<2.0.0,>=1.35.3->huggify-data) (2.20.1)\n",
            "Requirement already satisfied: six>=1.5 in /usr/local/lib/python3.10/dist-packages (from python-dateutil>=2.7->matplotlib==3.9.0->huggify-data) (1.16.0)\n",
            "Requirement already satisfied: charset-normalizer<4,>=2 in /usr/local/lib/python3.10/dist-packages (from requests>=2.32.2->datasets==2.20.0->huggify-data) (3.3.2)\n",
            "Requirement already satisfied: urllib3<3,>=1.21.1 in /usr/local/lib/python3.10/dist-packages (from requests>=2.32.2->datasets==2.20.0->huggify-data) (2.0.7)\n",
            "Requirement already satisfied: sympy in /usr/local/lib/python3.10/dist-packages (from torch>=1.13.0->peft==0.4.0->huggify-data) (1.13.1)\n",
            "Requirement already satisfied: networkx in /usr/local/lib/python3.10/dist-packages (from torch>=1.13.0->peft==0.4.0->huggify-data) (3.3)\n",
            "Requirement already satisfied: jinja2 in /usr/local/lib/python3.10/dist-packages (from torch>=1.13.0->peft==0.4.0->huggify-data) (3.1.4)\n",
            "Collecting nvidia-cuda-nvrtc-cu12==12.1.105 (from torch>=1.13.0->peft==0.4.0->huggify-data)\n",
            "  Using cached nvidia_cuda_nvrtc_cu12-12.1.105-py3-none-manylinux1_x86_64.whl.metadata (1.5 kB)\n",
            "Collecting nvidia-cuda-runtime-cu12==12.1.105 (from torch>=1.13.0->peft==0.4.0->huggify-data)\n",
            "  Using cached nvidia_cuda_runtime_cu12-12.1.105-py3-none-manylinux1_x86_64.whl.metadata (1.5 kB)\n",
            "Collecting nvidia-cuda-cupti-cu12==12.1.105 (from torch>=1.13.0->peft==0.4.0->huggify-data)\n",
            "  Using cached nvidia_cuda_cupti_cu12-12.1.105-py3-none-manylinux1_x86_64.whl.metadata (1.6 kB)\n",
            "Collecting nvidia-cudnn-cu12==8.9.2.26 (from torch>=1.13.0->peft==0.4.0->huggify-data)\n",
            "  Using cached nvidia_cudnn_cu12-8.9.2.26-py3-none-manylinux1_x86_64.whl.metadata (1.6 kB)\n",
            "Collecting nvidia-cublas-cu12==12.1.3.1 (from torch>=1.13.0->peft==0.4.0->huggify-data)\n",
            "  Using cached nvidia_cublas_cu12-12.1.3.1-py3-none-manylinux1_x86_64.whl.metadata (1.5 kB)\n",
            "Collecting nvidia-cufft-cu12==11.0.2.54 (from torch>=1.13.0->peft==0.4.0->huggify-data)\n",
            "  Using cached nvidia_cufft_cu12-11.0.2.54-py3-none-manylinux1_x86_64.whl.metadata (1.5 kB)\n",
            "Collecting nvidia-curand-cu12==10.3.2.106 (from torch>=1.13.0->peft==0.4.0->huggify-data)\n",
            "  Using cached nvidia_curand_cu12-10.3.2.106-py3-none-manylinux1_x86_64.whl.metadata (1.5 kB)\n",
            "Collecting nvidia-cusolver-cu12==11.4.5.107 (from torch>=1.13.0->peft==0.4.0->huggify-data)\n",
            "  Using cached nvidia_cusolver_cu12-11.4.5.107-py3-none-manylinux1_x86_64.whl.metadata (1.6 kB)\n",
            "Collecting nvidia-cusparse-cu12==12.1.0.106 (from torch>=1.13.0->peft==0.4.0->huggify-data)\n",
            "  Using cached nvidia_cusparse_cu12-12.1.0.106-py3-none-manylinux1_x86_64.whl.metadata (1.6 kB)\n",
            "Collecting nvidia-nccl-cu12==2.20.5 (from torch>=1.13.0->peft==0.4.0->huggify-data)\n",
            "  Using cached nvidia_nccl_cu12-2.20.5-py3-none-manylinux2014_x86_64.whl.metadata (1.8 kB)\n",
            "Collecting nvidia-nvtx-cu12==12.1.105 (from torch>=1.13.0->peft==0.4.0->huggify-data)\n",
            "  Using cached nvidia_nvtx_cu12-12.1.105-py3-none-manylinux1_x86_64.whl.metadata (1.7 kB)\n",
            "Requirement already satisfied: triton==2.3.1 in /usr/local/lib/python3.10/dist-packages (from torch>=1.13.0->peft==0.4.0->huggify-data) (2.3.1)\n",
            "Collecting nvidia-nvjitlink-cu12 (from nvidia-cusolver-cu12==11.4.5.107->torch>=1.13.0->peft==0.4.0->huggify-data)\n",
            "  Downloading nvidia_nvjitlink_cu12-12.6.20-py3-none-manylinux2014_x86_64.whl.metadata (1.5 kB)\n",
            "Requirement already satisfied: MarkupSafe>=2.0 in /usr/local/lib/python3.10/dist-packages (from jinja2->torch>=1.13.0->peft==0.4.0->huggify-data) (2.1.5)\n",
            "Requirement already satisfied: mpmath<1.4,>=1.1.0 in /usr/local/lib/python3.10/dist-packages (from sympy->torch>=1.13.0->peft==0.4.0->huggify-data) (1.3.0)\n",
            "Downloading huggify_data-0.4.4-py3-none-any.whl (14 kB)\n",
            "Downloading bitsandbytes-0.40.2-py3-none-any.whl (92.5 MB)\n",
            "\u001b[2K   \u001b[90m━━━━━━━━━━━━━━━━━━━━━━━━━━━━━━━━━━━━━━━━\u001b[0m \u001b[32m92.5/92.5 MB\u001b[0m \u001b[31m16.3 MB/s\u001b[0m eta \u001b[36m0:00:00\u001b[0m\n",
            "\u001b[?25hDownloading datasets-2.20.0-py3-none-any.whl (547 kB)\n",
            "\u001b[2K   \u001b[90m━━━━━━━━━━━━━━━━━━━━━━━━━━━━━━━━━━━━━━━━\u001b[0m \u001b[32m547.8/547.8 kB\u001b[0m \u001b[31m30.3 MB/s\u001b[0m eta \u001b[36m0:00:00\u001b[0m\n",
            "\u001b[?25hDownloading huggingface_hub-0.23.4-py3-none-any.whl (402 kB)\n",
            "\u001b[2K   \u001b[90m━━━━━━━━━━━━━━━━━━━━━━━━━━━━━━━━━━━━━━━━\u001b[0m \u001b[32m402.6/402.6 kB\u001b[0m \u001b[31m30.3 MB/s\u001b[0m eta \u001b[36m0:00:00\u001b[0m\n",
            "\u001b[?25hDownloading matplotlib-3.9.0-cp310-cp310-manylinux_2_17_x86_64.manylinux2014_x86_64.whl (8.3 MB)\n",
            "\u001b[2K   \u001b[90m━━━━━━━━━━━━━━━━━━━━━━━━━━━━━━━━━━━━━━━━\u001b[0m \u001b[32m8.3/8.3 MB\u001b[0m \u001b[31m106.8 MB/s\u001b[0m eta \u001b[36m0:00:00\u001b[0m\n",
            "\u001b[?25hDownloading numpy-1.24.4-cp310-cp310-manylinux_2_17_x86_64.manylinux2014_x86_64.whl (17.3 MB)\n",
            "\u001b[2K   \u001b[90m━━━━━━━━━━━━━━━━━━━━━━━━━━━━━━━━━━━━━━━━\u001b[0m \u001b[32m17.3/17.3 MB\u001b[0m \u001b[31m33.2 MB/s\u001b[0m eta \u001b[36m0:00:00\u001b[0m\n",
            "\u001b[?25hDownloading pandas-2.2.2-cp310-cp310-manylinux_2_17_x86_64.manylinux2014_x86_64.whl (13.0 MB)\n",
            "\u001b[2K   \u001b[90m━━━━━━━━━━━━━━━━━━━━━━━━━━━━━━━━━━━━━━━━\u001b[0m \u001b[32m13.0/13.0 MB\u001b[0m \u001b[31m103.6 MB/s\u001b[0m eta \u001b[36m0:00:00\u001b[0m\n",
            "\u001b[?25hDownloading peft-0.4.0-py3-none-any.whl (72 kB)\n",
            "\u001b[2K   \u001b[90m━━━━━━━━━━━━━━━━━━━━━━━━━━━━━━━━━━━━━━━━\u001b[0m \u001b[32m72.9/72.9 kB\u001b[0m \u001b[31m6.5 MB/s\u001b[0m eta \u001b[36m0:00:00\u001b[0m\n",
            "\u001b[?25hDownloading transformers-4.31.0-py3-none-any.whl (7.4 MB)\n",
            "\u001b[2K   \u001b[90m━━━━━━━━━━━━━━━━━━━━━━━━━━━━━━━━━━━━━━━━\u001b[0m \u001b[32m7.4/7.4 MB\u001b[0m \u001b[31m100.4 MB/s\u001b[0m eta \u001b[36m0:00:00\u001b[0m\n",
            "\u001b[?25hDownloading trl-0.4.7-py3-none-any.whl (77 kB)\n",
            "\u001b[2K   \u001b[90m━━━━━━━━━━━━━━━━━━━━━━━━━━━━━━━━━━━━━━━━\u001b[0m \u001b[32m77.4/77.4 kB\u001b[0m \u001b[31m5.7 MB/s\u001b[0m eta \u001b[36m0:00:00\u001b[0m\n",
            "\u001b[?25hDownloading accelerate-0.20.3-py3-none-any.whl (227 kB)\n",
            "\u001b[2K   \u001b[90m━━━━━━━━━━━━━━━━━━━━━━━━━━━━━━━━━━━━━━━━\u001b[0m \u001b[32m227.6/227.6 kB\u001b[0m \u001b[31m19.8 MB/s\u001b[0m eta \u001b[36m0:00:00\u001b[0m\n",
            "\u001b[?25hDownloading openai-1.38.0-py3-none-any.whl (335 kB)\n",
            "\u001b[2K   \u001b[90m━━━━━━━━━━━━━━━━━━━━━━━━━━━━━━━━━━━━━━━━\u001b[0m \u001b[32m335.9/335.9 kB\u001b[0m \u001b[31m25.4 MB/s\u001b[0m eta \u001b[36m0:00:00\u001b[0m\n",
            "\u001b[?25hDownloading PyMuPDF-1.24.9-cp310-none-manylinux2014_x86_64.whl (3.5 MB)\n",
            "\u001b[2K   \u001b[90m━━━━━━━━━━━━━━━━━━━━━━━━━━━━━━━━━━━━━━━━\u001b[0m \u001b[32m3.5/3.5 MB\u001b[0m \u001b[31m82.6 MB/s\u001b[0m eta \u001b[36m0:00:00\u001b[0m\n",
            "\u001b[?25hDownloading PyMuPDFb-1.24.9-py3-none-manylinux2014_x86_64.manylinux_2_17_x86_64.whl (15.9 MB)\n",
            "\u001b[2K   \u001b[90m━━━━━━━━━━━━━━━━━━━━━━━━━━━━━━━━━━━━━━━━\u001b[0m \u001b[32m15.9/15.9 MB\u001b[0m \u001b[31m88.4 MB/s\u001b[0m eta \u001b[36m0:00:00\u001b[0m\n",
            "\u001b[?25hDownloading dill-0.3.8-py3-none-any.whl (116 kB)\n",
            "\u001b[2K   \u001b[90m━━━━━━━━━━━━━━━━━━━━━━━━━━━━━━━━━━━━━━━━\u001b[0m \u001b[32m116.3/116.3 kB\u001b[0m \u001b[31m6.5 MB/s\u001b[0m eta \u001b[36m0:00:00\u001b[0m\n",
            "\u001b[?25hDownloading fsspec-2024.5.0-py3-none-any.whl (316 kB)\n",
            "\u001b[2K   \u001b[90m━━━━━━━━━━━━━━━━━━━━━━━━━━━━━━━━━━━━━━━━\u001b[0m \u001b[32m316.1/316.1 kB\u001b[0m \u001b[31m22.3 MB/s\u001b[0m eta \u001b[36m0:00:00\u001b[0m\n",
            "\u001b[?25hDownloading httpx-0.27.0-py3-none-any.whl (75 kB)\n",
            "\u001b[2K   \u001b[90m━━━━━━━━━━━━━━━━━━━━━━━━━━━━━━━━━━━━━━━━\u001b[0m \u001b[32m75.6/75.6 kB\u001b[0m \u001b[31m5.8 MB/s\u001b[0m eta \u001b[36m0:00:00\u001b[0m\n",
            "\u001b[?25hDownloading httpcore-1.0.5-py3-none-any.whl (77 kB)\n",
            "\u001b[2K   \u001b[90m━━━━━━━━━━━━━━━━━━━━━━━━━━━━━━━━━━━━━━━━\u001b[0m \u001b[32m77.9/77.9 kB\u001b[0m \u001b[31m6.7 MB/s\u001b[0m eta \u001b[36m0:00:00\u001b[0m\n",
            "\u001b[?25hDownloading pyarrow-17.0.0-cp310-cp310-manylinux_2_28_x86_64.whl (39.9 MB)\n",
            "\u001b[2K   \u001b[90m━━━━━━━━━━━━━━━━━━━━━━━━━━━━━━━━━━━━━━━━\u001b[0m \u001b[32m39.9/39.9 MB\u001b[0m \u001b[31m52.3 MB/s\u001b[0m eta \u001b[36m0:00:00\u001b[0m\n",
            "\u001b[?25hDownloading requests-2.32.3-py3-none-any.whl (64 kB)\n",
            "\u001b[2K   \u001b[90m━━━━━━━━━━━━━━━━━━━━━━━━━━━━━━━━━━━━━━━━\u001b[0m \u001b[32m64.9/64.9 kB\u001b[0m \u001b[31m4.8 MB/s\u001b[0m eta \u001b[36m0:00:00\u001b[0m\n",
            "\u001b[?25hDownloading tokenizers-0.13.3-cp310-cp310-manylinux_2_17_x86_64.manylinux2014_x86_64.whl (7.8 MB)\n",
            "\u001b[2K   \u001b[90m━━━━━━━━━━━━━━━━━━━━━━━━━━━━━━━━━━━━━━━━\u001b[0m \u001b[32m7.8/7.8 MB\u001b[0m \u001b[31m121.0 MB/s\u001b[0m eta \u001b[36m0:00:00\u001b[0m\n",
            "\u001b[?25hUsing cached nvidia_cublas_cu12-12.1.3.1-py3-none-manylinux1_x86_64.whl (410.6 MB)\n",
            "Using cached nvidia_cuda_cupti_cu12-12.1.105-py3-none-manylinux1_x86_64.whl (14.1 MB)\n",
            "Using cached nvidia_cuda_nvrtc_cu12-12.1.105-py3-none-manylinux1_x86_64.whl (23.7 MB)\n",
            "Using cached nvidia_cuda_runtime_cu12-12.1.105-py3-none-manylinux1_x86_64.whl (823 kB)\n",
            "Using cached nvidia_cudnn_cu12-8.9.2.26-py3-none-manylinux1_x86_64.whl (731.7 MB)\n",
            "Using cached nvidia_cufft_cu12-11.0.2.54-py3-none-manylinux1_x86_64.whl (121.6 MB)\n",
            "Using cached nvidia_curand_cu12-10.3.2.106-py3-none-manylinux1_x86_64.whl (56.5 MB)\n",
            "Using cached nvidia_cusolver_cu12-11.4.5.107-py3-none-manylinux1_x86_64.whl (124.2 MB)\n",
            "Using cached nvidia_cusparse_cu12-12.1.0.106-py3-none-manylinux1_x86_64.whl (196.0 MB)\n",
            "Using cached nvidia_nccl_cu12-2.20.5-py3-none-manylinux2014_x86_64.whl (176.2 MB)\n",
            "Using cached nvidia_nvtx_cu12-12.1.105-py3-none-manylinux1_x86_64.whl (99 kB)\n",
            "Downloading multiprocess-0.70.16-py310-none-any.whl (134 kB)\n",
            "\u001b[2K   \u001b[90m━━━━━━━━━━━━━━━━━━━━━━━━━━━━━━━━━━━━━━━━\u001b[0m \u001b[32m134.8/134.8 kB\u001b[0m \u001b[31m79.0 kB/s\u001b[0m eta \u001b[36m0:00:00\u001b[0m\n",
            "\u001b[?25hDownloading xxhash-3.4.1-cp310-cp310-manylinux_2_17_x86_64.manylinux2014_x86_64.whl (194 kB)\n",
            "\u001b[2K   \u001b[90m━━━━━━━━━━━━━━━━━━━━━━━━━━━━━━━━━━━━━━━━\u001b[0m \u001b[32m194.1/194.1 kB\u001b[0m \u001b[31m18.0 MB/s\u001b[0m eta \u001b[36m0:00:00\u001b[0m\n",
            "\u001b[?25hDownloading h11-0.14.0-py3-none-any.whl (58 kB)\n",
            "\u001b[2K   \u001b[90m━━━━━━━━━━━━━━━━━━━━━━━━━━━━━━━━━━━━━━━━\u001b[0m \u001b[32m58.3/58.3 kB\u001b[0m \u001b[31m5.6 MB/s\u001b[0m eta \u001b[36m0:00:00\u001b[0m\n",
            "\u001b[?25hDownloading nvidia_nvjitlink_cu12-12.6.20-py3-none-manylinux2014_x86_64.whl (19.7 MB)\n",
            "\u001b[2K   \u001b[90m━━━━━━━━━━━━━━━━━━━━━━━━━━━━━━━━━━━━━━━━\u001b[0m \u001b[32m19.7/19.7 MB\u001b[0m \u001b[31m98.9 MB/s\u001b[0m eta \u001b[36m0:00:00\u001b[0m\n",
            "\u001b[?25hInstalling collected packages: tokenizers, bitsandbytes, xxhash, requests, PyMuPDFb, nvidia-nvtx-cu12, nvidia-nvjitlink-cu12, nvidia-nccl-cu12, nvidia-curand-cu12, nvidia-cufft-cu12, nvidia-cuda-runtime-cu12, nvidia-cuda-nvrtc-cu12, nvidia-cuda-cupti-cu12, nvidia-cublas-cu12, numpy, h11, fsspec, dill, pymupdf, pyarrow, pandas, nvidia-cusparse-cu12, nvidia-cudnn-cu12, multiprocess, huggingface-hub, httpcore, transformers, nvidia-cusolver-cu12, matplotlib, httpx, openai, datasets, accelerate, trl, peft, huggify-data\n",
            "  Attempting uninstall: tokenizers\n",
            "    Found existing installation: tokenizers 0.19.1\n",
            "    Uninstalling tokenizers-0.19.1:\n",
            "      Successfully uninstalled tokenizers-0.19.1\n",
            "  Attempting uninstall: requests\n",
            "    Found existing installation: requests 2.31.0\n",
            "    Uninstalling requests-2.31.0:\n",
            "      Successfully uninstalled requests-2.31.0\n",
            "  Attempting uninstall: numpy\n",
            "    Found existing installation: numpy 1.26.4\n",
            "    Uninstalling numpy-1.26.4:\n",
            "      Successfully uninstalled numpy-1.26.4\n",
            "  Attempting uninstall: fsspec\n",
            "    Found existing installation: fsspec 2024.6.1\n",
            "    Uninstalling fsspec-2024.6.1:\n",
            "      Successfully uninstalled fsspec-2024.6.1\n",
            "  Attempting uninstall: pyarrow\n",
            "    Found existing installation: pyarrow 14.0.2\n",
            "    Uninstalling pyarrow-14.0.2:\n",
            "      Successfully uninstalled pyarrow-14.0.2\n",
            "  Attempting uninstall: pandas\n",
            "    Found existing installation: pandas 2.1.4\n",
            "    Uninstalling pandas-2.1.4:\n",
            "      Successfully uninstalled pandas-2.1.4\n",
            "  Attempting uninstall: huggingface-hub\n",
            "    Found existing installation: huggingface-hub 0.23.5\n",
            "    Uninstalling huggingface-hub-0.23.5:\n",
            "      Successfully uninstalled huggingface-hub-0.23.5\n",
            "  Attempting uninstall: transformers\n",
            "    Found existing installation: transformers 4.42.4\n",
            "    Uninstalling transformers-4.42.4:\n",
            "      Successfully uninstalled transformers-4.42.4\n",
            "  Attempting uninstall: matplotlib\n",
            "    Found existing installation: matplotlib 3.7.1\n",
            "    Uninstalling matplotlib-3.7.1:\n",
            "      Successfully uninstalled matplotlib-3.7.1\n",
            "  Attempting uninstall: accelerate\n",
            "    Found existing installation: accelerate 0.32.1\n",
            "    Uninstalling accelerate-0.32.1:\n",
            "      Successfully uninstalled accelerate-0.32.1\n",
            "\u001b[31mERROR: pip's dependency resolver does not currently take into account all the packages that are installed. This behaviour is the source of the following dependency conflicts.\n",
            "cudf-cu12 24.4.1 requires pandas<2.2.2dev0,>=2.0, but you have pandas 2.2.2 which is incompatible.\n",
            "cudf-cu12 24.4.1 requires pyarrow<15.0.0a0,>=14.0.1, but you have pyarrow 17.0.0 which is incompatible.\n",
            "gcsfs 2024.6.1 requires fsspec==2024.6.1, but you have fsspec 2024.5.0 which is incompatible.\n",
            "google-colab 1.0.0 requires pandas==2.1.4, but you have pandas 2.2.2 which is incompatible.\n",
            "google-colab 1.0.0 requires requests==2.31.0, but you have requests 2.32.3 which is incompatible.\n",
            "ibis-framework 8.0.0 requires pyarrow<16,>=2, but you have pyarrow 17.0.0 which is incompatible.\n",
            "pandas-stubs 2.1.4.231227 requires numpy>=1.26.0; python_version < \"3.13\", but you have numpy 1.24.4 which is incompatible.\u001b[0m\u001b[31m\n",
            "\u001b[0mSuccessfully installed PyMuPDFb-1.24.9 accelerate-0.20.3 bitsandbytes-0.40.2 datasets-2.20.0 dill-0.3.8 fsspec-2024.5.0 h11-0.14.0 httpcore-1.0.5 httpx-0.27.0 huggify-data-0.4.4 huggingface-hub-0.23.4 matplotlib-3.9.0 multiprocess-0.70.16 numpy-1.24.4 nvidia-cublas-cu12-12.1.3.1 nvidia-cuda-cupti-cu12-12.1.105 nvidia-cuda-nvrtc-cu12-12.1.105 nvidia-cuda-runtime-cu12-12.1.105 nvidia-cudnn-cu12-8.9.2.26 nvidia-cufft-cu12-11.0.2.54 nvidia-curand-cu12-10.3.2.106 nvidia-cusolver-cu12-11.4.5.107 nvidia-cusparse-cu12-12.1.0.106 nvidia-nccl-cu12-2.20.5 nvidia-nvjitlink-cu12-12.6.20 nvidia-nvtx-cu12-12.1.105 openai-1.38.0 pandas-2.2.2 peft-0.4.0 pyarrow-17.0.0 pymupdf-1.24.9 requests-2.32.3 tokenizers-0.13.3 transformers-4.31.0 trl-0.4.7 xxhash-3.4.1\n"
          ]
        },
        {
          "output_type": "display_data",
          "data": {
            "application/vnd.colab-display-data+json": {
              "pip_warning": {
                "packages": [
                  "numpy"
                ]
              },
              "id": "0869d43c3ac544efaa11a0ea51d43e59"
            }
          },
          "metadata": {}
        }
      ]
    },
    {
      "cell_type": "code",
      "source": [
        "! pip install pyautogen"
      ],
      "metadata": {
        "colab": {
          "base_uri": "https://localhost:8080/"
        },
        "id": "-wlTi6zGU8GU",
        "outputId": "aaab4a65-d42c-45f6-fca7-18bea249e8dd"
      },
      "id": "-wlTi6zGU8GU",
      "execution_count": 1,
      "outputs": [
        {
          "output_type": "stream",
          "name": "stdout",
          "text": [
            "Collecting pyautogen\n",
            "  Downloading pyautogen-0.2.33-py3-none-any.whl.metadata (27 kB)\n",
            "Collecting diskcache (from pyautogen)\n",
            "  Downloading diskcache-5.6.3-py3-none-any.whl.metadata (20 kB)\n",
            "Collecting docker (from pyautogen)\n",
            "  Downloading docker-7.1.0-py3-none-any.whl.metadata (3.8 kB)\n",
            "Collecting flaml (from pyautogen)\n",
            "  Downloading FLAML-2.1.2-py3-none-any.whl.metadata (15 kB)\n",
            "Requirement already satisfied: numpy<2,>=1.17.0 in /usr/local/lib/python3.10/dist-packages (from pyautogen) (1.24.4)\n",
            "Requirement already satisfied: openai>=1.3 in /usr/local/lib/python3.10/dist-packages (from pyautogen) (1.38.0)\n",
            "Requirement already satisfied: packaging in /usr/local/lib/python3.10/dist-packages (from pyautogen) (24.1)\n",
            "Requirement already satisfied: pydantic!=2.6.0,<3,>=1.10 in /usr/local/lib/python3.10/dist-packages (from pyautogen) (2.8.2)\n",
            "Collecting python-dotenv (from pyautogen)\n",
            "  Downloading python_dotenv-1.0.1-py3-none-any.whl.metadata (23 kB)\n",
            "Requirement already satisfied: termcolor in /usr/local/lib/python3.10/dist-packages (from pyautogen) (2.4.0)\n",
            "Collecting tiktoken (from pyautogen)\n",
            "  Downloading tiktoken-0.7.0-cp310-cp310-manylinux_2_17_x86_64.manylinux2014_x86_64.whl.metadata (6.6 kB)\n",
            "Requirement already satisfied: anyio<5,>=3.5.0 in /usr/local/lib/python3.10/dist-packages (from openai>=1.3->pyautogen) (3.7.1)\n",
            "Requirement already satisfied: distro<2,>=1.7.0 in /usr/lib/python3/dist-packages (from openai>=1.3->pyautogen) (1.7.0)\n",
            "Requirement already satisfied: httpx<1,>=0.23.0 in /usr/local/lib/python3.10/dist-packages (from openai>=1.3->pyautogen) (0.27.0)\n",
            "Requirement already satisfied: sniffio in /usr/local/lib/python3.10/dist-packages (from openai>=1.3->pyautogen) (1.3.1)\n",
            "Requirement already satisfied: tqdm>4 in /usr/local/lib/python3.10/dist-packages (from openai>=1.3->pyautogen) (4.66.4)\n",
            "Requirement already satisfied: typing-extensions<5,>=4.7 in /usr/local/lib/python3.10/dist-packages (from openai>=1.3->pyautogen) (4.12.2)\n",
            "Requirement already satisfied: annotated-types>=0.4.0 in /usr/local/lib/python3.10/dist-packages (from pydantic!=2.6.0,<3,>=1.10->pyautogen) (0.7.0)\n",
            "Requirement already satisfied: pydantic-core==2.20.1 in /usr/local/lib/python3.10/dist-packages (from pydantic!=2.6.0,<3,>=1.10->pyautogen) (2.20.1)\n",
            "Requirement already satisfied: requests>=2.26.0 in /usr/local/lib/python3.10/dist-packages (from docker->pyautogen) (2.32.3)\n",
            "Requirement already satisfied: urllib3>=1.26.0 in /usr/local/lib/python3.10/dist-packages (from docker->pyautogen) (2.0.7)\n",
            "Requirement already satisfied: regex>=2022.1.18 in /usr/local/lib/python3.10/dist-packages (from tiktoken->pyautogen) (2024.5.15)\n",
            "Requirement already satisfied: idna>=2.8 in /usr/local/lib/python3.10/dist-packages (from anyio<5,>=3.5.0->openai>=1.3->pyautogen) (3.7)\n",
            "Requirement already satisfied: exceptiongroup in /usr/local/lib/python3.10/dist-packages (from anyio<5,>=3.5.0->openai>=1.3->pyautogen) (1.2.2)\n",
            "Requirement already satisfied: certifi in /usr/local/lib/python3.10/dist-packages (from httpx<1,>=0.23.0->openai>=1.3->pyautogen) (2024.7.4)\n",
            "Requirement already satisfied: httpcore==1.* in /usr/local/lib/python3.10/dist-packages (from httpx<1,>=0.23.0->openai>=1.3->pyautogen) (1.0.5)\n",
            "Requirement already satisfied: h11<0.15,>=0.13 in /usr/local/lib/python3.10/dist-packages (from httpcore==1.*->httpx<1,>=0.23.0->openai>=1.3->pyautogen) (0.14.0)\n",
            "Requirement already satisfied: charset-normalizer<4,>=2 in /usr/local/lib/python3.10/dist-packages (from requests>=2.26.0->docker->pyautogen) (3.3.2)\n",
            "Downloading pyautogen-0.2.33-py3-none-any.whl (325 kB)\n",
            "\u001b[2K   \u001b[90m━━━━━━━━━━━━━━━━━━━━━━━━━━━━━━━━━━━━━━━━\u001b[0m \u001b[32m325.4/325.4 kB\u001b[0m \u001b[31m24.2 MB/s\u001b[0m eta \u001b[36m0:00:00\u001b[0m\n",
            "\u001b[?25hDownloading diskcache-5.6.3-py3-none-any.whl (45 kB)\n",
            "\u001b[2K   \u001b[90m━━━━━━━━━━━━━━━━━━━━━━━━━━━━━━━━━━━━━━━━\u001b[0m \u001b[32m45.5/45.5 kB\u001b[0m \u001b[31m4.3 MB/s\u001b[0m eta \u001b[36m0:00:00\u001b[0m\n",
            "\u001b[?25hDownloading docker-7.1.0-py3-none-any.whl (147 kB)\n",
            "\u001b[2K   \u001b[90m━━━━━━━━━━━━━━━━━━━━━━━━━━━━━━━━━━━━━━━━\u001b[0m \u001b[32m147.8/147.8 kB\u001b[0m \u001b[31m14.8 MB/s\u001b[0m eta \u001b[36m0:00:00\u001b[0m\n",
            "\u001b[?25hDownloading FLAML-2.1.2-py3-none-any.whl (296 kB)\n",
            "\u001b[2K   \u001b[90m━━━━━━━━━━━━━━━━━━━━━━━━━━━━━━━━━━━━━━━━\u001b[0m \u001b[32m296.7/296.7 kB\u001b[0m \u001b[31m25.8 MB/s\u001b[0m eta \u001b[36m0:00:00\u001b[0m\n",
            "\u001b[?25hDownloading python_dotenv-1.0.1-py3-none-any.whl (19 kB)\n",
            "Downloading tiktoken-0.7.0-cp310-cp310-manylinux_2_17_x86_64.manylinux2014_x86_64.whl (1.1 MB)\n",
            "\u001b[2K   \u001b[90m━━━━━━━━━━━━━━━━━━━━━━━━━━━━━━━━━━━━━━━━\u001b[0m \u001b[32m1.1/1.1 MB\u001b[0m \u001b[31m59.8 MB/s\u001b[0m eta \u001b[36m0:00:00\u001b[0m\n",
            "\u001b[?25hInstalling collected packages: python-dotenv, flaml, diskcache, tiktoken, docker, pyautogen\n",
            "Successfully installed diskcache-5.6.3 docker-7.1.0 flaml-2.1.2 pyautogen-0.2.33 python-dotenv-1.0.1 tiktoken-0.7.0\n"
          ]
        }
      ]
    },
    {
      "cell_type": "markdown",
      "id": "babbc472",
      "metadata": {
        "id": "babbc472"
      },
      "source": [
        "## Setup"
      ]
    },
    {
      "cell_type": "code",
      "source": [
        "from google.colab import userdata\n",
        "api_key = userdata.get('OPENAI_API_KEY')"
      ],
      "metadata": {
        "id": "sVEBiLOaU_Nc"
      },
      "id": "sVEBiLOaU_Nc",
      "execution_count": 2,
      "outputs": []
    },
    {
      "cell_type": "code",
      "execution_count": 3,
      "id": "b5613ba9-d387-4b7d-9670-ec2b6e4353be",
      "metadata": {
        "height": 31,
        "id": "b5613ba9-d387-4b7d-9670-ec2b6e4353be"
      },
      "outputs": [],
      "source": [
        "llm_config = {\"model\": \"gpt-4-turbo\", \"api_key\": api_key}"
      ]
    },
    {
      "cell_type": "markdown",
      "id": "e4e8fd85",
      "metadata": {
        "id": "e4e8fd85"
      },
      "source": [
        "## Define a code executor"
      ]
    },
    {
      "cell_type": "markdown",
      "id": "5aded8dc",
      "metadata": {
        "id": "5aded8dc"
      },
      "source": [
        "## User-Defined Functions\n",
        "\n",
        "Instead of asking LLM to generate the code for downloading stock data\n",
        "and plotting charts each time, you can define functions for these two tasks and have LLM call these functions in the code."
      ]
    },
    {
      "cell_type": "code",
      "execution_count": 61,
      "id": "bca089a7-d85a-40ad-b33d-6a5318076c6e",
      "metadata": {
        "height": 388,
        "id": "bca089a7-d85a-40ad-b33d-6a5318076c6e"
      },
      "outputs": [],
      "source": [
        "def get_df_from_pdf(pdf_path):\n",
        "    \"\"\"Get the stock prices for the given stock symbols extracted from a PDF file using Huggify's PDFQnAGenerator.\n",
        "\n",
        "    Args:\n",
        "        pdf_path (str): The path to the PDF file containing stock data.\n",
        "\n",
        "    Returns:\n",
        "        pandas.DataFrame: A DataFrame with the stock prices for the given stock symbols indexed by date,\n",
        "        with one column per stock symbol.\n",
        "    \"\"\"\n",
        "\n",
        "    from huggify_data.scrape_modules import PDFQnAGenerator\n",
        "    from google.colab import userdata\n",
        "\n",
        "    # pdf_path = \"/content/all_ysa_doc.pdf\"\n",
        "    openai_api_key = \"sk-xxx\" # userdata.get('OPENAI_API_KEY')\n",
        "    generator = PDFQnAGenerator(pdf_path, openai_api_key)\n",
        "    generator.process_scraped_content()\n",
        "    generator.generate_questions_answers()\n",
        "    df = generator.convert_to_dataframe()\n",
        "\n",
        "    return df"
      ]
    },
    {
      "cell_type": "code",
      "execution_count": 63,
      "id": "5dff50a6-39ae-46a4-9b9c-e98c1550472b",
      "metadata": {
        "height": 337,
        "id": "5dff50a6-39ae-46a4-9b9c-e98c1550472b"
      },
      "outputs": [],
      "source": [
        "def acquire_response_from_csv(current_prompt):\n",
        "    \"\"\"Acquire response from a AI chatbot based on the given prompt using RAG model.\n",
        "\n",
        "    This function interacts with an AI chatbot to generate a response based on the provided current prompt.\n",
        "\n",
        "    Args:\n",
        "        current_prompt (str): The prompt for generating the response from the chatbot.\n",
        "\n",
        "    Returns:\n",
        "        str: The response generated by the chatbot based on the provided prompt.\n",
        "    \"\"\"\n",
        "\n",
        "    from huggify_data.bot_modules import ChatBot\n",
        "\n",
        "    openai_api_key = \"sk-xxx\" # userdata.get('OPENAI_API_KEY')\n",
        "    chatbot = ChatBot(api_key=openai_api_key)\n",
        "\n",
        "    current_prompt = \"What is the main purpose of YSA?\"\n",
        "    response = chatbot.run_rag(openai_api_key, current_prompt, df, top_n=2)\n",
        "\n",
        "    return response"
      ]
    },
    {
      "cell_type": "markdown",
      "source": [
        "### Define Agent"
      ],
      "metadata": {
        "id": "EO2GmaXdr3tf"
      },
      "id": "EO2GmaXdr3tf"
    },
    {
      "cell_type": "code",
      "source": [
        "from autogen import ConversableAgent, AssistantAgent"
      ],
      "metadata": {
        "id": "UHYyOEJhrjhX"
      },
      "id": "UHYyOEJhrjhX",
      "execution_count": 64,
      "outputs": []
    },
    {
      "cell_type": "code",
      "source": [
        "code_writer_agent = AssistantAgent(\n",
        "    name=\"code_writer_agent\",\n",
        "    llm_config=llm_config,\n",
        "    code_execution_config=False,\n",
        "    human_input_mode=\"NEVER\",\n",
        ")"
      ],
      "metadata": {
        "id": "Rp4NgaSvrfJA"
      },
      "id": "Rp4NgaSvrfJA",
      "execution_count": 65,
      "outputs": []
    },
    {
      "cell_type": "code",
      "source": [
        "code_writer_agent_system_message = code_writer_agent.system_message\n",
        "# print(code_writer_agent_system_message)"
      ],
      "metadata": {
        "id": "mP6kTzZrrtC3"
      },
      "id": "mP6kTzZrrtC3",
      "execution_count": 66,
      "outputs": []
    },
    {
      "cell_type": "markdown",
      "id": "63ff7175",
      "metadata": {
        "id": "63ff7175"
      },
      "source": [
        "### Create a new executor with the user-defined functions"
      ]
    },
    {
      "cell_type": "code",
      "execution_count": 67,
      "id": "fb90a672-4318-47de-a061-384e68dd75c9",
      "metadata": {
        "height": 31,
        "id": "fb90a672-4318-47de-a061-384e68dd75c9"
      },
      "outputs": [],
      "source": [
        "from autogen.coding import LocalCommandLineCodeExecutor"
      ]
    },
    {
      "cell_type": "markdown",
      "id": "ccf49d7e",
      "metadata": {
        "id": "ccf49d7e"
      },
      "source": [
        "**Note**: The agent will automatically save the code in a .py file and the plot in a .png file. To access and check the files generated by the agents, go to the `File` menu and select `Open....` Then, open the folder named `coding` to find all the generated files."
      ]
    },
    {
      "cell_type": "code",
      "execution_count": 68,
      "id": "452d315f-681d-4418-9cd0-653cc8d6a668",
      "metadata": {
        "height": 99,
        "id": "452d315f-681d-4418-9cd0-653cc8d6a668"
      },
      "outputs": [],
      "source": [
        "executor = LocalCommandLineCodeExecutor(\n",
        "    timeout=120,\n",
        "    work_dir=\"coding\",\n",
        "    functions=[get_df_from_pdf, acquire_response_from_csv],\n",
        ")"
      ]
    },
    {
      "cell_type": "code",
      "execution_count": 69,
      "id": "b95b30ad-1e6d-4d88-9a6c-2b0f11b625e4",
      "metadata": {
        "height": 48,
        "id": "b95b30ad-1e6d-4d88-9a6c-2b0f11b625e4",
        "colab": {
          "base_uri": "https://localhost:8080/"
        },
        "outputId": "d513a2ad-07ee-4df1-eff5-b416ad6e51e0"
      },
      "outputs": [
        {
          "output_type": "stream",
          "name": "stdout",
          "text": [
            "You are a helpful AI assistant.\n",
            "Solve tasks using your coding and language skills.\n",
            "In the following cases, suggest python code (in a python coding block) or shell script (in a sh coding block) for the user to execute.\n",
            "    1. When you need to collect info, use the code to output the info you need, for example, browse or search the web, download/read a file, print the content of a webpage or a file, get the current date/time, check the operating system. After sufficient info is printed and the task is ready to be solved based on your language skill, you can solve the task by yourself.\n",
            "    2. When you need to perform some task with code, use the code to perform the task and output the result. Finish the task smartly.\n",
            "Solve the task step by step if you need to. If a plan is not provided, explain your plan first. Be clear which step uses code, and which step uses your language skill.\n",
            "When using code, you must indicate the script type in the code block. The user cannot provide any other feedback or perform any other action beyond executing the code you suggest. The user can't modify your code. So do not suggest incomplete code which requires users to modify. Don't use a code block if it's not intended to be executed by the user.\n",
            "If you want the user to save the code in a file before executing it, put # filename: <filename> inside the code block as the first line. Don't include multiple code blocks in one response. Do not ask users to copy and paste the result. Instead, use 'print' function for the output when relevant. Check the execution result returned by the user.\n",
            "If the result indicates there is an error, fix the error and output the code again. Suggest the full code instead of partial code or code changes. If the error can't be fixed or if the task is not solved even after the code is executed successfully, analyze the problem, revisit your assumption, collect additional info you need, and think of a different approach to try.\n",
            "When you find an answer, verify the answer carefully. Include verifiable evidence in your response if possible.\n",
            "Reply \"TERMINATE\" in the end when everything is done.\n",
            "    You have access to the following user defined functions. They can be accessed from the module called `functions` by their function names.\n",
            "\n",
            "For example, if there was a function called `foo` you could import it by writing `from functions import foo`\n",
            "\n",
            "def get_df_from_pdf(pdf_path):\n",
            "    \"\"\"Get the stock prices for the given stock symbols extracted from a PDF file using Huggify's PDFQnAGenerator.\n",
            "\n",
            "        Args:\n",
            "            pdf_path (str): The path to the PDF file containing stock data.\n",
            "\n",
            "        Returns:\n",
            "            pandas.DataFrame: A DataFrame with the stock prices for the given stock symbols indexed by date, \n",
            "            with one column per stock symbol.\n",
            "    \"\"\"\n",
            "    ...\n",
            "\n",
            "def acquire_response_from_csv(current_prompt):\n",
            "    \"\"\"Acquire response from a AI chatbot based on the given prompt using RAG model.\n",
            "\n",
            "        This function interacts with an AI chatbot to generate a response based on the provided current prompt.\n",
            "\n",
            "        Args:\n",
            "            current_prompt (str): The prompt for generating the response from the chatbot.\n",
            "\n",
            "        Returns:\n",
            "            str: The response generated by the chatbot based on the provided prompt.\n",
            "    \"\"\"\n",
            "    ...\n"
          ]
        }
      ],
      "source": [
        "code_writer_agent_system_message += executor.format_functions_for_prompt()\n",
        "print(code_writer_agent_system_message)"
      ]
    },
    {
      "cell_type": "markdown",
      "id": "64d3cc77",
      "metadata": {
        "id": "64d3cc77"
      },
      "source": [
        "### Let's update the agents with the new system message"
      ]
    },
    {
      "cell_type": "code",
      "source": [
        "code_writer_agent_system_message"
      ],
      "metadata": {
        "colab": {
          "base_uri": "https://localhost:8080/",
          "height": 0
        },
        "id": "I5tDQlrJM-AK",
        "outputId": "19fa87f3-8305-47c5-f597-8be2f1b6c999"
      },
      "id": "I5tDQlrJM-AK",
      "execution_count": 70,
      "outputs": [
        {
          "output_type": "execute_result",
          "data": {
            "text/plain": [
              "'You are a helpful AI assistant.\\nSolve tasks using your coding and language skills.\\nIn the following cases, suggest python code (in a python coding block) or shell script (in a sh coding block) for the user to execute.\\n    1. When you need to collect info, use the code to output the info you need, for example, browse or search the web, download/read a file, print the content of a webpage or a file, get the current date/time, check the operating system. After sufficient info is printed and the task is ready to be solved based on your language skill, you can solve the task by yourself.\\n    2. When you need to perform some task with code, use the code to perform the task and output the result. Finish the task smartly.\\nSolve the task step by step if you need to. If a plan is not provided, explain your plan first. Be clear which step uses code, and which step uses your language skill.\\nWhen using code, you must indicate the script type in the code block. The user cannot provide any other feedback or perform any other action beyond executing the code you suggest. The user can\\'t modify your code. So do not suggest incomplete code which requires users to modify. Don\\'t use a code block if it\\'s not intended to be executed by the user.\\nIf you want the user to save the code in a file before executing it, put # filename: <filename> inside the code block as the first line. Don\\'t include multiple code blocks in one response. Do not ask users to copy and paste the result. Instead, use \\'print\\' function for the output when relevant. Check the execution result returned by the user.\\nIf the result indicates there is an error, fix the error and output the code again. Suggest the full code instead of partial code or code changes. If the error can\\'t be fixed or if the task is not solved even after the code is executed successfully, analyze the problem, revisit your assumption, collect additional info you need, and think of a different approach to try.\\nWhen you find an answer, verify the answer carefully. Include verifiable evidence in your response if possible.\\nReply \"TERMINATE\" in the end when everything is done.\\n    You have access to the following user defined functions. They can be accessed from the module called `functions` by their function names.\\n\\nFor example, if there was a function called `foo` you could import it by writing `from functions import foo`\\n\\ndef get_df_from_pdf(pdf_path):\\n    \"\"\"Get the stock prices for the given stock symbols extracted from a PDF file using Huggify\\'s PDFQnAGenerator.\\n\\n        Args:\\n            pdf_path (str): The path to the PDF file containing stock data.\\n\\n        Returns:\\n            pandas.DataFrame: A DataFrame with the stock prices for the given stock symbols indexed by date, \\n            with one column per stock symbol.\\n    \"\"\"\\n    ...\\n\\ndef acquire_response_from_csv(current_prompt):\\n    \"\"\"Acquire response from a AI chatbot based on the given prompt using RAG model.\\n\\n        This function interacts with an AI chatbot to generate a response based on the provided current prompt.\\n\\n        Args:\\n            current_prompt (str): The prompt for generating the response from the chatbot.\\n\\n        Returns:\\n            str: The response generated by the chatbot based on the provided prompt.\\n    \"\"\"\\n    ...'"
            ],
            "application/vnd.google.colaboratory.intrinsic+json": {
              "type": "string"
            }
          },
          "metadata": {},
          "execution_count": 70
        }
      ]
    },
    {
      "cell_type": "code",
      "execution_count": 71,
      "id": "615c02b0-0175-442e-bed2-52bb35b8945c",
      "metadata": {
        "height": 133,
        "id": "615c02b0-0175-442e-bed2-52bb35b8945c"
      },
      "outputs": [],
      "source": [
        "code_writer_agent = ConversableAgent(\n",
        "    name=\"code_writer_agent\",\n",
        "    system_message=code_writer_agent_system_message,\n",
        "    llm_config=llm_config,\n",
        "    code_execution_config=False,\n",
        "    human_input_mode=\"ALWAYS\",\n",
        ")"
      ]
    },
    {
      "cell_type": "code",
      "source": [
        "executor.functions"
      ],
      "metadata": {
        "colab": {
          "base_uri": "https://localhost:8080/"
        },
        "id": "RoEkys7-NFuq",
        "outputId": "4f32448d-18d2-4e16-aad4-552c38af6e5b"
      },
      "id": "RoEkys7-NFuq",
      "execution_count": 72,
      "outputs": [
        {
          "output_type": "execute_result",
          "data": {
            "text/plain": [
              "[<function __main__.get_df_from_pdf(pdf_path)>,\n",
              " <function __main__.acquire_response_from_csv(current_prompt)>]"
            ]
          },
          "metadata": {},
          "execution_count": 72
        }
      ]
    },
    {
      "cell_type": "code",
      "execution_count": 73,
      "id": "a9a725b0-9bb6-47e3-85df-27d9aadc9290",
      "metadata": {
        "height": 150,
        "id": "a9a725b0-9bb6-47e3-85df-27d9aadc9290"
      },
      "outputs": [],
      "source": [
        "code_executor_agent = ConversableAgent(\n",
        "    name=\"code_executor_agent\",\n",
        "    llm_config=False,\n",
        "    code_execution_config={\"executor\": executor},\n",
        "    human_input_mode=\"NEVER\",\n",
        "    default_auto_reply=\n",
        "    \"Please continue. If everything is done, reply 'TERMINATE'.\",\n",
        ")"
      ]
    },
    {
      "cell_type": "markdown",
      "id": "e8d7b57c",
      "metadata": {
        "id": "e8d7b57c"
      },
      "source": [
        "### Start the same task again!"
      ]
    },
    {
      "cell_type": "code",
      "source": [
        "import datetime\n",
        "\n",
        "today = datetime.datetime.now().date()\n",
        "print(today)"
      ],
      "metadata": {
        "colab": {
          "base_uri": "https://localhost:8080/"
        },
        "id": "iprtfklTsE9n",
        "outputId": "a3e061a2-cfb7-45d6-e140-d5b612dabde3"
      },
      "id": "iprtfklTsE9n",
      "execution_count": 74,
      "outputs": [
        {
          "output_type": "stream",
          "name": "stdout",
          "text": [
            "2024-08-03\n"
          ]
        }
      ]
    },
    {
      "cell_type": "code",
      "execution_count": 75,
      "id": "8895bb51-bcdd-4f63-a49f-858fc25c474f",
      "metadata": {
        "height": 133,
        "id": "8895bb51-bcdd-4f63-a49f-858fc25c474f",
        "colab": {
          "base_uri": "https://localhost:8080/"
        },
        "outputId": "355f87a2-e74d-45ee-c21f-2ed68c8c7858"
      },
      "outputs": [
        {
          "name": "stdout",
          "output_type": "stream",
          "text": [
            "Enter here: I have a book in this directory: /content/the-great-gatsby-small.pdf. I want to create df from pdf. \n",
            "code_executor_agent (to code_writer_agent):\n",
            "\n",
            "I have a book in this directory: /content/the-great-gatsby-small.pdf. I want to create df from pdf. \n",
            "\n",
            "--------------------------------------------------------------------------------\n",
            "Replying as code_writer_agent. Provide feedback to code_executor_agent. Press enter to skip and use auto-reply, or type 'exit' to end the conversation: \n",
            "\n",
            ">>>>>>>> NO HUMAN INPUT RECEIVED.\n",
            "\n",
            ">>>>>>>> USING AUTO REPLY...\n",
            "code_writer_agent (to code_executor_agent):\n",
            "\n",
            "To extract the data from your PDF document and convert it into a DataFrame, I'll use the `get_df_from_pdf` function provided. This function will read the PDF file located at `/content/the-great-gatsby-small.pdf` and convert its contents into a DataFrame format, assuming that the file contains structured data suitable for this operation.\n",
            "\n",
            "Let's proceed with extracting the data:\n",
            "\n",
            "```python\n",
            "# filename: extract_pdf_to_df.py\n",
            "from functions import get_df_from_pdf\n",
            "\n",
            "# Path to the PDF file\n",
            "pdf_path = '/content/the-great-gatsby-small.pdf'\n",
            "\n",
            "# Extract data from the PDF and convert it to a DataFrame\n",
            "df = get_df_from_pdf(pdf_path)\n",
            "\n",
            "# Display the DataFrame\n",
            "print(df)\n",
            "```\n",
            "\n",
            "Please save the above script as `extract_pdf_to_df.py` and execute it.\n",
            "\n",
            "--------------------------------------------------------------------------------\n",
            "\n",
            ">>>>>>>> EXECUTING CODE BLOCK (inferred language is python)...\n",
            "code_executor_agent (to code_writer_agent):\n",
            "\n",
            "exitcode: 0 (execution succeeded)\n",
            "Code output: \n",
            "  0%|          | 0/56 [00:00<?, ?it/s]\n",
            "  2%|▏         | 1/56 [00:00<00:51,  1.07it/s]\n",
            "  4%|▎         | 2/56 [00:02<00:59,  1.11s/it]\n",
            "  5%|▌         | 3/56 [00:02<00:47,  1.13it/s]\n",
            "  7%|▋         | 4/56 [00:03<00:48,  1.08it/s]\n",
            "  9%|▉         | 5/56 [00:04<00:46,  1.09it/s]\n",
            " 11%|█         | 6/56 [00:05<00:45,  1.09it/s]\n",
            " 12%|█▎        | 7/56 [00:06<00:45,  1.09it/s]\n",
            " 14%|█▍        | 8/56 [00:07<00:41,  1.15it/s]\n",
            " 16%|█▌        | 9/56 [00:08<00:40,  1.16it/s]\n",
            " 18%|█▊        | 10/56 [00:08<00:37,  1.23it/s]\n",
            " 20%|█▉        | 11/56 [00:09<00:37,  1.20it/s]\n",
            " 21%|██▏       | 12/56 [00:10<00:39,  1.11it/s]\n",
            " 23%|██▎       | 13/56 [00:11<00:36,  1.18it/s]\n",
            " 25%|██▌       | 14/56 [00:12<00:35,  1.18it/s]\n",
            " 27%|██▋       | 15/56 [00:12<00:32,  1.27it/s]\n",
            " 29%|██▊       | 16/56 [00:13<00:29,  1.36it/s]\n",
            " 30%|███       | 17/56 [00:14<00:27,  1.44it/s]\n",
            " 32%|███▏      | 18/56 [00:15<00:29,  1.29it/s]\n",
            " 34%|███▍      | 19/56 [00:16<00:29,  1.25it/s]\n",
            " 36%|███▌      | 20/56 [00:16<00:29,  1.20it/s]\n",
            " 38%|███▊      | 21/56 [00:17<00:27,  1.30it/s]\n",
            " 39%|███▉      | 22/56 [00:18<00:25,  1.35it/s]\n",
            " 41%|████      | 23/56 [00:18<00:22,  1.46it/s]\n",
            " 43%|████▎     | 24/56 [00:19<00:21,  1.48it/s]\n",
            " 45%|████▍     | 25/56 [00:20<00:26,  1.18it/s]\n",
            " 46%|████▋     | 26/56 [00:21<00:25,  1.17it/s]\n",
            " 48%|████▊     | 27/56 [00:22<00:25,  1.12it/s]\n",
            " 50%|█████     | 28/56 [00:23<00:25,  1.10it/s]\n",
            " 52%|█████▏    | 29/56 [00:24<00:23,  1.14it/s]\n",
            " 54%|█████▎    | 30/56 [00:25<00:22,  1.16it/s]\n",
            " 55%|█████▌    | 31/56 [00:25<00:21,  1.16it/s]\n",
            " 57%|█████▋    | 32/56 [00:26<00:21,  1.14it/s]\n",
            " 59%|█████▉    | 33/56 [00:27<00:18,  1.25it/s]\n",
            " 61%|██████    | 34/56 [00:28<00:16,  1.37it/s]\n",
            " 62%|██████▎   | 35/56 [00:28<00:14,  1.42it/s]\n",
            " 64%|██████▍   | 36/56 [00:29<00:14,  1.34it/s]\n",
            " 66%|██████▌   | 37/56 [00:30<00:13,  1.37it/s]\n",
            " 68%|██████▊   | 38/56 [00:30<00:12,  1.43it/s]\n",
            " 70%|██████▉   | 39/56 [00:31<00:12,  1.32it/s]\n",
            " 71%|███████▏  | 40/56 [00:32<00:12,  1.28it/s]\n",
            " 73%|███████▎  | 41/56 [00:33<00:12,  1.20it/s]\n",
            " 75%|███████▌  | 42/56 [00:34<00:11,  1.24it/s]\n",
            " 77%|███████▋  | 43/56 [00:34<00:09,  1.33it/s]\n",
            " 79%|███████▊  | 44/56 [00:35<00:08,  1.42it/s]\n",
            " 80%|████████  | 45/56 [00:36<00:07,  1.48it/s]\n",
            " 82%|████████▏ | 46/56 [00:36<00:06,  1.54it/s]\n",
            " 84%|████████▍ | 47/56 [00:37<00:05,  1.53it/s]\n",
            " 86%|████████▌ | 48/56 [00:38<00:06,  1.25it/s]\n",
            " 88%|████████▊ | 49/56 [00:39<00:05,  1.26it/s]\n",
            " 89%|████████▉ | 50/56 [00:40<00:04,  1.25it/s]\n",
            " 91%|█████████ | 51/56 [00:40<00:03,  1.30it/s]\n",
            " 93%|█████████▎| 52/56 [00:41<00:03,  1.28it/s]\n",
            " 95%|█████████▍| 53/56 [00:42<00:02,  1.41it/s]\n",
            " 96%|█████████▋| 54/56 [00:43<00:01,  1.31it/s]\n",
            " 98%|█████████▊| 55/56 [00:43<00:00,  1.26it/s]\n",
            "100%|██████████| 56/56 [00:44<00:00,  1.33it/s]\n",
            "100%|██████████| 56/56 [00:44<00:00,  1.26it/s]\n",
            "    index  ...                                            answers\n",
            "0       0  ...  Free eBooks at Planet eBook.comChapter In my...\n",
            "1       1  ...  In consequence I’m in-clined to reserve all ju...\n",
            "2       2  ...  The abnormal mind is quick to detect and attac...\n",
            "3       3  ...  Most of the con-fidences were unsought—frequen...\n",
            "4       4  ...   Reserving judgments is a matter of infinite hope\n",
            "5       5  ...  I am still a little afraid of missing somethin...\n",
            "6       6  ...  Conduct may be founded on the hard rock or the...\n",
            "7       7  ...  When I came back from the East last autumn I f...\n",
            "8       8  ...  Only Gatsby, the man who gives his name to thi...\n",
            "9       9  ...  If personality is an unbroken series of succes...\n",
            "10     10  ...  This responsiveness had nothing to do with tha...\n",
            "11     11  ...  No—Gatsby turned out all right at the end; it ...\n",
            "12     12  ...  The Car- Free eBooks at Planet eBook.comraway...\n",
            "13     13  ...  I graduated from New Haven in 1915, just a qua...\n",
            "14     14  ...  I enjoyed the counter-raid so thoroughly that ...\n",
            "15     15  ...  Instead of being the warm center of the world ...\n",
            "16     16  ...  Everybody I knew was in the bond business so I...\n",
            "17     17  ...  All my aunts and uncles talked it over as if t...\n",
            "18     18  ...  Father agreed to finance me for a year and aft...\n",
            "19     19  ...  He found the house, a weather beaten cardboard...\n",
            "20     20  ...  I had a dog, at least I had him for a few days...\n",
            "21     21  ...          And as I walked on I was lonely no longer\n",
            "22     22  ...   I was a guide, a pathfinder, an original settler\n",
            "23     23  ...  He had casu-ally conferred on me the freedom o...\n",
            "24     24  ...  I bought a dozen volumes on banking and credit...\n",
            "25     25  ...  And I had the high intention of reading many o...\n",
            "26     26  ...  I was rather literary in college—one year I wr...\n",
            "27     27  ...  It was on that slender riotous island which ex...\n",
            "28     28  ...  Twenty miles from the city a pair of enormous ...\n",
            "29     29  ...  They are not perfect ovals—like the egg in the...\n",
            "30     30  ...  To the wingless a more arresting phenomenon is...\n",
            "31     31  ...  My house was at the very tip of the egg, only ...\n",
            "32     32  ...  The one on my right was a colossal affair by a...\n",
            "33     33  ...                            It was Gatsby’s mansion\n",
            "34     34  ...                     Or rather, as I didn’t know Mr\n",
            "35     35  ...  Gatsby it was a mansion inhabited by a gentle-...\n",
            "36     36  ...  My own house was an eye-sore, but it was a sma...\n",
            "37     37  ...  Daisy was my second cousin once removed and I’...\n",
            "38     38  ...  And just after the war I spent two days with t...\n",
            "39     39  ...  His family were enormously wealthy—even in col...\n",
            "40     40  ...  It was hard to real-ize that a man in my own g...\n",
            "41     41  ...  They had spent a year in France, for no partic...\n",
            "42     42  ...  This was a permanent move, said Daisy over the...\n",
            "43     43  ...  Their house was even more elaborate than I exp...\n",
            "44     44  ...  The lawn started at the beach and ran toward t...\n",
            "45     45  ...  The front was broken by a line of French windo...\n",
            "46     46  ...  Now he was a sturdy, straw haired man of thirt...\n",
            "47     47  ...  Two shining, arrogant eyes had established dom...\n",
            "48     48  ...  Not even the effeminate swank of his riding cl...\n",
            "49     49  ...  It was a body capable of enor-mous leverage—a ...\n",
            "50     50  ...  There was a touch of paternal contempt in it, ...\n",
            "51     51  ...  ‘We’ll go inside.’We walked through a high hal...\n",
            "52     52  ...  The windows were ajar and gleaming white again...\n",
            "53     53  ...  A breeze blew through the room, blew curtains ...\n",
            "54     54  ...  They were both in white and their dresses were...\n",
            "55     55  ...  I must have stood for a few moments listening to \n",
            "\n",
            "[56 rows x 3 columns]\n",
            "\n",
            "\n",
            "--------------------------------------------------------------------------------\n",
            "Replying as code_writer_agent. Provide feedback to code_executor_agent. Press enter to skip and use auto-reply, or type 'exit' to end the conversation: i want to acquire response. This is my question: who is johnny\n",
            "code_writer_agent (to code_executor_agent):\n",
            "\n",
            "i want to acquire response. This is my question: who is johnny\n",
            "\n",
            "--------------------------------------------------------------------------------\n",
            "code_executor_agent (to code_writer_agent):\n",
            "\n",
            "Please continue. If everything is done, reply 'TERMINATE'.\n",
            "\n",
            "--------------------------------------------------------------------------------\n",
            "Replying as code_writer_agent. Provide feedback to code_executor_agent. Press enter to skip and use auto-reply, or type 'exit' to end the conversation: \n",
            "\n",
            ">>>>>>>> NO HUMAN INPUT RECEIVED.\n",
            "\n",
            ">>>>>>>> USING AUTO REPLY...\n",
            "code_writer_agent (to code_executor_agent):\n",
            "\n",
            "Let me proceed by using the function `acquire_response_from_csv` with your provided prompt \"who is johnny\" to generate the chatbot's response.\n",
            "\n",
            "Here's the Python script that you'll need to execute:\n",
            "\n",
            "```python\n",
            "# filename: acquire_response.py\n",
            "from functions import acquire_response_from_csv\n",
            "\n",
            "# Your question\n",
            "prompt = \"who is johnny\"\n",
            "\n",
            "# Acquire response from the chatbot\n",
            "response = acquire_response_from_csv(prompt)\n",
            "\n",
            "# Print the response\n",
            "print(response)\n",
            "```\n",
            "\n",
            "Please save the above script as `acquire_response.py` and execute it.\n",
            "When you receive the output, that will be the chatbot's response to your question about \"who is johnny\".\n",
            "\n",
            "--------------------------------------------------------------------------------\n",
            "\n",
            ">>>>>>>> EXECUTING CODE BLOCK (inferred language is python)...\n",
            "code_executor_agent (to code_writer_agent):\n",
            "\n",
            "exitcode: 1 (execution failed)\n",
            "Code output: Traceback (most recent call last):\n",
            "  File \"/content/coding/acquire_response.py\", line 8, in <module>\n",
            "    response = acquire_response_from_csv(prompt)\n",
            "  File \"/content/coding/functions.py\", line 45, in acquire_response_from_csv\n",
            "    response = chatbot.run_rag(openai_api_key, current_prompt, df, top_n=2)\n",
            "NameError: name 'df' is not defined\n",
            "\n",
            "\n",
            "--------------------------------------------------------------------------------\n",
            "Replying as code_writer_agent. Provide feedback to code_executor_agent. Press enter to skip and use auto-reply, or type 'exit' to end the conversation: df can be found locally from this path: /content/coding/questions_answers___content_the-great-gatsby-small.pdf.csv\n",
            "code_writer_agent (to code_executor_agent):\n",
            "\n",
            "df can be found locally from this path: /content/coding/questions_answers___content_the-great-gatsby-small.pdf.csv\n",
            "\n",
            "--------------------------------------------------------------------------------\n",
            "code_executor_agent (to code_writer_agent):\n",
            "\n",
            "Please continue. If everything is done, reply 'TERMINATE'.\n",
            "\n",
            "--------------------------------------------------------------------------------\n",
            "Replying as code_writer_agent. Provide feedback to code_executor_agent. Press enter to skip and use auto-reply, or type 'exit' to end the conversation: \n",
            "\n",
            ">>>>>>>> NO HUMAN INPUT RECEIVED.\n",
            "\n",
            ">>>>>>>> USING AUTO REPLY...\n",
            "code_writer_agent (to code_executor_agent):\n",
            "\n",
            "It seems there was a mistake in my script, specifically in how the function from the script was being called. I'll need to modify the script to ensure that the required `df` parameter is defined and correctly used.\n",
            "\n",
            "However, given that it seems you already have access to a CSV file which could be used with this function, let's first check its content to ensure it contains the expected data and structure. Here's the revised Python code to load and display the content of the CSV file before proceeding further:\n",
            "\n",
            "```python\n",
            "# filename: check_csv_content.py\n",
            "import pandas as pd\n",
            "\n",
            "# Path to the CSV file\n",
            "csv_path = '/content/coding/questions_answers___content_the-great-gatsby-small.pdf.csv'\n",
            "\n",
            "# Load the DataFrame from the CSV file\n",
            "df = pd.read_csv(csv_path)\n",
            "\n",
            "# Display the DataFrame to check its content and structure\n",
            "print(df.head())\n",
            "```\n",
            "\n",
            "Please save the above script as `check_csv_content.py` and execute it. This will help us confirm the structure of the CSV data that the `acquire_response_from_csv` function is likely expecting.\n",
            "\n",
            "\n",
            "--------------------------------------------------------------------------------\n",
            "\n",
            ">>>>>>>> EXECUTING CODE BLOCK (inferred language is python)...\n",
            "code_executor_agent (to code_writer_agent):\n",
            "\n",
            "exitcode: 0 (execution succeeded)\n",
            "Code output:    index  ...                                            answers\n",
            "0      0  ...  Free eBooks at Planet eBook.comChapter In my...\n",
            "1      1  ...  In consequence I’m in-clined to reserve all ju...\n",
            "2      2  ...  The abnormal mind is quick to detect and attac...\n",
            "3      3  ...  Most of the con-fidences were unsought—frequen...\n",
            "4      4  ...   Reserving judgments is a matter of infinite hope\n",
            "\n",
            "[5 rows x 3 columns]\n",
            "\n",
            "\n",
            "--------------------------------------------------------------------------------\n",
            "Replying as code_writer_agent. Provide feedback to code_executor_agent. Press enter to skip and use auto-reply, or type 'exit' to end the conversation: exit\n"
          ]
        }
      ],
      "source": [
        "chat_result = code_executor_agent.initiate_chat(\n",
        "    code_writer_agent,\n",
        "    message=input(\"Enter here: \")\n",
        ")"
      ]
    },
    {
      "cell_type": "markdown",
      "id": "3c4bb718",
      "metadata": {
        "id": "3c4bb718"
      },
      "source": [
        "### Plot the results"
      ]
    },
    {
      "cell_type": "code",
      "source": [
        "import os\n",
        "from IPython.display import Image"
      ],
      "metadata": {
        "id": "mTCz0iaqsd83"
      },
      "id": "mTCz0iaqsd83",
      "execution_count": null,
      "outputs": []
    },
    {
      "cell_type": "code",
      "execution_count": null,
      "id": "a930c007-dd56-4da6-b542-902312ed27dd",
      "metadata": {
        "height": 31,
        "id": "a930c007-dd56-4da6-b542-902312ed27dd",
        "colab": {
          "base_uri": "https://localhost:8080/",
          "height": 537
        },
        "outputId": "3c8b3064-47ec-44a9-f8c3-cac03196d58d"
      },
      "outputs": [
        {
          "output_type": "execute_result",
          "data": {
            "image/png": "[encoded data removed]",
            "text/plain": [
              "<IPython.core.display.Image object>"
            ]
          },
          "metadata": {},
          "execution_count": 19
        }
      ],
      "source": [
        "Image(os.path.join(\"coding\", \"stock_prices_YTD_plot.png\"))"
      ]
    },
    {
      "cell_type": "markdown",
      "id": "c65bac5e",
      "metadata": {
        "id": "c65bac5e"
      },
      "source": [
        "**Note**: The agent will automatically save the code in a .py file and the plot in a .png file. To access and check the files generated by the agents, go to the `File` menu and select `Open....` Then, open the folder named `coding` to find all the generated files."
      ]
    },
    {
      "cell_type": "markdown",
      "source": [
        "## Execute as `run.py` Script\n",
        "\n",
        "To run the following python script, you'll need to create a `requirements.txt` file with the following libraries.\n",
        "\n",
        "```txt\n",
        "yfinance\n",
        "openai\n",
        "pyautogen\n",
        "```\n",
        "\n",
        "Then you can create a `run.py` python script with the following code. You can use it to execute in a terminal window, i.e. `python run.py`.\n",
        "\n",
        "```py\n",
        "import yfinance\n",
        "import matplotlib.pyplot as plt\n",
        "from autogen import ConversableAgent, AssistantAgent\n",
        "from autogen.coding import LocalCommandLineCodeExecutor\n",
        "import datetime\n",
        "import os\n",
        "\n",
        "\n",
        "from google.colab import userdata\n",
        "api_key = \"sk-xxx\"\n",
        "\n",
        "\n",
        "# Define functions\n",
        "def get_stock_prices(stock_symbols, start_date, end_date):\n",
        "    \"\"\"Get the stock prices for the given stock symbols between\n",
        "    the start and end dates.\n",
        "\n",
        "    Args:\n",
        "        stock_symbols (str or list): The stock symbols to get the\n",
        "        prices for.\n",
        "        start_date (str): The start date in the format\n",
        "        'YYYY-MM-DD'.\n",
        "        end_date (str): The end date in the format 'YYYY-MM-DD'.\n",
        "\n",
        "    Returns:\n",
        "        pandas.DataFrame: The stock prices for the given stock\n",
        "        symbols indexed by date, with one column per stock\n",
        "        symbol.\n",
        "    \"\"\"\n",
        "    import yfinance\n",
        "\n",
        "    stock_data = yfinance.download(\n",
        "        stock_symbols, start=start_date, end=end_date\n",
        "    )\n",
        "    return stock_data.get(\"Close\")\n",
        "\n",
        "def plot_stock_prices(stock_prices, filename):\n",
        "    \"\"\"Plot the stock prices for the given stock symbols.\n",
        "\n",
        "    Args:\n",
        "        stock_prices (pandas.DataFrame): The stock prices for the\n",
        "        given stock symbols.\n",
        "    \"\"\"\n",
        "    import matplotlib.pyplot as plt\n",
        "\n",
        "    plt.figure(figsize=(10, 5))\n",
        "    for column in stock_prices.columns:\n",
        "        plt.plot(\n",
        "            stock_prices.index, stock_prices[column], label=column\n",
        "                )\n",
        "    plt.title(\"Stock Prices\")\n",
        "    plt.xlabel(\"Date\")\n",
        "    plt.ylabel(\"Price\")\n",
        "    plt.grid(True)\n",
        "    plt.savefig(filename)\n",
        "\n",
        "# Setup agents\n",
        "llm_config = {\"model\": \"gpt-4-turbo\", \"api_key\": api_key} # Replace with your actual model configuration\n",
        "\n",
        "code_writer_agent = AssistantAgent(\n",
        "    name=\"code_writer_agent\",\n",
        "    llm_config=llm_config,\n",
        "    code_execution_config=False,\n",
        "    human_input_mode=\"NEVER\",\n",
        ")\n",
        "\n",
        "code_writer_agent_system_message = code_writer_agent.system_message\n",
        "\n",
        "executor = LocalCommandLineCodeExecutor(\n",
        "    timeout=60,\n",
        "    work_dir=\"coding\",\n",
        "    functions=[get_stock_prices, plot_stock_prices],\n",
        ")\n",
        "\n",
        "code_writer_agent_system_message += executor.format_functions_for_prompt()\n",
        "\n",
        "code_writer_agent = ConversableAgent(\n",
        "    name=\"code_writer_agent\",\n",
        "    system_message=code_writer_agent_system_message,\n",
        "    llm_config=llm_config,\n",
        "    code_execution_config=False,\n",
        "    human_input_mode=\"ALWAYS\",\n",
        ")\n",
        "\n",
        "code_executor_agent = ConversableAgent(\n",
        "    name=\"code_executor_agent\",\n",
        "    llm_config=False,\n",
        "    code_execution_config={\"executor\": executor},\n",
        "    human_input_mode=\"ALWAYS\",\n",
        "    default_auto_reply=\"Please continue. If everything is done, reply 'TERMINATE'.\",\n",
        ")\n",
        "\n",
        "# Get today's date\n",
        "today = datetime.datetime.now().date()\n",
        "print(today)\n",
        "\n",
        "# Initiate chat\n",
        "chat_result = code_executor_agent.initiate_chat(\n",
        "    code_writer_agent,\n",
        "    message=f\"Today is {today}. Download the stock prices YTD for NVDA and TSLA and create a plot. Make sure the code is in a markdown code block and save the figure to a file stock_prices_YTD_plot.png.\"\n",
        ")\n",
        "\n",
        "# Display the generated plot\n",
        "plot_path = os.path.join(\"coding\", \"stock_prices_YTD_plot.png\")\n",
        "if os.path.exists(plot_path):\n",
        "    from PIL import Image\n",
        "    img = Image.open(plot_path)\n",
        "    img.show()\n",
        "else:\n",
        "    print(\"Plot not found. Ensure the script has executed correctly and the file path is correct.\")\n",
        "\n",
        "```"
      ],
      "metadata": {
        "id": "qZvDE2q02Jw6"
      },
      "id": "qZvDE2q02Jw6"
    },
    {
      "cell_type": "code",
      "source": [],
      "metadata": {
        "id": "2lKxRdJ62NF3"
      },
      "id": "2lKxRdJ62NF3",
      "execution_count": null,
      "outputs": []
    }
  ],
  "metadata": {
    "kernelspec": {
      "display_name": "Python 3",
      "name": "python3"
    },
    "language_info": {
      "codemirror_mode": {
        "name": "ipython",
        "version": 3
      },
      "file_extension": ".py",
      "mimetype": "text/x-python",
      "name": "python",
      "nbconvert_exporter": "python",
      "pygments_lexer": "ipython3",
      "version": "3.11.9"
    },
    "colab": {
      "provenance": [],
      "collapsed_sections": [
        "EO2GmaXdr3tf",
        "63ff7175",
        "64d3cc77"
      ],
      "toc_visible": true,
      "machine_shape": "hm",
      "gpuType": "T4"
    },
    "accelerator": "GPU"
  },
  "nbformat": 4,
  "nbformat_minor": 5
}