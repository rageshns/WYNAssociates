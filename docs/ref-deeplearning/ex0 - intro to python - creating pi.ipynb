{
  "cells": [
    {
      "cell_type": "markdown",
      "metadata": {
        "id": "3AArWF6_azgf"
      },
      "source": [
        "## Libraries\n",
        "\n",
        "We use `numpy` to generate random numbers. We use `imgeio` to create animations, e.g. the `GIF` file. We use `matplotlib` to create plots of which we will save as images. We use `tqdm` to create progress bar for the for loop we will use."
      ]
    },
    {
      "cell_type": "code",
      "execution_count": 1,
      "metadata": {
        "id": "89k2LKWbazgh"
      },
      "outputs": [],
      "source": [
        "import numpy as np\n",
        "import imageio as iio\n",
        "import matplotlib.pyplot as plt\n",
        "from tqdm import tqdm"
      ]
    },
    {
      "cell_type": "markdown",
      "metadata": {
        "id": "4xzyEzA7azgi"
      },
      "source": [
        "## Algorithm\n",
        "\n",
        "We need to create 2 plots using `matplotlib`. The first plot we drop a bunch of dots on the circle of which we color code the dots that has $x$ and $y$ coordinates that is under the constraint: $x^2 + y^2 < 1$. The second plot we plot the value of estimated $\\pi$."
      ]
    },
    {
      "cell_type": "code",
      "source": [
        "!mkdir output"
      ],
      "metadata": {
        "id": "ZN5wfTxPbFGX"
      },
      "execution_count": 4,
      "outputs": []
    },
    {
      "cell_type": "code",
      "source": [
        "import math"
      ],
      "metadata": {
        "id": "UcXghRnIbgZF"
      },
      "execution_count": 8,
      "outputs": []
    },
    {
      "cell_type": "code",
      "execution_count": 12,
      "metadata": {
        "colab": {
          "base_uri": "https://localhost:8080/"
        },
        "id": "RqUtYt9Eazgj",
        "outputId": "fab38634-2a58-4a24-dbc2-7f9dd90816fe"
      },
      "outputs": [
        {
          "output_type": "stream",
          "name": "stderr",
          "text": [
            "100%|██████████| 100/100 [01:23<00:00,  1.20it/s]\n"
          ]
        }
      ],
      "source": [
        "n_range = np.arange(100, 20001, 100)\n",
        "list_of_pi = list(np.repeat(None, len(n_range)))\n",
        "\n",
        "for i in tqdm(range(len(n_range))):\n",
        "    plt.figure(figsize=(10, 4))  # Create a new figure with specified size\n",
        "    n = n_range[i]  # Current sample size\n",
        "    x = np.random.uniform(0, 1, n)  # Generate n random x-coordinates in [0, 1]\n",
        "    y = np.random.uniform(0, 1, n)  # Generate n random y-coordinates in [0, 1]\n",
        "    colors = ((x**2 + y**2) < 1).astype(int)  # Determine points inside unit circle\n",
        "    this_pi = colors.sum()/n*4  # Calculate the estimate of pi\n",
        "    list_of_pi[i] = this_pi  # Store the pi estimate in the list\n",
        "    plt.subplot(1, 2, 1)  # Prepare to plot in the first subplot\n",
        "    plt.title(f'Sample size: {n_range[i]}')  # Set title with current sample size\n",
        "    plt.scatter(x, y, c=colors)  # Plot points with colors based on their position\n",
        "    plt.subplot(1, 2, 2)  # Prepare to plot in the second subplot\n",
        "    plt.title(f'Estimated pi = {np.round(this_pi,3)} vs. Actual pi = {np.round(math.pi,3)}')  # Set title with current pi estimate\n",
        "    plt.plot(n_range[:i+1], list_of_pi[:i+1], '-ok')  # Plot the pi estimate progression\n",
        "    plt.axhline(y=math.pi, color='r', linestyle='-')  # Add a line for the actual value of pi (3.14)\n",
        "    plt.savefig(\n",
        "        f'./output/img_{i}.png',\n",
        "        transparent=False,\n",
        "        facecolor='white'\n",
        "    )  # Save the current figure\n",
        "    plt.close()  # Close the figure to free memory\n"
      ]
    },
    {
      "cell_type": "markdown",
      "metadata": {
        "id": "3Mt3SQJzazgj"
      },
      "source": [
        "## Animation\n",
        "\n",
        "We use `imageio` to create the animation. Running the above code, we have saved many plots in a sub-folder called `output`. We will now go into the folder and grab all the images. We use `imageio` to pack all these images together into an animation and save it in the main directory."
      ]
    },
    {
      "cell_type": "code",
      "execution_count": 13,
      "metadata": {
        "colab": {
          "base_uri": "https://localhost:8080/"
        },
        "id": "EA4u1xltazgj",
        "outputId": "c6c82194-e0bb-4ffa-fb69-1ae40d5f6998"
      },
      "outputs": [
        {
          "output_type": "stream",
          "name": "stderr",
          "text": [
            "100%|██████████| 100/100 [00:00<00:00, 117.60it/s]\n"
          ]
        }
      ],
      "source": [
        "frames = []\n",
        "for i in tqdm(range(len(n_range))):\n",
        "    image = iio.v2.imread(f'./output/img_{i}.png')\n",
        "    frames.append(image)\n",
        "\n",
        "iio.mimsave(\n",
        "    './pi.gif', # output gif\n",
        "    frames,          # array of input frames\n",
        "    fps = 5)         # optional: frames per second\n"
      ]
    },
    {
      "cell_type": "markdown",
      "metadata": {
        "id": "FykOuyjDazgk"
      },
      "source": [
        "Enjoy your animation! You can check out the final product [here](https://github.com/yiqiao-yin/WYNAssociates/blob/main/figs/pi.gif)."
      ]
    }
  ],
  "metadata": {
    "kernelspec": {
      "display_name": ".venv_specimen",
      "language": "python",
      "name": "python3"
    },
    "language_info": {
      "codemirror_mode": {
        "name": "ipython",
        "version": 3
      },
      "file_extension": ".py",
      "mimetype": "text/x-python",
      "name": "python",
      "nbconvert_exporter": "python",
      "pygments_lexer": "ipython3",
      "version": "3.9.7"
    },
    "orig_nbformat": 4,
    "vscode": {
      "interpreter": {
        "hash": "c806452b2bc06941f39b1e669d8e4e56c296f09b7ac9df653e29bb221a7c7e72"
      }
    },
    "colab": {
      "provenance": []
    }
  },
  "nbformat": 4,
  "nbformat_minor": 0
}