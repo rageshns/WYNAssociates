{
  "cells": [
    {
      "cell_type": "markdown",
      "metadata": {
        "id": "LEO272XuOmKC"
      },
      "source": [
        "# Next-Frame Video Prediction with Convolutional LSTMs\n",
        "\n",
        "**Author:** [Amogh Joshi](https://github.com/amogh7joshi)<br>\n",
        "**Date created:** 2021/06/02<br>\n",
        "**Last modified:** 2023/11/10<br>\n",
        "**Description:** How to build and train a convolutional LSTM model for next-frame video prediction."
      ]
    },
    {
      "cell_type": "markdown",
      "metadata": {
        "id": "crkzpIjXOmKD"
      },
      "source": [
        "## Introduction\n",
        "\n",
        "The\n",
        "[Convolutional LSTM](https://papers.nips.cc/paper/2015/file/07563a3fe3bbe7e3ba84431ad9d055af-Paper.pdf)\n",
        "architectures bring together time series processing and computer vision by\n",
        "introducing a convolutional recurrent cell in a LSTM layer. In this example, we will explore the\n",
        "Convolutional LSTM model in an application to next-frame prediction, the process\n",
        "of predicting what video frames come next given a series of past frames."
      ]
    },
    {
      "cell_type": "markdown",
      "metadata": {
        "id": "SLdtFHzmOmKD"
      },
      "source": [
        "## Setup"
      ]
    },
    {
      "cell_type": "code",
      "execution_count": 1,
      "metadata": {
        "id": "UOm_0NRkOmKE"
      },
      "outputs": [],
      "source": [
        "import numpy as np\n",
        "import matplotlib.pyplot as plt\n",
        "\n",
        "import keras\n",
        "from keras import layers\n",
        "\n",
        "import io\n",
        "import imageio\n",
        "from IPython.display import Image, display\n",
        "from ipywidgets import widgets, Layout, HBox"
      ]
    },
    {
      "cell_type": "markdown",
      "metadata": {
        "id": "VyMI6jyPOmKE"
      },
      "source": [
        "## Dataset Construction\n",
        "\n",
        "For this example, we will be using the\n",
        "[Moving MNIST](http://www.cs.toronto.edu/~nitish/unsupervised_video/)\n",
        "dataset.\n",
        "\n",
        "We will download the dataset and then construct and\n",
        "preprocess training and validation sets.\n",
        "\n",
        "For next-frame prediction, our model will be using a previous frame,\n",
        "which we'll call `f_n`, to predict a new frame, called `f_(n + 1)`.\n",
        "To allow the model to create these predictions, we'll need to process\n",
        "the data such that we have \"shifted\" inputs and outputs, where the\n",
        "input data is frame `x_n`, being used to predict frame `y_(n + 1)`."
      ]
    },
    {
      "cell_type": "code",
      "execution_count": 2,
      "metadata": {
        "id": "KFDXdhSCOmKE",
        "colab": {
          "base_uri": "https://localhost:8080/"
        },
        "outputId": "945a8e75-00af-46d8-d3b6-8877f46d4de9"
      },
      "outputs": [
        {
          "output_type": "stream",
          "name": "stdout",
          "text": [
            "Downloading data from http://www.cs.toronto.edu/~nitish/unsupervised_video/mnist_test_seq.npy\n",
            "819200096/819200096 [==============================] - 28s 0us/step\n",
            "Training Dataset Shapes: (900, 19, 64, 64, 1), (900, 19, 64, 64, 1)\n",
            "Validation Dataset Shapes: (100, 19, 64, 64, 1), (100, 19, 64, 64, 1)\n"
          ]
        }
      ],
      "source": [
        "# Download and load the dataset.\n",
        "fpath = keras.utils.get_file(\n",
        "    \"moving_mnist.npy\",\n",
        "    \"http://www.cs.toronto.edu/~nitish/unsupervised_video/mnist_test_seq.npy\",\n",
        ")\n",
        "dataset = np.load(fpath)\n",
        "\n",
        "# Swap the axes representing the number of frames and number of data samples.\n",
        "dataset = np.swapaxes(dataset, 0, 1)\n",
        "# We'll pick out 1000 of the 10000 total examples and use those.\n",
        "dataset = dataset[:1000, ...]\n",
        "# Add a channel dimension since the images are grayscale.\n",
        "dataset = np.expand_dims(dataset, axis=-1)\n",
        "\n",
        "# Split into train and validation sets using indexing to optimize memory.\n",
        "indexes = np.arange(dataset.shape[0])\n",
        "np.random.shuffle(indexes)\n",
        "train_index = indexes[: int(0.9 * dataset.shape[0])]\n",
        "val_index = indexes[int(0.9 * dataset.shape[0]) :]\n",
        "train_dataset = dataset[train_index]\n",
        "val_dataset = dataset[val_index]\n",
        "\n",
        "# Normalize the data to the 0-1 range.\n",
        "train_dataset = train_dataset / 255\n",
        "val_dataset = val_dataset / 255\n",
        "\n",
        "\n",
        "# We'll define a helper function to shift the frames, where\n",
        "# `x` is frames 0 to n - 1, and `y` is frames 1 to n.\n",
        "def create_shifted_frames(data):\n",
        "    x = data[:, 0 : data.shape[1] - 1, :, :]\n",
        "    y = data[:, 1 : data.shape[1], :, :]\n",
        "    return x, y\n",
        "\n",
        "\n",
        "# Apply the processing function to the datasets.\n",
        "x_train, y_train = create_shifted_frames(train_dataset)\n",
        "x_val, y_val = create_shifted_frames(val_dataset)\n",
        "\n",
        "# Inspect the dataset.\n",
        "print(\"Training Dataset Shapes: \" + str(x_train.shape) + \", \" + str(y_train.shape))\n",
        "print(\"Validation Dataset Shapes: \" + str(x_val.shape) + \", \" + str(y_val.shape))"
      ]
    },
    {
      "cell_type": "markdown",
      "metadata": {
        "id": "KsDeIsFNOmKF"
      },
      "source": [
        "## Data Visualization\n",
        "\n",
        "Our data consists of sequences of frames, each of which\n",
        "are used to predict the upcoming frame. Let's take a look\n",
        "at some of these sequential frames."
      ]
    },
    {
      "cell_type": "code",
      "execution_count": 3,
      "metadata": {
        "id": "-bUSUZI-OmKF",
        "colab": {
          "base_uri": "https://localhost:8080/",
          "height": 692
        },
        "outputId": "d272c3b2-b32f-40fb-9c33-b4277fd01bf2"
      },
      "outputs": [
        {
          "output_type": "stream",
          "name": "stdout",
          "text": [
            "Displaying frames for example 210.\n"
          ]
        },
        {
          "output_type": "display_data",
          "data": {
            "text/plain": [
              "<Figure size 1000x800 with 20 Axes>"
            ],
            "image/png": "[encoded data removed]"
          },
          "metadata": {}
        }
      ],
      "source": [
        "# Construct a figure on which we will visualize the images.\n",
        "fig, axes = plt.subplots(4, 5, figsize=(10, 8))\n",
        "\n",
        "# Plot each of the sequential images for one random data example.\n",
        "data_choice = np.random.choice(range(len(train_dataset)), size=1)[0]\n",
        "for idx, ax in enumerate(axes.flat):\n",
        "    ax.imshow(np.squeeze(train_dataset[data_choice][idx]), cmap=\"gray\")\n",
        "    ax.set_title(f\"Frame {idx + 1}\")\n",
        "    ax.axis(\"off\")\n",
        "\n",
        "# Print information and display the figure.\n",
        "print(f\"Displaying frames for example {data_choice}.\")\n",
        "plt.show()"
      ]
    },
    {
      "cell_type": "markdown",
      "metadata": {
        "id": "eBoyo7zmOmKF"
      },
      "source": [
        "## Model Construction\n",
        "\n",
        "To build a Convolutional LSTM model, we will use the\n",
        "`ConvLSTM2D` layer, which will accept inputs of shape\n",
        "`(batch_size, num_frames, width, height, channels)`, and return\n",
        "a prediction movie of the same shape."
      ]
    },
    {
      "cell_type": "code",
      "execution_count": 5,
      "metadata": {
        "id": "4_Z4z62eOmKF",
        "colab": {
          "base_uri": "https://localhost:8080/"
        },
        "outputId": "258f9555-0dba-4017-cf2a-3c5ecc567a10"
      },
      "outputs": [
        {
          "output_type": "stream",
          "name": "stdout",
          "text": [
            "Model: \"model_1\"\n",
            "_________________________________________________________________\n",
            " Layer (type)                Output Shape              Param #   \n",
            "=================================================================\n",
            " input_2 (InputLayer)        [(None, None, 64, 64, 1   0         \n",
            "                             )]                                  \n",
            "                                                                 \n",
            " conv_lstm2d_3 (ConvLSTM2D)  (None, None, 64, 64, 64   416256    \n",
            "                             )                                   \n",
            "                                                                 \n",
            " batch_normalization_2 (Bat  (None, None, 64, 64, 64   256       \n",
            " chNormalization)            )                                   \n",
            "                                                                 \n",
            " self_attention_3 (SelfAtte  (None, None, 64, 64, 64   16640     \n",
            " ntion)                      )                                   \n",
            "                                                                 \n",
            " conv_lstm2d_4 (ConvLSTM2D)  (None, None, 64, 64, 64   295168    \n",
            "                             )                                   \n",
            "                                                                 \n",
            " batch_normalization_3 (Bat  (None, None, 64, 64, 64   256       \n",
            " chNormalization)            )                                   \n",
            "                                                                 \n",
            " self_attention_4 (SelfAtte  (None, None, 64, 64, 64   16640     \n",
            " ntion)                      )                                   \n",
            "                                                                 \n",
            " conv_lstm2d_5 (ConvLSTM2D)  (None, None, 64, 64, 64   33024     \n",
            "                             )                                   \n",
            "                                                                 \n",
            " self_attention_5 (SelfAtte  (None, None, 64, 64, 64   16640     \n",
            " ntion)                      )                                   \n",
            "                                                                 \n",
            " conv3d_1 (Conv3D)           (None, None, 64, 64, 1)   1729      \n",
            "                                                                 \n",
            "=================================================================\n",
            "Total params: 796609 (3.04 MB)\n",
            "Trainable params: 796353 (3.04 MB)\n",
            "Non-trainable params: 256 (1.00 KB)\n",
            "_________________________________________________________________\n"
          ]
        }
      ],
      "source": [
        "from tensorflow import keras\n",
        "from tensorflow.keras import layers\n",
        "import tensorflow as tf\n",
        "\n",
        "class SelfAttention(layers.Layer):\n",
        "    def __init__(self, **kwargs):\n",
        "        super(SelfAttention, self).__init__(**kwargs)\n",
        "\n",
        "    def build(self, input_shape):\n",
        "        self.query_dense = layers.Dense(units=input_shape[-1])\n",
        "        self.key_dense = layers.Dense(units=input_shape[-1])\n",
        "        self.value_dense = layers.Dense(units=input_shape[-1])\n",
        "        self.combine_heads = layers.Dense(units=input_shape[-1])\n",
        "\n",
        "    def call(self, inputs):\n",
        "        # Generate query, key, value tensors\n",
        "        query = self.query_dense(inputs)\n",
        "        key = self.key_dense(inputs)\n",
        "        value = self.value_dense(inputs)\n",
        "\n",
        "        # Calculate attention scores\n",
        "        scores = tf.matmul(query, key, transpose_b=True)\n",
        "        distribution = tf.nn.softmax(scores)\n",
        "        attention_output = tf.matmul(distribution, value)\n",
        "\n",
        "        # Combine heads and add residual connection\n",
        "        combined_output = self.combine_heads(attention_output) + inputs\n",
        "        return combined_output\n",
        "\n",
        "# Define the model with attention\n",
        "def build_attention_model(input_shape):\n",
        "    inp = layers.Input(shape=input_shape)\n",
        "\n",
        "    x = layers.ConvLSTM2D(filters=64, kernel_size=(5, 5), padding=\"same\", return_sequences=True, activation=\"relu\")(inp)\n",
        "    x = layers.BatchNormalization()(x)\n",
        "    x = SelfAttention()(x)\n",
        "\n",
        "    x = layers.ConvLSTM2D(filters=64, kernel_size=(3, 3), padding=\"same\", return_sequences=True, activation=\"relu\")(x)\n",
        "    x = layers.BatchNormalization()(x)\n",
        "    x = SelfAttention()(x)\n",
        "\n",
        "    x = layers.ConvLSTM2D(filters=64, kernel_size=(1, 1), padding=\"same\", return_sequences=True, activation=\"relu\")(x)\n",
        "    x = SelfAttention()(x)\n",
        "\n",
        "    x = layers.Conv3D(filters=1, kernel_size=(3, 3, 3), activation=\"sigmoid\", padding=\"same\")(x)\n",
        "\n",
        "    model = keras.models.Model(inp, x)\n",
        "    return model\n",
        "\n",
        "# Assuming `x_train.shape` is known, replace `input_shape` with the shape of your training data, excluding the batch size.\n",
        "# For example, if x_train.shape is (900, 19, 64, 64, 1), then input_shape would be (19, 64, 64, 1).\n",
        "model = build_attention_model(input_shape=(None, *x_train.shape[2:]))\n",
        "\n",
        "# Compile the model\n",
        "model.compile(optimizer='adam', loss='mean_squared_error')\n",
        "\n",
        "# Display the model summary\n",
        "model.summary()"
      ]
    },
    {
      "cell_type": "code",
      "source": [
        "model.compile(\n",
        "    loss=keras.losses.binary_crossentropy,\n",
        "    optimizer=keras.optimizers.Adam(),\n",
        ")"
      ],
      "metadata": {
        "id": "nM0qFmdbf49K"
      },
      "execution_count": 6,
      "outputs": []
    },
    {
      "cell_type": "markdown",
      "metadata": {
        "id": "GZXFOnAdOmKF"
      },
      "source": [
        "## Model Training\n",
        "\n",
        "With our model and data constructed, we can now train the model."
      ]
    },
    {
      "cell_type": "code",
      "source": [
        "import tensorflow as tf"
      ],
      "metadata": {
        "id": "psoByGwfPwB7"
      },
      "execution_count": 7,
      "outputs": []
    },
    {
      "cell_type": "code",
      "source": [
        "tf.test.gpu_device_name()"
      ],
      "metadata": {
        "colab": {
          "base_uri": "https://localhost:8080/",
          "height": 36
        },
        "id": "eYXYYSUAPizU",
        "outputId": "f19e987f-0e94-4903-e57e-a24fd7acc6d8"
      },
      "execution_count": 8,
      "outputs": [
        {
          "output_type": "execute_result",
          "data": {
            "text/plain": [
              "'/device:GPU:0'"
            ],
            "application/vnd.google.colaboratory.intrinsic+json": {
              "type": "string"
            }
          },
          "metadata": {},
          "execution_count": 8
        }
      ]
    },
    {
      "cell_type": "code",
      "execution_count": null,
      "metadata": {
        "id": "JdvZBa_XOmKF",
        "colab": {
          "base_uri": "https://localhost:8080/"
        },
        "outputId": "9f43563d-e7a8-4336-eae7-1d1d68d78f85"
      },
      "outputs": [
        {
          "output_type": "stream",
          "name": "stdout",
          "text": [
            "Epoch 1/500\n",
            "180/180 [==============================] - 53s 293ms/step - loss: 0.0288 - val_loss: 0.1994 - lr: 0.0010\n",
            "Epoch 2/500\n",
            "180/180 [==============================] - 53s 292ms/step - loss: 0.0273 - val_loss: 0.1153 - lr: 0.0010\n",
            "Epoch 3/500\n",
            "180/180 [==============================] - 53s 292ms/step - loss: 0.0266 - val_loss: 0.0318 - lr: 0.0010\n",
            "Epoch 4/500\n",
            "180/180 [==============================] - 53s 292ms/step - loss: 0.0262 - val_loss: 0.0268 - lr: 0.0010\n",
            "Epoch 5/500\n",
            "180/180 [==============================] - 53s 292ms/step - loss: 0.0258 - val_loss: 0.0262 - lr: 0.0010\n",
            "Epoch 6/500\n",
            "180/180 [==============================] - 53s 292ms/step - loss: 0.0254 - val_loss: 0.0256 - lr: 0.0010\n",
            "Epoch 7/500\n",
            "180/180 [==============================] - 53s 292ms/step - loss: 0.0251 - val_loss: 0.0256 - lr: 0.0010\n",
            "Epoch 8/500\n",
            "180/180 [==============================] - 53s 292ms/step - loss: 0.0250 - val_loss: 0.0256 - lr: 0.0010\n",
            "Epoch 9/500\n",
            "180/180 [==============================] - 53s 292ms/step - loss: 0.0249 - val_loss: 0.0256 - lr: 0.0010\n",
            "Epoch 10/500\n",
            "180/180 [==============================] - 53s 292ms/step - loss: 0.0247 - val_loss: 0.0256 - lr: 0.0010\n",
            "Epoch 11/500\n",
            "180/180 [==============================] - 53s 292ms/step - loss: 0.0247 - val_loss: 0.0252 - lr: 0.0010\n",
            "Epoch 12/500\n",
            "180/180 [==============================] - 53s 292ms/step - loss: 0.0246 - val_loss: 0.0254 - lr: 0.0010\n",
            "Epoch 13/500\n",
            "180/180 [==============================] - 53s 292ms/step - loss: 0.0246 - val_loss: 0.0249 - lr: 0.0010\n",
            "Epoch 14/500\n",
            "180/180 [==============================] - 53s 292ms/step - loss: 0.0245 - val_loss: 0.0247 - lr: 0.0010\n",
            "Epoch 15/500\n",
            "180/180 [==============================] - 53s 292ms/step - loss: 0.0245 - val_loss: 0.0259 - lr: 0.0010\n",
            "Epoch 16/500\n",
            "180/180 [==============================] - 53s 292ms/step - loss: 0.0245 - val_loss: 0.0249 - lr: 0.0010\n",
            "Epoch 17/500\n",
            "180/180 [==============================] - 53s 292ms/step - loss: 0.0244 - val_loss: 0.0250 - lr: 0.0010\n",
            "Epoch 18/500\n",
            "180/180 [==============================] - 53s 292ms/step - loss: 0.0244 - val_loss: 0.0259 - lr: 0.0010\n",
            "Epoch 19/500\n",
            "180/180 [==============================] - 53s 292ms/step - loss: 0.0243 - val_loss: 0.0249 - lr: 0.0010\n",
            "Epoch 20/500\n",
            "180/180 [==============================] - 53s 292ms/step - loss: 0.0243 - val_loss: 0.0251 - lr: 0.0010\n",
            "Epoch 21/500\n",
            "180/180 [==============================] - 53s 292ms/step - loss: 0.0243 - val_loss: 0.0253 - lr: 0.0010\n",
            "Epoch 22/500\n",
            "180/180 [==============================] - 53s 292ms/step - loss: 0.0242 - val_loss: 0.0255 - lr: 0.0010\n",
            "Epoch 23/500\n",
            "180/180 [==============================] - 53s 292ms/step - loss: 0.0243 - val_loss: 0.0253 - lr: 0.0010\n",
            "Epoch 24/500\n",
            "180/180 [==============================] - 53s 292ms/step - loss: 0.0241 - val_loss: 0.0248 - lr: 0.0010\n",
            "Epoch 25/500\n",
            "180/180 [==============================] - 53s 292ms/step - loss: 0.0242 - val_loss: 0.0247 - lr: 0.0010\n",
            "Epoch 26/500\n",
            "180/180 [==============================] - 53s 292ms/step - loss: 0.0241 - val_loss: 0.0279 - lr: 0.0010\n",
            "Epoch 27/500\n",
            "180/180 [==============================] - 53s 292ms/step - loss: 0.0241 - val_loss: 0.0246 - lr: 0.0010\n",
            "Epoch 28/500\n",
            "180/180 [==============================] - 53s 292ms/step - loss: 0.0241 - val_loss: 0.0244 - lr: 0.0010\n",
            "Epoch 29/500\n",
            "180/180 [==============================] - 53s 292ms/step - loss: 0.0240 - val_loss: 0.0244 - lr: 0.0010\n",
            "Epoch 30/500\n",
            "180/180 [==============================] - 53s 292ms/step - loss: 0.0240 - val_loss: 0.0244 - lr: 0.0010\n",
            "Epoch 31/500\n",
            "180/180 [==============================] - 53s 292ms/step - loss: 0.0240 - val_loss: 0.0257 - lr: 0.0010\n",
            "Epoch 32/500\n",
            "180/180 [==============================] - 53s 292ms/step - loss: 0.0239 - val_loss: 0.0251 - lr: 0.0010\n",
            "Epoch 33/500\n",
            "180/180 [==============================] - 53s 292ms/step - loss: 0.0239 - val_loss: 0.0245 - lr: 0.0010\n",
            "Epoch 34/500\n",
            "180/180 [==============================] - 53s 292ms/step - loss: 0.0239 - val_loss: 0.0245 - lr: 0.0010\n",
            "Epoch 35/500\n",
            "180/180 [==============================] - 53s 292ms/step - loss: 0.0238 - val_loss: 0.0244 - lr: 0.0010\n",
            "Epoch 36/500\n",
            "180/180 [==============================] - 53s 292ms/step - loss: 0.0238 - val_loss: 0.0247 - lr: 0.0010\n",
            "Epoch 37/500\n",
            "180/180 [==============================] - 53s 292ms/step - loss: 0.0238 - val_loss: 0.0245 - lr: 0.0010\n",
            "Epoch 38/500\n",
            "180/180 [==============================] - 53s 292ms/step - loss: 0.0238 - val_loss: 0.0244 - lr: 0.0010\n",
            "Epoch 39/500\n",
            "180/180 [==============================] - 53s 292ms/step - loss: 0.0238 - val_loss: 0.0244 - lr: 0.0010\n",
            "Epoch 40/500\n",
            "180/180 [==============================] - 53s 292ms/step - loss: 0.0238 - val_loss: 0.0243 - lr: 0.0010\n",
            "Epoch 41/500\n",
            "180/180 [==============================] - 53s 292ms/step - loss: 0.0237 - val_loss: 0.0242 - lr: 0.0010\n",
            "Epoch 42/500\n",
            "180/180 [==============================] - 53s 292ms/step - loss: 0.0237 - val_loss: 0.0241 - lr: 0.0010\n",
            "Epoch 43/500\n",
            "180/180 [==============================] - 53s 292ms/step - loss: 0.0237 - val_loss: 0.0246 - lr: 0.0010\n",
            "Epoch 44/500\n",
            "180/180 [==============================] - 53s 292ms/step - loss: 0.0237 - val_loss: 0.0242 - lr: 0.0010\n",
            "Epoch 45/500\n",
            "180/180 [==============================] - 53s 292ms/step - loss: 0.0236 - val_loss: 0.0242 - lr: 0.0010\n",
            "Epoch 46/500\n",
            "180/180 [==============================] - 53s 292ms/step - loss: 0.0236 - val_loss: 0.0243 - lr: 0.0010\n",
            "Epoch 47/500\n",
            "180/180 [==============================] - 53s 292ms/step - loss: 0.0236 - val_loss: 0.0246 - lr: 0.0010\n",
            "Epoch 48/500\n",
            "180/180 [==============================] - 53s 292ms/step - loss: 0.0236 - val_loss: 0.0243 - lr: 0.0010\n",
            "Epoch 49/500\n",
            "180/180 [==============================] - 53s 292ms/step - loss: 0.0235 - val_loss: 0.0246 - lr: 0.0010\n",
            "Epoch 50/500\n",
            "180/180 [==============================] - 53s 292ms/step - loss: 0.0235 - val_loss: 0.0241 - lr: 0.0010\n",
            "Epoch 51/500\n",
            "180/180 [==============================] - 53s 292ms/step - loss: 0.0235 - val_loss: 0.0244 - lr: 0.0010\n",
            "Epoch 52/500\n",
            "180/180 [==============================] - 53s 292ms/step - loss: 0.0234 - val_loss: 0.0244 - lr: 0.0010\n",
            "Epoch 53/500\n",
            "180/180 [==============================] - 53s 292ms/step - loss: 0.0234 - val_loss: 0.0241 - lr: 0.0010\n",
            "Epoch 54/500\n",
            "180/180 [==============================] - 53s 292ms/step - loss: 0.0234 - val_loss: 0.0243 - lr: 0.0010\n",
            "Epoch 55/500\n",
            "180/180 [==============================] - 53s 292ms/step - loss: 0.0234 - val_loss: 0.0241 - lr: 0.0010\n",
            "Epoch 56/500\n",
            "180/180 [==============================] - 53s 292ms/step - loss: 0.0234 - val_loss: 0.0241 - lr: 0.0010\n",
            "Epoch 57/500\n",
            "180/180 [==============================] - 53s 292ms/step - loss: 0.0234 - val_loss: 0.0240 - lr: 0.0010\n",
            "Epoch 58/500\n",
            "180/180 [==============================] - 53s 292ms/step - loss: 0.0233 - val_loss: 0.0240 - lr: 0.0010\n",
            "Epoch 59/500\n",
            "180/180 [==============================] - 53s 292ms/step - loss: 0.0233 - val_loss: 0.0241 - lr: 0.0010\n",
            "Epoch 60/500\n",
            "180/180 [==============================] - 53s 292ms/step - loss: 0.0233 - val_loss: 0.0240 - lr: 0.0010\n",
            "Epoch 61/500\n",
            "180/180 [==============================] - 53s 292ms/step - loss: 0.0232 - val_loss: 0.0240 - lr: 0.0010\n",
            "Epoch 62/500\n",
            "180/180 [==============================] - 53s 292ms/step - loss: 0.0233 - val_loss: 0.0241 - lr: 0.0010\n",
            "Epoch 63/500\n",
            "180/180 [==============================] - 53s 292ms/step - loss: 0.0232 - val_loss: 0.0240 - lr: 0.0010\n",
            "Epoch 64/500\n",
            "180/180 [==============================] - 53s 292ms/step - loss: 0.0232 - val_loss: 0.0241 - lr: 0.0010\n",
            "Epoch 65/500\n",
            "180/180 [==============================] - 53s 292ms/step - loss: 0.0231 - val_loss: 0.0240 - lr: 0.0010\n",
            "Epoch 66/500\n",
            "180/180 [==============================] - 53s 292ms/step - loss: 0.0232 - val_loss: 0.0240 - lr: 0.0010\n",
            "Epoch 67/500\n",
            "180/180 [==============================] - 53s 292ms/step - loss: 0.0231 - val_loss: 0.0242 - lr: 0.0010\n",
            "Epoch 68/500\n",
            "180/180 [==============================] - 53s 292ms/step - loss: 0.0231 - val_loss: 0.0240 - lr: 0.0010\n",
            "Epoch 69/500\n",
            "180/180 [==============================] - 53s 292ms/step - loss: 0.0231 - val_loss: 0.0239 - lr: 0.0010\n",
            "Epoch 70/500\n",
            "180/180 [==============================] - 53s 292ms/step - loss: 0.0230 - val_loss: 0.0240 - lr: 0.0010\n",
            "Epoch 71/500\n",
            "180/180 [==============================] - 53s 292ms/step - loss: 0.0230 - val_loss: 0.0240 - lr: 0.0010\n",
            "Epoch 72/500\n",
            "180/180 [==============================] - 53s 292ms/step - loss: 0.0230 - val_loss: 0.0240 - lr: 0.0010\n",
            "Epoch 73/500\n",
            "180/180 [==============================] - 53s 292ms/step - loss: 0.0230 - val_loss: 0.0241 - lr: 0.0010\n",
            "Epoch 74/500\n",
            "180/180 [==============================] - 53s 292ms/step - loss: 0.0230 - val_loss: 0.0241 - lr: 0.0010\n",
            "Epoch 75/500\n",
            "180/180 [==============================] - 53s 292ms/step - loss: 0.0229 - val_loss: 0.0240 - lr: 0.0010\n",
            "Epoch 76/500\n",
            "180/180 [==============================] - 53s 292ms/step - loss: 0.0229 - val_loss: 0.0240 - lr: 0.0010\n",
            "Epoch 77/500\n",
            "180/180 [==============================] - 53s 292ms/step - loss: 0.0229 - val_loss: 0.0240 - lr: 0.0010\n",
            "Epoch 78/500\n",
            "180/180 [==============================] - 53s 292ms/step - loss: 0.0229 - val_loss: 0.0246 - lr: 0.0010\n",
            "Epoch 79/500\n",
            "180/180 [==============================] - 53s 292ms/step - loss: 0.0228 - val_loss: 0.0241 - lr: 0.0010\n",
            "Epoch 80/500\n",
            "180/180 [==============================] - 53s 292ms/step - loss: 0.0228 - val_loss: 0.0239 - lr: 0.0010\n",
            "Epoch 81/500\n",
            "180/180 [==============================] - 53s 292ms/step - loss: 0.0228 - val_loss: 0.0240 - lr: 0.0010\n",
            "Epoch 82/500\n",
            "180/180 [==============================] - 53s 292ms/step - loss: 0.0228 - val_loss: 0.0240 - lr: 0.0010\n",
            "Epoch 83/500\n",
            "180/180 [==============================] - 53s 292ms/step - loss: 0.0227 - val_loss: 0.0243 - lr: 0.0010\n",
            "Epoch 84/500\n",
            "180/180 [==============================] - 53s 292ms/step - loss: 0.0227 - val_loss: 0.0241 - lr: 0.0010\n",
            "Epoch 85/500\n",
            "180/180 [==============================] - 53s 292ms/step - loss: 0.0227 - val_loss: 0.0241 - lr: 0.0010\n",
            "Epoch 86/500\n",
            "180/180 [==============================] - 53s 292ms/step - loss: 0.0227 - val_loss: 0.0239 - lr: 0.0010\n",
            "Epoch 87/500\n",
            "180/180 [==============================] - 53s 292ms/step - loss: 0.0227 - val_loss: 0.0240 - lr: 0.0010\n",
            "Epoch 88/500\n",
            "180/180 [==============================] - 53s 292ms/step - loss: 0.0226 - val_loss: 0.0241 - lr: 0.0010\n",
            "Epoch 89/500\n",
            "180/180 [==============================] - 53s 292ms/step - loss: 0.0226 - val_loss: 0.0244 - lr: 0.0010\n",
            "Epoch 90/500\n",
            "180/180 [==============================] - 53s 292ms/step - loss: 0.0224 - val_loss: 0.0241 - lr: 1.0000e-04\n",
            "Epoch 91/500\n",
            "180/180 [==============================] - 53s 292ms/step - loss: 0.0223 - val_loss: 0.0242 - lr: 1.0000e-04\n",
            "Epoch 92/500\n",
            "160/180 [=========================>....] - ETA: 5s - loss: 0.0222"
          ]
        }
      ],
      "source": [
        "# Define some callbacks to improve training.\n",
        "early_stopping = keras.callbacks.EarlyStopping(monitor=\"val_loss\", patience=30)\n",
        "reduce_lr = keras.callbacks.ReduceLROnPlateau(monitor=\"val_loss\", patience=20)\n",
        "\n",
        "# Define modifiable training hyperparameters.\n",
        "epochs = 500\n",
        "batch_size = 5\n",
        "\n",
        "# Fit the model to the training data.\n",
        "with tf.device('/device:GPU:0'):\n",
        "    model.fit(\n",
        "        x_train,\n",
        "        y_train,\n",
        "        batch_size=batch_size,\n",
        "        epochs=epochs,\n",
        "        validation_data=(x_val, y_val),\n",
        "        callbacks=[early_stopping, reduce_lr],\n",
        "    )"
      ]
    },
    {
      "cell_type": "markdown",
      "metadata": {
        "id": "_FiQlZhpOmKG"
      },
      "source": [
        "## Frame Prediction Visualizations\n",
        "\n",
        "With our model now constructed and trained, we can generate\n",
        "some example frame predictions based on a new video.\n",
        "\n",
        "We'll pick a random example from the validation set and\n",
        "then choose the first ten frames from them. From there, we can\n",
        "allow the model to predict 10 new frames, which we can compare\n",
        "to the ground truth frame predictions."
      ]
    },
    {
      "cell_type": "code",
      "execution_count": null,
      "metadata": {
        "id": "Er70Wo8EOmKG"
      },
      "outputs": [],
      "source": [
        "# Select a random example from the validation dataset.\n",
        "example = val_dataset[np.random.choice(range(len(val_dataset)), size=1)[0]]\n",
        "\n",
        "# Pick the first/last ten frames from the example.\n",
        "frames = example[:10, ...]\n",
        "original_frames = example[10:, ...]\n",
        "\n",
        "# Predict a new set of 10 frames.\n",
        "for _ in range(10):\n",
        "    # Extract the model's prediction and post-process it.\n",
        "    new_prediction = model.predict(np.expand_dims(frames, axis=0))\n",
        "    new_prediction = np.squeeze(new_prediction, axis=0)\n",
        "    predicted_frame = np.expand_dims(new_prediction[-1, ...], axis=0)\n",
        "\n",
        "    # Extend the set of prediction frames.\n",
        "    frames = np.concatenate((frames, predicted_frame), axis=0)\n",
        "\n",
        "# Construct a figure for the original and new frames.\n",
        "fig, axes = plt.subplots(2, 10, figsize=(20, 4))\n",
        "\n",
        "# Plot the original frames.\n",
        "for idx, ax in enumerate(axes[0]):\n",
        "    ax.imshow(np.squeeze(original_frames[idx]), cmap=\"gray\")\n",
        "    ax.set_title(f\"Frame {idx + 11}\")\n",
        "    ax.axis(\"off\")\n",
        "\n",
        "# Plot the new frames.\n",
        "new_frames = frames[10:, ...]\n",
        "for idx, ax in enumerate(axes[1]):\n",
        "    ax.imshow(np.squeeze(new_frames[idx]), cmap=\"gray\")\n",
        "    ax.set_title(f\"Frame {idx + 11}\")\n",
        "    ax.axis(\"off\")\n",
        "\n",
        "# Display the figure.\n",
        "plt.show()"
      ]
    },
    {
      "cell_type": "markdown",
      "metadata": {
        "id": "7aso8WxFOmKG"
      },
      "source": [
        "## Predicted Videos\n",
        "\n",
        "Finally, we'll pick a few examples from the validation set\n",
        "and construct some GIFs with them to see the model's\n",
        "predicted videos.\n",
        "\n",
        "You can use the trained model hosted on [Hugging Face Hub](https://huggingface.co/keras-io/conv-lstm)\n",
        "and try the demo on [Hugging Face Spaces](https://huggingface.co/spaces/keras-io/conv-lstm)."
      ]
    },
    {
      "cell_type": "code",
      "execution_count": null,
      "metadata": {
        "id": "K20bvhqgOmKG"
      },
      "outputs": [],
      "source": [
        "# Select a few random examples from the dataset.\n",
        "examples = val_dataset[np.random.choice(range(len(val_dataset)), size=5)]\n",
        "\n",
        "# Iterate over the examples and predict the frames.\n",
        "predicted_videos = []\n",
        "for example in examples:\n",
        "    # Pick the first/last ten frames from the example.\n",
        "    frames = example[:10, ...]\n",
        "    original_frames = example[10:, ...]\n",
        "    new_predictions = np.zeros(shape=(10, *frames[0].shape))\n",
        "\n",
        "    # Predict a new set of 10 frames.\n",
        "    for i in range(10):\n",
        "        # Extract the model's prediction and post-process it.\n",
        "        frames = example[: 10 + i + 1, ...]\n",
        "        new_prediction = model.predict(np.expand_dims(frames, axis=0))\n",
        "        new_prediction = np.squeeze(new_prediction, axis=0)\n",
        "        predicted_frame = np.expand_dims(new_prediction[-1, ...], axis=0)\n",
        "\n",
        "        # Extend the set of prediction frames.\n",
        "        new_predictions[i] = predicted_frame\n",
        "\n",
        "    # Create and save GIFs for each of the ground truth/prediction images.\n",
        "    for frame_set in [original_frames, new_predictions]:\n",
        "        # Construct a GIF from the selected video frames.\n",
        "        current_frames = np.squeeze(frame_set)\n",
        "        current_frames = current_frames[..., np.newaxis] * np.ones(3)\n",
        "        current_frames = (current_frames * 255).astype(np.uint8)\n",
        "        current_frames = list(current_frames)\n",
        "\n",
        "        # Construct a GIF from the frames.\n",
        "        with io.BytesIO() as gif:\n",
        "            imageio.mimsave(gif, current_frames, \"GIF\", duration=200)\n",
        "            predicted_videos.append(gif.getvalue())\n",
        "\n",
        "# Display the videos.\n",
        "print(\" Truth\\tPrediction\")\n",
        "for i in range(0, len(predicted_videos), 2):\n",
        "    # Construct and display an `HBox` with the ground truth and prediction.\n",
        "    box = HBox(\n",
        "        [\n",
        "            widgets.Image(value=predicted_videos[i]),\n",
        "            widgets.Image(value=predicted_videos[i + 1]),\n",
        "        ]\n",
        "    )\n",
        "    display(box)"
      ]
    },
    {
      "cell_type": "markdown",
      "source": [
        "Create `.gif` files."
      ],
      "metadata": {
        "id": "fhsokls-Q0Rt"
      }
    },
    {
      "cell_type": "code",
      "source": [
        "import os"
      ],
      "metadata": {
        "id": "LvVm80ADRvG0"
      },
      "execution_count": null,
      "outputs": []
    },
    {
      "cell_type": "code",
      "source": [
        "os.chdir(\"/content/drive/MyDrive\")"
      ],
      "metadata": {
        "id": "Qw_QttfwRiAd"
      },
      "execution_count": null,
      "outputs": []
    },
    {
      "cell_type": "code",
      "source": [
        "# Create a directory for the GIFs\n",
        "gif_dir = \"predicted_gifs\"\n",
        "os.makedirs(gif_dir, exist_ok=True)\n",
        "\n",
        "# Select a few random examples from the dataset.\n",
        "examples = val_dataset[np.random.choice(range(len(val_dataset)), size=5)]\n",
        "\n",
        "# Iterate over the examples and predict the frames.\n",
        "predicted_videos = []\n",
        "for index, example in enumerate(examples):\n",
        "    # Pick the first/last ten frames from the example.\n",
        "    frames = example[:10, ...]\n",
        "    original_frames = example[10:, ...]\n",
        "    new_predictions = np.zeros(shape=(10, *frames[0].shape))\n",
        "\n",
        "    # Predict a new set of 10 frames.\n",
        "    for i in range(10):\n",
        "        # Extract the model's prediction and post-process it.\n",
        "        frames = example[: 10 + i + 1, ...]\n",
        "        new_prediction = model.predict(np.expand_dims(frames, axis=0))\n",
        "        new_prediction = np.squeeze(new_prediction, axis=0)\n",
        "        predicted_frame = np.expand_dims(new_prediction[-1, ...], axis=0)\n",
        "\n",
        "        # Extend the set of prediction frames.\n",
        "        new_predictions[i] = predicted_frame\n",
        "\n",
        "    # Create and save GIFs for each of the ground truth/prediction images.\n",
        "    for frame_set_idx, frame_set in enumerate([original_frames, new_predictions]):\n",
        "        # Construct a GIF from the selected video frames.\n",
        "        current_frames = np.squeeze(frame_set)\n",
        "        current_frames = current_frames[..., np.newaxis] * np.ones(3)\n",
        "        current_frames = (current_frames * 255).astype(np.uint8)\n",
        "        current_frames = list(current_frames)\n",
        "\n",
        "        # Define the GIF filepath\n",
        "        gif_filename = os.path.join(gif_dir, f\"example_{index}_{'original' if frame_set_idx == 0 else 'predicted'}.gif\")\n",
        "\n",
        "        # Save the GIF\n",
        "        imageio.mimsave(gif_filename, current_frames, \"GIF\", duration=0.2)\n",
        "\n",
        "        # To display the videos inline, you can open and read the saved GIF\n",
        "        with open(gif_filename, 'rb') as gif_file:\n",
        "            predicted_videos.append(gif_file.read())\n",
        "\n",
        "# Display the videos inline in the notebook.\n",
        "print(\"Truth\\tPrediction\")\n",
        "for i in range(0, len(predicted_videos), 2):\n",
        "    box = HBox(\n",
        "        [\n",
        "            widgets.Image(value=predicted_videos[i], format='gif'),\n",
        "            widgets.Image(value=predicted_videos[i + 1], format='gif'),\n",
        "        ]\n",
        "    )\n",
        "    display(box)\n"
      ],
      "metadata": {
        "id": "viuYNHXzQlwb"
      },
      "execution_count": null,
      "outputs": []
    },
    {
      "cell_type": "code",
      "source": [],
      "metadata": {
        "id": "tDkPW6TZQoE7"
      },
      "execution_count": null,
      "outputs": []
    }
  ],
  "metadata": {
    "accelerator": "GPU",
    "colab": {
      "provenance": [],
      "machine_shape": "hm",
      "gpuType": "V100"
    },
    "kernelspec": {
      "display_name": "Python 3",
      "name": "python3"
    },
    "language_info": {
      "codemirror_mode": {
        "name": "ipython",
        "version": 3
      },
      "file_extension": ".py",
      "mimetype": "text/x-python",
      "name": "python",
      "nbconvert_exporter": "python",
      "pygments_lexer": "ipython3",
      "version": "3.7.0"
    }
  },
  "nbformat": 4,
  "nbformat_minor": 0
}