{
  "nbformat": 4,
  "nbformat_minor": 0,
  "metadata": {
    "colab": {
      "provenance": [],
      "gpuType": "T4"
    },
    "kernelspec": {
      "name": "python3",
      "display_name": "Python 3"
    },
    "language_info": {
      "name": "python"
    },
    "accelerator": "GPU"
  },
  "cells": [
    {
      "cell_type": "code",
      "execution_count": 1,
      "metadata": {
        "colab": {
          "base_uri": "https://localhost:8080/"
        },
        "id": "N7XckI-bN5nJ",
        "outputId": "ed95551d-fa43-4499-85da-f991470ae5fc"
      },
      "outputs": [
        {
          "output_type": "stream",
          "name": "stdout",
          "text": [
            "Collecting codecarbon\n",
            "  Downloading codecarbon-2.5.0-py3-none-any.whl (496 kB)\n",
            "\u001b[2K     \u001b[90m━━━━━━━━━━━━━━━━━━━━━━━━━━━━━━━━━━━━━━━━\u001b[0m \u001b[32m496.1/496.1 kB\u001b[0m \u001b[31m4.7 MB/s\u001b[0m eta \u001b[36m0:00:00\u001b[0m\n",
            "\u001b[?25hCollecting arrow (from codecarbon)\n",
            "  Downloading arrow-1.3.0-py3-none-any.whl (66 kB)\n",
            "\u001b[2K     \u001b[90m━━━━━━━━━━━━━━━━━━━━━━━━━━━━━━━━━━━━━━━━\u001b[0m \u001b[32m66.4/66.4 kB\u001b[0m \u001b[31m3.7 MB/s\u001b[0m eta \u001b[36m0:00:00\u001b[0m\n",
            "\u001b[?25hRequirement already satisfied: click in /usr/local/lib/python3.10/dist-packages (from codecarbon) (8.1.7)\n",
            "Requirement already satisfied: pandas in /usr/local/lib/python3.10/dist-packages (from codecarbon) (2.0.3)\n",
            "Requirement already satisfied: prometheus-client in /usr/local/lib/python3.10/dist-packages (from codecarbon) (0.20.0)\n",
            "Requirement already satisfied: psutil in /usr/local/lib/python3.10/dist-packages (from codecarbon) (5.9.5)\n",
            "Requirement already satisfied: py-cpuinfo in /usr/local/lib/python3.10/dist-packages (from codecarbon) (9.0.0)\n",
            "Collecting pynvml (from codecarbon)\n",
            "  Downloading pynvml-11.5.3-py3-none-any.whl (53 kB)\n",
            "\u001b[2K     \u001b[90m━━━━━━━━━━━━━━━━━━━━━━━━━━━━━━━━━━━━━━━━\u001b[0m \u001b[32m53.1/53.1 kB\u001b[0m \u001b[31m3.9 MB/s\u001b[0m eta \u001b[36m0:00:00\u001b[0m\n",
            "\u001b[?25hCollecting rapidfuzz (from codecarbon)\n",
            "  Downloading rapidfuzz-3.9.4-cp310-cp310-manylinux_2_17_x86_64.manylinux2014_x86_64.whl (3.4 MB)\n",
            "\u001b[2K     \u001b[90m━━━━━━━━━━━━━━━━━━━━━━━━━━━━━━━━━━━━━━━━\u001b[0m \u001b[32m3.4/3.4 MB\u001b[0m \u001b[31m28.8 MB/s\u001b[0m eta \u001b[36m0:00:00\u001b[0m\n",
            "\u001b[?25hRequirement already satisfied: requests in /usr/local/lib/python3.10/dist-packages (from codecarbon) (2.31.0)\n",
            "Requirement already satisfied: python-dateutil>=2.7.0 in /usr/local/lib/python3.10/dist-packages (from arrow->codecarbon) (2.8.2)\n",
            "Collecting types-python-dateutil>=2.8.10 (from arrow->codecarbon)\n",
            "  Downloading types_python_dateutil-2.9.0.20240316-py3-none-any.whl (9.7 kB)\n",
            "Requirement already satisfied: pytz>=2020.1 in /usr/local/lib/python3.10/dist-packages (from pandas->codecarbon) (2023.4)\n",
            "Requirement already satisfied: tzdata>=2022.1 in /usr/local/lib/python3.10/dist-packages (from pandas->codecarbon) (2024.1)\n",
            "Requirement already satisfied: numpy>=1.21.0 in /usr/local/lib/python3.10/dist-packages (from pandas->codecarbon) (1.25.2)\n",
            "Requirement already satisfied: charset-normalizer<4,>=2 in /usr/local/lib/python3.10/dist-packages (from requests->codecarbon) (3.3.2)\n",
            "Requirement already satisfied: idna<4,>=2.5 in /usr/local/lib/python3.10/dist-packages (from requests->codecarbon) (3.7)\n",
            "Requirement already satisfied: urllib3<3,>=1.21.1 in /usr/local/lib/python3.10/dist-packages (from requests->codecarbon) (2.0.7)\n",
            "Requirement already satisfied: certifi>=2017.4.17 in /usr/local/lib/python3.10/dist-packages (from requests->codecarbon) (2024.7.4)\n",
            "Requirement already satisfied: six>=1.5 in /usr/local/lib/python3.10/dist-packages (from python-dateutil>=2.7.0->arrow->codecarbon) (1.16.0)\n",
            "Installing collected packages: types-python-dateutil, rapidfuzz, pynvml, arrow, codecarbon\n",
            "Successfully installed arrow-1.3.0 codecarbon-2.5.0 pynvml-11.5.3 rapidfuzz-3.9.4 types-python-dateutil-2.9.0.20240316\n"
          ]
        }
      ],
      "source": [
        "! pip install codecarbon"
      ]
    },
    {
      "cell_type": "code",
      "source": [
        "import tensorflow as tf\n",
        "from codecarbon import EmissionsTracker"
      ],
      "metadata": {
        "id": "GndrO5SQOCjK"
      },
      "execution_count": 2,
      "outputs": []
    },
    {
      "cell_type": "code",
      "source": [
        "mnist = tf.keras.datasets.mnist\n",
        "(training_images, training_labels), (test_images, test_labels) = mnist.load_data()\n",
        "training_images.shape, training_labels.shape, test_images.shape, test_labels.shape"
      ],
      "metadata": {
        "colab": {
          "base_uri": "https://localhost:8080/"
        },
        "id": "aQpGEnIxOFi5",
        "outputId": "52bb5f78-6b5e-4a75-ef85-66e9d4b49297"
      },
      "execution_count": 3,
      "outputs": [
        {
          "output_type": "stream",
          "name": "stdout",
          "text": [
            "Downloading data from https://storage.googleapis.com/tensorflow/tf-keras-datasets/mnist.npz\n",
            "11490434/11490434 [==============================] - 1s 0us/step\n"
          ]
        },
        {
          "output_type": "execute_result",
          "data": {
            "text/plain": [
              "((60000, 28, 28), (60000,), (10000, 28, 28), (10000,))"
            ]
          },
          "metadata": {},
          "execution_count": 3
        }
      ]
    },
    {
      "cell_type": "code",
      "source": [
        "training_labels_one_hot_encoded = tf.keras.utils.to_categorical(training_labels, num_classes=10)\n",
        "test_labels_one_hot_encoded = tf.keras.utils.to_categorical(test_labels, num_classes=10)"
      ],
      "metadata": {
        "id": "aV7pfwzMOH_m"
      },
      "execution_count": 4,
      "outputs": []
    },
    {
      "cell_type": "code",
      "source": [
        "# rescale\n",
        "training_images = training_images / 255\n",
        "test_images = test_images / 255"
      ],
      "metadata": {
        "id": "UaQBG3L0OL-s"
      },
      "execution_count": 5,
      "outputs": []
    },
    {
      "cell_type": "code",
      "source": [
        "# use sequential api to build model\n",
        "model = tf.keras.models.Sequential([\n",
        "    tf.keras.layers.Flatten(), # neural network requires the input layer to be a vector instead of 2D array\n",
        "    ## Your Changes Start Here ##\n",
        "    # Things to change:\n",
        "    # number of hidden layers\n",
        "    # number of neurons per hidden layer\n",
        "    # the activation functions: Please refer this website: https://keras.io/api/layers/activations/\n",
        "    # the kernel_regularizer: Please refer this website: https://www.tensorflow.org/api_docs/python/tf/keras/regularizers/Regularizer\n",
        "    tf.keras.layers.Dense(1024, activation='relu', use_bias=True), # input units (usually starts with 128) and activation (it's a choice, usually relu)\n",
        "    tf.keras.layers.Dense(512, activation='relu', use_bias=True), # create more hidden layer if desired\n",
        "    tf.keras.layers.Dense(64, activation='relu', use_bias=True), # create more hidden layer if desired\n",
        "    # ... you can have however many you want\n",
        "    ## Your Changes Ends Here ##\n",
        "    tf.keras.layers.Dense(10, activation='softmax') # output layer or end layer | you have to match the number of classes\n",
        "])"
      ],
      "metadata": {
        "id": "AT09f7T_OOIb"
      },
      "execution_count": 6,
      "outputs": []
    },
    {
      "cell_type": "code",
      "source": [
        "model.summary()"
      ],
      "metadata": {
        "colab": {
          "base_uri": "https://localhost:8080/"
        },
        "id": "jQVOlsVrRF7o",
        "outputId": "02dcae33-ee4d-46dd-dd9c-2f6fb1b4c8ff"
      },
      "execution_count": 9,
      "outputs": [
        {
          "output_type": "stream",
          "name": "stdout",
          "text": [
            "Model: \"sequential\"\n",
            "_________________________________________________________________\n",
            " Layer (type)                Output Shape              Param #   \n",
            "=================================================================\n",
            " flatten (Flatten)           (32, 784)                 0         \n",
            "                                                                 \n",
            " dense (Dense)               (32, 1024)                803840    \n",
            "                                                                 \n",
            " dense_1 (Dense)             (32, 512)                 524800    \n",
            "                                                                 \n",
            " dense_2 (Dense)             (32, 64)                  32832     \n",
            "                                                                 \n",
            " dense_3 (Dense)             (32, 10)                  650       \n",
            "                                                                 \n",
            "=================================================================\n",
            "Total params: 1362122 (5.20 MB)\n",
            "Trainable params: 1362122 (5.20 MB)\n",
            "Non-trainable params: 0 (0.00 Byte)\n",
            "_________________________________________________________________\n"
          ]
        }
      ]
    },
    {
      "cell_type": "code",
      "source": [
        "# compile\n",
        "model.compile(\n",
        "    ## Your Changes Start Here ##\n",
        "    # optimizer: https://keras.io/api/optimizers/\n",
        "    # loss: https://keras.io/api/losses/\n",
        "    optimizer=\"adam\",\n",
        "    loss=\"categorical_crossentropy\",\n",
        "    ## Your Changes Ends Here ##\n",
        "    metrics=['accuracy']\n",
        ")"
      ],
      "metadata": {
        "id": "Wv9zH81GOR3i"
      },
      "execution_count": 7,
      "outputs": []
    },
    {
      "cell_type": "markdown",
      "source": [
        "## Training w/o GPU"
      ],
      "metadata": {
        "id": "BeT6reSIQ0ct"
      }
    },
    {
      "cell_type": "code",
      "source": [
        "tracker = EmissionsTracker()\n",
        "tracker.start()\n",
        "model.fit(training_images, training_labels_one_hot_encoded, epochs=10)\n",
        "emissions: float = tracker.stop()\n",
        "print(f\"Emissions: {emissions} kg\")"
      ],
      "metadata": {
        "colab": {
          "base_uri": "https://localhost:8080/"
        },
        "id": "k2RHoddBOUD_",
        "outputId": "1b89fb43-8b21-49d4-cba3-817f68a7547c"
      },
      "execution_count": 9,
      "outputs": [
        {
          "output_type": "stream",
          "name": "stderr",
          "text": [
            "[codecarbon INFO @ 20:14:23] [setup] RAM Tracking...\n",
            "[codecarbon INFO @ 20:14:23] [setup] GPU Tracking...\n",
            "[codecarbon INFO @ 20:14:23] No GPU found.\n",
            "[codecarbon INFO @ 20:14:23] [setup] CPU Tracking...\n",
            "[codecarbon WARNING @ 20:14:23] No CPU tracking mode found. Falling back on CPU constant mode.\n",
            "[codecarbon WARNING @ 20:14:25] We saw that you have a Intel(R) Xeon(R) CPU @ 2.20GHz but we don't know it. Please contact us.\n",
            "[codecarbon INFO @ 20:14:25] CPU Model on constant consumption mode: Intel(R) Xeon(R) CPU @ 2.20GHz\n",
            "[codecarbon INFO @ 20:14:25] >>> Tracker's metadata:\n",
            "[codecarbon INFO @ 20:14:25]   Platform system: Linux-6.1.85+-x86_64-with-glibc2.35\n",
            "[codecarbon INFO @ 20:14:25]   Python version: 3.10.12\n",
            "[codecarbon INFO @ 20:14:25]   CodeCarbon version: 2.5.0\n",
            "[codecarbon INFO @ 20:14:25]   Available RAM : 12.675 GB\n",
            "[codecarbon INFO @ 20:14:25]   CPU count: 2\n",
            "[codecarbon INFO @ 20:14:25]   CPU model: Intel(R) Xeon(R) CPU @ 2.20GHz\n",
            "[codecarbon INFO @ 20:14:25]   GPU count: None\n",
            "[codecarbon INFO @ 20:14:25]   GPU model: None\n",
            "[codecarbon INFO @ 20:14:25] Saving emissions data to file /content/emissions.csv\n"
          ]
        },
        {
          "output_type": "stream",
          "name": "stdout",
          "text": [
            "Epoch 1/10\n",
            " 536/1875 [=======>......................] - ETA: 33s - loss: 0.3064 - accuracy: 0.9042"
          ]
        },
        {
          "output_type": "stream",
          "name": "stderr",
          "text": [
            "[codecarbon INFO @ 20:14:40] Energy consumed for RAM : 0.000020 kWh. RAM Power : 4.753036022186279 W\n",
            "[codecarbon INFO @ 20:14:40] Energy consumed for all CPUs : 0.000177 kWh. Total CPU Power : 42.5 W\n",
            "[codecarbon INFO @ 20:14:40] 0.000197 kWh of electricity used since the beginning.\n"
          ]
        },
        {
          "output_type": "stream",
          "name": "stdout",
          "text": [
            "1149/1875 [=================>............] - ETA: 17s - loss: 0.2307 - accuracy: 0.9283"
          ]
        },
        {
          "output_type": "stream",
          "name": "stderr",
          "text": [
            "[codecarbon INFO @ 20:14:55] Energy consumed for RAM : 0.000040 kWh. RAM Power : 4.753036022186279 W\n",
            "[codecarbon INFO @ 20:14:55] Energy consumed for all CPUs : 0.000354 kWh. Total CPU Power : 42.5 W\n",
            "[codecarbon INFO @ 20:14:55] 0.000394 kWh of electricity used since the beginning.\n"
          ]
        },
        {
          "output_type": "stream",
          "name": "stdout",
          "text": [
            "1743/1875 [==========================>...] - ETA: 3s - loss: 0.1935 - accuracy: 0.9397"
          ]
        },
        {
          "output_type": "stream",
          "name": "stderr",
          "text": [
            "[codecarbon INFO @ 20:15:10] Energy consumed for RAM : 0.000059 kWh. RAM Power : 4.753036022186279 W\n"
          ]
        },
        {
          "output_type": "stream",
          "name": "stdout",
          "text": [
            "\b\b\b\b\b\b\b\b\b\b\b\b\b\b\b\b\b\b\b\b\b\b\b\b\b\b\b\b\b\b\b\b\b\b\b\b\b\b\b\b\b\b\b\b\b\b\b\b\b\b\b\b\b\b\b\b\b\b\b\b\b\b\b\b\b\b\b\b\b\b\b\b\b\b\b\b\b\b\b\b\b\b\b\b\b\b\r1746/1875 [==========================>...] - ETA: 3s - loss: 0.1933 - accuracy: 0.9398"
          ]
        },
        {
          "output_type": "stream",
          "name": "stderr",
          "text": [
            "[codecarbon INFO @ 20:15:10] Energy consumed for all CPUs : 0.000531 kWh. Total CPU Power : 42.5 W\n",
            "[codecarbon INFO @ 20:15:10] 0.000591 kWh of electricity used since the beginning.\n"
          ]
        },
        {
          "output_type": "stream",
          "name": "stdout",
          "text": [
            "1875/1875 [==============================] - 48s 25ms/step - loss: 0.1876 - accuracy: 0.9414\n",
            "Epoch 2/10\n",
            " 499/1875 [======>.......................] - ETA: 32s - loss: 0.0797 - accuracy: 0.9760"
          ]
        },
        {
          "output_type": "stream",
          "name": "stderr",
          "text": [
            "[codecarbon INFO @ 20:15:25] Energy consumed for RAM : 0.000079 kWh. RAM Power : 4.753036022186279 W\n",
            "[codecarbon INFO @ 20:15:25] Energy consumed for all CPUs : 0.000708 kWh. Total CPU Power : 42.5 W\n",
            "[codecarbon INFO @ 20:15:25] 0.000788 kWh of electricity used since the beginning.\n"
          ]
        },
        {
          "output_type": "stream",
          "name": "stdout",
          "text": [
            "1116/1875 [================>.............] - ETA: 18s - loss: 0.0845 - accuracy: 0.9742"
          ]
        },
        {
          "output_type": "stream",
          "name": "stderr",
          "text": [
            "[codecarbon INFO @ 20:15:40] Energy consumed for RAM : 0.000099 kWh. RAM Power : 4.753036022186279 W\n",
            "[codecarbon INFO @ 20:15:40] Energy consumed for all CPUs : 0.000885 kWh. Total CPU Power : 42.5 W\n",
            "[codecarbon INFO @ 20:15:40] 0.000984 kWh of electricity used since the beginning.\n"
          ]
        },
        {
          "output_type": "stream",
          "name": "stdout",
          "text": [
            "1731/1875 [==========================>...] - ETA: 3s - loss: 0.0876 - accuracy: 0.9740"
          ]
        },
        {
          "output_type": "stream",
          "name": "stderr",
          "text": [
            "[codecarbon INFO @ 20:15:55] Energy consumed for RAM : 0.000119 kWh. RAM Power : 4.753036022186279 W\n"
          ]
        },
        {
          "output_type": "stream",
          "name": "stdout",
          "text": [
            "\b\b\b\b\b\b\b\b\b\b\b\b\b\b\b\b\b\b\b\b\b\b\b\b\b\b\b\b\b\b\b\b\b\b\b\b\b\b\b\b\b\b\b\b\b\b\b\b\b\b\b\b\b\b\b\b\b\b\b\b\b\b\b\b\b\b\b\b\b\b\b\b\b\b\b\b\b\b\b\b\b\b\b\b\b\b\r1733/1875 [==========================>...] - ETA: 3s - loss: 0.0876 - accuracy: 0.9740"
          ]
        },
        {
          "output_type": "stream",
          "name": "stderr",
          "text": [
            "[codecarbon INFO @ 20:15:55] Energy consumed for all CPUs : 0.001063 kWh. Total CPU Power : 42.5 W\n",
            "[codecarbon INFO @ 20:15:55] 0.001182 kWh of electricity used since the beginning.\n"
          ]
        },
        {
          "output_type": "stream",
          "name": "stdout",
          "text": [
            "1875/1875 [==============================] - 46s 24ms/step - loss: 0.0869 - accuracy: 0.9741\n",
            "Epoch 3/10\n",
            " 505/1875 [=======>......................] - ETA: 29s - loss: 0.0582 - accuracy: 0.9826"
          ]
        },
        {
          "output_type": "stream",
          "name": "stderr",
          "text": [
            "[codecarbon INFO @ 20:16:10] Energy consumed for RAM : 0.000139 kWh. RAM Power : 4.753036022186279 W\n",
            "[codecarbon INFO @ 20:16:10] Energy consumed for all CPUs : 0.001240 kWh. Total CPU Power : 42.5 W\n",
            "[codecarbon INFO @ 20:16:10] 0.001378 kWh of electricity used since the beginning.\n"
          ]
        },
        {
          "output_type": "stream",
          "name": "stdout",
          "text": [
            "1149/1875 [=================>............] - ETA: 16s - loss: 0.0575 - accuracy: 0.9827"
          ]
        },
        {
          "output_type": "stream",
          "name": "stderr",
          "text": [
            "[codecarbon INFO @ 20:16:25] Energy consumed for RAM : 0.000158 kWh. RAM Power : 4.753036022186279 W\n",
            "[codecarbon INFO @ 20:16:25] Energy consumed for all CPUs : 0.001417 kWh. Total CPU Power : 42.5 W\n",
            "[codecarbon INFO @ 20:16:25] 0.001575 kWh of electricity used since the beginning.\n",
            "[codecarbon INFO @ 20:16:25] 0.005938 g.CO2eq/s mean an estimation of 187.24611145569213 kg.CO2eq/year\n"
          ]
        },
        {
          "output_type": "stream",
          "name": "stdout",
          "text": [
            "1784/1875 [===========================>..] - ETA: 2s - loss: 0.0613 - accuracy: 0.9814"
          ]
        },
        {
          "output_type": "stream",
          "name": "stderr",
          "text": [
            "[codecarbon INFO @ 20:16:40] Energy consumed for RAM : 0.000178 kWh. RAM Power : 4.753036022186279 W\n",
            "[codecarbon INFO @ 20:16:40] Energy consumed for all CPUs : 0.001594 kWh. Total CPU Power : 42.5 W\n",
            "[codecarbon INFO @ 20:16:40] 0.001772 kWh of electricity used since the beginning.\n"
          ]
        },
        {
          "output_type": "stream",
          "name": "stdout",
          "text": [
            "1875/1875 [==============================] - 44s 23ms/step - loss: 0.0615 - accuracy: 0.9812\n",
            "Epoch 4/10\n",
            " 548/1875 [=======>......................] - ETA: 29s - loss: 0.0426 - accuracy: 0.9861"
          ]
        },
        {
          "output_type": "stream",
          "name": "stderr",
          "text": [
            "[codecarbon INFO @ 20:16:55] Energy consumed for RAM : 0.000198 kWh. RAM Power : 4.753036022186279 W\n",
            "[codecarbon INFO @ 20:16:55] Energy consumed for all CPUs : 0.001771 kWh. Total CPU Power : 42.5 W\n",
            "[codecarbon INFO @ 20:16:55] 0.001969 kWh of electricity used since the beginning.\n"
          ]
        },
        {
          "output_type": "stream",
          "name": "stdout",
          "text": [
            "1182/1875 [=================>............] - ETA: 15s - loss: 0.0460 - accuracy: 0.9852"
          ]
        },
        {
          "output_type": "stream",
          "name": "stderr",
          "text": [
            "[codecarbon INFO @ 20:17:10] Energy consumed for RAM : 0.000218 kWh. RAM Power : 4.753036022186279 W\n",
            "[codecarbon INFO @ 20:17:10] Energy consumed for all CPUs : 0.001948 kWh. Total CPU Power : 42.5 W\n",
            "[codecarbon INFO @ 20:17:10] 0.002166 kWh of electricity used since the beginning.\n"
          ]
        },
        {
          "output_type": "stream",
          "name": "stdout",
          "text": [
            "1831/1875 [============================>.] - ETA: 1s - loss: 0.0469 - accuracy: 0.9852"
          ]
        },
        {
          "output_type": "stream",
          "name": "stderr",
          "text": [
            "[codecarbon INFO @ 20:17:25] Energy consumed for RAM : 0.000238 kWh. RAM Power : 4.753036022186279 W\n",
            "[codecarbon INFO @ 20:17:25] Energy consumed for all CPUs : 0.002125 kWh. Total CPU Power : 42.5 W\n",
            "[codecarbon INFO @ 20:17:25] 0.002362 kWh of electricity used since the beginning.\n"
          ]
        },
        {
          "output_type": "stream",
          "name": "stdout",
          "text": [
            "1875/1875 [==============================] - 43s 23ms/step - loss: 0.0471 - accuracy: 0.9851\n",
            "Epoch 5/10\n",
            " 605/1875 [========>.....................] - ETA: 28s - loss: 0.0324 - accuracy: 0.9893"
          ]
        },
        {
          "output_type": "stream",
          "name": "stderr",
          "text": [
            "[codecarbon INFO @ 20:17:40] Energy consumed for RAM : 0.000257 kWh. RAM Power : 4.753036022186279 W\n",
            "[codecarbon INFO @ 20:17:40] Energy consumed for all CPUs : 0.002302 kWh. Total CPU Power : 42.5 W\n",
            "[codecarbon INFO @ 20:17:40] 0.002559 kWh of electricity used since the beginning.\n"
          ]
        },
        {
          "output_type": "stream",
          "name": "stdout",
          "text": [
            "1269/1875 [===================>..........] - ETA: 13s - loss: 0.0356 - accuracy: 0.9888"
          ]
        },
        {
          "output_type": "stream",
          "name": "stderr",
          "text": [
            "[codecarbon INFO @ 20:17:55] Energy consumed for RAM : 0.000277 kWh. RAM Power : 4.753036022186279 W\n"
          ]
        },
        {
          "output_type": "stream",
          "name": "stdout",
          "text": [
            "\b\b\b\b\b\b\b\b\b\b\b\b\b\b\b\b\b\b\b\b\b\b\b\b\b\b\b\b\b\b\b\b\b\b\b\b\b\b\b\b\b\b\b\b\b\b\b\b\b\b\b\b\b\b\b\b\b\b\b\b\b\b\b\b\b\b\b\b\b\b\b\b\b\b\b\b\b\b\b\b\b\b\b\b\b\b\b\r1272/1875 [===================>..........] - ETA: 13s - loss: 0.0356 - accuracy: 0.9888"
          ]
        },
        {
          "output_type": "stream",
          "name": "stderr",
          "text": [
            "[codecarbon INFO @ 20:17:55] Energy consumed for all CPUs : 0.002479 kWh. Total CPU Power : 42.5 W\n",
            "[codecarbon INFO @ 20:17:55] 0.002756 kWh of electricity used since the beginning.\n"
          ]
        },
        {
          "output_type": "stream",
          "name": "stdout",
          "text": [
            "1875/1875 [==============================] - 43s 23ms/step - loss: 0.0390 - accuracy: 0.9880\n",
            "Epoch 6/10\n",
            "  54/1875 [..............................] - ETA: 38s - loss: 0.0304 - accuracy: 0.9919"
          ]
        },
        {
          "output_type": "stream",
          "name": "stderr",
          "text": [
            "[codecarbon INFO @ 20:18:10] Energy consumed for RAM : 0.000297 kWh. RAM Power : 4.753036022186279 W\n",
            "[codecarbon INFO @ 20:18:10] Energy consumed for all CPUs : 0.002656 kWh. Total CPU Power : 42.5 W\n",
            "[codecarbon INFO @ 20:18:10] 0.002953 kWh of electricity used since the beginning.\n"
          ]
        },
        {
          "output_type": "stream",
          "name": "stdout",
          "text": [
            " 709/1875 [==========>...................] - ETA: 26s - loss: 0.0276 - accuracy: 0.9918"
          ]
        },
        {
          "output_type": "stream",
          "name": "stderr",
          "text": [
            "[codecarbon INFO @ 20:18:25] Energy consumed for RAM : 0.000317 kWh. RAM Power : 4.753036022186279 W\n",
            "[codecarbon INFO @ 20:18:25] Energy consumed for all CPUs : 0.002833 kWh. Total CPU Power : 42.5 W\n",
            "[codecarbon INFO @ 20:18:25] 0.003150 kWh of electricity used since the beginning.\n",
            "[codecarbon INFO @ 20:18:25] 0.005938 g.CO2eq/s mean an estimation of 187.2602961899352 kg.CO2eq/year\n"
          ]
        },
        {
          "output_type": "stream",
          "name": "stdout",
          "text": [
            "1372/1875 [====================>.........] - ETA: 11s - loss: 0.0312 - accuracy: 0.9905"
          ]
        },
        {
          "output_type": "stream",
          "name": "stderr",
          "text": [
            "[codecarbon INFO @ 20:18:40] Energy consumed for RAM : 0.000337 kWh. RAM Power : 4.753036022186279 W\n",
            "[codecarbon INFO @ 20:18:40] Energy consumed for all CPUs : 0.003010 kWh. Total CPU Power : 42.5 W\n",
            "[codecarbon INFO @ 20:18:40] 0.003347 kWh of electricity used since the beginning.\n"
          ]
        },
        {
          "output_type": "stream",
          "name": "stdout",
          "text": [
            "1875/1875 [==============================] - 43s 23ms/step - loss: 0.0314 - accuracy: 0.9905\n",
            "Epoch 7/10\n",
            " 114/1875 [>.............................] - ETA: 48s - loss: 0.0175 - accuracy: 0.9956"
          ]
        },
        {
          "output_type": "stream",
          "name": "stderr",
          "text": [
            "[codecarbon INFO @ 20:18:55] Energy consumed for RAM : 0.000356 kWh. RAM Power : 4.753036022186279 W\n",
            "[codecarbon INFO @ 20:18:55] Energy consumed for all CPUs : 0.003187 kWh. Total CPU Power : 42.5 W\n",
            "[codecarbon INFO @ 20:18:55] 0.003544 kWh of electricity used since the beginning.\n"
          ]
        },
        {
          "output_type": "stream",
          "name": "stdout",
          "text": [
            " 687/1875 [=========>....................] - ETA: 31s - loss: 0.0220 - accuracy: 0.9928"
          ]
        },
        {
          "output_type": "stream",
          "name": "stderr",
          "text": [
            "[codecarbon INFO @ 20:19:10] Energy consumed for RAM : 0.000376 kWh. RAM Power : 4.753036022186279 W\n",
            "[codecarbon INFO @ 20:19:10] Energy consumed for all CPUs : 0.003364 kWh. Total CPU Power : 42.5 W\n",
            "[codecarbon INFO @ 20:19:10] 0.003740 kWh of electricity used since the beginning.\n"
          ]
        },
        {
          "output_type": "stream",
          "name": "stdout",
          "text": [
            "1331/1875 [====================>.........] - ETA: 13s - loss: 0.0254 - accuracy: 0.9921"
          ]
        },
        {
          "output_type": "stream",
          "name": "stderr",
          "text": [
            "[codecarbon INFO @ 20:19:25] Energy consumed for RAM : 0.000396 kWh. RAM Power : 4.753036022186279 W\n",
            "[codecarbon INFO @ 20:19:25] Energy consumed for all CPUs : 0.003541 kWh. Total CPU Power : 42.5 W\n",
            "[codecarbon INFO @ 20:19:25] 0.003937 kWh of electricity used since the beginning.\n"
          ]
        },
        {
          "output_type": "stream",
          "name": "stdout",
          "text": [
            "1875/1875 [==============================] - 46s 24ms/step - loss: 0.0276 - accuracy: 0.9915\n",
            "Epoch 8/10\n",
            " 110/1875 [>.............................] - ETA: 36s - loss: 0.0216 - accuracy: 0.9926"
          ]
        },
        {
          "output_type": "stream",
          "name": "stderr",
          "text": [
            "[codecarbon INFO @ 20:19:40] Energy consumed for RAM : 0.000416 kWh. RAM Power : 4.753036022186279 W\n",
            "[codecarbon INFO @ 20:19:40] Energy consumed for all CPUs : 0.003718 kWh. Total CPU Power : 42.5 W\n",
            "[codecarbon INFO @ 20:19:40] 0.004134 kWh of electricity used since the beginning.\n"
          ]
        },
        {
          "output_type": "stream",
          "name": "stdout",
          "text": [
            " 764/1875 [===========>..................] - ETA: 25s - loss: 0.0235 - accuracy: 0.9922"
          ]
        },
        {
          "output_type": "stream",
          "name": "stderr",
          "text": [
            "[codecarbon INFO @ 20:19:55] Energy consumed for RAM : 0.000435 kWh. RAM Power : 4.753036022186279 W\n",
            "[codecarbon INFO @ 20:19:55] Energy consumed for all CPUs : 0.003895 kWh. Total CPU Power : 42.5 W\n",
            "[codecarbon INFO @ 20:19:55] 0.004331 kWh of electricity used since the beginning.\n"
          ]
        },
        {
          "output_type": "stream",
          "name": "stdout",
          "text": [
            "1415/1875 [=====================>........] - ETA: 10s - loss: 0.0252 - accuracy: 0.9913"
          ]
        },
        {
          "output_type": "stream",
          "name": "stderr",
          "text": [
            "[codecarbon INFO @ 20:20:10] Energy consumed for RAM : 0.000455 kWh. RAM Power : 4.753036022186279 W\n",
            "[codecarbon INFO @ 20:20:10] Energy consumed for all CPUs : 0.004072 kWh. Total CPU Power : 42.5 W\n",
            "[codecarbon INFO @ 20:20:10] 0.004527 kWh of electricity used since the beginning.\n"
          ]
        },
        {
          "output_type": "stream",
          "name": "stdout",
          "text": [
            "1875/1875 [==============================] - 43s 23ms/step - loss: 0.0237 - accuracy: 0.9919\n",
            "Epoch 9/10\n",
            " 192/1875 [==>...........................] - ETA: 34s - loss: 0.0284 - accuracy: 0.9914"
          ]
        },
        {
          "output_type": "stream",
          "name": "stderr",
          "text": [
            "[codecarbon INFO @ 20:20:25] Energy consumed for RAM : 0.000475 kWh. RAM Power : 4.753036022186279 W\n",
            "[codecarbon INFO @ 20:20:25] Energy consumed for all CPUs : 0.004249 kWh. Total CPU Power : 42.5 W\n",
            "[codecarbon INFO @ 20:20:25] 0.004724 kWh of electricity used since the beginning.\n",
            "[codecarbon INFO @ 20:20:25] 0.005936 g.CO2eq/s mean an estimation of 187.2114197267442 kg.CO2eq/year\n"
          ]
        },
        {
          "output_type": "stream",
          "name": "stdout",
          "text": [
            " 858/1875 [============>.................] - ETA: 22s - loss: 0.0213 - accuracy: 0.9939"
          ]
        },
        {
          "output_type": "stream",
          "name": "stderr",
          "text": [
            "[codecarbon INFO @ 20:20:40] Energy consumed for RAM : 0.000495 kWh. RAM Power : 4.753036022186279 W\n",
            "[codecarbon INFO @ 20:20:40] Energy consumed for all CPUs : 0.004426 kWh. Total CPU Power : 42.5 W\n",
            "[codecarbon INFO @ 20:20:40] 0.004921 kWh of electricity used since the beginning.\n"
          ]
        },
        {
          "output_type": "stream",
          "name": "stdout",
          "text": [
            "1512/1875 [=======================>......] - ETA: 8s - loss: 0.0216 - accuracy: 0.9938"
          ]
        },
        {
          "output_type": "stream",
          "name": "stderr",
          "text": [
            "[codecarbon INFO @ 20:20:55] Energy consumed for RAM : 0.000515 kWh. RAM Power : 4.753036022186279 W\n",
            "[codecarbon INFO @ 20:20:55] Energy consumed for all CPUs : 0.004603 kWh. Total CPU Power : 42.5 W\n",
            "[codecarbon INFO @ 20:20:55] 0.005118 kWh of electricity used since the beginning.\n"
          ]
        },
        {
          "output_type": "stream",
          "name": "stdout",
          "text": [
            "1875/1875 [==============================] - 43s 23ms/step - loss: 0.0225 - accuracy: 0.9935\n",
            "Epoch 10/10\n",
            " 291/1875 [===>..........................] - ETA: 33s - loss: 0.0245 - accuracy: 0.9925"
          ]
        },
        {
          "output_type": "stream",
          "name": "stderr",
          "text": [
            "[codecarbon INFO @ 20:21:10] Energy consumed for RAM : 0.000534 kWh. RAM Power : 4.753036022186279 W\n",
            "[codecarbon INFO @ 20:21:10] Energy consumed for all CPUs : 0.004780 kWh. Total CPU Power : 42.5 W\n",
            "[codecarbon INFO @ 20:21:10] 0.005314 kWh of electricity used since the beginning.\n"
          ]
        },
        {
          "output_type": "stream",
          "name": "stdout",
          "text": [
            " 941/1875 [==============>...............] - ETA: 20s - loss: 0.0244 - accuracy: 0.9932"
          ]
        },
        {
          "output_type": "stream",
          "name": "stderr",
          "text": [
            "[codecarbon INFO @ 20:21:25] Energy consumed for RAM : 0.000554 kWh. RAM Power : 4.753036022186279 W\n",
            "[codecarbon INFO @ 20:21:25] Energy consumed for all CPUs : 0.004957 kWh. Total CPU Power : 42.5 W\n",
            "[codecarbon INFO @ 20:21:25] 0.005511 kWh of electricity used since the beginning.\n"
          ]
        },
        {
          "output_type": "stream",
          "name": "stdout",
          "text": [
            "1586/1875 [========================>.....] - ETA: 6s - loss: 0.0225 - accuracy: 0.9934"
          ]
        },
        {
          "output_type": "stream",
          "name": "stderr",
          "text": [
            "[codecarbon INFO @ 20:21:40] Energy consumed for RAM : 0.000574 kWh. RAM Power : 4.753036022186279 W\n",
            "[codecarbon INFO @ 20:21:40] Energy consumed for all CPUs : 0.005134 kWh. Total CPU Power : 42.5 W\n",
            "[codecarbon INFO @ 20:21:40] 0.005708 kWh of electricity used since the beginning.\n"
          ]
        },
        {
          "output_type": "stream",
          "name": "stdout",
          "text": [
            "1875/1875 [==============================] - 43s 23ms/step - loss: 0.0223 - accuracy: 0.9935\n"
          ]
        },
        {
          "output_type": "stream",
          "name": "stderr",
          "text": [
            "[codecarbon INFO @ 20:21:47] Energy consumed for RAM : 0.000583 kWh. RAM Power : 4.753036022186279 W\n",
            "[codecarbon INFO @ 20:21:47] Energy consumed for all CPUs : 0.005218 kWh. Total CPU Power : 42.5 W\n",
            "[codecarbon INFO @ 20:21:47] 0.005801 kWh of electricity used since the beginning.\n"
          ]
        },
        {
          "output_type": "stream",
          "name": "stdout",
          "text": [
            "Emissions: 0.0026257458086131192 kg\n"
          ]
        }
      ]
    },
    {
      "cell_type": "markdown",
      "source": [
        "## Training with GPU"
      ],
      "metadata": {
        "id": "nj94jJeyQ2_r"
      }
    },
    {
      "cell_type": "code",
      "source": [
        "tracker = EmissionsTracker()\n",
        "tracker.start()\n",
        "with tf.device('/device:GPU:0'):\n",
        "    model.fit(training_images, training_labels_one_hot_encoded, epochs=10)\n",
        "emissions: float = tracker.stop()\n",
        "print(f\"Emissions: {emissions} kg\")"
      ],
      "metadata": {
        "colab": {
          "base_uri": "https://localhost:8080/"
        },
        "id": "V11ECDhwQqE7",
        "outputId": "1c2d35b5-8dac-447b-a97d-1552fcd51023"
      },
      "execution_count": 8,
      "outputs": [
        {
          "output_type": "stream",
          "name": "stderr",
          "text": [
            "[codecarbon INFO @ 20:23:31] [setup] RAM Tracking...\n",
            "[codecarbon INFO @ 20:23:31] [setup] GPU Tracking...\n",
            "[codecarbon INFO @ 20:23:31] Tracking Nvidia GPU via pynvml\n",
            "[codecarbon INFO @ 20:23:31] [setup] CPU Tracking...\n",
            "[codecarbon WARNING @ 20:23:31] No CPU tracking mode found. Falling back on CPU constant mode.\n",
            "[codecarbon WARNING @ 20:23:33] We saw that you have a Intel(R) Xeon(R) CPU @ 2.20GHz but we don't know it. Please contact us.\n",
            "[codecarbon INFO @ 20:23:33] CPU Model on constant consumption mode: Intel(R) Xeon(R) CPU @ 2.20GHz\n",
            "[codecarbon INFO @ 20:23:33] >>> Tracker's metadata:\n",
            "[codecarbon INFO @ 20:23:33]   Platform system: Linux-6.1.85+-x86_64-with-glibc2.35\n",
            "[codecarbon INFO @ 20:23:33]   Python version: 3.10.12\n",
            "[codecarbon INFO @ 20:23:33]   CodeCarbon version: 2.5.0\n",
            "[codecarbon INFO @ 20:23:33]   Available RAM : 12.675 GB\n",
            "[codecarbon INFO @ 20:23:33]   CPU count: 2\n",
            "[codecarbon INFO @ 20:23:33]   CPU model: Intel(R) Xeon(R) CPU @ 2.20GHz\n",
            "[codecarbon INFO @ 20:23:33]   GPU count: 1\n",
            "[codecarbon INFO @ 20:23:33]   GPU model: 1 x Tesla T4\n",
            "[codecarbon INFO @ 20:23:34] Saving emissions data to file /content/emissions.csv\n"
          ]
        },
        {
          "output_type": "stream",
          "name": "stdout",
          "text": [
            "Epoch 1/10\n",
            "1875/1875 [==============================] - 11s 4ms/step - loss: 0.1917 - accuracy: 0.9417\n",
            "Epoch 2/10\n",
            " 511/1875 [=======>......................] - ETA: 6s - loss: 0.0913 - accuracy: 0.9711"
          ]
        },
        {
          "output_type": "stream",
          "name": "stderr",
          "text": [
            "[codecarbon INFO @ 20:23:49] Energy consumed for RAM : 0.000020 kWh. RAM Power : 4.7530388832092285 W\n",
            "[codecarbon INFO @ 20:23:49] Energy consumed for all GPUs : 0.000123 kWh. Total GPU Power : 29.464104537753418 W\n",
            "[codecarbon INFO @ 20:23:49] Energy consumed for all CPUs : 0.000177 kWh. Total CPU Power : 42.5 W\n",
            "[codecarbon INFO @ 20:23:49] 0.000320 kWh of electricity used since the beginning.\n"
          ]
        },
        {
          "output_type": "stream",
          "name": "stdout",
          "text": [
            "1875/1875 [==============================] - 7s 4ms/step - loss: 0.0871 - accuracy: 0.9733\n",
            "Epoch 3/10\n",
            "1875/1875 [==============================] - 6s 3ms/step - loss: 0.0632 - accuracy: 0.9801\n",
            "Epoch 4/10\n",
            " 974/1875 [==============>...............] - ETA: 4s - loss: 0.0454 - accuracy: 0.9863"
          ]
        },
        {
          "output_type": "stream",
          "name": "stderr",
          "text": [
            "[codecarbon INFO @ 20:24:04] Energy consumed for RAM : 0.000040 kWh. RAM Power : 4.7530388832092285 W\n",
            "[codecarbon INFO @ 20:24:04] Energy consumed for all GPUs : 0.000254 kWh. Total GPU Power : 31.46788863955711 W\n",
            "[codecarbon INFO @ 20:24:04] Energy consumed for all CPUs : 0.000355 kWh. Total CPU Power : 42.5 W\n",
            "[codecarbon INFO @ 20:24:04] 0.000648 kWh of electricity used since the beginning.\n"
          ]
        },
        {
          "output_type": "stream",
          "name": "stdout",
          "text": [
            "1875/1875 [==============================] - 9s 5ms/step - loss: 0.0461 - accuracy: 0.9863\n",
            "Epoch 5/10\n",
            "1875/1875 [==============================] - 6s 3ms/step - loss: 0.0391 - accuracy: 0.9875\n",
            "Epoch 6/10\n",
            "1549/1875 [=======================>......] - ETA: 1s - loss: 0.0328 - accuracy: 0.9898"
          ]
        },
        {
          "output_type": "stream",
          "name": "stderr",
          "text": [
            "[codecarbon INFO @ 20:24:19] Energy consumed for RAM : 0.000059 kWh. RAM Power : 4.7530388832092285 W\n",
            "[codecarbon INFO @ 20:24:19] Energy consumed for all GPUs : 0.000386 kWh. Total GPU Power : 31.7384362695863 W\n",
            "[codecarbon INFO @ 20:24:19] Energy consumed for all CPUs : 0.000531 kWh. Total CPU Power : 42.5 W\n",
            "[codecarbon INFO @ 20:24:19] 0.000977 kWh of electricity used since the beginning.\n"
          ]
        },
        {
          "output_type": "stream",
          "name": "stdout",
          "text": [
            "1875/1875 [==============================] - 6s 3ms/step - loss: 0.0339 - accuracy: 0.9896\n",
            "Epoch 7/10\n",
            "1875/1875 [==============================] - 6s 3ms/step - loss: 0.0306 - accuracy: 0.9910\n",
            "Epoch 8/10\n",
            "1875/1875 [==============================] - 8s 4ms/step - loss: 0.0263 - accuracy: 0.9921\n",
            "Epoch 9/10\n",
            " 211/1875 [==>...........................] - ETA: 6s - loss: 0.0154 - accuracy: 0.9944"
          ]
        },
        {
          "output_type": "stream",
          "name": "stderr",
          "text": [
            "[codecarbon INFO @ 20:24:34] Energy consumed for RAM : 0.000079 kWh. RAM Power : 4.7530388832092285 W\n",
            "[codecarbon INFO @ 20:24:34] Energy consumed for all GPUs : 0.000519 kWh. Total GPU Power : 31.85199266918375 W\n",
            "[codecarbon INFO @ 20:24:34] Energy consumed for all CPUs : 0.000708 kWh. Total CPU Power : 42.5 W\n",
            "[codecarbon INFO @ 20:24:34] 0.001306 kWh of electricity used since the beginning.\n"
          ]
        },
        {
          "output_type": "stream",
          "name": "stdout",
          "text": [
            "1875/1875 [==============================] - 6s 3ms/step - loss: 0.0218 - accuracy: 0.9931\n",
            "Epoch 10/10\n",
            "1875/1875 [==============================] - 6s 3ms/step - loss: 0.0197 - accuracy: 0.9941\n"
          ]
        },
        {
          "output_type": "stream",
          "name": "stderr",
          "text": [
            "[codecarbon INFO @ 20:24:49] Energy consumed for RAM : 0.000099 kWh. RAM Power : 4.7530388832092285 W\n",
            "[codecarbon INFO @ 20:24:49] Energy consumed for all GPUs : 0.000651 kWh. Total GPU Power : 31.823306423925285 W\n",
            "[codecarbon INFO @ 20:24:49] Energy consumed for all CPUs : 0.000885 kWh. Total CPU Power : 42.5 W\n",
            "[codecarbon INFO @ 20:24:49] 0.001636 kWh of electricity used since the beginning.\n",
            "[codecarbon INFO @ 20:24:59] Energy consumed for RAM : 0.000113 kWh. RAM Power : 4.7530388832092285 W\n",
            "[codecarbon INFO @ 20:24:59] Energy consumed for all GPUs : 0.000736 kWh. Total GPU Power : 28.99870376217034 W\n",
            "[codecarbon INFO @ 20:24:59] Energy consumed for all CPUs : 0.001010 kWh. Total CPU Power : 42.5 W\n",
            "[codecarbon INFO @ 20:24:59] 0.001859 kWh of electricity used since the beginning.\n"
          ]
        },
        {
          "output_type": "stream",
          "name": "stdout",
          "text": [
            "Emissions: 0.0010428191300999273 kg\n"
          ]
        }
      ]
    },
    {
      "cell_type": "markdown",
      "source": [
        "## Inference w/o GPU"
      ],
      "metadata": {
        "id": "2AKzc38aQ5nb"
      }
    },
    {
      "cell_type": "code",
      "source": [
        "tracker = EmissionsTracker()\n",
        "tracker.start()\n",
        "this_particular_prediction = model.predict(test_images[0:1])\n",
        "emissions_2: float = tracker.stop()\n",
        "print(f\"Emissions: {emissions_2} kg\")"
      ],
      "metadata": {
        "colab": {
          "base_uri": "https://localhost:8080/"
        },
        "id": "I288qX5oOyD4",
        "outputId": "2eabd409-2967-42e4-d8ea-8c69a37c25b2"
      },
      "execution_count": 10,
      "outputs": [
        {
          "output_type": "stream",
          "name": "stderr",
          "text": [
            "[codecarbon INFO @ 20:21:47] [setup] RAM Tracking...\n",
            "[codecarbon INFO @ 20:21:47] [setup] GPU Tracking...\n",
            "[codecarbon INFO @ 20:21:47] No GPU found.\n",
            "[codecarbon INFO @ 20:21:47] [setup] CPU Tracking...\n",
            "[codecarbon WARNING @ 20:21:47] No CPU tracking mode found. Falling back on CPU constant mode.\n",
            "[codecarbon WARNING @ 20:21:49] We saw that you have a Intel(R) Xeon(R) CPU @ 2.20GHz but we don't know it. Please contact us.\n",
            "[codecarbon INFO @ 20:21:49] CPU Model on constant consumption mode: Intel(R) Xeon(R) CPU @ 2.20GHz\n",
            "[codecarbon INFO @ 20:21:49] >>> Tracker's metadata:\n",
            "[codecarbon INFO @ 20:21:49]   Platform system: Linux-6.1.85+-x86_64-with-glibc2.35\n",
            "[codecarbon INFO @ 20:21:49]   Python version: 3.10.12\n",
            "[codecarbon INFO @ 20:21:49]   CodeCarbon version: 2.5.0\n",
            "[codecarbon INFO @ 20:21:49]   Available RAM : 12.675 GB\n",
            "[codecarbon INFO @ 20:21:49]   CPU count: 2\n",
            "[codecarbon INFO @ 20:21:49]   CPU model: Intel(R) Xeon(R) CPU @ 2.20GHz\n",
            "[codecarbon INFO @ 20:21:49]   GPU count: None\n",
            "[codecarbon INFO @ 20:21:49]   GPU model: None\n",
            "[codecarbon INFO @ 20:21:49] Saving emissions data to file /content/emissions.csv\n"
          ]
        },
        {
          "output_type": "stream",
          "name": "stdout",
          "text": [
            "1/1 [==============================] - 0s 188ms/step\n"
          ]
        },
        {
          "output_type": "stream",
          "name": "stderr",
          "text": [
            "[codecarbon INFO @ 20:21:49] Energy consumed for RAM : 0.000000 kWh. RAM Power : 4.753036022186279 W\n",
            "[codecarbon INFO @ 20:21:49] Energy consumed for all CPUs : 0.000003 kWh. Total CPU Power : 42.5 W\n",
            "[codecarbon INFO @ 20:21:49] 0.000004 kWh of electricity used since the beginning.\n"
          ]
        },
        {
          "output_type": "stream",
          "name": "stdout",
          "text": [
            "Emissions: 1.6980452239703865e-06 kg\n"
          ]
        }
      ]
    },
    {
      "cell_type": "markdown",
      "source": [
        "## Inference with GPU"
      ],
      "metadata": {
        "id": "7h9l-ua3Q9r7"
      }
    },
    {
      "cell_type": "code",
      "source": [
        "tracker = EmissionsTracker()\n",
        "tracker.start()\n",
        "with tf.device('/device:GPU:0'):\n",
        "    this_particular_prediction = model.predict(test_images[0:1])\n",
        "emissions_2: float = tracker.stop()\n",
        "print(f\"Emissions: {emissions_2} kg\")"
      ],
      "metadata": {
        "colab": {
          "base_uri": "https://localhost:8080/"
        },
        "id": "XJthRoxrO_bk",
        "outputId": "ce5e501e-1a75-4c64-a28d-fd9b52f64472"
      },
      "execution_count": 10,
      "outputs": [
        {
          "output_type": "stream",
          "name": "stderr",
          "text": [
            "[codecarbon INFO @ 20:25:19] [setup] RAM Tracking...\n",
            "[codecarbon INFO @ 20:25:19] [setup] GPU Tracking...\n",
            "[codecarbon INFO @ 20:25:19] Tracking Nvidia GPU via pynvml\n",
            "[codecarbon INFO @ 20:25:19] [setup] CPU Tracking...\n",
            "[codecarbon WARNING @ 20:25:19] No CPU tracking mode found. Falling back on CPU constant mode.\n",
            "[codecarbon WARNING @ 20:25:20] We saw that you have a Intel(R) Xeon(R) CPU @ 2.20GHz but we don't know it. Please contact us.\n",
            "[codecarbon INFO @ 20:25:20] CPU Model on constant consumption mode: Intel(R) Xeon(R) CPU @ 2.20GHz\n",
            "[codecarbon INFO @ 20:25:20] >>> Tracker's metadata:\n",
            "[codecarbon INFO @ 20:25:20]   Platform system: Linux-6.1.85+-x86_64-with-glibc2.35\n",
            "[codecarbon INFO @ 20:25:20]   Python version: 3.10.12\n",
            "[codecarbon INFO @ 20:25:20]   CodeCarbon version: 2.5.0\n",
            "[codecarbon INFO @ 20:25:20]   Available RAM : 12.675 GB\n",
            "[codecarbon INFO @ 20:25:20]   CPU count: 2\n",
            "[codecarbon INFO @ 20:25:20]   CPU model: Intel(R) Xeon(R) CPU @ 2.20GHz\n",
            "[codecarbon INFO @ 20:25:20]   GPU count: 1\n",
            "[codecarbon INFO @ 20:25:20]   GPU model: 1 x Tesla T4\n",
            "[codecarbon INFO @ 20:25:20] Saving emissions data to file /content/emissions.csv\n"
          ]
        },
        {
          "output_type": "stream",
          "name": "stdout",
          "text": [
            "1/1 [==============================] - 0s 126ms/step\n"
          ]
        },
        {
          "output_type": "stream",
          "name": "stderr",
          "text": [
            "[codecarbon INFO @ 20:25:20] Energy consumed for RAM : 0.000000 kWh. RAM Power : 4.7530388832092285 W\n",
            "[codecarbon INFO @ 20:25:21] Energy consumed for all GPUs : 0.000002 kWh. Total GPU Power : 29.217123074664354 W\n",
            "[codecarbon INFO @ 20:25:21] Energy consumed for all CPUs : 0.000002 kWh. Total CPU Power : 42.5 W\n",
            "[codecarbon INFO @ 20:25:21] 0.000004 kWh of electricity used since the beginning.\n"
          ]
        },
        {
          "output_type": "stream",
          "name": "stdout",
          "text": [
            "Emissions: 2.4193125263593433e-06 kg\n"
          ]
        }
      ]
    }
  ]
}