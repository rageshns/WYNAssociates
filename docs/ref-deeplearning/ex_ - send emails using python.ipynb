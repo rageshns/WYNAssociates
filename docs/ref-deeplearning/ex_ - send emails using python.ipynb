{
  "nbformat": 4,
  "nbformat_minor": 0,
  "metadata": {
    "colab": {
      "provenance": []
    },
    "kernelspec": {
      "name": "python3",
      "display_name": "Python 3"
    },
    "language_info": {
      "name": "python"
    }
  },
  "cells": [
    {
      "cell_type": "code",
      "source": [
        "from google.colab import userdata\n",
        "GMAIL_JUPYTER_NOTEBOOK_APP_PASSWORD = userdata.get('GMAIL_JUPYTER_NOTEBOOK_APP_PASSWORD')"
      ],
      "metadata": {
        "id": "VYTCurTQmAxj"
      },
      "execution_count": 6,
      "outputs": []
    },
    {
      "cell_type": "code",
      "execution_count": 9,
      "metadata": {
        "id": "r5h1LM1mZstk"
      },
      "outputs": [],
      "source": [
        "import smtplib, ssl\n",
        "\n",
        "port = 465  # For SSL\n",
        "smtp_server = \"smtp.gmail.com\"\n",
        "sender_email = \"eagle0504@gmail.com\" # Enter your address\n",
        "receiver_email = \"eagle0504@gmail.com\"  # Enter receiver address\n",
        "password = GMAIL_JUPYTER_NOTEBOOK_APP_PASSWORD\n",
        "message = f\"\"\"\n",
        "    Subject: Hi there\n",
        "\n",
        "    This message is sent from Python. This is from Yiqiao.\n",
        "\n",
        "    [link](https://finviz.com/quote.ashx?t=JPM&p=d)\n",
        "\"\"\"\n",
        "\n",
        "context = ssl.create_default_context()\n",
        "with smtplib.SMTP_SSL(smtp_server, port, context=context) as server:\n",
        "    server.login(sender_email, password)\n",
        "    server.sendmail(sender_email, receiver_email, message)"
      ]
    },
    {
      "cell_type": "code",
      "source": [],
      "metadata": {
        "id": "gm-I4p8dv2lj"
      },
      "execution_count": null,
      "outputs": []
    }
  ]
}