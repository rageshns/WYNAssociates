{
  "nbformat": 4,
  "nbformat_minor": 0,
  "metadata": {
    "colab": {
      "provenance": []
    },
    "kernelspec": {
      "name": "python3",
      "display_name": "Python 3"
    },
    "language_info": {
      "name": "python"
    }
  },
  "cells": [
    {
      "cell_type": "code",
      "execution_count": 1,
      "metadata": {
        "id": "mLSlrsN2cW-P"
      },
      "outputs": [],
      "source": [
        "import base64\n",
        "import httpx\n",
        "\n",
        "image1_url = \"https://upload.wikimedia.org/wikipedia/commons/a/a7/Camponotus_flavomarginatus_ant.jpg\"\n",
        "image1_media_type = \"image/jpeg\"\n",
        "image1_data = base64.standard_b64encode(httpx.get(image1_url).content).decode(\"utf-8\")\n",
        "\n",
        "image2_url = \"https://upload.wikimedia.org/wikipedia/commons/b/b5/Iridescent.green.sweat.bee1.jpg\"\n",
        "image2_media_type = \"image/jpeg\"\n",
        "image2_data = base64.standard_b64encode(httpx.get(image2_url).content).decode(\"utf-8\")"
      ]
    },
    {
      "cell_type": "code",
      "source": [
        "! pip install anthropic"
      ],
      "metadata": {
        "colab": {
          "base_uri": "https://localhost:8080/"
        },
        "id": "21OtCedvce8t",
        "outputId": "68c8e26c-0bea-4b83-e94b-c676da071ab8"
      },
      "execution_count": 2,
      "outputs": [
        {
          "output_type": "stream",
          "name": "stdout",
          "text": [
            "Collecting anthropic\n",
            "  Downloading anthropic-0.45.0-py3-none-any.whl.metadata (23 kB)\n",
            "Requirement already satisfied: anyio<5,>=3.5.0 in /usr/local/lib/python3.11/dist-packages (from anthropic) (3.7.1)\n",
            "Requirement already satisfied: distro<2,>=1.7.0 in /usr/local/lib/python3.11/dist-packages (from anthropic) (1.9.0)\n",
            "Requirement already satisfied: httpx<1,>=0.23.0 in /usr/local/lib/python3.11/dist-packages (from anthropic) (0.28.1)\n",
            "Requirement already satisfied: jiter<1,>=0.4.0 in /usr/local/lib/python3.11/dist-packages (from anthropic) (0.8.2)\n",
            "Requirement already satisfied: pydantic<3,>=1.9.0 in /usr/local/lib/python3.11/dist-packages (from anthropic) (2.10.5)\n",
            "Requirement already satisfied: sniffio in /usr/local/lib/python3.11/dist-packages (from anthropic) (1.3.1)\n",
            "Requirement already satisfied: typing-extensions<5,>=4.10 in /usr/local/lib/python3.11/dist-packages (from anthropic) (4.12.2)\n",
            "Requirement already satisfied: idna>=2.8 in /usr/local/lib/python3.11/dist-packages (from anyio<5,>=3.5.0->anthropic) (3.10)\n",
            "Requirement already satisfied: certifi in /usr/local/lib/python3.11/dist-packages (from httpx<1,>=0.23.0->anthropic) (2024.12.14)\n",
            "Requirement already satisfied: httpcore==1.* in /usr/local/lib/python3.11/dist-packages (from httpx<1,>=0.23.0->anthropic) (1.0.7)\n",
            "Requirement already satisfied: h11<0.15,>=0.13 in /usr/local/lib/python3.11/dist-packages (from httpcore==1.*->httpx<1,>=0.23.0->anthropic) (0.14.0)\n",
            "Requirement already satisfied: annotated-types>=0.6.0 in /usr/local/lib/python3.11/dist-packages (from pydantic<3,>=1.9.0->anthropic) (0.7.0)\n",
            "Requirement already satisfied: pydantic-core==2.27.2 in /usr/local/lib/python3.11/dist-packages (from pydantic<3,>=1.9.0->anthropic) (2.27.2)\n",
            "Downloading anthropic-0.45.0-py3-none-any.whl (222 kB)\n",
            "\u001b[2K   \u001b[90m━━━━━━━━━━━━━━━━━━━━━━━━━━━━━━━━━━━━━━━━\u001b[0m \u001b[32m222.3/222.3 kB\u001b[0m \u001b[31m2.9 MB/s\u001b[0m eta \u001b[36m0:00:00\u001b[0m\n",
            "\u001b[?25hInstalling collected packages: anthropic\n",
            "Successfully installed anthropic-0.45.0\n"
          ]
        }
      ]
    },
    {
      "cell_type": "code",
      "source": [
        "from google.colab import userdata\n",
        "CLAUDE_API_KEY = userdata.get('CLAUDE_API_KEY')"
      ],
      "metadata": {
        "id": "wbUZ0R0qcm0R"
      },
      "execution_count": 4,
      "outputs": []
    },
    {
      "cell_type": "code",
      "source": [
        "import anthropic\n",
        "\n",
        "client = anthropic.Anthropic(api_key=CLAUDE_API_KEY)"
      ],
      "metadata": {
        "id": "iY9wxgCJcbHn"
      },
      "execution_count": 5,
      "outputs": []
    },
    {
      "cell_type": "code",
      "source": [
        "message = client.messages.create(\n",
        "    model=\"claude-3-5-sonnet-20241022\",\n",
        "    max_tokens=1024,\n",
        "    messages=[\n",
        "        {\n",
        "            \"role\": \"user\",\n",
        "            \"content\": [\n",
        "                {\n",
        "                    \"type\": \"image\",\n",
        "                    \"source\": {\n",
        "                        \"type\": \"base64\",\n",
        "                        \"media_type\": image1_media_type,\n",
        "                        \"data\": image1_data,\n",
        "                    },\n",
        "                },\n",
        "                {\n",
        "                    \"type\": \"text\",\n",
        "                    \"text\": \"Describe this image.\"\n",
        "                }\n",
        "            ],\n",
        "        }\n",
        "    ],\n",
        ")"
      ],
      "metadata": {
        "id": "0FHpi1NCciN2"
      },
      "execution_count": 6,
      "outputs": []
    },
    {
      "cell_type": "code",
      "source": [
        "print(message)"
      ],
      "metadata": {
        "colab": {
          "base_uri": "https://localhost:8080/"
        },
        "id": "2ldZjJH4ctfA",
        "outputId": "dd77412e-75ce-468e-f684-08e3a0b72243"
      },
      "execution_count": 7,
      "outputs": [
        {
          "output_type": "stream",
          "name": "stdout",
          "text": [
            "Message(id='msg_01Fj7AfThYYA8JLm5u1J5dFN', content=[TextBlock(citations=None, text='This is a detailed macro photograph of an ant, showing its distinctive body structure in great clarity. The ant appears to be a carpenter ant or similar large species, with a dark, glossy exoskeleton. The image captures the ant in profile, standing on what appears to be a textured surface, possibly wood or stone. You can clearly see its segmented body, including the head, thorax, and abdomen, as well as its long, jointed legs and antennae. The lighting and shallow depth of field create a professional, artistic quality to the photograph, with the background softly blurred while maintaining sharp focus on the ant\\'s features. The ant\\'s body shows fine details including small hairs and its characteristic narrow \"waist\" between the thorax and abdomen.', type='text')], model='claude-3-5-sonnet-20241022', role='assistant', stop_reason='end_turn', stop_sequence=None, type='message', usage=Usage(cache_creation_input_tokens=0, cache_read_input_tokens=0, input_tokens=1552, output_tokens=165))\n"
          ]
        }
      ]
    },
    {
      "cell_type": "code",
      "source": [
        "import base64"
      ],
      "metadata": {
        "id": "kq8cz15FdbBs"
      },
      "execution_count": 8,
      "outputs": []
    },
    {
      "cell_type": "code",
      "source": [
        "file_path = \"test1.png\"\n",
        "file_obj = base64.standard_b64encode(open(file_path, 'rb').read()).decode(\"utf-8\")"
      ],
      "metadata": {
        "id": "7KjwfbwiddFE"
      },
      "execution_count": 14,
      "outputs": []
    },
    {
      "cell_type": "code",
      "source": [
        "message = client.messages.create(\n",
        "    model=\"claude-3-5-sonnet-20241022\",\n",
        "    max_tokens=1024,\n",
        "    messages=[\n",
        "        {\n",
        "            \"role\": \"user\",\n",
        "            \"content\": [\n",
        "                {\n",
        "                    \"type\": \"image\",\n",
        "                    \"source\": {\n",
        "                        \"type\": \"base64\",\n",
        "                        \"media_type\": \"image/png\",\n",
        "                        \"data\": file_obj,\n",
        "                    },\n",
        "                },\n",
        "                {\n",
        "                    \"type\": \"text\",\n",
        "                    \"text\": \"Describe this image.\"\n",
        "                }\n",
        "            ],\n",
        "        }\n",
        "    ],\n",
        ")"
      ],
      "metadata": {
        "id": "q1175R6wcuQj"
      },
      "execution_count": 16,
      "outputs": []
    },
    {
      "cell_type": "code",
      "source": [
        "print(message)"
      ],
      "metadata": {
        "colab": {
          "base_uri": "https://localhost:8080/"
        },
        "id": "dmYBrat1dceX",
        "outputId": "156bab14-c779-43ed-b62f-23c10ee70184"
      },
      "execution_count": 17,
      "outputs": [
        {
          "output_type": "stream",
          "name": "stdout",
          "text": [
            "Message(id='msg_01HjZ3ys85DkfFip7nPvSQde', content=[TextBlock(citations=None, text='This image shows a development environment with multiple parts:\\n\\n1. At the top, there\\'s a browser or editor tab bar showing various development-related tabs and bookmarks.\\n\\n2. In the main content area, there are two main sections:\\n   - The upper portion shows Python code examples using PyAutoGUI, demonstrating various dialog functions like alert(), confirm(), prompt(), and password()\\n   - Below that is a section titled \"Screenshot Functions\" showing code for taking and saving screenshots using PyAutoGUI with Pillow\\n\\n3. At the bottom, there\\'s a dark-themed code editor (appears to be VS Code or similar) showing some JSON or code structure with nested properties and trigger words.\\n\\n4. The Windows taskbar is visible at the very bottom of the screen with various application icons.\\n\\nThe overall theme appears to be dark/night mode, and the content is focused on PyAutoGUI automation and GUI interaction programming in Python.', type='text')], model='claude-3-5-sonnet-20241022', role='assistant', stop_reason='end_turn', stop_sequence=None, type='message', usage=Usage(cache_creation_input_tokens=0, cache_read_input_tokens=0, input_tokens=1576, output_tokens=201))\n"
          ]
        }
      ]
    },
    {
      "cell_type": "code",
      "source": [
        "message.content[0].text"
      ],
      "metadata": {
        "colab": {
          "base_uri": "https://localhost:8080/",
          "height": 105
        },
        "id": "HwVHMC0WgTaZ",
        "outputId": "29442934-0d02-4e93-b85c-4a13fe96d9fd"
      },
      "execution_count": 20,
      "outputs": [
        {
          "output_type": "execute_result",
          "data": {
            "text/plain": [
              "'This image shows a development environment with multiple parts:\\n\\n1. At the top, there\\'s a browser or editor tab bar showing various development-related tabs and bookmarks.\\n\\n2. In the main content area, there are two main sections:\\n   - The upper portion shows Python code examples using PyAutoGUI, demonstrating various dialog functions like alert(), confirm(), prompt(), and password()\\n   - Below that is a section titled \"Screenshot Functions\" showing code for taking and saving screenshots using PyAutoGUI with Pillow\\n\\n3. At the bottom, there\\'s a dark-themed code editor (appears to be VS Code or similar) showing some JSON or code structure with nested properties and trigger words.\\n\\n4. The Windows taskbar is visible at the very bottom of the screen with various application icons.\\n\\nThe overall theme appears to be dark/night mode, and the content is focused on PyAutoGUI automation and GUI interaction programming in Python.'"
            ],
            "application/vnd.google.colaboratory.intrinsic+json": {
              "type": "string"
            }
          },
          "metadata": {},
          "execution_count": 20
        }
      ]
    },
    {
      "cell_type": "code",
      "source": [],
      "metadata": {
        "id": "cn50BqAPjB38"
      },
      "execution_count": null,
      "outputs": []
    }
  ]
}