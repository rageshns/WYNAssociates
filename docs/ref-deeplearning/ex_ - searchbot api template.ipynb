{
  "nbformat": 4,
  "nbformat_minor": 0,
  "metadata": {
    "colab": {
      "provenance": []
    },
    "kernelspec": {
      "name": "python3",
      "display_name": "Python 3"
    },
    "language_info": {
      "name": "python"
    }
  },
  "cells": [
    {
      "cell_type": "code",
      "execution_count": 27,
      "metadata": {
        "id": "SShTSI1XPX2T"
      },
      "outputs": [],
      "source": [
        "import requests\n",
        "import json\n",
        "\n",
        "def invoke_search_api(\n",
        "        query: str,\n",
        "        location: str = \"New York, New York, United States\",\n",
        "        num: int = 10) -> dict:\n",
        "    \"\"\"\n",
        "    Invoke the Azure HTTP-triggered function API with a search query, location, and number of results.\n",
        "\n",
        "    :param query: The search query string.\n",
        "    :param location: Location for the search, defaults to \"New York\".\n",
        "    :param num: Number of results to retrieve, defaults to 10.\n",
        "    :return: A dictionary containing the API response.\n",
        "    \"\"\"\n",
        "    # Define the API endpoint and authentication code\n",
        "    api_key = \"xxx\"\n",
        "    url = f\"https://vitanexus-searchbot-v2.azurewebsites.net/api/http_trigger?code={api_key}\"\n",
        "\n",
        "    # Define the JSON payload for the POST request\n",
        "    payload = {\n",
        "        \"query\": query,\n",
        "        \"location\": location,\n",
        "        \"num\": num\n",
        "    }\n",
        "\n",
        "    try:\n",
        "        # Send a POST request to the API with the JSON payload\n",
        "        response = requests.post(url, json=payload)\n",
        "\n",
        "        # Check for successful request\n",
        "        response.raise_for_status()\n",
        "\n",
        "        # Parse and return the JSON response\n",
        "        return response.json()\n",
        "\n",
        "    except requests.exceptions.RequestException as e:\n",
        "        print(f\"An error occurred: {e}\")\n",
        "        return {\"status\": \"error\", \"message\": str(e)}\n"
      ]
    },
    {
      "cell_type": "code",
      "source": [
        "from IPython.display import display, Markdown"
      ],
      "metadata": {
        "id": "5L-3wsEpkzr4"
      },
      "execution_count": 31,
      "outputs": []
    },
    {
      "cell_type": "code",
      "source": [
        "# Example usage in a Python notebook\n",
        "response = invoke_search_api(\n",
        "    query=\"weather in Ithaca, NY\",\n",
        "    num=5)"
      ],
      "metadata": {
        "id": "HsEyw0qES4bl"
      },
      "execution_count": 44,
      "outputs": []
    },
    {
      "cell_type": "code",
      "source": [
        "display(Markdown(response[\"data\"]))"
      ],
      "metadata": {
        "colab": {
          "base_uri": "https://localhost:8080/",
          "height": 502
        },
        "id": "cmdZHfCjk0K3",
        "outputId": "900f0d9f-d173-41dd-e318-f6bbb224dad9"
      },
      "execution_count": 45,
      "outputs": [
        {
          "output_type": "display_data",
          "data": {
            "text/plain": [
              "<IPython.core.display.Markdown object>"
            ],
            "text/markdown": "| Title | Link | Snippet |\n| :--- | :--- | :--- |\n| 10-Day Weather Forecast for Ithaca, NY | [https://weather.com/weather/tenday/l/Ithaca+NY?canonicalCityId=32a2ed56d3824272b018db34536d8bf2a49eaa0d66160bec6006c334dae3f321](https://weather.com/weather/tenday/l/Ithaca+NY?canonicalCityId=32a2ed56d3824272b018db34536d8bf2a49eaa0d66160bec6006c334dae3f321) | Fri 08 | Day ... Mostly sunny skies this morning will become overcast during the afternoon. High around 60F. Winds WNW at 10 to 20 mph. |\n| Ithaca, NY Weather Forecast | [https://www.accuweather.com/en/us/ithaca/14850/weather-forecast/334655](https://www.accuweather.com/en/us/ithaca/14850/weather-forecast/334655) | Hourly Weather · 1 PM 59°. rain drop 22% · 2 PM 56°. rain drop 22% · 3 PM 54°. rain drop 27% · 4 PM 52°. rain drop 58% · 5 PM 49°. rain drop 58% · 6 PM 47°. |\n| Weather Forecast and Conditions for Ithaca, NY | [https://weather.com/weather/today/l/Ithaca+NY?canonicalCityId=32a2ed56d3824272b018db34536d8bf2a49eaa0d66160bec6006c334dae3f321](https://weather.com/weather/today/l/Ithaca+NY?canonicalCityId=32a2ed56d3824272b018db34536d8bf2a49eaa0d66160bec6006c334dae3f321) | Ithaca, NY Forecast · Morning. 55°. -- · Afternoon. 57°. Chance of Rain2% · Evening. 45°. Chance of Rain6% · Overnight. 36°. Chance of Rain3% ... |\n| Hourly Weather Forecast for Ithaca, NY | [https://weather.com/weather/hourbyhour/l/Ithaca+NY?canonicalCityId=32a2ed56d3824272b018db34536d8bf2a49eaa0d66160bec6006c334dae3f321](https://weather.com/weather/hourbyhour/l/Ithaca+NY?canonicalCityId=32a2ed56d3824272b018db34536d8bf2a49eaa0d66160bec6006c334dae3f321) | 1:00 pm · Feels Like58° · WindWNW 17 mph · Humidity45% · UV Index2 of 11 · Cloud Cover13% · Rain Amount0 in ... |\n| Ithaca, NY 10-Day Weather Forecast ... | [https://www.wunderground.com/forecast/us/ny/ithaca/14850](https://www.wunderground.com/forecast/us/ny/ithaca/14850) | Ithaca Weather Forecasts. Weather Underground provides local & long-range weather forecasts, weatherreports, maps & tropical weather conditions for the ... |\n"
          },
          "metadata": {}
        }
      ]
    }
  ]
}