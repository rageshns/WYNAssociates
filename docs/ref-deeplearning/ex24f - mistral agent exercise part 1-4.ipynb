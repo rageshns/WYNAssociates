{
  "nbformat": 4,
  "nbformat_minor": 0,
  "metadata": {
    "colab": {
      "provenance": []
    },
    "kernelspec": {
      "name": "python3",
      "display_name": "Python 3"
    },
    "language_info": {
      "name": "python"
    }
  },
  "cells": [
    {
      "cell_type": "code",
      "execution_count": null,
      "metadata": {
        "colab": {
          "base_uri": "https://localhost:8080/",
          "height": 914
        },
        "id": "st_63-J37r9f",
        "outputId": "0e686f98-3925-4a1b-f63b-9ad6d7d73a86"
      },
      "outputs": [
        {
          "output_type": "stream",
          "name": "stdout",
          "text": [
            "Collecting mistralai\n",
            "  Downloading mistralai-1.0.1-py3-none-any.whl.metadata (19 kB)\n",
            "Collecting httpx<0.28.0,>=0.27.0 (from mistralai)\n",
            "  Downloading httpx-0.27.0-py3-none-any.whl.metadata (7.2 kB)\n",
            "Collecting jsonpath-python<2.0.0,>=1.0.6 (from mistralai)\n",
            "  Downloading jsonpath_python-1.0.6-py3-none-any.whl.metadata (12 kB)\n",
            "Requirement already satisfied: pydantic<2.9.0,>=2.8.2 in /usr/local/lib/python3.10/dist-packages (from mistralai) (2.8.2)\n",
            "Collecting python-dateutil<3.0.0,>=2.9.0.post0 (from mistralai)\n",
            "  Downloading python_dateutil-2.9.0.post0-py2.py3-none-any.whl.metadata (8.4 kB)\n",
            "Collecting typing-inspect<0.10.0,>=0.9.0 (from mistralai)\n",
            "  Downloading typing_inspect-0.9.0-py3-none-any.whl.metadata (1.5 kB)\n",
            "Requirement already satisfied: anyio in /usr/local/lib/python3.10/dist-packages (from httpx<0.28.0,>=0.27.0->mistralai) (3.7.1)\n",
            "Requirement already satisfied: certifi in /usr/local/lib/python3.10/dist-packages (from httpx<0.28.0,>=0.27.0->mistralai) (2024.7.4)\n",
            "Collecting httpcore==1.* (from httpx<0.28.0,>=0.27.0->mistralai)\n",
            "  Downloading httpcore-1.0.5-py3-none-any.whl.metadata (20 kB)\n",
            "Requirement already satisfied: idna in /usr/local/lib/python3.10/dist-packages (from httpx<0.28.0,>=0.27.0->mistralai) (3.7)\n",
            "Requirement already satisfied: sniffio in /usr/local/lib/python3.10/dist-packages (from httpx<0.28.0,>=0.27.0->mistralai) (1.3.1)\n",
            "Collecting h11<0.15,>=0.13 (from httpcore==1.*->httpx<0.28.0,>=0.27.0->mistralai)\n",
            "  Downloading h11-0.14.0-py3-none-any.whl.metadata (8.2 kB)\n",
            "Requirement already satisfied: annotated-types>=0.4.0 in /usr/local/lib/python3.10/dist-packages (from pydantic<2.9.0,>=2.8.2->mistralai) (0.7.0)\n",
            "Requirement already satisfied: pydantic-core==2.20.1 in /usr/local/lib/python3.10/dist-packages (from pydantic<2.9.0,>=2.8.2->mistralai) (2.20.1)\n",
            "Requirement already satisfied: typing-extensions>=4.6.1 in /usr/local/lib/python3.10/dist-packages (from pydantic<2.9.0,>=2.8.2->mistralai) (4.12.2)\n",
            "Requirement already satisfied: six>=1.5 in /usr/local/lib/python3.10/dist-packages (from python-dateutil<3.0.0,>=2.9.0.post0->mistralai) (1.16.0)\n",
            "Collecting mypy-extensions>=0.3.0 (from typing-inspect<0.10.0,>=0.9.0->mistralai)\n",
            "  Downloading mypy_extensions-1.0.0-py3-none-any.whl.metadata (1.1 kB)\n",
            "Requirement already satisfied: exceptiongroup in /usr/local/lib/python3.10/dist-packages (from anyio->httpx<0.28.0,>=0.27.0->mistralai) (1.2.2)\n",
            "Downloading mistralai-1.0.1-py3-none-any.whl (214 kB)\n",
            "\u001b[2K   \u001b[90m━━━━━━━━━━━━━━━━━━━━━━━━━━━━━━━━━━━━━━━━\u001b[0m \u001b[32m214.2/214.2 kB\u001b[0m \u001b[31m5.6 MB/s\u001b[0m eta \u001b[36m0:00:00\u001b[0m\n",
            "\u001b[?25hDownloading httpx-0.27.0-py3-none-any.whl (75 kB)\n",
            "\u001b[2K   \u001b[90m━━━━━━━━━━━━━━━━━━━━━━━━━━━━━━━━━━━━━━━━\u001b[0m \u001b[32m75.6/75.6 kB\u001b[0m \u001b[31m4.2 MB/s\u001b[0m eta \u001b[36m0:00:00\u001b[0m\n",
            "\u001b[?25hDownloading httpcore-1.0.5-py3-none-any.whl (77 kB)\n",
            "\u001b[2K   \u001b[90m━━━━━━━━━━━━━━━━━━━━━━━━━━━━━━━━━━━━━━━━\u001b[0m \u001b[32m77.9/77.9 kB\u001b[0m \u001b[31m4.4 MB/s\u001b[0m eta \u001b[36m0:00:00\u001b[0m\n",
            "\u001b[?25hDownloading jsonpath_python-1.0.6-py3-none-any.whl (7.6 kB)\n",
            "Downloading python_dateutil-2.9.0.post0-py2.py3-none-any.whl (229 kB)\n",
            "\u001b[2K   \u001b[90m━━━━━━━━━━━━━━━━━━━━━━━━━━━━━━━━━━━━━━━━\u001b[0m \u001b[32m229.9/229.9 kB\u001b[0m \u001b[31m11.4 MB/s\u001b[0m eta \u001b[36m0:00:00\u001b[0m\n",
            "\u001b[?25hDownloading typing_inspect-0.9.0-py3-none-any.whl (8.8 kB)\n",
            "Downloading mypy_extensions-1.0.0-py3-none-any.whl (4.7 kB)\n",
            "Downloading h11-0.14.0-py3-none-any.whl (58 kB)\n",
            "\u001b[2K   \u001b[90m━━━━━━━━━━━━━━━━━━━━━━━━━━━━━━━━━━━━━━━━\u001b[0m \u001b[32m58.3/58.3 kB\u001b[0m \u001b[31m3.9 MB/s\u001b[0m eta \u001b[36m0:00:00\u001b[0m\n",
            "\u001b[?25hInstalling collected packages: python-dateutil, mypy-extensions, jsonpath-python, h11, typing-inspect, httpcore, httpx, mistralai\n",
            "  Attempting uninstall: python-dateutil\n",
            "    Found existing installation: python-dateutil 2.8.2\n",
            "    Uninstalling python-dateutil-2.8.2:\n",
            "      Successfully uninstalled python-dateutil-2.8.2\n",
            "Successfully installed h11-0.14.0 httpcore-1.0.5 httpx-0.27.0 jsonpath-python-1.0.6 mistralai-1.0.1 mypy-extensions-1.0.0 python-dateutil-2.9.0.post0 typing-inspect-0.9.0\n"
          ]
        },
        {
          "output_type": "display_data",
          "data": {
            "application/vnd.colab-display-data+json": {
              "pip_warning": {
                "packages": [
                  "dateutil"
                ]
              },
              "id": "d81499a1d187457980ad6defa4c44a11"
            }
          },
          "metadata": {}
        }
      ],
      "source": [
        "! pip install mistralai"
      ]
    },
    {
      "cell_type": "code",
      "source": [
        "from google.colab import userdata\n",
        "MISTRAL_API_KEY = userdata.get('MISTRAL_API_KEY')"
      ],
      "metadata": {
        "id": "drzVATAl8Llt"
      },
      "execution_count": null,
      "outputs": []
    },
    {
      "cell_type": "code",
      "source": [
        "import os\n",
        "from mistralai import Mistral\n",
        "\n",
        "\n",
        "api_key = MISTRAL_API_KEY # os.environ[\"MISTRAL_API_KEY\"]\n",
        "\n",
        "class ChatBot:\n",
        "    def __init__(self, api_key):\n",
        "        self.client = Mistral(api_key=api_key)\n",
        "        self.history = []\n",
        "\n",
        "    def generate_response(self, agent_id, user_message):\n",
        "        # Add the user's message to the history\n",
        "        self.history.append({\n",
        "            \"role\": \"user\",\n",
        "            \"content\": user_message\n",
        "        })\n",
        "\n",
        "        # Send the message to the API and get the response\n",
        "        chat_response = self.client.agents.complete(\n",
        "            agent_id=agent_id,\n",
        "            messages=self.history,\n",
        "        )\n",
        "\n",
        "        # Extract the AI's response and add it to the history\n",
        "        ai_response = chat_response.choices[0].message.content\n",
        "        self.history.append({\n",
        "            \"role\": \"assistant\",\n",
        "            \"content\": ai_response\n",
        "        })\n",
        "\n",
        "        # Return the AI's response\n",
        "        return ai_response\n",
        "\n",
        "    def get_history(self):\n",
        "        return self.history\n"
      ],
      "metadata": {
        "id": "URFKMKcr792u"
      },
      "execution_count": null,
      "outputs": []
    },
    {
      "cell_type": "code",
      "source": [
        "bot = ChatBot(api_key)"
      ],
      "metadata": {
        "id": "k7sbJEKs_Zvi"
      },
      "execution_count": null,
      "outputs": []
    },
    {
      "cell_type": "code",
      "source": [
        "response = bot.generate_response(\n",
        "    agent_id=\"ag:bfb4e4d9:20240809:coding-agent:b1d09feb\",\n",
        "    user_message=\"write a hello world python program for me\"\n",
        ")"
      ],
      "metadata": {
        "id": "NQ2vsbz4_awP"
      },
      "execution_count": null,
      "outputs": []
    },
    {
      "cell_type": "code",
      "source": [
        "print(response)"
      ],
      "metadata": {
        "colab": {
          "base_uri": "https://localhost:8080/"
        },
        "id": "4kReEixR_oTm",
        "outputId": "76bee58a-64f4-4191-c798-a30b78e31fc6"
      },
      "execution_count": null,
      "outputs": [
        {
          "output_type": "stream",
          "name": "stdout",
          "text": [
            "Certainly! Below is a simple \"Hello, World!\" program written in Python, complete with a docstring, comments, and type hints.\n",
            "\n",
            "```python\n",
            "def main() -> None:\n",
            "    \"\"\"\n",
            "    Main function to print \"Hello, World!\".\n",
            "\n",
            "    This function serves as the entry point of the program.\n",
            "    It prints a greeting message to the console.\n",
            "    \"\"\"\n",
            "    # Print the greeting message\n",
            "    print(\"Hello, World!\")\n",
            "\n",
            "if __name__ == \"__main__\":\n",
            "    # Execute the main function when the script is run directly\n",
            "    main()\n",
            "```\n",
            "\n",
            "### Explanation:\n",
            "1. **Docstring**: The `main` function includes a docstring that describes the purpose of the function.\n",
            "2. **Comments**: Comments are included to explain what the code is doing.\n",
            "3. **Type Hints**: The `main` function is annotated with a return type of `None`.\n",
            "\n",
            "You can run this program by saving it to a file (e.g., `hello_world.py`) and executing it with Python:\n",
            "```sh\n",
            "python hello_world.py\n",
            "```\n"
          ]
        }
      ]
    },
    {
      "cell_type": "code",
      "source": [
        "import re\n",
        "from typing import Optional\n",
        "\n",
        "def isolate_and_save_python_code(input_string: str, file_path: str) -> Optional[str]:\n",
        "    \"\"\"\n",
        "    Extracts Python code from a given input string and saves it to a file.\n",
        "\n",
        "    This function looks for a block of text that is enclosed within triple backticks (```),\n",
        "    specifically targeting blocks that start with ```python.\n",
        "\n",
        "    Args:\n",
        "        input_string (str): The input string containing the Python code block.\n",
        "        file_path (str): The path where the extracted Python code will be saved.\n",
        "\n",
        "    Returns:\n",
        "        Optional[str]: The path to the saved file if the Python code block is found and saved, else None.\n",
        "    \"\"\"\n",
        "    # Define the pattern to match the Python code block\n",
        "    pattern = r'```python\\s*(.*?)\\s*```'\n",
        "\n",
        "    # Search for the pattern in the input string\n",
        "    match = re.search(pattern, input_string, re.DOTALL)\n",
        "\n",
        "    if match:\n",
        "        # Extract the Python code\n",
        "        python_code = match.group(1)\n",
        "\n",
        "        # Write the Python code to the specified file\n",
        "        with open(file_path, 'w') as file:\n",
        "            file.write(python_code)\n",
        "\n",
        "        return file_path\n",
        "    else:\n",
        "        # Return None if no Python code block is found\n",
        "        return None"
      ],
      "metadata": {
        "id": "a01HMwy6_pPx"
      },
      "execution_count": null,
      "outputs": []
    },
    {
      "cell_type": "code",
      "source": [
        "isolate_and_save_python_code(\n",
        "    input_string=response,\n",
        "    file_path=\"hello_world_2.py\"\n",
        ")"
      ],
      "metadata": {
        "colab": {
          "base_uri": "https://localhost:8080/",
          "height": 36
        },
        "id": "cOgfZzg6D5ui",
        "outputId": "a408e541-f0ae-471a-be7b-15fecc7116da"
      },
      "execution_count": null,
      "outputs": [
        {
          "output_type": "execute_result",
          "data": {
            "text/plain": [
              "'hello_world_2.py'"
            ],
            "application/vnd.google.colaboratory.intrinsic+json": {
              "type": "string"
            }
          },
          "metadata": {},
          "execution_count": 16
        }
      ]
    },
    {
      "cell_type": "code",
      "source": [
        "import subprocess\n",
        "from typing import Any\n",
        "\n",
        "def execute_python_script(script_path: str) -> Any:\n",
        "    \"\"\"\n",
        "    Executes a locally existing Python script.\n",
        "\n",
        "    This function runs the specified Python script using the subprocess module.\n",
        "\n",
        "    Args:\n",
        "        script_path (str): The file path of the Python script to be executed.\n",
        "\n",
        "    Returns:\n",
        "        Any: The output of the executed script.\n",
        "    \"\"\"\n",
        "    try:\n",
        "        # Execute the Python script\n",
        "        result = subprocess.run(['python', script_path], capture_output=True, text=True, check=True)\n",
        "\n",
        "        # Return the output of the script\n",
        "        return result.stdout\n",
        "    except subprocess.CalledProcessError as e:\n",
        "        # Handle any errors that occur during script execution\n",
        "        print(f\"Error executing script: {e}\")\n",
        "        return None"
      ],
      "metadata": {
        "id": "6mPS27ezEBX3"
      },
      "execution_count": null,
      "outputs": []
    },
    {
      "cell_type": "code",
      "source": [
        "# Example usage\n",
        "script_path = 'hello_world_2.py'\n",
        "output = execute_python_script(script_path)\n",
        "\n",
        "if output is not None:\n",
        "    print(\"Script executed successfully.\")\n",
        "    print(\"Output:\")\n",
        "    print(output)\n",
        "else:\n",
        "    print(\"Failed to execute the script.\")"
      ],
      "metadata": {
        "colab": {
          "base_uri": "https://localhost:8080/"
        },
        "id": "i_E1NphJIs1r",
        "outputId": "f624032d-ee33-4075-b95d-aa3fcaea9d8c"
      },
      "execution_count": null,
      "outputs": [
        {
          "output_type": "stream",
          "name": "stdout",
          "text": [
            "Script executed successfully.\n",
            "Output:\n",
            "Hello, World!\n",
            "\n"
          ]
        }
      ]
    },
    {
      "cell_type": "code",
      "source": [
        "prompt = input(\"🧑 Human: \")\n",
        "\n",
        "while 'EXIT' not in prompt:\n",
        "\n",
        "    response = bot.generate_response(\n",
        "        agent_id=\"ag:bfb4e4d9:20240809:coding-agent:b1d09feb\",\n",
        "        user_message=prompt\n",
        "    )\n",
        "\n",
        "    print(\"🤖 Bot: \", response)\n",
        "\n",
        "    if '```python' in response:\n",
        "        file_name = input(\"What name do you want to save for this script?\")\n",
        "        file_name = \"_\".join(file_name.split())\n",
        "        isolate_and_save_python_code(\n",
        "            input_string=response,\n",
        "            file_path=f\"{file_name}.py\"\n",
        "        )\n",
        "\n",
        "        execution = input(\"Do you want to execute this script? Enter 'Y' or 'N'. \")\n",
        "        if execution == 'Y':\n",
        "            output = execute_python_script(f\"{file_name}.py\")\n",
        "            if output is not None:\n",
        "                print(\"Script executed successfully.\")\n",
        "                print(\"🤖 Bot Output:\")\n",
        "                print(output)\n",
        "            else:\n",
        "                print(\"Failed to execute the script.\")\n",
        "    prompt = input(\"🧑 Human: \")\n",
        "\n",
        "    print(\"NOTE: Enter 'EXIT' if you want to quit the program.\")"
      ],
      "metadata": {
        "colab": {
          "base_uri": "https://localhost:8080/"
        },
        "id": "G7-QGNHBIxGm",
        "outputId": "895ef5a8-d8c8-4906-851e-1890ba8e35cf"
      },
      "execution_count": null,
      "outputs": [
        {
          "output_type": "stream",
          "name": "stdout",
          "text": [
            "🧑 Human: i want to simulate the value of pi, write a python code to do this for me\n",
            "🤖 Bot:  Sure! Below is a Python program to simulate the value of π (pi) using the Monte Carlo method. This method involves generating random points in a unit square and calculating the ratio of points that fall within a unit circle to estimate the value of π.\n",
            "\n",
            "```python\n",
            "import random\n",
            "\n",
            "def estimate_pi(num_points: int) -> float:\n",
            "    \"\"\"\n",
            "    Estimate the value of pi using the Monte Carlo method.\n",
            "\n",
            "    This function generates a specified number of random points within a unit square\n",
            "    and calculates the ratio of points that fall within a unit circle to estimate the\n",
            "    value of pi.\n",
            "\n",
            "    Args:\n",
            "        num_points (int): The number of random points to generate.\n",
            "\n",
            "    Returns:\n",
            "        float: The estimated value of pi.\n",
            "    \"\"\"\n",
            "    if num_points <= 0:\n",
            "        raise ValueError(\"The number of points must be a positive integer.\")\n",
            "\n",
            "    points_inside_circle = 0\n",
            "\n",
            "    for _ in range(num_points):\n",
            "        # Generate a random point in the unit square\n",
            "        x = random.random()\n",
            "        y = random.random()\n",
            "\n",
            "        # Check if the point is inside the unit circle\n",
            "        if x**2 + y**2 <= 1:\n",
            "            points_inside_circle += 1\n",
            "\n",
            "    # Estimate pi as 4 times the ratio of points inside the circle to total points\n",
            "    pi_estimate = 4 * points_inside_circle / num_points\n",
            "\n",
            "    return pi_estimate\n",
            "\n",
            "if __name__ == \"__main__\":\n",
            "    # Number of points to use in the simulation\n",
            "    num_points = 1000000\n",
            "\n",
            "    # Estimate and print the value of pi\n",
            "    pi_estimated = estimate_pi(num_points)\n",
            "    print(f\"Estimated value of pi with {num_points} points: {pi_estimated}\")\n",
            "```\n",
            "\n",
            "### Explanation:\n",
            "1. **Docstring**: The `estimate_pi` function includes a docstring that describes the purpose of the function, its arguments, and its return value.\n",
            "2. **Comments**: Comments are included to explain what the code is doing.\n",
            "3. **Type Hints**: The function is annotated with type hints for the input argument and the return value.\n",
            "4. **Error Handling**: The function raises a `ValueError` if the input is not a positive integer.\n",
            "5. **Main Block**: The `if __name__ == \"__main__\":` block ensures that the code to estimate and print the value of π is executed only when the script is run directly.\n",
            "\n",
            "You can run this program by saving it to a file (e.g., `estimate_pi.py`) and executing it with Python:\n",
            "```sh\n",
            "python estimate_pi.py\n",
            "```\n",
            "\n",
            "This will output an estimated value of π based on the Monte Carlo simulation. You can adjust the `num_points` variable to increase or decrease the accuracy of the estimation.\n",
            "What name do you want to save for this script?simulation of pi\n",
            "Do you want to execute this script? Enter 'Y' or 'N'. Y\n",
            "Script executed successfully.\n",
            "🤖 Bot Output:\n",
            "Estimated value of pi with 1000000 points: 3.141556\n",
            "\n",
            "🧑 Human: EXIT\n",
            "NOTE: Enter 'EXIT' if you want to quit the program.\n"
          ]
        }
      ]
    },
    {
      "cell_type": "code",
      "source": [],
      "metadata": {
        "id": "ksQ8f4LGJBVI"
      },
      "execution_count": null,
      "outputs": []
    }
  ]
}