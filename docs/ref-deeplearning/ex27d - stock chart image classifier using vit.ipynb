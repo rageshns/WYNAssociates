{
  "nbformat": 4,
  "nbformat_minor": 0,
  "metadata": {
    "colab": {
      "provenance": [],
      "toc_visible": true,
      "machine_shape": "hm",
      "gpuType": "T4"
    },
    "kernelspec": {
      "name": "python3",
      "display_name": "Python 3"
    },
    "language_info": {
      "name": "python"
    },
    "accelerator": "GPU"
  },
  "cells": [
    {
      "cell_type": "markdown",
      "source": [
        "## Acquire Data"
      ],
      "metadata": {
        "id": "hi-0Zxwly_ls"
      }
    },
    {
      "cell_type": "code",
      "execution_count": 1,
      "metadata": {
        "id": "A9GrGmU0yAcH"
      },
      "outputs": [],
      "source": [
        "import os\n",
        "import pickle\n",
        "\n",
        "import numpy as np"
      ]
    },
    {
      "cell_type": "code",
      "source": [
        "os.chdir('/content/drive/MyDrive/stock_charts_images')"
      ],
      "metadata": {
        "id": "IL8-VqOAySGO"
      },
      "execution_count": 2,
      "outputs": []
    },
    {
      "cell_type": "code",
      "source": [
        "list_of_stock_chart_pkl_files = os.listdir()"
      ],
      "metadata": {
        "id": "-j16XqQcySzW"
      },
      "execution_count": 3,
      "outputs": []
    },
    {
      "cell_type": "code",
      "source": [
        "%%time\n",
        "\n",
        "with open(list_of_stock_chart_pkl_files[1], 'rb') as f:\n",
        "    data = pickle.load(f)"
      ],
      "metadata": {
        "colab": {
          "base_uri": "https://localhost:8080/"
        },
        "id": "g8psoi9wyTa8",
        "outputId": "236c70b7-6775-4e78-c8b6-c791a38d88ea"
      },
      "execution_count": 4,
      "outputs": [
        {
          "output_type": "stream",
          "name": "stdout",
          "text": [
            "CPU times: user 3.05 ms, sys: 558 ms, total: 561 ms\n",
            "Wall time: 7.17 s\n"
          ]
        }
      ]
    },
    {
      "cell_type": "code",
      "source": [
        "type(data), len(data)"
      ],
      "metadata": {
        "colab": {
          "base_uri": "https://localhost:8080/"
        },
        "id": "oi_mUmBdyflR",
        "outputId": "ae010e5c-ff6e-4a1c-ad73-453933be621f"
      },
      "execution_count": 5,
      "outputs": [
        {
          "output_type": "execute_result",
          "data": {
            "text/plain": [
              "(tuple, 2)"
            ]
          },
          "metadata": {},
          "execution_count": 5
        }
      ]
    },
    {
      "cell_type": "code",
      "source": [
        "type(data[0]), data[0].shape"
      ],
      "metadata": {
        "colab": {
          "base_uri": "https://localhost:8080/"
        },
        "id": "4RMJvxV8ykpW",
        "outputId": "ecece259-a4c2-4480-a952-2a276283c935"
      },
      "execution_count": 6,
      "outputs": [
        {
          "output_type": "execute_result",
          "data": {
            "text/plain": [
              "(numpy.ndarray, (2172, 299, 299, 3))"
            ]
          },
          "metadata": {},
          "execution_count": 6
        }
      ]
    },
    {
      "cell_type": "code",
      "source": [
        "type(data[1]), data[1].shape"
      ],
      "metadata": {
        "colab": {
          "base_uri": "https://localhost:8080/"
        },
        "id": "awejl2Y9ynxx",
        "outputId": "75958315-f333-483c-e766-1ecbeab0f56a"
      },
      "execution_count": 7,
      "outputs": [
        {
          "output_type": "execute_result",
          "data": {
            "text/plain": [
              "(numpy.ndarray, (2172,))"
            ]
          },
          "metadata": {},
          "execution_count": 7
        }
      ]
    },
    {
      "cell_type": "code",
      "source": [
        "np.unique(data[1])"
      ],
      "metadata": {
        "colab": {
          "base_uri": "https://localhost:8080/"
        },
        "id": "oSDT1GEmysSg",
        "outputId": "49f937a7-0eb4-46bf-9991-41bab1b29d7d"
      },
      "execution_count": 8,
      "outputs": [
        {
          "output_type": "execute_result",
          "data": {
            "text/plain": [
              "array([-0.58323352, -0.56096147, -0.34562271, ...,  0.35772196,\n",
              "        0.50475306,  0.81008261])"
            ]
          },
          "metadata": {},
          "execution_count": 8
        }
      ]
    },
    {
      "cell_type": "code",
      "source": [
        "X, y = data[0], data[1]"
      ],
      "metadata": {
        "id": "rg4eYUr21MEM"
      },
      "execution_count": 9,
      "outputs": []
    },
    {
      "cell_type": "code",
      "source": [
        "X.min(), X.max()"
      ],
      "metadata": {
        "colab": {
          "base_uri": "https://localhost:8080/"
        },
        "id": "SXpgTfE33a1b",
        "outputId": "1e7b0920-5abb-402d-a97d-eaa202dcfaa4"
      },
      "execution_count": 18,
      "outputs": [
        {
          "output_type": "execute_result",
          "data": {
            "text/plain": [
              "(0, 255)"
            ]
          },
          "metadata": {},
          "execution_count": 18
        }
      ]
    },
    {
      "cell_type": "code",
      "source": [
        "X = X / 255"
      ],
      "metadata": {
        "id": "W8j4EuJs3b5H"
      },
      "execution_count": 19,
      "outputs": []
    },
    {
      "cell_type": "code",
      "source": [
        "X.min(), X.max()"
      ],
      "metadata": {
        "colab": {
          "base_uri": "https://localhost:8080/"
        },
        "id": "wjWr8v_Q3eUY",
        "outputId": "c29f824e-562c-44c1-93e4-25c30bdc8c64"
      },
      "execution_count": 20,
      "outputs": [
        {
          "output_type": "execute_result",
          "data": {
            "text/plain": [
              "(0.0, 1.0)"
            ]
          },
          "metadata": {},
          "execution_count": 20
        }
      ]
    },
    {
      "cell_type": "code",
      "source": [
        "y_binary = np.where(y >= 0.01, 1, 0)\n",
        "y_binary.mean()"
      ],
      "metadata": {
        "colab": {
          "base_uri": "https://localhost:8080/"
        },
        "id": "JRMJx3Uo3gq7",
        "outputId": "ac835a36-cd01-43c8-e528-9676ec90d12b"
      },
      "execution_count": 25,
      "outputs": [
        {
          "output_type": "execute_result",
          "data": {
            "text/plain": [
              "0.5105893186003683"
            ]
          },
          "metadata": {},
          "execution_count": 25
        }
      ]
    },
    {
      "cell_type": "markdown",
      "source": [
        "## Train Test Split"
      ],
      "metadata": {
        "id": "uit5hxwq2q32"
      }
    },
    {
      "cell_type": "code",
      "source": [
        "from sklearn.model_selection import train_test_split"
      ],
      "metadata": {
        "id": "JbVBYVBP1PdM"
      },
      "execution_count": 10,
      "outputs": []
    },
    {
      "cell_type": "code",
      "source": [
        "x_train, x_test, y_train, y_test = train_test_split(X, y_binary, test_size=0.2, random_state=42)\n",
        "x_train.shape, x_test.shape, y_train.shape, y_test.shape"
      ],
      "metadata": {
        "colab": {
          "base_uri": "https://localhost:8080/"
        },
        "id": "K6PXiGIu1QdE",
        "outputId": "ec1ff517-852e-46c0-a596-cb8468973adb"
      },
      "execution_count": 26,
      "outputs": [
        {
          "output_type": "execute_result",
          "data": {
            "text/plain": [
              "((1737, 299, 299, 3), (435, 299, 299, 3), (1737,), (435,))"
            ]
          },
          "metadata": {},
          "execution_count": 26
        }
      ]
    },
    {
      "cell_type": "markdown",
      "source": [
        "## Define VIT"
      ],
      "metadata": {
        "id": "yDzZl5Fp2sEC"
      }
    },
    {
      "cell_type": "markdown",
      "source": [
        "To run the code in a Jupyter notebook, you would first instantiate the `CustomViT` class, then use its methods to create the Vision Transformer (ViT) model, and finally train the model using the provided dataset. Below is a step-by-step guide on how to do this, assuming that the `CustomViT` class object is already defined in your notebook and you have your dataset loaded into `x_train`, `y_train`, `x_test`, and `y_test` variables.\n",
        "\n",
        "1. **Instantiate the CustomViT Class**\n",
        "\n",
        "First, create an instance of the `CustomViT` class. You can adjust the parameters based on your dataset and training preferences, or use the defaults as specified in the class definition.\n",
        "\n",
        "```python\n",
        "vit_model = CustomViT()\n",
        "```\n",
        "\n",
        "2. **Create the ViT Classifier Model**\n",
        "\n",
        "Next, use the `create_vit_classifier` method to create the model.\n",
        "\n",
        "```python\n",
        "model = vit_model.create_vit_classifier()\n",
        "```\n",
        "\n",
        "3. **Train the Model**\n",
        "\n",
        "Now, you can train the model using the `run_experiment` method. This method requires you to pass the model you've just created, along with your training and testing datasets.\n",
        "\n",
        "```python\n",
        "history = vit_model.run_experiment(model, x_train, y_train, x_test, y_test)\n",
        "```\n",
        "\n",
        "Make sure you have your dataset (`x_train`, `y_train`, `x_test`, `y_test`) prepared before running this step. The dataset should be pre-processed according to the input requirements of the model, such as resizing images to the expected input shape and normalizing the pixel values.\n",
        "\n",
        "Here's a complete example in a Jupyter notebook cell:\n",
        "\n",
        "```python\n",
        "# Assuming CustomViT class is defined and dataset is loaded and preprocessed\n",
        "vit_model = CustomViT()\n",
        "\n",
        "# Create the ViT model\n",
        "model = vit_model.create_vit_classifier()\n",
        "\n",
        "# Display the model architecture\n",
        "model.summary()\n",
        "\n",
        "# Train and evaluate the model\n",
        "history = vit_model.run_experiment(model, x_train, y_train, x_test, y_test)\n",
        "```\n",
        "\n",
        "This code will initialize the custom Vision Transformer model with the specified parameters, compile it, and train it on your dataset. After training, it will also evaluate the model on your test dataset and print the accuracy and top-5 accuracy metrics.\n",
        "\n",
        "Remember, the variables `x_train`, `y_train`, `x_test`, and `y_test` need to be defined with your dataset. This example assumes that you have already loaded and pre-processed your data to match the input requirements of the ViT model."
      ],
      "metadata": {
        "id": "Tg6zPnKg3RW1"
      }
    },
    {
      "cell_type": "code",
      "source": [
        "! pip install tensorflow-addons"
      ],
      "metadata": {
        "colab": {
          "base_uri": "https://localhost:8080/"
        },
        "id": "qhYcjEZozb6I",
        "outputId": "923c0c25-53d7-4d79-b766-0d90c31faa6a"
      },
      "execution_count": 12,
      "outputs": [
        {
          "output_type": "stream",
          "name": "stdout",
          "text": [
            "Collecting tensorflow-addons\n",
            "  Downloading tensorflow_addons-0.23.0-cp310-cp310-manylinux_2_17_x86_64.manylinux2014_x86_64.whl (611 kB)\n",
            "\u001b[?25l     \u001b[90m━━━━━━━━━━━━━━━━━━━━━━━━━━━━━━━━━━━━━━━━\u001b[0m \u001b[32m0.0/611.8 kB\u001b[0m \u001b[31m?\u001b[0m eta \u001b[36m-:--:--\u001b[0m\r\u001b[2K     \u001b[91m━━━━━━━━━━━━━━━\u001b[0m\u001b[90m╺\u001b[0m\u001b[90m━━━━━━━━━━━━━━━━━━━━━━━━\u001b[0m \u001b[32m235.5/611.8 kB\u001b[0m \u001b[31m7.1 MB/s\u001b[0m eta \u001b[36m0:00:01\u001b[0m\r\u001b[2K     \u001b[90m━━━━━━━━━━━━━━━━━━━━━━━━━━━━━━━━━━━━━━━━\u001b[0m \u001b[32m611.8/611.8 kB\u001b[0m \u001b[31m9.1 MB/s\u001b[0m eta \u001b[36m0:00:00\u001b[0m\n",
            "\u001b[?25hRequirement already satisfied: packaging in /usr/local/lib/python3.10/dist-packages (from tensorflow-addons) (23.2)\n",
            "Collecting typeguard<3.0.0,>=2.7 (from tensorflow-addons)\n",
            "  Downloading typeguard-2.13.3-py3-none-any.whl (17 kB)\n",
            "Installing collected packages: typeguard, tensorflow-addons\n",
            "Successfully installed tensorflow-addons-0.23.0 typeguard-2.13.3\n"
          ]
        }
      ]
    },
    {
      "cell_type": "code",
      "source": [
        "from utils import CustomViT as myViT"
      ],
      "metadata": {
        "id": "O0c-ql8p3xSL"
      },
      "execution_count": 28,
      "outputs": []
    },
    {
      "cell_type": "code",
      "source": [
        "vit_model = myViT()"
      ],
      "metadata": {
        "id": "WcHa0U1EzRoa"
      },
      "execution_count": 29,
      "outputs": []
    },
    {
      "cell_type": "code",
      "source": [
        "model = vit_model.create_vit_classifier()"
      ],
      "metadata": {
        "id": "k68mfvTxzyP7"
      },
      "execution_count": 30,
      "outputs": []
    },
    {
      "cell_type": "code",
      "source": [
        "tf.test.gpu_device_name()"
      ],
      "metadata": {
        "colab": {
          "base_uri": "https://localhost:8080/",
          "height": 36
        },
        "id": "ALvfQmZC3MWV",
        "outputId": "288a86ba-d847-48d5-8f50-b4aeca492cab"
      },
      "execution_count": 31,
      "outputs": [
        {
          "output_type": "execute_result",
          "data": {
            "text/plain": [
              "'/device:GPU:0'"
            ],
            "application/vnd.google.colaboratory.intrinsic+json": {
              "type": "string"
            }
          },
          "metadata": {},
          "execution_count": 31
        }
      ]
    },
    {
      "cell_type": "markdown",
      "source": [
        "### Training"
      ],
      "metadata": {
        "id": "uhzCYIVY4uBJ"
      }
    },
    {
      "cell_type": "code",
      "source": [
        "%%time\n",
        "\n",
        "with tf.device('/device:GPU:0'):\n",
        "    history = vit_model.run_experiment(model, x_train, y_train, x_test, y_test)"
      ],
      "metadata": {
        "colab": {
          "base_uri": "https://localhost:8080/"
        },
        "id": "Qy63Etqe3INu",
        "outputId": "f5fa7590-5e45-49fa-b217-43121299a4a4"
      },
      "execution_count": null,
      "outputs": [
        {
          "output_type": "stream",
          "name": "stdout",
          "text": [
            "Epoch 1/800\n",
            "7/7 [==============================] - 21s 1s/step - loss: 21.6098 - accuracy: 0.4843 - top-5-accuracy: 1.0000 - val_loss: 2.4501 - val_accuracy: 0.4368 - val_top-5-accuracy: 1.0000\n",
            "Epoch 2/800\n",
            "7/7 [==============================] - 3s 468ms/step - loss: 1.8883 - accuracy: 0.4965 - top-5-accuracy: 1.0000 - val_loss: 1.3140 - val_accuracy: 0.4368 - val_top-5-accuracy: 1.0000\n",
            "Epoch 3/800\n",
            "7/7 [==============================] - 3s 468ms/step - loss: 1.5117 - accuracy: 0.4882 - top-5-accuracy: 1.0000 - val_loss: 0.7763 - val_accuracy: 0.4368 - val_top-5-accuracy: 1.0000\n",
            "Epoch 4/800\n",
            "7/7 [==============================] - 3s 469ms/step - loss: 1.0709 - accuracy: 0.5048 - top-5-accuracy: 1.0000 - val_loss: 0.7811 - val_accuracy: 0.4368 - val_top-5-accuracy: 1.0000\n",
            "Epoch 5/800\n",
            "7/7 [==============================] - 3s 468ms/step - loss: 0.8722 - accuracy: 0.4965 - top-5-accuracy: 1.0000 - val_loss: 0.7178 - val_accuracy: 0.4368 - val_top-5-accuracy: 1.0000\n",
            "Epoch 6/800\n",
            "7/7 [==============================] - 4s 661ms/step - loss: 0.7966 - accuracy: 0.5176 - top-5-accuracy: 1.0000 - val_loss: 0.6890 - val_accuracy: 0.5632 - val_top-5-accuracy: 1.0000\n",
            "Epoch 7/800\n",
            "7/7 [==============================] - 3s 472ms/step - loss: 0.7903 - accuracy: 0.4901 - top-5-accuracy: 1.0000 - val_loss: 0.6942 - val_accuracy: 0.4368 - val_top-5-accuracy: 1.0000\n",
            "Epoch 8/800\n",
            "7/7 [==============================] - 3s 470ms/step - loss: 0.7665 - accuracy: 0.4939 - top-5-accuracy: 1.0000 - val_loss: 0.7072 - val_accuracy: 0.4368 - val_top-5-accuracy: 1.0000\n",
            "Epoch 9/800\n",
            "7/7 [==============================] - 3s 473ms/step - loss: 0.7280 - accuracy: 0.5029 - top-5-accuracy: 1.0000 - val_loss: 0.6967 - val_accuracy: 0.4368 - val_top-5-accuracy: 1.0000\n",
            "Epoch 10/800\n",
            "7/7 [==============================] - 3s 471ms/step - loss: 0.7217 - accuracy: 0.5093 - top-5-accuracy: 1.0000 - val_loss: 0.6947 - val_accuracy: 0.4368 - val_top-5-accuracy: 1.0000\n",
            "Epoch 11/800\n",
            "7/7 [==============================] - 3s 472ms/step - loss: 0.7318 - accuracy: 0.4901 - top-5-accuracy: 1.0000 - val_loss: 0.6916 - val_accuracy: 0.5632 - val_top-5-accuracy: 1.0000\n",
            "Epoch 12/800\n",
            "7/7 [==============================] - 3s 470ms/step - loss: 0.7225 - accuracy: 0.4843 - top-5-accuracy: 1.0000 - val_loss: 0.6937 - val_accuracy: 0.4368 - val_top-5-accuracy: 1.0000\n",
            "Epoch 13/800\n",
            "7/7 [==============================] - 3s 473ms/step - loss: 0.7211 - accuracy: 0.4818 - top-5-accuracy: 1.0000 - val_loss: 0.7031 - val_accuracy: 0.4368 - val_top-5-accuracy: 1.0000\n",
            "Epoch 14/800\n",
            "7/7 [==============================] - 3s 475ms/step - loss: 0.7187 - accuracy: 0.5022 - top-5-accuracy: 1.0000 - val_loss: 0.7011 - val_accuracy: 0.4368 - val_top-5-accuracy: 1.0000\n",
            "Epoch 15/800\n",
            "7/7 [==============================] - 3s 472ms/step - loss: 0.7220 - accuracy: 0.5010 - top-5-accuracy: 1.0000 - val_loss: 0.6935 - val_accuracy: 0.4368 - val_top-5-accuracy: 1.0000\n",
            "Epoch 16/800\n",
            "7/7 [==============================] - 3s 473ms/step - loss: 0.7142 - accuracy: 0.5029 - top-5-accuracy: 1.0000 - val_loss: 0.7017 - val_accuracy: 0.4368 - val_top-5-accuracy: 1.0000\n",
            "Epoch 17/800\n",
            "7/7 [==============================] - 3s 479ms/step - loss: 0.7222 - accuracy: 0.5061 - top-5-accuracy: 1.0000 - val_loss: 0.6966 - val_accuracy: 0.4368 - val_top-5-accuracy: 1.0000\n",
            "Epoch 18/800\n",
            "7/7 [==============================] - 3s 475ms/step - loss: 0.7097 - accuracy: 0.5176 - top-5-accuracy: 1.0000 - val_loss: 0.6918 - val_accuracy: 0.5632 - val_top-5-accuracy: 1.0000\n",
            "Epoch 19/800\n",
            "7/7 [==============================] - 3s 475ms/step - loss: 0.7099 - accuracy: 0.5208 - top-5-accuracy: 1.0000 - val_loss: 0.6923 - val_accuracy: 0.5632 - val_top-5-accuracy: 1.0000\n",
            "Epoch 20/800\n",
            "7/7 [==============================] - 3s 475ms/step - loss: 0.7256 - accuracy: 0.4792 - top-5-accuracy: 1.0000 - val_loss: 0.6936 - val_accuracy: 0.4368 - val_top-5-accuracy: 1.0000\n",
            "Epoch 21/800\n",
            "7/7 [==============================] - 3s 476ms/step - loss: 0.7077 - accuracy: 0.5093 - top-5-accuracy: 1.0000 - val_loss: 0.6965 - val_accuracy: 0.4368 - val_top-5-accuracy: 1.0000\n",
            "Epoch 22/800\n",
            "7/7 [==============================] - 3s 475ms/step - loss: 0.7022 - accuracy: 0.5138 - top-5-accuracy: 1.0000 - val_loss: 0.6991 - val_accuracy: 0.4368 - val_top-5-accuracy: 1.0000\n",
            "Epoch 23/800\n",
            "7/7 [==============================] - 3s 474ms/step - loss: 0.7063 - accuracy: 0.5061 - top-5-accuracy: 1.0000 - val_loss: 0.6985 - val_accuracy: 0.4368 - val_top-5-accuracy: 1.0000\n",
            "Epoch 24/800\n",
            "7/7 [==============================] - 3s 476ms/step - loss: 0.6997 - accuracy: 0.5361 - top-5-accuracy: 1.0000 - val_loss: 0.7029 - val_accuracy: 0.4368 - val_top-5-accuracy: 1.0000\n",
            "Epoch 25/800\n",
            "7/7 [==============================] - 3s 478ms/step - loss: 0.7080 - accuracy: 0.5176 - top-5-accuracy: 1.0000 - val_loss: 0.6993 - val_accuracy: 0.4368 - val_top-5-accuracy: 1.0000\n",
            "Epoch 26/800\n",
            "7/7 [==============================] - 3s 476ms/step - loss: 0.7125 - accuracy: 0.4901 - top-5-accuracy: 1.0000 - val_loss: 0.6935 - val_accuracy: 0.4368 - val_top-5-accuracy: 1.0000\n",
            "Epoch 27/800\n",
            "7/7 [==============================] - 3s 477ms/step - loss: 0.6986 - accuracy: 0.5112 - top-5-accuracy: 1.0000 - val_loss: 0.6998 - val_accuracy: 0.4368 - val_top-5-accuracy: 1.0000\n",
            "Epoch 28/800\n",
            "7/7 [==============================] - 3s 475ms/step - loss: 0.7070 - accuracy: 0.5048 - top-5-accuracy: 1.0000 - val_loss: 0.7067 - val_accuracy: 0.4368 - val_top-5-accuracy: 1.0000\n",
            "Epoch 29/800\n",
            "7/7 [==============================] - 3s 478ms/step - loss: 0.7098 - accuracy: 0.4997 - top-5-accuracy: 1.0000 - val_loss: 0.7033 - val_accuracy: 0.4368 - val_top-5-accuracy: 1.0000\n",
            "Epoch 30/800\n",
            "7/7 [==============================] - 3s 476ms/step - loss: 0.7033 - accuracy: 0.5035 - top-5-accuracy: 1.0000 - val_loss: 0.6927 - val_accuracy: 0.5632 - val_top-5-accuracy: 1.0000\n",
            "Epoch 31/800\n",
            "7/7 [==============================] - 3s 478ms/step - loss: 0.7068 - accuracy: 0.4894 - top-5-accuracy: 1.0000 - val_loss: 0.6932 - val_accuracy: 0.4368 - val_top-5-accuracy: 1.0000\n",
            "Epoch 32/800\n",
            "7/7 [==============================] - 3s 480ms/step - loss: 0.7017 - accuracy: 0.5342 - top-5-accuracy: 1.0000 - val_loss: 0.6921 - val_accuracy: 0.5632 - val_top-5-accuracy: 1.0000\n",
            "Epoch 33/800\n",
            "7/7 [==============================] - 3s 480ms/step - loss: 0.7084 - accuracy: 0.5010 - top-5-accuracy: 1.0000 - val_loss: 0.6885 - val_accuracy: 0.5632 - val_top-5-accuracy: 1.0000\n",
            "Epoch 34/800\n",
            "7/7 [==============================] - 3s 477ms/step - loss: 0.7062 - accuracy: 0.4958 - top-5-accuracy: 1.0000 - val_loss: 0.6894 - val_accuracy: 0.5632 - val_top-5-accuracy: 1.0000\n",
            "Epoch 35/800\n",
            "7/7 [==============================] - 3s 476ms/step - loss: 0.6999 - accuracy: 0.5067 - top-5-accuracy: 1.0000 - val_loss: 0.6908 - val_accuracy: 0.5632 - val_top-5-accuracy: 1.0000\n",
            "Epoch 36/800\n",
            "7/7 [==============================] - 3s 479ms/step - loss: 0.7078 - accuracy: 0.4894 - top-5-accuracy: 1.0000 - val_loss: 0.6915 - val_accuracy: 0.5632 - val_top-5-accuracy: 1.0000\n",
            "Epoch 37/800\n",
            "7/7 [==============================] - 3s 478ms/step - loss: 0.7031 - accuracy: 0.4939 - top-5-accuracy: 1.0000 - val_loss: 0.6915 - val_accuracy: 0.5632 - val_top-5-accuracy: 1.0000\n",
            "Epoch 38/800\n",
            "7/7 [==============================] - 3s 478ms/step - loss: 0.7074 - accuracy: 0.4971 - top-5-accuracy: 1.0000 - val_loss: 0.6919 - val_accuracy: 0.5632 - val_top-5-accuracy: 1.0000\n",
            "Epoch 39/800\n",
            "7/7 [==============================] - 3s 482ms/step - loss: 0.7063 - accuracy: 0.4894 - top-5-accuracy: 1.0000 - val_loss: 0.6941 - val_accuracy: 0.4368 - val_top-5-accuracy: 1.0000\n",
            "Epoch 40/800\n",
            "7/7 [==============================] - 3s 479ms/step - loss: 0.7058 - accuracy: 0.5022 - top-5-accuracy: 1.0000 - val_loss: 0.6947 - val_accuracy: 0.4368 - val_top-5-accuracy: 1.0000\n",
            "Epoch 41/800\n",
            "7/7 [==============================] - 3s 478ms/step - loss: 0.7025 - accuracy: 0.5061 - top-5-accuracy: 1.0000 - val_loss: 0.6938 - val_accuracy: 0.4368 - val_top-5-accuracy: 1.0000\n",
            "Epoch 42/800\n",
            "7/7 [==============================] - 3s 481ms/step - loss: 0.7020 - accuracy: 0.5029 - top-5-accuracy: 1.0000 - val_loss: 0.6916 - val_accuracy: 0.5632 - val_top-5-accuracy: 1.0000\n",
            "Epoch 43/800\n",
            "7/7 [==============================] - 3s 482ms/step - loss: 0.7088 - accuracy: 0.4875 - top-5-accuracy: 1.0000 - val_loss: 0.6943 - val_accuracy: 0.4368 - val_top-5-accuracy: 1.0000\n",
            "Epoch 44/800\n",
            "7/7 [==============================] - 3s 480ms/step - loss: 0.7058 - accuracy: 0.4984 - top-5-accuracy: 1.0000 - val_loss: 0.6943 - val_accuracy: 0.4368 - val_top-5-accuracy: 1.0000\n",
            "Epoch 45/800\n",
            "7/7 [==============================] - 3s 479ms/step - loss: 0.7008 - accuracy: 0.5067 - top-5-accuracy: 1.0000 - val_loss: 0.6931 - val_accuracy: 0.5632 - val_top-5-accuracy: 1.0000\n",
            "Epoch 46/800\n",
            "7/7 [==============================] - 3s 481ms/step - loss: 0.7038 - accuracy: 0.5029 - top-5-accuracy: 1.0000 - val_loss: 0.6939 - val_accuracy: 0.4368 - val_top-5-accuracy: 1.0000\n",
            "Epoch 47/800\n",
            "7/7 [==============================] - 3s 480ms/step - loss: 0.6949 - accuracy: 0.5125 - top-5-accuracy: 1.0000 - val_loss: 0.6978 - val_accuracy: 0.4368 - val_top-5-accuracy: 1.0000\n",
            "Epoch 48/800\n",
            "7/7 [==============================] - 3s 478ms/step - loss: 0.7034 - accuracy: 0.5093 - top-5-accuracy: 1.0000 - val_loss: 0.6945 - val_accuracy: 0.4368 - val_top-5-accuracy: 1.0000\n",
            "Epoch 49/800\n",
            "7/7 [==============================] - 3s 480ms/step - loss: 0.7029 - accuracy: 0.5061 - top-5-accuracy: 1.0000 - val_loss: 0.6952 - val_accuracy: 0.4368 - val_top-5-accuracy: 1.0000\n",
            "Epoch 50/800\n",
            "7/7 [==============================] - 3s 480ms/step - loss: 0.7047 - accuracy: 0.4862 - top-5-accuracy: 1.0000 - val_loss: 0.6910 - val_accuracy: 0.5632 - val_top-5-accuracy: 1.0000\n",
            "Epoch 51/800\n",
            "7/7 [==============================] - 3s 481ms/step - loss: 0.7017 - accuracy: 0.5016 - top-5-accuracy: 1.0000 - val_loss: 0.6990 - val_accuracy: 0.4368 - val_top-5-accuracy: 1.0000\n",
            "Epoch 52/800\n",
            "7/7 [==============================] - 3s 481ms/step - loss: 0.7010 - accuracy: 0.5118 - top-5-accuracy: 1.0000 - val_loss: 0.7018 - val_accuracy: 0.4368 - val_top-5-accuracy: 1.0000\n",
            "Epoch 53/800\n",
            "7/7 [==============================] - 3s 481ms/step - loss: 0.6986 - accuracy: 0.5285 - top-5-accuracy: 1.0000 - val_loss: 0.6980 - val_accuracy: 0.4368 - val_top-5-accuracy: 1.0000\n",
            "Epoch 54/800\n",
            "7/7 [==============================] - 3s 481ms/step - loss: 0.7015 - accuracy: 0.4907 - top-5-accuracy: 1.0000 - val_loss: 0.6972 - val_accuracy: 0.4368 - val_top-5-accuracy: 1.0000\n",
            "Epoch 55/800\n",
            "7/7 [==============================] - 3s 485ms/step - loss: 0.7073 - accuracy: 0.5035 - top-5-accuracy: 1.0000 - val_loss: 0.7033 - val_accuracy: 0.4368 - val_top-5-accuracy: 1.0000\n",
            "Epoch 56/800\n",
            "7/7 [==============================] - 3s 484ms/step - loss: 0.6993 - accuracy: 0.5067 - top-5-accuracy: 1.0000 - val_loss: 0.6929 - val_accuracy: 0.5632 - val_top-5-accuracy: 1.0000\n",
            "Epoch 57/800\n",
            "7/7 [==============================] - 3s 489ms/step - loss: 0.7043 - accuracy: 0.4792 - top-5-accuracy: 1.0000 - val_loss: 0.6949 - val_accuracy: 0.4368 - val_top-5-accuracy: 1.0000\n",
            "Epoch 58/800\n",
            "7/7 [==============================] - 3s 482ms/step - loss: 0.6955 - accuracy: 0.5253 - top-5-accuracy: 1.0000 - val_loss: 0.6918 - val_accuracy: 0.5632 - val_top-5-accuracy: 1.0000\n",
            "Epoch 59/800\n",
            "7/7 [==============================] - 3s 487ms/step - loss: 0.7025 - accuracy: 0.5131 - top-5-accuracy: 1.0000 - val_loss: 0.6926 - val_accuracy: 0.5632 - val_top-5-accuracy: 1.0000\n",
            "Epoch 60/800\n",
            "7/7 [==============================] - 3s 482ms/step - loss: 0.6997 - accuracy: 0.5170 - top-5-accuracy: 1.0000 - val_loss: 0.6938 - val_accuracy: 0.4368 - val_top-5-accuracy: 1.0000\n",
            "Epoch 61/800\n",
            "7/7 [==============================] - 3s 483ms/step - loss: 0.6981 - accuracy: 0.5157 - top-5-accuracy: 1.0000 - val_loss: 0.6941 - val_accuracy: 0.4368 - val_top-5-accuracy: 1.0000\n",
            "Epoch 62/800\n",
            "7/7 [==============================] - 3s 483ms/step - loss: 0.6925 - accuracy: 0.5189 - top-5-accuracy: 1.0000 - val_loss: 0.6941 - val_accuracy: 0.4368 - val_top-5-accuracy: 1.0000\n",
            "Epoch 63/800\n",
            "7/7 [==============================] - 3s 483ms/step - loss: 0.7054 - accuracy: 0.4952 - top-5-accuracy: 1.0000 - val_loss: 0.6961 - val_accuracy: 0.4368 - val_top-5-accuracy: 1.0000\n",
            "Epoch 64/800\n",
            "7/7 [==============================] - 3s 487ms/step - loss: 0.7079 - accuracy: 0.4952 - top-5-accuracy: 1.0000 - val_loss: 0.6923 - val_accuracy: 0.5632 - val_top-5-accuracy: 1.0000\n",
            "Epoch 65/800\n",
            "7/7 [==============================] - 3s 488ms/step - loss: 0.7089 - accuracy: 0.4798 - top-5-accuracy: 1.0000 - val_loss: 0.6935 - val_accuracy: 0.4368 - val_top-5-accuracy: 1.0000\n",
            "Epoch 66/800\n",
            "7/7 [==============================] - 3s 484ms/step - loss: 0.6944 - accuracy: 0.4958 - top-5-accuracy: 1.0000 - val_loss: 0.6932 - val_accuracy: 0.4368 - val_top-5-accuracy: 1.0000\n",
            "Epoch 67/800\n",
            "7/7 [==============================] - 3s 486ms/step - loss: 0.6962 - accuracy: 0.5003 - top-5-accuracy: 1.0000 - val_loss: 0.6932 - val_accuracy: 0.4368 - val_top-5-accuracy: 1.0000\n",
            "Epoch 68/800\n",
            "7/7 [==============================] - 3s 486ms/step - loss: 0.7006 - accuracy: 0.4933 - top-5-accuracy: 1.0000 - val_loss: 0.6918 - val_accuracy: 0.5632 - val_top-5-accuracy: 1.0000\n",
            "Epoch 69/800\n",
            "7/7 [==============================] - ETA: 0s - loss: 0.7031 - accuracy: 0.4901 - top-5-accuracy: 1.0000"
          ]
        }
      ]
    },
    {
      "cell_type": "code",
      "source": [],
      "metadata": {
        "id": "qRMckDUd3Oi2"
      },
      "execution_count": null,
      "outputs": []
    }
  ]
}