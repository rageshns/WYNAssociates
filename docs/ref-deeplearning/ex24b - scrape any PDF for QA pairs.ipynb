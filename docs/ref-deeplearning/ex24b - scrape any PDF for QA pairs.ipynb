{
  "nbformat": 4,
  "nbformat_minor": 0,
  "metadata": {
    "colab": {
      "provenance": []
    },
    "kernelspec": {
      "name": "python3",
      "display_name": "Python 3"
    },
    "language_info": {
      "name": "python"
    }
  },
  "cells": [
    {
      "cell_type": "markdown",
      "source": [
        "## Download"
      ],
      "metadata": {
        "id": "4jCYcYhBGjkZ"
      }
    },
    {
      "cell_type": "code",
      "execution_count": null,
      "metadata": {
        "id": "looDT2SvGE0S"
      },
      "outputs": [],
      "source": [
        "! pip install openai"
      ]
    },
    {
      "cell_type": "markdown",
      "source": [
        "## Import OpenAI"
      ],
      "metadata": {
        "id": "9ACBJeHfGkwr"
      }
    },
    {
      "cell_type": "code",
      "source": [
        "from google.colab import userdata\n",
        "OPENAI_API_KEY = userdata.get('OPENAI_API_KEY')"
      ],
      "metadata": {
        "id": "tExsst1eLbbm"
      },
      "execution_count": null,
      "outputs": []
    },
    {
      "cell_type": "code",
      "source": [
        "import openai\n",
        "# openai.api_key = \"sk-xxx\"\n",
        "openai.api_key = OPENAI_API_KEY"
      ],
      "metadata": {
        "id": "iH-fZfVmGJ4R"
      },
      "execution_count": null,
      "outputs": []
    },
    {
      "cell_type": "code",
      "source": [
        "pip install PyPDF2"
      ],
      "metadata": {
        "id": "65-rpeuzGQas"
      },
      "execution_count": null,
      "outputs": []
    },
    {
      "cell_type": "markdown",
      "source": [
        "## Define `extract_df_text` Function"
      ],
      "metadata": {
        "id": "rBS3SWUqGmDE"
      }
    },
    {
      "cell_type": "markdown",
      "source": [
        "The following function extract pdf assuming each page is a big string."
      ],
      "metadata": {
        "id": "eViCMyJiIhlR"
      }
    },
    {
      "cell_type": "code",
      "source": [
        "from typing import List\n",
        "from PyPDF2 import PdfReader\n",
        "\n",
        "\n",
        "def extract_pdf_text(filepath: str) -> List[str]:\n",
        "    \"\"\"\n",
        "    Extracts text from each page of a PDF file using PyPDF2 and returns it as a list of strings.\n",
        "\n",
        "    Parameters:\n",
        "    filepath (str): The file path or URL of the PDF file to extract text from.\n",
        "\n",
        "    Returns:\n",
        "    List[str]: A list of strings containing the extracted text from each page of the PDF.\n",
        "    \"\"\"\n",
        "    pdf_file = open(filepath, 'rb')\n",
        "    status = True\n",
        "    try:\n",
        "        pdf_reader = PdfReader(pdf_file)\n",
        "        pages = len(pdf_reader.pages)\n",
        "\n",
        "        text_list = []\n",
        "        for page in range(pages):\n",
        "            pdf_page = pdf_reader.pages[page]\n",
        "            text = pdf_page.extract_text()\n",
        "            text_list.append(text)\n",
        "    except Exception as e:\n",
        "        status = False\n",
        "\n",
        "    if status == False:\n",
        "        try:\n",
        "            text_list = []\n",
        "            for i in PdfReader(open(name, 'rb')).pages:\n",
        "                text_list.append(i.extract_text())\n",
        "        except Exception as e:\n",
        "            text_list = \"Failed.\"\n",
        "    else:\n",
        "        print(f\"Task status: {text_list}\")\n",
        "\n",
        "    pdf_file.close()\n",
        "    return text_list\n"
      ],
      "metadata": {
        "id": "EgPAnVJyGNWi"
      },
      "execution_count": null,
      "outputs": []
    },
    {
      "cell_type": "markdown",
      "source": [
        "The following breaks PDF down and extract by token sizes."
      ],
      "metadata": {
        "id": "QWKR1IvcInLX"
      }
    },
    {
      "cell_type": "code",
      "source": [
        "from typing import List\n",
        "import re\n",
        "from PyPDF2 import PdfReader\n",
        "\n",
        "\n",
        "def extract_pdf_text(filepath: str) -> List[str]:\n",
        "    \"\"\"\n",
        "    Extracts text from each page of a PDF file using PyPDF2 and returns it as a list of strings,\n",
        "    with each string containing approximately 200 tokens.\n",
        "\n",
        "    Parameters:\n",
        "    filepath (str): The file path or URL of the PDF file to extract text from.\n",
        "\n",
        "    Returns:\n",
        "    List[str]: A list of strings containing the extracted text from the PDF, split into paragraphs\n",
        "               of approximately 200 tokens.\n",
        "    \"\"\"\n",
        "    def split_text(text: str, token_limit: int = 20) -> List[str]:\n",
        "        tokens = text.split()\n",
        "        paragraphs = [' '.join(tokens[i:i+token_limit]) for i in range(0, len(tokens), token_limit)]\n",
        "        return paragraphs\n",
        "\n",
        "    pdf_file = open(filepath, 'rb')\n",
        "    text_list = []\n",
        "\n",
        "    try:\n",
        "        pdf_reader = PdfReader(pdf_file)\n",
        "        for pdf_page in pdf_reader.pages:\n",
        "            text = pdf_page.extract_text()\n",
        "            paragraphs = split_text(text)\n",
        "            text_list.extend(paragraphs)\n",
        "    except Exception as e:\n",
        "        try:\n",
        "            for i in PdfReader(open(name, 'rb')).pages:\n",
        "                text = i.extract_text()\n",
        "                paragraphs = split_text(text)\n",
        "                text_list.extend(paragraphs)\n",
        "        except Exception as e:\n",
        "            text_list = [\"Failed.\"]\n",
        "\n",
        "    pdf_file.close()\n",
        "    return text_list"
      ],
      "metadata": {
        "id": "--dR39F-Iqup"
      },
      "execution_count": null,
      "outputs": []
    },
    {
      "cell_type": "markdown",
      "source": [
        "### Scrape PDF"
      ],
      "metadata": {
        "id": "giW0qyzsGpty"
      }
    },
    {
      "cell_type": "code",
      "source": [
        "%%time\n",
        "# name = \"/content/the-economic-potential-of-generative-ai-the-next-productivity-frontier-vf.pdf\"\n",
        "# name = \"/content/2020-2021-Larkin-Street-Youth-Services-Impact-Report.pdf\"\n",
        "# name = \"/content/WEF_Adopting_AI_Responsibly_Guidelines_for_Procurement_of_AI_Solutions_by_the_Private_Sector_2023.pdf\"\n",
        "# name = \"/content/THV-Flyer-and-application.pdf\"\n",
        "# name = \"/content/MAIA_Abstract_18.pdf\"\n",
        "name = \"/content/Eduardo Cuyabeno Plant Walk June 2023.pdf\"\n",
        "pdf_text_list = extract_pdf_text(f\"{name}\")\n",
        "print(pdf_text_list)"
      ],
      "metadata": {
        "colab": {
          "base_uri": "https://localhost:8080/"
        },
        "id": "UerpG8XYGO0-",
        "outputId": "ce129f55-d3ca-4600-9542-cf14cfc098d9"
      },
      "execution_count": null,
      "outputs": [
        {
          "output_type": "stream",
          "name": "stdout",
          "text": [
            "['Heliconia : Heliconias are a genus of flowering plants in the monotypic family with more than 150 species globally. Native', 'cultures across the Amazon use heliconia leaves to make a dish called maito, wherein they wrap various foods in these', 'leaves and cook them over fire or in water. Some species of heliconia produce edible fruits that are similar to', 'bananas, but tend to be less favorable because they contain more seeds and are less sweet than widely cultivated banana', 'species. The flowers of the heliconias create nurseries for mosquito larvae and tadpoles, and are important sources of nectar for', 'many hummingbirds and insects. Because of their striking flowers and bold foliage, heliconias are important ornamental flowers in any tropical', 'garden. Video', 'Arturio : Anthurium are a tropical genus consisting of 600-800 species. The leaves and flowers of these plants are highly', 'decorative and come in many varieties of size and colors. The distinct heart shaped flower and leaves are used traditionally', 'for hair washes and body washes. Some species of Anthurium are very aromatic and used as a perfume. These plants', 'are particularly adept at pulling toxins and contaminants out of the air. Because of their decorative value and capacity to', 'purify air, they have become popular indoor plants internationally.', 'Matico : Piper aduncum Matico is a common vernacular name for many plants in the Amazon rainforest. Typically this name', 'is given to plants in the piperaceae family. Matico can be used energetically to fan away negative energy for those', 'who feel unwell. In the Shuar culture, natives call upon Arutam, which is considered the spirit of the jungle, to', 'help cleanse and restore the vitality in their body. The cosmology behind plant cleansings is that leaves of these plants', 'pull negative energy out of the body and therefore enable the person to recharge with the energy from the jungle.', 'The stalk of this plant grows in distinct nodes that could be comparable to the physical characteristics of human bones', 'and joints. Because of these distinct growth formations, natives believe this plant useful in healing fractures. It is a great', 'example of ‘doctrine of signatures’ in which the physical characteristic of the plant exhibits their herbal action.', 'Tree Fern/Helecho: Alsophila cuspidata or Cyathea amazonica Order: Cyatheales In Jurassic times, it is believed that the large animals that', 'roamed the jungle fed on the fiddle heads directly from these tall trees. Natives in this region of the forest', 'use this fiddlehead as a condiment in their foods. Cooking with this fiddlehead gives food a unique flavor which is', 'novel for people who live in the jungle without access to typical culinary spices. Video', 'Large Leaf Plant: This heart shaped plant is planted in the middle of chagras or gardens to bring about abundant', 'harvests and healthy crops. This root of this plant is also used as a condiment and has a flavor similar', 'to turmeric. Video', 'Barbasco : Lonchocarpus sp: The stalk and root of this vine is crushed and the liquid extracted is used as', 'a venom for fishing. Natives will throw the extract of barbasco in specific areas of the stream where the fish', 'are stunned by the poison. Barbasco specifically impacts the capillary action in their gills and they are unable to absorb', 'the dissolved oxygen in the water. Many plants are known vernacularly as Barbasco, however this vine is considered the strongest', 'venom of all the species known as Barbasco. Hunters also mix this extract with another plant-based venom called curare and', 'apply this combination to the tips of their blow darts to hunt for mammals and birds in the canopy. Video', 'Atacharana or Apacharana - Natives harvest the bark of this tree and burn it into ash. The sandy ashes produced', 'are mixed with a latex from another tree (in the family of rubber tree) and used as a glaze in', 'their ceramic pieces. Video', \"Rayurumi/ Rayuangu/Rayuwaska : The bark of this vine is burned and the ashes are applied to children's belly buttons or\", 'to the belly of the mama (while they are in utero) to give them strength so they can run in', 'the jungle and hunt peccary and other animals with agility. Natives will also administer this medicine from time to time', 'throughout their lives to avoid becoming decrepit with old age. Video', 'Ceibo Tree / Red Ceibo Tree: Natives cut the trunk of this tree to extract the sap. The sap then', 'hardens and they purify the sap by heating it to make a wax. They dip cotton cordage they make from', 'the Ceibo tree (or red ceibo tree) into the wax and wrap the waxed string around wooden staffs. These staffs', 'are burned as torches, and traditionally prepared during wartime. The sap of this tree is also burned for energetic/spiritual cleansings.', 'It has a lovely aroma and thus believed to have strong energetic powers. Video', 'Cascarilla de Loma : Genus: Cinchona: The bark of this plant is boiled and the medicinal infusion is used to', 'treat malaria. The active medicinal constituent is quinine. Some natives mix the bark with salt water and give malaria patients', 'this infusion. An infusion made with salty hot water can also be used to tan leather. Video', 'Balsamo : Myroxylon peruiferum: Balsamo is a slow-growing hardwood tree that is highly sought after for furniture construction. It requires', 'diverse, healthy primary forests to grow and has a large distribution throughout Latin America. The bark of this tree is', 'boiled and administered to quell high fevers and serves as an immuno-boost in general. Natives drink the infusion little by', 'little until the fever and illness passes. It is considered a whole body tonic and supports the body in fighting', 'pathogens. Video', 'Guarango : (de Loma) Guarango is a durable hardwood that is used to construct canoes. The latex in this tree', 'is also used as a rubber. The sap can be vulcanized and utilized to create impermeable surfaces. Video', 'Curare : Chondrodendron tomentosum: Curare is a South American vine native to the Amazon basin. This woody vine can grow', 'to the top of canopies and live more than 100 years, and can exceed 8 inches in diameter at the', 'base. Its large heart-shaped leaves have a soft silky underside made up of tiny white hairs, giving the plant the', 'common name of velvet leaf. It has both male and female flowers which are small, greenish-white, and grow in clusters.', 'The vernacular name of this plant is derived from two Tupi native terms meaning \"bird\" and \"to kill.\" The curare', 'venom used in hunting is a combination of many plant species, in which the recipe varies from tribe to tribe.', 'The curare vine is the primary ingredient in all recipes. The vine is mashed/grated and then put through a sieve', 'to extract the liquid. This liquid is then cooked into a concentrate and the darts of the blowguns are dipped', 'into this extract. Death from curare poison is caused by asphyxia (respiratory arrest) because the muscles become so relaxed that', 'the muscles operating the diaphragm and lungs stop functioning. Interestingly, it only works if the poison gets into the bloodstream;', \"ingesting curare poison (and even eating the meat of curare-poisoned animals) has no toxic effect since it isn't absorbed in\", 'the stomach. The blowgun is made from the Chonta palm and the darts are made from the stem of a', 'big palm that grows from the ground up. They fasten a piranha tooth at the tip of the dart so', 'that if the dart breaks off, the tooth remains in the animal’s body and thus the poison remains in the', 'animal’s body. Video', 'Chonta Palm : Bactris gasipaes: The Chonta Palm is used to make blowguns and spears. They utilize the outer layers', 'of the palm wood (as the palm heart rots easily) and they slowly sand and condition the wood by applying', 'sand and water repeatedly over the course of two months. Chonta wood has a natural curvature that is favorable in', 'constructing blow guns. The natives utilize the curve of the wood to create the round structure of the blow gun.', 'Two faces of conditioned Chonta wood are merged together and sealed with beeswax and wrapped with a vine. The fruit', 'produced by the Chonta palm is highly nutritious and can be prepared in many ways. This palm has a large', 'distribution ranging from Honduras to Bolivia, which can be directly attributed to the intentional cultivation of indigenous peoples throughout historical', 'tropical America. The wood of the Chonta palm is very durable and utilized as columns when constructing the bases of', 'homes. Video', 'Chirian: Renealmia asplundii . Wao name: teentemo. Chirian is in the Costus genus, and family of Ginger. This pan tropical', 'genus has more than 150 species, the majority of which have medicinal applications. Chirian is used as a viper antidote.', 'Juice is extracted from two stalks and drunk immediately after the snake bite. One dose is usually sufficient to stop', 'the effects of the viper venom.']\n",
            "CPU times: user 354 ms, sys: 3.57 ms, total: 357 ms\n",
            "Wall time: 365 ms\n"
          ]
        }
      ]
    },
    {
      "cell_type": "code",
      "source": [
        "pdf_text_list = pdf_text_list[0:3]"
      ],
      "metadata": {
        "id": "bQSjHMcBI5IT"
      },
      "execution_count": null,
      "outputs": []
    },
    {
      "cell_type": "markdown",
      "source": [
        "### Create DataFrame\n",
        "\n",
        "Create dataframe"
      ],
      "metadata": {
        "id": "M00IeyR-Gfmk"
      }
    },
    {
      "cell_type": "code",
      "source": [
        "import pandas as pd"
      ],
      "metadata": {
        "id": "V250jXhLGhpH"
      },
      "execution_count": null,
      "outputs": []
    },
    {
      "cell_type": "code",
      "source": [
        "df = pd.DataFrame(pdf_text_list)\n",
        "df.columns = ['context']\n",
        "df.shape"
      ],
      "metadata": {
        "colab": {
          "base_uri": "https://localhost:8080/"
        },
        "id": "2MGr0LKwGgW1",
        "outputId": "9d2cd402-e117-4ade-8dbd-fdeb02b7b03c"
      },
      "execution_count": null,
      "outputs": [
        {
          "output_type": "execute_result",
          "data": {
            "text/plain": [
              "(83, 1)"
            ]
          },
          "metadata": {},
          "execution_count": 156
        }
      ]
    },
    {
      "cell_type": "code",
      "source": [
        "df.head()"
      ],
      "metadata": {
        "colab": {
          "base_uri": "https://localhost:8080/",
          "height": 249
        },
        "id": "ZaU20z9Nqc08",
        "outputId": "dff3e9b0-8af0-4bed-894c-8c0cfd275360"
      },
      "execution_count": null,
      "outputs": [
        {
          "output_type": "execute_result",
          "data": {
            "text/plain": [
              "                                             context\n",
              "0  Heliconia : Heliconias are a genus of flowerin...\n",
              "1  cultures across the Amazon use heliconia leave...\n",
              "2  leaves and cook them over fire or in water. So...\n",
              "3  bananas, but tend to be less favorable because...\n",
              "4  species. The flowers of the heliconias create ..."
            ],
            "text/html": [
              "\n",
              "\n",
              "  <div id=\"df-7cb2167a-467b-4a14-b6bc-84ceefa86ed3\">\n",
              "    <div class=\"colab-df-container\">\n",
              "      <div>\n",
              "<style scoped>\n",
              "    .dataframe tbody tr th:only-of-type {\n",
              "        vertical-align: middle;\n",
              "    }\n",
              "\n",
              "    .dataframe tbody tr th {\n",
              "        vertical-align: top;\n",
              "    }\n",
              "\n",
              "    .dataframe thead th {\n",
              "        text-align: right;\n",
              "    }\n",
              "</style>\n",
              "<table border=\"1\" class=\"dataframe\">\n",
              "  <thead>\n",
              "    <tr style=\"text-align: right;\">\n",
              "      <th></th>\n",
              "      <th>context</th>\n",
              "    </tr>\n",
              "  </thead>\n",
              "  <tbody>\n",
              "    <tr>\n",
              "      <th>0</th>\n",
              "      <td>Heliconia : Heliconias are a genus of flowerin...</td>\n",
              "    </tr>\n",
              "    <tr>\n",
              "      <th>1</th>\n",
              "      <td>cultures across the Amazon use heliconia leave...</td>\n",
              "    </tr>\n",
              "    <tr>\n",
              "      <th>2</th>\n",
              "      <td>leaves and cook them over fire or in water. So...</td>\n",
              "    </tr>\n",
              "    <tr>\n",
              "      <th>3</th>\n",
              "      <td>bananas, but tend to be less favorable because...</td>\n",
              "    </tr>\n",
              "    <tr>\n",
              "      <th>4</th>\n",
              "      <td>species. The flowers of the heliconias create ...</td>\n",
              "    </tr>\n",
              "  </tbody>\n",
              "</table>\n",
              "</div>\n",
              "      <button class=\"colab-df-convert\" onclick=\"convertToInteractive('df-7cb2167a-467b-4a14-b6bc-84ceefa86ed3')\"\n",
              "              title=\"Convert this dataframe to an interactive table.\"\n",
              "              style=\"display:none;\">\n",
              "\n",
              "  <svg xmlns=\"http://www.w3.org/2000/svg\" height=\"24px\"viewBox=\"0 0 24 24\"\n",
              "       width=\"24px\">\n",
              "    <path d=\"M0 0h24v24H0V0z\" fill=\"none\"/>\n",
              "    <path d=\"M18.56 5.44l.94 2.06.94-2.06 2.06-.94-2.06-.94-.94-2.06-.94 2.06-2.06.94zm-11 1L8.5 8.5l.94-2.06 2.06-.94-2.06-.94L8.5 2.5l-.94 2.06-2.06.94zm10 10l.94 2.06.94-2.06 2.06-.94-2.06-.94-.94-2.06-.94 2.06-2.06.94z\"/><path d=\"M17.41 7.96l-1.37-1.37c-.4-.4-.92-.59-1.43-.59-.52 0-1.04.2-1.43.59L10.3 9.45l-7.72 7.72c-.78.78-.78 2.05 0 2.83L4 21.41c.39.39.9.59 1.41.59.51 0 1.02-.2 1.41-.59l7.78-7.78 2.81-2.81c.8-.78.8-2.07 0-2.86zM5.41 20L4 18.59l7.72-7.72 1.47 1.35L5.41 20z\"/>\n",
              "  </svg>\n",
              "      </button>\n",
              "\n",
              "\n",
              "\n",
              "    <div id=\"df-6b46f9fe-430b-46fe-a6ee-bd181cd4d0ac\">\n",
              "      <button class=\"colab-df-quickchart\" onclick=\"quickchart('df-6b46f9fe-430b-46fe-a6ee-bd181cd4d0ac')\"\n",
              "              title=\"Suggest charts.\"\n",
              "              style=\"display:none;\">\n",
              "\n",
              "<svg xmlns=\"http://www.w3.org/2000/svg\" height=\"24px\"viewBox=\"0 0 24 24\"\n",
              "     width=\"24px\">\n",
              "    <g>\n",
              "        <path d=\"M19 3H5c-1.1 0-2 .9-2 2v14c0 1.1.9 2 2 2h14c1.1 0 2-.9 2-2V5c0-1.1-.9-2-2-2zM9 17H7v-7h2v7zm4 0h-2V7h2v10zm4 0h-2v-4h2v4z\"/>\n",
              "    </g>\n",
              "</svg>\n",
              "      </button>\n",
              "    </div>\n",
              "\n",
              "<style>\n",
              "  .colab-df-quickchart {\n",
              "    background-color: #E8F0FE;\n",
              "    border: none;\n",
              "    border-radius: 50%;\n",
              "    cursor: pointer;\n",
              "    display: none;\n",
              "    fill: #1967D2;\n",
              "    height: 32px;\n",
              "    padding: 0 0 0 0;\n",
              "    width: 32px;\n",
              "  }\n",
              "\n",
              "  .colab-df-quickchart:hover {\n",
              "    background-color: #E2EBFA;\n",
              "    box-shadow: 0px 1px 2px rgba(60, 64, 67, 0.3), 0px 1px 3px 1px rgba(60, 64, 67, 0.15);\n",
              "    fill: #174EA6;\n",
              "  }\n",
              "\n",
              "  [theme=dark] .colab-df-quickchart {\n",
              "    background-color: #3B4455;\n",
              "    fill: #D2E3FC;\n",
              "  }\n",
              "\n",
              "  [theme=dark] .colab-df-quickchart:hover {\n",
              "    background-color: #434B5C;\n",
              "    box-shadow: 0px 1px 3px 1px rgba(0, 0, 0, 0.15);\n",
              "    filter: drop-shadow(0px 1px 2px rgba(0, 0, 0, 0.3));\n",
              "    fill: #FFFFFF;\n",
              "  }\n",
              "</style>\n",
              "\n",
              "    <script>\n",
              "      async function quickchart(key) {\n",
              "        const containerElement = document.querySelector('#' + key);\n",
              "        const charts = await google.colab.kernel.invokeFunction(\n",
              "            'suggestCharts', [key], {});\n",
              "      }\n",
              "    </script>\n",
              "\n",
              "\n",
              "      <script>\n",
              "\n",
              "function displayQuickchartButton(domScope) {\n",
              "  let quickchartButtonEl =\n",
              "    domScope.querySelector('#df-6b46f9fe-430b-46fe-a6ee-bd181cd4d0ac button.colab-df-quickchart');\n",
              "  quickchartButtonEl.style.display =\n",
              "    google.colab.kernel.accessAllowed ? 'block' : 'none';\n",
              "}\n",
              "\n",
              "        displayQuickchartButton(document);\n",
              "      </script>\n",
              "      <style>\n",
              "    .colab-df-container {\n",
              "      display:flex;\n",
              "      flex-wrap:wrap;\n",
              "      gap: 12px;\n",
              "    }\n",
              "\n",
              "    .colab-df-convert {\n",
              "      background-color: #E8F0FE;\n",
              "      border: none;\n",
              "      border-radius: 50%;\n",
              "      cursor: pointer;\n",
              "      display: none;\n",
              "      fill: #1967D2;\n",
              "      height: 32px;\n",
              "      padding: 0 0 0 0;\n",
              "      width: 32px;\n",
              "    }\n",
              "\n",
              "    .colab-df-convert:hover {\n",
              "      background-color: #E2EBFA;\n",
              "      box-shadow: 0px 1px 2px rgba(60, 64, 67, 0.3), 0px 1px 3px 1px rgba(60, 64, 67, 0.15);\n",
              "      fill: #174EA6;\n",
              "    }\n",
              "\n",
              "    [theme=dark] .colab-df-convert {\n",
              "      background-color: #3B4455;\n",
              "      fill: #D2E3FC;\n",
              "    }\n",
              "\n",
              "    [theme=dark] .colab-df-convert:hover {\n",
              "      background-color: #434B5C;\n",
              "      box-shadow: 0px 1px 3px 1px rgba(0, 0, 0, 0.15);\n",
              "      filter: drop-shadow(0px 1px 2px rgba(0, 0, 0, 0.3));\n",
              "      fill: #FFFFFF;\n",
              "    }\n",
              "  </style>\n",
              "\n",
              "      <script>\n",
              "        const buttonEl =\n",
              "          document.querySelector('#df-7cb2167a-467b-4a14-b6bc-84ceefa86ed3 button.colab-df-convert');\n",
              "        buttonEl.style.display =\n",
              "          google.colab.kernel.accessAllowed ? 'block' : 'none';\n",
              "\n",
              "        async function convertToInteractive(key) {\n",
              "          const element = document.querySelector('#df-7cb2167a-467b-4a14-b6bc-84ceefa86ed3');\n",
              "          const dataTable =\n",
              "            await google.colab.kernel.invokeFunction('convertToInteractive',\n",
              "                                                     [key], {});\n",
              "          if (!dataTable) return;\n",
              "\n",
              "          const docLinkHtml = 'Like what you see? Visit the ' +\n",
              "            '<a target=\"_blank\" href=https://colab.research.google.com/notebooks/data_table.ipynb>data table notebook</a>'\n",
              "            + ' to learn more about interactive tables.';\n",
              "          element.innerHTML = '';\n",
              "          dataTable['output_type'] = 'display_data';\n",
              "          await google.colab.output.renderOutput(dataTable, element);\n",
              "          const docLink = document.createElement('div');\n",
              "          docLink.innerHTML = docLinkHtml;\n",
              "          element.appendChild(docLink);\n",
              "        }\n",
              "      </script>\n",
              "    </div>\n",
              "  </div>\n"
            ]
          },
          "metadata": {},
          "execution_count": 157
        }
      ]
    },
    {
      "cell_type": "code",
      "source": [
        "df.to_csv(\"contexts.csv\")"
      ],
      "metadata": {
        "id": "LWNoEWj9-cVX"
      },
      "execution_count": null,
      "outputs": []
    },
    {
      "cell_type": "markdown",
      "source": [
        "### Define Function: `get_questions`"
      ],
      "metadata": {
        "id": "13SfFQLCGwYB"
      }
    },
    {
      "cell_type": "code",
      "source": [
        "def get_questions(context: str) -> str:\n",
        "    \"\"\"\n",
        "    Given a text context, generates a list of questions using OpenAI's GPT-3 API.\n",
        "\n",
        "    Args:\n",
        "    - context: A string representing the context for which questions should be generated.\n",
        "\n",
        "    Returns:\n",
        "    - A string containing the question generated by the API.\n",
        "    \"\"\"\n",
        "\n",
        "    try:\n",
        "        response = openai.Completion.create(\n",
        "            engine=\"davinci-instruct-beta-v3\",\n",
        "            prompt=f\"Write just ONE question based on the text below\\n\\nText: {context}\\n\\nQuestion:.\",\n",
        "            # prompt=f\"Write one question based on the text: {context}: Question:\",\n",
        "            temperature=0,\n",
        "            max_tokens=200,\n",
        "            top_p=1,\n",
        "            frequency_penalty=0,\n",
        "            presence_penalty=0,\n",
        "            stop=[\"\\n\\n\"]\n",
        "        )\n",
        "        # Extract question text from the response\n",
        "        question_text = response['choices'][0]['text']\n",
        "        return question_text\n",
        "    except:\n",
        "        # Return an empty string if there was an error\n",
        "        return \"\""
      ],
      "metadata": {
        "id": "lSSL0AepGv5W"
      },
      "execution_count": null,
      "outputs": []
    },
    {
      "cell_type": "markdown",
      "source": [
        "Run on real data"
      ],
      "metadata": {
        "id": "5DAhOV4CG7Ne"
      }
    },
    {
      "cell_type": "code",
      "source": [
        "%%time\n",
        "df['question'] = df.context.apply(get_questions)\n",
        "# df['question'] = \"1.\" + df.questions\n",
        "# print(df[['questions']].values[0][0])"
      ],
      "metadata": {
        "colab": {
          "base_uri": "https://localhost:8080/"
        },
        "id": "sqMlSJbxGzz3",
        "outputId": "3b3156d7-5efa-42a5-9eb3-22b0f45364de"
      },
      "execution_count": null,
      "outputs": [
        {
          "output_type": "stream",
          "name": "stdout",
          "text": [
            "CPU times: user 368 ms, sys: 25.3 ms, total: 394 ms\n",
            "Wall time: 28.7 s\n"
          ]
        }
      ]
    },
    {
      "cell_type": "code",
      "source": [
        "def replace_empty_questions(df: pd.DataFrame, column: str = 'question', replacement: str = 'No question asked.') -> pd.DataFrame:\n",
        "    \"\"\"\n",
        "    Replaces empty strings in the specified column of a Pandas dataframe with the given replacement string.\n",
        "\n",
        "    Parameters:\n",
        "    df (pd.DataFrame): The Pandas dataframe to process.\n",
        "    column (str): The column in the dataframe to replace empty strings. Default is 'question'.\n",
        "    replacement (str): The replacement string for empty strings. Default is 'No question asked.'.\n",
        "\n",
        "    Returns:\n",
        "    pd.DataFrame: A new Pandas dataframe with the empty strings replaced.\n",
        "    \"\"\"\n",
        "    # Copy the original dataframe to avoid modifying it in place\n",
        "    new_df = df.copy()\n",
        "\n",
        "    # Replace empty strings in the specified column with the replacement string\n",
        "    new_df.loc[new_df[column] == '', column] = replacement\n",
        "\n",
        "    return new_df"
      ],
      "metadata": {
        "id": "VnUHXWpZJgCw"
      },
      "execution_count": null,
      "outputs": []
    },
    {
      "cell_type": "code",
      "source": [
        "# Example usage\n",
        "df = replace_empty_questions(df)"
      ],
      "metadata": {
        "id": "0UarFYQeQayp"
      },
      "execution_count": null,
      "outputs": []
    },
    {
      "cell_type": "code",
      "source": [
        "df"
      ],
      "metadata": {
        "colab": {
          "base_uri": "https://localhost:8080/",
          "height": 942
        },
        "id": "MDYU6sGPQf5D",
        "outputId": "bad7894d-c784-4104-c8c6-11e83658ccfd"
      },
      "execution_count": null,
      "outputs": [
        {
          "output_type": "execute_result",
          "data": {
            "text/plain": [
              "                                              context  \\\n",
              "0   Heliconia : Heliconias are a genus of flowerin...   \n",
              "1   cultures across the Amazon use heliconia leave...   \n",
              "2   leaves and cook them over fire or in water. So...   \n",
              "3   bananas, but tend to be less favorable because...   \n",
              "4   species. The flowers of the heliconias create ...   \n",
              "..                                                ...   \n",
              "78                                       homes. Video   \n",
              "79  Chirian: Renealmia asplundii . Wao name: teent...   \n",
              "80  genus has more than 150 species, the majority ...   \n",
              "81  Juice is extracted from two stalks and drunk i...   \n",
              "82                    the effects of the viper venom.   \n",
              "\n",
              "                                             question  \n",
              "0              What is the native range of Heliconia?  \n",
              "1    What is the dish called and what is wrapped i...  \n",
              "2    What are the similarities between heliconia f...  \n",
              "3    What is the difference between a banana and a...  \n",
              "4    What is the significance of the flowers of th...  \n",
              "..                                                ...  \n",
              "78                                 No question asked.  \n",
              "79                                 No question asked.  \n",
              "80                                 No question asked.  \n",
              "81   What is the name of the drink made from the s...  \n",
              "82           What are the effects of the viper venom?  \n",
              "\n",
              "[83 rows x 2 columns]"
            ],
            "text/html": [
              "\n",
              "\n",
              "  <div id=\"df-c7f75089-6068-4503-bb77-1151eaf01e26\">\n",
              "    <div class=\"colab-df-container\">\n",
              "      <div>\n",
              "<style scoped>\n",
              "    .dataframe tbody tr th:only-of-type {\n",
              "        vertical-align: middle;\n",
              "    }\n",
              "\n",
              "    .dataframe tbody tr th {\n",
              "        vertical-align: top;\n",
              "    }\n",
              "\n",
              "    .dataframe thead th {\n",
              "        text-align: right;\n",
              "    }\n",
              "</style>\n",
              "<table border=\"1\" class=\"dataframe\">\n",
              "  <thead>\n",
              "    <tr style=\"text-align: right;\">\n",
              "      <th></th>\n",
              "      <th>context</th>\n",
              "      <th>question</th>\n",
              "    </tr>\n",
              "  </thead>\n",
              "  <tbody>\n",
              "    <tr>\n",
              "      <th>0</th>\n",
              "      <td>Heliconia : Heliconias are a genus of flowerin...</td>\n",
              "      <td>What is the native range of Heliconia?</td>\n",
              "    </tr>\n",
              "    <tr>\n",
              "      <th>1</th>\n",
              "      <td>cultures across the Amazon use heliconia leave...</td>\n",
              "      <td>What is the dish called and what is wrapped i...</td>\n",
              "    </tr>\n",
              "    <tr>\n",
              "      <th>2</th>\n",
              "      <td>leaves and cook them over fire or in water. So...</td>\n",
              "      <td>What are the similarities between heliconia f...</td>\n",
              "    </tr>\n",
              "    <tr>\n",
              "      <th>3</th>\n",
              "      <td>bananas, but tend to be less favorable because...</td>\n",
              "      <td>What is the difference between a banana and a...</td>\n",
              "    </tr>\n",
              "    <tr>\n",
              "      <th>4</th>\n",
              "      <td>species. The flowers of the heliconias create ...</td>\n",
              "      <td>What is the significance of the flowers of th...</td>\n",
              "    </tr>\n",
              "    <tr>\n",
              "      <th>...</th>\n",
              "      <td>...</td>\n",
              "      <td>...</td>\n",
              "    </tr>\n",
              "    <tr>\n",
              "      <th>78</th>\n",
              "      <td>homes. Video</td>\n",
              "      <td>No question asked.</td>\n",
              "    </tr>\n",
              "    <tr>\n",
              "      <th>79</th>\n",
              "      <td>Chirian: Renealmia asplundii . Wao name: teent...</td>\n",
              "      <td>No question asked.</td>\n",
              "    </tr>\n",
              "    <tr>\n",
              "      <th>80</th>\n",
              "      <td>genus has more than 150 species, the majority ...</td>\n",
              "      <td>No question asked.</td>\n",
              "    </tr>\n",
              "    <tr>\n",
              "      <th>81</th>\n",
              "      <td>Juice is extracted from two stalks and drunk i...</td>\n",
              "      <td>What is the name of the drink made from the s...</td>\n",
              "    </tr>\n",
              "    <tr>\n",
              "      <th>82</th>\n",
              "      <td>the effects of the viper venom.</td>\n",
              "      <td>What are the effects of the viper venom?</td>\n",
              "    </tr>\n",
              "  </tbody>\n",
              "</table>\n",
              "<p>83 rows × 2 columns</p>\n",
              "</div>\n",
              "      <button class=\"colab-df-convert\" onclick=\"convertToInteractive('df-c7f75089-6068-4503-bb77-1151eaf01e26')\"\n",
              "              title=\"Convert this dataframe to an interactive table.\"\n",
              "              style=\"display:none;\">\n",
              "\n",
              "  <svg xmlns=\"http://www.w3.org/2000/svg\" height=\"24px\"viewBox=\"0 0 24 24\"\n",
              "       width=\"24px\">\n",
              "    <path d=\"M0 0h24v24H0V0z\" fill=\"none\"/>\n",
              "    <path d=\"M18.56 5.44l.94 2.06.94-2.06 2.06-.94-2.06-.94-.94-2.06-.94 2.06-2.06.94zm-11 1L8.5 8.5l.94-2.06 2.06-.94-2.06-.94L8.5 2.5l-.94 2.06-2.06.94zm10 10l.94 2.06.94-2.06 2.06-.94-2.06-.94-.94-2.06-.94 2.06-2.06.94z\"/><path d=\"M17.41 7.96l-1.37-1.37c-.4-.4-.92-.59-1.43-.59-.52 0-1.04.2-1.43.59L10.3 9.45l-7.72 7.72c-.78.78-.78 2.05 0 2.83L4 21.41c.39.39.9.59 1.41.59.51 0 1.02-.2 1.41-.59l7.78-7.78 2.81-2.81c.8-.78.8-2.07 0-2.86zM5.41 20L4 18.59l7.72-7.72 1.47 1.35L5.41 20z\"/>\n",
              "  </svg>\n",
              "      </button>\n",
              "\n",
              "\n",
              "\n",
              "    <div id=\"df-e4e005a5-6c21-4c78-9db8-1ca9b9d3bd66\">\n",
              "      <button class=\"colab-df-quickchart\" onclick=\"quickchart('df-e4e005a5-6c21-4c78-9db8-1ca9b9d3bd66')\"\n",
              "              title=\"Suggest charts.\"\n",
              "              style=\"display:none;\">\n",
              "\n",
              "<svg xmlns=\"http://www.w3.org/2000/svg\" height=\"24px\"viewBox=\"0 0 24 24\"\n",
              "     width=\"24px\">\n",
              "    <g>\n",
              "        <path d=\"M19 3H5c-1.1 0-2 .9-2 2v14c0 1.1.9 2 2 2h14c1.1 0 2-.9 2-2V5c0-1.1-.9-2-2-2zM9 17H7v-7h2v7zm4 0h-2V7h2v10zm4 0h-2v-4h2v4z\"/>\n",
              "    </g>\n",
              "</svg>\n",
              "      </button>\n",
              "    </div>\n",
              "\n",
              "<style>\n",
              "  .colab-df-quickchart {\n",
              "    background-color: #E8F0FE;\n",
              "    border: none;\n",
              "    border-radius: 50%;\n",
              "    cursor: pointer;\n",
              "    display: none;\n",
              "    fill: #1967D2;\n",
              "    height: 32px;\n",
              "    padding: 0 0 0 0;\n",
              "    width: 32px;\n",
              "  }\n",
              "\n",
              "  .colab-df-quickchart:hover {\n",
              "    background-color: #E2EBFA;\n",
              "    box-shadow: 0px 1px 2px rgba(60, 64, 67, 0.3), 0px 1px 3px 1px rgba(60, 64, 67, 0.15);\n",
              "    fill: #174EA6;\n",
              "  }\n",
              "\n",
              "  [theme=dark] .colab-df-quickchart {\n",
              "    background-color: #3B4455;\n",
              "    fill: #D2E3FC;\n",
              "  }\n",
              "\n",
              "  [theme=dark] .colab-df-quickchart:hover {\n",
              "    background-color: #434B5C;\n",
              "    box-shadow: 0px 1px 3px 1px rgba(0, 0, 0, 0.15);\n",
              "    filter: drop-shadow(0px 1px 2px rgba(0, 0, 0, 0.3));\n",
              "    fill: #FFFFFF;\n",
              "  }\n",
              "</style>\n",
              "\n",
              "    <script>\n",
              "      async function quickchart(key) {\n",
              "        const containerElement = document.querySelector('#' + key);\n",
              "        const charts = await google.colab.kernel.invokeFunction(\n",
              "            'suggestCharts', [key], {});\n",
              "      }\n",
              "    </script>\n",
              "\n",
              "\n",
              "      <script>\n",
              "\n",
              "function displayQuickchartButton(domScope) {\n",
              "  let quickchartButtonEl =\n",
              "    domScope.querySelector('#df-e4e005a5-6c21-4c78-9db8-1ca9b9d3bd66 button.colab-df-quickchart');\n",
              "  quickchartButtonEl.style.display =\n",
              "    google.colab.kernel.accessAllowed ? 'block' : 'none';\n",
              "}\n",
              "\n",
              "        displayQuickchartButton(document);\n",
              "      </script>\n",
              "      <style>\n",
              "    .colab-df-container {\n",
              "      display:flex;\n",
              "      flex-wrap:wrap;\n",
              "      gap: 12px;\n",
              "    }\n",
              "\n",
              "    .colab-df-convert {\n",
              "      background-color: #E8F0FE;\n",
              "      border: none;\n",
              "      border-radius: 50%;\n",
              "      cursor: pointer;\n",
              "      display: none;\n",
              "      fill: #1967D2;\n",
              "      height: 32px;\n",
              "      padding: 0 0 0 0;\n",
              "      width: 32px;\n",
              "    }\n",
              "\n",
              "    .colab-df-convert:hover {\n",
              "      background-color: #E2EBFA;\n",
              "      box-shadow: 0px 1px 2px rgba(60, 64, 67, 0.3), 0px 1px 3px 1px rgba(60, 64, 67, 0.15);\n",
              "      fill: #174EA6;\n",
              "    }\n",
              "\n",
              "    [theme=dark] .colab-df-convert {\n",
              "      background-color: #3B4455;\n",
              "      fill: #D2E3FC;\n",
              "    }\n",
              "\n",
              "    [theme=dark] .colab-df-convert:hover {\n",
              "      background-color: #434B5C;\n",
              "      box-shadow: 0px 1px 3px 1px rgba(0, 0, 0, 0.15);\n",
              "      filter: drop-shadow(0px 1px 2px rgba(0, 0, 0, 0.3));\n",
              "      fill: #FFFFFF;\n",
              "    }\n",
              "  </style>\n",
              "\n",
              "      <script>\n",
              "        const buttonEl =\n",
              "          document.querySelector('#df-c7f75089-6068-4503-bb77-1151eaf01e26 button.colab-df-convert');\n",
              "        buttonEl.style.display =\n",
              "          google.colab.kernel.accessAllowed ? 'block' : 'none';\n",
              "\n",
              "        async function convertToInteractive(key) {\n",
              "          const element = document.querySelector('#df-c7f75089-6068-4503-bb77-1151eaf01e26');\n",
              "          const dataTable =\n",
              "            await google.colab.kernel.invokeFunction('convertToInteractive',\n",
              "                                                     [key], {});\n",
              "          if (!dataTable) return;\n",
              "\n",
              "          const docLinkHtml = 'Like what you see? Visit the ' +\n",
              "            '<a target=\"_blank\" href=https://colab.research.google.com/notebooks/data_table.ipynb>data table notebook</a>'\n",
              "            + ' to learn more about interactive tables.';\n",
              "          element.innerHTML = '';\n",
              "          dataTable['output_type'] = 'display_data';\n",
              "          await google.colab.output.renderOutput(dataTable, element);\n",
              "          const docLink = document.createElement('div');\n",
              "          docLink.innerHTML = docLinkHtml;\n",
              "          element.appendChild(docLink);\n",
              "        }\n",
              "      </script>\n",
              "    </div>\n",
              "  </div>\n"
            ]
          },
          "metadata": {},
          "execution_count": 167
        }
      ]
    },
    {
      "cell_type": "markdown",
      "source": [
        "### Define Function: `get_answers`"
      ],
      "metadata": {
        "id": "ieoOmYg5G3eA"
      }
    },
    {
      "cell_type": "code",
      "source": [
        "def get_answers(row: pd.DataFrame) -> str:\n",
        "    \"\"\"\n",
        "    Given a dataframe row containing context and questions, generates an answer using OpenAI's GPT-3 API.\n",
        "\n",
        "    Args:\n",
        "    - row: A pandas dataframe row containing 'context' and 'questions' columns.\n",
        "\n",
        "    Returns:\n",
        "    - A string containing the answer generated by the API.\n",
        "    \"\"\"\n",
        "\n",
        "    try:\n",
        "        response = openai.Completion.create(\n",
        "            engine=\"davinci-instruct-beta-v3\",\n",
        "            prompt=f\"Write answer (limit to 1 paragraph) based on the text below\\n\\nText: {row.context}\\n\\nQuestion:\\n{row.question}\\n\\nAnswer:\",\n",
        "            temperature=0,\n",
        "            max_tokens=500,\n",
        "            top_p=1,\n",
        "            frequency_penalty=0,\n",
        "            presence_penalty=0\n",
        "        )\n",
        "        # Extract answer text from the response\n",
        "        answer_text = response['choices'][0]['text']\n",
        "        return answer_text\n",
        "    except Exception as e:\n",
        "        # Print the error message and return an empty string if there was an error\n",
        "        print (e)\n",
        "        return \"\""
      ],
      "metadata": {
        "id": "32-1L_5pG1dc"
      },
      "execution_count": null,
      "outputs": []
    },
    {
      "cell_type": "markdown",
      "source": [
        "Run on real data"
      ],
      "metadata": {
        "id": "PXNGmyCrG8kR"
      }
    },
    {
      "cell_type": "code",
      "source": [
        "%%time\n",
        "df['answers']= df.apply(get_answers, axis=1)\n",
        "# df['answers'] = \"1.\" + df.answers\n",
        "df = df.dropna().reset_index().drop('index', axis=1)\n",
        "# print(df[['answers']].values[0][0])"
      ],
      "metadata": {
        "colab": {
          "base_uri": "https://localhost:8080/"
        },
        "id": "fyiDK_j9G5pO",
        "outputId": "240a69d4-4754-4214-a185-3db582f00f9f"
      },
      "execution_count": null,
      "outputs": [
        {
          "output_type": "stream",
          "name": "stdout",
          "text": [
            "CPU times: user 641 ms, sys: 55.8 ms, total: 697 ms\n",
            "Wall time: 54.8 s\n"
          ]
        }
      ]
    },
    {
      "cell_type": "code",
      "source": [
        "df.head()"
      ],
      "metadata": {
        "colab": {
          "base_uri": "https://localhost:8080/",
          "height": 414
        },
        "id": "wamulNgqHv_R",
        "outputId": "0ad0cd38-b6cb-4706-fde9-c27d5724904d"
      },
      "execution_count": null,
      "outputs": [
        {
          "output_type": "execute_result",
          "data": {
            "text/plain": [
              "                                             context  \\\n",
              "0  Heliconia : Heliconias are a genus of flowerin...   \n",
              "1  cultures across the Amazon use heliconia leave...   \n",
              "2  leaves and cook them over fire or in water. So...   \n",
              "3  bananas, but tend to be less favorable because...   \n",
              "4  species. The flowers of the heliconias create ...   \n",
              "\n",
              "                                            question  \\\n",
              "0             What is the native range of Heliconia?   \n",
              "1   What is the dish called and what is wrapped i...   \n",
              "2   What are the similarities between heliconia f...   \n",
              "3   What is the difference between a banana and a...   \n",
              "4   What is the significance of the flowers of th...   \n",
              "\n",
              "                                             answers  \n",
              "0   The native range of Heliconia is global, with...  \n",
              "1   The dish is called maito and the foods that a...  \n",
              "2  \\n\\nThe similarities between heliconia fruits ...  \n",
              "3   Bananas are typically sweeter and have fewer ...  \n",
              "4  \\n\\nThe flowers of the heliconias create nurse...  "
            ],
            "text/html": [
              "\n",
              "\n",
              "  <div id=\"df-65d11df4-401c-41dc-867c-9cfe5d2d9139\">\n",
              "    <div class=\"colab-df-container\">\n",
              "      <div>\n",
              "<style scoped>\n",
              "    .dataframe tbody tr th:only-of-type {\n",
              "        vertical-align: middle;\n",
              "    }\n",
              "\n",
              "    .dataframe tbody tr th {\n",
              "        vertical-align: top;\n",
              "    }\n",
              "\n",
              "    .dataframe thead th {\n",
              "        text-align: right;\n",
              "    }\n",
              "</style>\n",
              "<table border=\"1\" class=\"dataframe\">\n",
              "  <thead>\n",
              "    <tr style=\"text-align: right;\">\n",
              "      <th></th>\n",
              "      <th>context</th>\n",
              "      <th>question</th>\n",
              "      <th>answers</th>\n",
              "    </tr>\n",
              "  </thead>\n",
              "  <tbody>\n",
              "    <tr>\n",
              "      <th>0</th>\n",
              "      <td>Heliconia : Heliconias are a genus of flowerin...</td>\n",
              "      <td>What is the native range of Heliconia?</td>\n",
              "      <td>The native range of Heliconia is global, with...</td>\n",
              "    </tr>\n",
              "    <tr>\n",
              "      <th>1</th>\n",
              "      <td>cultures across the Amazon use heliconia leave...</td>\n",
              "      <td>What is the dish called and what is wrapped i...</td>\n",
              "      <td>The dish is called maito and the foods that a...</td>\n",
              "    </tr>\n",
              "    <tr>\n",
              "      <th>2</th>\n",
              "      <td>leaves and cook them over fire or in water. So...</td>\n",
              "      <td>What are the similarities between heliconia f...</td>\n",
              "      <td>\\n\\nThe similarities between heliconia fruits ...</td>\n",
              "    </tr>\n",
              "    <tr>\n",
              "      <th>3</th>\n",
              "      <td>bananas, but tend to be less favorable because...</td>\n",
              "      <td>What is the difference between a banana and a...</td>\n",
              "      <td>Bananas are typically sweeter and have fewer ...</td>\n",
              "    </tr>\n",
              "    <tr>\n",
              "      <th>4</th>\n",
              "      <td>species. The flowers of the heliconias create ...</td>\n",
              "      <td>What is the significance of the flowers of th...</td>\n",
              "      <td>\\n\\nThe flowers of the heliconias create nurse...</td>\n",
              "    </tr>\n",
              "  </tbody>\n",
              "</table>\n",
              "</div>\n",
              "      <button class=\"colab-df-convert\" onclick=\"convertToInteractive('df-65d11df4-401c-41dc-867c-9cfe5d2d9139')\"\n",
              "              title=\"Convert this dataframe to an interactive table.\"\n",
              "              style=\"display:none;\">\n",
              "\n",
              "  <svg xmlns=\"http://www.w3.org/2000/svg\" height=\"24px\"viewBox=\"0 0 24 24\"\n",
              "       width=\"24px\">\n",
              "    <path d=\"M0 0h24v24H0V0z\" fill=\"none\"/>\n",
              "    <path d=\"M18.56 5.44l.94 2.06.94-2.06 2.06-.94-2.06-.94-.94-2.06-.94 2.06-2.06.94zm-11 1L8.5 8.5l.94-2.06 2.06-.94-2.06-.94L8.5 2.5l-.94 2.06-2.06.94zm10 10l.94 2.06.94-2.06 2.06-.94-2.06-.94-.94-2.06-.94 2.06-2.06.94z\"/><path d=\"M17.41 7.96l-1.37-1.37c-.4-.4-.92-.59-1.43-.59-.52 0-1.04.2-1.43.59L10.3 9.45l-7.72 7.72c-.78.78-.78 2.05 0 2.83L4 21.41c.39.39.9.59 1.41.59.51 0 1.02-.2 1.41-.59l7.78-7.78 2.81-2.81c.8-.78.8-2.07 0-2.86zM5.41 20L4 18.59l7.72-7.72 1.47 1.35L5.41 20z\"/>\n",
              "  </svg>\n",
              "      </button>\n",
              "\n",
              "\n",
              "\n",
              "    <div id=\"df-505ea120-8e4c-4952-932f-336d28d2f507\">\n",
              "      <button class=\"colab-df-quickchart\" onclick=\"quickchart('df-505ea120-8e4c-4952-932f-336d28d2f507')\"\n",
              "              title=\"Suggest charts.\"\n",
              "              style=\"display:none;\">\n",
              "\n",
              "<svg xmlns=\"http://www.w3.org/2000/svg\" height=\"24px\"viewBox=\"0 0 24 24\"\n",
              "     width=\"24px\">\n",
              "    <g>\n",
              "        <path d=\"M19 3H5c-1.1 0-2 .9-2 2v14c0 1.1.9 2 2 2h14c1.1 0 2-.9 2-2V5c0-1.1-.9-2-2-2zM9 17H7v-7h2v7zm4 0h-2V7h2v10zm4 0h-2v-4h2v4z\"/>\n",
              "    </g>\n",
              "</svg>\n",
              "      </button>\n",
              "    </div>\n",
              "\n",
              "<style>\n",
              "  .colab-df-quickchart {\n",
              "    background-color: #E8F0FE;\n",
              "    border: none;\n",
              "    border-radius: 50%;\n",
              "    cursor: pointer;\n",
              "    display: none;\n",
              "    fill: #1967D2;\n",
              "    height: 32px;\n",
              "    padding: 0 0 0 0;\n",
              "    width: 32px;\n",
              "  }\n",
              "\n",
              "  .colab-df-quickchart:hover {\n",
              "    background-color: #E2EBFA;\n",
              "    box-shadow: 0px 1px 2px rgba(60, 64, 67, 0.3), 0px 1px 3px 1px rgba(60, 64, 67, 0.15);\n",
              "    fill: #174EA6;\n",
              "  }\n",
              "\n",
              "  [theme=dark] .colab-df-quickchart {\n",
              "    background-color: #3B4455;\n",
              "    fill: #D2E3FC;\n",
              "  }\n",
              "\n",
              "  [theme=dark] .colab-df-quickchart:hover {\n",
              "    background-color: #434B5C;\n",
              "    box-shadow: 0px 1px 3px 1px rgba(0, 0, 0, 0.15);\n",
              "    filter: drop-shadow(0px 1px 2px rgba(0, 0, 0, 0.3));\n",
              "    fill: #FFFFFF;\n",
              "  }\n",
              "</style>\n",
              "\n",
              "    <script>\n",
              "      async function quickchart(key) {\n",
              "        const containerElement = document.querySelector('#' + key);\n",
              "        const charts = await google.colab.kernel.invokeFunction(\n",
              "            'suggestCharts', [key], {});\n",
              "      }\n",
              "    </script>\n",
              "\n",
              "\n",
              "      <script>\n",
              "\n",
              "function displayQuickchartButton(domScope) {\n",
              "  let quickchartButtonEl =\n",
              "    domScope.querySelector('#df-505ea120-8e4c-4952-932f-336d28d2f507 button.colab-df-quickchart');\n",
              "  quickchartButtonEl.style.display =\n",
              "    google.colab.kernel.accessAllowed ? 'block' : 'none';\n",
              "}\n",
              "\n",
              "        displayQuickchartButton(document);\n",
              "      </script>\n",
              "      <style>\n",
              "    .colab-df-container {\n",
              "      display:flex;\n",
              "      flex-wrap:wrap;\n",
              "      gap: 12px;\n",
              "    }\n",
              "\n",
              "    .colab-df-convert {\n",
              "      background-color: #E8F0FE;\n",
              "      border: none;\n",
              "      border-radius: 50%;\n",
              "      cursor: pointer;\n",
              "      display: none;\n",
              "      fill: #1967D2;\n",
              "      height: 32px;\n",
              "      padding: 0 0 0 0;\n",
              "      width: 32px;\n",
              "    }\n",
              "\n",
              "    .colab-df-convert:hover {\n",
              "      background-color: #E2EBFA;\n",
              "      box-shadow: 0px 1px 2px rgba(60, 64, 67, 0.3), 0px 1px 3px 1px rgba(60, 64, 67, 0.15);\n",
              "      fill: #174EA6;\n",
              "    }\n",
              "\n",
              "    [theme=dark] .colab-df-convert {\n",
              "      background-color: #3B4455;\n",
              "      fill: #D2E3FC;\n",
              "    }\n",
              "\n",
              "    [theme=dark] .colab-df-convert:hover {\n",
              "      background-color: #434B5C;\n",
              "      box-shadow: 0px 1px 3px 1px rgba(0, 0, 0, 0.15);\n",
              "      filter: drop-shadow(0px 1px 2px rgba(0, 0, 0, 0.3));\n",
              "      fill: #FFFFFF;\n",
              "    }\n",
              "  </style>\n",
              "\n",
              "      <script>\n",
              "        const buttonEl =\n",
              "          document.querySelector('#df-65d11df4-401c-41dc-867c-9cfe5d2d9139 button.colab-df-convert');\n",
              "        buttonEl.style.display =\n",
              "          google.colab.kernel.accessAllowed ? 'block' : 'none';\n",
              "\n",
              "        async function convertToInteractive(key) {\n",
              "          const element = document.querySelector('#df-65d11df4-401c-41dc-867c-9cfe5d2d9139');\n",
              "          const dataTable =\n",
              "            await google.colab.kernel.invokeFunction('convertToInteractive',\n",
              "                                                     [key], {});\n",
              "          if (!dataTable) return;\n",
              "\n",
              "          const docLinkHtml = 'Like what you see? Visit the ' +\n",
              "            '<a target=\"_blank\" href=https://colab.research.google.com/notebooks/data_table.ipynb>data table notebook</a>'\n",
              "            + ' to learn more about interactive tables.';\n",
              "          element.innerHTML = '';\n",
              "          dataTable['output_type'] = 'display_data';\n",
              "          await google.colab.output.renderOutput(dataTable, element);\n",
              "          const docLink = document.createElement('div');\n",
              "          docLink.innerHTML = docLinkHtml;\n",
              "          element.appendChild(docLink);\n",
              "        }\n",
              "      </script>\n",
              "    </div>\n",
              "  </div>\n"
            ]
          },
          "metadata": {},
          "execution_count": 174
        }
      ]
    },
    {
      "cell_type": "markdown",
      "source": [
        "## Save DataFrame"
      ],
      "metadata": {
        "id": "bWDt8LlvG_o6"
      }
    },
    {
      "cell_type": "code",
      "source": [
        "df.to_csv(f'new.csv')"
      ],
      "metadata": {
        "id": "NYs9ToJgHBml"
      },
      "execution_count": null,
      "outputs": []
    },
    {
      "cell_type": "markdown",
      "source": [
        "## Post Processing\n",
        "\n",
        "The following process the code for `GPT4`.\n",
        "\n",
        "Only run it if you are using `GPT4`."
      ],
      "metadata": {
        "id": "avM16FEECFPH"
      }
    },
    {
      "cell_type": "code",
      "source": [
        "import numpy as np\n",
        "import re"
      ],
      "metadata": {
        "id": "kpC_sYFwcHMN"
      },
      "execution_count": null,
      "outputs": []
    },
    {
      "cell_type": "code",
      "source": [
        "questions = pd.DataFrame()\n",
        "answers = pd.DataFrame()\n",
        "\n",
        "for i in range(2):\n",
        "    processed_df_quest = pd.DataFrame()\n",
        "    processed_df_ans = pd.DataFrame()\n",
        "\n",
        "    s = df.questions[i]\n",
        "    split_s = re.split(r'\\d+\\.', s)\n",
        "    split_s = [i.strip() for i in split_s if i]\n",
        "    processed_df_quest['questions'] = split_s\n",
        "    questions = pd.concat([questions, processed_df_quest])\n",
        "\n",
        "    s = df.answers[i]\n",
        "    split_s = re.split(r'\\d+\\.', s)\n",
        "    split_s = [i.strip() for i in split_s if i]\n",
        "    processed_df_ans['answers'] = split_s\n",
        "    answers = pd.concat([answers, processed_df_ans])"
      ],
      "metadata": {
        "id": "ptA3NzMlbdKY"
      },
      "execution_count": null,
      "outputs": []
    },
    {
      "cell_type": "code",
      "source": [
        "questions['role'] = 'user'\n",
        "questions = questions[['role', 'questions']]\n",
        "questions.columns = ['role', 'content']\n",
        "questions.index = np.arange(1, len(questions) + 1)"
      ],
      "metadata": {
        "id": "2KXlE298d4IR"
      },
      "execution_count": null,
      "outputs": []
    },
    {
      "cell_type": "code",
      "source": [
        "answers['role'] = 'assistant'\n",
        "answers = answers[['role', 'answers']]\n",
        "answers.columns = ['role', 'content']\n",
        "answers.index = np.arange(1, len(answers) + 1)"
      ],
      "metadata": {
        "id": "r0EyebIqcIar"
      },
      "execution_count": null,
      "outputs": []
    },
    {
      "cell_type": "code",
      "source": [
        "final_messages = []\n",
        "for i in range(len(questions)):\n",
        "    final_messages.append(questions.iloc[i, :].to_dict())\n",
        "    final_messages.append(answers.iloc[i, :].to_dict())"
      ],
      "metadata": {
        "id": "Ng1y7qtIfNqR"
      },
      "execution_count": null,
      "outputs": []
    },
    {
      "cell_type": "code",
      "source": [
        "final_messages"
      ],
      "metadata": {
        "id": "YUQ5HG9YhEDF"
      },
      "execution_count": null,
      "outputs": []
    },
    {
      "cell_type": "code",
      "source": [
        "def convert_to_list_of_dict_single_pair(df: pd.DataFrame) -> List[Dict[str, str]]:\n",
        "    questions = pd.DataFrame()\n",
        "    answers = pd.DataFrame()\n",
        "\n",
        "    for i in range(df.shape[0]):\n",
        "        processed_df_quest = pd.DataFrame()\n",
        "        processed_df_ans = pd.DataFrame()\n",
        "\n",
        "        s = df.questions[i]\n",
        "        split_s = re.split(r'\\d+\\.', s)\n",
        "        split_s = [i.strip() for i in split_s if i]\n",
        "        processed_df_quest['questions'] = split_s\n",
        "        questions = pd.concat([questions, processed_df_quest])\n",
        "\n",
        "        s = df.answers[i]\n",
        "        split_s = re.split(r'\\d+\\.', s)\n",
        "        split_s = [i.strip() for i in split_s if i]\n",
        "        processed_df_ans['answers'] = split_s\n",
        "        answers = pd.concat([answers, processed_df_ans])\n",
        "\n",
        "    questions['role'] = 'user'\n",
        "    questions = questions[['role', 'questions']]\n",
        "    questions.columns = ['role', 'content']\n",
        "    questions.index = np.arange(1, len(questions) + 1)\n",
        "\n",
        "    answers['role'] = 'assistant'\n",
        "    answers = answers[['role', 'answers']]\n",
        "    answers.columns = ['role', 'content']\n",
        "    answers.index = np.arange(1, len(answers) + 1)\n",
        "\n",
        "    final_messages = []\n",
        "    for i in range(len(questions)):\n",
        "        final_messages.append(questions.iloc[i, :].to_dict())\n",
        "        final_messages.append(answers.iloc[i, :].to_dict())\n",
        "\n",
        "    return final_messages"
      ],
      "metadata": {
        "id": "vU1ZPC1UhcKn"
      },
      "execution_count": null,
      "outputs": []
    },
    {
      "cell_type": "code",
      "source": [
        "convert_to_list_of_dict_single_pair(df)"
      ],
      "metadata": {
        "id": "rFqbyi9GlVAh"
      },
      "execution_count": null,
      "outputs": []
    },
    {
      "cell_type": "markdown",
      "source": [
        "## Post Processing\n",
        "\n",
        "The following code break the question-answer down into rows.\n",
        "\n",
        "Only do this if you want to fine-tune your own LLM models."
      ],
      "metadata": {
        "id": "Zp8PczZNCNM_"
      }
    },
    {
      "cell_type": "code",
      "source": [
        "import pandas as pd\n",
        "import re"
      ],
      "metadata": {
        "id": "WZYgb5j0CSgo"
      },
      "execution_count": null,
      "outputs": []
    },
    {
      "cell_type": "code",
      "source": [
        "df = pd.read_csv(\"/content/mckinsey-covid-report.csv\")"
      ],
      "metadata": {
        "id": "HXa0Ef6qCYoI"
      },
      "execution_count": null,
      "outputs": []
    },
    {
      "cell_type": "code",
      "source": [
        "# Define a regular expression pattern for splitting\n",
        "pattern = re.compile(r'(?=\\n[1-9])')"
      ],
      "metadata": {
        "id": "WSlHbL0yGuWd"
      },
      "execution_count": null,
      "outputs": []
    },
    {
      "cell_type": "code",
      "source": [
        "# Create a sample dataframe\n",
        "data = df\n",
        "\n",
        "# Initialize empty lists to store the processed questions for each column\n",
        "context = []\n",
        "processed_q = []\n",
        "processed_a = []\n",
        "\n",
        "# Iterate over the rows of the dataframe\n",
        "for index, row in df.iterrows():\n",
        "\n",
        "    # Process the 'questions' column\n",
        "    questions = re.split(pattern, row['questions'])\n",
        "    for quest in questions:\n",
        "        processed_q.append(quest.strip())\n",
        "\n",
        "    # Process the 'answers' column\n",
        "    answers = re.split(pattern, row['answers'])\n",
        "    for ans in answers:\n",
        "        processed_a.append(ans.strip())\n",
        "\n",
        "    # Process the 'context' column\n",
        "    for ans in answers:\n",
        "        c = row['context']\n",
        "        context.append(c)\n",
        "\n",
        "# Create a new dataframe with the processed questions\n",
        "new_data = {\n",
        "    'context': context,\n",
        "    'questions': processed_q,\n",
        "    'answers': processed_a\n",
        "}"
      ],
      "metadata": {
        "id": "5LCJT1trCboL"
      },
      "execution_count": null,
      "outputs": []
    },
    {
      "cell_type": "code",
      "source": [
        "len(new_data['context']), len(new_data['questions']), len(new_data['answers'])"
      ],
      "metadata": {
        "colab": {
          "base_uri": "https://localhost:8080/"
        },
        "id": "nVnQqOfnFx9O",
        "outputId": "e6d3e0ae-88e7-4ebc-e3c9-3f506ffa7c70"
      },
      "execution_count": null,
      "outputs": [
        {
          "output_type": "execute_result",
          "data": {
            "text/plain": [
              "(54, 48, 54)"
            ]
          },
          "metadata": {},
          "execution_count": 32
        }
      ]
    },
    {
      "cell_type": "code",
      "source": [
        "i=3\n",
        "print(new_data['context'][i])\n",
        "print(new_data['questions'][i])\n",
        "print(new_data['answers'][i])"
      ],
      "metadata": {
        "id": "G0a5zrwvHI89"
      },
      "execution_count": null,
      "outputs": []
    },
    {
      "cell_type": "code",
      "source": [
        "new_df = pd.DataFrame(new_data)\n",
        "\n",
        "print(new_df)"
      ],
      "metadata": {
        "id": "qzLJww0zFwiU"
      },
      "execution_count": null,
      "outputs": []
    },
    {
      "cell_type": "code",
      "source": [],
      "metadata": {
        "id": "RkEH8ju7EOLT"
      },
      "execution_count": null,
      "outputs": []
    }
  ]
}