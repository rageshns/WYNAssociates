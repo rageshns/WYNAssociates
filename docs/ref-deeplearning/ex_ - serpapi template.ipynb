{
  "nbformat": 4,
  "nbformat_minor": 0,
  "metadata": {
    "colab": {
      "provenance": []
    },
    "kernelspec": {
      "name": "python3",
      "display_name": "Python 3"
    },
    "language_info": {
      "name": "python"
    }
  },
  "cells": [
    {
      "cell_type": "code",
      "source": [
        "! pip install serpapi google-search-results"
      ],
      "metadata": {
        "colab": {
          "base_uri": "https://localhost:8080/"
        },
        "id": "YCPD5mEdgUnp",
        "outputId": "90a922f9-8e00-4767-b2c5-652d6a62891c"
      },
      "execution_count": 2,
      "outputs": [
        {
          "output_type": "stream",
          "name": "stdout",
          "text": [
            "Requirement already satisfied: serpapi in /usr/local/lib/python3.10/dist-packages (0.1.5)\n",
            "Requirement already satisfied: google-search-results in /usr/local/lib/python3.10/dist-packages (2.4.2)\n",
            "Requirement already satisfied: requests in /usr/local/lib/python3.10/dist-packages (from serpapi) (2.31.0)\n",
            "Requirement already satisfied: charset-normalizer<4,>=2 in /usr/local/lib/python3.10/dist-packages (from requests->serpapi) (3.3.2)\n",
            "Requirement already satisfied: idna<4,>=2.5 in /usr/local/lib/python3.10/dist-packages (from requests->serpapi) (3.7)\n",
            "Requirement already satisfied: urllib3<3,>=1.21.1 in /usr/local/lib/python3.10/dist-packages (from requests->serpapi) (2.0.7)\n",
            "Requirement already satisfied: certifi>=2017.4.17 in /usr/local/lib/python3.10/dist-packages (from requests->serpapi) (2024.6.2)\n"
          ]
        }
      ]
    },
    {
      "cell_type": "code",
      "source": [
        "from google.colab import userdata\n",
        "SERPAPI_API_KEY = userdata.get('SERPAPI_API_KEY')"
      ],
      "metadata": {
        "id": "0BQGLdmzgPJ7"
      },
      "execution_count": 1,
      "outputs": []
    },
    {
      "cell_type": "code",
      "execution_count": 7,
      "metadata": {
        "colab": {
          "base_uri": "https://localhost:8080/"
        },
        "id": "UIUmGxqOgEWy",
        "outputId": "98b3a9c2-7f1f-4e5f-f817-e348a27742c3"
      },
      "outputs": [
        {
          "output_type": "stream",
          "name": "stdout",
          "text": [
            "Title: 10-Day Weather Forecast for Westchester County, NY\n",
            "Link: https://weather.com/weather/tenday/l/d57edeecd89315a1e8ce26564332ea40d843c35e8a8ab4f52ce697310ba856ed\n",
            "\n",
            "Title: News 12 Westchester - Weather\n",
            "Link: https://westchester.news12.com/weather\n",
            "\n",
            "Title: Westchester, NY Weather Forecast\n",
            "Link: https://www.accuweather.com/en/us/westchester/10462/weather-forecast/2146349\n",
            "\n",
            "Title: 10-Day Weather Forecast for Westchester County, NY\n",
            "Link: https://weather.com/weather/tenday/l/d57edeecd89315a1e8ce26564332ea40d843c35e8a8ab4f52ce697310ba856ed?traffic_source=footerNav_Tenday\n",
            "\n",
            "Title: Zone Area Forecast for Southern Westchester\n",
            "Link: https://forecast.weather.gov/MapClick.php?zoneid=NYZ071\n",
            "\n",
            "Title: Weather Forecast and Conditions for White Plains, NY\n",
            "Link: https://weather.com/weather/today/l/White+Plains+NY?canonicalCityId=18a013cc3b25478499a07001ff90fd2f6e9186d86d23c451ea8093456a2e5326\n",
            "\n",
            "Title: Westchester NY hourly weather forecast for next 12 hours\n",
            "Link: https://www.localconditions.com/weather-westchester-new-york/10461/hourly.12hr.php\n",
            "\n",
            "Title: 10-Day Weather Forecast for Westchester, IL\n",
            "Link: https://weather.com/weather/tenday/l/Westchester+IL?canonicalCityId=8b9bee05b5e2779e77dcebe7b7c1db97aa0b79d5968f8c0a0299591412f082d6\n",
            "\n",
            "Title: Westchester, New York | 10-Day Weather Forecasts & ...\n",
            "Link: https://www.weatherbug.com/weather-forecast/10-day-weather/westchester-ny-10462\n",
            "\n",
            "Title: Westchester NY 5 Day weather forecast\n",
            "Link: https://www.localconditions.com/weather-westchester-new-york/10461/forecast.php\n",
            "\n"
          ]
        }
      ],
      "source": [
        "from serpapi import GoogleSearch\n",
        "from typing import List, Dict, Any\n",
        "\n",
        "def search_serpapi(query: str, api_key: str) -> List[Dict[str, Any]]:\n",
        "    \"\"\"\n",
        "    Search using SerpAPI for the given query and return the results.\n",
        "\n",
        "    :param query: The search query string.\n",
        "    :param api_key: Your SerpAPI key.\n",
        "    :return: A list of search results.\n",
        "    :raises Exception: For any errors during the request.\n",
        "    \"\"\"\n",
        "    try:\n",
        "        search = GoogleSearch({\n",
        "            \"q\": query,\n",
        "            \"location\": \"Austin, Texas, United States\",\n",
        "            \"api_key\": api_key\n",
        "        })\n",
        "        results = search.get_dict()\n",
        "        return results.get(\"organic_results\", [])\n",
        "    except Exception as e:\n",
        "        raise Exception(f\"An error occurred: {e}\")\n",
        "\n",
        "# Example usage:\n",
        "if __name__ == \"__main__\":\n",
        "    query = \"weather today in westchester\"\n",
        "    try:\n",
        "        results = search_serpapi(query, SERPAPI_API_KEY)\n",
        "        response = []\n",
        "        for result in results:\n",
        "            print(f\"Title: {result['title']}\")\n",
        "            print(f\"Link: {result['link']}\\n\")\n",
        "            response.append({\n",
        "                \"title\": result['title'],\n",
        "                \"link\": result['link']\n",
        "            })\n",
        "    except Exception as e:\n",
        "        print(f\"Failed to fetch data: {e}\")\n"
      ]
    },
    {
      "cell_type": "code",
      "source": [
        "response"
      ],
      "metadata": {
        "colab": {
          "base_uri": "https://localhost:8080/"
        },
        "id": "fZHKZhljjCp3",
        "outputId": "5c32d5bb-6f21-4d87-a32a-54c02be70b0e"
      },
      "execution_count": 8,
      "outputs": [
        {
          "output_type": "execute_result",
          "data": {
            "text/plain": [
              "[{'title': '10-Day Weather Forecast for Westchester County, NY',\n",
              "  'link': 'https://weather.com/weather/tenday/l/d57edeecd89315a1e8ce26564332ea40d843c35e8a8ab4f52ce697310ba856ed'},\n",
              " {'title': 'News 12 Westchester - Weather',\n",
              "  'link': 'https://westchester.news12.com/weather'},\n",
              " {'title': 'Westchester, NY Weather Forecast',\n",
              "  'link': 'https://www.accuweather.com/en/us/westchester/10462/weather-forecast/2146349'},\n",
              " {'title': '10-Day Weather Forecast for Westchester County, NY',\n",
              "  'link': 'https://weather.com/weather/tenday/l/d57edeecd89315a1e8ce26564332ea40d843c35e8a8ab4f52ce697310ba856ed?traffic_source=footerNav_Tenday'},\n",
              " {'title': 'Zone Area Forecast for Southern Westchester',\n",
              "  'link': 'https://forecast.weather.gov/MapClick.php?zoneid=NYZ071'},\n",
              " {'title': 'Weather Forecast and Conditions for White Plains, NY',\n",
              "  'link': 'https://weather.com/weather/today/l/White+Plains+NY?canonicalCityId=18a013cc3b25478499a07001ff90fd2f6e9186d86d23c451ea8093456a2e5326'},\n",
              " {'title': 'Westchester NY hourly weather forecast for next 12 hours',\n",
              "  'link': 'https://www.localconditions.com/weather-westchester-new-york/10461/hourly.12hr.php'},\n",
              " {'title': '10-Day Weather Forecast for Westchester, IL',\n",
              "  'link': 'https://weather.com/weather/tenday/l/Westchester+IL?canonicalCityId=8b9bee05b5e2779e77dcebe7b7c1db97aa0b79d5968f8c0a0299591412f082d6'},\n",
              " {'title': 'Westchester, New York | 10-Day Weather Forecasts & ...',\n",
              "  'link': 'https://www.weatherbug.com/weather-forecast/10-day-weather/westchester-ny-10462'},\n",
              " {'title': 'Westchester NY 5 Day weather forecast',\n",
              "  'link': 'https://www.localconditions.com/weather-westchester-new-york/10461/forecast.php'}]"
            ]
          },
          "metadata": {},
          "execution_count": 8
        }
      ]
    },
    {
      "cell_type": "code",
      "source": [
        "def convert_to_md_table(data):\n",
        "    md_table = \"| Title | Link |\\n| --- | --- |\\n\"\n",
        "    for item in data:\n",
        "        title = item['title']\n",
        "        link = item['link']\n",
        "        md_table += f\"| {title} | [Link]({link}) |\\n\"\n",
        "    return md_table\n",
        "\n",
        "md_string = convert_to_md_table(response)"
      ],
      "metadata": {
        "id": "NK1jVmA6jEFE"
      },
      "execution_count": 9,
      "outputs": []
    },
    {
      "cell_type": "code",
      "source": [
        "print(md_string)"
      ],
      "metadata": {
        "colab": {
          "base_uri": "https://localhost:8080/"
        },
        "id": "avqPa1eZjYGK",
        "outputId": "79a3e5d8-917a-40e8-ae65-f99e11503efe"
      },
      "execution_count": 11,
      "outputs": [
        {
          "output_type": "stream",
          "name": "stdout",
          "text": [
            "| Title | Link |\n",
            "| --- | --- |\n",
            "| 10-Day Weather Forecast for Westchester County, NY | [Link](https://weather.com/weather/tenday/l/d57edeecd89315a1e8ce26564332ea40d843c35e8a8ab4f52ce697310ba856ed) |\n",
            "| News 12 Westchester - Weather | [Link](https://westchester.news12.com/weather) |\n",
            "| Westchester, NY Weather Forecast | [Link](https://www.accuweather.com/en/us/westchester/10462/weather-forecast/2146349) |\n",
            "| 10-Day Weather Forecast for Westchester County, NY | [Link](https://weather.com/weather/tenday/l/d57edeecd89315a1e8ce26564332ea40d843c35e8a8ab4f52ce697310ba856ed?traffic_source=footerNav_Tenday) |\n",
            "| Zone Area Forecast for Southern Westchester | [Link](https://forecast.weather.gov/MapClick.php?zoneid=NYZ071) |\n",
            "| Weather Forecast and Conditions for White Plains, NY | [Link](https://weather.com/weather/today/l/White+Plains+NY?canonicalCityId=18a013cc3b25478499a07001ff90fd2f6e9186d86d23c451ea8093456a2e5326) |\n",
            "| Westchester NY hourly weather forecast for next 12 hours | [Link](https://www.localconditions.com/weather-westchester-new-york/10461/hourly.12hr.php) |\n",
            "| 10-Day Weather Forecast for Westchester, IL | [Link](https://weather.com/weather/tenday/l/Westchester+IL?canonicalCityId=8b9bee05b5e2779e77dcebe7b7c1db97aa0b79d5968f8c0a0299591412f082d6) |\n",
            "| Westchester, New York | 10-Day Weather Forecasts & ... | [Link](https://www.weatherbug.com/weather-forecast/10-day-weather/westchester-ny-10462) |\n",
            "| Westchester NY 5 Day weather forecast | [Link](https://www.localconditions.com/weather-westchester-new-york/10461/forecast.php) |\n",
            "\n"
          ]
        }
      ]
    },
    {
      "cell_type": "code",
      "source": [],
      "metadata": {
        "id": "Lj2So5nXjYqh"
      },
      "execution_count": null,
      "outputs": []
    }
  ]
}