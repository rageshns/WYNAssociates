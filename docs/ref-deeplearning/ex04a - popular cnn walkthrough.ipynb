{
  "cells": [
    {
      "cell_type": "markdown",
      "source": [
        "# Introduction to Famous Image Classifiers"
      ],
      "metadata": {
        "id": "LALbr1w_fG5t"
      }
    },
    {
      "cell_type": "markdown",
      "source": [
        "Convolutional Neural Networks (CNNs) are a class of deep neural networks, most commonly applied to analyzing visual imagery. They have achieved remarkable success in various tasks such as image and video recognition, image classification, and also in medical image analysis.\n",
        "\n",
        "## Data Processing\n",
        "\n",
        "Before being fed into a CNN, data must undergo preprocessing to ensure it is in a suitable format for the model. This often includes normalization, where pixel values are scaled to a range (e.g., 0 to 1), and resizing, where images are resized to conform to the input size requirements of the network. Additionally, data augmentation techniques such as rotation, translation, and flipping can be used to increase the diversity of the training set, helping to improve the model's generalization.\n",
        "\n",
        "## Models\n",
        "\n",
        "CNNs consist of an input layer, output layer, and multiple hidden layers. The hidden layers of a CNN typically include convolutional layers, activation functions, pooling layers, and fully connected layers (FCLs). Below are some notable models:\n",
        "\n",
        "### 1. Artificial Neural Network (ANN)\n",
        "\n",
        "ANNs are the foundation upon which CNNs are built. They consist of layers of nodes connected by edges, with each edge having a weight that is adjusted during training. ANNs are versatile and can be used for a wide range of tasks beyond image processing.\n",
        "\n",
        "### 2. LeNet\n",
        "\n",
        "LeNet, one of the first convolutional neural networks, was designed for handwriting and character recognition. It consists of convolutional layers followed by subsampling layers, ending with fully connected layers.\n",
        "\n",
        "### 3. VGG16\n",
        "\n",
        "VGG16 is a deep CNN model that consists of 16 layers. It is characterized by its simplicity, using only 3x3 convolutional layers stacked on top of each other in increasing depth. Max pooling is used to reduce dimensionality and dense layers followed by a softmax activation function classify the inputs.\n",
        "\n",
        "### 4. ResNet\n",
        "\n",
        "Residual Networks (ResNet) introduced the concept of residual learning, where shortcut connections are used to allow gradients to flow through the network directly. This enables the training of much deeper networks by alleviating the vanishing gradient problem.\n",
        "\n",
        "### 5. DenseNet\n",
        "\n",
        "Dense Convolutional Network (DenseNet) connects each layer to every other layer in a feed-forward fashion. For each layer, the feature-maps of all preceding layers are used as inputs, and its own feature-maps are used as inputs into all subsequent layers, significantly reducing the number of parameters.\n",
        "\n",
        "### 6. Inception/GoogLeNet\n",
        "\n",
        "The Inception network, also known as GoogLeNet, introduced the inception module, which allows the network to choose from different kernel sizes at each layer, enabling it to adapt to various scales of features. It uses a complex architecture with multiple inception modules stacked upon each other, leading to a deep and wide structure.\n",
        "\n",
        "## Loss Functions\n",
        "\n",
        "Loss functions measure how well the model's predictions match the actual labels. For binary classification problems, Binary Cross-Entropy is used:\n",
        "\n",
        "$$L(y, \\hat{y}) = -\\frac{1}{N} \\sum_{i=1}^{N} [y_i \\log(\\hat{y}_i) + (1 - y_i) \\log(1 - \\hat{y}_i)]$$\n",
        "\n",
        "Where $y$ is the actual label, $\\hat{y}$ is the predicted probability, and $N$ is the number of observations.\n",
        "\n",
        "For multi-class classification problems involving $K$ classes, Cross-Entropy is the generalization:\n",
        "\n",
        "$$L(y, \\hat{y}) = -\\frac{1}{N} \\sum_{i=1}^{N} \\sum_{k=1}^{K} y_{ik} \\log(\\hat{y}_{ik})$$\n",
        "\n",
        "Here, $y_{ik}$ is a binary indicator of whether class $k$ is the correct classification for observation $i$, and $\\hat{y}_{ik}$ is the predicted probability that observation $i$ is of class $k$.\n",
        "\n",
        "CNNs are powerful tools for many applications in computer vision and beyond, with ongoing research continuously improving their capabilities and efficiency."
      ],
      "metadata": {
        "id": "xRxYqEtTfhQv"
      }
    },
    {
      "cell_type": "markdown",
      "source": [
        "## Library"
      ],
      "metadata": {
        "id": "KUd8ThIxfJzH"
      }
    },
    {
      "cell_type": "code",
      "execution_count": 1,
      "metadata": {
        "id": "EYjUiHedBOPZ"
      },
      "outputs": [],
      "source": [
        "import tensorflow as tf\n",
        "import numpy as np\n",
        "import matplotlib.pyplot as plt"
      ]
    },
    {
      "cell_type": "code",
      "execution_count": 2,
      "metadata": {
        "id": "lmPWdLBk8rP1"
      },
      "outputs": [],
      "source": [
        "# !pip install codecarbon"
      ]
    },
    {
      "cell_type": "markdown",
      "source": [
        "## Get Data"
      ],
      "metadata": {
        "id": "XMaIs6O9eiPl"
      }
    },
    {
      "cell_type": "code",
      "execution_count": 3,
      "metadata": {
        "id": "7F09oAf_Bfp4",
        "colab": {
          "base_uri": "https://localhost:8080/"
        },
        "outputId": "f888f392-a8d8-43c2-d303-0e08624f4e16"
      },
      "outputs": [
        {
          "output_type": "stream",
          "name": "stdout",
          "text": [
            "Downloading data from https://storage.googleapis.com/tensorflow/tf-keras-datasets/mnist.npz\n",
            "11490434/11490434 [==============================] - 0s 0us/step\n"
          ]
        }
      ],
      "source": [
        "(x_train, y_train), (x_test, y_test) = tf.keras.datasets.mnist.load_data()\n",
        "assert x_train.shape == (60000, 28, 28)\n",
        "assert x_test.shape == (10000, 28, 28)\n",
        "assert y_train.shape == (60000,)\n",
        "assert y_test.shape == (10000,)"
      ]
    },
    {
      "cell_type": "code",
      "execution_count": 4,
      "metadata": {
        "colab": {
          "base_uri": "https://localhost:8080/"
        },
        "id": "TI1KKsxHCkcw",
        "outputId": "0dd57c32-dff3-4afc-aacd-49621ebf7988"
      },
      "outputs": [
        {
          "output_type": "stream",
          "name": "stdout",
          "text": [
            "Downloading data from https://storage.googleapis.com/tensorflow/tf-keras-datasets/train-labels-idx1-ubyte.gz\n",
            "29515/29515 [==============================] - 0s 0us/step\n",
            "Downloading data from https://storage.googleapis.com/tensorflow/tf-keras-datasets/train-images-idx3-ubyte.gz\n",
            "26421880/26421880 [==============================] - 0s 0us/step\n",
            "Downloading data from https://storage.googleapis.com/tensorflow/tf-keras-datasets/t10k-labels-idx1-ubyte.gz\n",
            "5148/5148 [==============================] - 0s 0us/step\n",
            "Downloading data from https://storage.googleapis.com/tensorflow/tf-keras-datasets/t10k-images-idx3-ubyte.gz\n",
            "4422102/4422102 [==============================] - 0s 0us/step\n"
          ]
        }
      ],
      "source": [
        "(x_train, y_train), (x_test, y_test) = tf.keras.datasets.fashion_mnist.load_data()"
      ]
    },
    {
      "cell_type": "code",
      "source": [
        "(x_train, y_train), (x_test, y_test) = tf.keras.datasets.cifar10.load_data()"
      ],
      "metadata": {
        "id": "zUTt05ODAljJ",
        "colab": {
          "base_uri": "https://localhost:8080/"
        },
        "outputId": "4bb408a7-5832-4eee-bbec-1b2c1df60eab"
      },
      "execution_count": 5,
      "outputs": [
        {
          "output_type": "stream",
          "name": "stdout",
          "text": [
            "Downloading data from https://www.cs.toronto.edu/~kriz/cifar-10-python.tar.gz\n",
            "170498071/170498071 [==============================] - 4s 0us/step\n"
          ]
        }
      ]
    },
    {
      "cell_type": "code",
      "execution_count": 6,
      "metadata": {
        "colab": {
          "base_uri": "https://localhost:8080/"
        },
        "id": "-pQu0FmQ8Y3r",
        "outputId": "5bfc3e17-8d25-4575-87e5-6d10db4b24ea"
      },
      "outputs": [
        {
          "output_type": "execute_result",
          "data": {
            "text/plain": [
              "((50000, 32, 32, 3), (50000, 1), (10000, 32, 32, 3), (10000, 1))"
            ]
          },
          "metadata": {},
          "execution_count": 6
        }
      ],
      "source": [
        "x_train.shape, y_train.shape, x_test.shape, y_test.shape"
      ]
    },
    {
      "cell_type": "code",
      "execution_count": 7,
      "metadata": {
        "colab": {
          "base_uri": "https://localhost:8080/"
        },
        "id": "A1rrnUyyBmL4",
        "outputId": "820f9beb-ce54-4ab7-b484-c13391a24e29"
      },
      "outputs": [
        {
          "output_type": "execute_result",
          "data": {
            "text/plain": [
              "array([0, 1, 2, 3, 4, 5, 6, 7, 8, 9], dtype=uint8)"
            ]
          },
          "metadata": {},
          "execution_count": 7
        }
      ],
      "source": [
        "np.unique(y_train)"
      ]
    },
    {
      "cell_type": "code",
      "execution_count": 8,
      "metadata": {
        "colab": {
          "base_uri": "https://localhost:8080/"
        },
        "id": "XL2LbjPjIgma",
        "outputId": "4a0f2007-4ce5-4fd5-c67e-196620ff4f54"
      },
      "outputs": [
        {
          "output_type": "execute_result",
          "data": {
            "text/plain": [
              "(255, 0)"
            ]
          },
          "metadata": {},
          "execution_count": 8
        }
      ],
      "source": [
        "x_train.max(), x_train.min()"
      ]
    },
    {
      "cell_type": "markdown",
      "source": [
        "## Visualize Data"
      ],
      "metadata": {
        "id": "BrRwQW_NefTf"
      }
    },
    {
      "cell_type": "code",
      "execution_count": 9,
      "metadata": {
        "colab": {
          "base_uri": "https://localhost:8080/",
          "height": 447
        },
        "id": "UC1YFwNXIN9K",
        "outputId": "72780585-a451-476f-f05c-f87ecc0fc24b"
      },
      "outputs": [
        {
          "output_type": "execute_result",
          "data": {
            "text/plain": [
              "<matplotlib.colorbar.Colorbar at 0x7e320c5ef4f0>"
            ]
          },
          "metadata": {},
          "execution_count": 9
        },
        {
          "output_type": "display_data",
          "data": {
            "text/plain": [
              "<Figure size 640x480 with 2 Axes>"
            ],
            "image/png": "[encoded data removed]"
          },
          "metadata": {}
        }
      ],
      "source": [
        "i=0\n",
        "plt.imshow(x_train[i], cmap='binary')\n",
        "plt.colorbar()"
      ]
    },
    {
      "cell_type": "code",
      "execution_count": 10,
      "metadata": {
        "colab": {
          "base_uri": "https://localhost:8080/",
          "height": 981
        },
        "id": "IJGZPsi3Bu54",
        "outputId": "d7198e10-ace3-41d2-e3f6-cca2c0e09f4a"
      },
      "outputs": [
        {
          "output_type": "display_data",
          "data": {
            "text/plain": [
              "<Figure size 1000x1200 with 25 Axes>"
            ],
            "image/png": "[encoded data removed]"
          },
          "metadata": {}
        }
      ],
      "source": [
        "plt.figure(figsize=(10, 12))\n",
        "for i in range(25):\n",
        "    plt.subplot(5, 5, i+1)\n",
        "    plt.imshow(x_train[i], cmap='binary')\n",
        "    plt.title(y_train[i])\n",
        "\n",
        "plt.show()"
      ]
    },
    {
      "cell_type": "markdown",
      "metadata": {
        "id": "V-vV0EJIyTZM"
      },
      "source": [
        "## Data Processing"
      ]
    },
    {
      "cell_type": "code",
      "execution_count": 11,
      "metadata": {
        "colab": {
          "base_uri": "https://localhost:8080/"
        },
        "id": "g6mCkJATG6AG",
        "outputId": "930db131-aa2c-4655-ab31-d5b757573d09"
      },
      "outputs": [
        {
          "output_type": "execute_result",
          "data": {
            "text/plain": [
              "((50000, 10), (10000, 10))"
            ]
          },
          "metadata": {},
          "execution_count": 11
        }
      ],
      "source": [
        "y_train_bin = tf.keras.utils.to_categorical(y_train)\n",
        "y_test_bin = tf.keras.utils.to_categorical(y_test)\n",
        "y_train_bin.shape, y_test_bin.shape"
      ]
    },
    {
      "cell_type": "code",
      "execution_count": 12,
      "metadata": {
        "id": "8nEju2qDILdy"
      },
      "outputs": [],
      "source": [
        "x_train = x_train / 255.0\n",
        "x_test = x_test / 255.0"
      ]
    },
    {
      "cell_type": "markdown",
      "metadata": {
        "id": "mbK08OPLyU_Y"
      },
      "source": [
        "## Model 1: Neural Network"
      ]
    },
    {
      "cell_type": "markdown",
      "source": [
        "Artificial Neural Networks (ANNs) are computational models inspired by the human brain's interconnected network of neurons, designed to recognize patterns and solve complex problems. ANNs are composed of layers of nodes or \"neurons,\" each of which can receive input, process it, and pass on the output to the next layer. The networks \"learn\" by adjusting the weights of the connections based on the errors in predictions during the training process. This allows ANNs to perform a wide range of tasks, from simple classification to speech and image recognition, by effectively capturing the underlying relationships in the input data.\n",
        "\n",
        "The original paper by Yann LeCun that introduced convolutional neural networks (CNNs), a specialized kind of ANN for processing data with a grid-like topology (such as images), is titled \"Gradient-Based Learning Applied to Document Recognition.\" Although this seminal work did not mark the inception of ANNs themselves, it significantly impacted the development and application of neural networks in image recognition and processing. You can access this influential paper through the arXiv link: [https://arxiv.org/abs/1102.0183](https://arxiv.org/abs/1102.0183)."
      ],
      "metadata": {
        "id": "406YWKYZgHEq"
      }
    },
    {
      "cell_type": "code",
      "execution_count": 13,
      "metadata": {
        "id": "NFcAEFOjCU4y"
      },
      "outputs": [],
      "source": [
        "model = tf.keras.Sequential([\n",
        "    tf.keras.layers.Flatten(input_shape=(32, 32, 3)),\n",
        "    tf.keras.layers.Dense(256, activation='relu'),\n",
        "    tf.keras.layers.Dense(128, activation='relu'),\n",
        "    tf.keras.layers.Dense(64, activation='relu'),\n",
        "    tf.keras.layers.Dense(10, activation='softmax')\n",
        "])"
      ]
    },
    {
      "cell_type": "code",
      "execution_count": 14,
      "metadata": {
        "colab": {
          "base_uri": "https://localhost:8080/"
        },
        "id": "eRCENTI3xEWi",
        "outputId": "97ef208e-2cbf-4317-8fe9-cf16ba2cfe5e"
      },
      "outputs": [
        {
          "output_type": "stream",
          "name": "stdout",
          "text": [
            "Model: \"sequential\"\n",
            "_________________________________________________________________\n",
            " Layer (type)                Output Shape              Param #   \n",
            "=================================================================\n",
            " flatten (Flatten)           (None, 3072)              0         \n",
            "                                                                 \n",
            " dense (Dense)               (None, 256)               786688    \n",
            "                                                                 \n",
            " dense_1 (Dense)             (None, 128)               32896     \n",
            "                                                                 \n",
            " dense_2 (Dense)             (None, 64)                8256      \n",
            "                                                                 \n",
            " dense_3 (Dense)             (None, 10)                650       \n",
            "                                                                 \n",
            "=================================================================\n",
            "Total params: 828490 (3.16 MB)\n",
            "Trainable params: 828490 (3.16 MB)\n",
            "Non-trainable params: 0 (0.00 Byte)\n",
            "_________________________________________________________________\n"
          ]
        }
      ],
      "source": [
        "model.summary()"
      ]
    },
    {
      "cell_type": "code",
      "execution_count": 15,
      "metadata": {
        "id": "RDN4MJg3Dknb"
      },
      "outputs": [],
      "source": [
        "model.compile(\n",
        "    optimizer='sgd',\n",
        "    loss='categorical_crossentropy',\n",
        "    metrics=['accuracy']\n",
        ")"
      ]
    },
    {
      "cell_type": "code",
      "execution_count": 16,
      "metadata": {
        "colab": {
          "base_uri": "https://localhost:8080/"
        },
        "id": "rdpm2rLUHy2e",
        "outputId": "31d033d1-5f14-4f2a-ec46-b0c3cdf9afe8"
      },
      "outputs": [
        {
          "output_type": "execute_result",
          "data": {
            "text/plain": [
              "((50000, 32, 32, 3), (50000, 10))"
            ]
          },
          "metadata": {},
          "execution_count": 16
        }
      ],
      "source": [
        "x_train.shape, y_train_bin.shape"
      ]
    },
    {
      "cell_type": "code",
      "execution_count": 17,
      "metadata": {
        "colab": {
          "base_uri": "https://localhost:8080/"
        },
        "id": "2f4xcBXlGRfU",
        "outputId": "b398e206-71c8-44ec-e482-5899fbcc966e"
      },
      "outputs": [
        {
          "output_type": "stream",
          "name": "stdout",
          "text": [
            "Epoch 1/5\n",
            "4000/4000 [==============================] - 14s 3ms/step - loss: 1.8729 - accuracy: 0.3201 - val_loss: 1.7416 - val_accuracy: 0.3713\n",
            "Epoch 2/5\n",
            "4000/4000 [==============================] - 12s 3ms/step - loss: 1.6926 - accuracy: 0.3916 - val_loss: 1.6940 - val_accuracy: 0.3918\n",
            "Epoch 3/5\n",
            "4000/4000 [==============================] - 11s 3ms/step - loss: 1.6094 - accuracy: 0.4257 - val_loss: 1.6166 - val_accuracy: 0.4241\n",
            "Epoch 4/5\n",
            "4000/4000 [==============================] - 11s 3ms/step - loss: 1.5503 - accuracy: 0.4445 - val_loss: 1.6090 - val_accuracy: 0.4235\n",
            "Epoch 5/5\n",
            "4000/4000 [==============================] - 11s 3ms/step - loss: 1.5029 - accuracy: 0.4630 - val_loss: 1.5384 - val_accuracy: 0.4446\n",
            "CPU times: user 1min 9s, sys: 8.43 s, total: 1min 18s\n",
            "Wall time: 1min\n"
          ]
        },
        {
          "output_type": "execute_result",
          "data": {
            "text/plain": [
              "<keras.src.callbacks.History at 0x7e3209d90be0>"
            ]
          },
          "metadata": {},
          "execution_count": 17
        }
      ],
      "source": [
        "%%time\n",
        "\n",
        "model.fit(\n",
        "    x=x_train,\n",
        "    y=y_train_bin,\n",
        "    batch_size=10,\n",
        "    validation_split=0.2,\n",
        "    epochs=5\n",
        ")"
      ]
    },
    {
      "cell_type": "code",
      "execution_count": 18,
      "metadata": {
        "colab": {
          "base_uri": "https://localhost:8080/"
        },
        "id": "0vD7CFO1GyOn",
        "outputId": "91321155-3c5e-4b35-f5d0-35df3e6da83f"
      },
      "outputs": [
        {
          "output_type": "stream",
          "name": "stdout",
          "text": [
            "313/313 [==============================] - 1s 2ms/step - loss: 1.5062 - accuracy: 0.4611\n"
          ]
        },
        {
          "output_type": "execute_result",
          "data": {
            "text/plain": [
              "[1.5061978101730347, 0.4611000120639801]"
            ]
          },
          "metadata": {},
          "execution_count": 18
        }
      ],
      "source": [
        "model.evaluate(x_test, y_test_bin)"
      ]
    },
    {
      "cell_type": "markdown",
      "metadata": {
        "id": "pJPmyFX8yXpr"
      },
      "source": [
        "## Model 2: LeNet"
      ]
    },
    {
      "cell_type": "markdown",
      "source": [
        "LeNet, developed by Yann LeCun and colleagues, is a pioneering convolutional neural network (CNN) designed for handwritten and machine-printed character recognition. It marks one of the first successful applications of CNNs, introducing a structured architecture that includes convolutional layers to extract features from input images, pooling layers to reduce spatial dimensions, and fully connected layers to perform classification. The architecture of LeNet was instrumental in demonstrating the effectiveness of deep learning for image processing tasks, significantly influencing the development of more complex and efficient neural networks in later years. This groundbreaking work laid the foundation for modern deep learning in computer vision. The original paper detailing LeNet, titled \"Gradient-Based Learning Applied to Document Recognition,\" can be found on ArXiv through the link: [https://arxiv.org/abs/1102.0183](https://arxiv.org/abs/1102.0183)."
      ],
      "metadata": {
        "id": "MdtYR0y7gSdO"
      }
    },
    {
      "cell_type": "markdown",
      "metadata": {
        "id": "sWZhpZOazs4G"
      },
      "source": [
        "Make sure that in Convolutional layer, you reshape the dimension."
      ]
    },
    {
      "cell_type": "code",
      "source": [
        "x_train.shape, x_test.shape"
      ],
      "metadata": {
        "colab": {
          "base_uri": "https://localhost:8080/"
        },
        "id": "DUlay8_xNRc4",
        "outputId": "c2378472-ed17-45af-a5cf-d15055ae9086"
      },
      "execution_count": 19,
      "outputs": [
        {
          "output_type": "execute_result",
          "data": {
            "text/plain": [
              "((50000, 32, 32, 3), (10000, 32, 32, 3))"
            ]
          },
          "metadata": {},
          "execution_count": 19
        }
      ]
    },
    {
      "cell_type": "code",
      "execution_count": 20,
      "metadata": {
        "id": "FfvGZF_xzvyp",
        "colab": {
          "base_uri": "https://localhost:8080/"
        },
        "outputId": "731fdede-4352-4b7f-e2c7-105a71bd4804"
      },
      "outputs": [
        {
          "output_type": "execute_result",
          "data": {
            "text/plain": [
              "((50000, 32, 32, 3), (10000, 32, 32, 3))"
            ]
          },
          "metadata": {},
          "execution_count": 20
        }
      ],
      "source": [
        "x_train = x_train.reshape((50000, 32, 32, 3))\n",
        "x_test = x_test.reshape((10000, 32, 32, 3))\n",
        "x_train.shape, x_test.shape"
      ]
    },
    {
      "cell_type": "markdown",
      "metadata": {
        "id": "32z6z0tZ2BfU"
      },
      "source": [
        "Randomized filters:\n",
        "\n",
        "![image](https://www.researchgate.net/publication/322816297/figure/fig2/AS:663481913200640@1535197823870/Visualizing-the-convolutional-filters-of-the-customized-model-AlexNet-VGG16-VGG19-in.png)"
      ]
    },
    {
      "cell_type": "markdown",
      "metadata": {
        "id": "x52DL6nz16LQ"
      },
      "source": [
        "Existing filter:\n",
        "\n",
        "![image](https://miro.medium.com/v2/resize:fit:2724/1*5caL4vgvVwojnUpM6i2_EQ.png)"
      ]
    },
    {
      "cell_type": "markdown",
      "metadata": {
        "id": "T2f23Gk710JA"
      },
      "source": [
        "Hand crafted filters:\n",
        "\n",
        "![image](https://www.mdpi.com/electronics/electronics-11-01063/article_deploy/html/images/electronics-11-01063-g002.png)"
      ]
    },
    {
      "cell_type": "markdown",
      "metadata": {
        "id": "Dp3b7A_y2eai"
      },
      "source": [
        "I would recommend to write the layers using the following notations.\n",
        "\n",
        "[[32, [5,5]], [16, [5,5]], 120, 84]\n"
      ]
    },
    {
      "cell_type": "code",
      "execution_count": 21,
      "metadata": {
        "id": "qE64nM1rGuGj"
      },
      "outputs": [],
      "source": [
        "model = tf.keras.Sequential([\n",
        "    tf.keras.layers.Conv2D(filters=6, kernel_size=(5, 5), activation='relu', input_shape=(32, 32, 3)),\n",
        "    tf.keras.layers.MaxPool2D(pool_size=(2, 2)),\n",
        "    tf.keras.layers.Conv2D(filters=32, kernel_size=(5, 5), activation='relu'),\n",
        "    tf.keras.layers.MaxPool2D(pool_size=(2, 2)),\n",
        "    tf.keras.layers.Flatten(),\n",
        "    #tf.keras.layers.Dense(120, activation='relu'),\n",
        "    tf.keras.layers.Dense(84, activation='relu'),\n",
        "    tf.keras.layers.Dense(10, activation='softmax')\n",
        "])"
      ]
    },
    {
      "cell_type": "code",
      "execution_count": 22,
      "metadata": {
        "colab": {
          "base_uri": "https://localhost:8080/"
        },
        "id": "hm5E2BzOz6EA",
        "outputId": "c4d0bd84-6924-4c14-8582-c099cbe74c81"
      },
      "outputs": [
        {
          "output_type": "stream",
          "name": "stdout",
          "text": [
            "Model: \"sequential_1\"\n",
            "_________________________________________________________________\n",
            " Layer (type)                Output Shape              Param #   \n",
            "=================================================================\n",
            " conv2d (Conv2D)             (None, 28, 28, 6)         456       \n",
            "                                                                 \n",
            " max_pooling2d (MaxPooling2  (None, 14, 14, 6)         0         \n",
            " D)                                                              \n",
            "                                                                 \n",
            " conv2d_1 (Conv2D)           (None, 10, 10, 32)        4832      \n",
            "                                                                 \n",
            " max_pooling2d_1 (MaxPoolin  (None, 5, 5, 32)          0         \n",
            " g2D)                                                            \n",
            "                                                                 \n",
            " flatten_1 (Flatten)         (None, 800)               0         \n",
            "                                                                 \n",
            " dense_4 (Dense)             (None, 84)                67284     \n",
            "                                                                 \n",
            " dense_5 (Dense)             (None, 10)                850       \n",
            "                                                                 \n",
            "=================================================================\n",
            "Total params: 73422 (286.80 KB)\n",
            "Trainable params: 73422 (286.80 KB)\n",
            "Non-trainable params: 0 (0.00 Byte)\n",
            "_________________________________________________________________\n"
          ]
        }
      ],
      "source": [
        "model.summary()"
      ]
    },
    {
      "cell_type": "code",
      "execution_count": 23,
      "metadata": {
        "id": "cRj9Huymz7LN"
      },
      "outputs": [],
      "source": [
        "model.compile(\n",
        "    optimizer='sgd',\n",
        "    loss='categorical_crossentropy',\n",
        "    metrics=['accuracy']\n",
        ")"
      ]
    },
    {
      "cell_type": "code",
      "execution_count": 24,
      "metadata": {
        "colab": {
          "base_uri": "https://localhost:8080/"
        },
        "id": "VAYOKY5s0C_E",
        "outputId": "e1cb0d53-6bcc-44e1-f1bf-8f7e0c421ef7"
      },
      "outputs": [
        {
          "output_type": "stream",
          "name": "stdout",
          "text": [
            "Epoch 1/5\n",
            "4000/4000 [==============================] - 15s 3ms/step - loss: 1.8199 - accuracy: 0.3367 - val_loss: 1.5998 - val_accuracy: 0.4146\n",
            "Epoch 2/5\n",
            "4000/4000 [==============================] - 12s 3ms/step - loss: 1.5028 - accuracy: 0.4581 - val_loss: 1.4313 - val_accuracy: 0.4886\n",
            "Epoch 3/5\n",
            "4000/4000 [==============================] - 12s 3ms/step - loss: 1.3887 - accuracy: 0.5040 - val_loss: 1.3950 - val_accuracy: 0.5082\n",
            "Epoch 4/5\n",
            "4000/4000 [==============================] - 12s 3ms/step - loss: 1.3069 - accuracy: 0.5357 - val_loss: 1.3047 - val_accuracy: 0.5453\n",
            "Epoch 5/5\n",
            "4000/4000 [==============================] - 12s 3ms/step - loss: 1.2421 - accuracy: 0.5599 - val_loss: 1.2630 - val_accuracy: 0.5613\n",
            "CPU times: user 1min 16s, sys: 8.88 s, total: 1min 25s\n",
            "Wall time: 1min 5s\n"
          ]
        },
        {
          "output_type": "execute_result",
          "data": {
            "text/plain": [
              "<keras.src.callbacks.History at 0x7e320a28d150>"
            ]
          },
          "metadata": {},
          "execution_count": 24
        }
      ],
      "source": [
        "%%time\n",
        "\n",
        "model.fit(\n",
        "    x=x_train,\n",
        "    y=y_train_bin,\n",
        "    batch_size=10,\n",
        "    validation_split=0.2,\n",
        "    epochs=5\n",
        ")"
      ]
    },
    {
      "cell_type": "code",
      "execution_count": 25,
      "metadata": {
        "colab": {
          "base_uri": "https://localhost:8080/"
        },
        "id": "c5pMu0Qk0Fr7",
        "outputId": "49fb7b39-81be-49da-cf18-79a679904cbd"
      },
      "outputs": [
        {
          "output_type": "stream",
          "name": "stdout",
          "text": [
            "313/313 [==============================] - 1s 2ms/step - loss: 1.2497 - accuracy: 0.5569\n"
          ]
        },
        {
          "output_type": "execute_result",
          "data": {
            "text/plain": [
              "[1.24966561794281, 0.5569000244140625]"
            ]
          },
          "metadata": {},
          "execution_count": 25
        }
      ],
      "source": [
        "model.evaluate(x_test, y_test_bin)"
      ]
    },
    {
      "cell_type": "markdown",
      "metadata": {
        "id": "HDwISIe54CMW"
      },
      "source": [
        "## Model 3: VGG16\n",
        "\n",
        "It is taking the `conv2d` and `maxpooling` layers and make them repeat for a few more times.\n",
        "\n",
        "![image](https://raw.githubusercontent.com/yiqiao-yin/WYNAssociates/main/figs/for_wyn_ed/cnn_adv_fig_1.png)"
      ]
    },
    {
      "cell_type": "markdown",
      "source": [
        "VGG16 is a deep convolutional neural network architecture known for its simplicity and depth, developed by Karen Simonyan and Andrew Zisserman from the Visual Geometry Group (VGG) at the University of Oxford. Introduced in the paper \"Very Deep Convolutional Networks for Large-Scale Image Recognition,\" VGG16 was notable for its uniform architecture consisting of 16 layers, including 13 convolutional layers followed by 3 fully connected layers. The network employs 3x3 convolutional filters throughout, a small receptive field size, but stacks many such layers deep to achieve high levels of representational power. VGG16 significantly advanced the field of deep learning by demonstrating that depth is a critical component for achieving good performance in visual recognition tasks. The model achieved state-of-the-art performance in the ImageNet competition, and its architecture has become a popular choice for many computer vision applications due to its simplicity and effectiveness. The original paper can be accessed through the ArXiv link: [https://arxiv.org/abs/1409.1556](https://arxiv.org/abs/1409.1556)."
      ],
      "metadata": {
        "id": "pJBq6xrmghLV"
      }
    },
    {
      "cell_type": "code",
      "execution_count": 26,
      "metadata": {
        "id": "xO_JmVco4zlb"
      },
      "outputs": [],
      "source": [
        "from tensorflow.keras import models, layers"
      ]
    },
    {
      "cell_type": "code",
      "execution_count": 27,
      "metadata": {
        "id": "b_iXQe3v2X47"
      },
      "outputs": [],
      "source": [
        "model = models.Sequential()\n",
        "\n",
        "# First convolutional block\n",
        "model.add(layers.Conv2D(64, (3, 3), padding='same', activation='relu', input_shape=(32, 32, 3)))\n",
        "model.add(layers.Conv2D(64, (3, 3), padding='same', activation='relu'))\n",
        "model.add(layers.MaxPooling2D((2, 2), strides=(2, 2)))\n",
        "\n",
        "# Second convolutional block\n",
        "model.add(layers.Conv2D(128, (3, 3), padding='same', activation='relu'))\n",
        "model.add(layers.Conv2D(128, (3, 3), padding='same', activation='relu'))\n",
        "model.add(layers.MaxPooling2D((2, 2), strides=(2, 2)))\n",
        "\n",
        "# Third convolutional block\n",
        "model.add(layers.Conv2D(256, (3, 3), padding='same', activation='relu'))\n",
        "model.add(layers.Conv2D(256, (3, 3), padding='same', activation='relu'))\n",
        "model.add(layers.Conv2D(256, (3, 3), padding='same', activation='relu'))\n",
        "model.add(layers.MaxPooling2D((2, 2), strides=(2, 2)))\n",
        "\n",
        "# Fourth convolutional block\n",
        "model.add(layers.Conv2D(512, (3, 3), padding='same', activation='relu'))\n",
        "model.add(layers.Conv2D(512, (3, 3), padding='same', activation='relu'))\n",
        "model.add(layers.Conv2D(512, (3, 3), padding='same', activation='relu'))\n",
        "model.add(layers.MaxPooling2D((2, 2), strides=(2, 2)))\n",
        "\n",
        "# Fifth convolutional block\n",
        "model.add(layers.Conv2D(512, (3, 3), padding='same', activation='relu'))\n",
        "model.add(layers.Conv2D(512, (3, 3), padding='same', activation='relu'))\n",
        "model.add(layers.Conv2D(512, (3, 3), padding='same', activation='relu'))\n",
        "model.add(layers.MaxPooling2D((2, 2), strides=(2, 2)))\n",
        "\n",
        "# Flattening and Fully Connected Layers\n",
        "model.add(layers.Flatten())\n",
        "model.add(layers.Dense(4096, activation='relu'))\n",
        "#model.add(layers.Dense(4096, activation='relu'))\n",
        "model.add(layers.Dense(10, activation='softmax'))  # Assuming 10 classes\n"
      ]
    },
    {
      "cell_type": "code",
      "execution_count": 28,
      "metadata": {
        "colab": {
          "base_uri": "https://localhost:8080/"
        },
        "id": "B_dGVRrG4-Bd",
        "outputId": "14152921-d7f9-4dee-bafc-c1c2b13bdd3a"
      },
      "outputs": [
        {
          "output_type": "stream",
          "name": "stdout",
          "text": [
            "Model: \"sequential_2\"\n",
            "_________________________________________________________________\n",
            " Layer (type)                Output Shape              Param #   \n",
            "=================================================================\n",
            " conv2d_2 (Conv2D)           (None, 32, 32, 64)        1792      \n",
            "                                                                 \n",
            " conv2d_3 (Conv2D)           (None, 32, 32, 64)        36928     \n",
            "                                                                 \n",
            " max_pooling2d_2 (MaxPoolin  (None, 16, 16, 64)        0         \n",
            " g2D)                                                            \n",
            "                                                                 \n",
            " conv2d_4 (Conv2D)           (None, 16, 16, 128)       73856     \n",
            "                                                                 \n",
            " conv2d_5 (Conv2D)           (None, 16, 16, 128)       147584    \n",
            "                                                                 \n",
            " max_pooling2d_3 (MaxPoolin  (None, 8, 8, 128)         0         \n",
            " g2D)                                                            \n",
            "                                                                 \n",
            " conv2d_6 (Conv2D)           (None, 8, 8, 256)         295168    \n",
            "                                                                 \n",
            " conv2d_7 (Conv2D)           (None, 8, 8, 256)         590080    \n",
            "                                                                 \n",
            " conv2d_8 (Conv2D)           (None, 8, 8, 256)         590080    \n",
            "                                                                 \n",
            " max_pooling2d_4 (MaxPoolin  (None, 4, 4, 256)         0         \n",
            " g2D)                                                            \n",
            "                                                                 \n",
            " conv2d_9 (Conv2D)           (None, 4, 4, 512)         1180160   \n",
            "                                                                 \n",
            " conv2d_10 (Conv2D)          (None, 4, 4, 512)         2359808   \n",
            "                                                                 \n",
            " conv2d_11 (Conv2D)          (None, 4, 4, 512)         2359808   \n",
            "                                                                 \n",
            " max_pooling2d_5 (MaxPoolin  (None, 2, 2, 512)         0         \n",
            " g2D)                                                            \n",
            "                                                                 \n",
            " conv2d_12 (Conv2D)          (None, 2, 2, 512)         2359808   \n",
            "                                                                 \n",
            " conv2d_13 (Conv2D)          (None, 2, 2, 512)         2359808   \n",
            "                                                                 \n",
            " conv2d_14 (Conv2D)          (None, 2, 2, 512)         2359808   \n",
            "                                                                 \n",
            " max_pooling2d_6 (MaxPoolin  (None, 1, 1, 512)         0         \n",
            " g2D)                                                            \n",
            "                                                                 \n",
            " flatten_2 (Flatten)         (None, 512)               0         \n",
            "                                                                 \n",
            " dense_6 (Dense)             (None, 4096)              2101248   \n",
            "                                                                 \n",
            " dense_7 (Dense)             (None, 10)                40970     \n",
            "                                                                 \n",
            "=================================================================\n",
            "Total params: 16856906 (64.30 MB)\n",
            "Trainable params: 16856906 (64.30 MB)\n",
            "Non-trainable params: 0 (0.00 Byte)\n",
            "_________________________________________________________________\n"
          ]
        }
      ],
      "source": [
        "model.summary()"
      ]
    },
    {
      "cell_type": "code",
      "execution_count": 29,
      "metadata": {
        "id": "VZQ_56et5WCD"
      },
      "outputs": [],
      "source": [
        "model.compile(\n",
        "    optimizer='sgd',\n",
        "    loss='categorical_crossentropy',\n",
        "    metrics=['accuracy']\n",
        ")"
      ]
    },
    {
      "cell_type": "markdown",
      "metadata": {
        "id": "Nt_SoROk7CKg"
      },
      "source": [
        "[CodeCarbon](https://codecarbon.io/) Make sure you report whatever number from this package along with what CPU/GPU you are using."
      ]
    },
    {
      "cell_type": "code",
      "execution_count": 30,
      "metadata": {
        "colab": {
          "base_uri": "https://localhost:8080/"
        },
        "id": "CB2pjuXz5gXd",
        "outputId": "bbec32ed-2736-440f-e5cb-478f64d1558d"
      },
      "outputs": [
        {
          "output_type": "stream",
          "name": "stdout",
          "text": [
            "Epoch 1/5\n",
            "4000/4000 [==============================] - 89s 21ms/step - loss: 2.3007 - accuracy: 0.1092 - val_loss: 2.2814 - val_accuracy: 0.1494\n",
            "Epoch 2/5\n",
            "4000/4000 [==============================] - 86s 21ms/step - loss: 2.0679 - accuracy: 0.2349 - val_loss: 1.9837 - val_accuracy: 0.2602\n",
            "Epoch 3/5\n",
            "4000/4000 [==============================] - 86s 21ms/step - loss: 1.8215 - accuracy: 0.3224 - val_loss: 1.6695 - val_accuracy: 0.3777\n",
            "Epoch 4/5\n",
            "4000/4000 [==============================] - 86s 21ms/step - loss: 1.5889 - accuracy: 0.4139 - val_loss: 1.4647 - val_accuracy: 0.4529\n",
            "Epoch 5/5\n",
            "4000/4000 [==============================] - 86s 21ms/step - loss: 1.3798 - accuracy: 0.4931 - val_loss: 1.2812 - val_accuracy: 0.5360\n",
            "CPU times: user 7min 31s, sys: 10.5 s, total: 7min 42s\n",
            "Wall time: 7min 14s\n"
          ]
        },
        {
          "output_type": "execute_result",
          "data": {
            "text/plain": [
              "<keras.src.callbacks.History at 0x7e3209e0bd90>"
            ]
          },
          "metadata": {},
          "execution_count": 30
        }
      ],
      "source": [
        "%%time\n",
        "\n",
        "model.fit(\n",
        "    x=x_train,\n",
        "    y=y_train_bin,\n",
        "    batch_size=10,\n",
        "    validation_split=0.2,\n",
        "    epochs=5\n",
        ")"
      ]
    },
    {
      "cell_type": "code",
      "execution_count": 31,
      "metadata": {
        "colab": {
          "base_uri": "https://localhost:8080/"
        },
        "id": "FMLZO57_5hAK",
        "outputId": "499da562-fab2-4d75-d80d-9a880d7c490d"
      },
      "outputs": [
        {
          "output_type": "stream",
          "name": "stdout",
          "text": [
            "313/313 [==============================] - 4s 9ms/step - loss: 1.2863 - accuracy: 0.5334\n"
          ]
        },
        {
          "output_type": "execute_result",
          "data": {
            "text/plain": [
              "[1.2863340377807617, 0.5333999991416931]"
            ]
          },
          "metadata": {},
          "execution_count": 31
        }
      ],
      "source": [
        "model.evaluate(x_test, y_test_bin)"
      ]
    },
    {
      "cell_type": "markdown",
      "source": [
        "### Track CO2 Emission (Optional)"
      ],
      "metadata": {
        "id": "P6UVgMSWfboX"
      }
    },
    {
      "cell_type": "markdown",
      "source": [
        "For more details, refer [here](https://codecarbon.io/)."
      ],
      "metadata": {
        "id": "WGfvG_qXg3Ut"
      }
    },
    {
      "cell_type": "code",
      "source": [
        "! pip install codecarbon"
      ],
      "metadata": {
        "colab": {
          "base_uri": "https://localhost:8080/"
        },
        "id": "WOA2sbIgSL13",
        "outputId": "7ee7f45d-3901-4a04-8392-12cbf9526717"
      },
      "execution_count": 33,
      "outputs": [
        {
          "output_type": "stream",
          "name": "stdout",
          "text": [
            "Collecting codecarbon\n",
            "  Downloading codecarbon-2.5.0-py3-none-any.whl (496 kB)\n",
            "\u001b[2K     \u001b[90m━━━━━━━━━━━━━━━━━━━━━━━━━━━━━━━━━━━━━━━━\u001b[0m \u001b[32m496.1/496.1 kB\u001b[0m \u001b[31m8.0 MB/s\u001b[0m eta \u001b[36m0:00:00\u001b[0m\n",
            "\u001b[?25hCollecting arrow (from codecarbon)\n",
            "  Downloading arrow-1.3.0-py3-none-any.whl (66 kB)\n",
            "\u001b[2K     \u001b[90m━━━━━━━━━━━━━━━━━━━━━━━━━━━━━━━━━━━━━━━━\u001b[0m \u001b[32m66.4/66.4 kB\u001b[0m \u001b[31m10.8 MB/s\u001b[0m eta \u001b[36m0:00:00\u001b[0m\n",
            "\u001b[?25hRequirement already satisfied: click in /usr/local/lib/python3.10/dist-packages (from codecarbon) (8.1.7)\n",
            "Requirement already satisfied: pandas in /usr/local/lib/python3.10/dist-packages (from codecarbon) (2.0.3)\n",
            "Requirement already satisfied: prometheus-client in /usr/local/lib/python3.10/dist-packages (from codecarbon) (0.20.0)\n",
            "Requirement already satisfied: psutil in /usr/local/lib/python3.10/dist-packages (from codecarbon) (5.9.5)\n",
            "Requirement already satisfied: py-cpuinfo in /usr/local/lib/python3.10/dist-packages (from codecarbon) (9.0.0)\n",
            "Collecting pynvml (from codecarbon)\n",
            "  Downloading pynvml-11.5.0-py3-none-any.whl (53 kB)\n",
            "\u001b[2K     \u001b[90m━━━━━━━━━━━━━━━━━━━━━━━━━━━━━━━━━━━━━━━━\u001b[0m \u001b[32m53.1/53.1 kB\u001b[0m \u001b[31m8.2 MB/s\u001b[0m eta \u001b[36m0:00:00\u001b[0m\n",
            "\u001b[?25hCollecting rapidfuzz (from codecarbon)\n",
            "  Downloading rapidfuzz-3.9.4-cp310-cp310-manylinux_2_17_x86_64.manylinux2014_x86_64.whl (3.4 MB)\n",
            "\u001b[2K     \u001b[90m━━━━━━━━━━━━━━━━━━━━━━━━━━━━━━━━━━━━━━━━\u001b[0m \u001b[32m3.4/3.4 MB\u001b[0m \u001b[31m65.1 MB/s\u001b[0m eta \u001b[36m0:00:00\u001b[0m\n",
            "\u001b[?25hRequirement already satisfied: requests in /usr/local/lib/python3.10/dist-packages (from codecarbon) (2.31.0)\n",
            "Requirement already satisfied: python-dateutil>=2.7.0 in /usr/local/lib/python3.10/dist-packages (from arrow->codecarbon) (2.8.2)\n",
            "Collecting types-python-dateutil>=2.8.10 (from arrow->codecarbon)\n",
            "  Downloading types_python_dateutil-2.9.0.20240316-py3-none-any.whl (9.7 kB)\n",
            "Requirement already satisfied: pytz>=2020.1 in /usr/local/lib/python3.10/dist-packages (from pandas->codecarbon) (2023.4)\n",
            "Requirement already satisfied: tzdata>=2022.1 in /usr/local/lib/python3.10/dist-packages (from pandas->codecarbon) (2024.1)\n",
            "Requirement already satisfied: numpy>=1.21.0 in /usr/local/lib/python3.10/dist-packages (from pandas->codecarbon) (1.25.2)\n",
            "Requirement already satisfied: charset-normalizer<4,>=2 in /usr/local/lib/python3.10/dist-packages (from requests->codecarbon) (3.3.2)\n",
            "Requirement already satisfied: idna<4,>=2.5 in /usr/local/lib/python3.10/dist-packages (from requests->codecarbon) (3.7)\n",
            "Requirement already satisfied: urllib3<3,>=1.21.1 in /usr/local/lib/python3.10/dist-packages (from requests->codecarbon) (2.0.7)\n",
            "Requirement already satisfied: certifi>=2017.4.17 in /usr/local/lib/python3.10/dist-packages (from requests->codecarbon) (2024.6.2)\n",
            "Requirement already satisfied: six>=1.5 in /usr/local/lib/python3.10/dist-packages (from python-dateutil>=2.7.0->arrow->codecarbon) (1.16.0)\n",
            "Installing collected packages: types-python-dateutil, rapidfuzz, pynvml, arrow, codecarbon\n",
            "Successfully installed arrow-1.3.0 codecarbon-2.5.0 pynvml-11.5.0 rapidfuzz-3.9.4 types-python-dateutil-2.9.0.20240316\n"
          ]
        }
      ]
    },
    {
      "cell_type": "code",
      "execution_count": 34,
      "metadata": {
        "id": "XhSt9GMD88ae"
      },
      "outputs": [],
      "source": [
        "from codecarbon import EmissionsTracker"
      ]
    },
    {
      "cell_type": "code",
      "execution_count": 35,
      "metadata": {
        "colab": {
          "base_uri": "https://localhost:8080/"
        },
        "id": "c3TIJWXx7X3s",
        "outputId": "fcfddf9a-410c-4628-bb0f-2de0bcb1f5c8"
      },
      "outputs": [
        {
          "output_type": "stream",
          "name": "stderr",
          "text": [
            "[codecarbon INFO @ 20:56:51] [setup] RAM Tracking...\n",
            "[codecarbon INFO @ 20:56:51] [setup] GPU Tracking...\n",
            "[codecarbon INFO @ 20:56:52] Tracking Nvidia GPU via pynvml\n",
            "[codecarbon INFO @ 20:56:52] [setup] CPU Tracking...\n",
            "[codecarbon WARNING @ 20:56:52] No CPU tracking mode found. Falling back on CPU constant mode.\n",
            "[codecarbon WARNING @ 20:56:53] We saw that you have a Intel(R) Xeon(R) CPU @ 2.30GHz but we don't know it. Please contact us.\n",
            "[codecarbon INFO @ 20:56:53] CPU Model on constant consumption mode: Intel(R) Xeon(R) CPU @ 2.30GHz\n",
            "[codecarbon INFO @ 20:56:53] >>> Tracker's metadata:\n",
            "[codecarbon INFO @ 20:56:53]   Platform system: Linux-6.1.85+-x86_64-with-glibc2.35\n",
            "[codecarbon INFO @ 20:56:53]   Python version: 3.10.12\n",
            "[codecarbon INFO @ 20:56:53]   CodeCarbon version: 2.5.0\n",
            "[codecarbon INFO @ 20:56:53]   Available RAM : 50.994 GB\n",
            "[codecarbon INFO @ 20:56:53]   CPU count: 8\n",
            "[codecarbon INFO @ 20:56:53]   CPU model: Intel(R) Xeon(R) CPU @ 2.30GHz\n",
            "[codecarbon INFO @ 20:56:53]   GPU count: 1\n",
            "[codecarbon INFO @ 20:56:53]   GPU model: 1 x Tesla T4\n",
            "[codecarbon INFO @ 20:56:53] Saving emissions data to file /content/emissions.csv\n"
          ]
        },
        {
          "output_type": "stream",
          "name": "stdout",
          "text": [
            " 676/4000 [====>.........................] - ETA: 1:05 - loss: 1.2493 - accuracy: 0.5451"
          ]
        },
        {
          "output_type": "stream",
          "name": "stderr",
          "text": [
            "[codecarbon INFO @ 20:57:08] Energy consumed for RAM : 0.000080 kWh. RAM Power : 19.122615337371826 W\n",
            "[codecarbon INFO @ 20:57:08] Energy consumed for all GPUs : 0.000270 kWh. Total GPU Power : 64.78121513135468 W\n",
            "[codecarbon INFO @ 20:57:08] Energy consumed for all CPUs : 0.000177 kWh. Total CPU Power : 42.5 W\n",
            "[codecarbon INFO @ 20:57:08] 0.000527 kWh of electricity used since the beginning.\n"
          ]
        },
        {
          "output_type": "stream",
          "name": "stdout",
          "text": [
            "1447/4000 [=========>....................] - ETA: 49s - loss: 1.2345 - accuracy: 0.5525"
          ]
        },
        {
          "output_type": "stream",
          "name": "stderr",
          "text": [
            "[codecarbon INFO @ 20:57:23] Energy consumed for RAM : 0.000159 kWh. RAM Power : 19.122615337371826 W\n"
          ]
        },
        {
          "output_type": "stream",
          "name": "stdout",
          "text": [
            "\b\b\b\b\b\b\b\b\b\b\b\b\b\b\b\b\b\b\b\b\b\b\b\b\b\b\b\b\b\b\b\b\b\b\b\b\b\b\b\b\b\b\b\b\b\b\b\b\b\b\b\b\b\b\b\b\b\b\b\b\b\b\b\b\b\b\b\b\b\b\b\b\b\b\b\b\b\b\b\b\b\b\b\b\b\b\b\r1450/4000 [=========>....................] - ETA: 49s - loss: 1.2346 - accuracy: 0.5523"
          ]
        },
        {
          "output_type": "stream",
          "name": "stderr",
          "text": [
            "[codecarbon INFO @ 20:57:23] Energy consumed for all GPUs : 0.000560 kWh. Total GPU Power : 69.61820294899303 W\n",
            "[codecarbon INFO @ 20:57:23] Energy consumed for all CPUs : 0.000354 kWh. Total CPU Power : 42.5 W\n",
            "[codecarbon INFO @ 20:57:23] 0.001073 kWh of electricity used since the beginning.\n"
          ]
        },
        {
          "output_type": "stream",
          "name": "stdout",
          "text": [
            "2215/4000 [===============>..............] - ETA: 34s - loss: 1.2191 - accuracy: 0.5577"
          ]
        },
        {
          "output_type": "stream",
          "name": "stderr",
          "text": [
            "[codecarbon INFO @ 20:57:38] Energy consumed for RAM : 0.000239 kWh. RAM Power : 19.122615337371826 W\n",
            "[codecarbon INFO @ 20:57:38] Energy consumed for all GPUs : 0.000849 kWh. Total GPU Power : 69.46352358368922 W\n",
            "[codecarbon INFO @ 20:57:38] Energy consumed for all CPUs : 0.000531 kWh. Total CPU Power : 42.5 W\n",
            "[codecarbon INFO @ 20:57:38] 0.001619 kWh of electricity used since the beginning.\n"
          ]
        },
        {
          "output_type": "stream",
          "name": "stdout",
          "text": [
            "2980/4000 [=====================>........] - ETA: 19s - loss: 1.2062 - accuracy: 0.5632"
          ]
        },
        {
          "output_type": "stream",
          "name": "stderr",
          "text": [
            "[codecarbon INFO @ 20:57:53] Energy consumed for RAM : 0.000319 kWh. RAM Power : 19.122615337371826 W\n",
            "[codecarbon INFO @ 20:57:53] Energy consumed for all GPUs : 0.001140 kWh. Total GPU Power : 69.90173041861 W\n",
            "[codecarbon INFO @ 20:57:53] Energy consumed for all CPUs : 0.000708 kWh. Total CPU Power : 42.5 W\n",
            "[codecarbon INFO @ 20:57:53] 0.002167 kWh of electricity used since the beginning.\n"
          ]
        },
        {
          "output_type": "stream",
          "name": "stdout",
          "text": [
            "3742/4000 [===========================>..] - ETA: 5s - loss: 1.1930 - accuracy: 0.5686"
          ]
        },
        {
          "output_type": "stream",
          "name": "stderr",
          "text": [
            "[codecarbon INFO @ 20:58:08] Energy consumed for RAM : 0.000398 kWh. RAM Power : 19.122615337371826 W\n",
            "[codecarbon INFO @ 20:58:08] Energy consumed for all GPUs : 0.001429 kWh. Total GPU Power : 69.39345637635107 W\n",
            "[codecarbon INFO @ 20:58:08] Energy consumed for all CPUs : 0.000885 kWh. Total CPU Power : 42.5 W\n",
            "[codecarbon INFO @ 20:58:08] 0.002713 kWh of electricity used since the beginning.\n"
          ]
        },
        {
          "output_type": "stream",
          "name": "stdout",
          "text": [
            "4000/4000 [==============================] - 84s 21ms/step - loss: 1.1881 - accuracy: 0.5706 - val_loss: 1.0661 - val_accuracy: 0.6205\n"
          ]
        },
        {
          "output_type": "stream",
          "name": "stderr",
          "text": [
            "[codecarbon INFO @ 20:58:18] Energy consumed for RAM : 0.000453 kWh. RAM Power : 19.122615337371826 W\n",
            "[codecarbon INFO @ 20:58:18] Energy consumed for all GPUs : 0.001627 kWh. Total GPU Power : 68.86043186926014 W\n",
            "[codecarbon INFO @ 20:58:18] Energy consumed for all CPUs : 0.001008 kWh. Total CPU Power : 42.5 W\n",
            "[codecarbon INFO @ 20:58:18] 0.003088 kWh of electricity used since the beginning.\n"
          ]
        },
        {
          "output_type": "stream",
          "name": "stdout",
          "text": [
            "0.00 kg CO2eq\n"
          ]
        }
      ],
      "source": [
        "tracker = EmissionsTracker()\n",
        "tracker.start()\n",
        "\n",
        "model.fit(\n",
        "    x=x_train,\n",
        "    y=y_train_bin,\n",
        "    batch_size=10,\n",
        "    validation_split=0.2,\n",
        "    epochs=1\n",
        ")\n",
        "\n",
        "emissions: float = tracker.stop()\n",
        "print(f\"{emissions:.2f} kg CO2eq\")"
      ]
    },
    {
      "cell_type": "markdown",
      "metadata": {
        "id": "W25dNu5oHiWq"
      },
      "source": [
        "## Model 4: ResNet\n",
        "\n",
        "[Link](https://arxiv.org/pdf/1512.03385.pdf)\n",
        "\n",
        "![image](https://production-media.paperswithcode.com/methods/resnet-e1548261477164_2_mD02h5A.png)"
      ]
    },
    {
      "cell_type": "markdown",
      "source": [
        "ResNet, short for Residual Network, is a revolutionary neural network architecture that introduced the concept of residual learning to facilitate the training of much deeper networks. Developed by Kaiming He and colleagues, ResNet was designed to solve the problem of vanishing gradients by using shortcut connections that perform identity mapping, allowing layers to learn residual functions with reference to the layer inputs. This architecture enables the network to be significantly deeper—up to hundreds or even thousands of layers—while still being trainable and achieving outstanding performance. ResNet's effectiveness was demonstrated by its winning entry in the 2015 ImageNet Large Scale Visual Recognition Challenge (ILSVRC), setting new records in classification, detection, and localization tasks. The original paper, \"Deep Residual Learning for Image Recognition,\" details the development and achievements of ResNet and has had a profound impact on the design of deep neural networks for computer vision and beyond. The paper can be found on ArXiv: [https://arxiv.org/abs/1512.03385](https://arxiv.org/abs/1512.03385)."
      ],
      "metadata": {
        "id": "OfQWcptygvN6"
      }
    },
    {
      "cell_type": "code",
      "execution_count": 36,
      "metadata": {
        "id": "jQitJ0UhHgbu"
      },
      "outputs": [],
      "source": [
        "import tensorflow as tf\n",
        "from tensorflow.keras import layers, models, Input\n",
        "from tensorflow.keras.models import Model"
      ]
    },
    {
      "cell_type": "code",
      "execution_count": 37,
      "metadata": {
        "id": "KXIB5cHOHhvK"
      },
      "outputs": [],
      "source": [
        "def identity_block(input_tensor, kernel_size, filters):\n",
        "    filters1, filters2, filters3 = filters\n",
        "\n",
        "    x = layers.Conv2D(filters1, (1, 1))(input_tensor)\n",
        "    x = layers.BatchNormalization()(x)\n",
        "    x = layers.Activation('relu')(x)\n",
        "\n",
        "    x = layers.Conv2D(filters2, kernel_size, padding='same')(x)\n",
        "    x = layers.BatchNormalization()(x)\n",
        "    x = layers.Activation('relu')(x)\n",
        "\n",
        "    x = layers.Conv2D(filters3, (1, 1))(x)\n",
        "    x = layers.BatchNormalization()(x)\n",
        "\n",
        "    x = layers.add([x, input_tensor])\n",
        "    x = layers.Activation('relu')(x)\n",
        "    return x\n",
        "\n",
        "def conv_block(input_tensor, kernel_size, filters, strides=(2, 2)):\n",
        "    filters1, filters2, filters3 = filters\n",
        "\n",
        "    x = layers.Conv2D(filters1, (1, 1), strides=strides)(input_tensor)\n",
        "    x = layers.BatchNormalization()(x)\n",
        "    x = layers.Activation('relu')(x)\n",
        "\n",
        "    x = layers.Conv2D(filters2, kernel_size, padding='same')(x)\n",
        "    x = layers.BatchNormalization()(x)\n",
        "    x = layers.Activation('relu')(x)\n",
        "\n",
        "    x = layers.Conv2D(filters3, (1, 1))(x)\n",
        "    x = layers.BatchNormalization()(x)\n",
        "\n",
        "    shortcut = layers.Conv2D(filters3, (1, 1), strides=strides)(input_tensor)\n",
        "    shortcut = layers.BatchNormalization()(shortcut)\n",
        "\n",
        "    x = layers.add([x, shortcut])\n",
        "    x = layers.Activation('relu')(x)\n",
        "    return x\n",
        "\n",
        "def build_resnet50(input_shape=(224, 224, 3), num_classes=1000):\n",
        "    input_tensor = Input(shape=input_shape)\n",
        "\n",
        "    # Initial convolution layer\n",
        "    x = layers.ZeroPadding2D(padding=(3, 3))(input_tensor)\n",
        "    x = layers.Conv2D(64, (7, 7), strides=(2, 2))(x)\n",
        "    x = layers.BatchNormalization()(x)\n",
        "    x = layers.Activation('relu')(x)\n",
        "    x = layers.ZeroPadding2D(padding=(1, 1))(x)\n",
        "    x = layers.MaxPooling2D((3, 3), strides=(2, 2))(x)\n",
        "\n",
        "    # Residual blocks\n",
        "\n",
        "    x = conv_block(x, 3, [64, 64, 256], strides=(1, 1))\n",
        "    x = identity_block(x, 3, [64, 64, 256])\n",
        "\n",
        "    x = conv_block(x, 3, [64, 64, 256], strides=(1, 1))\n",
        "    x = identity_block(x, 3, [64, 64, 256])\n",
        "    x = identity_block(x, 3, [64, 64, 256])\n",
        "\n",
        "    x = conv_block(x, 3, [128, 128, 512])\n",
        "    x = identity_block(x, 3, [128, 128, 512])\n",
        "    x = identity_block(x, 3, [128, 128, 512])\n",
        "    x = identity_block(x, 3, [128, 128, 512])\n",
        "\n",
        "    x = conv_block(x, 3, [256, 256, 1024])\n",
        "    x = identity_block(x, 3, [256, 256, 1024])\n",
        "    x = identity_block(x, 3, [256, 256, 1024])\n",
        "    x = identity_block(x, 3, [256, 256, 1024])\n",
        "    x = identity_block(x, 3, [256, 256, 1024])\n",
        "\n",
        "    x = conv_block(x, 3, [512, 512, 2048])\n",
        "    x = identity_block(x, 3, [512, 512, 2048])\n",
        "    x = identity_block(x, 3, [512, 512, 2048])\n",
        "\n",
        "    # Final part\n",
        "    x = layers.GlobalAveragePooling2D()(x)\n",
        "    x = layers.Dense(num_classes, activation='softmax')(x)\n",
        "\n",
        "    # Create model\n",
        "    model = Model(input_tensor, x)\n",
        "\n",
        "    return model"
      ]
    },
    {
      "cell_type": "code",
      "execution_count": 38,
      "metadata": {
        "colab": {
          "base_uri": "https://localhost:8080/"
        },
        "id": "UPItojqlOoUH",
        "outputId": "ba05d11c-a4d2-40de-e6e1-3cf3029bb8de"
      },
      "outputs": [
        {
          "output_type": "stream",
          "name": "stdout",
          "text": [
            "Model: \"sequential_2\"\n",
            "_________________________________________________________________\n",
            " Layer (type)                Output Shape              Param #   \n",
            "=================================================================\n",
            " conv2d_2 (Conv2D)           (None, 32, 32, 64)        1792      \n",
            "                                                                 \n",
            " conv2d_3 (Conv2D)           (None, 32, 32, 64)        36928     \n",
            "                                                                 \n",
            " max_pooling2d_2 (MaxPoolin  (None, 16, 16, 64)        0         \n",
            " g2D)                                                            \n",
            "                                                                 \n",
            " conv2d_4 (Conv2D)           (None, 16, 16, 128)       73856     \n",
            "                                                                 \n",
            " conv2d_5 (Conv2D)           (None, 16, 16, 128)       147584    \n",
            "                                                                 \n",
            " max_pooling2d_3 (MaxPoolin  (None, 8, 8, 128)         0         \n",
            " g2D)                                                            \n",
            "                                                                 \n",
            " conv2d_6 (Conv2D)           (None, 8, 8, 256)         295168    \n",
            "                                                                 \n",
            " conv2d_7 (Conv2D)           (None, 8, 8, 256)         590080    \n",
            "                                                                 \n",
            " conv2d_8 (Conv2D)           (None, 8, 8, 256)         590080    \n",
            "                                                                 \n",
            " max_pooling2d_4 (MaxPoolin  (None, 4, 4, 256)         0         \n",
            " g2D)                                                            \n",
            "                                                                 \n",
            " conv2d_9 (Conv2D)           (None, 4, 4, 512)         1180160   \n",
            "                                                                 \n",
            " conv2d_10 (Conv2D)          (None, 4, 4, 512)         2359808   \n",
            "                                                                 \n",
            " conv2d_11 (Conv2D)          (None, 4, 4, 512)         2359808   \n",
            "                                                                 \n",
            " max_pooling2d_5 (MaxPoolin  (None, 2, 2, 512)         0         \n",
            " g2D)                                                            \n",
            "                                                                 \n",
            " conv2d_12 (Conv2D)          (None, 2, 2, 512)         2359808   \n",
            "                                                                 \n",
            " conv2d_13 (Conv2D)          (None, 2, 2, 512)         2359808   \n",
            "                                                                 \n",
            " conv2d_14 (Conv2D)          (None, 2, 2, 512)         2359808   \n",
            "                                                                 \n",
            " max_pooling2d_6 (MaxPoolin  (None, 1, 1, 512)         0         \n",
            " g2D)                                                            \n",
            "                                                                 \n",
            " flatten_2 (Flatten)         (None, 512)               0         \n",
            "                                                                 \n",
            " dense_6 (Dense)             (None, 4096)              2101248   \n",
            "                                                                 \n",
            " dense_7 (Dense)             (None, 10)                40970     \n",
            "                                                                 \n",
            "=================================================================\n",
            "Total params: 16856906 (64.30 MB)\n",
            "Trainable params: 16856906 (64.30 MB)\n",
            "Non-trainable params: 0 (0.00 Byte)\n",
            "_________________________________________________________________\n"
          ]
        }
      ],
      "source": [
        "model.summary()"
      ]
    },
    {
      "cell_type": "code",
      "execution_count": 39,
      "metadata": {
        "id": "ulE6okWhLWhQ"
      },
      "outputs": [],
      "source": [
        "model = build_resnet50(input_shape=(32, 32, 3), num_classes=10)"
      ]
    },
    {
      "cell_type": "code",
      "execution_count": 40,
      "metadata": {
        "id": "I4q5DeOmLf-W"
      },
      "outputs": [],
      "source": [
        "model.compile(\n",
        "    optimizer='sgd',\n",
        "    loss='categorical_crossentropy',\n",
        "    metrics=['accuracy']\n",
        ")"
      ]
    },
    {
      "cell_type": "code",
      "execution_count": 41,
      "metadata": {
        "id": "MIooCXJMLtHa",
        "colab": {
          "base_uri": "https://localhost:8080/"
        },
        "outputId": "827e15f5-3f75-4494-cbbc-323ccca6894c"
      },
      "outputs": [
        {
          "output_type": "stream",
          "name": "stdout",
          "text": [
            "Epoch 1/5\n",
            "4000/4000 [==============================] - 168s 37ms/step - loss: 4.0321 - accuracy: 0.1888 - val_loss: 8.5228 - val_accuracy: 0.2076\n",
            "Epoch 2/5\n",
            "4000/4000 [==============================] - 149s 37ms/step - loss: 2.7356 - accuracy: 0.2896 - val_loss: 4.7935 - val_accuracy: 0.3346\n",
            "Epoch 3/5\n",
            "4000/4000 [==============================] - 147s 37ms/step - loss: 2.3127 - accuracy: 0.3368 - val_loss: 4.6774 - val_accuracy: 0.3800\n",
            "Epoch 4/5\n",
            "4000/4000 [==============================] - 148s 37ms/step - loss: 2.0564 - accuracy: 0.3770 - val_loss: 45.2650 - val_accuracy: 0.3387\n",
            "Epoch 5/5\n",
            "4000/4000 [==============================] - 145s 36ms/step - loss: 1.9132 - accuracy: 0.3943 - val_loss: 3.6325 - val_accuracy: 0.4426\n",
            "CPU times: user 12min 54s, sys: 13 s, total: 13min 7s\n",
            "Wall time: 12min 37s\n"
          ]
        },
        {
          "output_type": "execute_result",
          "data": {
            "text/plain": [
              "<keras.src.callbacks.History at 0x7e3190599de0>"
            ]
          },
          "metadata": {},
          "execution_count": 41
        }
      ],
      "source": [
        "%%time\n",
        "\n",
        "model.fit(\n",
        "    x=x_train,\n",
        "    y=y_train_bin,\n",
        "    batch_size=10,\n",
        "    validation_split=0.2,\n",
        "    epochs=5\n",
        ")"
      ]
    },
    {
      "cell_type": "code",
      "execution_count": 42,
      "metadata": {
        "id": "HmCvXz_fMyUu"
      },
      "outputs": [],
      "source": [
        "model = build_resnet50(input_shape=(32, 32, 3), num_classes=10)"
      ]
    },
    {
      "cell_type": "code",
      "execution_count": 43,
      "metadata": {
        "id": "AjmALGP_MyUv"
      },
      "outputs": [],
      "source": [
        "model.compile(\n",
        "    optimizer='sgd',\n",
        "    loss='categorical_crossentropy',\n",
        "    metrics=['accuracy']\n",
        ")"
      ]
    },
    {
      "cell_type": "code",
      "execution_count": 44,
      "metadata": {
        "colab": {
          "base_uri": "https://localhost:8080/",
          "height": 35
        },
        "id": "dQ8vHw9WLwLw",
        "outputId": "d6b649c1-79ad-403b-c5d8-e639d566ff0d"
      },
      "outputs": [
        {
          "output_type": "execute_result",
          "data": {
            "text/plain": [
              "'/device:GPU:0'"
            ],
            "application/vnd.google.colaboratory.intrinsic+json": {
              "type": "string"
            }
          },
          "metadata": {},
          "execution_count": 44
        }
      ],
      "source": [
        "device_name = tf.test.gpu_device_name()\n",
        "device_name"
      ]
    },
    {
      "cell_type": "code",
      "execution_count": 45,
      "metadata": {
        "colab": {
          "base_uri": "https://localhost:8080/"
        },
        "id": "6OLTzPc3ME2N",
        "outputId": "bad96824-151d-4e2f-b353-7a2a57b0870a"
      },
      "outputs": [
        {
          "output_type": "stream",
          "name": "stdout",
          "text": [
            "Epoch 1/5\n",
            "4000/4000 [==============================] - 162s 37ms/step - loss: 3.7648 - accuracy: 0.2218 - val_loss: 6.2779 - val_accuracy: 0.2808\n",
            "Epoch 2/5\n",
            "4000/4000 [==============================] - 160s 40ms/step - loss: 2.6238 - accuracy: 0.3008 - val_loss: 5.2102 - val_accuracy: 0.3468\n",
            "Epoch 3/5\n",
            "4000/4000 [==============================] - 160s 40ms/step - loss: 2.2376 - accuracy: 0.3496 - val_loss: 11.4501 - val_accuracy: 0.4143\n",
            "Epoch 4/5\n",
            "4000/4000 [==============================] - 158s 40ms/step - loss: 2.0038 - accuracy: 0.3871 - val_loss: 7.0440 - val_accuracy: 0.4233\n",
            "Epoch 5/5\n",
            "4000/4000 [==============================] - 158s 40ms/step - loss: 1.8474 - accuracy: 0.4173 - val_loss: 5.5912 - val_accuracy: 0.4437\n",
            "CPU times: user 13min 39s, sys: 13.8 s, total: 13min 53s\n",
            "Wall time: 13min 19s\n"
          ]
        }
      ],
      "source": [
        "%%time\n",
        "\n",
        "with tf.device(device_name):\n",
        "    model.fit(\n",
        "        x=x_train,\n",
        "        y=y_train_bin,\n",
        "        batch_size=10,\n",
        "        validation_split=0.2,\n",
        "        epochs=5\n",
        "    )"
      ]
    },
    {
      "cell_type": "markdown",
      "metadata": {
        "id": "9LtbgFqxF252"
      },
      "source": []
    },
    {
      "cell_type": "markdown",
      "metadata": {
        "id": "FL5_VzIUM3Da"
      },
      "source": [
        "```py\n",
        "model = None\n",
        "model.compile\n",
        "model.fit(epochs=1)\n",
        "model.save(\"tmp.h5\")\n",
        "\n",
        "while error > 0.1:\n",
        "    model = tf.keras.models.load_model(\"tmp.h5\")\n",
        "    model.fit(epochs=1)\n",
        "    model.save(\"tmp.h5\")\n",
        "    error = None\n",
        "```"
      ]
    },
    {
      "cell_type": "code",
      "execution_count": 46,
      "metadata": {
        "colab": {
          "base_uri": "https://localhost:8080/"
        },
        "id": "1XIzW-2lMReh",
        "outputId": "5c88af1e-3d07-44d7-d045-eb635c7d1bc6"
      },
      "outputs": [
        {
          "output_type": "stream",
          "name": "stdout",
          "text": [
            "313/313 [==============================] - 6s 13ms/step - loss: 5.7956 - accuracy: 0.4391\n"
          ]
        },
        {
          "output_type": "execute_result",
          "data": {
            "text/plain": [
              "[5.795601844787598, 0.4390999972820282]"
            ]
          },
          "metadata": {},
          "execution_count": 46
        }
      ],
      "source": [
        "model.evaluate(x_test, y_test_bin)"
      ]
    },
    {
      "cell_type": "markdown",
      "metadata": {
        "id": "N4qRxrkPP5Zu"
      },
      "source": [
        "## Model 5: DenseNet\n",
        "\n",
        "In one sentence, DenseNet is ResNet skipping at *every* layer.\n",
        "\n",
        "![image](https://pytorch.org/assets/images/densenet1.png)"
      ]
    },
    {
      "cell_type": "markdown",
      "source": [
        "DenseNet, short for Densely Connected Convolutional Networks, is a deep neural network architecture that innovates on the way layers communicate with each other. Introduced by Gao Huang, Zhuang Liu, Laurens van der Maaten, and Kilian Q. Weinberger, DenseNet improves upon traditional convolutional networks by connecting each layer directly to every other layer in a feed-forward fashion. In a DenseNet, each layer receives the feature maps from all preceding layers as inputs and passes its own feature maps to all subsequent layers, leading to a highly dense connectivity pattern. This architecture significantly reduces the number of parameters, alleviates the vanishing gradient problem, encourages feature reuse, and substantially decreases the risk of overfitting. DenseNet has demonstrated remarkable performance on a variety of visual recognition tasks, setting new benchmarks for accuracy and efficiency. The original paper, \"Densely Connected Convolutional Networks,\" provides a comprehensive overview of the DenseNet architecture and its benefits. The paper can be accessed on ArXiv: [https://arxiv.org/abs/1608.06993](https://arxiv.org/abs/1608.06993)."
      ],
      "metadata": {
        "id": "5XKIKeumg8qC"
      }
    },
    {
      "cell_type": "code",
      "execution_count": 47,
      "metadata": {
        "id": "cqRWAHLsP26v"
      },
      "outputs": [],
      "source": [
        "import tensorflow as tf\n",
        "from tensorflow.keras import layers, models, Input"
      ]
    },
    {
      "cell_type": "code",
      "execution_count": 48,
      "metadata": {
        "id": "2XaTlkO_QUx-"
      },
      "outputs": [],
      "source": [
        "def dense_block(x, num_layers, growth_rate):\n",
        "    for _ in range(num_layers):\n",
        "        output = layers.BatchNormalization()(x)\n",
        "        output = layers.Activation('relu')(output)\n",
        "        output = layers.Conv2D(4 * growth_rate, (1, 1), padding='same', kernel_initializer='he_normal')(output)\n",
        "        output = layers.BatchNormalization()(output)\n",
        "        output = layers.Activation('relu')(output)\n",
        "        output = layers.Conv2D(growth_rate, (3, 3), padding='same', kernel_initializer='he_normal')(output)\n",
        "        x = layers.Concatenate()([x, output])\n",
        "    return x\n",
        "\n",
        "def transition_layer(x, compression_factor):\n",
        "    num_filters = int(x.shape[-1] * compression_factor)\n",
        "    x = layers.BatchNormalization()(x)\n",
        "    x = layers.Activation('relu')(x)\n",
        "    x = layers.Conv2D(num_filters, (1, 1), padding='same', kernel_initializer='he_normal')(x)\n",
        "    x = layers.AveragePooling2D((2, 2), strides=(2, 2))(x)\n",
        "    return x\n",
        "\n",
        "def build_densenet121(input_shape=(224, 224, 3), num_classes=1000, growth_rate=32, compression_factor=0.5):\n",
        "    input_tensor = Input(shape=input_shape)\n",
        "\n",
        "    # Initial convolution layer\n",
        "    x = layers.Conv2D(2 * growth_rate, (7, 7), strides=(2, 2), padding='same', kernel_initializer='he_normal')(input_tensor)\n",
        "    x = layers.BatchNormalization()(x)\n",
        "    x = layers.Activation('relu')(x)\n",
        "    x = layers.MaxPooling2D((3, 3), strides=(2, 2), padding='same')(x)\n",
        "\n",
        "    # Dense blocks and transition layers\n",
        "    x = dense_block(x, 6, growth_rate)\n",
        "    x = transition_layer(x, compression_factor)\n",
        "\n",
        "    #x = dense_block(x, 12, growth_rate)\n",
        "    #x = transition_layer(x, compression_factor)\n",
        "\n",
        "    # at this point, the data is so small that you can't do the dense block operation\n",
        "    # x = dense_block(x, 24, growth_rate)\n",
        "    # x = transition_layer(x, compression_factor)\n",
        "\n",
        "    # x = dense_block(x, 16, growth_rate)\n",
        "\n",
        "    # Global average pooling and output layer\n",
        "    x = layers.GlobalAveragePooling2D()(x)\n",
        "    x = layers.Dense(num_classes, activation='softmax')(x)\n",
        "\n",
        "    model = models.Model(input_tensor, x, name='densenet121')\n",
        "    return model\n"
      ]
    },
    {
      "cell_type": "markdown",
      "metadata": {
        "id": "XR2PW4KiQ_cD"
      },
      "source": [
        "[Conv+Dense+Transition, Dense+Transition]"
      ]
    },
    {
      "cell_type": "code",
      "execution_count": 49,
      "metadata": {
        "colab": {
          "base_uri": "https://localhost:8080/"
        },
        "id": "EXjRxm-rQY01",
        "outputId": "5f0aebfb-fb71-4df0-c597-53cb217a8fd0"
      },
      "outputs": [
        {
          "output_type": "stream",
          "name": "stdout",
          "text": [
            "Model: \"densenet121\"\n",
            "__________________________________________________________________________________________________\n",
            " Layer (type)                Output Shape                 Param #   Connected to                  \n",
            "==================================================================================================\n",
            " input_3 (InputLayer)        [(None, 32, 32, 3)]          0         []                            \n",
            "                                                                                                  \n",
            " conv2d_129 (Conv2D)         (None, 16, 16, 64)           9472      ['input_3[0][0]']             \n",
            "                                                                                                  \n",
            " batch_normalization_114 (B  (None, 16, 16, 64)           256       ['conv2d_129[0][0]']          \n",
            " atchNormalization)                                                                               \n",
            "                                                                                                  \n",
            " activation_104 (Activation  (None, 16, 16, 64)           0         ['batch_normalization_114[0][0\n",
            " )                                                                  ]']                           \n",
            "                                                                                                  \n",
            " max_pooling2d_9 (MaxPoolin  (None, 8, 8, 64)             0         ['activation_104[0][0]']      \n",
            " g2D)                                                                                             \n",
            "                                                                                                  \n",
            " batch_normalization_115 (B  (None, 8, 8, 64)             256       ['max_pooling2d_9[0][0]']     \n",
            " atchNormalization)                                                                               \n",
            "                                                                                                  \n",
            " activation_105 (Activation  (None, 8, 8, 64)             0         ['batch_normalization_115[0][0\n",
            " )                                                                  ]']                           \n",
            "                                                                                                  \n",
            " conv2d_130 (Conv2D)         (None, 8, 8, 128)            8320      ['activation_105[0][0]']      \n",
            "                                                                                                  \n",
            " batch_normalization_116 (B  (None, 8, 8, 128)            512       ['conv2d_130[0][0]']          \n",
            " atchNormalization)                                                                               \n",
            "                                                                                                  \n",
            " activation_106 (Activation  (None, 8, 8, 128)            0         ['batch_normalization_116[0][0\n",
            " )                                                                  ]']                           \n",
            "                                                                                                  \n",
            " conv2d_131 (Conv2D)         (None, 8, 8, 32)             36896     ['activation_106[0][0]']      \n",
            "                                                                                                  \n",
            " concatenate (Concatenate)   (None, 8, 8, 96)             0         ['max_pooling2d_9[0][0]',     \n",
            "                                                                     'conv2d_131[0][0]']          \n",
            "                                                                                                  \n",
            " batch_normalization_117 (B  (None, 8, 8, 96)             384       ['concatenate[0][0]']         \n",
            " atchNormalization)                                                                               \n",
            "                                                                                                  \n",
            " activation_107 (Activation  (None, 8, 8, 96)             0         ['batch_normalization_117[0][0\n",
            " )                                                                  ]']                           \n",
            "                                                                                                  \n",
            " conv2d_132 (Conv2D)         (None, 8, 8, 128)            12416     ['activation_107[0][0]']      \n",
            "                                                                                                  \n",
            " batch_normalization_118 (B  (None, 8, 8, 128)            512       ['conv2d_132[0][0]']          \n",
            " atchNormalization)                                                                               \n",
            "                                                                                                  \n",
            " activation_108 (Activation  (None, 8, 8, 128)            0         ['batch_normalization_118[0][0\n",
            " )                                                                  ]']                           \n",
            "                                                                                                  \n",
            " conv2d_133 (Conv2D)         (None, 8, 8, 32)             36896     ['activation_108[0][0]']      \n",
            "                                                                                                  \n",
            " concatenate_1 (Concatenate  (None, 8, 8, 128)            0         ['concatenate[0][0]',         \n",
            " )                                                                   'conv2d_133[0][0]']          \n",
            "                                                                                                  \n",
            " batch_normalization_119 (B  (None, 8, 8, 128)            512       ['concatenate_1[0][0]']       \n",
            " atchNormalization)                                                                               \n",
            "                                                                                                  \n",
            " activation_109 (Activation  (None, 8, 8, 128)            0         ['batch_normalization_119[0][0\n",
            " )                                                                  ]']                           \n",
            "                                                                                                  \n",
            " conv2d_134 (Conv2D)         (None, 8, 8, 128)            16512     ['activation_109[0][0]']      \n",
            "                                                                                                  \n",
            " batch_normalization_120 (B  (None, 8, 8, 128)            512       ['conv2d_134[0][0]']          \n",
            " atchNormalization)                                                                               \n",
            "                                                                                                  \n",
            " activation_110 (Activation  (None, 8, 8, 128)            0         ['batch_normalization_120[0][0\n",
            " )                                                                  ]']                           \n",
            "                                                                                                  \n",
            " conv2d_135 (Conv2D)         (None, 8, 8, 32)             36896     ['activation_110[0][0]']      \n",
            "                                                                                                  \n",
            " concatenate_2 (Concatenate  (None, 8, 8, 160)            0         ['concatenate_1[0][0]',       \n",
            " )                                                                   'conv2d_135[0][0]']          \n",
            "                                                                                                  \n",
            " batch_normalization_121 (B  (None, 8, 8, 160)            640       ['concatenate_2[0][0]']       \n",
            " atchNormalization)                                                                               \n",
            "                                                                                                  \n",
            " activation_111 (Activation  (None, 8, 8, 160)            0         ['batch_normalization_121[0][0\n",
            " )                                                                  ]']                           \n",
            "                                                                                                  \n",
            " conv2d_136 (Conv2D)         (None, 8, 8, 128)            20608     ['activation_111[0][0]']      \n",
            "                                                                                                  \n",
            " batch_normalization_122 (B  (None, 8, 8, 128)            512       ['conv2d_136[0][0]']          \n",
            " atchNormalization)                                                                               \n",
            "                                                                                                  \n",
            " activation_112 (Activation  (None, 8, 8, 128)            0         ['batch_normalization_122[0][0\n",
            " )                                                                  ]']                           \n",
            "                                                                                                  \n",
            " conv2d_137 (Conv2D)         (None, 8, 8, 32)             36896     ['activation_112[0][0]']      \n",
            "                                                                                                  \n",
            " concatenate_3 (Concatenate  (None, 8, 8, 192)            0         ['concatenate_2[0][0]',       \n",
            " )                                                                   'conv2d_137[0][0]']          \n",
            "                                                                                                  \n",
            " batch_normalization_123 (B  (None, 8, 8, 192)            768       ['concatenate_3[0][0]']       \n",
            " atchNormalization)                                                                               \n",
            "                                                                                                  \n",
            " activation_113 (Activation  (None, 8, 8, 192)            0         ['batch_normalization_123[0][0\n",
            " )                                                                  ]']                           \n",
            "                                                                                                  \n",
            " conv2d_138 (Conv2D)         (None, 8, 8, 128)            24704     ['activation_113[0][0]']      \n",
            "                                                                                                  \n",
            " batch_normalization_124 (B  (None, 8, 8, 128)            512       ['conv2d_138[0][0]']          \n",
            " atchNormalization)                                                                               \n",
            "                                                                                                  \n",
            " activation_114 (Activation  (None, 8, 8, 128)            0         ['batch_normalization_124[0][0\n",
            " )                                                                  ]']                           \n",
            "                                                                                                  \n",
            " conv2d_139 (Conv2D)         (None, 8, 8, 32)             36896     ['activation_114[0][0]']      \n",
            "                                                                                                  \n",
            " concatenate_4 (Concatenate  (None, 8, 8, 224)            0         ['concatenate_3[0][0]',       \n",
            " )                                                                   'conv2d_139[0][0]']          \n",
            "                                                                                                  \n",
            " batch_normalization_125 (B  (None, 8, 8, 224)            896       ['concatenate_4[0][0]']       \n",
            " atchNormalization)                                                                               \n",
            "                                                                                                  \n",
            " activation_115 (Activation  (None, 8, 8, 224)            0         ['batch_normalization_125[0][0\n",
            " )                                                                  ]']                           \n",
            "                                                                                                  \n",
            " conv2d_140 (Conv2D)         (None, 8, 8, 128)            28800     ['activation_115[0][0]']      \n",
            "                                                                                                  \n",
            " batch_normalization_126 (B  (None, 8, 8, 128)            512       ['conv2d_140[0][0]']          \n",
            " atchNormalization)                                                                               \n",
            "                                                                                                  \n",
            " activation_116 (Activation  (None, 8, 8, 128)            0         ['batch_normalization_126[0][0\n",
            " )                                                                  ]']                           \n",
            "                                                                                                  \n",
            " conv2d_141 (Conv2D)         (None, 8, 8, 32)             36896     ['activation_116[0][0]']      \n",
            "                                                                                                  \n",
            " concatenate_5 (Concatenate  (None, 8, 8, 256)            0         ['concatenate_4[0][0]',       \n",
            " )                                                                   'conv2d_141[0][0]']          \n",
            "                                                                                                  \n",
            " batch_normalization_127 (B  (None, 8, 8, 256)            1024      ['concatenate_5[0][0]']       \n",
            " atchNormalization)                                                                               \n",
            "                                                                                                  \n",
            " activation_117 (Activation  (None, 8, 8, 256)            0         ['batch_normalization_127[0][0\n",
            " )                                                                  ]']                           \n",
            "                                                                                                  \n",
            " conv2d_142 (Conv2D)         (None, 8, 8, 128)            32896     ['activation_117[0][0]']      \n",
            "                                                                                                  \n",
            " average_pooling2d (Average  (None, 4, 4, 128)            0         ['conv2d_142[0][0]']          \n",
            " Pooling2D)                                                                                       \n",
            "                                                                                                  \n",
            " global_average_pooling2d_2  (None, 128)                  0         ['average_pooling2d[0][0]']   \n",
            "  (GlobalAveragePooling2D)                                                                        \n",
            "                                                                                                  \n",
            " dense_10 (Dense)            (None, 10)                   1290      ['global_average_pooling2d_2[0\n",
            "                                                                    ][0]']                        \n",
            "                                                                                                  \n",
            "==================================================================================================\n",
            "Total params: 384202 (1.47 MB)\n",
            "Trainable params: 380298 (1.45 MB)\n",
            "Non-trainable params: 3904 (15.25 KB)\n",
            "__________________________________________________________________________________________________\n"
          ]
        }
      ],
      "source": [
        "# Build the DenseNet-121 model\n",
        "densenet121_model = build_densenet121(input_shape=(32, 32, 3), num_classes=10)\n",
        "densenet121_model.summary()"
      ]
    },
    {
      "cell_type": "code",
      "execution_count": 50,
      "metadata": {
        "id": "qILNnl0xQchX"
      },
      "outputs": [],
      "source": [
        "densenet121_model.compile(\n",
        "    optimizer='sgd',\n",
        "    loss='categorical_crossentropy',\n",
        "    metrics=['accuracy']\n",
        ")"
      ]
    },
    {
      "cell_type": "code",
      "execution_count": 51,
      "metadata": {
        "colab": {
          "base_uri": "https://localhost:8080/"
        },
        "id": "sHkIVJvXRe6Q",
        "outputId": "cadf2b9b-3546-466b-fa97-ed4ba8c9dc7e"
      },
      "outputs": [
        {
          "output_type": "stream",
          "name": "stdout",
          "text": [
            "Epoch 1/5\n",
            "4000/4000 [==============================] - 51s 12ms/step - loss: 1.5996 - accuracy: 0.4169 - val_loss: 1.4439 - val_accuracy: 0.4841\n",
            "Epoch 2/5\n",
            "4000/4000 [==============================] - 44s 11ms/step - loss: 1.3061 - accuracy: 0.5315 - val_loss: 1.1968 - val_accuracy: 0.5710\n",
            "Epoch 3/5\n",
            "4000/4000 [==============================] - 45s 11ms/step - loss: 1.1591 - accuracy: 0.5898 - val_loss: 1.5742 - val_accuracy: 0.4672\n",
            "Epoch 4/5\n",
            "4000/4000 [==============================] - 44s 11ms/step - loss: 1.0545 - accuracy: 0.6279 - val_loss: 1.0794 - val_accuracy: 0.6226\n",
            "Epoch 5/5\n",
            "4000/4000 [==============================] - 44s 11ms/step - loss: 0.9764 - accuracy: 0.6594 - val_loss: 1.3370 - val_accuracy: 0.5531\n",
            "CPU times: user 4min 7s, sys: 11 s, total: 4min 18s\n",
            "Wall time: 3min 50s\n"
          ]
        }
      ],
      "source": [
        "%%time\n",
        "\n",
        "with tf.device(device_name):\n",
        "    densenet121_model.fit(\n",
        "        x=x_train,\n",
        "        y=y_train_bin,\n",
        "        batch_size=10,\n",
        "        validation_split=0.2,\n",
        "        epochs=5\n",
        "    )"
      ]
    },
    {
      "cell_type": "code",
      "execution_count": 52,
      "metadata": {
        "colab": {
          "base_uri": "https://localhost:8080/"
        },
        "id": "mdSpOCGmRk2C",
        "outputId": "054a55ff-1b0d-42be-8dde-71d166cbb4fa"
      },
      "outputs": [
        {
          "output_type": "stream",
          "name": "stdout",
          "text": [
            "313/313 [==============================] - 2s 4ms/step - loss: 1.3262 - accuracy: 0.5529\n"
          ]
        },
        {
          "output_type": "execute_result",
          "data": {
            "text/plain": [
              "[1.3261672258377075, 0.5529000163078308]"
            ]
          },
          "metadata": {},
          "execution_count": 52
        }
      ],
      "source": [
        "densenet121_model.evaluate(x_test, y_test_bin)"
      ]
    },
    {
      "cell_type": "markdown",
      "source": [
        "## Model 6: Inception\n",
        "\n",
        "[paper](https://arxiv.org/pdf/1409.4842.pdf)\n",
        "\n",
        "![image](https://media5.datahacker.rs/2018/11/Featured-Image-017-CNN-Inception-Network-1.jpg)"
      ],
      "metadata": {
        "id": "G0R0O6JqAuH8"
      }
    },
    {
      "cell_type": "markdown",
      "source": [
        "Google presented [GoogLeNet](https://arxiv.org/pdf/1409.4842.pdf) in 2014, the same year that VGGNet was introduced.  GoogLeNet won the ImageNet competition achieving a top-5 error rate of 6.67%, almost betting the human error rate (5%).\n",
        "\n",
        "GoogLeNet introduced many ideas that helped the development of current state-of-the-art architectures. Instead of stacking more and more CNN layers, GoogLeNet introduced what was called inception modules:\n",
        "\n",
        "![](https://i.ibb.co/JKqptrj/Googlenet-inception.png)\n",
        "\n",
        "Those modules apply convolutions with 3 different sizes of kernels (1x1, 3x3 and 5x5) at the same level. The idea behind those modules is based on the premise that significant information can be presented in images at different scales. Therefore, by using a multi-scale approach, they are more likely to capture meaningful information. Moreover, they claimed that designing a wider architecture, instead of a deeper, helps the gradients to navigate throughout the entire network.\n",
        "\n",
        "![](https://cdn-images-1.medium.com/max/1600/1*uW81y16b-ptBDV8SIT1beQ.png)\n",
        "\n",
        "The architecture consisted of 9 inception modules stacked linearly, containing 22 deep CNN layers. However, in this network, the total number of parameters was reduced to 4 million! Authors also included two auxiliary classifiers in the middle part of the architecture to avoid the vanishing gradient problem.\n",
        "\n",
        "You can find a Keras implementation [here](https://gist.github.com/joelouismarino/a2ede9ab3928f999575423b9887abd14)."
      ],
      "metadata": {
        "id": "gB86pQ8Wdv64"
      }
    },
    {
      "cell_type": "code",
      "source": [
        "from keras.applications.inception_v3 import InceptionV3\n",
        "\n",
        "model = InceptionV3(include_top=True, weights='imagenet', classes=1000)"
      ],
      "metadata": {
        "colab": {
          "base_uri": "https://localhost:8080/"
        },
        "id": "DFblLWVnc6VX",
        "outputId": "0a893483-5312-41d9-988d-95ea9d639f68"
      },
      "execution_count": 53,
      "outputs": [
        {
          "output_type": "stream",
          "name": "stdout",
          "text": [
            "Downloading data from https://storage.googleapis.com/tensorflow/keras-applications/inception_v3/inception_v3_weights_tf_dim_ordering_tf_kernels.h5\n",
            "96112376/96112376 [==============================] - 0s 0us/step\n"
          ]
        }
      ]
    },
    {
      "cell_type": "code",
      "source": [
        "from keras.models import Model\n",
        "from keras.layers import Lambda, Input\n",
        "from keras.layers import Dense, GlobalAveragePooling2D"
      ],
      "metadata": {
        "id": "32PlOJTKdDj5"
      },
      "execution_count": 54,
      "outputs": []
    },
    {
      "cell_type": "code",
      "source": [
        "# Define model (pre-trained)\n",
        "model = InceptionV3(include_top=False, input_shape=(75, 75, 3), weights='imagenet')\n",
        "\n",
        "# Resize Input images to 75x75\n",
        "newInput = Input(batch_shape=(None, 32, 32, 3))\n",
        "resizedImg = Lambda(lambda image: tf.compat.v1.image.resize_images(image, (75, 75)))(newInput)\n",
        "newOutputs = model(resizedImg)\n",
        "model = Model(newInput, newOutputs)\n",
        "\n",
        "# Freeze all the layers\n",
        "for layer in model.layers[:]:\n",
        "    layer.trainable = False\n",
        "\n",
        "# Add Dense layer to classify on CIFAR10\n",
        "output = model.output\n",
        "output = GlobalAveragePooling2D()(output)\n",
        "output = Dense(units=10, activation='softmax')(output)\n",
        "model = Model(model.input, output)"
      ],
      "metadata": {
        "id": "B0lU8-ojdFp-",
        "colab": {
          "base_uri": "https://localhost:8080/"
        },
        "outputId": "19d86e6f-efba-4570-9feb-de796912f728"
      },
      "execution_count": 55,
      "outputs": [
        {
          "output_type": "stream",
          "name": "stdout",
          "text": [
            "Downloading data from https://storage.googleapis.com/tensorflow/keras-applications/inception_v3/inception_v3_weights_tf_dim_ordering_tf_kernels_notop.h5\n",
            "87910968/87910968 [==============================] - 0s 0us/step\n"
          ]
        }
      ]
    },
    {
      "cell_type": "code",
      "source": [
        "model.summary()"
      ],
      "metadata": {
        "colab": {
          "base_uri": "https://localhost:8080/"
        },
        "id": "GAr8lOSeENT9",
        "outputId": "610897d8-5a0c-474c-f7c9-d05da4c6e48f"
      },
      "execution_count": 56,
      "outputs": [
        {
          "output_type": "stream",
          "name": "stdout",
          "text": [
            "Model: \"model_3\"\n",
            "_________________________________________________________________\n",
            " Layer (type)                Output Shape              Param #   \n",
            "=================================================================\n",
            " input_6 (InputLayer)        [(None, 32, 32, 3)]       0         \n",
            "                                                                 \n",
            " lambda (Lambda)             (None, 75, 75, 3)         0         \n",
            "                                                                 \n",
            " inception_v3 (Functional)   (None, 1, 1, 2048)        21802784  \n",
            "                                                                 \n",
            " global_average_pooling2d_3  (None, 2048)              0         \n",
            "  (GlobalAveragePooling2D)                                       \n",
            "                                                                 \n",
            " dense_11 (Dense)            (None, 10)                20490     \n",
            "                                                                 \n",
            "=================================================================\n",
            "Total params: 21823274 (83.25 MB)\n",
            "Trainable params: 20490 (80.04 KB)\n",
            "Non-trainable params: 21802784 (83.17 MB)\n",
            "_________________________________________________________________\n"
          ]
        }
      ]
    },
    {
      "cell_type": "code",
      "source": [
        "x_train.shape, x_test.shape"
      ],
      "metadata": {
        "colab": {
          "base_uri": "https://localhost:8080/"
        },
        "id": "qht3we1CRKRB",
        "outputId": "b5618851-e970-47da-ef2b-61c62816b5b0"
      },
      "execution_count": 57,
      "outputs": [
        {
          "output_type": "execute_result",
          "data": {
            "text/plain": [
              "((50000, 32, 32, 3), (10000, 32, 32, 3))"
            ]
          },
          "metadata": {},
          "execution_count": 57
        }
      ]
    },
    {
      "cell_type": "code",
      "source": [
        "y_train_bin.shape, y_test_bin.shape"
      ],
      "metadata": {
        "colab": {
          "base_uri": "https://localhost:8080/"
        },
        "id": "UXKo_nCPRM13",
        "outputId": "f98209b5-d511-402d-f943-ff03ee175ab8"
      },
      "execution_count": 58,
      "outputs": [
        {
          "output_type": "execute_result",
          "data": {
            "text/plain": [
              "((50000, 10), (10000, 10))"
            ]
          },
          "metadata": {},
          "execution_count": 58
        }
      ]
    },
    {
      "cell_type": "code",
      "source": [
        "model.compile(\n",
        "    optimizer='adam',\n",
        "    loss='categorical_crossentropy',\n",
        "    metrics=['accuracy']\n",
        ")"
      ],
      "metadata": {
        "id": "Lpj_so-EGlSM"
      },
      "execution_count": 59,
      "outputs": []
    },
    {
      "cell_type": "code",
      "source": [
        "device_name = tf.test.gpu_device_name()\n",
        "device_name"
      ],
      "metadata": {
        "colab": {
          "base_uri": "https://localhost:8080/",
          "height": 35
        },
        "id": "6px-m_sKGxyH",
        "outputId": "bd4a5929-3e9a-43a7-992c-223d7719a2b9"
      },
      "execution_count": 60,
      "outputs": [
        {
          "output_type": "execute_result",
          "data": {
            "text/plain": [
              "'/device:GPU:0'"
            ],
            "application/vnd.google.colaboratory.intrinsic+json": {
              "type": "string"
            }
          },
          "metadata": {},
          "execution_count": 60
        }
      ]
    },
    {
      "cell_type": "code",
      "source": [
        "%%time\n",
        "\n",
        "with tf.device(device_name):\n",
        "    model.fit(\n",
        "        x=x_train, # be careful here!\n",
        "        y=y_train_bin,\n",
        "        batch_size=10,\n",
        "        validation_split=0.2,\n",
        "        epochs=10\n",
        "    )"
      ],
      "metadata": {
        "id": "nZc8laPvGuRG",
        "colab": {
          "base_uri": "https://localhost:8080/"
        },
        "outputId": "2b43360b-66fb-4970-f492-659a83af0627"
      },
      "execution_count": 61,
      "outputs": [
        {
          "output_type": "stream",
          "name": "stdout",
          "text": [
            "Epoch 1/10\n",
            "4000/4000 [==============================] - 59s 13ms/step - loss: 1.3182 - accuracy: 0.5570 - val_loss: 1.2397 - val_accuracy: 0.5873\n",
            "Epoch 2/10\n",
            "4000/4000 [==============================] - 53s 13ms/step - loss: 1.1433 - accuracy: 0.6142 - val_loss: 1.2374 - val_accuracy: 0.5940\n",
            "Epoch 3/10\n",
            "4000/4000 [==============================] - 53s 13ms/step - loss: 1.0999 - accuracy: 0.6269 - val_loss: 1.2611 - val_accuracy: 0.5947\n",
            "Epoch 4/10\n",
            "4000/4000 [==============================] - 53s 13ms/step - loss: 1.0703 - accuracy: 0.6377 - val_loss: 1.2552 - val_accuracy: 0.5972\n",
            "Epoch 5/10\n",
            "4000/4000 [==============================] - 53s 13ms/step - loss: 1.0565 - accuracy: 0.6418 - val_loss: 1.2559 - val_accuracy: 0.5962\n",
            "Epoch 6/10\n",
            "4000/4000 [==============================] - 53s 13ms/step - loss: 1.0401 - accuracy: 0.6443 - val_loss: 1.2928 - val_accuracy: 0.5902\n",
            "Epoch 7/10\n",
            "4000/4000 [==============================] - 51s 13ms/step - loss: 1.0253 - accuracy: 0.6493 - val_loss: 1.2732 - val_accuracy: 0.5941\n",
            "Epoch 8/10\n",
            "4000/4000 [==============================] - 54s 13ms/step - loss: 1.0171 - accuracy: 0.6514 - val_loss: 1.3216 - val_accuracy: 0.5895\n",
            "Epoch 9/10\n",
            "4000/4000 [==============================] - 56s 14ms/step - loss: 1.0058 - accuracy: 0.6518 - val_loss: 1.3804 - val_accuracy: 0.5749\n",
            "Epoch 10/10\n",
            "4000/4000 [==============================] - 56s 14ms/step - loss: 0.9988 - accuracy: 0.6543 - val_loss: 1.3014 - val_accuracy: 0.5957\n",
            "CPU times: user 9min 34s, sys: 19.4 s, total: 9min 54s\n",
            "Wall time: 9min\n"
          ]
        }
      ]
    },
    {
      "cell_type": "code",
      "source": [
        "score = model.evaluate(x_test, y_test_bin)\n",
        "print('Test loss:', score[0])\n",
        "print('Test accuracy:', score[1])"
      ],
      "metadata": {
        "id": "AzGMz7BAG72W",
        "colab": {
          "base_uri": "https://localhost:8080/"
        },
        "outputId": "f99c99ba-e387-4e8d-d1f6-94b666e8db5c"
      },
      "execution_count": 62,
      "outputs": [
        {
          "output_type": "stream",
          "name": "stdout",
          "text": [
            "313/313 [==============================] - 9s 19ms/step - loss: 1.3393 - accuracy: 0.5929\n",
            "Test loss: 1.3393250703811646\n",
            "Test accuracy: 0.5928999781608582\n"
          ]
        }
      ]
    },
    {
      "cell_type": "markdown",
      "source": [
        "Ends here."
      ],
      "metadata": {
        "id": "xZwzm5l5eTJu"
      }
    }
  ],
  "metadata": {
    "accelerator": "GPU",
    "colab": {
      "machine_shape": "hm",
      "provenance": [],
      "gpuType": "T4",
      "toc_visible": true
    },
    "kernelspec": {
      "display_name": "Python 3",
      "name": "python3"
    },
    "language_info": {
      "name": "python"
    }
  },
  "nbformat": 4,
  "nbformat_minor": 0
}