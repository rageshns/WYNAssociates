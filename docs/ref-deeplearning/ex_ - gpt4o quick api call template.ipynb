{
  "nbformat": 4,
  "nbformat_minor": 0,
  "metadata": {
    "colab": {
      "provenance": []
    },
    "kernelspec": {
      "name": "python3",
      "display_name": "Python 3"
    },
    "language_info": {
      "name": "python"
    }
  },
  "cells": [
    {
      "cell_type": "code",
      "source": [
        "! pip install openai"
      ],
      "metadata": {
        "colab": {
          "base_uri": "https://localhost:8080/"
        },
        "id": "TJN-2owAAACr",
        "outputId": "18621fc0-f713-4709-8836-35746da50ec7"
      },
      "execution_count": 1,
      "outputs": [
        {
          "output_type": "stream",
          "name": "stdout",
          "text": [
            "Collecting openai\n",
            "  Downloading openai-1.33.0-py3-none-any.whl (325 kB)\n",
            "\u001b[2K     \u001b[90m━━━━━━━━━━━━━━━━━━━━━━━━━━━━━━━━━━━━━━━━\u001b[0m \u001b[32m325.5/325.5 kB\u001b[0m \u001b[31m4.7 MB/s\u001b[0m eta \u001b[36m0:00:00\u001b[0m\n",
            "\u001b[?25hRequirement already satisfied: anyio<5,>=3.5.0 in /usr/local/lib/python3.10/dist-packages (from openai) (3.7.1)\n",
            "Requirement already satisfied: distro<2,>=1.7.0 in /usr/lib/python3/dist-packages (from openai) (1.7.0)\n",
            "Collecting httpx<1,>=0.23.0 (from openai)\n",
            "  Downloading httpx-0.27.0-py3-none-any.whl (75 kB)\n",
            "\u001b[2K     \u001b[90m━━━━━━━━━━━━━━━━━━━━━━━━━━━━━━━━━━━━━━━━\u001b[0m \u001b[32m75.6/75.6 kB\u001b[0m \u001b[31m6.0 MB/s\u001b[0m eta \u001b[36m0:00:00\u001b[0m\n",
            "\u001b[?25hRequirement already satisfied: pydantic<3,>=1.9.0 in /usr/local/lib/python3.10/dist-packages (from openai) (2.7.3)\n",
            "Requirement already satisfied: sniffio in /usr/local/lib/python3.10/dist-packages (from openai) (1.3.1)\n",
            "Requirement already satisfied: tqdm>4 in /usr/local/lib/python3.10/dist-packages (from openai) (4.66.4)\n",
            "Requirement already satisfied: typing-extensions<5,>=4.7 in /usr/local/lib/python3.10/dist-packages (from openai) (4.12.1)\n",
            "Requirement already satisfied: idna>=2.8 in /usr/local/lib/python3.10/dist-packages (from anyio<5,>=3.5.0->openai) (3.7)\n",
            "Requirement already satisfied: exceptiongroup in /usr/local/lib/python3.10/dist-packages (from anyio<5,>=3.5.0->openai) (1.2.1)\n",
            "Requirement already satisfied: certifi in /usr/local/lib/python3.10/dist-packages (from httpx<1,>=0.23.0->openai) (2024.6.2)\n",
            "Collecting httpcore==1.* (from httpx<1,>=0.23.0->openai)\n",
            "  Downloading httpcore-1.0.5-py3-none-any.whl (77 kB)\n",
            "\u001b[2K     \u001b[90m━━━━━━━━━━━━━━━━━━━━━━━━━━━━━━━━━━━━━━━━\u001b[0m \u001b[32m77.9/77.9 kB\u001b[0m \u001b[31m3.5 MB/s\u001b[0m eta \u001b[36m0:00:00\u001b[0m\n",
            "\u001b[?25hCollecting h11<0.15,>=0.13 (from httpcore==1.*->httpx<1,>=0.23.0->openai)\n",
            "  Downloading h11-0.14.0-py3-none-any.whl (58 kB)\n",
            "\u001b[2K     \u001b[90m━━━━━━━━━━━━━━━━━━━━━━━━━━━━━━━━━━━━━━━━\u001b[0m \u001b[32m58.3/58.3 kB\u001b[0m \u001b[31m1.8 MB/s\u001b[0m eta \u001b[36m0:00:00\u001b[0m\n",
            "\u001b[?25hRequirement already satisfied: annotated-types>=0.4.0 in /usr/local/lib/python3.10/dist-packages (from pydantic<3,>=1.9.0->openai) (0.7.0)\n",
            "Requirement already satisfied: pydantic-core==2.18.4 in /usr/local/lib/python3.10/dist-packages (from pydantic<3,>=1.9.0->openai) (2.18.4)\n",
            "Installing collected packages: h11, httpcore, httpx, openai\n",
            "Successfully installed h11-0.14.0 httpcore-1.0.5 httpx-0.27.0 openai-1.33.0\n"
          ]
        }
      ]
    },
    {
      "cell_type": "code",
      "source": [
        "from google.colab import userdata\n",
        "OPENAI_API_KEY = userdata.get('OPENAI_API_KEY')"
      ],
      "metadata": {
        "id": "HDL7HHIVAC-K"
      },
      "execution_count": 2,
      "outputs": []
    },
    {
      "cell_type": "code",
      "execution_count": 7,
      "metadata": {
        "colab": {
          "base_uri": "https://localhost:8080/"
        },
        "id": "kKgs9XFk_6aE",
        "outputId": "d50dac66-c6b4-44e6-d625-ab25b8b8c7c6"
      },
      "outputs": [
        {
          "output_type": "stream",
          "name": "stdout",
          "text": [
            "ChatCompletionMessage(content='Hello! How can I assist you today?', role='assistant', function_call=None, tool_calls=None)\n"
          ]
        }
      ],
      "source": [
        "from openai import OpenAI\n",
        "client = OpenAI(api_key=OPENAI_API_KEY)\n",
        "\n",
        "completion = client.chat.completions.create(\n",
        "  model=\"gpt-4o\",\n",
        "  messages=[\n",
        "    {\"role\": \"system\", \"content\": \"You are a helpful assistant.\"},\n",
        "    {\"role\": \"user\", \"content\": \"Hello!\"}\n",
        "  ]\n",
        ")\n",
        "\n",
        "print(completion.choices[0].message)"
      ]
    },
    {
      "cell_type": "code",
      "source": [
        "from openai import OpenAI\n",
        "\n",
        "def generate_response(prompt: str) -> str:\n",
        "\n",
        "  completion = client.chat.completions.create(\n",
        "    model=\"gpt-4o\",\n",
        "    messages=[\n",
        "      {\"role\": \"system\", \"content\": \"You are a helpful assistant.\"},\n",
        "      {\"role\": \"user\", \"content\": prompt}\n",
        "    ]\n",
        "  )\n",
        "\n",
        "  return completion.choices[0].message"
      ],
      "metadata": {
        "id": "J8JwXnWBAJaH"
      },
      "execution_count": 14,
      "outputs": []
    },
    {
      "cell_type": "code",
      "source": [
        "# Example usage\n",
        "# Remember to replace with your actual API key\n",
        "response = generate_response(\"Tell me a joke.\")"
      ],
      "metadata": {
        "id": "ElVyNRv2C3OJ"
      },
      "execution_count": 17,
      "outputs": []
    },
    {
      "cell_type": "code",
      "source": [
        "response.content"
      ],
      "metadata": {
        "colab": {
          "base_uri": "https://localhost:8080/",
          "height": 36
        },
        "id": "8doHma6JDNwV",
        "outputId": "8abb29c2-4208-444b-e9ac-1afb39394f57"
      },
      "execution_count": 24,
      "outputs": [
        {
          "output_type": "execute_result",
          "data": {
            "text/plain": [
              "\"Sure, here's a lighthearted joke for you:\\n\\nWhy don't scientists trust atoms?\\n\\nBecause they make up everything!\""
            ],
            "application/vnd.google.colaboratory.intrinsic+json": {
              "type": "string"
            }
          },
          "metadata": {},
          "execution_count": 24
        }
      ]
    },
    {
      "cell_type": "code",
      "source": [
        "class ChatBot:\n",
        "    def __init__(self):\n",
        "        self.client = OpenAI(api_key=OPENAI_API_KEY)\n",
        "        self.history = [{\"role\": \"system\", \"content\": \"You are a helpful assistant.\"}]\n",
        "\n",
        "    def generate_response(self, prompt: str) -> str:\n",
        "        self.history.append({\"role\": \"user\", \"content\": prompt})\n",
        "\n",
        "        completion = self.client.chat.completions.create(\n",
        "            model=\"gpt-4o\",\n",
        "            messages=self.history\n",
        "        )\n",
        "\n",
        "        response = completion.choices[0].message.content\n",
        "        self.history.append({\"role\": \"assistant\", \"content\": response})\n",
        "\n",
        "        return response\n",
        "\n",
        "    def get_history(self) -> list:\n",
        "        return self.history"
      ],
      "metadata": {
        "id": "TEl3Q3s4DTOh"
      },
      "execution_count": 32,
      "outputs": []
    },
    {
      "cell_type": "code",
      "source": [
        "# Example usage:\n",
        "bot = ChatBot()\n",
        "response = bot.generate_response(\"What is the weather like today?\")\n",
        "print(response)\n",
        "print(bot.get_history())"
      ],
      "metadata": {
        "colab": {
          "base_uri": "https://localhost:8080/"
        },
        "id": "7X-V90ZyDllG",
        "outputId": "8d7e3092-0cbf-4195-d636-11d1de11f6b4"
      },
      "execution_count": 43,
      "outputs": [
        {
          "output_type": "stream",
          "name": "stdout",
          "text": [
            "I'm unable to provide real-time information, including current weather updates. To find out the weather for today, you can check a weather website, use a weather app on your phone, or ask a voice-activated virtual assistant.\n",
            "[{'role': 'system', 'content': 'You are a helpful assistant.'}, {'role': 'user', 'content': 'What is the weather like today?'}, {'role': 'assistant', 'content': \"I'm unable to provide real-time information, including current weather updates. To find out the weather for today, you can check a weather website, use a weather app on your phone, or ask a voice-activated virtual assistant.\"}]\n"
          ]
        }
      ]
    },
    {
      "cell_type": "code",
      "source": [
        "response = bot.generate_response(\"What is LLM?\")\n",
        "print(response)\n",
        "print(bot.get_history())"
      ],
      "metadata": {
        "colab": {
          "base_uri": "https://localhost:8080/"
        },
        "id": "QKqlgTHaEwdW",
        "outputId": "1e435368-203c-4336-9be5-63e79c2f442d"
      },
      "execution_count": 44,
      "outputs": [
        {
          "output_type": "stream",
          "name": "stdout",
          "text": [
            "The term \"LLM\" can refer to different things depending on the context. Here are the two most common interpretations:\n",
            "\n",
            "1. **Master of Laws (LL.M.):** This is an advanced, postgraduate academic degree in law. It is typically pursued by individuals who have already completed their initial law degree (such as a J.D. or LL.B.) and want to specialize in a particular area of law or gain a broader understanding of the legal field. The LL.M. programs are often one year long and can focus on various specializations, such as international law, taxation law, human rights law, etc.\n",
            "\n",
            "2. **Large Language Model:** In the context of artificial intelligence and natural language processing, an LLM refers to a type of AI model that has been trained on a vast amount of text data to understand and generate human-like language. These models, such as OpenAI's GPT-3 or GPT-4, are capable of performing a wide range of language-based tasks, including translation, summarization, question answering, and more. They are used in various applications, from chatbots to content generation.\n",
            "\n",
            "If you have a specific context in mind, please let me know so I can provide more detailed information!\n",
            "[{'role': 'system', 'content': 'You are a helpful assistant.'}, {'role': 'user', 'content': 'What is the weather like today?'}, {'role': 'assistant', 'content': \"I'm unable to provide real-time information, including current weather updates. To find out the weather for today, you can check a weather website, use a weather app on your phone, or ask a voice-activated virtual assistant.\"}, {'role': 'user', 'content': 'What is LLM?'}, {'role': 'assistant', 'content': 'The term \"LLM\" can refer to different things depending on the context. Here are the two most common interpretations:\\n\\n1. **Master of Laws (LL.M.):** This is an advanced, postgraduate academic degree in law. It is typically pursued by individuals who have already completed their initial law degree (such as a J.D. or LL.B.) and want to specialize in a particular area of law or gain a broader understanding of the legal field. The LL.M. programs are often one year long and can focus on various specializations, such as international law, taxation law, human rights law, etc.\\n\\n2. **Large Language Model:** In the context of artificial intelligence and natural language processing, an LLM refers to a type of AI model that has been trained on a vast amount of text data to understand and generate human-like language. These models, such as OpenAI\\'s GPT-3 or GPT-4, are capable of performing a wide range of language-based tasks, including translation, summarization, question answering, and more. They are used in various applications, from chatbots to content generation.\\n\\nIf you have a specific context in mind, please let me know so I can provide more detailed information!'}]\n"
          ]
        }
      ]
    },
    {
      "cell_type": "code",
      "source": [
        "response = bot.generate_response(\"What is the supervised learning?\")\n",
        "print(response)\n",
        "print(bot.get_history())"
      ],
      "metadata": {
        "colab": {
          "base_uri": "https://localhost:8080/"
        },
        "id": "SU_1rJ0JI_cb",
        "outputId": "12c8495a-3a55-4278-eab3-7a4addc0b274"
      },
      "execution_count": 45,
      "outputs": [
        {
          "output_type": "stream",
          "name": "stdout",
          "text": [
            "Supervised learning is a type of machine learning in which an algorithm is trained on a labeled dataset. The term \"labeled\" means that each training example in the dataset is paired with an output label or target. The goal of the supervised learning algorithm is to learn a mapping from inputs to outputs that can be used to make predictions on new, unseen data.\n",
            "\n",
            "Here are the key components and steps involved in supervised learning:\n",
            "\n",
            "1. **Dataset**: The dataset is composed of input-output pairs. For example, in a dataset used for image classification, each input might be an image, and the corresponding output label could be a category such as \"cat\" or \"dog.\"\n",
            "\n",
            "2. **Training**: During the training phase, the algorithm processes the input-output pairs, adjusting its internal parameters to minimize the difference between its predictions and the actual output labels. This is typically done using optimization techniques such as gradient descent.\n",
            "\n",
            "3. **Prediction**: Once trained, the model can be used to make predictions on new data. For instance, if you input a new image into an image classification model, it will output a predicted class label for that image.\n",
            "\n",
            "4. **Evaluation**: The performance of the trained model is evaluated using a separate test dataset that was not used during training. Common evaluation metrics include accuracy, precision, recall, and F1 score, depending on the specific task and requirements.\n",
            "\n",
            "Common types of supervised learning tasks include:\n",
            "\n",
            "- **Classification**: The goal is to predict categorical labels. Examples include spam detection (spam or not spam), sentiment analysis (positive, negative, neutral), and object recognition (dog, cat, car, etc.).\n",
            "  \n",
            "- **Regression**: The goal is to predict continuous values. Examples include predicting house prices, stock prices, or temperature.\n",
            "\n",
            "Some popular algorithms used in supervised learning include:\n",
            "\n",
            "- **Linear Regression**: Used for regression tasks.\n",
            "- **Logistic Regression**: Used for binary classification tasks.\n",
            "- **Decision Trees**: Can be used for both classification and regression tasks.\n",
            "- **Random Forests**: An ensemble method that uses multiple decision trees.\n",
            "- **Support Vector Machines (SVM)**: Used for classification and regression tasks.\n",
            "- **Neural Networks**: Particularly useful for complex tasks like image and speech recognition.\n",
            "\n",
            "Overall, supervised learning is widely used in various applications, from medical diagnosis and finance to natural language processing and computer vision.\n",
            "[{'role': 'system', 'content': 'You are a helpful assistant.'}, {'role': 'user', 'content': 'What is the weather like today?'}, {'role': 'assistant', 'content': \"I'm unable to provide real-time information, including current weather updates. To find out the weather for today, you can check a weather website, use a weather app on your phone, or ask a voice-activated virtual assistant.\"}, {'role': 'user', 'content': 'What is LLM?'}, {'role': 'assistant', 'content': 'The term \"LLM\" can refer to different things depending on the context. Here are the two most common interpretations:\\n\\n1. **Master of Laws (LL.M.):** This is an advanced, postgraduate academic degree in law. It is typically pursued by individuals who have already completed their initial law degree (such as a J.D. or LL.B.) and want to specialize in a particular area of law or gain a broader understanding of the legal field. The LL.M. programs are often one year long and can focus on various specializations, such as international law, taxation law, human rights law, etc.\\n\\n2. **Large Language Model:** In the context of artificial intelligence and natural language processing, an LLM refers to a type of AI model that has been trained on a vast amount of text data to understand and generate human-like language. These models, such as OpenAI\\'s GPT-3 or GPT-4, are capable of performing a wide range of language-based tasks, including translation, summarization, question answering, and more. They are used in various applications, from chatbots to content generation.\\n\\nIf you have a specific context in mind, please let me know so I can provide more detailed information!'}, {'role': 'user', 'content': 'What is the supervised learning?'}, {'role': 'assistant', 'content': 'Supervised learning is a type of machine learning in which an algorithm is trained on a labeled dataset. The term \"labeled\" means that each training example in the dataset is paired with an output label or target. The goal of the supervised learning algorithm is to learn a mapping from inputs to outputs that can be used to make predictions on new, unseen data.\\n\\nHere are the key components and steps involved in supervised learning:\\n\\n1. **Dataset**: The dataset is composed of input-output pairs. For example, in a dataset used for image classification, each input might be an image, and the corresponding output label could be a category such as \"cat\" or \"dog.\"\\n\\n2. **Training**: During the training phase, the algorithm processes the input-output pairs, adjusting its internal parameters to minimize the difference between its predictions and the actual output labels. This is typically done using optimization techniques such as gradient descent.\\n\\n3. **Prediction**: Once trained, the model can be used to make predictions on new data. For instance, if you input a new image into an image classification model, it will output a predicted class label for that image.\\n\\n4. **Evaluation**: The performance of the trained model is evaluated using a separate test dataset that was not used during training. Common evaluation metrics include accuracy, precision, recall, and F1 score, depending on the specific task and requirements.\\n\\nCommon types of supervised learning tasks include:\\n\\n- **Classification**: The goal is to predict categorical labels. Examples include spam detection (spam or not spam), sentiment analysis (positive, negative, neutral), and object recognition (dog, cat, car, etc.).\\n  \\n- **Regression**: The goal is to predict continuous values. Examples include predicting house prices, stock prices, or temperature.\\n\\nSome popular algorithms used in supervised learning include:\\n\\n- **Linear Regression**: Used for regression tasks.\\n- **Logistic Regression**: Used for binary classification tasks.\\n- **Decision Trees**: Can be used for both classification and regression tasks.\\n- **Random Forests**: An ensemble method that uses multiple decision trees.\\n- **Support Vector Machines (SVM)**: Used for classification and regression tasks.\\n- **Neural Networks**: Particularly useful for complex tasks like image and speech recognition.\\n\\nOverall, supervised learning is widely used in various applications, from medical diagnosis and finance to natural language processing and computer vision.'}]\n"
          ]
        }
      ]
    },
    {
      "cell_type": "code",
      "source": [
        "response = bot.generate_response(\"write a python function to find fibonacci number\")\n",
        "print(response)\n",
        "# print(bot.get_history())"
      ],
      "metadata": {
        "colab": {
          "base_uri": "https://localhost:8080/"
        },
        "id": "8OqoWKwFJBgt",
        "outputId": "d15db9e1-856a-4bed-ff8c-d3aa77ccdd3f"
      },
      "execution_count": 46,
      "outputs": [
        {
          "output_type": "stream",
          "name": "stdout",
          "text": [
            "Certainly! Here's a Python function to find the n-th Fibonacci number using a simple iterative approach. This version is efficient and avoids the pitfalls of recursion, such as stack overflow for large values of `n`.\n",
            "\n",
            "```python\n",
            "def fibonacci(n):\n",
            "    if n <= 0:\n",
            "        raise ValueError(\"Input should be a positive integer.\")\n",
            "    elif n == 1:\n",
            "        return 0\n",
            "    elif n == 2:\n",
            "        return 1\n",
            "    \n",
            "    a, b = 0, 1\n",
            "    for _ in range(2, n):\n",
            "        a, b = b, a + b\n",
            "    return b\n",
            "\n",
            "# Example usage:\n",
            "n = 10\n",
            "print(f\"The {n}-th Fibonacci number is: {fibonacci(n)}\")\n",
            "```\n",
            "\n",
            "Here's what the function does:\n",
            "1. Checks if the input `n` is a positive integer.\n",
            "2. Returns the base cases directly for `n = 1` (0) and `n = 2` (1).\n",
            "3. Uses a loop to compute subsequent Fibonacci numbers iteratively.\n",
            "4. Finally, returns the n-th Fibonacci number.\n",
            "\n",
            "Feel free to adjust and use this function as needed!\n"
          ]
        }
      ]
    },
    {
      "cell_type": "code",
      "source": [
        "response = bot.generate_response(\"add type hints to the previous function\")\n",
        "print(response)\n",
        "# print(bot.get_history())"
      ],
      "metadata": {
        "colab": {
          "base_uri": "https://localhost:8080/"
        },
        "id": "ScIrQXduJJpq",
        "outputId": "414aaf36-e5b0-407d-f0eb-9f530c8d3a6a"
      },
      "execution_count": 47,
      "outputs": [
        {
          "output_type": "stream",
          "name": "stdout",
          "text": [
            "Certainly! Adding type hints to the function can make the code more readable and help with static type checking. Here’s the `fibonacci` function with type hints included:\n",
            "\n",
            "```python\n",
            "def fibonacci(n: int) -> int:\n",
            "    if n <= 0:\n",
            "        raise ValueError(\"Input should be a positive integer.\")\n",
            "    elif n == 1:\n",
            "        return 0\n",
            "    elif n == 2:\n",
            "        return 1\n",
            "    \n",
            "    a, b = 0, 1\n",
            "    for _ in range(2, n):\n",
            "        a, b = b, a + b\n",
            "    return b\n",
            "\n",
            "# Example usage:\n",
            "n = 10\n",
            "print(f\"The {n}-th Fibonacci number is: {fibonacci(n)}\")\n",
            "```\n",
            "\n",
            "Here's a breakdown of the type hints:\n",
            "- `n: int`: The argument `n` should be of type `int`.\n",
            "- `-> int`: The function returns an integer, which is indicated by `-> int`.\n",
            "\n",
            "This makes it clear that the function expects an integer input and will return an integer as output.\n"
          ]
        }
      ]
    },
    {
      "cell_type": "code",
      "source": [
        "import pprint"
      ],
      "metadata": {
        "id": "jqWZO5wdPoOW"
      },
      "execution_count": 48,
      "outputs": []
    },
    {
      "cell_type": "code",
      "source": [
        "pprint.pprint(bot.get_history())"
      ],
      "metadata": {
        "colab": {
          "base_uri": "https://localhost:8080/"
        },
        "id": "IX76DKYNPsoR",
        "outputId": "98aff45c-b168-4b05-9944-6946180a280e"
      },
      "execution_count": 49,
      "outputs": [
        {
          "output_type": "stream",
          "name": "stdout",
          "text": [
            "[{'content': 'You are a helpful assistant.', 'role': 'system'},\n",
            " {'content': 'What is the weather like today?', 'role': 'user'},\n",
            " {'content': \"I'm unable to provide real-time information, including current \"\n",
            "             'weather updates. To find out the weather for today, you can '\n",
            "             'check a weather website, use a weather app on your phone, or ask '\n",
            "             'a voice-activated virtual assistant.',\n",
            "  'role': 'assistant'},\n",
            " {'content': 'What is LLM?', 'role': 'user'},\n",
            " {'content': 'The term \"LLM\" can refer to different things depending on the '\n",
            "             'context. Here are the two most common interpretations:\\n'\n",
            "             '\\n'\n",
            "             '1. **Master of Laws (LL.M.):** This is an advanced, postgraduate '\n",
            "             'academic degree in law. It is typically pursued by individuals '\n",
            "             'who have already completed their initial law degree (such as a '\n",
            "             'J.D. or LL.B.) and want to specialize in a particular area of '\n",
            "             'law or gain a broader understanding of the legal field. The '\n",
            "             'LL.M. programs are often one year long and can focus on various '\n",
            "             'specializations, such as international law, taxation law, human '\n",
            "             'rights law, etc.\\n'\n",
            "             '\\n'\n",
            "             '2. **Large Language Model:** In the context of artificial '\n",
            "             'intelligence and natural language processing, an LLM refers to a '\n",
            "             'type of AI model that has been trained on a vast amount of text '\n",
            "             'data to understand and generate human-like language. These '\n",
            "             \"models, such as OpenAI's GPT-3 or GPT-4, are capable of \"\n",
            "             'performing a wide range of language-based tasks, including '\n",
            "             'translation, summarization, question answering, and more. They '\n",
            "             'are used in various applications, from chatbots to content '\n",
            "             'generation.\\n'\n",
            "             '\\n'\n",
            "             'If you have a specific context in mind, please let me know so I '\n",
            "             'can provide more detailed information!',\n",
            "  'role': 'assistant'},\n",
            " {'content': 'What is the supervised learning?', 'role': 'user'},\n",
            " {'content': 'Supervised learning is a type of machine learning in which an '\n",
            "             'algorithm is trained on a labeled dataset. The term \"labeled\" '\n",
            "             'means that each training example in the dataset is paired with '\n",
            "             'an output label or target. The goal of the supervised learning '\n",
            "             'algorithm is to learn a mapping from inputs to outputs that can '\n",
            "             'be used to make predictions on new, unseen data.\\n'\n",
            "             '\\n'\n",
            "             'Here are the key components and steps involved in supervised '\n",
            "             'learning:\\n'\n",
            "             '\\n'\n",
            "             '1. **Dataset**: The dataset is composed of input-output pairs. '\n",
            "             'For example, in a dataset used for image classification, each '\n",
            "             'input might be an image, and the corresponding output label '\n",
            "             'could be a category such as \"cat\" or \"dog.\"\\n'\n",
            "             '\\n'\n",
            "             '2. **Training**: During the training phase, the algorithm '\n",
            "             'processes the input-output pairs, adjusting its internal '\n",
            "             'parameters to minimize the difference between its predictions '\n",
            "             'and the actual output labels. This is typically done using '\n",
            "             'optimization techniques such as gradient descent.\\n'\n",
            "             '\\n'\n",
            "             '3. **Prediction**: Once trained, the model can be used to make '\n",
            "             'predictions on new data. For instance, if you input a new image '\n",
            "             'into an image classification model, it will output a predicted '\n",
            "             'class label for that image.\\n'\n",
            "             '\\n'\n",
            "             '4. **Evaluation**: The performance of the trained model is '\n",
            "             'evaluated using a separate test dataset that was not used during '\n",
            "             'training. Common evaluation metrics include accuracy, precision, '\n",
            "             'recall, and F1 score, depending on the specific task and '\n",
            "             'requirements.\\n'\n",
            "             '\\n'\n",
            "             'Common types of supervised learning tasks include:\\n'\n",
            "             '\\n'\n",
            "             '- **Classification**: The goal is to predict categorical labels. '\n",
            "             'Examples include spam detection (spam or not spam), sentiment '\n",
            "             'analysis (positive, negative, neutral), and object recognition '\n",
            "             '(dog, cat, car, etc.).\\n'\n",
            "             '  \\n'\n",
            "             '- **Regression**: The goal is to predict continuous values. '\n",
            "             'Examples include predicting house prices, stock prices, or '\n",
            "             'temperature.\\n'\n",
            "             '\\n'\n",
            "             'Some popular algorithms used in supervised learning include:\\n'\n",
            "             '\\n'\n",
            "             '- **Linear Regression**: Used for regression tasks.\\n'\n",
            "             '- **Logistic Regression**: Used for binary classification '\n",
            "             'tasks.\\n'\n",
            "             '- **Decision Trees**: Can be used for both classification and '\n",
            "             'regression tasks.\\n'\n",
            "             '- **Random Forests**: An ensemble method that uses multiple '\n",
            "             'decision trees.\\n'\n",
            "             '- **Support Vector Machines (SVM)**: Used for classification and '\n",
            "             'regression tasks.\\n'\n",
            "             '- **Neural Networks**: Particularly useful for complex tasks '\n",
            "             'like image and speech recognition.\\n'\n",
            "             '\\n'\n",
            "             'Overall, supervised learning is widely used in various '\n",
            "             'applications, from medical diagnosis and finance to natural '\n",
            "             'language processing and computer vision.',\n",
            "  'role': 'assistant'},\n",
            " {'content': 'write a python function to find fibonacci number',\n",
            "  'role': 'user'},\n",
            " {'content': \"Certainly! Here's a Python function to find the n-th Fibonacci \"\n",
            "             'number using a simple iterative approach. This version is '\n",
            "             'efficient and avoids the pitfalls of recursion, such as stack '\n",
            "             'overflow for large values of `n`.\\n'\n",
            "             '\\n'\n",
            "             '```python\\n'\n",
            "             'def fibonacci(n):\\n'\n",
            "             '    if n <= 0:\\n'\n",
            "             '        raise ValueError(\"Input should be a positive integer.\")\\n'\n",
            "             '    elif n == 1:\\n'\n",
            "             '        return 0\\n'\n",
            "             '    elif n == 2:\\n'\n",
            "             '        return 1\\n'\n",
            "             '    \\n'\n",
            "             '    a, b = 0, 1\\n'\n",
            "             '    for _ in range(2, n):\\n'\n",
            "             '        a, b = b, a + b\\n'\n",
            "             '    return b\\n'\n",
            "             '\\n'\n",
            "             '# Example usage:\\n'\n",
            "             'n = 10\\n'\n",
            "             'print(f\"The {n}-th Fibonacci number is: {fibonacci(n)}\")\\n'\n",
            "             '```\\n'\n",
            "             '\\n'\n",
            "             \"Here's what the function does:\\n\"\n",
            "             '1. Checks if the input `n` is a positive integer.\\n'\n",
            "             '2. Returns the base cases directly for `n = 1` (0) and `n = 2` '\n",
            "             '(1).\\n'\n",
            "             '3. Uses a loop to compute subsequent Fibonacci numbers '\n",
            "             'iteratively.\\n'\n",
            "             '4. Finally, returns the n-th Fibonacci number.\\n'\n",
            "             '\\n'\n",
            "             'Feel free to adjust and use this function as needed!',\n",
            "  'role': 'assistant'},\n",
            " {'content': 'add type hints to the previous function', 'role': 'user'},\n",
            " {'content': 'Certainly! Adding type hints to the function can make the code '\n",
            "             'more readable and help with static type checking. Here’s the '\n",
            "             '`fibonacci` function with type hints included:\\n'\n",
            "             '\\n'\n",
            "             '```python\\n'\n",
            "             'def fibonacci(n: int) -> int:\\n'\n",
            "             '    if n <= 0:\\n'\n",
            "             '        raise ValueError(\"Input should be a positive integer.\")\\n'\n",
            "             '    elif n == 1:\\n'\n",
            "             '        return 0\\n'\n",
            "             '    elif n == 2:\\n'\n",
            "             '        return 1\\n'\n",
            "             '    \\n'\n",
            "             '    a, b = 0, 1\\n'\n",
            "             '    for _ in range(2, n):\\n'\n",
            "             '        a, b = b, a + b\\n'\n",
            "             '    return b\\n'\n",
            "             '\\n'\n",
            "             '# Example usage:\\n'\n",
            "             'n = 10\\n'\n",
            "             'print(f\"The {n}-th Fibonacci number is: {fibonacci(n)}\")\\n'\n",
            "             '```\\n'\n",
            "             '\\n'\n",
            "             \"Here's a breakdown of the type hints:\\n\"\n",
            "             '- `n: int`: The argument `n` should be of type `int`.\\n'\n",
            "             '- `-> int`: The function returns an integer, which is indicated '\n",
            "             'by `-> int`.\\n'\n",
            "             '\\n'\n",
            "             'This makes it clear that the function expects an integer input '\n",
            "             'and will return an integer as output.',\n",
            "  'role': 'assistant'}]\n"
          ]
        }
      ]
    },
    {
      "cell_type": "code",
      "source": [],
      "metadata": {
        "id": "yp2zqXgHPw2C"
      },
      "execution_count": 49,
      "outputs": []
    }
  ]
}