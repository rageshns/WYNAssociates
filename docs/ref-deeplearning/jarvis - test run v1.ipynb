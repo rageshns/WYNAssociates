{
  "nbformat": 4,
  "nbformat_minor": 0,
  "metadata": {
    "colab": {
      "provenance": [],
      "collapsed_sections": [
        "WwYT86ib1cS4",
        "-BlcAq2Y2Jnf"
      ],
      "machine_shape": "hm",
      "gpuType": "T4"
    },
    "kernelspec": {
      "name": "python3",
      "display_name": "Python 3"
    },
    "language_info": {
      "name": "python"
    },
    "accelerator": "GPU"
  },
  "cells": [
    {
      "cell_type": "markdown",
      "source": [
        "## Installation"
      ],
      "metadata": {
        "id": "WwYT86ib1cS4"
      }
    },
    {
      "cell_type": "code",
      "execution_count": 1,
      "metadata": {
        "colab": {
          "base_uri": "https://localhost:8080/"
        },
        "id": "r3zNkeOrPgcQ",
        "outputId": "74cb05ee-64aa-40af-af38-da353a828ee5"
      },
      "outputs": [
        {
          "output_type": "stream",
          "name": "stdout",
          "text": [
            "Collecting wyn-voice\n",
            "  Downloading wyn_voice-0.1.7-py3-none-any.whl (3.2 kB)\n",
            "Collecting pyautogen\n",
            "  Downloading pyautogen-0.2.32-py3-none-any.whl (314 kB)\n",
            "\u001b[2K     \u001b[90m━━━━━━━━━━━━━━━━━━━━━━━━━━━━━━━━━━━━━━━━\u001b[0m \u001b[32m314.4/314.4 kB\u001b[0m \u001b[31m4.0 MB/s\u001b[0m eta \u001b[36m0:00:00\u001b[0m\n",
            "\u001b[?25hCollecting pydub\n",
            "  Downloading pydub-0.25.1-py2.py3-none-any.whl (32 kB)\n",
            "Requirement already satisfied: google-colab<2.0.0,>=1.0.0 in /usr/local/lib/python3.10/dist-packages (from wyn-voice) (1.0.0)\n",
            "Requirement already satisfied: ipython==7.34.0 in /usr/local/lib/python3.10/dist-packages (from wyn-voice) (7.34.0)\n",
            "Collecting openai<2.0.0,>=1.35.14 (from wyn-voice)\n",
            "  Downloading openai-1.36.0-py3-none-any.whl (328 kB)\n",
            "\u001b[2K     \u001b[90m━━━━━━━━━━━━━━━━━━━━━━━━━━━━━━━━━━━━━━━━\u001b[0m \u001b[32m328.7/328.7 kB\u001b[0m \u001b[31m5.5 MB/s\u001b[0m eta \u001b[36m0:00:00\u001b[0m\n",
            "\u001b[?25hRequirement already satisfied: setuptools>=18.5 in /usr/local/lib/python3.10/dist-packages (from ipython==7.34.0->wyn-voice) (67.7.2)\n",
            "Collecting jedi>=0.16 (from ipython==7.34.0->wyn-voice)\n",
            "  Downloading jedi-0.19.1-py2.py3-none-any.whl (1.6 MB)\n",
            "\u001b[2K     \u001b[90m━━━━━━━━━━━━━━━━━━━━━━━━━━━━━━━━━━━━━━━━\u001b[0m \u001b[32m1.6/1.6 MB\u001b[0m \u001b[31m10.0 MB/s\u001b[0m eta \u001b[36m0:00:00\u001b[0m\n",
            "\u001b[?25hRequirement already satisfied: decorator in /usr/local/lib/python3.10/dist-packages (from ipython==7.34.0->wyn-voice) (4.4.2)\n",
            "Requirement already satisfied: pickleshare in /usr/local/lib/python3.10/dist-packages (from ipython==7.34.0->wyn-voice) (0.7.5)\n",
            "Requirement already satisfied: traitlets>=4.2 in /usr/local/lib/python3.10/dist-packages (from ipython==7.34.0->wyn-voice) (5.7.1)\n",
            "Requirement already satisfied: prompt-toolkit!=3.0.0,!=3.0.1,<3.1.0,>=2.0.0 in /usr/local/lib/python3.10/dist-packages (from ipython==7.34.0->wyn-voice) (3.0.47)\n",
            "Requirement already satisfied: pygments in /usr/local/lib/python3.10/dist-packages (from ipython==7.34.0->wyn-voice) (2.16.1)\n",
            "Requirement already satisfied: backcall in /usr/local/lib/python3.10/dist-packages (from ipython==7.34.0->wyn-voice) (0.2.0)\n",
            "Requirement already satisfied: matplotlib-inline in /usr/local/lib/python3.10/dist-packages (from ipython==7.34.0->wyn-voice) (0.1.7)\n",
            "Requirement already satisfied: pexpect>4.3 in /usr/local/lib/python3.10/dist-packages (from ipython==7.34.0->wyn-voice) (4.9.0)\n",
            "Collecting diskcache (from pyautogen)\n",
            "  Downloading diskcache-5.6.3-py3-none-any.whl (45 kB)\n",
            "\u001b[2K     \u001b[90m━━━━━━━━━━━━━━━━━━━━━━━━━━━━━━━━━━━━━━━━\u001b[0m \u001b[32m45.5/45.5 kB\u001b[0m \u001b[31m3.9 MB/s\u001b[0m eta \u001b[36m0:00:00\u001b[0m\n",
            "\u001b[?25hCollecting docker (from pyautogen)\n",
            "  Downloading docker-7.1.0-py3-none-any.whl (147 kB)\n",
            "\u001b[2K     \u001b[90m━━━━━━━━━━━━━━━━━━━━━━━━━━━━━━━━━━━━━━━━\u001b[0m \u001b[32m147.8/147.8 kB\u001b[0m \u001b[31m12.5 MB/s\u001b[0m eta \u001b[36m0:00:00\u001b[0m\n",
            "\u001b[?25hCollecting flaml (from pyautogen)\n",
            "  Downloading FLAML-2.1.2-py3-none-any.whl (296 kB)\n",
            "\u001b[2K     \u001b[90m━━━━━━━━━━━━━━━━━━━━━━━━━━━━━━━━━━━━━━━━\u001b[0m \u001b[32m296.7/296.7 kB\u001b[0m \u001b[31m10.5 MB/s\u001b[0m eta \u001b[36m0:00:00\u001b[0m\n",
            "\u001b[?25hRequirement already satisfied: numpy<2,>=1.17.0 in /usr/local/lib/python3.10/dist-packages (from pyautogen) (1.25.2)\n",
            "Requirement already satisfied: packaging in /usr/local/lib/python3.10/dist-packages (from pyautogen) (24.1)\n",
            "Requirement already satisfied: pydantic!=2.6.0,<3,>=1.10 in /usr/local/lib/python3.10/dist-packages (from pyautogen) (2.8.2)\n",
            "Collecting python-dotenv (from pyautogen)\n",
            "  Downloading python_dotenv-1.0.1-py3-none-any.whl (19 kB)\n",
            "Requirement already satisfied: termcolor in /usr/local/lib/python3.10/dist-packages (from pyautogen) (2.4.0)\n",
            "Collecting tiktoken (from pyautogen)\n",
            "  Downloading tiktoken-0.7.0-cp310-cp310-manylinux_2_17_x86_64.manylinux2014_x86_64.whl (1.1 MB)\n",
            "\u001b[2K     \u001b[90m━━━━━━━━━━━━━━━━━━━━━━━━━━━━━━━━━━━━━━━━\u001b[0m \u001b[32m1.1/1.1 MB\u001b[0m \u001b[31m13.8 MB/s\u001b[0m eta \u001b[36m0:00:00\u001b[0m\n",
            "\u001b[?25hRequirement already satisfied: google-auth==2.27.0 in /usr/local/lib/python3.10/dist-packages (from google-colab<2.0.0,>=1.0.0->wyn-voice) (2.27.0)\n",
            "Requirement already satisfied: ipykernel==5.5.6 in /usr/local/lib/python3.10/dist-packages (from google-colab<2.0.0,>=1.0.0->wyn-voice) (5.5.6)\n",
            "Requirement already satisfied: ipyparallel==8.8.0 in /usr/local/lib/python3.10/dist-packages (from google-colab<2.0.0,>=1.0.0->wyn-voice) (8.8.0)\n",
            "Requirement already satisfied: notebook==6.5.5 in /usr/local/lib/python3.10/dist-packages (from google-colab<2.0.0,>=1.0.0->wyn-voice) (6.5.5)\n",
            "Requirement already satisfied: pandas==2.0.3 in /usr/local/lib/python3.10/dist-packages (from google-colab<2.0.0,>=1.0.0->wyn-voice) (2.0.3)\n",
            "Requirement already satisfied: portpicker==1.5.2 in /usr/local/lib/python3.10/dist-packages (from google-colab<2.0.0,>=1.0.0->wyn-voice) (1.5.2)\n",
            "Requirement already satisfied: requests==2.31.0 in /usr/local/lib/python3.10/dist-packages (from google-colab<2.0.0,>=1.0.0->wyn-voice) (2.31.0)\n",
            "Requirement already satisfied: tornado==6.3.3 in /usr/local/lib/python3.10/dist-packages (from google-colab<2.0.0,>=1.0.0->wyn-voice) (6.3.3)\n",
            "Requirement already satisfied: cachetools<6.0,>=2.0.0 in /usr/local/lib/python3.10/dist-packages (from google-auth==2.27.0->google-colab<2.0.0,>=1.0.0->wyn-voice) (5.4.0)\n",
            "Requirement already satisfied: pyasn1-modules>=0.2.1 in /usr/local/lib/python3.10/dist-packages (from google-auth==2.27.0->google-colab<2.0.0,>=1.0.0->wyn-voice) (0.4.0)\n",
            "Requirement already satisfied: rsa<5,>=3.1.4 in /usr/local/lib/python3.10/dist-packages (from google-auth==2.27.0->google-colab<2.0.0,>=1.0.0->wyn-voice) (4.9)\n",
            "Requirement already satisfied: ipython-genutils in /usr/local/lib/python3.10/dist-packages (from ipykernel==5.5.6->google-colab<2.0.0,>=1.0.0->wyn-voice) (0.2.0)\n",
            "Requirement already satisfied: jupyter-client in /usr/local/lib/python3.10/dist-packages (from ipykernel==5.5.6->google-colab<2.0.0,>=1.0.0->wyn-voice) (6.1.12)\n",
            "Requirement already satisfied: entrypoints in /usr/local/lib/python3.10/dist-packages (from ipyparallel==8.8.0->google-colab<2.0.0,>=1.0.0->wyn-voice) (0.4)\n",
            "Requirement already satisfied: psutil in /usr/local/lib/python3.10/dist-packages (from ipyparallel==8.8.0->google-colab<2.0.0,>=1.0.0->wyn-voice) (5.9.5)\n",
            "Requirement already satisfied: python-dateutil>=2.1 in /usr/local/lib/python3.10/dist-packages (from ipyparallel==8.8.0->google-colab<2.0.0,>=1.0.0->wyn-voice) (2.8.2)\n",
            "Requirement already satisfied: pyzmq>=18 in /usr/local/lib/python3.10/dist-packages (from ipyparallel==8.8.0->google-colab<2.0.0,>=1.0.0->wyn-voice) (24.0.1)\n",
            "Requirement already satisfied: tqdm in /usr/local/lib/python3.10/dist-packages (from ipyparallel==8.8.0->google-colab<2.0.0,>=1.0.0->wyn-voice) (4.66.4)\n",
            "Requirement already satisfied: jinja2 in /usr/local/lib/python3.10/dist-packages (from notebook==6.5.5->google-colab<2.0.0,>=1.0.0->wyn-voice) (3.1.4)\n",
            "Requirement already satisfied: argon2-cffi in /usr/local/lib/python3.10/dist-packages (from notebook==6.5.5->google-colab<2.0.0,>=1.0.0->wyn-voice) (23.1.0)\n",
            "Requirement already satisfied: jupyter-core>=4.6.1 in /usr/local/lib/python3.10/dist-packages (from notebook==6.5.5->google-colab<2.0.0,>=1.0.0->wyn-voice) (5.7.2)\n",
            "Requirement already satisfied: nbformat in /usr/local/lib/python3.10/dist-packages (from notebook==6.5.5->google-colab<2.0.0,>=1.0.0->wyn-voice) (5.10.4)\n",
            "Requirement already satisfied: nbconvert>=5 in /usr/local/lib/python3.10/dist-packages (from notebook==6.5.5->google-colab<2.0.0,>=1.0.0->wyn-voice) (6.5.4)\n",
            "Requirement already satisfied: nest-asyncio>=1.5 in /usr/local/lib/python3.10/dist-packages (from notebook==6.5.5->google-colab<2.0.0,>=1.0.0->wyn-voice) (1.6.0)\n",
            "Requirement already satisfied: Send2Trash>=1.8.0 in /usr/local/lib/python3.10/dist-packages (from notebook==6.5.5->google-colab<2.0.0,>=1.0.0->wyn-voice) (1.8.3)\n",
            "Requirement already satisfied: terminado>=0.8.3 in /usr/local/lib/python3.10/dist-packages (from notebook==6.5.5->google-colab<2.0.0,>=1.0.0->wyn-voice) (0.18.1)\n",
            "Requirement already satisfied: prometheus-client in /usr/local/lib/python3.10/dist-packages (from notebook==6.5.5->google-colab<2.0.0,>=1.0.0->wyn-voice) (0.20.0)\n",
            "Requirement already satisfied: nbclassic>=0.4.7 in /usr/local/lib/python3.10/dist-packages (from notebook==6.5.5->google-colab<2.0.0,>=1.0.0->wyn-voice) (1.1.0)\n",
            "Requirement already satisfied: pytz>=2020.1 in /usr/local/lib/python3.10/dist-packages (from pandas==2.0.3->google-colab<2.0.0,>=1.0.0->wyn-voice) (2023.4)\n",
            "Requirement already satisfied: tzdata>=2022.1 in /usr/local/lib/python3.10/dist-packages (from pandas==2.0.3->google-colab<2.0.0,>=1.0.0->wyn-voice) (2024.1)\n",
            "Requirement already satisfied: charset-normalizer<4,>=2 in /usr/local/lib/python3.10/dist-packages (from requests==2.31.0->google-colab<2.0.0,>=1.0.0->wyn-voice) (3.3.2)\n",
            "Requirement already satisfied: idna<4,>=2.5 in /usr/local/lib/python3.10/dist-packages (from requests==2.31.0->google-colab<2.0.0,>=1.0.0->wyn-voice) (3.7)\n",
            "Requirement already satisfied: urllib3<3,>=1.21.1 in /usr/local/lib/python3.10/dist-packages (from requests==2.31.0->google-colab<2.0.0,>=1.0.0->wyn-voice) (2.0.7)\n",
            "Requirement already satisfied: certifi>=2017.4.17 in /usr/local/lib/python3.10/dist-packages (from requests==2.31.0->google-colab<2.0.0,>=1.0.0->wyn-voice) (2024.7.4)\n",
            "Requirement already satisfied: anyio<5,>=3.5.0 in /usr/local/lib/python3.10/dist-packages (from openai<2.0.0,>=1.35.14->wyn-voice) (3.7.1)\n",
            "Requirement already satisfied: distro<2,>=1.7.0 in /usr/lib/python3/dist-packages (from openai<2.0.0,>=1.35.14->wyn-voice) (1.7.0)\n",
            "Collecting httpx<1,>=0.23.0 (from openai<2.0.0,>=1.35.14->wyn-voice)\n",
            "  Downloading httpx-0.27.0-py3-none-any.whl (75 kB)\n",
            "\u001b[2K     \u001b[90m━━━━━━━━━━━━━━━━━━━━━━━━━━━━━━━━━━━━━━━━\u001b[0m \u001b[32m75.6/75.6 kB\u001b[0m \u001b[31m5.0 MB/s\u001b[0m eta \u001b[36m0:00:00\u001b[0m\n",
            "\u001b[?25hRequirement already satisfied: sniffio in /usr/local/lib/python3.10/dist-packages (from openai<2.0.0,>=1.35.14->wyn-voice) (1.3.1)\n",
            "Requirement already satisfied: typing-extensions<5,>=4.7 in /usr/local/lib/python3.10/dist-packages (from openai<2.0.0,>=1.35.14->wyn-voice) (4.12.2)\n",
            "Requirement already satisfied: annotated-types>=0.4.0 in /usr/local/lib/python3.10/dist-packages (from pydantic!=2.6.0,<3,>=1.10->pyautogen) (0.7.0)\n",
            "Requirement already satisfied: pydantic-core==2.20.1 in /usr/local/lib/python3.10/dist-packages (from pydantic!=2.6.0,<3,>=1.10->pyautogen) (2.20.1)\n",
            "Requirement already satisfied: regex>=2022.1.18 in /usr/local/lib/python3.10/dist-packages (from tiktoken->pyautogen) (2024.5.15)\n",
            "Requirement already satisfied: exceptiongroup in /usr/local/lib/python3.10/dist-packages (from anyio<5,>=3.5.0->openai<2.0.0,>=1.35.14->wyn-voice) (1.2.2)\n",
            "Collecting httpcore==1.* (from httpx<1,>=0.23.0->openai<2.0.0,>=1.35.14->wyn-voice)\n",
            "  Downloading httpcore-1.0.5-py3-none-any.whl (77 kB)\n",
            "\u001b[2K     \u001b[90m━━━━━━━━━━━━━━━━━━━━━━━━━━━━━━━━━━━━━━━━\u001b[0m \u001b[32m77.9/77.9 kB\u001b[0m \u001b[31m6.8 MB/s\u001b[0m eta \u001b[36m0:00:00\u001b[0m\n",
            "\u001b[?25hCollecting h11<0.15,>=0.13 (from httpcore==1.*->httpx<1,>=0.23.0->openai<2.0.0,>=1.35.14->wyn-voice)\n",
            "  Downloading h11-0.14.0-py3-none-any.whl (58 kB)\n",
            "\u001b[2K     \u001b[90m━━━━━━━━━━━━━━━━━━━━━━━━━━━━━━━━━━━━━━━━\u001b[0m \u001b[32m58.3/58.3 kB\u001b[0m \u001b[31m6.6 MB/s\u001b[0m eta \u001b[36m0:00:00\u001b[0m\n",
            "\u001b[?25hRequirement already satisfied: parso<0.9.0,>=0.8.3 in /usr/local/lib/python3.10/dist-packages (from jedi>=0.16->ipython==7.34.0->wyn-voice) (0.8.4)\n",
            "Requirement already satisfied: ptyprocess>=0.5 in /usr/local/lib/python3.10/dist-packages (from pexpect>4.3->ipython==7.34.0->wyn-voice) (0.7.0)\n",
            "Requirement already satisfied: wcwidth in /usr/local/lib/python3.10/dist-packages (from prompt-toolkit!=3.0.0,!=3.0.1,<3.1.0,>=2.0.0->ipython==7.34.0->wyn-voice) (0.2.13)\n",
            "Requirement already satisfied: platformdirs>=2.5 in /usr/local/lib/python3.10/dist-packages (from jupyter-core>=4.6.1->notebook==6.5.5->google-colab<2.0.0,>=1.0.0->wyn-voice) (4.2.2)\n",
            "Requirement already satisfied: notebook-shim>=0.2.3 in /usr/local/lib/python3.10/dist-packages (from nbclassic>=0.4.7->notebook==6.5.5->google-colab<2.0.0,>=1.0.0->wyn-voice) (0.2.4)\n",
            "Requirement already satisfied: lxml in /usr/local/lib/python3.10/dist-packages (from nbconvert>=5->notebook==6.5.5->google-colab<2.0.0,>=1.0.0->wyn-voice) (4.9.4)\n",
            "Requirement already satisfied: beautifulsoup4 in /usr/local/lib/python3.10/dist-packages (from nbconvert>=5->notebook==6.5.5->google-colab<2.0.0,>=1.0.0->wyn-voice) (4.12.3)\n",
            "Requirement already satisfied: bleach in /usr/local/lib/python3.10/dist-packages (from nbconvert>=5->notebook==6.5.5->google-colab<2.0.0,>=1.0.0->wyn-voice) (6.1.0)\n",
            "Requirement already satisfied: defusedxml in /usr/local/lib/python3.10/dist-packages (from nbconvert>=5->notebook==6.5.5->google-colab<2.0.0,>=1.0.0->wyn-voice) (0.7.1)\n",
            "Requirement already satisfied: jupyterlab-pygments in /usr/local/lib/python3.10/dist-packages (from nbconvert>=5->notebook==6.5.5->google-colab<2.0.0,>=1.0.0->wyn-voice) (0.3.0)\n",
            "Requirement already satisfied: MarkupSafe>=2.0 in /usr/local/lib/python3.10/dist-packages (from nbconvert>=5->notebook==6.5.5->google-colab<2.0.0,>=1.0.0->wyn-voice) (2.1.5)\n",
            "Requirement already satisfied: mistune<2,>=0.8.1 in /usr/local/lib/python3.10/dist-packages (from nbconvert>=5->notebook==6.5.5->google-colab<2.0.0,>=1.0.0->wyn-voice) (0.8.4)\n",
            "Requirement already satisfied: nbclient>=0.5.0 in /usr/local/lib/python3.10/dist-packages (from nbconvert>=5->notebook==6.5.5->google-colab<2.0.0,>=1.0.0->wyn-voice) (0.10.0)\n",
            "Requirement already satisfied: pandocfilters>=1.4.1 in /usr/local/lib/python3.10/dist-packages (from nbconvert>=5->notebook==6.5.5->google-colab<2.0.0,>=1.0.0->wyn-voice) (1.5.1)\n",
            "Requirement already satisfied: tinycss2 in /usr/local/lib/python3.10/dist-packages (from nbconvert>=5->notebook==6.5.5->google-colab<2.0.0,>=1.0.0->wyn-voice) (1.3.0)\n",
            "Requirement already satisfied: fastjsonschema>=2.15 in /usr/local/lib/python3.10/dist-packages (from nbformat->notebook==6.5.5->google-colab<2.0.0,>=1.0.0->wyn-voice) (2.20.0)\n",
            "Requirement already satisfied: jsonschema>=2.6 in /usr/local/lib/python3.10/dist-packages (from nbformat->notebook==6.5.5->google-colab<2.0.0,>=1.0.0->wyn-voice) (4.19.2)\n",
            "Requirement already satisfied: pyasn1<0.7.0,>=0.4.6 in /usr/local/lib/python3.10/dist-packages (from pyasn1-modules>=0.2.1->google-auth==2.27.0->google-colab<2.0.0,>=1.0.0->wyn-voice) (0.6.0)\n",
            "Requirement already satisfied: six>=1.5 in /usr/local/lib/python3.10/dist-packages (from python-dateutil>=2.1->ipyparallel==8.8.0->google-colab<2.0.0,>=1.0.0->wyn-voice) (1.16.0)\n",
            "Requirement already satisfied: argon2-cffi-bindings in /usr/local/lib/python3.10/dist-packages (from argon2-cffi->notebook==6.5.5->google-colab<2.0.0,>=1.0.0->wyn-voice) (21.2.0)\n",
            "Requirement already satisfied: attrs>=22.2.0 in /usr/local/lib/python3.10/dist-packages (from jsonschema>=2.6->nbformat->notebook==6.5.5->google-colab<2.0.0,>=1.0.0->wyn-voice) (23.2.0)\n",
            "Requirement already satisfied: jsonschema-specifications>=2023.03.6 in /usr/local/lib/python3.10/dist-packages (from jsonschema>=2.6->nbformat->notebook==6.5.5->google-colab<2.0.0,>=1.0.0->wyn-voice) (2023.12.1)\n",
            "Requirement already satisfied: referencing>=0.28.4 in /usr/local/lib/python3.10/dist-packages (from jsonschema>=2.6->nbformat->notebook==6.5.5->google-colab<2.0.0,>=1.0.0->wyn-voice) (0.35.1)\n",
            "Requirement already satisfied: rpds-py>=0.7.1 in /usr/local/lib/python3.10/dist-packages (from jsonschema>=2.6->nbformat->notebook==6.5.5->google-colab<2.0.0,>=1.0.0->wyn-voice) (0.19.0)\n",
            "Requirement already satisfied: jupyter-server<3,>=1.8 in /usr/local/lib/python3.10/dist-packages (from notebook-shim>=0.2.3->nbclassic>=0.4.7->notebook==6.5.5->google-colab<2.0.0,>=1.0.0->wyn-voice) (1.24.0)\n",
            "Requirement already satisfied: cffi>=1.0.1 in /usr/local/lib/python3.10/dist-packages (from argon2-cffi-bindings->argon2-cffi->notebook==6.5.5->google-colab<2.0.0,>=1.0.0->wyn-voice) (1.16.0)\n",
            "Requirement already satisfied: soupsieve>1.2 in /usr/local/lib/python3.10/dist-packages (from beautifulsoup4->nbconvert>=5->notebook==6.5.5->google-colab<2.0.0,>=1.0.0->wyn-voice) (2.5)\n",
            "Requirement already satisfied: webencodings in /usr/local/lib/python3.10/dist-packages (from bleach->nbconvert>=5->notebook==6.5.5->google-colab<2.0.0,>=1.0.0->wyn-voice) (0.5.1)\n",
            "Requirement already satisfied: pycparser in /usr/local/lib/python3.10/dist-packages (from cffi>=1.0.1->argon2-cffi-bindings->argon2-cffi->notebook==6.5.5->google-colab<2.0.0,>=1.0.0->wyn-voice) (2.22)\n",
            "Requirement already satisfied: websocket-client in /usr/local/lib/python3.10/dist-packages (from jupyter-server<3,>=1.8->notebook-shim>=0.2.3->nbclassic>=0.4.7->notebook==6.5.5->google-colab<2.0.0,>=1.0.0->wyn-voice) (1.8.0)\n",
            "Installing collected packages: pydub, python-dotenv, jedi, h11, flaml, diskcache, tiktoken, httpcore, docker, httpx, openai, pyautogen, wyn-voice\n",
            "Successfully installed diskcache-5.6.3 docker-7.1.0 flaml-2.1.2 h11-0.14.0 httpcore-1.0.5 httpx-0.27.0 jedi-0.19.1 openai-1.36.0 pyautogen-0.2.32 pydub-0.25.1 python-dotenv-1.0.1 tiktoken-0.7.0 wyn-voice-0.1.7\n"
          ]
        }
      ],
      "source": [
        "! pip install wyn-voice pyautogen pydub"
      ]
    },
    {
      "cell_type": "markdown",
      "source": [
        "## Imports"
      ],
      "metadata": {
        "id": "-BlcAq2Y2Jnf"
      }
    },
    {
      "cell_type": "code",
      "source": [
        "from wyn_voice.chat import *\n",
        "from autogen import ConversableAgent\n",
        "from pydub import AudioSegment"
      ],
      "metadata": {
        "id": "1yeqHIdIP0f1"
      },
      "execution_count": 2,
      "outputs": []
    },
    {
      "cell_type": "code",
      "source": [
        "from google.colab import userdata\n",
        "OPENAI_API_KEY = userdata.get('OPENAI_API_KEY')"
      ],
      "metadata": {
        "id": "0GU8Cx9IP2iF"
      },
      "execution_count": 3,
      "outputs": []
    },
    {
      "cell_type": "code",
      "source": [
        "from pathlib import Path\n",
        "from autogen.coding import CodeBlock, LocalCommandLineCodeExecutor\n",
        "\n",
        "work_dir = Path(\"coding\")\n",
        "work_dir.mkdir(exist_ok=True)\n",
        "executor = LocalCommandLineCodeExecutor(work_dir=work_dir)\n",
        "\n",
        "# Create an agent with code executor configuration.\n",
        "code_executor_agent = ConversableAgent(\n",
        "    \"code_executor_agent\",\n",
        "    llm_config=False,  # Turn off LLM for this agent.\n",
        "    code_execution_config={\"executor\": executor},  # Use the local command line code executor.\n",
        "    human_input_mode=\"NEVER\",  # Always take human input for this agent for safety.\n",
        ")"
      ],
      "metadata": {
        "id": "F0Rg5MbBP8VF"
      },
      "execution_count": 4,
      "outputs": []
    },
    {
      "cell_type": "markdown",
      "source": [
        "## Configure and Run"
      ],
      "metadata": {
        "id": "OVHrH38dQDW1"
      }
    },
    {
      "cell_type": "code",
      "source": [
        "# @title Choose a bot\n",
        "\n",
        "# Reinitiate bot\n",
        "# Example usage\n",
        "assistant_v1 = ChatBot(\n",
        "    api_key=OPENAI_API_KEY,\n",
        "    protocol=\"\"\"\n",
        "    You are a helpful assistant.\n",
        "\n",
        "    If user asks you python related question, you will ask question back and clarify it.\n",
        "    If all makes sense, you will write the python code for user.\n",
        "    If the python code is written from before, ask user whether they want to execute it.\n",
        "    \"\"\"\n",
        ")\n",
        "assistant_v2 = ChatBot(\n",
        "    api_key=OPENAI_API_KEY,\n",
        "    protocol=\"\"\"\n",
        "    You are a helpful assistant. You are an expert to recommend life style choices.\n",
        "    \"\"\"\n",
        ")\n",
        "assistant_v3 = ChatBot(\n",
        "    api_key=OPENAI_API_KEY,\n",
        "    protocol=\"\"\"\n",
        "    You are a therapist.\n",
        "\n",
        "    You are an expert at guiding people through mental health stresses and work situations.\n",
        "    You are a good listener and you take the patients (user) complain and try to understand it.\n",
        "    When user ask, you may suggest some life style choices to the user based on the user's complain.\n",
        "    \"\"\"\n",
        ")\n",
        "\n",
        "# Choose assistant\n",
        "value = \"Coding Helper\" # @param [\"Coding Helper\", \"Lifestyle Helper\", \"Therapist\"]\n",
        "\n",
        "def set_assistant():\n",
        "    if value == \"Coding Helper\":\n",
        "        assistant = assistant_v1\n",
        "    elif value == \"Lifestyle Helper\":\n",
        "        assistant = assistant_v2\n",
        "    else:\n",
        "        assistant = assistant_v3\n",
        "    audio_processor = AudioProcessor(bot=assistant)\n",
        "\n",
        "    return assistant, audio_processor\n",
        "\n",
        "assistant, audio_processor = set_assistant()"
      ],
      "metadata": {
        "cellView": "form",
        "id": "id65LfbkQCC2"
      },
      "execution_count": 42,
      "outputs": []
    },
    {
      "cell_type": "code",
      "source": [
        "# @title Talk to JARVIS\n",
        "\n",
        "prompt = \"\"\n",
        "response = \"\"\n",
        "reply = \"\"\n",
        "audio_length = 0\n",
        "while \"exit\" not in prompt.lower():\n",
        "    # User\n",
        "    prompt = audio_processor.voice_to_text(sec=10)\n",
        "    print(\"🤔 User: \", prompt)\n",
        "\n",
        "    # Command [conditional]\n",
        "    if \"execute\" in prompt.lower():\n",
        "        message_with_code_block = f\"\"\"This is a message with code block.\n",
        "        {response}\n",
        "        \"\"\"\n",
        "\n",
        "        # Generate a reply for the given code.\n",
        "        reply = code_executor_agent.generate_reply(messages=[{\"role\": \"user\", \"content\": message_with_code_block}])\n",
        "        print(\"💻 Executing....\")\n",
        "        print(reply)\n",
        "        reply = \"Execution successful!\" if len(reply) > 100 else reply\n",
        "\n",
        "        # Bot\n",
        "        try:\n",
        "            response = assistant.generate_response(\n",
        "                f\"\"\"User has provided the prompt: {prompt}\n",
        "                And previous we have an answer: {response}\n",
        "\n",
        "                Now that the code finished executing. Here's the result: {reply}.\n",
        "\n",
        "                Summarize the result and ask for another question or task. \"\"\"\n",
        "            )\n",
        "            print(\"🤖 Bot: \", response)\n",
        "        except:\n",
        "            assistant, audio_processor = set_assistant()\n",
        "            response = assistant.generate_response(\n",
        "                f\"\"\"User has provided the prompt: {prompt}\n",
        "                And previous we have an answer: {response}\n",
        "\n",
        "                Now that the code finished executing. Here's the result: {reply}.\n",
        "\n",
        "                Summarize the result and ask for another question or task. \"\"\"\n",
        "            )\n",
        "            print(\"🤖 Bot: \", response)\n",
        "\n",
        "    else:\n",
        "        # Bot\n",
        "        try:\n",
        "            response = assistant.generate_response(prompt)\n",
        "            print(\"🤖 Bot: \", response)\n",
        "        except:\n",
        "            assistant, audio_processor = set_assistant()\n",
        "            response = assistant.generate_response(prompt)\n",
        "            print(\"🤖 Bot: \", response)\n",
        "\n",
        "    # Audio\n",
        "    if \"\\n\\n```python\" in response.lower() or len(response) > 500:\n",
        "        response_short = assistant.generate_response(f\"Summarize the following in 1-2 sentences: {response}\")\n",
        "    else:\n",
        "        response_short = response\n",
        "\n",
        "    # Audio output\n",
        "    output_file_path = audio_processor.text_to_voice(response_short)\n",
        "    audio = AudioSegment.from_file(output_file_path)\n",
        "    audio_length = len(audio) / 1000.0 + 1\n",
        "    print(\"⏳ Audio lag: \", audio_length)\n",
        "\n",
        "    # Wait from last round\n",
        "    time.sleep(audio_length)"
      ],
      "metadata": {
        "cellView": "form",
        "id": "ApD1Q61yQOW2"
      },
      "execution_count": null,
      "outputs": []
    }
  ]
}