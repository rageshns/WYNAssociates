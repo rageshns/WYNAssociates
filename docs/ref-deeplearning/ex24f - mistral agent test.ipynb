{
  "nbformat": 4,
  "nbformat_minor": 0,
  "metadata": {
    "colab": {
      "provenance": [],
      "machine_shape": "hm",
      "gpuType": "T4"
    },
    "kernelspec": {
      "name": "python3",
      "display_name": "Python 3"
    },
    "language_info": {
      "name": "python"
    },
    "accelerator": "GPU"
  },
  "cells": [
    {
      "cell_type": "markdown",
      "source": [
        "# Main\n",
        "\n",
        "Package: [WYN-Agent](https://pypi.org/project/wyn-agent/)"
      ],
      "metadata": {
        "id": "N1dLAzxRM5fK"
      }
    },
    {
      "cell_type": "markdown",
      "source": [
        "## Get Started: Install"
      ],
      "metadata": {
        "id": "O43Lwa3wJBg5"
      }
    },
    {
      "cell_type": "code",
      "source": [
        "! pip install wyn-agent"
      ],
      "metadata": {
        "id": "V-7ntihMHs-e"
      },
      "execution_count": null,
      "outputs": []
    },
    {
      "cell_type": "markdown",
      "source": [
        "## Get Started: Import"
      ],
      "metadata": {
        "id": "jtP402j-JP8t"
      }
    },
    {
      "cell_type": "code",
      "source": [
        "from google.colab import userdata\n",
        "MISTRAL_API_KEY = userdata.get('MISTRAL_API_KEY')"
      ],
      "metadata": {
        "id": "FGStjer3IDNK"
      },
      "execution_count": null,
      "outputs": []
    },
    {
      "cell_type": "code",
      "source": [
        "from wyn_agent.mistral_agent import ChatBot"
      ],
      "metadata": {
        "id": "caSy4uzqIc6a"
      },
      "execution_count": null,
      "outputs": []
    },
    {
      "cell_type": "markdown",
      "source": [
        "## Run Bot"
      ],
      "metadata": {
        "id": "BPVgHwcjJEk-"
      }
    },
    {
      "cell_type": "code",
      "source": [
        "# @title Talk to JARVIS\n",
        "\n",
        "bot = ChatBot(\n",
        "    api_key=MISTRAL_API_KEY,\n",
        "    agent_id=\"your_agent_id\"\n",
        ")\n",
        "\n",
        "bot.run_mistral_agent()"
      ],
      "metadata": {
        "id": "EhphWvIpHtyZ"
      },
      "execution_count": null,
      "outputs": []
    },
    {
      "cell_type": "code",
      "source": [],
      "metadata": {
        "id": "34UMo8v1LsQ-"
      },
      "execution_count": null,
      "outputs": []
    }
  ]
}