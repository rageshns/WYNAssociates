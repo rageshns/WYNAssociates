{
  "nbformat": 4,
  "nbformat_minor": 0,
  "metadata": {
    "colab": {
      "provenance": [],
      "machine_shape": "hm",
      "gpuType": "A100"
    },
    "kernelspec": {
      "name": "python3",
      "display_name": "Python 3"
    },
    "language_info": {
      "name": "python"
    },
    "accelerator": "GPU"
  },
  "cells": [
    {
      "cell_type": "code",
      "execution_count": null,
      "metadata": {
        "id": "YfIvuIY1LCQE"
      },
      "outputs": [],
      "source": [
        "%%time\n",
        "\n",
        "! pip install huggify-data"
      ]
    },
    {
      "cell_type": "code",
      "source": [
        "from huggify_data.scrape_modules import *"
      ],
      "metadata": {
        "id": "qqcRF_9iLVPF"
      },
      "execution_count": null,
      "outputs": []
    },
    {
      "cell_type": "code",
      "source": [
        "from google.colab import userdata"
      ],
      "metadata": {
        "id": "BfIp6xlhLhMu"
      },
      "execution_count": null,
      "outputs": []
    },
    {
      "cell_type": "code",
      "source": [
        "%%time\n",
        "\n",
        "# Example usage:\n",
        "pdf_path = \"/content/Yiqiao Yin - CV - 2024.pdf\"\n",
        "openai_api_key = userdata.get('OPENAI_API_KEY')\n",
        "generator = PDFQnAGenerator(pdf_path, openai_api_key)\n",
        "generator.process_scraped_content()\n",
        "generator.generate_questions_answers()\n",
        "df = generator.convert_to_dataframe()"
      ],
      "metadata": {
        "id": "KD0sY1MMLHHd"
      },
      "execution_count": null,
      "outputs": []
    },
    {
      "cell_type": "code",
      "source": [
        "df.head(3)"
      ],
      "metadata": {
        "id": "PbPX6XIJATS2"
      },
      "execution_count": null,
      "outputs": []
    },
    {
      "cell_type": "code",
      "source": [
        "from huggify_data.bot_modules import ChatBot\n",
        "bot = ChatBot(api_key=openai_api_key)"
      ],
      "metadata": {
        "id": "IaHCa16DACWf"
      },
      "execution_count": null,
      "outputs": []
    },
    {
      "cell_type": "code",
      "source": [
        "from huggify_data.generate_md_modules import *"
      ],
      "metadata": {
        "id": "Hdj2RVOIAYUV"
      },
      "execution_count": null,
      "outputs": []
    },
    {
      "cell_type": "code",
      "source": [
        "markdown_generator = MarkdownGenerator(bot, df)\n",
        "markdown_generator.generate_markdown()"
      ],
      "metadata": {
        "id": "BQlOINpKAWm1"
      },
      "execution_count": null,
      "outputs": []
    },
    {
      "cell_type": "code",
      "source": [
        "from huggify_data.bot_modules import *\n",
        "\n",
        "chatbot = ChatBot(api_key=openai_api_key)"
      ],
      "metadata": {
        "id": "O58qFkTMHNCD"
      },
      "execution_count": null,
      "outputs": []
    },
    {
      "cell_type": "code",
      "source": [
        "current_prompt = \"Cost reduction from customers?\"\n",
        "response = chatbot.run_rag(openai_api_key, current_prompt, df, top_n=7)\n",
        "\n",
        "print(response['response'])\n",
        "response['references']"
      ],
      "metadata": {
        "id": "tE48NYJbZvCn"
      },
      "execution_count": null,
      "outputs": []
    },
    {
      "cell_type": "code",
      "source": [
        "from huggify_data.push_modules import DataFrameUploader\n",
        "\n",
        "# Example usage:\n",
        "df = pd.read_csv('/content/questions_answers___content_all_ysa_doc.pdf.csv')\n",
        "uploader = DataFrameUploader(\n",
        "    df,\n",
        "    hf_token=userdata.get('HF_TOKEN'),\n",
        "    repo_name='sample_ysa_data_v1',\n",
        "    username='eagle0504')\n",
        "uploader.process_data()\n",
        "uploader.push_to_hub()"
      ],
      "metadata": {
        "id": "8BQyi7izQnw2"
      },
      "execution_count": null,
      "outputs": []
    },
    {
      "cell_type": "code",
      "source": [],
      "metadata": {
        "id": "RfYh-PxIRDhb"
      },
      "execution_count": null,
      "outputs": []
    }
  ]
}