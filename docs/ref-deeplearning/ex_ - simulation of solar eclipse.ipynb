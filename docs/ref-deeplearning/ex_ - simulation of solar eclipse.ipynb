{
  "nbformat": 4,
  "nbformat_minor": 0,
  "metadata": {
    "colab": {
      "provenance": []
    },
    "kernelspec": {
      "name": "python3",
      "display_name": "Python 3"
    },
    "language_info": {
      "name": "python"
    }
  },
  "cells": [
    {
      "cell_type": "code",
      "source": [
        "import numpy as np\n",
        "import matplotlib.pyplot as plt\n",
        "from matplotlib.patches import Circle\n",
        "import os\n",
        "\n",
        "# Ensure the directory for the images exists\n",
        "image_dir = \"eclipse_images\"\n",
        "os.makedirs(image_dir, exist_ok=True)"
      ],
      "metadata": {
        "id": "Fkrw9XqUNqC9"
      },
      "execution_count": 30,
      "outputs": []
    },
    {
      "cell_type": "code",
      "source": [
        "def draw_circles(ax, moving_circle_position, image_index, distance_text, static_circle_color='black', moving_circle_color='black'):\n",
        "    ax.clear()\n",
        "    ax.set_facecolor('darkgrey')  # Background color\n",
        "    ax.set_xlim(0, 10)\n",
        "    ax.set_ylim(0, 10)\n",
        "    ax.axis('off')  # Turn off the axis\n",
        "\n",
        "    # Static circle in the top left corner, representing the Sun\n",
        "    static_circle_position = (2, 8)\n",
        "    static_circle_color = 'darkorange'  # Default color\n",
        "    moving_circle_color = 'lightseagreen'  # Default color\n",
        "\n",
        "    # Check if the moving circle is close to the static circle\n",
        "    distance = np.sqrt((moving_circle_position[0] - static_circle_position[0])**2 + (moving_circle_position[1] - static_circle_position[1])**2)\n",
        "    if distance < 1:  # You can adjust the threshold value\n",
        "        static_circle_color = 'grey'\n",
        "        moving_circle_color = 'darkgrey'\n",
        "\n",
        "    static_circle = Circle(static_circle_position, 0.5, color=static_circle_color)\n",
        "    ax.add_patch(static_circle)\n",
        "\n",
        "    # Label for the static circle (Sun)\n",
        "    ax.text(static_circle_position[0], static_circle_position[1] - 0.9, 'Sun', color='orange', ha='center')\n",
        "\n",
        "    # Moving circle along the trajectory\n",
        "    moving_circle = Circle(moving_circle_position, 0.5, color=moving_circle_color)\n",
        "    ax.add_patch(moving_circle)\n",
        "\n",
        "    # Moving text that follows the second circle (Eclipse)\n",
        "    label_for_moving_circle = f'Earth \\nx={np.round(moving_circle_position[0], 3)}, y={np.round(moving_circle_position[1], 3)}'\n",
        "    ax.text(moving_circle_position[0], moving_circle_position[1] - 0.9, label_for_moving_circle, color='green', ha='center')\n",
        "\n",
        "    # Display L2 distance in the top right corner\n",
        "    ax.text(10, 9, f'L2 Distance: {distance_text:.2f}', color='blue', ha='right')\n",
        "\n",
        "    # Save the plot as an image\n",
        "    plt.savefig(f\"{image_dir}/frame_{image_index:03d}.png\", dpi=100)"
      ],
      "metadata": {
        "id": "v9pfGP7igWoK"
      },
      "execution_count": 31,
      "outputs": []
    },
    {
      "cell_type": "code",
      "source": [
        "%%time\n",
        "\n",
        "# Prepare directory for images\n",
        "image_dir = \"eclipse_images\"\n",
        "os.makedirs(image_dir, exist_ok=True)\n",
        "\n",
        "fig, ax = plt.subplots(figsize=(6, 4))\n",
        "\n",
        "x = np.linspace(0, 10, 100)\n",
        "y = -(x - 5)**2 / 5 + 9\n",
        "\n",
        "for i in range(len(x)):\n",
        "    moving_circle_position = (x[i], y[i])\n",
        "    # Calculate L2 distance\n",
        "    distance = np.sqrt((moving_circle_position[0] - 2)**2 + (moving_circle_position[1] - 8)**2)\n",
        "\n",
        "    if np.isclose(x[i], 2, atol=0.5) and np.isclose(y[i], 8, atol=0.5):\n",
        "        draw_circles(ax, moving_circle_position, i, distance, static_circle_color='grey', moving_circle_color='grey')\n",
        "        ax.set_facecolor('grey')  # Change to darker grey when circles coincide\n",
        "    else:\n",
        "        draw_circles(ax, moving_circle_position, i, distance)\n",
        "\n",
        "plt.close(fig)  # Close the plot to avoid displaying it"
      ],
      "metadata": {
        "colab": {
          "base_uri": "https://localhost:8080/"
        },
        "id": "WZJS99_FjHFT",
        "outputId": "f0036c70-bf4d-4c56-d1fe-12c3fa1dfcd2"
      },
      "execution_count": 32,
      "outputs": [
        {
          "output_type": "stream",
          "name": "stdout",
          "text": [
            "CPU times: user 6.33 s, sys: 126 ms, total: 6.46 s\n",
            "Wall time: 6.52 s\n"
          ]
        }
      ]
    },
    {
      "cell_type": "code",
      "source": [
        "import imageio"
      ],
      "metadata": {
        "id": "qj8bZjyMNwJT"
      },
      "execution_count": 33,
      "outputs": []
    },
    {
      "cell_type": "code",
      "source": [
        "%%time\n",
        "\n",
        "# Get the list of all files in the image directory\n",
        "image_files = sorted([f for f in os.listdir(image_dir) if f.endswith('.png')])\n",
        "\n",
        "# Create a list to hold the images\n",
        "images = []\n",
        "\n",
        "# Load each file into the images list\n",
        "for filename in image_files:\n",
        "    images.append(imageio.imread(f\"{image_dir}/{filename}\"))\n",
        "\n",
        "# Save the images as a GIF\n",
        "imageio.mimsave('eclipse_simulation_updated.gif', images, fps=10)"
      ],
      "metadata": {
        "colab": {
          "base_uri": "https://localhost:8080/"
        },
        "id": "BtgNrERdjJtt",
        "outputId": "a6f72fa6-22a7-43c3-ddbf-7f7e42632fc1"
      },
      "execution_count": 34,
      "outputs": [
        {
          "output_type": "stream",
          "name": "stderr",
          "text": [
            "<timed exec>:9: DeprecationWarning: Starting with ImageIO v3 the behavior of this function will switch to that of iio.v3.imread. To keep the current behavior (and make this warning disappear) use `import imageio.v2 as imageio` or call `imageio.v2.imread` directly.\n"
          ]
        },
        {
          "output_type": "stream",
          "name": "stdout",
          "text": [
            "CPU times: user 1.27 s, sys: 40.9 ms, total: 1.31 s\n",
            "Wall time: 1.32 s\n"
          ]
        }
      ]
    }
  ]
}