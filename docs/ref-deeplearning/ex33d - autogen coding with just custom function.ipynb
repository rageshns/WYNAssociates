{
  "cells": [
    {
      "cell_type": "markdown",
      "id": "eacbb70c",
      "metadata": {
        "id": "eacbb70c"
      },
      "source": [
        "# Autogen: Coding and Financial Analysis"
      ]
    },
    {
      "cell_type": "code",
      "source": [
        "! pip install pyautogen"
      ],
      "metadata": {
        "colab": {
          "base_uri": "https://localhost:8080/"
        },
        "id": "-wlTi6zGU8GU",
        "outputId": "dfe45bc4-76c4-461f-f41c-1e1943c37807"
      },
      "id": "-wlTi6zGU8GU",
      "execution_count": null,
      "outputs": [
        {
          "output_type": "stream",
          "name": "stdout",
          "text": [
            "Collecting pyautogen\n",
            "  Downloading pyautogen-0.2.28-py3-none-any.whl (284 kB)\n",
            "\u001b[2K     \u001b[90m━━━━━━━━━━━━━━━━━━━━━━━━━━━━━━━━━━━━━━━━\u001b[0m \u001b[32m284.6/284.6 kB\u001b[0m \u001b[31m3.2 MB/s\u001b[0m eta \u001b[36m0:00:00\u001b[0m\n",
            "\u001b[?25hCollecting diskcache (from pyautogen)\n",
            "  Downloading diskcache-5.6.3-py3-none-any.whl (45 kB)\n",
            "\u001b[2K     \u001b[90m━━━━━━━━━━━━━━━━━━━━━━━━━━━━━━━━━━━━━━━━\u001b[0m \u001b[32m45.5/45.5 kB\u001b[0m \u001b[31m2.0 MB/s\u001b[0m eta \u001b[36m0:00:00\u001b[0m\n",
            "\u001b[?25hCollecting docker (from pyautogen)\n",
            "  Downloading docker-7.1.0-py3-none-any.whl (147 kB)\n",
            "\u001b[2K     \u001b[90m━━━━━━━━━━━━━━━━━━━━━━━━━━━━━━━━━━━━━━━━\u001b[0m \u001b[32m147.8/147.8 kB\u001b[0m \u001b[31m6.7 MB/s\u001b[0m eta \u001b[36m0:00:00\u001b[0m\n",
            "\u001b[?25hCollecting flaml (from pyautogen)\n",
            "  Downloading FLAML-2.1.2-py3-none-any.whl (296 kB)\n",
            "\u001b[2K     \u001b[90m━━━━━━━━━━━━━━━━━━━━━━━━━━━━━━━━━━━━━━━━\u001b[0m \u001b[32m296.7/296.7 kB\u001b[0m \u001b[31m9.4 MB/s\u001b[0m eta \u001b[36m0:00:00\u001b[0m\n",
            "\u001b[?25hRequirement already satisfied: numpy<2,>=1.17.0 in /usr/local/lib/python3.10/dist-packages (from pyautogen) (1.25.2)\n",
            "Collecting openai>=1.3 (from pyautogen)\n",
            "  Downloading openai-1.34.0-py3-none-any.whl (325 kB)\n",
            "\u001b[2K     \u001b[90m━━━━━━━━━━━━━━━━━━━━━━━━━━━━━━━━━━━━━━━━\u001b[0m \u001b[32m325.5/325.5 kB\u001b[0m \u001b[31m8.5 MB/s\u001b[0m eta \u001b[36m0:00:00\u001b[0m\n",
            "\u001b[?25hRequirement already satisfied: packaging in /usr/local/lib/python3.10/dist-packages (from pyautogen) (24.1)\n",
            "Requirement already satisfied: pydantic!=2.6.0,<3,>=1.10 in /usr/local/lib/python3.10/dist-packages (from pyautogen) (2.7.3)\n",
            "Collecting python-dotenv (from pyautogen)\n",
            "  Downloading python_dotenv-1.0.1-py3-none-any.whl (19 kB)\n",
            "Requirement already satisfied: termcolor in /usr/local/lib/python3.10/dist-packages (from pyautogen) (2.4.0)\n",
            "Collecting tiktoken (from pyautogen)\n",
            "  Downloading tiktoken-0.7.0-cp310-cp310-manylinux_2_17_x86_64.manylinux2014_x86_64.whl (1.1 MB)\n",
            "\u001b[2K     \u001b[90m━━━━━━━━━━━━━━━━━━━━━━━━━━━━━━━━━━━━━━━━\u001b[0m \u001b[32m1.1/1.1 MB\u001b[0m \u001b[31m13.4 MB/s\u001b[0m eta \u001b[36m0:00:00\u001b[0m\n",
            "\u001b[?25hRequirement already satisfied: anyio<5,>=3.5.0 in /usr/local/lib/python3.10/dist-packages (from openai>=1.3->pyautogen) (3.7.1)\n",
            "Requirement already satisfied: distro<2,>=1.7.0 in /usr/lib/python3/dist-packages (from openai>=1.3->pyautogen) (1.7.0)\n",
            "Collecting httpx<1,>=0.23.0 (from openai>=1.3->pyautogen)\n",
            "  Downloading httpx-0.27.0-py3-none-any.whl (75 kB)\n",
            "\u001b[2K     \u001b[90m━━━━━━━━━━━━━━━━━━━━━━━━━━━━━━━━━━━━━━━━\u001b[0m \u001b[32m75.6/75.6 kB\u001b[0m \u001b[31m1.6 MB/s\u001b[0m eta \u001b[36m0:00:00\u001b[0m\n",
            "\u001b[?25hRequirement already satisfied: sniffio in /usr/local/lib/python3.10/dist-packages (from openai>=1.3->pyautogen) (1.3.1)\n",
            "Requirement already satisfied: tqdm>4 in /usr/local/lib/python3.10/dist-packages (from openai>=1.3->pyautogen) (4.66.4)\n",
            "Requirement already satisfied: typing-extensions<5,>=4.7 in /usr/local/lib/python3.10/dist-packages (from openai>=1.3->pyautogen) (4.12.2)\n",
            "Requirement already satisfied: annotated-types>=0.4.0 in /usr/local/lib/python3.10/dist-packages (from pydantic!=2.6.0,<3,>=1.10->pyautogen) (0.7.0)\n",
            "Requirement already satisfied: pydantic-core==2.18.4 in /usr/local/lib/python3.10/dist-packages (from pydantic!=2.6.0,<3,>=1.10->pyautogen) (2.18.4)\n",
            "Requirement already satisfied: requests>=2.26.0 in /usr/local/lib/python3.10/dist-packages (from docker->pyautogen) (2.31.0)\n",
            "Requirement already satisfied: urllib3>=1.26.0 in /usr/local/lib/python3.10/dist-packages (from docker->pyautogen) (2.0.7)\n",
            "Requirement already satisfied: regex>=2022.1.18 in /usr/local/lib/python3.10/dist-packages (from tiktoken->pyautogen) (2024.5.15)\n",
            "Requirement already satisfied: idna>=2.8 in /usr/local/lib/python3.10/dist-packages (from anyio<5,>=3.5.0->openai>=1.3->pyautogen) (3.7)\n",
            "Requirement already satisfied: exceptiongroup in /usr/local/lib/python3.10/dist-packages (from anyio<5,>=3.5.0->openai>=1.3->pyautogen) (1.2.1)\n",
            "Requirement already satisfied: certifi in /usr/local/lib/python3.10/dist-packages (from httpx<1,>=0.23.0->openai>=1.3->pyautogen) (2024.6.2)\n",
            "Collecting httpcore==1.* (from httpx<1,>=0.23.0->openai>=1.3->pyautogen)\n",
            "  Downloading httpcore-1.0.5-py3-none-any.whl (77 kB)\n",
            "\u001b[2K     \u001b[90m━━━━━━━━━━━━━━━━━━━━━━━━━━━━━━━━━━━━━━━━\u001b[0m \u001b[32m77.9/77.9 kB\u001b[0m \u001b[31m4.0 MB/s\u001b[0m eta \u001b[36m0:00:00\u001b[0m\n",
            "\u001b[?25hCollecting h11<0.15,>=0.13 (from httpcore==1.*->httpx<1,>=0.23.0->openai>=1.3->pyautogen)\n",
            "  Downloading h11-0.14.0-py3-none-any.whl (58 kB)\n",
            "\u001b[2K     \u001b[90m━━━━━━━━━━━━━━━━━━━━━━━━━━━━━━━━━━━━━━━━\u001b[0m \u001b[32m58.3/58.3 kB\u001b[0m \u001b[31m3.3 MB/s\u001b[0m eta \u001b[36m0:00:00\u001b[0m\n",
            "\u001b[?25hRequirement already satisfied: charset-normalizer<4,>=2 in /usr/local/lib/python3.10/dist-packages (from requests>=2.26.0->docker->pyautogen) (3.3.2)\n",
            "Installing collected packages: python-dotenv, h11, flaml, diskcache, tiktoken, httpcore, docker, httpx, openai, pyautogen\n",
            "Successfully installed diskcache-5.6.3 docker-7.1.0 flaml-2.1.2 h11-0.14.0 httpcore-1.0.5 httpx-0.27.0 openai-1.34.0 pyautogen-0.2.28 python-dotenv-1.0.1 tiktoken-0.7.0\n"
          ]
        }
      ]
    },
    {
      "cell_type": "markdown",
      "id": "babbc472",
      "metadata": {
        "id": "babbc472"
      },
      "source": [
        "## Setup"
      ]
    },
    {
      "cell_type": "code",
      "source": [
        "from google.colab import userdata\n",
        "api_key = userdata.get('OPENAI_API_KEY')"
      ],
      "metadata": {
        "id": "sVEBiLOaU_Nc"
      },
      "id": "sVEBiLOaU_Nc",
      "execution_count": null,
      "outputs": []
    },
    {
      "cell_type": "code",
      "execution_count": null,
      "id": "b5613ba9-d387-4b7d-9670-ec2b6e4353be",
      "metadata": {
        "height": 31,
        "id": "b5613ba9-d387-4b7d-9670-ec2b6e4353be"
      },
      "outputs": [],
      "source": [
        "llm_config = {\"model\": \"gpt-4-turbo\", \"api_key\": api_key}"
      ]
    },
    {
      "cell_type": "markdown",
      "id": "e4e8fd85",
      "metadata": {
        "id": "e4e8fd85"
      },
      "source": [
        "## Define a code executor"
      ]
    },
    {
      "cell_type": "markdown",
      "id": "5aded8dc",
      "metadata": {
        "id": "5aded8dc"
      },
      "source": [
        "## User-Defined Functions\n",
        "\n",
        "Instead of asking LLM to generate the code for downloading stock data\n",
        "and plotting charts each time, you can define functions for these two tasks and have LLM call these functions in the code."
      ]
    },
    {
      "cell_type": "code",
      "execution_count": null,
      "id": "bca089a7-d85a-40ad-b33d-6a5318076c6e",
      "metadata": {
        "height": 388,
        "id": "bca089a7-d85a-40ad-b33d-6a5318076c6e"
      },
      "outputs": [],
      "source": [
        "def get_stock_prices(stock_symbols, start_date, end_date):\n",
        "    \"\"\"Get the stock prices for the given stock symbols between\n",
        "    the start and end dates.\n",
        "\n",
        "    Args:\n",
        "        stock_symbols (str or list): The stock symbols to get the\n",
        "        prices for.\n",
        "        start_date (str): The start date in the format\n",
        "        'YYYY-MM-DD'.\n",
        "        end_date (str): The end date in the format 'YYYY-MM-DD'.\n",
        "\n",
        "    Returns:\n",
        "        pandas.DataFrame: The stock prices for the given stock\n",
        "        symbols indexed by date, with one column per stock\n",
        "        symbol.\n",
        "    \"\"\"\n",
        "    import yfinance\n",
        "\n",
        "    stock_data = yfinance.download(\n",
        "        stock_symbols, start=start_date, end=end_date\n",
        "    )\n",
        "    return stock_data.get(\"Close\")"
      ]
    },
    {
      "cell_type": "code",
      "execution_count": null,
      "id": "5dff50a6-39ae-46a4-9b9c-e98c1550472b",
      "metadata": {
        "height": 337,
        "id": "5dff50a6-39ae-46a4-9b9c-e98c1550472b"
      },
      "outputs": [],
      "source": [
        "def plot_stock_prices(stock_prices, filename):\n",
        "    \"\"\"Plot the stock prices for the given stock symbols.\n",
        "\n",
        "    Args:\n",
        "        stock_prices (pandas.DataFrame): The stock prices for the\n",
        "        given stock symbols.\n",
        "    \"\"\"\n",
        "    import matplotlib.pyplot as plt\n",
        "\n",
        "    plt.figure(figsize=(10, 5))\n",
        "    for column in stock_prices.columns:\n",
        "        plt.plot(\n",
        "            stock_prices.index, stock_prices[column], label=column\n",
        "                )\n",
        "    plt.title(\"Stock Prices\")\n",
        "    plt.xlabel(\"Date\")\n",
        "    plt.ylabel(\"Price\")\n",
        "    plt.grid(True)\n",
        "    plt.savefig(filename)"
      ]
    },
    {
      "cell_type": "markdown",
      "source": [
        "### Define Agent"
      ],
      "metadata": {
        "id": "EO2GmaXdr3tf"
      },
      "id": "EO2GmaXdr3tf"
    },
    {
      "cell_type": "code",
      "source": [
        "from autogen import ConversableAgent, AssistantAgent"
      ],
      "metadata": {
        "id": "UHYyOEJhrjhX"
      },
      "id": "UHYyOEJhrjhX",
      "execution_count": null,
      "outputs": []
    },
    {
      "cell_type": "code",
      "source": [
        "code_writer_agent = AssistantAgent(\n",
        "    name=\"code_writer_agent\",\n",
        "    llm_config=llm_config,\n",
        "    code_execution_config=False,\n",
        "    human_input_mode=\"NEVER\",\n",
        ")"
      ],
      "metadata": {
        "id": "Rp4NgaSvrfJA"
      },
      "id": "Rp4NgaSvrfJA",
      "execution_count": null,
      "outputs": []
    },
    {
      "cell_type": "code",
      "source": [
        "code_writer_agent_system_message = code_writer_agent.system_message\n",
        "print(code_writer_agent_system_message)"
      ],
      "metadata": {
        "colab": {
          "base_uri": "https://localhost:8080/"
        },
        "id": "mP6kTzZrrtC3",
        "outputId": "441d4001-5286-4821-ffd7-e45d75f8471e"
      },
      "id": "mP6kTzZrrtC3",
      "execution_count": null,
      "outputs": [
        {
          "output_type": "stream",
          "name": "stdout",
          "text": [
            "You are a helpful AI assistant.\n",
            "Solve tasks using your coding and language skills.\n",
            "In the following cases, suggest python code (in a python coding block) or shell script (in a sh coding block) for the user to execute.\n",
            "    1. When you need to collect info, use the code to output the info you need, for example, browse or search the web, download/read a file, print the content of a webpage or a file, get the current date/time, check the operating system. After sufficient info is printed and the task is ready to be solved based on your language skill, you can solve the task by yourself.\n",
            "    2. When you need to perform some task with code, use the code to perform the task and output the result. Finish the task smartly.\n",
            "Solve the task step by step if you need to. If a plan is not provided, explain your plan first. Be clear which step uses code, and which step uses your language skill.\n",
            "When using code, you must indicate the script type in the code block. The user cannot provide any other feedback or perform any other action beyond executing the code you suggest. The user can't modify your code. So do not suggest incomplete code which requires users to modify. Don't use a code block if it's not intended to be executed by the user.\n",
            "If you want the user to save the code in a file before executing it, put # filename: <filename> inside the code block as the first line. Don't include multiple code blocks in one response. Do not ask users to copy and paste the result. Instead, use 'print' function for the output when relevant. Check the execution result returned by the user.\n",
            "If the result indicates there is an error, fix the error and output the code again. Suggest the full code instead of partial code or code changes. If the error can't be fixed or if the task is not solved even after the code is executed successfully, analyze the problem, revisit your assumption, collect additional info you need, and think of a different approach to try.\n",
            "When you find an answer, verify the answer carefully. Include verifiable evidence in your response if possible.\n",
            "Reply \"TERMINATE\" in the end when everything is done.\n",
            "    \n"
          ]
        }
      ]
    },
    {
      "cell_type": "markdown",
      "id": "63ff7175",
      "metadata": {
        "id": "63ff7175"
      },
      "source": [
        "### Create a new executor with the user-defined functions"
      ]
    },
    {
      "cell_type": "code",
      "execution_count": null,
      "id": "fb90a672-4318-47de-a061-384e68dd75c9",
      "metadata": {
        "height": 31,
        "id": "fb90a672-4318-47de-a061-384e68dd75c9"
      },
      "outputs": [],
      "source": [
        "from autogen.coding import LocalCommandLineCodeExecutor"
      ]
    },
    {
      "cell_type": "markdown",
      "id": "ccf49d7e",
      "metadata": {
        "id": "ccf49d7e"
      },
      "source": [
        "**Note**: The agent will automatically save the code in a .py file and the plot in a .png file. To access and check the files generated by the agents, go to the `File` menu and select `Open....` Then, open the folder named `coding` to find all the generated files."
      ]
    },
    {
      "cell_type": "code",
      "execution_count": null,
      "id": "452d315f-681d-4418-9cd0-653cc8d6a668",
      "metadata": {
        "height": 99,
        "id": "452d315f-681d-4418-9cd0-653cc8d6a668"
      },
      "outputs": [],
      "source": [
        "executor = LocalCommandLineCodeExecutor(\n",
        "    timeout=60,\n",
        "    work_dir=\"coding\",\n",
        "    functions=[get_stock_prices, plot_stock_prices],\n",
        ")"
      ]
    },
    {
      "cell_type": "code",
      "execution_count": null,
      "id": "b95b30ad-1e6d-4d88-9a6c-2b0f11b625e4",
      "metadata": {
        "height": 48,
        "id": "b95b30ad-1e6d-4d88-9a6c-2b0f11b625e4",
        "colab": {
          "base_uri": "https://localhost:8080/"
        },
        "outputId": "fd8ee806-dbd4-424c-ff70-36081402f63b"
      },
      "outputs": [
        {
          "output_type": "stream",
          "name": "stdout",
          "text": [
            "You are a helpful AI assistant.\n",
            "Solve tasks using your coding and language skills.\n",
            "In the following cases, suggest python code (in a python coding block) or shell script (in a sh coding block) for the user to execute.\n",
            "    1. When you need to collect info, use the code to output the info you need, for example, browse or search the web, download/read a file, print the content of a webpage or a file, get the current date/time, check the operating system. After sufficient info is printed and the task is ready to be solved based on your language skill, you can solve the task by yourself.\n",
            "    2. When you need to perform some task with code, use the code to perform the task and output the result. Finish the task smartly.\n",
            "Solve the task step by step if you need to. If a plan is not provided, explain your plan first. Be clear which step uses code, and which step uses your language skill.\n",
            "When using code, you must indicate the script type in the code block. The user cannot provide any other feedback or perform any other action beyond executing the code you suggest. The user can't modify your code. So do not suggest incomplete code which requires users to modify. Don't use a code block if it's not intended to be executed by the user.\n",
            "If you want the user to save the code in a file before executing it, put # filename: <filename> inside the code block as the first line. Don't include multiple code blocks in one response. Do not ask users to copy and paste the result. Instead, use 'print' function for the output when relevant. Check the execution result returned by the user.\n",
            "If the result indicates there is an error, fix the error and output the code again. Suggest the full code instead of partial code or code changes. If the error can't be fixed or if the task is not solved even after the code is executed successfully, analyze the problem, revisit your assumption, collect additional info you need, and think of a different approach to try.\n",
            "When you find an answer, verify the answer carefully. Include verifiable evidence in your response if possible.\n",
            "Reply \"TERMINATE\" in the end when everything is done.\n",
            "    You have access to the following user defined functions. They can be accessed from the module called `functions` by their function names.\n",
            "\n",
            "For example, if there was a function called `foo` you could import it by writing `from functions import foo`\n",
            "\n",
            "def get_stock_prices(stock_symbols, start_date, end_date):\n",
            "    \"\"\"Get the stock prices for the given stock symbols between\n",
            "        the start and end dates.\n",
            "\n",
            "        Args:\n",
            "            stock_symbols (str or list): The stock symbols to get the\n",
            "            prices for.\n",
            "            start_date (str): The start date in the format\n",
            "            'YYYY-MM-DD'.\n",
            "            end_date (str): The end date in the format 'YYYY-MM-DD'.\n",
            "\n",
            "        Returns:\n",
            "            pandas.DataFrame: The stock prices for the given stock\n",
            "            symbols indexed by date, with one column per stock\n",
            "            symbol.\n",
            "    \"\"\"\n",
            "    ...\n",
            "\n",
            "def plot_stock_prices(stock_prices, filename):\n",
            "    \"\"\"Plot the stock prices for the given stock symbols.\n",
            "\n",
            "        Args:\n",
            "            stock_prices (pandas.DataFrame): The stock prices for the\n",
            "            given stock symbols.\n",
            "    \"\"\"\n",
            "    ...\n"
          ]
        }
      ],
      "source": [
        "code_writer_agent_system_message += executor.format_functions_for_prompt()\n",
        "print(code_writer_agent_system_message)"
      ]
    },
    {
      "cell_type": "markdown",
      "id": "64d3cc77",
      "metadata": {
        "id": "64d3cc77"
      },
      "source": [
        "### Let's update the agents with the new system message"
      ]
    },
    {
      "cell_type": "code",
      "source": [
        "code_writer_agent_system_message"
      ],
      "metadata": {
        "colab": {
          "base_uri": "https://localhost:8080/",
          "height": 255
        },
        "id": "I5tDQlrJM-AK",
        "outputId": "2ea13330-f58a-4679-c9be-0ef79fc092b2"
      },
      "id": "I5tDQlrJM-AK",
      "execution_count": null,
      "outputs": [
        {
          "output_type": "execute_result",
          "data": {
            "text/plain": [
              "'You are a helpful AI assistant.\\nSolve tasks using your coding and language skills.\\nIn the following cases, suggest python code (in a python coding block) or shell script (in a sh coding block) for the user to execute.\\n    1. When you need to collect info, use the code to output the info you need, for example, browse or search the web, download/read a file, print the content of a webpage or a file, get the current date/time, check the operating system. After sufficient info is printed and the task is ready to be solved based on your language skill, you can solve the task by yourself.\\n    2. When you need to perform some task with code, use the code to perform the task and output the result. Finish the task smartly.\\nSolve the task step by step if you need to. If a plan is not provided, explain your plan first. Be clear which step uses code, and which step uses your language skill.\\nWhen using code, you must indicate the script type in the code block. The user cannot provide any other feedback or perform any other action beyond executing the code you suggest. The user can\\'t modify your code. So do not suggest incomplete code which requires users to modify. Don\\'t use a code block if it\\'s not intended to be executed by the user.\\nIf you want the user to save the code in a file before executing it, put # filename: <filename> inside the code block as the first line. Don\\'t include multiple code blocks in one response. Do not ask users to copy and paste the result. Instead, use \\'print\\' function for the output when relevant. Check the execution result returned by the user.\\nIf the result indicates there is an error, fix the error and output the code again. Suggest the full code instead of partial code or code changes. If the error can\\'t be fixed or if the task is not solved even after the code is executed successfully, analyze the problem, revisit your assumption, collect additional info you need, and think of a different approach to try.\\nWhen you find an answer, verify the answer carefully. Include verifiable evidence in your response if possible.\\nReply \"TERMINATE\" in the end when everything is done.\\n    You have access to the following user defined functions. They can be accessed from the module called `functions` by their function names.\\n\\nFor example, if there was a function called `foo` you could import it by writing `from functions import foo`\\n\\ndef get_stock_prices(stock_symbols, start_date, end_date):\\n    \"\"\"Get the stock prices for the given stock symbols between\\n        the start and end dates.\\n\\n        Args:\\n            stock_symbols (str or list): The stock symbols to get the\\n            prices for.\\n            start_date (str): The start date in the format\\n            \\'YYYY-MM-DD\\'.\\n            end_date (str): The end date in the format \\'YYYY-MM-DD\\'.\\n\\n        Returns:\\n            pandas.DataFrame: The stock prices for the given stock\\n            symbols indexed by date, with one column per stock\\n            symbol.\\n    \"\"\"\\n    ...\\n\\ndef plot_stock_prices(stock_prices, filename):\\n    \"\"\"Plot the stock prices for the given stock symbols.\\n\\n        Args:\\n            stock_prices (pandas.DataFrame): The stock prices for the\\n            given stock symbols.\\n    \"\"\"\\n    ...'"
            ],
            "application/vnd.google.colaboratory.intrinsic+json": {
              "type": "string"
            }
          },
          "metadata": {},
          "execution_count": 12
        }
      ]
    },
    {
      "cell_type": "code",
      "execution_count": null,
      "id": "615c02b0-0175-442e-bed2-52bb35b8945c",
      "metadata": {
        "height": 133,
        "id": "615c02b0-0175-442e-bed2-52bb35b8945c"
      },
      "outputs": [],
      "source": [
        "code_writer_agent = ConversableAgent(\n",
        "    name=\"code_writer_agent\",\n",
        "    system_message=code_writer_agent_system_message,\n",
        "    llm_config=llm_config,\n",
        "    code_execution_config=False,\n",
        "    human_input_mode=\"NEVER\",\n",
        ")"
      ]
    },
    {
      "cell_type": "code",
      "source": [
        "executor.functions"
      ],
      "metadata": {
        "colab": {
          "base_uri": "https://localhost:8080/"
        },
        "id": "RoEkys7-NFuq",
        "outputId": "10852c09-960c-4295-e142-9d43132c792b"
      },
      "id": "RoEkys7-NFuq",
      "execution_count": null,
      "outputs": [
        {
          "output_type": "execute_result",
          "data": {
            "text/plain": [
              "[<function __main__.get_stock_prices(stock_symbols, start_date, end_date)>,\n",
              " <function __main__.plot_stock_prices(stock_prices, filename)>]"
            ]
          },
          "metadata": {},
          "execution_count": 14
        }
      ]
    },
    {
      "cell_type": "code",
      "execution_count": null,
      "id": "a9a725b0-9bb6-47e3-85df-27d9aadc9290",
      "metadata": {
        "height": 150,
        "id": "a9a725b0-9bb6-47e3-85df-27d9aadc9290"
      },
      "outputs": [],
      "source": [
        "code_executor_agent = ConversableAgent(\n",
        "    name=\"code_executor_agent\",\n",
        "    llm_config=False,\n",
        "    code_execution_config={\"executor\": executor},\n",
        "    human_input_mode=\"NEVER\",\n",
        "    default_auto_reply=\n",
        "    \"Please continue. If everything is done, reply 'TERMINATE'.\",\n",
        ")"
      ]
    },
    {
      "cell_type": "markdown",
      "id": "e8d7b57c",
      "metadata": {
        "id": "e8d7b57c"
      },
      "source": [
        "### Start the same task again!"
      ]
    },
    {
      "cell_type": "code",
      "source": [
        "import datetime\n",
        "\n",
        "today = datetime.datetime.now().date()\n",
        "print(today)"
      ],
      "metadata": {
        "colab": {
          "base_uri": "https://localhost:8080/"
        },
        "id": "iprtfklTsE9n",
        "outputId": "a87b737e-adf2-4115-b345-93423cb86c38"
      },
      "id": "iprtfklTsE9n",
      "execution_count": null,
      "outputs": [
        {
          "output_type": "stream",
          "name": "stdout",
          "text": [
            "2024-06-13\n"
          ]
        }
      ]
    },
    {
      "cell_type": "code",
      "execution_count": null,
      "id": "8895bb51-bcdd-4f63-a49f-858fc25c474f",
      "metadata": {
        "height": 133,
        "id": "8895bb51-bcdd-4f63-a49f-858fc25c474f",
        "colab": {
          "base_uri": "https://localhost:8080/"
        },
        "outputId": "b2ba92d4-fe37-4380-b900-12712538125a"
      },
      "outputs": [
        {
          "output_type": "stream",
          "name": "stdout",
          "text": [
            "code_executor_agent (to code_writer_agent):\n",
            "\n",
            "Today is 2024-06-13.Download the stock prices YTD for NVDA and TSLA and createa plot. Make sure the code is in markdown code block and save the figure to a file stock_prices_YTD_plot.png.\n",
            "\n",
            "--------------------------------------------------------------------------------\n",
            "code_writer_agent (to code_executor_agent):\n",
            "\n",
            "To solve this task, I will provide you with a Python code snippet that you can execute to download the year-to-date stock prices for NVDA and TSLa, and create a plot of those prices. The plot will be saved to a file named `stock_prices_YTD_plot.png`.\n",
            "\n",
            "Here's the plan:\n",
            "1. Import necessary functions and libraries.\n",
            "2. Define the start and end date for the year-to-date period.\n",
            "3. Download the stock prices for NVDA and TSLA using these dates.\n",
            "4. Plot the stock prices and save the plot to a file.\n",
            "\n",
            "Please run the following Python code in your environment:\n",
            "\n",
            "```python\n",
            "# filename: stock_price_plot.py\n",
            "from functions import get_stock_points, plot_stock_points\n",
            "import datetime\n",
            "import pandas as pd\n",
            "\n",
            "# Set the dates for Year-To-Date (YTD) period\n",
            "today = datetime.date.today()\n",
            "start_of_year = datetime.date(today.year, 1, 1)\n",
            "\n",
            "# Get the stock price data\n",
            "stock_symbols = [\"NVDA\", \"TSLA\"]\n",
            "stock_prices = get_stock_points(stock_symbols, start_of_year.strftime('%Y-%m-%d'), today.strftime('%Y-%m-%d'))\n",
            "\n",
            "# Plot the stock prices and save to a file\n",
            "plot_stock_points(stock_prices, \"stock_prices_YTD_plot.png\")\n",
            "print(\"Plot has been saved as 'stock_prices_YTD_plot.png'\")\n",
            "```\n",
            "\n",
            "This script fetches the data and generates a plot, saving the output to the specified PNG file. Please execute the script and ensure that the file is saved successfully.\n",
            "\n",
            "--------------------------------------------------------------------------------\n",
            "\n",
            ">>>>>>>> EXECUTING CODE BLOCK (inferred language is python)...\n",
            "code_executor_agent (to code_writer_agent):\n",
            "\n",
            "exitcode: 1 (execution failed)\n",
            "Code output: Traceback (most recent call last):\n",
            "  File \"/content/coding/stock_price_plot.py\", line 2, in <module>\n",
            "    from functions import get_stock_points, plot_stock_points\n",
            "ImportError: cannot import name 'get_stock_points' from 'functions' (/content/coding/functions.py)\n",
            "\n",
            "\n",
            "--------------------------------------------------------------------------------\n",
            "code_writer_agent (to code_executor_agent):\n",
            "\n",
            "It appears there was an error in importing the functions since they were incorrectly named. Let's use the correct function names as listed: `get_stock_prices` and `plot_stock_prices`.\n",
            "\n",
            "I will adjust the code to reference the correct function names and provide you with the correct Python code to execute again:\n",
            "\n",
            "```python\n",
            "# filename: stock_price_plot.py\n",
            "from functions import get_stock_prices, plot_stock_prices\n",
            "import datetime\n",
            "import pandas as pd\n",
            "\n",
            "# Set the dates for Year-To-Date (YTD) period\n",
            "today = datetime.date.today()\n",
            "start_of_year = datetime.date(today.year, 1, 1)\n",
            "\n",
            "# Get the stock price data\n",
            "stock_symbols = [\"NVDA\", \"TSLA\"]\n",
            "stock_prices = get_stock_prices(stock_symbols, start_of_year.strftime('%Y-%m-%d'), today.strftime('%Y-%m-%d'))\n",
            "\n",
            "# Plot the stock prices and save to a file\n",
            "plot_stock_prices(stock_prices, \"stock_prices_YTD_plot.png\")\n",
            "print(\"Plot has been saved as 'stock_prices_YTD_plot.png'\")\n",
            "```\n",
            "\n",
            "Please execute this corrected code to download the stock prices YTD for NVDA and TSLA, and to create and save the plot file as 'stock_prices_YTD_plot.png'.\n",
            "\n",
            "--------------------------------------------------------------------------------\n",
            "\n",
            ">>>>>>>> EXECUTING CODE BLOCK (inferred language is python)...\n",
            "code_executor_agent (to code_writer_agent):\n",
            "\n",
            "exitcode: 0 (execution succeeded)\n",
            "Code output: \n",
            "[                       0%%                      ]Failed to get ticker 'TSLA' reason: HTTPSConnectionPool(host='query2.finance.yahoo.com', port=443): Read timed out. (read timeout=10)\n",
            "\n",
            "[*********************100%%**********************]  2 of 2 completed\n",
            "\n",
            "2 Failed downloads:\n",
            "['NVDA']: OperationalError('database is locked')\n",
            "['TSLA']: YFTzMissingError('$%ticker%: possibly delisted; No timezone found')\n",
            "Plot has been saved as 'stock_prices_YTD_plot.png'\n",
            "\n",
            "\n",
            "--------------------------------------------------------------------------------\n",
            "code_writer_agent (to code_executor_agent):\n",
            "\n",
            "It seems that there were issues fetching the stock data for both 'NVDA' and 'TSLA'. The error messages indicate an API timeout for 'TSLA' and a local database lock for 'NVDA'. Unfortunately, these errors prevented the valid downloading and plotting of the stock data. \n",
            "\n",
            "To troubleshoot this, our options include:\n",
            "1. Retry the operation, possibly at a different time or in a more stable network environment.\n",
            "2. Use an alternative source or method for fetching the stock data if persistent issues occur with the current method.\n",
            "\n",
            "I will provide you the code to attempt the operation again. Make sure the local environment supports these network operations, and no external factors are influencing database operations.\n",
            "\n",
            "Here is the code to retry fetching the stock prices and plotting them again. Execute this code when you believe the conditions are optimal for a retry (easily during business hours when markets are open, and no database operation is ongoing):\n",
            "\n",
            "```python\n",
            "# filename: stock_price_plot_retry.py\n",
            "from functions import get_stock_prices, plot_stock_prices\n",
            "import datetime\n",
            "import pandas as.sql\n",
            "\n",
            "# Set the dates for Year-To-Date (YTD) period\n",
            "today = datetime.date.today()\n",
            "start_of_year = datetime.date(today.year, 1, 1)\n",
            "\n",
            "# Attempt to get the stock price data again\n",
            "stock_symbols = [\"NVDA\", \"TSLA\"]\n",
            "stock_prices = get_stock_prices(stock_symbols, start_of_year.strftime('%Y-%m-%d'), today.strftime('%Y-%m-%d'))\n",
            "\n",
            "# Attempt to plot the stock prices and save to a file\n",
            "plot_stock_prices(stock_prices, \"stock_prices_YTD_plot.png\")\n",
            "print(\"Plot has been retried and saved as 'stock_prices_YTD_plot.png'\")\n",
            "```\n",
            "\n",
            "Please execute the above script at an appropriate time and ensure it runs successfully.\n",
            "\n",
            "--------------------------------------------------------------------------------\n",
            "\n",
            ">>>>>>>> EXECUTING CODE BLOCK (inferred language is python)...\n",
            "code_executor_agent (to code_writer_agent):\n",
            "\n",
            "exitcode: 1 (execution failed)\n",
            "Code output:   File \"/content/coding/stock_price_plot_retry.py\", line 4\n",
            "    import pandas as.sql\n",
            "                    ^\n",
            "SyntaxError: invalid syntax\n",
            "\n",
            "\n",
            "--------------------------------------------------------------------------------\n",
            "code_writer_agent (to code_executor_agent):\n",
            "\n",
            "Apologies for the typographical error in the import statement for the `pandas` library. Let's correct that syntax mistake and provide you with the corrected Python code.\n",
            "\n",
            "Here's the updated code:\n",
            "\n",
            "```python\n",
            "# filename: stock_price_plot_retry.py\n",
            "from functions import get_stock_prices, plot_stock_prices\n",
            "import datetime\n",
            "import pandas as pd\n",
            "\n",
            "# Set the dates for Year-To-Date (YTD) period\n",
            "today = datetime.date.today()\n",
            "start_of_year = datetime.date(today.year, 1, 1)\n",
            "\n",
            "# Attempt to get the stock price data again\n",
            "stock_symbols = [\"NVDA\", \"TSLA\"]\n",
            "stock_prices = get_stock_prices(stock_symbols, start_of_year.strftime('%Y-%m-%d'), today.strftime('%Y-%m-%d'))\n",
            "\n",
            "# Attempt to plot the stock prices and save to a file\n",
            "plot_stock_prices(stock_prices, \"stock_prices_YTD_plot.png\")\n",
            "print(\"Plot has been retried and saved as 'stock_prices_YTD_plot.png'\")\n",
            "```\n",
            "\n",
            "Please run this corrected script to attempt the stock price download and plotting again under better conditions.\n",
            "\n",
            "--------------------------------------------------------------------------------\n",
            "\n",
            ">>>>>>>> EXECUTING CODE BLOCK (inferred language is python)...\n",
            "code_executor_agent (to code_writer_agent):\n",
            "\n",
            "exitcode: 0 (execution succeeded)\n",
            "Code output: \n",
            "[                       0%%                      ]\n",
            "[*********************100%%**********************]  2 of 2 completed\n",
            "Plot has been retried and saved as 'stock_prices_YTD_plot.png'\n",
            "\n",
            "\n",
            "--------------------------------------------------------------------------------\n",
            "code_writer_agent (to code_executor_agent):\n",
            "\n",
            "Great! The script executed successfully, and the data was fetched and plotted correctly this time. The plot has been saved as 'stock_prices_YTD_plot.png'. You should now have the desired plot file for the Year-To-Date stock prices of NVDA and TSLA.\n",
            "\n",
            "If there's anything else you need help with or any additional analyses on the stock data you'd like to perform, feel free to ask. Otherwise, it seems we've completed the given task successfully.\n",
            "\n",
            "TERMINATE\n",
            "\n",
            "--------------------------------------------------------------------------------\n",
            "code_executor_agent (to code_writer_agent):\n",
            "\n",
            "Please continue. If everything is done, reply 'TERMINATE'.\n",
            "\n",
            "--------------------------------------------------------------------------------\n",
            "code_writer_agent (to code_executor_agent):\n",
            "\n",
            "TERMINATE\n",
            "\n",
            "--------------------------------------------------------------------------------\n"
          ]
        }
      ],
      "source": [
        "chat_result = code_executor_agent.initiate_chat(\n",
        "    code_writer_agent,\n",
        "    message=f\"Today is {today}.\"\n",
        "    \"Download the stock prices YTD for NVDA and TSLA and create\"\n",
        "    \"a plot. Make sure the code is in markdown code block and \"\n",
        "    \"save the figure to a file stock_prices_YTD_plot.png.\",\n",
        ")"
      ]
    },
    {
      "cell_type": "markdown",
      "id": "3c4bb718",
      "metadata": {
        "id": "3c4bb718"
      },
      "source": [
        "### Plot the results"
      ]
    },
    {
      "cell_type": "code",
      "source": [
        "import os\n",
        "from IPython.display import Image"
      ],
      "metadata": {
        "id": "mTCz0iaqsd83"
      },
      "id": "mTCz0iaqsd83",
      "execution_count": null,
      "outputs": []
    },
    {
      "cell_type": "code",
      "execution_count": null,
      "id": "a930c007-dd56-4da6-b542-902312ed27dd",
      "metadata": {
        "height": 31,
        "id": "a930c007-dd56-4da6-b542-902312ed27dd",
        "colab": {
          "base_uri": "https://localhost:8080/",
          "height": 537
        },
        "outputId": "3c8b3064-47ec-44a9-f8c3-cac03196d58d"
      },
      "outputs": [
        {
          "output_type": "execute_result",
          "data": {
            "image/png": "[encoded data removed]",
            "text/plain": [
              "<IPython.core.display.Image object>"
            ]
          },
          "metadata": {},
          "execution_count": 19
        }
      ],
      "source": [
        "Image(os.path.join(\"coding\", \"stock_prices_YTD_plot.png\"))"
      ]
    },
    {
      "cell_type": "markdown",
      "id": "c65bac5e",
      "metadata": {
        "id": "c65bac5e"
      },
      "source": [
        "**Note**: The agent will automatically save the code in a .py file and the plot in a .png file. To access and check the files generated by the agents, go to the `File` menu and select `Open....` Then, open the folder named `coding` to find all the generated files."
      ]
    },
    {
      "cell_type": "markdown",
      "source": [
        "## Execute as `run.py` Script\n",
        "\n",
        "```py\n",
        "import yfinance\n",
        "import matplotlib.pyplot as plt\n",
        "from autogen import ConversableAgent, AssistantAgent\n",
        "from autogen.coding import LocalCommandLineCodeExecutor\n",
        "import datetime\n",
        "import os\n",
        "\n",
        "\n",
        "from google.colab import userdata\n",
        "api_key = \"sk-xxx\"\n",
        "\n",
        "\n",
        "# Define functions\n",
        "def get_stock_prices(stock_symbols, start_date, end_date):\n",
        "    \"\"\"Get the stock prices for the given stock symbols between\n",
        "    the start and end dates.\n",
        "\n",
        "    Args:\n",
        "        stock_symbols (str or list): The stock symbols to get the\n",
        "        prices for.\n",
        "        start_date (str): The start date in the format\n",
        "        'YYYY-MM-DD'.\n",
        "        end_date (str): The end date in the format 'YYYY-MM-DD'.\n",
        "\n",
        "    Returns:\n",
        "        pandas.DataFrame: The stock prices for the given stock\n",
        "        symbols indexed by date, with one column per stock\n",
        "        symbol.\n",
        "    \"\"\"\n",
        "    import yfinance\n",
        "\n",
        "    stock_data = yfinance.download(\n",
        "        stock_symbols, start=start_date, end=end_date\n",
        "    )\n",
        "    return stock_data.get(\"Close\")\n",
        "\n",
        "def plot_stock_prices(stock_prices, filename):\n",
        "    \"\"\"Plot the stock prices for the given stock symbols.\n",
        "\n",
        "    Args:\n",
        "        stock_prices (pandas.DataFrame): The stock prices for the\n",
        "        given stock symbols.\n",
        "    \"\"\"\n",
        "    import matplotlib.pyplot as plt\n",
        "\n",
        "    plt.figure(figsize=(10, 5))\n",
        "    for column in stock_prices.columns:\n",
        "        plt.plot(\n",
        "            stock_prices.index, stock_prices[column], label=column\n",
        "                )\n",
        "    plt.title(\"Stock Prices\")\n",
        "    plt.xlabel(\"Date\")\n",
        "    plt.ylabel(\"Price\")\n",
        "    plt.grid(True)\n",
        "    plt.savefig(filename)\n",
        "\n",
        "# Setup agents\n",
        "llm_config = {\"model\": \"gpt-4-turbo\", \"api_key\": api_key} # Replace with your actual model configuration\n",
        "\n",
        "code_writer_agent = AssistantAgent(\n",
        "    name=\"code_writer_agent\",\n",
        "    llm_config=llm_config,\n",
        "    code_execution_config=False,\n",
        "    human_input_mode=\"NEVER\",\n",
        ")\n",
        "\n",
        "code_writer_agent_system_message = code_writer_agent.system_message\n",
        "\n",
        "executor = LocalCommandLineCodeExecutor(\n",
        "    timeout=60,\n",
        "    work_dir=\"coding\",\n",
        "    functions=[get_stock_prices, plot_stock_prices],\n",
        ")\n",
        "\n",
        "code_writer_agent_system_message += executor.format_functions_for_prompt()\n",
        "\n",
        "code_writer_agent = ConversableAgent(\n",
        "    name=\"code_writer_agent\",\n",
        "    system_message=code_writer_agent_system_message,\n",
        "    llm_config=llm_config,\n",
        "    code_execution_config=False,\n",
        "    human_input_mode=\"ALWAYS\",\n",
        ")\n",
        "\n",
        "code_executor_agent = ConversableAgent(\n",
        "    name=\"code_executor_agent\",\n",
        "    llm_config=False,\n",
        "    code_execution_config={\"executor\": executor},\n",
        "    human_input_mode=\"ALWAYS\",\n",
        "    default_auto_reply=\"Please continue. If everything is done, reply 'TERMINATE'.\",\n",
        ")\n",
        "\n",
        "# Get today's date\n",
        "today = datetime.datetime.now().date()\n",
        "print(today)\n",
        "\n",
        "# Initiate chat\n",
        "chat_result = code_executor_agent.initiate_chat(\n",
        "    code_writer_agent,\n",
        "    message=f\"Today is {today}. Download the stock prices YTD for NVDA and TSLA and create a plot. Make sure the code is in a markdown code block and save the figure to a file stock_prices_YTD_plot.png.\"\n",
        ")\n",
        "\n",
        "# Display the generated plot\n",
        "plot_path = os.path.join(\"coding\", \"stock_prices_YTD_plot.png\")\n",
        "if os.path.exists(plot_path):\n",
        "    from PIL import Image\n",
        "    img = Image.open(plot_path)\n",
        "    img.show()\n",
        "else:\n",
        "    print(\"Plot not found. Ensure the script has executed correctly and the file path is correct.\")\n",
        "\n",
        "```"
      ],
      "metadata": {
        "id": "qZvDE2q02Jw6"
      },
      "id": "qZvDE2q02Jw6"
    },
    {
      "cell_type": "code",
      "source": [],
      "metadata": {
        "id": "2lKxRdJ62NF3"
      },
      "id": "2lKxRdJ62NF3",
      "execution_count": null,
      "outputs": []
    }
  ],
  "metadata": {
    "kernelspec": {
      "display_name": "Python 3",
      "name": "python3"
    },
    "language_info": {
      "codemirror_mode": {
        "name": "ipython",
        "version": 3
      },
      "file_extension": ".py",
      "mimetype": "text/x-python",
      "name": "python",
      "nbconvert_exporter": "python",
      "pygments_lexer": "ipython3",
      "version": "3.11.9"
    },
    "colab": {
      "provenance": []
    }
  },
  "nbformat": 4,
  "nbformat_minor": 5
}