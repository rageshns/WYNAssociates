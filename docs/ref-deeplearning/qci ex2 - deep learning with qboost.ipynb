{
  "nbformat": 4,
  "nbformat_minor": 0,
  "metadata": {
    "colab": {
      "provenance": [],
      "toc_visible": true,
      "machine_shape": "hm",
      "gpuType": "T4"
    },
    "kernelspec": {
      "name": "python3",
      "display_name": "Python 3"
    },
    "language_info": {
      "name": "python"
    },
    "accelerator": "GPU"
  },
  "cells": [
    {
      "cell_type": "markdown",
      "source": [
        "## Introduction"
      ],
      "metadata": {
        "id": "xPbokkfOMgTM"
      }
    },
    {
      "cell_type": "markdown",
      "source": [
        "In addition to directly solving optimization, quadratic unconstrained binary optimization solvers like ours have machine learning applications. The specific application we demonstrate here is one known as boosting. Particularly we are demonstrating a variant of boosting that has been adapted to quadratic solvers known as QBoost. The underlying idea of boosting is to use many sources of imperfect information to build a strong prediction. In machine learning language, we find a collection of weak classifiers that together can form a strong classifier. A weighted combination of these sources of partial information can provide a powerful tool if combined in the right way. The task that the Dirac device will be doing is to find this combination. An obvious constraint is to include the classifiers that give the most accurate information, but there is another concern. We want ones that give complementary information. Statistically speaking, we want to take classifiers that have high correlations with the information that we want to classify, but have weak correlations between them. In the extreme case, two classifiers could give the exact same information, in which case including both is wasteful. However, avoiding waste isn't the only concern here. Including too many classifiers can also lead to overfitting if they capture spurious information specific to the training data, rather than information that will generalize well to unseen cases. In this tutorial, we show an implementation of QBoost and test it on a simple binary classification problem using the IRIS dataset."
      ],
      "metadata": {
        "id": "7s3YBih8MiOm"
      }
    },
    {
      "cell_type": "markdown",
      "source": [
        "## Importance\n",
        "\n",
        "An advantage of boosting is that once the strong classifier is built, it can be applied without having to re-solve the QUBO. As a result, the classifier can be applied in settings where access to Dirac is not available. As Dirac only gets used in the training phase, it also can be reused many times in the future. This simple application provides one example of many potential machine learning applications of our hardware.\n",
        "\n"
      ],
      "metadata": {
        "id": "6sNzjlJJMkQk"
      }
    },
    {
      "cell_type": "markdown",
      "source": [
        "## Application\n",
        "\n",
        "Classification, the task that QBoost performs, appears in a number of settings. A simple example of a classification problem that you are probably impacted by every day is email spam filtering. Here, the goal is to categorize email as \"spam\" or \"legitimate\", and it is relatively straightforward to see how the boosting approach can be applied. A variety of weak rules can be derived, (for example, a spam email is probably slightly more likely to contain the word \"money\"). These are of little use individually, but can be made into a powerful filter when combined through boosting. Disease diagnosis is also fundamentally a classification problem with a concrete example being the use of boosting to predict chronic kidney disease. The weak classifiers would come from patient medical history, such as whether they have other conditions or not, as well as other factors such as age. Also, boosting approaches can be applied to image recognition. This is done by using simple features (for example, a nose between two eyes represented by a lighter rectangle between two darker ones) as weak classifiers, and checking for combinations of them, as was done here for facial recognition."
      ],
      "metadata": {
        "id": "x9AnF55_MnPk"
      }
    },
    {
      "cell_type": "markdown",
      "source": [
        "## Methodology\n",
        "\n",
        "# Methodology\n",
        "\n",
        "The idea is based on the concept of boosting. Let us assume that we have a collection of $N$ *weak* classifiers $h_i$ where $i = 1, 2, \\ldots, N$. The goal is to construct a *strong* classifier as a linear superposition of these weak classifiers, that is:\n",
        "\n",
        "$$\n",
        "y = \\sum_{i=1}^N w_i \\, h_i(x)\n",
        "$$\n",
        "\n",
        "where $x$ is a vector of input features and $y \\in \\{-1, 1\\}$. The goal is to find $\\{w_i\\}$, the weights associated with the weak classifiers.\n",
        "\n",
        "Let us have a training set $\\{(x_s, y_s) \\mid s = 1, 2, \\ldots, S\\}$ of size $S$. We can determine optimal weights $w_i$ by minimizing:\n",
        "\n",
        "$$\n",
        "\\min_w \\sum_{s=1}^S \\Biggl[\\sum_{i=1}^N w_i \\, h_i(x_s) - y_s\\Biggr]^2\n",
        "\\;+\\; \\lambda \\sum_{i=1}^N (w_i)^0\n",
        "$$\n",
        "\n",
        "where the regularization term $\\lambda \\sum_{i=1}^N (w_i)^0$ penalizes non-zero weights; $\\lambda$ is the regularization coefficient. Re-arranging the above equation yields,\n",
        "\n",
        "$$\n",
        "\\min_w \\;\n",
        "\\frac{1}{N} \\sum_{i=1}^N \\sum_{j=1}^N w_i \\, w_j \\sum_{s=1}^S h_i(x_s)\\,h_j(x_s)\n",
        "\\;-\\; \\frac{2}{N}\\sum_{i=1}^N \\sum_{s=1}^S y_s \\, h_i(x_s) \\, w_i\n",
        "\\;+\\; \\lambda \\sum_{i=1}^N (w_i)^0\n",
        "$$\n",
        "\n",
        "where we assume that each weight $w_i$ is an integer. Each weight can be constructed using $D$ qubits as\n",
        "\n",
        "$$\n",
        "w_i\n",
        "= \\sum_{d=0}^{D-1} 2^d\\,x_{i,d}\n",
        "$$\n",
        "\n",
        "where $x_{i,d}$ are binary variables. Navin et al. ([arXiv:0811.0416](https://arxiv.org/abs/0811.0416)) reported that using $D = 1$ yields similar or improved generalized errors compared to $D > 1$. The regularization term $\\lambda \\sum_{i=1}^N (w_i)^0$ only works when $D = 1$, that is, when the weights are binary. The corresponding QUBO is then\n",
        "\n",
        "$$\n",
        "\\min_x \\; x^T (Q + P)\\, x\n",
        "$$\n",
        "\n",
        "where\n",
        "\n",
        "$$\n",
        "Q_{ij} = \\frac{1}{N} \\sum_{s=1}^S h_i(x_s)\\,h_j(x_s)\n",
        "$$\n",
        "\n",
        "and\n",
        "\n",
        "$$\n",
        "P_{ij}\n",
        "= \\delta_{ij} \\Bigl(\\lambda\n",
        "  - \\frac{2}{N} \\sum_{s=1}^S h_i(x_s)\\,y_s \\Bigr).\n",
        "$$\n",
        "\n",
        "Note that the regularization term is designed to push many weights to zero, so only a subset of the weak classifiers is chosen. In the implementation that follows, we have used decision tree classifiers based on one, two, or three of the features as the weak classifiers.\n"
      ],
      "metadata": {
        "id": "vtNo3vK-MsJp"
      }
    },
    {
      "cell_type": "markdown",
      "source": [
        "## Installation of `qci-client`"
      ],
      "metadata": {
        "id": "TaD5NI4C14mI"
      }
    },
    {
      "cell_type": "code",
      "source": [
        "! pip install --upgrade \"qci-client<5\""
      ],
      "metadata": {
        "colab": {
          "base_uri": "https://localhost:8080/"
        },
        "id": "l8cbfpMd73u2",
        "outputId": "d45ecba2-8273-4de9-dfa5-e70f129032bd"
      },
      "execution_count": null,
      "outputs": [
        {
          "output_type": "stream",
          "name": "stdout",
          "text": [
            "Collecting qci-client<5\n",
            "  Downloading qci_client-4.5.0-py3-none-any.whl.metadata (2.3 kB)\n",
            "Requirement already satisfied: requests<3,>=2.22.1 in /usr/local/lib/python3.10/dist-packages (from qci-client<5) (2.32.3)\n",
            "Collecting requests-futures<2,>=1.0.0 (from qci-client<5)\n",
            "  Downloading requests_futures-1.0.2-py2.py3-none-any.whl.metadata (12 kB)\n",
            "Collecting networkx<3,>=2.6.3 (from qci-client<5)\n",
            "  Downloading networkx-2.8.8-py3-none-any.whl.metadata (5.1 kB)\n",
            "Requirement already satisfied: numpy<2,>=1.21.1 in /usr/local/lib/python3.10/dist-packages (from qci-client<5) (1.26.4)\n",
            "Requirement already satisfied: scipy<2,>=1.7.3 in /usr/local/lib/python3.10/dist-packages (from qci-client<5) (1.13.1)\n",
            "Requirement already satisfied: charset-normalizer<4,>=2 in /usr/local/lib/python3.10/dist-packages (from requests<3,>=2.22.1->qci-client<5) (3.4.0)\n",
            "Requirement already satisfied: idna<4,>=2.5 in /usr/local/lib/python3.10/dist-packages (from requests<3,>=2.22.1->qci-client<5) (3.10)\n",
            "Requirement already satisfied: urllib3<3,>=1.21.1 in /usr/local/lib/python3.10/dist-packages (from requests<3,>=2.22.1->qci-client<5) (2.2.3)\n",
            "Requirement already satisfied: certifi>=2017.4.17 in /usr/local/lib/python3.10/dist-packages (from requests<3,>=2.22.1->qci-client<5) (2024.12.14)\n",
            "Downloading qci_client-4.5.0-py3-none-any.whl (35 kB)\n",
            "Downloading networkx-2.8.8-py3-none-any.whl (2.0 MB)\n",
            "\u001b[2K   \u001b[90m━━━━━━━━━━━━━━━━━━━━━━━━━━━━━━━━━━━━━━━━\u001b[0m \u001b[32m2.0/2.0 MB\u001b[0m \u001b[31m63.6 MB/s\u001b[0m eta \u001b[36m0:00:00\u001b[0m\n",
            "\u001b[?25hDownloading requests_futures-1.0.2-py2.py3-none-any.whl (7.7 kB)\n",
            "Installing collected packages: networkx, requests-futures, qci-client\n",
            "  Attempting uninstall: networkx\n",
            "    Found existing installation: networkx 3.4.2\n",
            "    Uninstalling networkx-3.4.2:\n",
            "      Successfully uninstalled networkx-3.4.2\n",
            "\u001b[31mERROR: pip's dependency resolver does not currently take into account all the packages that are installed. This behaviour is the source of the following dependency conflicts.\n",
            "nx-cugraph-cu12 24.10.0 requires networkx>=3.0, but you have networkx 2.8.8 which is incompatible.\n",
            "scikit-image 0.25.0 requires networkx>=3.0, but you have networkx 2.8.8 which is incompatible.\u001b[0m\u001b[31m\n",
            "\u001b[0mSuccessfully installed networkx-2.8.8 qci-client-4.5.0 requests-futures-1.0.2\n"
          ]
        }
      ]
    },
    {
      "cell_type": "markdown",
      "source": [
        "## Implementation QBoost Algorithm\n",
        "\n",
        "We have implemented the QBoost algorithm that was explained above as a class in Python.\n",
        "\n"
      ],
      "metadata": {
        "id": "RrGltR6hTlAN"
      }
    },
    {
      "cell_type": "code",
      "execution_count": null,
      "metadata": {
        "id": "v3Miujaw7Vd5"
      },
      "outputs": [],
      "source": [
        "from qci_client import QciClient\n",
        "token = \"xxx\"\n",
        "api_url = \"https://api.qci-prod.com\"\n",
        "qci = QciClient(api_token=token, url=api_url)"
      ]
    },
    {
      "cell_type": "code",
      "source": [
        "# Import libs\n",
        "import os\n",
        "import sys\n",
        "import time\n",
        "import datetime\n",
        "import json\n",
        "from functools import wraps\n",
        "import numpy as np\n",
        "import pandas as pd\n",
        "from scipy.optimize import minimize\n",
        "import matplotlib.pyplot as plt\n",
        "from sklearn.tree import DecisionTreeClassifier\n",
        "from sklearn.naive_bayes import GaussianNB\n",
        "from sklearn.ensemble import RandomForestClassifier\n",
        "from sklearn.linear_model import LogisticRegression\n",
        "from sklearn.gaussian_process import GaussianProcessClassifier\n",
        "from sklearn.gaussian_process.kernels import RBF\n",
        "from sklearn.metrics import (\n",
        "    confusion_matrix,\n",
        "    precision_score,\n",
        "    recall_score,\n",
        "    accuracy_score,\n",
        "    f1_score,\n",
        ")\n",
        "\n",
        "\n",
        "PLOT_FLAG = False\n",
        "\n",
        "\n",
        "def timer(func):\n",
        "    @wraps(func)\n",
        "    def wrapper(*args, **kwargs):\n",
        "        beg_time = time.time()\n",
        "        val = func(*args, **kwargs)\n",
        "        end_time = time.time()\n",
        "        tot_time = end_time - beg_time\n",
        "\n",
        "        print(\"Runtime of %s: %0.2f seconds!\" % (func.__name__, tot_time,))\n",
        "\n",
        "        return val\n",
        "\n",
        "    return wrapper\n",
        "\n",
        "\n",
        "from typing import List\n",
        "import numpy as np\n",
        "import tensorflow as tf\n",
        "from tensorflow.keras import Sequential\n",
        "from tensorflow.keras.layers import Dense\n",
        "\n",
        "\n",
        "class WeakClassifierMLP:\n",
        "    \"\"\"\n",
        "    A simple wrapper that uses a TensorFlow model on a chosen subset of features.\n",
        "    \"\"\"\n",
        "\n",
        "    def __init__(self, fea_ind_list: List[int], X_train: np.ndarray, y_train: np.ndarray) -> None:\n",
        "        \"\"\"\n",
        "        Initialize the weak classifier.\n",
        "\n",
        "        Parameters\n",
        "        ----------\n",
        "        fea_ind_list : List[int]\n",
        "            Indices of features to use for this classifier.\n",
        "        X_train : np.ndarray\n",
        "            Training data of shape (num_samples, num_features).\n",
        "        y_train : np.ndarray\n",
        "            Training labels of shape (num_samples,).\n",
        "        \"\"\"\n",
        "        # Validate the shapes\n",
        "        assert X_train.shape[0] == len(y_train), \\\n",
        "            \"X_train and y_train must have the same number of samples.\"\n",
        "\n",
        "        self.fea_ind_list = fea_ind_list\n",
        "        self.X_train = X_train\n",
        "        self.y_train = y_train\n",
        "\n",
        "        # Create a small TensorFlow model with 3 Dense layers to act as our \"weak\" learner.\n",
        "        # Adjust hidden layer sizes, activations, or optimizer settings as needed.\n",
        "        self.model = Sequential([\n",
        "            Dense(8, activation='relu'),   # First hidden layer\n",
        "            Dense(8, activation='relu'),   # Second hidden layer\n",
        "            Dense(1, activation='sigmoid') # Final output layer for binary classification\n",
        "        ])\n",
        "\n",
        "        self.model.compile(\n",
        "            loss='binary_crossentropy',\n",
        "            optimizer='adam',\n",
        "            metrics=['accuracy']\n",
        "        )\n",
        "\n",
        "    def train(self) -> None:\n",
        "        \"\"\"\n",
        "        Fit the TensorFlow model on the subset of features.\n",
        "        \"\"\"\n",
        "        # Slice X_train to keep only the chosen features\n",
        "        X_subset = self.X_train[:, self.fea_ind_list]\n",
        "\n",
        "        # Fit the classifier. For brevity, we use fewer epochs. Adjust as needed.\n",
        "        self.model.fit(\n",
        "            X_subset,\n",
        "            self.y_train,\n",
        "            epochs=10,       # Lower epoch count to keep it \"weak\"\n",
        "            batch_size=32,\n",
        "            verbose=0        # Suppress training output\n",
        "        )\n",
        "\n",
        "    def predict(self, X: np.ndarray) -> np.ndarray:\n",
        "        \"\"\"\n",
        "        Predict labels (+1/-1) for the given samples X.\n",
        "\n",
        "        Parameters\n",
        "        ----------\n",
        "        X : np.ndarray\n",
        "            Input data of shape (num_samples, num_features).\n",
        "\n",
        "        Returns\n",
        "        -------\n",
        "        np.ndarray\n",
        "            Array of predictions (+1 or -1) for each sample.\n",
        "        \"\"\"\n",
        "        # Keep only the chosen features\n",
        "        X_subset = X[:, self.fea_ind_list]\n",
        "\n",
        "        # Model outputs probabilities in [0, 1].\n",
        "        probs = self.model.predict(X_subset)\n",
        "\n",
        "        # Convert to {0,1} by thresholding at 0.5\n",
        "        raw_preds = (probs >= 0.5).astype(int).flatten()\n",
        "\n",
        "        # Convert predictions to {-1, +1} if necessary\n",
        "        unique_labels = np.unique(self.y_train)\n",
        "        if set(unique_labels) == {0, 1}:\n",
        "            # Convert 0 -> -1\n",
        "            converted_preds = np.where(raw_preds == 0, -1, 1)\n",
        "        else:\n",
        "            # If already in {-1, +1}, no conversion needed\n",
        "            converted_preds = raw_preds\n",
        "\n",
        "        return converted_preds\n",
        "\n",
        "\n",
        "class QBoost:\n",
        "    def __init__(\n",
        "        self,\n",
        "        lambda_coef,\n",
        "        num_eqc_samples=10,\n",
        "        alpha=1.0,\n",
        "        theta=0.0,\n",
        "        mode=\"dct\",\n",
        "    ):\n",
        "\n",
        "        self.lambda_coef = lambda_coef\n",
        "        self.num_eqc_samples = num_eqc_samples\n",
        "        self.alpha = alpha\n",
        "        self.theta = theta\n",
        "        self.mode = mode\n",
        "        self.weights = None\n",
        "        self.h_list = None\n",
        "\n",
        "\n",
        "    @timer\n",
        "    def _build_weak_classifiers_dct(self, X: np.ndarray, y: np.ndarray):\n",
        "        S = X.shape[0]\n",
        "        M = X.shape[1]\n",
        "        assert len(y) == S\n",
        "\n",
        "        h_list = []\n",
        "\n",
        "        # Single-feature classifiers\n",
        "        print('Single-feature classifiers')\n",
        "        for l in range(M):\n",
        "            weak_classifier = WeakClassifierMLP([l], X, y)\n",
        "            weak_classifier.train()\n",
        "            h_list.append(weak_classifier)\n",
        "            print('finished with l=', l)\n",
        "\n",
        "        # Pairs of features\n",
        "        print('Pairs of features')\n",
        "        for i in range(M):\n",
        "            for j in range(i + 1, M):\n",
        "                weak_classifier = WeakClassifierMLP([i, j], X, y)\n",
        "                weak_classifier.train()\n",
        "                h_list.append(weak_classifier)\n",
        "                print('finished with i=', i, 'j=', j)\n",
        "\n",
        "        # Triplets of features\n",
        "        # print('Triplets of features')\n",
        "        # for i in range(M):\n",
        "        #     for j in range(i + 1, M):\n",
        "        #         for k in range(j + 1, M):\n",
        "        #             weak_classifier = WeakClassifierMLP([i, j, k], X, y)\n",
        "        #             weak_classifier.train()\n",
        "        #             h_list.append(weak_classifier)\n",
        "        #             print('finished with i=', i, 'j=', j, 'k=', k)\n",
        "\n",
        "        return h_list\n",
        "\n",
        "    @timer\n",
        "    def _get_hamiltonian(self, X, y):\n",
        "\n",
        "        S = X.shape[0]\n",
        "        M = X.shape[1]\n",
        "\n",
        "        if self.mode == \"dct\":\n",
        "            h_list = self._build_weak_classifiers_dct(X, y)\n",
        "            print('h_list', h_list)\n",
        "        else:\n",
        "            assert False, \"Incorrect mode <%s>!\" % self.mode\n",
        "\n",
        "        self.h_list = h_list\n",
        "\n",
        "        N = len(h_list)\n",
        "        print(\"Number of weak classifiers:\", N)\n",
        "\n",
        "        Q = np.zeros(shape=(N, N), dtype=\"d\")\n",
        "        P = np.zeros(shape=(N, N), dtype=\"d\")\n",
        "\n",
        "        h_vals = np.array([h_list[i].predict(X) for i in range(N)])\n",
        "\n",
        "        assert h_vals.shape[0] == N\n",
        "        assert h_vals.shape[1] == S\n",
        "\n",
        "        for i in range(N):\n",
        "            P[i][i] = self.lambda_coef - (2.0 / N) * np.sum(h_vals[i] * y)\n",
        "            for j in range(N):\n",
        "                Q[i][j] = (1.0 / N ** 2) * np.sum(h_vals[i] * h_vals[j])\n",
        "\n",
        "        # Calculate the Hamiltonian\n",
        "        H = Q + P\n",
        "\n",
        "        # make sure H is symmetric up to machine precision\n",
        "        H = 0.5 * (H + H.transpose())\n",
        "\n",
        "        print(\"The size of the hamiltonian is %d by %d\" % (N, N))\n",
        "\n",
        "        return H\n",
        "\n",
        "    def set_weights(self, weights):\n",
        "        self.weights = weights\n",
        "\n",
        "    @timer\n",
        "    def train(self, X, y):\n",
        "\n",
        "        H = self._get_hamiltonian(X, y)\n",
        "\n",
        "        N = H.shape[0]\n",
        "\n",
        "        qubo_json = {\n",
        "            \"file_name\": \"qboost.json\",\n",
        "            \"file_config\": {\n",
        "                \"qubo\": {\"data\": H, \"num_variables\": N},\n",
        "            }\n",
        "        }\n",
        "\n",
        "        job_json = {\n",
        "            \"job_name\": \"qboost_classifier\",\n",
        "            \"job_tags\": [\"qboost\"],\n",
        "            \"params\": {\n",
        "                \"device_type\": \"eqc1\",\n",
        "                \"num_samples\": self.num_eqc_samples,\n",
        "                \"alpha\": self.alpha,\n",
        "            },\n",
        "        }\n",
        "\n",
        "        # Solve the optimization problem\n",
        "        #qci = QciClient()\n",
        "\n",
        "        response_json = qci.upload_file(file=qubo_json)\n",
        "        qubo_file_id = response_json[\"file_id\"]\n",
        "\n",
        "        # Setup job json\n",
        "        job_params = {\n",
        "            \"device_type\": \"dirac-1\",\n",
        "            \"alpha\": self.alpha,\n",
        "            \"num_samples\": self.num_eqc_samples,\n",
        "\n",
        "        }\n",
        "        job_json = qci.build_job_body(\n",
        "            job_type=\"sample-qubo\",\n",
        "            job_params=job_params,\n",
        "            qubo_file_id=qubo_file_id,\n",
        "            job_name=\"tutorial_eqc1\",\n",
        "            job_tags=[\"tutorial_eqc1\"],\n",
        "        )\n",
        "        print(job_json)\n",
        "\n",
        "        # Run the job\n",
        "        job_response_json = qci.process_job(\n",
        "            job_body=job_json,\n",
        "        )\n",
        "\n",
        "        print(job_response_json)\n",
        "\n",
        "        results = job_response_json[\"results\"]\n",
        "        energies = results[\"energies\"]\n",
        "        samples = results[\"solutions\"]\n",
        "\n",
        "        if True:\n",
        "            print(\"Energies:\", energies)\n",
        "\n",
        "        # The sample solutions are sorted by energy\n",
        "        sol = samples[0]\n",
        "\n",
        "        assert len(sol) == N, \"Inconsistent solution size!\"\n",
        "\n",
        "        self.weights = np.array(sol)\n",
        "\n",
        "        return\n",
        "\n",
        "    def predict(self, X):\n",
        "\n",
        "        assert self.weights is not None, \"Model is not trained!\"\n",
        "        assert self.h_list is not None, \"Model is not trained!\"\n",
        "\n",
        "        assert len(self.weights) == len(self.h_list), \"Inconsisent sizes!\"\n",
        "\n",
        "        N = len(self.weights)\n",
        "        tmp_vals = np.zeros(shape=(X.shape[0]), dtype=\"d\")\n",
        "\n",
        "        fct = sum(self.weights)\n",
        "        if fct > 0:\n",
        "            fct = 1.0 / fct\n",
        "\n",
        "        for i in range(N):\n",
        "            tmp_vals += self.weights[i] * self.h_list[i].predict(X)\n",
        "\n",
        "        tmp_vals = fct * tmp_vals\n",
        "\n",
        "        pred_vals = np.sign(tmp_vals - self.theta)\n",
        "\n",
        "        for i in range(len(pred_vals)):\n",
        "            if pred_vals[i] == 0:\n",
        "                pred_vals[i] = -1.0\n",
        "\n",
        "        return pred_vals\n",
        "\n",
        "    def save_weights(self, file_name):\n",
        "        np.save(file_name, self.weights)"
      ],
      "metadata": {
        "id": "jbdzyLqd7_hd"
      },
      "execution_count": null,
      "outputs": []
    },
    {
      "cell_type": "markdown",
      "source": [
        "## Acquire Data: Iris\n",
        "\n",
        "The above class can then be used to build a classifier using the IRIS dataset. We have used 80% of the data for training and the rest is used for testing."
      ],
      "metadata": {
        "id": "TM0X6VjjTqO_"
      }
    },
    {
      "cell_type": "code",
      "source": [
        "import sys\n",
        "from collections import Counter\n",
        "import numpy as np\n",
        "import pandas as pd\n",
        "from sklearn import datasets\n",
        "from sklearn.model_selection import train_test_split"
      ],
      "metadata": {
        "id": "vnwZ0QUQ8Gy6"
      },
      "execution_count": null,
      "outputs": []
    },
    {
      "cell_type": "code",
      "source": [
        "# Some parameters\n",
        "TEST_SIZE = 0.2\n",
        "LAMBDA_COEF = 1.0"
      ],
      "metadata": {
        "id": "X_xanCLn3LH9"
      },
      "execution_count": null,
      "outputs": []
    },
    {
      "cell_type": "code",
      "source": [
        "# Read dataset\n",
        "iris = datasets.load_iris()\n",
        "X = iris.data\n",
        "y = iris.target"
      ],
      "metadata": {
        "id": "JRrZndFS3PAv"
      },
      "execution_count": null,
      "outputs": []
    },
    {
      "cell_type": "code",
      "source": [
        "print(X.shape)\n",
        "print(y.shape)"
      ],
      "metadata": {
        "colab": {
          "base_uri": "https://localhost:8080/"
        },
        "id": "JtUQHThx8QAo",
        "outputId": "1cd2965b-2a23-4bc5-f8f5-f32dcde01a22"
      },
      "execution_count": null,
      "outputs": [
        {
          "output_type": "stream",
          "name": "stdout",
          "text": [
            "(150, 4)\n",
            "(150,)\n"
          ]
        }
      ]
    },
    {
      "cell_type": "markdown",
      "source": [
        "## Acquire Data: MNIST"
      ],
      "metadata": {
        "id": "ZC9TLJlxTsw-"
      }
    },
    {
      "cell_type": "code",
      "source": [
        "import numpy as np\n",
        "import tensorflow as tf\n",
        "\n",
        "class DataProcessor:\n",
        "    def __init__(self, patch_size: int = 2, output_dim: int = 128):\n",
        "        \"\"\"\n",
        "        Initializes the DataProcessor with a given patch size and output dimension.\n",
        "\n",
        "        Args:\n",
        "        patch_size (int): The size of the patches to be created.\n",
        "        output_dim (int): The dimensionality of the self-attention output.\n",
        "        \"\"\"\n",
        "        self.patch_size = patch_size\n",
        "        self.output_dim = output_dim\n",
        "\n",
        "    def normalize_data(self, data: np.ndarray) -> np.ndarray:\n",
        "        \"\"\"\n",
        "        Normalizes the data so that all values are between 0 and 1.\n",
        "\n",
        "        Args:\n",
        "        data (np.ndarray): Input image data.\n",
        "\n",
        "        Returns:\n",
        "        np.ndarray: Normalized data.\n",
        "        \"\"\"\n",
        "        return data.astype(np.float32) / 255.0\n",
        "\n",
        "    def generate_patches(self, data: np.ndarray) -> np.ndarray:\n",
        "        \"\"\"\n",
        "        Generates patches from the input data. If the image dimensions are not perfectly divisible by patch_size,\n",
        "        it will crop the image to the nearest size divisible by patch_size.\n",
        "\n",
        "        Args:\n",
        "        data (np.ndarray): Input image data of shape (N, H, W, C).\n",
        "\n",
        "        Returns:\n",
        "        np.ndarray: Patches of shape (N, num_patches, patch_size * patch_size * C).\n",
        "        \"\"\"\n",
        "        batch_size, height, width, channels = data.shape\n",
        "        crop_height = height - (height % self.patch_size)\n",
        "        crop_width = width - (width % self.patch_size)\n",
        "\n",
        "        # Crop the data to make dimensions divisible by patch_size\n",
        "        cropped_data = data[:, :crop_height, :crop_width, :]\n",
        "\n",
        "        num_patches = (crop_height // self.patch_size) * (crop_width // self.patch_size)\n",
        "        patches = np.zeros((batch_size, num_patches, self.patch_size * self.patch_size * channels))\n",
        "\n",
        "        patch_idx = 0\n",
        "        for i in range(0, crop_height, self.patch_size):\n",
        "            for j in range(0, crop_width, self.patch_size):\n",
        "                patch = cropped_data[:, i:i+self.patch_size, j:j+self.patch_size, :]\n",
        "                patches[:, patch_idx, :] = patch.reshape(batch_size, -1)\n",
        "                patch_idx += 1\n",
        "\n",
        "        return patches\n",
        "\n",
        "    def self_attention(self, patches: np.ndarray, batch_size: int = 1024) -> np.ndarray:\n",
        "        \"\"\"\n",
        "        Applies self-attention to the patches to produce an output vector, processing in smaller batches to reduce memory usage.\n",
        "\n",
        "        Args:\n",
        "        patches (np.ndarray): Patches of shape (N, num_patches, patch_dim).\n",
        "        batch_size (int): Number of samples to process in each batch.\n",
        "\n",
        "        Returns:\n",
        "        np.ndarray: Output vectors of shape (N, output_dim).\n",
        "        \"\"\"\n",
        "        num_samples, num_patches, patch_dim = patches.shape\n",
        "        attention_outputs = []\n",
        "\n",
        "        for start in range(0, num_samples, batch_size):\n",
        "            end = min(start + batch_size, num_samples)\n",
        "            batch_patches = patches[start:end]\n",
        "\n",
        "            # Use patches themselves for Query, Key, and Value\n",
        "            queries = batch_patches  # Shape: (batch_size, num_patches, patch_dim)\n",
        "            keys = batch_patches     # Shape: (batch_size, num_patches, patch_dim)\n",
        "            values = batch_patches   # Shape: (batch_size, num_patches, patch_dim)\n",
        "\n",
        "            # Compute attention scores\n",
        "            scores = np.matmul(queries, keys.transpose(0, 2, 1))  # Shape: (batch_size, num_patches, num_patches)\n",
        "            scores = scores / np.sqrt(patch_dim)                  # Scale scores\n",
        "\n",
        "            # Apply softmax to get attention weights\n",
        "            attention_weights = tf.nn.softmax(scores, axis=-1).numpy()  # Shape: (batch_size, num_patches, num_patches)\n",
        "\n",
        "            # Compute the weighted sum of values\n",
        "            weighted_sum = np.matmul(attention_weights, values)  # Shape: (batch_size, num_patches, patch_dim)\n",
        "\n",
        "            # Aggregate output across patches (e.g., mean pooling)\n",
        "            aggregated_output = np.mean(weighted_sum, axis=1)  # Shape: (batch_size, patch_dim)\n",
        "\n",
        "            # Append to results\n",
        "            attention_outputs.append(aggregated_output)\n",
        "\n",
        "        # Concatenate results for all batches\n",
        "        return np.vstack(attention_outputs)\n"
      ],
      "metadata": {
        "id": "FZYWgUDu8SRg"
      },
      "execution_count": null,
      "outputs": []
    },
    {
      "cell_type": "code",
      "source": [
        "%%time\n",
        "\n",
        "# Example Usage\n",
        "# Load MNIST data\n",
        "mnist = tf.keras.datasets.mnist\n",
        "(x_train, y_train), (x_test, y_test) = mnist.load_data()\n",
        "X = np.concatenate([x_train, x_test], axis=0)  # Combine training and test images\n",
        "y = np.concatenate([y_train, y_test], axis=0)  # Combine training and test labels\n",
        "\n",
        "# Add channel dimension to images (N, 28, 28, 1)\n",
        "X = np.expand_dims(X, axis=-1)\n",
        "\n",
        "# Initialize DataProcessor\n",
        "processor = DataProcessor(patch_size=3, output_dim=128)\n",
        "\n",
        "# Normalize data\n",
        "X_normalized = processor.normalize_data(X)\n",
        "\n",
        "# Generate patches\n",
        "patches = processor.generate_patches(X_normalized)\n",
        "\n",
        "# Apply self-attention mechanism\n",
        "attention_output = processor.self_attention(patches)\n",
        "\n",
        "# Check dimensions\n",
        "print(\"Original shape:\", X.shape)\n",
        "print(\"Patches shape:\", patches.shape)\n",
        "print(\"Attention output shape:\", attention_output.shape)"
      ],
      "metadata": {
        "colab": {
          "base_uri": "https://localhost:8080/"
        },
        "id": "AAa_UJnc8XwK",
        "outputId": "7004155e-2c6f-4cb4-dd2f-8cf6ed7b90ae"
      },
      "execution_count": null,
      "outputs": [
        {
          "output_type": "stream",
          "name": "stdout",
          "text": [
            "Original shape: (70000, 28, 28, 1)\n",
            "Patches shape: (70000, 81, 9)\n",
            "Attention output shape: (70000, 9)\n",
            "CPU times: user 7.19 s, sys: 7.07 s, total: 14.3 s\n",
            "Wall time: 14.2 s\n"
          ]
        }
      ]
    },
    {
      "cell_type": "code",
      "source": [
        "X_dagger = attention_output\n",
        "\n",
        "print(X.shape)\n",
        "print(X_dagger.shape)\n",
        "print(y.shape)"
      ],
      "metadata": {
        "colab": {
          "base_uri": "https://localhost:8080/"
        },
        "id": "bjBms3hz-qY2",
        "outputId": "020251ae-709f-4cc4-f47b-77f9cfd40eda"
      },
      "execution_count": null,
      "outputs": [
        {
          "output_type": "stream",
          "name": "stdout",
          "text": [
            "(70000, 28, 28, 1)\n",
            "(70000, 9)\n",
            "(70000,)\n"
          ]
        }
      ]
    },
    {
      "cell_type": "code",
      "source": [
        "y"
      ],
      "metadata": {
        "colab": {
          "base_uri": "https://localhost:8080/"
        },
        "id": "wzbdSuH6NF_t",
        "outputId": "e71a8cc7-df5b-484b-d4d1-915d000fbb10"
      },
      "execution_count": null,
      "outputs": [
        {
          "output_type": "execute_result",
          "data": {
            "text/plain": [
              "array([5, 0, 4, ..., 4, 5, 6], dtype=uint8)"
            ]
          },
          "metadata": {},
          "execution_count": 27
        }
      ]
    },
    {
      "cell_type": "code",
      "source": [
        "y = np.where(y == 6, -1, 1)"
      ],
      "metadata": {
        "id": "G9ixrXgW8PBs"
      },
      "execution_count": null,
      "outputs": []
    },
    {
      "cell_type": "markdown",
      "source": [
        "## Training: Calling `QBoost` Model"
      ],
      "metadata": {
        "id": "o2gGgZ1IidoH"
      }
    },
    {
      "cell_type": "code",
      "source": [
        "%%time\n",
        "\n",
        "X_train, X_test, y_train, y_test = train_test_split(\n",
        "    X_dagger, y, test_size=TEST_SIZE, random_state=42,\n",
        ")\n",
        "\n",
        "obj = QBoost(lambda_coef=LAMBDA_COEF, num_eqc_samples=10, alpha=1.0, mode=\"dct\")\n",
        "\n",
        "obj.train(X_train, y_train)\n",
        "\n",
        "y_train_prd = obj.predict(X_train)\n",
        "y_test_prd = obj.predict(X_test)"
      ],
      "metadata": {
        "id": "zG8J4aiJQaLl",
        "colab": {
          "base_uri": "https://localhost:8080/"
        },
        "outputId": "af6ec443-3da1-4b0f-fc9d-e700dd7425d2"
      },
      "execution_count": null,
      "outputs": [
        {
          "output_type": "stream",
          "name": "stdout",
          "text": [
            "Single-feature classifiers\n",
            "finished with l= 0\n",
            "finished with l= 1\n",
            "finished with l= 2\n",
            "finished with l= 3\n",
            "finished with l= 4\n",
            "finished with l= 5\n",
            "finished with l= 6\n",
            "finished with l= 7\n",
            "finished with l= 8\n",
            "Pairs of features\n",
            "finished with i= 0 j= 1\n",
            "finished with i= 0 j= 2\n",
            "finished with i= 0 j= 3\n",
            "finished with i= 0 j= 4\n",
            "finished with i= 0 j= 5\n",
            "finished with i= 0 j= 6\n",
            "finished with i= 0 j= 7\n",
            "finished with i= 0 j= 8\n",
            "finished with i= 1 j= 2\n",
            "finished with i= 1 j= 3\n",
            "finished with i= 1 j= 4\n",
            "finished with i= 1 j= 5\n",
            "finished with i= 1 j= 6\n",
            "finished with i= 1 j= 7\n",
            "finished with i= 1 j= 8\n",
            "finished with i= 2 j= 3\n",
            "finished with i= 2 j= 4\n",
            "finished with i= 2 j= 5\n",
            "finished with i= 2 j= 6\n",
            "finished with i= 2 j= 7\n",
            "finished with i= 2 j= 8\n",
            "finished with i= 3 j= 4\n",
            "finished with i= 3 j= 5\n",
            "finished with i= 3 j= 6\n",
            "finished with i= 3 j= 7\n",
            "finished with i= 3 j= 8\n",
            "finished with i= 4 j= 5\n",
            "finished with i= 4 j= 6\n",
            "finished with i= 4 j= 7\n",
            "finished with i= 4 j= 8\n",
            "finished with i= 5 j= 6\n",
            "finished with i= 5 j= 7\n",
            "finished with i= 5 j= 8\n",
            "finished with i= 6 j= 7\n",
            "finished with i= 6 j= 8\n",
            "finished with i= 7 j= 8\n",
            "Runtime of _build_weak_classifiers_dct: 1012.57 seconds!\n",
            "h_list [<__main__.WeakClassifierMLP object at 0x7dbef66cab30>, <__main__.WeakClassifierMLP object at 0x7dbef6266290>, <__main__.WeakClassifierMLP object at 0x7dbef4ec3790>, <__main__.WeakClassifierMLP object at 0x7dbed4511a20>, <__main__.WeakClassifierMLP object at 0x7dbed422b3d0>, <__main__.WeakClassifierMLP object at 0x7dbed41528c0>, <__main__.WeakClassifierMLP object at 0x7dbeb055e020>, <__main__.WeakClassifierMLP object at 0x7dbeb03e0370>, <__main__.WeakClassifierMLP object at 0x7dbe9054b5e0>, <__main__.WeakClassifierMLP object at 0x7dbe905b1570>, <__main__.WeakClassifierMLP object at 0x7dbe8bf3c730>, <__main__.WeakClassifierMLP object at 0x7dbe8bf9c550>, <__main__.WeakClassifierMLP object at 0x7dbe842ae7d0>, <__main__.WeakClassifierMLP object at 0x7dbeb06ccca0>, <__main__.WeakClassifierMLP object at 0x7dbe906ea650>, <__main__.WeakClassifierMLP object at 0x7dbe36d77d30>, <__main__.WeakClassifierMLP object at 0x7dbe36a74310>, <__main__.WeakClassifierMLP object at 0x7dbe905b0a90>, <__main__.WeakClassifierMLP object at 0x7dbe306eaf80>, <__main__.WeakClassifierMLP object at 0x7dbe34c9bcd0>, <__main__.WeakClassifierMLP object at 0x7dbe34eb12a0>, <__main__.WeakClassifierMLP object at 0x7dbe304333a0>, <__main__.WeakClassifierMLP object at 0x7dbe34abf400>, <__main__.WeakClassifierMLP object at 0x7dbe30151db0>, <__main__.WeakClassifierMLP object at 0x7dbe36845690>, <__main__.WeakClassifierMLP object at 0x7dbe29d030d0>, <__main__.WeakClassifierMLP object at 0x7dbe29b7caf0>, <__main__.WeakClassifierMLP object at 0x7dbe36904820>, <__main__.WeakClassifierMLP object at 0x7dbe36a744c0>, <__main__.WeakClassifierMLP object at 0x7dbe294ac580>, <__main__.WeakClassifierMLP object at 0x7dbe29e5af20>, <__main__.WeakClassifierMLP object at 0x7dbe29128040>, <__main__.WeakClassifierMLP object at 0x7dbe2840c4c0>, <__main__.WeakClassifierMLP object at 0x7dbe21f93670>, <__main__.WeakClassifierMLP object at 0x7dbe21f3e620>, <__main__.WeakClassifierMLP object at 0x7dbe291283a0>, <__main__.WeakClassifierMLP object at 0x7dbe373d9660>, <__main__.WeakClassifierMLP object at 0x7dbe371a48b0>, <__main__.WeakClassifierMLP object at 0x7dbe37c6b040>, <__main__.WeakClassifierMLP object at 0x7dbe37323340>, <__main__.WeakClassifierMLP object at 0x7dbe37742650>, <__main__.WeakClassifierMLP object at 0x7dbe21c2d0f0>, <__main__.WeakClassifierMLP object at 0x7dbe3784dab0>, <__main__.WeakClassifierMLP object at 0x7dbe219270a0>, <__main__.WeakClassifierMLP object at 0x7dbe21cd4580>]\n",
            "Number of weak classifiers: 45\n",
            "\u001b[1m1750/1750\u001b[0m \u001b[32m━━━━━━━━━━━━━━━━━━━━\u001b[0m\u001b[37m\u001b[0m \u001b[1m2s\u001b[0m 995us/step\n",
            "\u001b[1m1750/1750\u001b[0m \u001b[32m━━━━━━━━━━━━━━━━━━━━\u001b[0m\u001b[37m\u001b[0m \u001b[1m2s\u001b[0m 966us/step\n",
            "\u001b[1m1750/1750\u001b[0m \u001b[32m━━━━━━━━━━━━━━━━━━━━\u001b[0m\u001b[37m\u001b[0m \u001b[1m2s\u001b[0m 961us/step\n",
            "\u001b[1m1750/1750\u001b[0m \u001b[32m━━━━━━━━━━━━━━━━━━━━\u001b[0m\u001b[37m\u001b[0m \u001b[1m2s\u001b[0m 970us/step\n",
            "\u001b[1m1750/1750\u001b[0m \u001b[32m━━━━━━━━━━━━━━━━━━━━\u001b[0m\u001b[37m\u001b[0m \u001b[1m2s\u001b[0m 975us/step\n",
            "\u001b[1m1750/1750\u001b[0m \u001b[32m━━━━━━━━━━━━━━━━━━━━\u001b[0m\u001b[37m\u001b[0m \u001b[1m2s\u001b[0m 1ms/step\n",
            "\u001b[1m1750/1750\u001b[0m \u001b[32m━━━━━━━━━━━━━━━━━━━━\u001b[0m\u001b[37m\u001b[0m \u001b[1m2s\u001b[0m 951us/step\n",
            "\u001b[1m1750/1750\u001b[0m \u001b[32m━━━━━━━━━━━━━━━━━━━━\u001b[0m\u001b[37m\u001b[0m \u001b[1m2s\u001b[0m 988us/step\n",
            "\u001b[1m1750/1750\u001b[0m \u001b[32m━━━━━━━━━━━━━━━━━━━━\u001b[0m\u001b[37m\u001b[0m \u001b[1m2s\u001b[0m 975us/step\n",
            "\u001b[1m1750/1750\u001b[0m \u001b[32m━━━━━━━━━━━━━━━━━━━━\u001b[0m\u001b[37m\u001b[0m \u001b[1m2s\u001b[0m 977us/step\n",
            "\u001b[1m1750/1750\u001b[0m \u001b[32m━━━━━━━━━━━━━━━━━━━━\u001b[0m\u001b[37m\u001b[0m \u001b[1m2s\u001b[0m 1ms/step   \n",
            "\u001b[1m1750/1750\u001b[0m \u001b[32m━━━━━━━━━━━━━━━━━━━━\u001b[0m\u001b[37m\u001b[0m \u001b[1m2s\u001b[0m 968us/step\n",
            "\u001b[1m1750/1750\u001b[0m \u001b[32m━━━━━━━━━━━━━━━━━━━━\u001b[0m\u001b[37m\u001b[0m \u001b[1m2s\u001b[0m 970us/step\n",
            "\u001b[1m1750/1750\u001b[0m \u001b[32m━━━━━━━━━━━━━━━━━━━━\u001b[0m\u001b[37m\u001b[0m \u001b[1m2s\u001b[0m 976us/step\n",
            "\u001b[1m1750/1750\u001b[0m \u001b[32m━━━━━━━━━━━━━━━━━━━━\u001b[0m\u001b[37m\u001b[0m \u001b[1m2s\u001b[0m 1000us/step\n",
            "\u001b[1m1750/1750\u001b[0m \u001b[32m━━━━━━━━━━━━━━━━━━━━\u001b[0m\u001b[37m\u001b[0m \u001b[1m2s\u001b[0m 985us/step\n",
            "\u001b[1m1750/1750\u001b[0m \u001b[32m━━━━━━━━━━━━━━━━━━━━\u001b[0m\u001b[37m\u001b[0m \u001b[1m2s\u001b[0m 953us/step\n",
            "\u001b[1m1750/1750\u001b[0m \u001b[32m━━━━━━━━━━━━━━━━━━━━\u001b[0m\u001b[37m\u001b[0m \u001b[1m2s\u001b[0m 960us/step\n",
            "\u001b[1m1750/1750\u001b[0m \u001b[32m━━━━━━━━━━━━━━━━━━━━\u001b[0m\u001b[37m\u001b[0m \u001b[1m2s\u001b[0m 967us/step\n",
            "\u001b[1m1750/1750\u001b[0m \u001b[32m━━━━━━━━━━━━━━━━━━━━\u001b[0m\u001b[37m\u001b[0m \u001b[1m2s\u001b[0m 992us/step\n",
            "\u001b[1m1750/1750\u001b[0m \u001b[32m━━━━━━━━━━━━━━━━━━━━\u001b[0m\u001b[37m\u001b[0m \u001b[1m2s\u001b[0m 967us/step\n",
            "\u001b[1m1750/1750\u001b[0m \u001b[32m━━━━━━━━━━━━━━━━━━━━\u001b[0m\u001b[37m\u001b[0m \u001b[1m2s\u001b[0m 978us/step\n",
            "\u001b[1m1750/1750\u001b[0m \u001b[32m━━━━━━━━━━━━━━━━━━━━\u001b[0m\u001b[37m\u001b[0m \u001b[1m2s\u001b[0m 969us/step\n",
            "\u001b[1m1750/1750\u001b[0m \u001b[32m━━━━━━━━━━━━━━━━━━━━\u001b[0m\u001b[37m\u001b[0m \u001b[1m2s\u001b[0m 972us/step\n",
            "\u001b[1m1750/1750\u001b[0m \u001b[32m━━━━━━━━━━━━━━━━━━━━\u001b[0m\u001b[37m\u001b[0m \u001b[1m2s\u001b[0m 1ms/step\n",
            "\u001b[1m1750/1750\u001b[0m \u001b[32m━━━━━━━━━━━━━━━━━━━━\u001b[0m\u001b[37m\u001b[0m \u001b[1m2s\u001b[0m 933us/step\n",
            "\u001b[1m1750/1750\u001b[0m \u001b[32m━━━━━━━━━━━━━━━━━━━━\u001b[0m\u001b[37m\u001b[0m \u001b[1m2s\u001b[0m 938us/step\n",
            "\u001b[1m1750/1750\u001b[0m \u001b[32m━━━━━━━━━━━━━━━━━━━━\u001b[0m\u001b[37m\u001b[0m \u001b[1m2s\u001b[0m 952us/step\n",
            "\u001b[1m1750/1750\u001b[0m \u001b[32m━━━━━━━━━━━━━━━━━━━━\u001b[0m\u001b[37m\u001b[0m \u001b[1m2s\u001b[0m 954us/step\n",
            "\u001b[1m1750/1750\u001b[0m \u001b[32m━━━━━━━━━━━━━━━━━━━━\u001b[0m\u001b[37m\u001b[0m \u001b[1m2s\u001b[0m 997us/step\n",
            "\u001b[1m1750/1750\u001b[0m \u001b[32m━━━━━━━━━━━━━━━━━━━━\u001b[0m\u001b[37m\u001b[0m \u001b[1m2s\u001b[0m 981us/step\n",
            "\u001b[1m1750/1750\u001b[0m \u001b[32m━━━━━━━━━━━━━━━━━━━━\u001b[0m\u001b[37m\u001b[0m \u001b[1m2s\u001b[0m 964us/step\n",
            "\u001b[1m1750/1750\u001b[0m \u001b[32m━━━━━━━━━━━━━━━━━━━━\u001b[0m\u001b[37m\u001b[0m \u001b[1m2s\u001b[0m 970us/step\n",
            "\u001b[1m1750/1750\u001b[0m \u001b[32m━━━━━━━━━━━━━━━━━━━━\u001b[0m\u001b[37m\u001b[0m \u001b[1m2s\u001b[0m 968us/step\n",
            "\u001b[1m1750/1750\u001b[0m \u001b[32m━━━━━━━━━━━━━━━━━━━━\u001b[0m\u001b[37m\u001b[0m \u001b[1m2s\u001b[0m 996us/step\n",
            "\u001b[1m1750/1750\u001b[0m \u001b[32m━━━━━━━━━━━━━━━━━━━━\u001b[0m\u001b[37m\u001b[0m \u001b[1m2s\u001b[0m 963us/step\n",
            "\u001b[1m1750/1750\u001b[0m \u001b[32m━━━━━━━━━━━━━━━━━━━━\u001b[0m\u001b[37m\u001b[0m \u001b[1m2s\u001b[0m 967us/step\n",
            "\u001b[1m1750/1750\u001b[0m \u001b[32m━━━━━━━━━━━━━━━━━━━━\u001b[0m\u001b[37m\u001b[0m \u001b[1m2s\u001b[0m 968us/step\n",
            "\u001b[1m1750/1750\u001b[0m \u001b[32m━━━━━━━━━━━━━━━━━━━━\u001b[0m\u001b[37m\u001b[0m \u001b[1m2s\u001b[0m 999us/step\n",
            "\u001b[1m1750/1750\u001b[0m \u001b[32m━━━━━━━━━━━━━━━━━━━━\u001b[0m\u001b[37m\u001b[0m \u001b[1m2s\u001b[0m 999us/step\n",
            "\u001b[1m1750/1750\u001b[0m \u001b[32m━━━━━━━━━━━━━━━━━━━━\u001b[0m\u001b[37m\u001b[0m \u001b[1m2s\u001b[0m 962us/step\n",
            "\u001b[1m1750/1750\u001b[0m \u001b[32m━━━━━━━━━━━━━━━━━━━━\u001b[0m\u001b[37m\u001b[0m \u001b[1m2s\u001b[0m 965us/step\n",
            "\u001b[1m1750/1750\u001b[0m \u001b[32m━━━━━━━━━━━━━━━━━━━━\u001b[0m\u001b[37m\u001b[0m \u001b[1m2s\u001b[0m 979us/step\n",
            "\u001b[1m1750/1750\u001b[0m \u001b[32m━━━━━━━━━━━━━━━━━━━━\u001b[0m\u001b[37m\u001b[0m \u001b[1m2s\u001b[0m 1ms/step\n",
            "\u001b[1m1750/1750\u001b[0m \u001b[32m━━━━━━━━━━━━━━━━━━━━\u001b[0m\u001b[37m\u001b[0m \u001b[1m2s\u001b[0m 977us/step\n",
            "The size of the hamiltonian is 45 by 45\n",
            "Runtime of _get_hamiltonian: 1122.79 seconds!\n",
            "{'job_submission': {'problem_config': {'quadratic_unconstrained_binary_optimization': {'qubo_file_id': '676cc9b65e0855263227517e'}}, 'device_config': {'dirac-1': {'num_samples': 10}}, 'job_name': 'tutorial_eqc1', 'job_tags': ['tutorial_eqc1']}}\n",
            "2024-12-26 03:12:55 - Dirac allocation balance = 585 s\n",
            "2024-12-26 03:12:56 - Job submitted: job_id='676cc9b88dd54d8a9ea6050c'\n",
            "2024-12-26 03:12:56 - QUEUED\n",
            "2024-12-26 03:12:59 - RUNNING\n",
            "2024-12-26 03:15:13 - COMPLETED\n",
            "2024-12-26 03:15:16 - Dirac allocation balance = 581 s\n",
            "{'job_info': {'job_id': '676cc9b88dd54d8a9ea6050c', 'job_submission': {'job_name': 'tutorial_eqc1', 'job_tags': ['tutorial_eqc1'], 'problem_config': {'quadratic_unconstrained_binary_optimization': {'qubo_file_id': '676cc9b65e0855263227517e'}}, 'device_config': {'dirac-1': {'num_samples': 10}}}, 'job_status': {'submitted_at_rfc3339nano': '2024-12-26T03:12:56.103Z', 'queued_at_rfc3339nano': '2024-12-26T03:12:56.104Z', 'running_at_rfc3339nano': '2024-12-26T03:12:56.394Z', 'completed_at_rfc3339nano': '2024-12-26T03:15:12.166Z'}, 'job_result': {'file_id': '676cca405e08552632275180', 'device_usage_s': 4}}, 'status': 'COMPLETED', 'results': {'counts': [1, 1, 1, 1, 1, 1, 1, 1, 1, 1], 'energies': [-36188.000000000015, -36188.000000000015, -36188.000000000015, -36188.000000000015, -36188.000000000015, -36188.000000000015, -36188.000000000015, -36188.000000000015, -36188.000000000015, -36188.000000000015], 'solutions': [[0, 0, 1, 1, 0, 0, 1, 1, 0, 1, 0, 1, 0, 1, 1, 0, 1, 1, 1, 0, 1, 1, 1, 1, 1, 1, 1, 1, 1, 1, 1, 1, 1, 1, 1, 1, 1, 1, 1, 1, 1, 1, 1, 1, 1], [0, 0, 1, 1, 0, 1, 1, 0, 1, 0, 1, 1, 1, 0, 0, 0, 0, 1, 1, 1, 1, 1, 1, 1, 1, 1, 1, 1, 1, 1, 1, 1, 1, 1, 1, 1, 1, 1, 1, 1, 1, 1, 1, 1, 1], [0, 0, 1, 1, 1, 0, 0, 0, 0, 1, 1, 1, 0, 0, 1, 1, 1, 1, 1, 1, 1, 1, 1, 1, 1, 1, 1, 1, 1, 1, 1, 0, 1, 1, 1, 1, 1, 1, 1, 1, 1, 1, 1, 1, 1], [0, 1, 0, 1, 1, 1, 0, 1, 1, 0, 0, 0, 1, 0, 1, 0, 0, 1, 1, 1, 1, 1, 1, 1, 1, 1, 1, 1, 1, 1, 1, 1, 1, 1, 1, 1, 1, 1, 1, 1, 1, 1, 1, 1, 1], [0, 1, 1, 0, 0, 0, 1, 1, 0, 1, 1, 1, 1, 0, 0, 0, 0, 1, 1, 1, 1, 1, 1, 1, 1, 1, 1, 1, 1, 1, 1, 1, 1, 1, 1, 1, 1, 1, 1, 1, 1, 1, 1, 1, 1], [1, 0, 1, 1, 0, 1, 1, 0, 0, 1, 0, 0, 0, 1, 1, 1, 0, 0, 1, 1, 1, 1, 1, 1, 1, 1, 1, 1, 1, 1, 1, 1, 1, 1, 1, 1, 1, 1, 1, 1, 1, 1, 1, 1, 1], [1, 0, 1, 1, 1, 0, 0, 1, 0, 0, 1, 0, 0, 1, 1, 0, 1, 0, 1, 1, 1, 1, 1, 1, 1, 1, 1, 1, 1, 1, 1, 1, 1, 1, 1, 1, 1, 1, 1, 1, 1, 1, 1, 1, 1], [1, 1, 0, 0, 0, 1, 0, 1, 0, 0, 1, 0, 0, 1, 0, 1, 1, 1, 1, 1, 1, 1, 1, 1, 1, 1, 1, 1, 1, 1, 1, 1, 1, 1, 1, 1, 1, 1, 1, 1, 1, 1, 1, 1, 1], [1, 1, 0, 0, 0, 1, 0, 1, 1, 1, 0, 0, 0, 0, 1, 1, 1, 0, 1, 1, 1, 1, 1, 1, 1, 1, 1, 1, 1, 1, 1, 1, 1, 1, 1, 1, 1, 1, 1, 1, 1, 1, 1, 1, 1], [1, 1, 0, 0, 1, 1, 0, 1, 0, 0, 0, 0, 0, 1, 1, 1, 0, 1, 1, 1, 1, 1, 1, 1, 1, 1, 1, 1, 1, 1, 1, 1, 1, 1, 1, 1, 1, 1, 1, 1, 1, 1, 1, 1, 1]]}}\n",
            "Energies: [-36188.000000000015, -36188.000000000015, -36188.000000000015, -36188.000000000015, -36188.000000000015, -36188.000000000015, -36188.000000000015, -36188.000000000015, -36188.000000000015, -36188.000000000015]\n",
            "Runtime of train: 1266.33 seconds!\n",
            "\u001b[1m1750/1750\u001b[0m \u001b[32m━━━━━━━━━━━━━━━━━━━━\u001b[0m\u001b[37m\u001b[0m \u001b[1m2s\u001b[0m 973us/step\n",
            "\u001b[1m1750/1750\u001b[0m \u001b[32m━━━━━━━━━━━━━━━━━━━━\u001b[0m\u001b[37m\u001b[0m \u001b[1m2s\u001b[0m 1000us/step\n",
            "\u001b[1m1750/1750\u001b[0m \u001b[32m━━━━━━━━━━━━━━━━━━━━\u001b[0m\u001b[37m\u001b[0m \u001b[1m2s\u001b[0m 968us/step\n",
            "\u001b[1m1750/1750\u001b[0m \u001b[32m━━━━━━━━━━━━━━━━━━━━\u001b[0m\u001b[37m\u001b[0m \u001b[1m2s\u001b[0m 981us/step\n",
            "\u001b[1m1750/1750\u001b[0m \u001b[32m━━━━━━━━━━━━━━━━━━━━\u001b[0m\u001b[37m\u001b[0m \u001b[1m2s\u001b[0m 949us/step\n",
            "\u001b[1m1750/1750\u001b[0m \u001b[32m━━━━━━━━━━━━━━━━━━━━\u001b[0m\u001b[37m\u001b[0m \u001b[1m2s\u001b[0m 964us/step\n",
            "\u001b[1m1750/1750\u001b[0m \u001b[32m━━━━━━━━━━━━━━━━━━━━\u001b[0m\u001b[37m\u001b[0m \u001b[1m2s\u001b[0m 1ms/step\n",
            "\u001b[1m1750/1750\u001b[0m \u001b[32m━━━━━━━━━━━━━━━━━━━━\u001b[0m\u001b[37m\u001b[0m \u001b[1m2s\u001b[0m 954us/step\n",
            "\u001b[1m1750/1750\u001b[0m \u001b[32m━━━━━━━━━━━━━━━━━━━━\u001b[0m\u001b[37m\u001b[0m \u001b[1m2s\u001b[0m 974us/step\n",
            "\u001b[1m1750/1750\u001b[0m \u001b[32m━━━━━━━━━━━━━━━━━━━━\u001b[0m\u001b[37m\u001b[0m \u001b[1m2s\u001b[0m 985us/step\n",
            "\u001b[1m1750/1750\u001b[0m \u001b[32m━━━━━━━━━━━━━━━━━━━━\u001b[0m\u001b[37m\u001b[0m \u001b[1m2s\u001b[0m 961us/step\n",
            "\u001b[1m1750/1750\u001b[0m \u001b[32m━━━━━━━━━━━━━━━━━━━━\u001b[0m\u001b[37m\u001b[0m \u001b[1m2s\u001b[0m 1ms/step\n",
            "\u001b[1m1750/1750\u001b[0m \u001b[32m━━━━━━━━━━━━━━━━━━━━\u001b[0m\u001b[37m\u001b[0m \u001b[1m2s\u001b[0m 967us/step\n",
            "\u001b[1m1750/1750\u001b[0m \u001b[32m━━━━━━━━━━━━━━━━━━━━\u001b[0m\u001b[37m\u001b[0m \u001b[1m2s\u001b[0m 958us/step\n",
            "\u001b[1m1750/1750\u001b[0m \u001b[32m━━━━━━━━━━━━━━━━━━━━\u001b[0m\u001b[37m\u001b[0m \u001b[1m2s\u001b[0m 968us/step\n",
            "\u001b[1m1750/1750\u001b[0m \u001b[32m━━━━━━━━━━━━━━━━━━━━\u001b[0m\u001b[37m\u001b[0m \u001b[1m2s\u001b[0m 983us/step\n",
            "\u001b[1m1750/1750\u001b[0m \u001b[32m━━━━━━━━━━━━━━━━━━━━\u001b[0m\u001b[37m\u001b[0m \u001b[1m2s\u001b[0m 1ms/step\n",
            "\u001b[1m1750/1750\u001b[0m \u001b[32m━━━━━━━━━━━━━━━━━━━━\u001b[0m\u001b[37m\u001b[0m \u001b[1m2s\u001b[0m 989us/step\n",
            "\u001b[1m1750/1750\u001b[0m \u001b[32m━━━━━━━━━━━━━━━━━━━━\u001b[0m\u001b[37m\u001b[0m \u001b[1m2s\u001b[0m 959us/step\n",
            "\u001b[1m1750/1750\u001b[0m \u001b[32m━━━━━━━━━━━━━━━━━━━━\u001b[0m\u001b[37m\u001b[0m \u001b[1m2s\u001b[0m 964us/step\n",
            "\u001b[1m1750/1750\u001b[0m \u001b[32m━━━━━━━━━━━━━━━━━━━━\u001b[0m\u001b[37m\u001b[0m \u001b[1m2s\u001b[0m 965us/step\n",
            "\u001b[1m1750/1750\u001b[0m \u001b[32m━━━━━━━━━━━━━━━━━━━━\u001b[0m\u001b[37m\u001b[0m \u001b[1m2s\u001b[0m 984us/step\n",
            "\u001b[1m1750/1750\u001b[0m \u001b[32m━━━━━━━━━━━━━━━━━━━━\u001b[0m\u001b[37m\u001b[0m \u001b[1m2s\u001b[0m 934us/step\n",
            "\u001b[1m1750/1750\u001b[0m \u001b[32m━━━━━━━━━━━━━━━━━━━━\u001b[0m\u001b[37m\u001b[0m \u001b[1m2s\u001b[0m 943us/step\n",
            "\u001b[1m1750/1750\u001b[0m \u001b[32m━━━━━━━━━━━━━━━━━━━━\u001b[0m\u001b[37m\u001b[0m \u001b[1m2s\u001b[0m 949us/step\n",
            "\u001b[1m1750/1750\u001b[0m \u001b[32m━━━━━━━━━━━━━━━━━━━━\u001b[0m\u001b[37m\u001b[0m \u001b[1m2s\u001b[0m 978us/step\n",
            "\u001b[1m1750/1750\u001b[0m \u001b[32m━━━━━━━━━━━━━━━━━━━━\u001b[0m\u001b[37m\u001b[0m \u001b[1m2s\u001b[0m 1ms/step\n",
            "\u001b[1m1750/1750\u001b[0m \u001b[32m━━━━━━━━━━━━━━━━━━━━\u001b[0m\u001b[37m\u001b[0m \u001b[1m2s\u001b[0m 949us/step\n",
            "\u001b[1m1750/1750\u001b[0m \u001b[32m━━━━━━━━━━━━━━━━━━━━\u001b[0m\u001b[37m\u001b[0m \u001b[1m2s\u001b[0m 963us/step\n",
            "\u001b[1m1750/1750\u001b[0m \u001b[32m━━━━━━━━━━━━━━━━━━━━\u001b[0m\u001b[37m\u001b[0m \u001b[1m2s\u001b[0m 973us/step\n",
            "\u001b[1m1750/1750\u001b[0m \u001b[32m━━━━━━━━━━━━━━━━━━━━\u001b[0m\u001b[37m\u001b[0m \u001b[1m2s\u001b[0m 973us/step\n",
            "\u001b[1m1750/1750\u001b[0m \u001b[32m━━━━━━━━━━━━━━━━━━━━\u001b[0m\u001b[37m\u001b[0m \u001b[1m2s\u001b[0m 1ms/step\n",
            "\u001b[1m1750/1750\u001b[0m \u001b[32m━━━━━━━━━━━━━━━━━━━━\u001b[0m\u001b[37m\u001b[0m \u001b[1m2s\u001b[0m 976us/step\n",
            "\u001b[1m1750/1750\u001b[0m \u001b[32m━━━━━━━━━━━━━━━━━━━━\u001b[0m\u001b[37m\u001b[0m \u001b[1m2s\u001b[0m 965us/step\n",
            "\u001b[1m1750/1750\u001b[0m \u001b[32m━━━━━━━━━━━━━━━━━━━━\u001b[0m\u001b[37m\u001b[0m \u001b[1m2s\u001b[0m 975us/step\n",
            "\u001b[1m1750/1750\u001b[0m \u001b[32m━━━━━━━━━━━━━━━━━━━━\u001b[0m\u001b[37m\u001b[0m \u001b[1m2s\u001b[0m 978us/step\n",
            "\u001b[1m1750/1750\u001b[0m \u001b[32m━━━━━━━━━━━━━━━━━━━━\u001b[0m\u001b[37m\u001b[0m \u001b[1m2s\u001b[0m 1ms/step\n",
            "\u001b[1m1750/1750\u001b[0m \u001b[32m━━━━━━━━━━━━━━━━━━━━\u001b[0m\u001b[37m\u001b[0m \u001b[1m2s\u001b[0m 968us/step\n",
            "\u001b[1m1750/1750\u001b[0m \u001b[32m━━━━━━━━━━━━━━━━━━━━\u001b[0m\u001b[37m\u001b[0m \u001b[1m2s\u001b[0m 972us/step\n",
            "\u001b[1m1750/1750\u001b[0m \u001b[32m━━━━━━━━━━━━━━━━━━━━\u001b[0m\u001b[37m\u001b[0m \u001b[1m2s\u001b[0m 974us/step\n",
            "\u001b[1m1750/1750\u001b[0m \u001b[32m━━━━━━━━━━━━━━━━━━━━\u001b[0m\u001b[37m\u001b[0m \u001b[1m2s\u001b[0m 979us/step\n",
            "\u001b[1m1750/1750\u001b[0m \u001b[32m━━━━━━━━━━━━━━━━━━━━\u001b[0m\u001b[37m\u001b[0m \u001b[1m2s\u001b[0m 1ms/step\n",
            "\u001b[1m1750/1750\u001b[0m \u001b[32m━━━━━━━━━━━━━━━━━━━━\u001b[0m\u001b[37m\u001b[0m \u001b[1m2s\u001b[0m 975us/step\n",
            "\u001b[1m1750/1750\u001b[0m \u001b[32m━━━━━━━━━━━━━━━━━━━━\u001b[0m\u001b[37m\u001b[0m \u001b[1m2s\u001b[0m 966us/step\n",
            "\u001b[1m1750/1750\u001b[0m \u001b[32m━━━━━━━━━━━━━━━━━━━━\u001b[0m\u001b[37m\u001b[0m \u001b[1m2s\u001b[0m 965us/step\n",
            "\u001b[1m438/438\u001b[0m \u001b[32m━━━━━━━━━━━━━━━━━━━━\u001b[0m\u001b[37m\u001b[0m \u001b[1m1s\u001b[0m 1ms/step\n",
            "\u001b[1m438/438\u001b[0m \u001b[32m━━━━━━━━━━━━━━━━━━━━\u001b[0m\u001b[37m\u001b[0m \u001b[1m1s\u001b[0m 1ms/step\n",
            "\u001b[1m438/438\u001b[0m \u001b[32m━━━━━━━━━━━━━━━━━━━━\u001b[0m\u001b[37m\u001b[0m \u001b[1m1s\u001b[0m 1ms/step\n",
            "\u001b[1m438/438\u001b[0m \u001b[32m━━━━━━━━━━━━━━━━━━━━\u001b[0m\u001b[37m\u001b[0m \u001b[1m1s\u001b[0m 1ms/step\n",
            "\u001b[1m438/438\u001b[0m \u001b[32m━━━━━━━━━━━━━━━━━━━━\u001b[0m\u001b[37m\u001b[0m \u001b[1m1s\u001b[0m 1ms/step\n",
            "\u001b[1m438/438\u001b[0m \u001b[32m━━━━━━━━━━━━━━━━━━━━\u001b[0m\u001b[37m\u001b[0m \u001b[1m1s\u001b[0m 1ms/step\n",
            "\u001b[1m438/438\u001b[0m \u001b[32m━━━━━━━━━━━━━━━━━━━━\u001b[0m\u001b[37m\u001b[0m \u001b[1m1s\u001b[0m 1ms/step\n",
            "\u001b[1m438/438\u001b[0m \u001b[32m━━━━━━━━━━━━━━━━━━━━\u001b[0m\u001b[37m\u001b[0m \u001b[1m1s\u001b[0m 1ms/step\n",
            "\u001b[1m438/438\u001b[0m \u001b[32m━━━━━━━━━━━━━━━━━━━━\u001b[0m\u001b[37m\u001b[0m \u001b[1m1s\u001b[0m 1ms/step\n",
            "\u001b[1m438/438\u001b[0m \u001b[32m━━━━━━━━━━━━━━━━━━━━\u001b[0m\u001b[37m\u001b[0m \u001b[1m1s\u001b[0m 1ms/step\n",
            "\u001b[1m438/438\u001b[0m \u001b[32m━━━━━━━━━━━━━━━━━━━━\u001b[0m\u001b[37m\u001b[0m \u001b[1m1s\u001b[0m 1ms/step\n",
            "\u001b[1m438/438\u001b[0m \u001b[32m━━━━━━━━━━━━━━━━━━━━\u001b[0m\u001b[37m\u001b[0m \u001b[1m1s\u001b[0m 1ms/step\n",
            "\u001b[1m438/438\u001b[0m \u001b[32m━━━━━━━━━━━━━━━━━━━━\u001b[0m\u001b[37m\u001b[0m \u001b[1m1s\u001b[0m 1ms/step\n",
            "\u001b[1m438/438\u001b[0m \u001b[32m━━━━━━━━━━━━━━━━━━━━\u001b[0m\u001b[37m\u001b[0m \u001b[1m1s\u001b[0m 1ms/step\n",
            "\u001b[1m438/438\u001b[0m \u001b[32m━━━━━━━━━━━━━━━━━━━━\u001b[0m\u001b[37m\u001b[0m \u001b[1m1s\u001b[0m 1ms/step\n",
            "\u001b[1m438/438\u001b[0m \u001b[32m━━━━━━━━━━━━━━━━━━━━\u001b[0m\u001b[37m\u001b[0m \u001b[1m1s\u001b[0m 1ms/step\n",
            "\u001b[1m438/438\u001b[0m \u001b[32m━━━━━━━━━━━━━━━━━━━━\u001b[0m\u001b[37m\u001b[0m \u001b[1m1s\u001b[0m 1ms/step\n",
            "\u001b[1m438/438\u001b[0m \u001b[32m━━━━━━━━━━━━━━━━━━━━\u001b[0m\u001b[37m\u001b[0m \u001b[1m1s\u001b[0m 1ms/step\n",
            "\u001b[1m438/438\u001b[0m \u001b[32m━━━━━━━━━━━━━━━━━━━━\u001b[0m\u001b[37m\u001b[0m \u001b[1m1s\u001b[0m 1ms/step\n",
            "\u001b[1m438/438\u001b[0m \u001b[32m━━━━━━━━━━━━━━━━━━━━\u001b[0m\u001b[37m\u001b[0m \u001b[1m1s\u001b[0m 1ms/step\n",
            "\u001b[1m438/438\u001b[0m \u001b[32m━━━━━━━━━━━━━━━━━━━━\u001b[0m\u001b[37m\u001b[0m \u001b[1m1s\u001b[0m 1ms/step\n",
            "\u001b[1m438/438\u001b[0m \u001b[32m━━━━━━━━━━━━━━━━━━━━\u001b[0m\u001b[37m\u001b[0m \u001b[1m1s\u001b[0m 1ms/step\n",
            "\u001b[1m438/438\u001b[0m \u001b[32m━━━━━━━━━━━━━━━━━━━━\u001b[0m\u001b[37m\u001b[0m \u001b[1m1s\u001b[0m 1ms/step\n",
            "\u001b[1m438/438\u001b[0m \u001b[32m━━━━━━━━━━━━━━━━━━━━\u001b[0m\u001b[37m\u001b[0m \u001b[1m1s\u001b[0m 1ms/step\n",
            "\u001b[1m438/438\u001b[0m \u001b[32m━━━━━━━━━━━━━━━━━━━━\u001b[0m\u001b[37m\u001b[0m \u001b[1m1s\u001b[0m 1ms/step\n",
            "\u001b[1m438/438\u001b[0m \u001b[32m━━━━━━━━━━━━━━━━━━━━\u001b[0m\u001b[37m\u001b[0m \u001b[1m1s\u001b[0m 1ms/step\n",
            "\u001b[1m438/438\u001b[0m \u001b[32m━━━━━━━━━━━━━━━━━━━━\u001b[0m\u001b[37m\u001b[0m \u001b[1m1s\u001b[0m 1ms/step\n",
            "\u001b[1m438/438\u001b[0m \u001b[32m━━━━━━━━━━━━━━━━━━━━\u001b[0m\u001b[37m\u001b[0m \u001b[1m1s\u001b[0m 1ms/step\n",
            "\u001b[1m438/438\u001b[0m \u001b[32m━━━━━━━━━━━━━━━━━━━━\u001b[0m\u001b[37m\u001b[0m \u001b[1m1s\u001b[0m 1ms/step\n",
            "\u001b[1m438/438\u001b[0m \u001b[32m━━━━━━━━━━━━━━━━━━━━\u001b[0m\u001b[37m\u001b[0m \u001b[1m1s\u001b[0m 1ms/step\n",
            "\u001b[1m438/438\u001b[0m \u001b[32m━━━━━━━━━━━━━━━━━━━━\u001b[0m\u001b[37m\u001b[0m \u001b[1m1s\u001b[0m 1ms/step\n",
            "\u001b[1m438/438\u001b[0m \u001b[32m━━━━━━━━━━━━━━━━━━━━\u001b[0m\u001b[37m\u001b[0m \u001b[1m1s\u001b[0m 1ms/step\n",
            "\u001b[1m438/438\u001b[0m \u001b[32m━━━━━━━━━━━━━━━━━━━━\u001b[0m\u001b[37m\u001b[0m \u001b[1m1s\u001b[0m 1ms/step\n",
            "\u001b[1m438/438\u001b[0m \u001b[32m━━━━━━━━━━━━━━━━━━━━\u001b[0m\u001b[37m\u001b[0m \u001b[1m1s\u001b[0m 1ms/step\n",
            "\u001b[1m438/438\u001b[0m \u001b[32m━━━━━━━━━━━━━━━━━━━━\u001b[0m\u001b[37m\u001b[0m \u001b[1m1s\u001b[0m 1ms/step\n",
            "\u001b[1m438/438\u001b[0m \u001b[32m━━━━━━━━━━━━━━━━━━━━\u001b[0m\u001b[37m\u001b[0m \u001b[1m1s\u001b[0m 1ms/step\n",
            "\u001b[1m438/438\u001b[0m \u001b[32m━━━━━━━━━━━━━━━━━━━━\u001b[0m\u001b[37m\u001b[0m \u001b[1m1s\u001b[0m 1ms/step\n",
            "\u001b[1m438/438\u001b[0m \u001b[32m━━━━━━━━━━━━━━━━━━━━\u001b[0m\u001b[37m\u001b[0m \u001b[1m1s\u001b[0m 1ms/step\n",
            "\u001b[1m438/438\u001b[0m \u001b[32m━━━━━━━━━━━━━━━━━━━━\u001b[0m\u001b[37m\u001b[0m \u001b[1m1s\u001b[0m 1ms/step\n",
            "\u001b[1m438/438\u001b[0m \u001b[32m━━━━━━━━━━━━━━━━━━━━\u001b[0m\u001b[37m\u001b[0m \u001b[1m1s\u001b[0m 1ms/step\n",
            "\u001b[1m438/438\u001b[0m \u001b[32m━━━━━━━━━━━━━━━━━━━━\u001b[0m\u001b[37m\u001b[0m \u001b[1m1s\u001b[0m 1ms/step\n",
            "\u001b[1m438/438\u001b[0m \u001b[32m━━━━━━━━━━━━━━━━━━━━\u001b[0m\u001b[37m\u001b[0m \u001b[1m1s\u001b[0m 1ms/step\n",
            "\u001b[1m438/438\u001b[0m \u001b[32m━━━━━━━━━━━━━━━━━━━━\u001b[0m\u001b[37m\u001b[0m \u001b[1m1s\u001b[0m 1ms/step\n",
            "\u001b[1m438/438\u001b[0m \u001b[32m━━━━━━━━━━━━━━━━━━━━\u001b[0m\u001b[37m\u001b[0m \u001b[1m1s\u001b[0m 1ms/step\n",
            "\u001b[1m438/438\u001b[0m \u001b[32m━━━━━━━━━━━━━━━━━━━━\u001b[0m\u001b[37m\u001b[0m \u001b[1m1s\u001b[0m 1ms/step\n",
            "CPU times: user 26min 20s, sys: 2min 40s, total: 29min 1s\n",
            "Wall time: 23min 24s\n"
          ]
        }
      ]
    },
    {
      "cell_type": "code",
      "source": [
        "y_test_prd.mean()"
      ],
      "metadata": {
        "colab": {
          "base_uri": "https://localhost:8080/"
        },
        "id": "QAtl4iSI-g8k",
        "outputId": "55433518-5c80-4889-ad73-398c99760094"
      },
      "execution_count": null,
      "outputs": [
        {
          "output_type": "execute_result",
          "data": {
            "text/plain": [
              "1.0"
            ]
          },
          "metadata": {},
          "execution_count": 33
        }
      ]
    },
    {
      "cell_type": "markdown",
      "source": [
        "## Inference and Performance"
      ],
      "metadata": {
        "id": "rs85hM1digTj"
      }
    },
    {
      "cell_type": "code",
      "source": [
        "from sklearn.metrics import confusion_matrix, precision_score, recall_score, accuracy_score\n",
        "import matplotlib.pyplot as plt\n",
        "import seaborn as sn\n",
        "\n",
        "print(\n",
        "    \"Train precision:\",\n",
        "    precision_score(y_train, y_train_prd, labels=[-1, 1], pos_label=1),\n",
        ")\n",
        "print(\n",
        "    \"Train recall:\",\n",
        "    recall_score(y_train, y_train_prd, labels=[-1, 1], pos_label=1),\n",
        ")\n",
        "print(\n",
        "    \"Train accuracy:\",\n",
        "    accuracy_score(y_train, y_train_prd),\n",
        ")\n",
        "\n",
        "sn.set(font_scale=1.4)\n",
        "train_conf_mat = confusion_matrix(y_train, y_train_prd, labels=[-1, 1])\n",
        "sn.heatmap(train_conf_mat, annot=True, annot_kws={\"size\": 16})\n",
        "plt.show()\n",
        "\n",
        "print(\n",
        "    \"Test precision:\",\n",
        "    precision_score(y_test, y_test_prd, labels=[-1, 1], pos_label=1),\n",
        ")\n",
        "print(\n",
        "    \"Test recall:\",\n",
        "    recall_score(y_test, y_test_prd, labels=[-1, 1], pos_label=1),\n",
        ")\n",
        "print(\n",
        "    \"Test accuracy:\",\n",
        "    accuracy_score(y_test, y_test_prd),\n",
        ")\n",
        "\n",
        "test_conf_mat = confusion_matrix(y_test, y_test_prd, labels=[-1, 1])\n",
        "sn.heatmap(test_conf_mat, annot=True, annot_kws={\"size\": 16})\n",
        "plt.show()"
      ],
      "metadata": {
        "id": "TGN-Ivno---x",
        "colab": {
          "base_uri": "https://localhost:8080/",
          "height": 976
        },
        "outputId": "cd24b151-a6c2-4266-b9e4-f2f4b28729df"
      },
      "execution_count": null,
      "outputs": [
        {
          "output_type": "stream",
          "name": "stdout",
          "text": [
            "Train precision: 0.9021428571428571\n",
            "Train recall: 1.0\n",
            "Train accuracy: 0.9021428571428571\n"
          ]
        },
        {
          "output_type": "display_data",
          "data": {
            "text/plain": [
              "<Figure size 640x480 with 2 Axes>"
            ],
            "image/png": "[encoded data removed]"
          },
          "metadata": {}
        },
        {
          "output_type": "stream",
          "name": "stdout",
          "text": [
            "Test precision: 0.9002857142857142\n",
            "Test recall: 1.0\n",
            "Test accuracy: 0.9002857142857142\n"
          ]
        },
        {
          "output_type": "display_data",
          "data": {
            "text/plain": [
              "<Figure size 640x480 with 2 Axes>"
            ],
            "image/png": "[encoded data removed]"
          },
          "metadata": {}
        }
      ]
    },
    {
      "cell_type": "code",
      "source": [],
      "metadata": {
        "id": "7fh1383xO162"
      },
      "execution_count": null,
      "outputs": []
    }
  ]
}