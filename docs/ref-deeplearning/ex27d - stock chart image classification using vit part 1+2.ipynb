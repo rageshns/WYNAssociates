{
  "nbformat": 4,
  "nbformat_minor": 0,
  "metadata": {
    "colab": {
      "provenance": [],
      "toc_visible": true,
      "machine_shape": "hm",
      "gpuType": "T4"
    },
    "kernelspec": {
      "name": "python3",
      "display_name": "Python 3"
    },
    "language_info": {
      "name": "python"
    },
    "accelerator": "GPU"
  },
  "cells": [
    {
      "cell_type": "markdown",
      "source": [
        "# (Re-)Imag(in)ing Price Trends\n"
      ],
      "metadata": {
        "id": "EYX-3hx1q7Ze"
      }
    },
    {
      "cell_type": "markdown",
      "source": [
        "![image](https://papers.ssrn.com/sol3/journalcovers/665322_43521.gif)\n",
        "\n",
        "We reconsider the idea of trend-based predictability using methods that flexibly learn price patterns that are most predictive of future returns, rather than testing hypothesized or pre-specified patterns (e.g., momentum and reversal). Our raw predictor data are images---stock-level price charts---from which we elicit the price patterns that best predict returns using machine learning image analysis methods. The predictive patterns we identify are largely distinct from trend signals commonly analyzed in the literature, give more accurate return predictions, translate into more profitable investment strategies, and are robust to a battery of specification variations. They also appear context-independent: Predictive patterns estimated at short time scales (e.g., daily data) give similarly strong predictions when applied at longer time scales (e.g., monthly), and patterns learned from US stocks predict equally well in international markets.\n",
        "\n",
        "[Source](https://papers.ssrn.com/sol3/papers.cfm?abstract_id=3756587).\n",
        "\n"
      ],
      "metadata": {
        "id": "JDkMSPn0q0Eb"
      }
    },
    {
      "cell_type": "markdown",
      "source": [
        "## Part 1: Data Processing"
      ],
      "metadata": {
        "id": "OKB8nJn0fvrW"
      }
    },
    {
      "cell_type": "code",
      "execution_count": null,
      "metadata": {
        "id": "_u3lgGOZ_JhD"
      },
      "outputs": [],
      "source": [
        "import pandas as pd\n",
        "import numpy as np\n",
        "import os.path as op\n",
        "\n",
        "IMAGE_WIDTH = {5: 15, 20: 60, 60: 180}\n",
        "IMAGE_HEIGHT = {5: 32, 20: 64, 60: 96}"
      ]
    },
    {
      "cell_type": "code",
      "source": [
        "import os"
      ],
      "metadata": {
        "id": "8We_8OYo_yIW"
      },
      "execution_count": null,
      "outputs": []
    },
    {
      "cell_type": "code",
      "source": [
        "os.chdir('/content/drive/MyDrive/Packt Publisher/Author - Deep Learning for Computer Vision and Generative AI/notebooks/data')"
      ],
      "metadata": {
        "id": "dzPSzg18_y8L"
      },
      "execution_count": null,
      "outputs": []
    },
    {
      "cell_type": "code",
      "source": [
        "! unzip -q \"stock_img_data.zip\""
      ],
      "metadata": {
        "id": "STudzUku_z2P"
      },
      "execution_count": null,
      "outputs": []
    },
    {
      "cell_type": "markdown",
      "source": [
        "### Load `.dat` File"
      ],
      "metadata": {
        "id": "AGUGpw9sf8-2"
      }
    },
    {
      "cell_type": "markdown",
      "source": [
        "This code snippet is using NumPy, a popular Python library for numerical computing, to create a memory-mapped array from a binary file. The use of a memory-mapped file allows data to be read and written directly from disk, which is useful for working with large datasets that do not fit into memory. Here's a breakdown of what each part of the code does:\n",
        "\n",
        "1. **`year = 2013`**: This line sets the variable `year` to 2013. This variable is used later in the path to the file.\n",
        "\n",
        "2. **`np.memmap(...)`**: This is the function call that creates a memory-mapped array. The `memmap` function is part of NumPy and is used here to map a binary file on disk into a NumPy array for efficient reading and writing.\n",
        "\n",
        "3. **`op.join(...)`**: This is presumably a call to `os.path.join(...)`, a function that concatenates its arguments to form a file path that's compatible with the operating system. In this case, it's used to create the path to the binary file. The `op` is likely a shorthand for `os.path` used in this code snippet. The path constructed is `\"./monthly_20d/20d_month_has_vb_[20]_ma_2013_images.dat\"`, assuming `op` is indeed `os.path`. This path includes the `year` variable to point to a specific file for the year 2013.\n",
        "\n",
        "4. **`dtype=np.uint8`**: This specifies the data type of the array elements. `np.uint8` is an 8-bit unsigned integer, which means each number in the array can represent a value from 0 to 255. This is a common choice for image data, where each pixel's intensity is typically represented in this range.\n",
        "\n",
        "5. **`mode='r'`**: This mode indicates that the memory-mapped file is opened in read-only mode. You won't be able to modify the contents of the array.\n",
        "\n",
        "6. **`.reshape((-1, IMAGE_HEIGHT[20], IMAGE_WIDTH[20]))`**: This reshapes the memory-mapped array into a specific shape. The shape is determined by three dimensions: the first dimension `-1` is a placeholder that tells NumPy to automatically calculate the size of this dimension based on the size of the data and the other dimensions. `IMAGE_HEIGHT[20]` and `IMAGE_WIDTH[20]` are used as the height and width of the images, respectively. This suggests that the binary file contains image data, where each image has a height of `IMAGE_HEIGHT[20]` pixels and a width of `IMAGE_WIDTH[20]` pixels. The use of `20` here and in the file name suggests that this is specifically tailored for a dataset or a set of images identified by the number `20`.\n",
        "\n",
        "In summary, this code snippet opens a binary file that contains image data for the year 2013, maps it into memory as a NumPy array for efficient access, and reshapes it into a 3D array where each 2D slice along the first dimension represents an individual image of predetermined height and width. This is a common pattern for handling large datasets of images in machine learning and data processing tasks."
      ],
      "metadata": {
        "id": "SGDktj2mq-Hw"
      }
    },
    {
      "cell_type": "code",
      "source": [
        "year = 2013\n",
        "images = np.memmap(\n",
        "    op.join(\n",
        "        \"./monthly_20d\",\n",
        "        f\"20d_month_has_vb_[20]_ma_{year}_images.dat\"),\n",
        "    dtype=np.uint8, mode='r').reshape((-1, IMAGE_HEIGHT[20], IMAGE_WIDTH[20]))"
      ],
      "metadata": {
        "id": "cJg_A9x1_h7d"
      },
      "execution_count": null,
      "outputs": []
    },
    {
      "cell_type": "code",
      "source": [
        "print(images.shape)\n",
        "images[0]"
      ],
      "metadata": {
        "colab": {
          "base_uri": "https://localhost:8080/",
          "height": 122
        },
        "id": "W8NyyIbSAEV4",
        "outputId": "a7e0665c-71f4-4cdf-bf2c-2fd8ca693da5"
      },
      "execution_count": null,
      "outputs": [
        {
          "output_type": "stream",
          "name": "stdout",
          "text": [
            "(65486, 64, 60)\n"
          ]
        },
        {
          "output_type": "execute_result",
          "data": {
            "text/plain": [
              "memmap([[  0,   0,   0, ...,   0,   0,   0],\n",
              "        [  0,   0,   0, ...,   0,   0,   0],\n",
              "        [  0,   0,   0, ...,   0,   0,   0],\n",
              "        ...,\n",
              "        [  0, 255,   0, ...,   0,   0,   0],\n",
              "        [  0, 255,   0, ...,   0, 255,   0],\n",
              "        [  0, 255,   0, ...,   0, 255,   0]], dtype=uint8)"
            ],
            "text/html": [
              "<style>\n",
              "      .ndarray_repr .ndarray_raw_data {\n",
              "        display: none;\n",
              "      }\n",
              "      .ndarray_repr.show_array .ndarray_raw_data {\n",
              "        display: block;\n",
              "      }\n",
              "      .ndarray_repr.show_array .ndarray_image_preview {\n",
              "        display: none;\n",
              "      }\n",
              "      </style>\n",
              "      <div id=\"id-015275bd-a08a-45bc-b592-1d078df9cca5\" class=\"ndarray_repr\"><pre>ndarray (64, 60) <button style=\"padding: 0 2px;\">show data</button></pre><img src=\"data:image/png;base64,iVBORw0KGgoAAAANSUhEUgAAADwAAABACAAAAABjd0sUAAABUklEQVR4nO2XUY7DIAxEZ6Lc/8qzHxQWsA0m2qqqtFYq0YTnwcYQAkym+cbCroO+//D3wbUWlrBqP1s5EpRT9qqOO+W+o2f3sWT3zCqrxSmQEOS7oAezSooAQIWjlhNzFWbnzNd2YE6MoVsku2w3Uv09MoZtiuQ06cM04dJ16cGEnWG9kr+FR9Hyj6D1GCfMmSIOsSsqz3hyG+tW2JIoq5QKym696au7dqsqcFBVj+F+wKd7mPr6OVK2adLYjhMmsxlOyk4NNrf20T0q+ayC5X1z+zaP96FtwmJ0gOUsxRVqlfu+bpJWcJ4ssABOc5QhC8wp0CSJOmwVB+WXJKvQ7xW8lwKbxnyiOiprsSoS/KFdDX9gL/g01gF+5uBzJ0AAT9P11/b2b4zUwfUtyjMcHY0j06T8eGEcCS7h9BACZY0NeY+AK9wGZJjUCTBpqQ+UOAU/EI16UoMKCTwAAAAASUVORK5CYII=\" class=\"ndarray_image_preview\" /><pre class=\"ndarray_raw_data\">memmap([[  0,   0,   0, ...,   0,   0,   0],\n",
              "        [  0,   0,   0, ...,   0,   0,   0],\n",
              "        [  0,   0,   0, ...,   0,   0,   0],\n",
              "        ...,\n",
              "        [  0, 255,   0, ...,   0,   0,   0],\n",
              "        [  0, 255,   0, ...,   0, 255,   0],\n",
              "        [  0, 255,   0, ...,   0, 255,   0]], dtype=uint8)</pre></div><script>\n",
              "      (() => {\n",
              "      const titles = ['show data', 'hide data'];\n",
              "      let index = 0\n",
              "      document.querySelector('#id-015275bd-a08a-45bc-b592-1d078df9cca5 button').onclick = (e) => {\n",
              "        document.querySelector('#id-015275bd-a08a-45bc-b592-1d078df9cca5').classList.toggle('show_array');\n",
              "        index = (++index) % 2;\n",
              "        document.querySelector('#id-015275bd-a08a-45bc-b592-1d078df9cca5 button').textContent = titles[index];\n",
              "        e.preventDefault();\n",
              "        e.stopPropagation();\n",
              "      }\n",
              "      })();\n",
              "    </script>"
            ]
          },
          "metadata": {},
          "execution_count": 71
        }
      ]
    },
    {
      "cell_type": "markdown",
      "source": [
        "### Load `.feather` File"
      ],
      "metadata": {
        "id": "u02ldMxggAXn"
      }
    },
    {
      "cell_type": "code",
      "source": [
        "label_df = pd.read_feather(op.join(\"./monthly_20d\", f\"20d_month_has_vb_[20]_ma_{year}_labels_w_delay.feather\"))\n",
        "label_df.head()"
      ],
      "metadata": {
        "colab": {
          "base_uri": "https://localhost:8080/",
          "height": 206
        },
        "id": "Xgc5Hc6WAPc5",
        "outputId": "d8c345ef-676a-4e80-bb78-b6c7ebf9bbd8"
      },
      "execution_count": null,
      "outputs": [
        {
          "output_type": "execute_result",
          "data": {
            "text/plain": [
              "        Date StockID     MarketCap    Ret_5d   Ret_20d   Ret_60d  Ret_month  \\\n",
              "0 2013-01-31   10001  80509.593750  0.013172  0.016743  0.054595   0.011654   \n",
              "1 2013-02-28   10001  81080.578125  0.011066  0.030728  0.090775   0.030728   \n",
              "2 2013-03-28   10001  83201.398438  0.008825  0.014323  0.005225   0.017276   \n",
              "3 2013-04-30   10001  86668.703125  0.008714  0.022298  0.011196  -0.000550   \n",
              "4 2013-05-31   10001  86249.203125  0.032101  0.006282  0.017159   0.006282   \n",
              "\n",
              "   EWMA_vol  \n",
              "0  0.000178  \n",
              "1  0.000102  \n",
              "2  0.000048  \n",
              "3  0.000079  \n",
              "4  0.000082  "
            ],
            "text/html": [
              "\n",
              "  <div id=\"df-da34e007-bdac-4ad8-b627-59ff2f225038\" class=\"colab-df-container\">\n",
              "    <div>\n",
              "<style scoped>\n",
              "    .dataframe tbody tr th:only-of-type {\n",
              "        vertical-align: middle;\n",
              "    }\n",
              "\n",
              "    .dataframe tbody tr th {\n",
              "        vertical-align: top;\n",
              "    }\n",
              "\n",
              "    .dataframe thead th {\n",
              "        text-align: right;\n",
              "    }\n",
              "</style>\n",
              "<table border=\"1\" class=\"dataframe\">\n",
              "  <thead>\n",
              "    <tr style=\"text-align: right;\">\n",
              "      <th></th>\n",
              "      <th>Date</th>\n",
              "      <th>StockID</th>\n",
              "      <th>MarketCap</th>\n",
              "      <th>Ret_5d</th>\n",
              "      <th>Ret_20d</th>\n",
              "      <th>Ret_60d</th>\n",
              "      <th>Ret_month</th>\n",
              "      <th>EWMA_vol</th>\n",
              "    </tr>\n",
              "  </thead>\n",
              "  <tbody>\n",
              "    <tr>\n",
              "      <th>0</th>\n",
              "      <td>2013-01-31</td>\n",
              "      <td>10001</td>\n",
              "      <td>80509.593750</td>\n",
              "      <td>0.013172</td>\n",
              "      <td>0.016743</td>\n",
              "      <td>0.054595</td>\n",
              "      <td>0.011654</td>\n",
              "      <td>0.000178</td>\n",
              "    </tr>\n",
              "    <tr>\n",
              "      <th>1</th>\n",
              "      <td>2013-02-28</td>\n",
              "      <td>10001</td>\n",
              "      <td>81080.578125</td>\n",
              "      <td>0.011066</td>\n",
              "      <td>0.030728</td>\n",
              "      <td>0.090775</td>\n",
              "      <td>0.030728</td>\n",
              "      <td>0.000102</td>\n",
              "    </tr>\n",
              "    <tr>\n",
              "      <th>2</th>\n",
              "      <td>2013-03-28</td>\n",
              "      <td>10001</td>\n",
              "      <td>83201.398438</td>\n",
              "      <td>0.008825</td>\n",
              "      <td>0.014323</td>\n",
              "      <td>0.005225</td>\n",
              "      <td>0.017276</td>\n",
              "      <td>0.000048</td>\n",
              "    </tr>\n",
              "    <tr>\n",
              "      <th>3</th>\n",
              "      <td>2013-04-30</td>\n",
              "      <td>10001</td>\n",
              "      <td>86668.703125</td>\n",
              "      <td>0.008714</td>\n",
              "      <td>0.022298</td>\n",
              "      <td>0.011196</td>\n",
              "      <td>-0.000550</td>\n",
              "      <td>0.000079</td>\n",
              "    </tr>\n",
              "    <tr>\n",
              "      <th>4</th>\n",
              "      <td>2013-05-31</td>\n",
              "      <td>10001</td>\n",
              "      <td>86249.203125</td>\n",
              "      <td>0.032101</td>\n",
              "      <td>0.006282</td>\n",
              "      <td>0.017159</td>\n",
              "      <td>0.006282</td>\n",
              "      <td>0.000082</td>\n",
              "    </tr>\n",
              "  </tbody>\n",
              "</table>\n",
              "</div>\n",
              "    <div class=\"colab-df-buttons\">\n",
              "\n",
              "  <div class=\"colab-df-container\">\n",
              "    <button class=\"colab-df-convert\" onclick=\"convertToInteractive('df-da34e007-bdac-4ad8-b627-59ff2f225038')\"\n",
              "            title=\"Convert this dataframe to an interactive table.\"\n",
              "            style=\"display:none;\">\n",
              "\n",
              "  <svg xmlns=\"http://www.w3.org/2000/svg\" height=\"24px\" viewBox=\"0 -960 960 960\">\n",
              "    <path d=\"M120-120v-720h720v720H120Zm60-500h600v-160H180v160Zm220 220h160v-160H400v160Zm0 220h160v-160H400v160ZM180-400h160v-160H180v160Zm440 0h160v-160H620v160ZM180-180h160v-160H180v160Zm440 0h160v-160H620v160Z\"/>\n",
              "  </svg>\n",
              "    </button>\n",
              "\n",
              "  <style>\n",
              "    .colab-df-container {\n",
              "      display:flex;\n",
              "      gap: 12px;\n",
              "    }\n",
              "\n",
              "    .colab-df-convert {\n",
              "      background-color: #E8F0FE;\n",
              "      border: none;\n",
              "      border-radius: 50%;\n",
              "      cursor: pointer;\n",
              "      display: none;\n",
              "      fill: #1967D2;\n",
              "      height: 32px;\n",
              "      padding: 0 0 0 0;\n",
              "      width: 32px;\n",
              "    }\n",
              "\n",
              "    .colab-df-convert:hover {\n",
              "      background-color: #E2EBFA;\n",
              "      box-shadow: 0px 1px 2px rgba(60, 64, 67, 0.3), 0px 1px 3px 1px rgba(60, 64, 67, 0.15);\n",
              "      fill: #174EA6;\n",
              "    }\n",
              "\n",
              "    .colab-df-buttons div {\n",
              "      margin-bottom: 4px;\n",
              "    }\n",
              "\n",
              "    [theme=dark] .colab-df-convert {\n",
              "      background-color: #3B4455;\n",
              "      fill: #D2E3FC;\n",
              "    }\n",
              "\n",
              "    [theme=dark] .colab-df-convert:hover {\n",
              "      background-color: #434B5C;\n",
              "      box-shadow: 0px 1px 3px 1px rgba(0, 0, 0, 0.15);\n",
              "      filter: drop-shadow(0px 1px 2px rgba(0, 0, 0, 0.3));\n",
              "      fill: #FFFFFF;\n",
              "    }\n",
              "  </style>\n",
              "\n",
              "    <script>\n",
              "      const buttonEl =\n",
              "        document.querySelector('#df-da34e007-bdac-4ad8-b627-59ff2f225038 button.colab-df-convert');\n",
              "      buttonEl.style.display =\n",
              "        google.colab.kernel.accessAllowed ? 'block' : 'none';\n",
              "\n",
              "      async function convertToInteractive(key) {\n",
              "        const element = document.querySelector('#df-da34e007-bdac-4ad8-b627-59ff2f225038');\n",
              "        const dataTable =\n",
              "          await google.colab.kernel.invokeFunction('convertToInteractive',\n",
              "                                                    [key], {});\n",
              "        if (!dataTable) return;\n",
              "\n",
              "        const docLinkHtml = 'Like what you see? Visit the ' +\n",
              "          '<a target=\"_blank\" href=https://colab.research.google.com/notebooks/data_table.ipynb>data table notebook</a>'\n",
              "          + ' to learn more about interactive tables.';\n",
              "        element.innerHTML = '';\n",
              "        dataTable['output_type'] = 'display_data';\n",
              "        await google.colab.output.renderOutput(dataTable, element);\n",
              "        const docLink = document.createElement('div');\n",
              "        docLink.innerHTML = docLinkHtml;\n",
              "        element.appendChild(docLink);\n",
              "      }\n",
              "    </script>\n",
              "  </div>\n",
              "\n",
              "\n",
              "<div id=\"df-4d4f7e64-a1ff-4713-b73c-ff514ebb4b25\">\n",
              "  <button class=\"colab-df-quickchart\" onclick=\"quickchart('df-4d4f7e64-a1ff-4713-b73c-ff514ebb4b25')\"\n",
              "            title=\"Suggest charts\"\n",
              "            style=\"display:none;\">\n",
              "\n",
              "<svg xmlns=\"http://www.w3.org/2000/svg\" height=\"24px\"viewBox=\"0 0 24 24\"\n",
              "     width=\"24px\">\n",
              "    <g>\n",
              "        <path d=\"M19 3H5c-1.1 0-2 .9-2 2v14c0 1.1.9 2 2 2h14c1.1 0 2-.9 2-2V5c0-1.1-.9-2-2-2zM9 17H7v-7h2v7zm4 0h-2V7h2v10zm4 0h-2v-4h2v4z\"/>\n",
              "    </g>\n",
              "</svg>\n",
              "  </button>\n",
              "\n",
              "<style>\n",
              "  .colab-df-quickchart {\n",
              "      --bg-color: #E8F0FE;\n",
              "      --fill-color: #1967D2;\n",
              "      --hover-bg-color: #E2EBFA;\n",
              "      --hover-fill-color: #174EA6;\n",
              "      --disabled-fill-color: #AAA;\n",
              "      --disabled-bg-color: #DDD;\n",
              "  }\n",
              "\n",
              "  [theme=dark] .colab-df-quickchart {\n",
              "      --bg-color: #3B4455;\n",
              "      --fill-color: #D2E3FC;\n",
              "      --hover-bg-color: #434B5C;\n",
              "      --hover-fill-color: #FFFFFF;\n",
              "      --disabled-bg-color: #3B4455;\n",
              "      --disabled-fill-color: #666;\n",
              "  }\n",
              "\n",
              "  .colab-df-quickchart {\n",
              "    background-color: var(--bg-color);\n",
              "    border: none;\n",
              "    border-radius: 50%;\n",
              "    cursor: pointer;\n",
              "    display: none;\n",
              "    fill: var(--fill-color);\n",
              "    height: 32px;\n",
              "    padding: 0;\n",
              "    width: 32px;\n",
              "  }\n",
              "\n",
              "  .colab-df-quickchart:hover {\n",
              "    background-color: var(--hover-bg-color);\n",
              "    box-shadow: 0 1px 2px rgba(60, 64, 67, 0.3), 0 1px 3px 1px rgba(60, 64, 67, 0.15);\n",
              "    fill: var(--button-hover-fill-color);\n",
              "  }\n",
              "\n",
              "  .colab-df-quickchart-complete:disabled,\n",
              "  .colab-df-quickchart-complete:disabled:hover {\n",
              "    background-color: var(--disabled-bg-color);\n",
              "    fill: var(--disabled-fill-color);\n",
              "    box-shadow: none;\n",
              "  }\n",
              "\n",
              "  .colab-df-spinner {\n",
              "    border: 2px solid var(--fill-color);\n",
              "    border-color: transparent;\n",
              "    border-bottom-color: var(--fill-color);\n",
              "    animation:\n",
              "      spin 1s steps(1) infinite;\n",
              "  }\n",
              "\n",
              "  @keyframes spin {\n",
              "    0% {\n",
              "      border-color: transparent;\n",
              "      border-bottom-color: var(--fill-color);\n",
              "      border-left-color: var(--fill-color);\n",
              "    }\n",
              "    20% {\n",
              "      border-color: transparent;\n",
              "      border-left-color: var(--fill-color);\n",
              "      border-top-color: var(--fill-color);\n",
              "    }\n",
              "    30% {\n",
              "      border-color: transparent;\n",
              "      border-left-color: var(--fill-color);\n",
              "      border-top-color: var(--fill-color);\n",
              "      border-right-color: var(--fill-color);\n",
              "    }\n",
              "    40% {\n",
              "      border-color: transparent;\n",
              "      border-right-color: var(--fill-color);\n",
              "      border-top-color: var(--fill-color);\n",
              "    }\n",
              "    60% {\n",
              "      border-color: transparent;\n",
              "      border-right-color: var(--fill-color);\n",
              "    }\n",
              "    80% {\n",
              "      border-color: transparent;\n",
              "      border-right-color: var(--fill-color);\n",
              "      border-bottom-color: var(--fill-color);\n",
              "    }\n",
              "    90% {\n",
              "      border-color: transparent;\n",
              "      border-bottom-color: var(--fill-color);\n",
              "    }\n",
              "  }\n",
              "</style>\n",
              "\n",
              "  <script>\n",
              "    async function quickchart(key) {\n",
              "      const quickchartButtonEl =\n",
              "        document.querySelector('#' + key + ' button');\n",
              "      quickchartButtonEl.disabled = true;  // To prevent multiple clicks.\n",
              "      quickchartButtonEl.classList.add('colab-df-spinner');\n",
              "      try {\n",
              "        const charts = await google.colab.kernel.invokeFunction(\n",
              "            'suggestCharts', [key], {});\n",
              "      } catch (error) {\n",
              "        console.error('Error during call to suggestCharts:', error);\n",
              "      }\n",
              "      quickchartButtonEl.classList.remove('colab-df-spinner');\n",
              "      quickchartButtonEl.classList.add('colab-df-quickchart-complete');\n",
              "    }\n",
              "    (() => {\n",
              "      let quickchartButtonEl =\n",
              "        document.querySelector('#df-4d4f7e64-a1ff-4713-b73c-ff514ebb4b25 button');\n",
              "      quickchartButtonEl.style.display =\n",
              "        google.colab.kernel.accessAllowed ? 'block' : 'none';\n",
              "    })();\n",
              "  </script>\n",
              "</div>\n",
              "\n",
              "    </div>\n",
              "  </div>\n"
            ],
            "application/vnd.google.colaboratory.intrinsic+json": {
              "type": "dataframe",
              "variable_name": "label_df",
              "summary": "{\n  \"name\": \"label_df\",\n  \"rows\": 65486,\n  \"fields\": [\n    {\n      \"column\": \"Date\",\n      \"properties\": {\n        \"dtype\": \"date\",\n        \"min\": \"2013-01-31 00:00:00\",\n        \"max\": \"2013-12-31 00:00:00\",\n        \"num_unique_values\": 12,\n        \"samples\": [\n          \"2013-11-29 00:00:00\",\n          \"2013-10-31 00:00:00\",\n          \"2013-01-31 00:00:00\"\n        ],\n        \"semantic_type\": \"\",\n        \"description\": \"\"\n      }\n    },\n    {\n      \"column\": \"StockID\",\n      \"properties\": {\n        \"dtype\": \"category\",\n        \"num_unique_values\": 5812,\n        \"samples\": [\n          \"12321\",\n          \"11593\",\n          \"84234\"\n        ],\n        \"semantic_type\": \"\",\n        \"description\": \"\"\n      }\n    },\n    {\n      \"column\": \"MarketCap\",\n      \"properties\": {\n        \"dtype\": \"float32\",\n        \"num_unique_values\": 64896,\n        \"samples\": [\n          4146180.5,\n          287012.34375,\n          844941.5\n        ],\n        \"semantic_type\": \"\",\n        \"description\": \"\"\n      }\n    },\n    {\n      \"column\": \"Ret_5d\",\n      \"properties\": {\n        \"dtype\": \"number\",\n        \"std\": 0.0668595222329532,\n        \"min\": -0.6130690569579906,\n        \"max\": 4.994246033822743,\n        \"num_unique_values\": 65351,\n        \"samples\": [\n          0.09330568735279843,\n          0.03629504275811701,\n          -0.02629575515101179\n        ],\n        \"semantic_type\": \"\",\n        \"description\": \"\"\n      }\n    },\n    {\n      \"column\": \"Ret_20d\",\n      \"properties\": {\n        \"dtype\": \"number\",\n        \"std\": 0.12722796857653706,\n        \"min\": -0.8985586389535474,\n        \"max\": 3.7794026691114295,\n        \"num_unique_values\": 65139,\n        \"samples\": [\n          0.08759224769443286,\n          -0.047224289655162566,\n          -0.03257299323753271\n        ],\n        \"semantic_type\": \"\",\n        \"description\": \"\"\n      }\n    },\n    {\n      \"column\": \"Ret_60d\",\n      \"properties\": {\n        \"dtype\": \"number\",\n        \"std\": 0.23427790311547755,\n        \"min\": -0.9546153959178161,\n        \"max\": 7.859804650517098,\n        \"num_unique_values\": 64527,\n        \"samples\": [\n          -0.04192356734291958,\n          0.26984196014822026,\n          0.22640797121014034\n        ],\n        \"semantic_type\": \"\",\n        \"description\": \"\"\n      }\n    },\n    {\n      \"column\": \"Ret_month\",\n      \"properties\": {\n        \"dtype\": \"number\",\n        \"std\": 0.12877739646833394,\n        \"min\": -0.8985586389535474,\n        \"max\": 3.795384991636938,\n        \"num_unique_values\": 65127,\n        \"samples\": [\n          0.06498965495656472,\n          0.07662360067633767,\n          0.08936979392635447\n        ],\n        \"semantic_type\": \"\",\n        \"description\": \"\"\n      }\n    },\n    {\n      \"column\": \"EWMA_vol\",\n      \"properties\": {\n        \"dtype\": \"number\",\n        \"std\": 0.008153397647070121,\n        \"min\": 6.062324495897292e-08,\n        \"max\": 0.8934217862741589,\n        \"num_unique_values\": 65449,\n        \"samples\": [\n          7.660168071462961e-05,\n          0.0003273222609457206,\n          0.00013430232311917347\n        ],\n        \"semantic_type\": \"\",\n        \"description\": \"\"\n      }\n    }\n  ]\n}"
            }
          },
          "metadata": {},
          "execution_count": 72
        }
      ]
    },
    {
      "cell_type": "markdown",
      "source": [
        "### Data Visualization"
      ],
      "metadata": {
        "id": "mfoPSZyPgDne"
      }
    },
    {
      "cell_type": "code",
      "source": [
        "from matplotlib import pyplot as plt\n",
        "\n",
        "plt.figure(figsize=(10, 10))\n",
        "for i in range(25):\n",
        "    plt.subplot(5, 5, i + 1)\n",
        "    plt.imshow(images[i], cmap='gray')\n",
        "    plt.title(label_df.loc[i, 'Ret_5d'])\n",
        "    plt.axis('off')\n",
        "\n",
        "plt.show()"
      ],
      "metadata": {
        "colab": {
          "base_uri": "https://localhost:8080/",
          "height": 1000
        },
        "id": "Sj_fZukTASRK",
        "outputId": "2e351162-1d6a-4931-b00e-d5ab6c6d1065"
      },
      "execution_count": null,
      "outputs": [
        {
          "output_type": "stream",
          "name": "stdout",
          "text": [
            "0\n"
          ]
        },
        {
          "output_type": "display_data",
          "data": {
            "text/plain": [
              "<Figure size 640x480 with 1 Axes>"
            ],
            "image/png": "[encoded data removed]"
          },
          "metadata": {}
        },
        {
          "output_type": "stream",
          "name": "stdout",
          "text": [
            "1\n"
          ]
        },
        {
          "output_type": "display_data",
          "data": {
            "text/plain": [
              "<Figure size 640x480 with 1 Axes>"
            ],
            "image/png": "[encoded data removed]"
          },
          "metadata": {}
        },
        {
          "output_type": "stream",
          "name": "stdout",
          "text": [
            "2\n"
          ]
        },
        {
          "output_type": "display_data",
          "data": {
            "text/plain": [
              "<Figure size 640x480 with 1 Axes>"
            ],
            "image/png": "[encoded data removed]"
          },
          "metadata": {}
        },
        {
          "output_type": "stream",
          "name": "stdout",
          "text": [
            "3\n"
          ]
        },
        {
          "output_type": "display_data",
          "data": {
            "text/plain": [
              "<Figure size 640x480 with 1 Axes>"
            ],
            "image/png": "[encoded data removed]"
          },
          "metadata": {}
        },
        {
          "output_type": "stream",
          "name": "stdout",
          "text": [
            "4\n"
          ]
        },
        {
          "output_type": "display_data",
          "data": {
            "text/plain": [
              "<Figure size 640x480 with 1 Axes>"
            ],
            "image/png": "[encoded data removed]"
          },
          "metadata": {}
        }
      ]
    },
    {
      "cell_type": "code",
      "source": [
        "images.shape, label_df.shape"
      ],
      "metadata": {
        "colab": {
          "base_uri": "https://localhost:8080/"
        },
        "id": "xGlRoD0rA9MQ",
        "outputId": "b03dadcf-633d-4746-c07b-b0c46c4e1bfa"
      },
      "execution_count": null,
      "outputs": [
        {
          "output_type": "execute_result",
          "data": {
            "text/plain": [
              "((65486, 64, 60), (65486, 8))"
            ]
          },
          "metadata": {},
          "execution_count": 74
        }
      ]
    },
    {
      "cell_type": "code",
      "source": [
        "import pickle"
      ],
      "metadata": {
        "id": "glDgaUL6AiF8"
      },
      "execution_count": null,
      "outputs": []
    },
    {
      "cell_type": "code",
      "source": [
        "os.listdir()"
      ],
      "metadata": {
        "colab": {
          "base_uri": "https://localhost:8080/"
        },
        "id": "Xgu4Frn-AizA",
        "outputId": "53864c2d-6aad-4668-9f68-6f894929538d"
      },
      "execution_count": null,
      "outputs": [
        {
          "output_type": "execute_result",
          "data": {
            "text/plain": [
              "['leapGestRecog.zip',\n",
              " 'leapGestRecog',\n",
              " 'leapgestrecog',\n",
              " 'hand_gesture.pkl',\n",
              " 'famous_physicists.jpg',\n",
              " 'stock_img_data.zip',\n",
              " 'monthly_20d',\n",
              " '__MACOSX',\n",
              " 'label_columns.txt',\n",
              " '20d_month_has_vb_[20]_ma_2017_images.pkl',\n",
              " '20d_month_has_vb_[20]_ma_2018_images.pkl',\n",
              " '20d_month_has_vb_[20]_ma_2019_images.pkl',\n",
              " '20d_month_has_vb_[20]_ma_2016_images.pkl',\n",
              " '20d_month_has_vb_[20]_ma_2015_images.pkl',\n",
              " '20d_month_has_vb_[20]_ma_2014_images.pkl']"
            ]
          },
          "metadata": {},
          "execution_count": 76
        }
      ]
    },
    {
      "cell_type": "code",
      "source": [
        "this_file_name = f\"20d_month_has_vb_[20]_ma_{year}_images.pkl\"\n",
        "print(this_file_name)"
      ],
      "metadata": {
        "colab": {
          "base_uri": "https://localhost:8080/"
        },
        "id": "LKHRZo45Ap90",
        "outputId": "5def7e9c-ee94-460a-83b2-54f3bfafec79"
      },
      "execution_count": null,
      "outputs": [
        {
          "output_type": "stream",
          "name": "stdout",
          "text": [
            "20d_month_has_vb_[20]_ma_2013_images.pkl\n"
          ]
        }
      ]
    },
    {
      "cell_type": "code",
      "source": [
        "%%time\n",
        "\n",
        "a = images, label_df\n",
        "with open(this_file_name, 'wb') as handle:\n",
        "    pickle.dump(a, handle, protocol=pickle.HIGHEST_PROTOCOL)"
      ],
      "metadata": {
        "colab": {
          "base_uri": "https://localhost:8080/"
        },
        "id": "6abi4CUvAqpM",
        "outputId": "b741dc9e-83fe-4b9b-bc3d-6441da7b3458"
      },
      "execution_count": null,
      "outputs": [
        {
          "output_type": "stream",
          "name": "stdout",
          "text": [
            "CPU times: user 76.5 ms, sys: 467 ms, total: 544 ms\n",
            "Wall time: 2.11 s\n"
          ]
        }
      ]
    },
    {
      "cell_type": "code",
      "source": [
        "\"/content/drive/MyDrive/Packt Publisher/Author - Deep Learning for Computer Vision and Generative AI/notebooks/data/20d_month_has_vb_[20]_ma_2019_images.pkl\""
      ],
      "metadata": {
        "id": "gE3cowcAfISe"
      },
      "execution_count": null,
      "outputs": []
    },
    {
      "cell_type": "code",
      "source": [
        "with open('20d_month_has_vb_[20]_ma_2019_images.pkl', 'rb') as handle:\n",
        "    b = pickle.load(handle)"
      ],
      "metadata": {
        "id": "dnxDrTtpe6r1"
      },
      "execution_count": null,
      "outputs": []
    },
    {
      "cell_type": "code",
      "source": [
        "images, label_df = b"
      ],
      "metadata": {
        "id": "Oxz11nxHfNfm"
      },
      "execution_count": null,
      "outputs": []
    },
    {
      "cell_type": "code",
      "source": [
        "year = 2013\n",
        "for year in range(1993, 2013):\n",
        "    images = np.memmap(\n",
        "        op.join(\n",
        "            \"./monthly_20d\",\n",
        "            f\"20d_month_has_vb_[20]_ma_{year}_images.dat\"),\n",
        "        dtype=np.uint8, mode='r').reshape((-1, IMAGE_HEIGHT[20], IMAGE_WIDTH[20]))\n",
        "\n",
        "    label_df = pd.read_feather(op.join(\"./monthly_20d\", f\"20d_month_has_vb_[20]_ma_{year}_labels_w_delay.feather\"))\n",
        "    label_df.head()\n",
        "\n",
        "    this_file_name = f\"20d_month_has_vb_[20]_ma_{year}_images.pkl\"\n",
        "    print(this_file_name)\n",
        "\n",
        "    a = images, label_df\n",
        "    with open(this_file_name, 'wb') as handle:\n",
        "        pickle.dump(a, handle, protocol=pickle.HIGHEST_PROTOCOL)"
      ],
      "metadata": {
        "colab": {
          "base_uri": "https://localhost:8080/"
        },
        "id": "WQ-EKMzCBE06",
        "outputId": "40869c1b-349d-4076-cf3a-c15ebe04716a"
      },
      "execution_count": null,
      "outputs": [
        {
          "output_type": "stream",
          "name": "stdout",
          "text": [
            "20d_month_has_vb_[20]_ma_1993_images.pkl\n",
            "20d_month_has_vb_[20]_ma_1994_images.pkl\n",
            "20d_month_has_vb_[20]_ma_1995_images.pkl\n",
            "20d_month_has_vb_[20]_ma_1996_images.pkl\n",
            "20d_month_has_vb_[20]_ma_1997_images.pkl\n",
            "20d_month_has_vb_[20]_ma_1998_images.pkl\n",
            "20d_month_has_vb_[20]_ma_1999_images.pkl\n",
            "20d_month_has_vb_[20]_ma_2000_images.pkl\n",
            "20d_month_has_vb_[20]_ma_2001_images.pkl\n",
            "20d_month_has_vb_[20]_ma_2002_images.pkl\n",
            "20d_month_has_vb_[20]_ma_2003_images.pkl\n",
            "20d_month_has_vb_[20]_ma_2004_images.pkl\n",
            "20d_month_has_vb_[20]_ma_2005_images.pkl\n",
            "20d_month_has_vb_[20]_ma_2006_images.pkl\n",
            "20d_month_has_vb_[20]_ma_2007_images.pkl\n",
            "20d_month_has_vb_[20]_ma_2008_images.pkl\n",
            "20d_month_has_vb_[20]_ma_2009_images.pkl\n",
            "20d_month_has_vb_[20]_ma_2010_images.pkl\n",
            "20d_month_has_vb_[20]_ma_2011_images.pkl\n",
            "20d_month_has_vb_[20]_ma_2012_images.pkl\n"
          ]
        }
      ]
    },
    {
      "cell_type": "markdown",
      "source": [
        "## Part 2: Training"
      ],
      "metadata": {
        "id": "V0PcOYxGfr-E"
      }
    },
    {
      "cell_type": "code",
      "source": [
        "import pandas as pd\n",
        "import numpy as np\n",
        "import os.path as op\n",
        "\n",
        "IMAGE_WIDTH = {5: 15, 20: 60, 60: 180}\n",
        "IMAGE_HEIGHT = {5: 32, 20: 64, 60: 96}\n",
        "\n",
        "import os\n",
        "\n",
        "os.chdir('/content/drive/MyDrive/Packt Publisher/Author - Deep Learning for Computer Vision and Generative AI/notebooks/data')\n",
        "\n",
        "import pickle\n",
        "\n",
        "with open('20d_month_has_vb_[20]_ma_2019_images.pkl', 'rb') as handle:\n",
        "    b = pickle.load(handle)\n",
        "\n",
        "images, label_df = b"
      ],
      "metadata": {
        "id": "113iMpD6fq8p"
      },
      "execution_count": null,
      "outputs": []
    },
    {
      "cell_type": "code",
      "source": [
        "images.shape, label_df.shape"
      ],
      "metadata": {
        "colab": {
          "base_uri": "https://localhost:8080/"
        },
        "id": "3lRDx-Pdc3Wc",
        "outputId": "5fe6d944-b3ba-47c8-a1af-826318e4c0ab"
      },
      "execution_count": null,
      "outputs": [
        {
          "output_type": "execute_result",
          "data": {
            "text/plain": [
              "((68637, 64, 60), (68637, 8))"
            ]
          },
          "metadata": {},
          "execution_count": 7
        }
      ]
    },
    {
      "cell_type": "code",
      "source": [
        "images = np.asarray(images)"
      ],
      "metadata": {
        "id": "xfJoTTtfdPXq"
      },
      "execution_count": null,
      "outputs": []
    },
    {
      "cell_type": "markdown",
      "source": [
        "### Get Data Ready"
      ],
      "metadata": {
        "id": "1Dp7CNYRfz3T"
      }
    },
    {
      "cell_type": "code",
      "source": [
        "X = np.asarray(images).reshape((images.shape[0], images.shape[1], images.shape[2], 1))\n",
        "Y1 = label_df['Ret_5d'] > 0\n",
        "Y2 = label_df['Ret_20d'] > 0\n",
        "Y3 = label_df['Ret_60d'] > 0"
      ],
      "metadata": {
        "id": "cuJLr73Cc4ea"
      },
      "execution_count": null,
      "outputs": []
    },
    {
      "cell_type": "code",
      "source": [
        "X.shape, Y1.shape, Y2.shape, Y3.shape"
      ],
      "metadata": {
        "colab": {
          "base_uri": "https://localhost:8080/"
        },
        "id": "v9KI_twldNZP",
        "outputId": "193ee823-41f9-4df9-e5b5-f2cfcf589014"
      },
      "execution_count": null,
      "outputs": [
        {
          "output_type": "execute_result",
          "data": {
            "text/plain": [
              "((68637, 64, 60, 1), (68637,), (68637,), (68637,))"
            ]
          },
          "metadata": {},
          "execution_count": 10
        }
      ]
    },
    {
      "cell_type": "code",
      "source": [
        "from sklearn.model_selection import train_test_split"
      ],
      "metadata": {
        "id": "S5e8SiSheE_A"
      },
      "execution_count": null,
      "outputs": []
    },
    {
      "cell_type": "code",
      "source": [
        "x_train, x_test, y_train, y_test = train_test_split(X, Y1, test_size=0.2, random_state=42)"
      ],
      "metadata": {
        "id": "G5ebBaqyeDtA"
      },
      "execution_count": null,
      "outputs": []
    },
    {
      "cell_type": "code",
      "source": [
        "x_train.shape, x_test.shape, y_train.shape, y_test.shape"
      ],
      "metadata": {
        "colab": {
          "base_uri": "https://localhost:8080/"
        },
        "id": "jVHA7xdUeHzL",
        "outputId": "f08a7183-db55-4e19-86cf-d3eecc112c05"
      },
      "execution_count": null,
      "outputs": [
        {
          "output_type": "execute_result",
          "data": {
            "text/plain": [
              "((54909, 64, 60, 1), (13728, 64, 60, 1), (54909,), (13728,))"
            ]
          },
          "metadata": {},
          "execution_count": 13
        }
      ]
    },
    {
      "cell_type": "code",
      "source": [
        "!pip install tensorflow-addons"
      ],
      "metadata": {
        "colab": {
          "base_uri": "https://localhost:8080/"
        },
        "id": "IzgPuEnmdqGP",
        "outputId": "e8b1e304-41fd-4278-d8bf-83a1c6c9753e"
      },
      "execution_count": null,
      "outputs": [
        {
          "output_type": "stream",
          "name": "stdout",
          "text": [
            "Collecting tensorflow-addons\n",
            "  Downloading tensorflow_addons-0.23.0-cp310-cp310-manylinux_2_17_x86_64.manylinux2014_x86_64.whl (611 kB)\n",
            "\u001b[?25l     \u001b[90m━━━━━━━━━━━━━━━━━━━━━━━━━━━━━━━━━━━━━━━━\u001b[0m \u001b[32m0.0/611.8 kB\u001b[0m \u001b[31m?\u001b[0m eta \u001b[36m-:--:--\u001b[0m\r\u001b[2K     \u001b[91m━━━━━━━━━━━━━━━━━━━━━━━━━━\u001b[0m\u001b[91m╸\u001b[0m\u001b[90m━━━━━━━━━━━━━\u001b[0m \u001b[32m409.6/611.8 kB\u001b[0m \u001b[31m12.0 MB/s\u001b[0m eta \u001b[36m0:00:01\u001b[0m\r\u001b[2K     \u001b[90m━━━━━━━━━━━━━━━━━━━━━━━━━━━━━━━━━━━━━━━━\u001b[0m \u001b[32m611.8/611.8 kB\u001b[0m \u001b[31m11.7 MB/s\u001b[0m eta \u001b[36m0:00:00\u001b[0m\n",
            "\u001b[?25hRequirement already satisfied: packaging in /usr/local/lib/python3.10/dist-packages (from tensorflow-addons) (23.2)\n",
            "Collecting typeguard<3.0.0,>=2.7 (from tensorflow-addons)\n",
            "  Downloading typeguard-2.13.3-py3-none-any.whl (17 kB)\n",
            "Installing collected packages: typeguard, tensorflow-addons\n",
            "Successfully installed tensorflow-addons-0.23.0 typeguard-2.13.3\n"
          ]
        }
      ]
    },
    {
      "cell_type": "markdown",
      "source": [
        "### Define `vit` Model"
      ],
      "metadata": {
        "id": "wa9rOJcJf2ZD"
      }
    },
    {
      "cell_type": "markdown",
      "source": [
        "The code defines a Python class `CustomViT` that represents a customizable implementation of a Vision Transformer (ViT) model for image classification tasks. Vision Transformers apply the transformer architecture, typically used in natural language processing, to image data. The code is structured to allow flexibility in defining the model's parameters and includes methods for constructing the model, training it, and evaluating its performance. Here's an overview of its components:\n",
        "\n",
        "### Class Initialization (`__init__`)\n",
        "The `__init__` method initializes a new instance of the `CustomViT` class with various parameters that define the model's architecture and training configuration. These parameters include the number of classes (`num_classes`), input image shape (`input_shape`), learning rate, weight decay, batch size, number of training epochs, image size, patch size, dimensions of the projection layer, number of attention heads (`num_heads`), units in the transformer and MLP (multi-layer perceptron) layers, and the number of layers in the transformer.\n",
        "\n",
        "It also computes the number of patches an image will be divided into based on the image size and patch size, and defines a data augmentation pipeline using Keras's Sequential API. This pipeline includes normalization, resizing, random flipping, rotation, and zooming to augment the training data and potentially improve model generalization.\n",
        "\n",
        "### Multi-layer Perceptron (MLP) Method\n",
        "The `mlp` method defines a simple MLP architecture used within the transformer. It takes a tensor `x` and a list of hidden units, applying a dense layer followed by a dropout for each unit in the list.\n",
        "\n",
        "### Patches Class\n",
        "The `Patches` inner class defines a custom Keras layer that extracts patches from the input images. This is a key part of adapting the transformer model to work with images, where the image is divided into a grid of smaller images (patches), which are then flattened and processed by the transformer.\n",
        "\n",
        "### PatchEncoder Class\n",
        "The `PatchEncoder` inner class also defines a custom Keras layer. It projects the flattened patches to a higher-dimensional space (using a dense layer) and adds position embeddings, allowing the model to take into account the position of each patch in the image.\n",
        "\n",
        "### Creating the Vision Transformer Classifier\n",
        "The `create_vit_classifier` method constructs the ViT model. It starts with the input layer, applies data augmentation, extracts and encodes patches, and then passes them through a series of transformer layers. Each transformer layer includes layer normalization, multi-head attention, and a residual connection, followed by another layer normalization and an MLP block with a residual connection. The output of the transformer layers is then processed through a final MLP head to produce the logits for classification.\n",
        "\n",
        "### Experiment Runner\n",
        "The `run_experiment` method compiles the model using an AdamW optimizer (with specified learning rate and weight decay), sets up a model checkpointing system, and trains the model on the provided training data (`x_train`, `y_train`) while validating on a split of this data. After training, it evaluates the model on a test set (`x_test`, `y_test`) and prints the accuracy and top-5 accuracy.\n",
        "\n",
        "Overall, this class encapsulates the entire process of building, training, and evaluating a Vision Transformer model for image classification, offering flexibility through various parameters and a structured way to experiment with different configurations.\n",
        "\n",
        "### Additional Features and Flexibility\n",
        "\n",
        "The `CustomViT` class demonstrates an approach to implementing complex models like the Vision Transformer in a flexible and modular way. Here are some additional insights and potential enhancements to this implementation:\n",
        "\n",
        "- **Modularity**: The class is designed to separate concerns, with distinct components responsible for data preprocessing, patch extraction, patch encoding, transformer construction, and model compilation and training. This makes the code easier to read, maintain, and extend. For example, if you want to experiment with different types of data augmentation, you can simply modify the `data_augmentation` attribute.\n",
        "\n",
        "- **Customizability**: Through its initialization parameters, the class allows for easy adjustments to the model's architecture (e.g., the size and number of patches, the dimensions of the projection layer, the depth of the transformer, and the size of the MLP head). This makes it straightforward to experiment with different configurations to find the best setup for a particular dataset.\n",
        "\n",
        "- **Advanced Transformer Features**: The implementation of the transformer block includes key components like multi-head attention and layer normalization, which are crucial for the transformer's ability to model complex relationships in data. The use of residual connections (add layers) helps in avoiding the vanishing gradient problem by allowing gradients to flow through the network more effectively.\n",
        "\n",
        "- **Training and Evaluation**: The `run_experiment` method encapsulates the entire process of training and evaluating the model, including the use of callbacks for checkpointing (saving the best model based on validation accuracy) and the evaluation of test accuracy and top-5 accuracy. This method showcases a typical training loop for deep learning models, with flexibility for further customization, such as adding additional callbacks for learning rate scheduling or early stopping.\n",
        "\n",
        "### Potential Enhancements\n",
        "\n",
        "While the provided `CustomViT` class is a comprehensive implementation, there's always room for enhancements and customization based on specific needs:\n",
        "\n",
        "- **Hyperparameter Tuning**: Integrating automated hyperparameter tuning tools (e.g., Keras Tuner or Optuna) could streamline the process of finding the optimal model configuration, improving performance without manually adjusting parameters.\n",
        "\n",
        "- **Regularization Techniques**: Experimenting with different regularization techniques, such as varying dropout rates or incorporating label smoothing, could further improve model generalization and robustness.\n",
        "\n",
        "- **Experiment Tracking**: Integrating experiment tracking tools like MLflow, Weights & Biases, or TensorBoard could provide better insights into model performance, training dynamics, and hyperparameter effects, facilitating more informed decision-making.\n",
        "\n",
        "- **Advanced Data Augmentation**: Exploring more sophisticated data augmentation techniques or libraries (e.g., Albumentations) could uncover further performance improvements by enhancing model robustness to a wider variety of input data transformations.\n",
        "\n",
        "- **Expand Dataset Support**: Extending the class to easily handle different types of datasets or incorporating techniques for dealing with imbalanced datasets could make the model more versatile and effective across diverse tasks.\n",
        "\n",
        "In summary, the `CustomViT` class is a solid foundation for experimenting with Vision Transformers, offering both a deep dive into the architecture's components and a template for further exploration and optimization in the rapidly evolving field of computer vision."
      ],
      "metadata": {
        "id": "76ErBAZKrhit"
      }
    },
    {
      "cell_type": "code",
      "source": [
        "from typing import Any, Dict, List\n",
        "\n",
        "import matplotlib.pyplot as plt\n",
        "import numpy as np\n",
        "import tensorflow as tf\n",
        "import tensorflow_addons as tfa\n",
        "from tensorflow import keras\n",
        "from tensorflow.keras import layers"
      ],
      "metadata": {
        "colab": {
          "base_uri": "https://localhost:8080/"
        },
        "id": "_mYTaT09da6R",
        "outputId": "79dfb190-bf8e-4140-f4eb-09e1dc1c1b8c"
      },
      "execution_count": null,
      "outputs": [
        {
          "output_type": "stream",
          "name": "stderr",
          "text": [
            "/usr/local/lib/python3.10/dist-packages/tensorflow_addons/utils/tfa_eol_msg.py:23: UserWarning: \n",
            "\n",
            "TensorFlow Addons (TFA) has ended development and introduction of new features.\n",
            "TFA has entered a minimal maintenance and release mode until a planned end of life in May 2024.\n",
            "Please modify downstream libraries to take dependencies from other repositories in our TensorFlow community (e.g. Keras, Keras-CV, and Keras-NLP). \n",
            "\n",
            "For more information see: https://github.com/tensorflow/addons/issues/2807 \n",
            "\n",
            "  warnings.warn(\n"
          ]
        }
      ]
    },
    {
      "cell_type": "code",
      "source": [
        "class CustomViT:\n",
        "    def __init__(\n",
        "        self,\n",
        "        num_classes: int = 2,\n",
        "        input_shape: tuple = (299, 299, 3),\n",
        "        learning_rate: float = 0.001,\n",
        "        weight_decay: float = 0.0001,\n",
        "        batch_size: int = 256,\n",
        "        num_epochs: int = 800,\n",
        "        image_size: int = 72,\n",
        "        patch_size: int = 6,\n",
        "        projection_dim: int = 64,\n",
        "        num_heads: int = 4,\n",
        "        transformer_units: List[int] = [128, 64],\n",
        "        transformer_layers: int = 10,\n",
        "        mlp_head_units: List[int] = [2048, 1024],\n",
        "    ):\n",
        "        self.num_classes = num_classes\n",
        "        self.input_shape = input_shape\n",
        "        self.learning_rate = learning_rate\n",
        "        self.weight_decay = weight_decay\n",
        "        self.batch_size = batch_size\n",
        "        self.num_epochs = num_epochs\n",
        "        self.image_size = image_size\n",
        "        self.patch_size = patch_size\n",
        "        self.projection_dim = projection_dim\n",
        "        self.num_heads = num_heads\n",
        "        self.transformer_units = transformer_units\n",
        "        self.transformer_layers = transformer_layers\n",
        "        self.mlp_head_units = mlp_head_units\n",
        "        self.num_patches = (image_size // patch_size) ** 2\n",
        "        self.data_augmentation = keras.Sequential(\n",
        "            [\n",
        "                layers.Normalization(),\n",
        "                layers.Resizing(image_size, image_size),\n",
        "                layers.RandomFlip(\"horizontal\"),\n",
        "                layers.RandomRotation(factor=0.02),\n",
        "                layers.RandomZoom(height_factor=0.2, width_factor=0.2),\n",
        "            ],\n",
        "            name=\"data_augmentation\",\n",
        "        )\n",
        "\n",
        "    def mlp(\n",
        "        self, x: tf.Tensor, hidden_units: List[int], dropout_rate: float\n",
        "    ) -> tf.Tensor:\n",
        "        for units in hidden_units:\n",
        "            x = layers.Dense(units, activation=tf.nn.gelu)(x)\n",
        "            x = layers.Dropout(dropout_rate)(x)\n",
        "        return x\n",
        "\n",
        "    class Patches(layers.Layer):\n",
        "        def __init__(self, patch_size: int):\n",
        "            super().__init__()\n",
        "            self.patch_size = patch_size\n",
        "\n",
        "        def call(self, images: tf.Tensor) -> tf.Tensor:\n",
        "            batch_size = tf.shape(images)[0]\n",
        "            patches = tf.image.extract_patches(\n",
        "                images=images,\n",
        "                sizes=[1, self.patch_size, self.patch_size, 1],\n",
        "                strides=[1, self.patch_size, self.patch_size, 1],\n",
        "                rates=[1, 1, 1, 1],\n",
        "                padding=\"VALID\",\n",
        "            )\n",
        "            patch_dims = patches.shape[-1]\n",
        "            patches = tf.reshape(patches, [batch_size, -1, patch_dims])\n",
        "            return patches\n",
        "\n",
        "    class PatchEncoder(layers.Layer):\n",
        "        def __init__(self, num_patches: int, projection_dim: int):\n",
        "            super().__init__()\n",
        "            self.num_patches = num_patches\n",
        "            self.projection = layers.Dense(units=projection_dim)\n",
        "            self.position_embedding = layers.Embedding(\n",
        "                input_dim=num_patches, output_dim=projection_dim\n",
        "            )\n",
        "\n",
        "        def call(self, patch):\n",
        "            positions = tf.range(start=0, limit=self.num_patches, delta=1)\n",
        "            encoded = self.projection(patch) + self.position_embedding(positions)\n",
        "            return encoded\n",
        "\n",
        "    def create_vit_classifier(self) -> keras.Model:\n",
        "        inputs = layers.Input(shape=self.input_shape)\n",
        "        augmented = self.data_augmentation(inputs)\n",
        "        patches = self.Patches(self.patch_size)(augmented)\n",
        "        encoded_patches = self.PatchEncoder(self.num_patches, self.projection_dim)(\n",
        "            patches\n",
        "        )\n",
        "\n",
        "        for _ in range(self.transformer_layers):\n",
        "            x1 = layers.LayerNormalization(epsilon=1e-6)(encoded_patches)\n",
        "            attention_output = layers.MultiHeadAttention(\n",
        "                num_heads=self.num_heads, key_dim=self.projection_dim, dropout=0.1\n",
        "            )(x1, x1)\n",
        "            x2 = layers.Add()([attention_output, encoded_patches])\n",
        "            x3 = layers.LayerNormalization(epsilon=1e-6)(x2)\n",
        "            x3 = self.mlp(x3, hidden_units=self.transformer_units, dropout_rate=0.1)\n",
        "            encoded_patches = layers.Add()([x3, x2])\n",
        "\n",
        "        representation = layers.LayerNormalization(epsilon=1e-6)(encoded_patches)\n",
        "        representation = layers.Flatten()(representation)\n",
        "        representation = layers.Dropout(0.5)(representation)\n",
        "        features = self.mlp(\n",
        "            representation, hidden_units=self.mlp_head_units, dropout_rate=0.5\n",
        "        )\n",
        "        logits = layers.Dense(self.num_classes)(features)\n",
        "        model = keras.Model(inputs=inputs, outputs=logits)\n",
        "        return model\n",
        "\n",
        "    def run_experiment(\n",
        "        self, model: keras.Model, x_train, y_train, x_test, y_test\n",
        "    ) -> Dict[str, Any]:\n",
        "        optimizer = tfa.optimizers.AdamW(\n",
        "            learning_rate=self.learning_rate, weight_decay=self.weight_decay\n",
        "        )\n",
        "\n",
        "        model.compile(\n",
        "            optimizer=optimizer,\n",
        "            loss=keras.losses.SparseCategoricalCrossentropy(from_logits=True),\n",
        "            metrics=[\n",
        "                keras.metrics.SparseCategoricalAccuracy(name=\"accuracy\"),\n",
        "                keras.metrics.SparseTopKCategoricalAccuracy(5, name=\"top-5-accuracy\"),\n",
        "            ],\n",
        "        )\n",
        "\n",
        "        checkpoint_filepath = \"/tmp/checkpoint\"\n",
        "        checkpoint_callback = keras.callbacks.ModelCheckpoint(\n",
        "            checkpoint_filepath,\n",
        "            monitor=\"val_accuracy\",\n",
        "            save_best_only=True,\n",
        "            save_weights_only=True,\n",
        "        )\n",
        "\n",
        "        history = model.fit(\n",
        "            x=x_train,\n",
        "            y=y_train,\n",
        "            batch_size=self.batch_size,\n",
        "            epochs=self.num_epochs,\n",
        "            validation_split=0.1,\n",
        "            callbacks=[checkpoint_callback],\n",
        "        )\n",
        "\n",
        "        model.load_weights(checkpoint_filepath)\n",
        "        _, accuracy, top_5_accuracy = model.evaluate(x_test, y_test)\n",
        "        print(f\"Test accuracy: {accuracy * 100:.2f}%\")\n",
        "        print(f\"Test top 5 accuracy: {top_5_accuracy * 100:.2f}%\")\n",
        "\n",
        "        return history\n",
        "\n",
        "    # Additional methods like plot_patches can be added here following the same pattern"
      ],
      "metadata": {
        "id": "nM0QzLSFdlqF"
      },
      "execution_count": null,
      "outputs": []
    },
    {
      "cell_type": "code",
      "source": [
        "tf.test.gpu_device_name()"
      ],
      "metadata": {
        "colab": {
          "base_uri": "https://localhost:8080/",
          "height": 36
        },
        "id": "Ye0uEPNzfXwq",
        "outputId": "f3b873a8-532e-489c-dbbe-04c629702896"
      },
      "execution_count": null,
      "outputs": [
        {
          "output_type": "execute_result",
          "data": {
            "text/plain": [
              "'/device:GPU:0'"
            ],
            "application/vnd.google.colaboratory.intrinsic+json": {
              "type": "string"
            }
          },
          "metadata": {},
          "execution_count": 17
        }
      ]
    },
    {
      "cell_type": "markdown",
      "source": [
        "### Define Model and Train"
      ],
      "metadata": {
        "id": "EUoI1Fm7f6fd"
      }
    },
    {
      "cell_type": "code",
      "source": [
        "%%time\n",
        "\n",
        "with tf.device('/device:GPU:0'):\n",
        "    vit_classifier = CustomViT(input_shape=(64, 60, 1))\n",
        "    model = vit_classifier.create_vit_classifier()\n",
        "    history = vit_classifier.run_experiment(model, x_train, y_train, x_test, y_test)"
      ],
      "metadata": {
        "colab": {
          "base_uri": "https://localhost:8080/"
        },
        "id": "HGccyY5NduAq",
        "outputId": "55ef12be-19ef-485f-ac42-1d6209a2da81"
      },
      "execution_count": null,
      "outputs": [
        {
          "output_type": "stream",
          "name": "stdout",
          "text": [
            "Epoch 1/800\n",
            "194/194 [==============================] - 100s 439ms/step - loss: 0.8947 - accuracy: 0.5077 - top-5-accuracy: 1.0000 - val_loss: 0.6924 - val_accuracy: 0.5281 - val_top-5-accuracy: 1.0000\n",
            "Epoch 2/800\n",
            "194/194 [==============================] - 86s 445ms/step - loss: 0.6952 - accuracy: 0.5162 - top-5-accuracy: 1.0000 - val_loss: 0.6911 - val_accuracy: 0.5218 - val_top-5-accuracy: 1.0000\n",
            "Epoch 3/800\n",
            "194/194 [==============================] - 90s 463ms/step - loss: 0.6917 - accuracy: 0.5265 - top-5-accuracy: 1.0000 - val_loss: 0.6878 - val_accuracy: 0.5416 - val_top-5-accuracy: 1.0000\n",
            "Epoch 4/800\n",
            " 59/194 [========>.....................] - ETA: 59s - loss: 0.6908 - accuracy: 0.5339 - top-5-accuracy: 1.0000 "
          ]
        }
      ]
    },
    {
      "cell_type": "code",
      "source": [],
      "metadata": {
        "id": "vHcd9zGieBmW"
      },
      "execution_count": null,
      "outputs": []
    }
  ]
}