{
  "nbformat": 4,
  "nbformat_minor": 0,
  "metadata": {
    "colab": {
      "provenance": []
    },
    "kernelspec": {
      "name": "python3",
      "display_name": "Python 3"
    },
    "language_info": {
      "name": "python"
    }
  },
  "cells": [
    {
      "cell_type": "code",
      "execution_count": 11,
      "metadata": {
        "colab": {
          "base_uri": "https://localhost:8080/"
        },
        "id": "PBujwW1N9xk8",
        "outputId": "69d95945-638f-4671-e717-15c883d63d04"
      },
      "outputs": [
        {
          "output_type": "stream",
          "name": "stderr",
          "text": [
            "<ipython-input-11-593ed2ade65d>:38: DeprecationWarning: Starting with ImageIO v3 the behavior of this function will switch to that of iio.v3.imread. To keep the current behavior (and make this warning disappear) use `import imageio.v2 as imageio` or call `imageio.v2.imread` directly.\n",
            "  image = imageio.imread(filename)\n"
          ]
        },
        {
          "output_type": "stream",
          "name": "stdout",
          "text": [
            "GIF created and saved as 'some_animation_1.gif'\n"
          ]
        }
      ],
      "source": [
        "import numpy as np\n",
        "import matplotlib.pyplot as plt\n",
        "import imageio\n",
        "import os\n",
        "\n",
        "# Parameters\n",
        "num_steps = 100  # Number of time stamps\n",
        "\n",
        "# Generate Brownian motion path\n",
        "np.random.seed(42)\n",
        "x = np.cumsum(np.random.randn(num_steps))\n",
        "y = np.cumsum(np.random.randn(num_steps))\n",
        "\n",
        "# Create a directory to save the frames\n",
        "os.makedirs('brownian_motion_frames', exist_ok=True)\n",
        "\n",
        "# Plot each step and save the frames\n",
        "filenames = []\n",
        "for i in range(num_steps):\n",
        "    plt.figure(figsize=(6, 6))\n",
        "    plt.plot(x[:i+1], y[:i+1], 'b-', alpha=0.6)  # Path\n",
        "    plt.plot(x[i], y[i], 'ro')  # Current position\n",
        "    plt.xlim(-10, 10)\n",
        "    plt.ylim(-10, 10)\n",
        "    # plt.title(f\"2D Brownian Motion (Step {i+1})\")\n",
        "    # plt.xlabel('X')\n",
        "    # plt.ylabel('Y')\n",
        "\n",
        "    # Save frame\n",
        "    filename = f'brownian_motion_frames/frame_{i+1}.png'\n",
        "    filenames.append(filename)\n",
        "    plt.savefig(filename)\n",
        "    plt.close()\n",
        "\n",
        "# Create a GIF from the frames\n",
        "with imageio.get_writer('some_animation_1.gif', mode='I', duration=0.5) as writer:\n",
        "    for filename in filenames:\n",
        "        image = imageio.imread(filename)\n",
        "        writer.append_data(image)\n",
        "\n",
        "# Clean up the frames\n",
        "for filename in filenames:\n",
        "    os.remove(filename)\n",
        "\n",
        "print(\"GIF created and saved as 'some_animation_1.gif'\")"
      ]
    },
    {
      "cell_type": "code",
      "source": [
        "! pip install yfinance"
      ],
      "metadata": {
        "colab": {
          "base_uri": "https://localhost:8080/"
        },
        "id": "_694FJIr-N4c",
        "outputId": "caed6f83-493d-4cc5-fd2a-8672de262f5b"
      },
      "execution_count": 4,
      "outputs": [
        {
          "output_type": "stream",
          "name": "stdout",
          "text": [
            "Requirement already satisfied: yfinance in /usr/local/lib/python3.10/dist-packages (0.2.40)\n",
            "Requirement already satisfied: pandas>=1.3.0 in /usr/local/lib/python3.10/dist-packages (from yfinance) (2.0.3)\n",
            "Requirement already satisfied: numpy>=1.16.5 in /usr/local/lib/python3.10/dist-packages (from yfinance) (1.25.2)\n",
            "Requirement already satisfied: requests>=2.31 in /usr/local/lib/python3.10/dist-packages (from yfinance) (2.31.0)\n",
            "Requirement already satisfied: multitasking>=0.0.7 in /usr/local/lib/python3.10/dist-packages (from yfinance) (0.0.11)\n",
            "Requirement already satisfied: lxml>=4.9.1 in /usr/local/lib/python3.10/dist-packages (from yfinance) (4.9.4)\n",
            "Requirement already satisfied: platformdirs>=2.0.0 in /usr/local/lib/python3.10/dist-packages (from yfinance) (4.2.2)\n",
            "Requirement already satisfied: pytz>=2022.5 in /usr/local/lib/python3.10/dist-packages (from yfinance) (2023.4)\n",
            "Requirement already satisfied: frozendict>=2.3.4 in /usr/local/lib/python3.10/dist-packages (from yfinance) (2.4.4)\n",
            "Requirement already satisfied: peewee>=3.16.2 in /usr/local/lib/python3.10/dist-packages (from yfinance) (3.17.5)\n",
            "Requirement already satisfied: beautifulsoup4>=4.11.1 in /usr/local/lib/python3.10/dist-packages (from yfinance) (4.12.3)\n",
            "Requirement already satisfied: html5lib>=1.1 in /usr/local/lib/python3.10/dist-packages (from yfinance) (1.1)\n",
            "Requirement already satisfied: soupsieve>1.2 in /usr/local/lib/python3.10/dist-packages (from beautifulsoup4>=4.11.1->yfinance) (2.5)\n",
            "Requirement already satisfied: six>=1.9 in /usr/local/lib/python3.10/dist-packages (from html5lib>=1.1->yfinance) (1.16.0)\n",
            "Requirement already satisfied: webencodings in /usr/local/lib/python3.10/dist-packages (from html5lib>=1.1->yfinance) (0.5.1)\n",
            "Requirement already satisfied: python-dateutil>=2.8.2 in /usr/local/lib/python3.10/dist-packages (from pandas>=1.3.0->yfinance) (2.8.2)\n",
            "Requirement already satisfied: tzdata>=2022.1 in /usr/local/lib/python3.10/dist-packages (from pandas>=1.3.0->yfinance) (2024.1)\n",
            "Requirement already satisfied: charset-normalizer<4,>=2 in /usr/local/lib/python3.10/dist-packages (from requests>=2.31->yfinance) (3.3.2)\n",
            "Requirement already satisfied: idna<4,>=2.5 in /usr/local/lib/python3.10/dist-packages (from requests>=2.31->yfinance) (3.7)\n",
            "Requirement already satisfied: urllib3<3,>=1.21.1 in /usr/local/lib/python3.10/dist-packages (from requests>=2.31->yfinance) (2.0.7)\n",
            "Requirement already satisfied: certifi>=2017.4.17 in /usr/local/lib/python3.10/dist-packages (from requests>=2.31->yfinance) (2024.6.2)\n"
          ]
        }
      ]
    },
    {
      "cell_type": "code",
      "source": [
        "import numpy as np\n",
        "import matplotlib.pyplot as plt\n",
        "import imageio\n",
        "import os\n",
        "import yfinance as yf\n",
        "import pandas as pd\n",
        "\n",
        "# Parameters\n",
        "num_steps = 100  # Number of time stamps\n",
        "\n",
        "# Download stock data for a custom name\n",
        "nom = \"VERX\"\n",
        "stock_data = yf.download(f\"{nom}\", start=\"2023-01-01\", end=\"2023-12-31\")\n",
        "\n",
        "# Compute daily returns\n",
        "stock_data['Daily Return'] = stock_data['Adj Close'].pct_change()\n",
        "daily_returns = stock_data['Daily Return'].dropna()\n",
        "\n",
        "# Compute weekly returns\n",
        "stock_data['Weekly Return'] = stock_data['Adj Close'].pct_change(5)\n",
        "weekly_returns = stock_data['Weekly Return'].dropna()\n",
        "\n",
        "# Take the first `num_steps` returns for plotting\n",
        "daily_returns = daily_returns[:num_steps]\n",
        "weekly_returns = weekly_returns[:num_steps]\n",
        "\n",
        "# Generate Brownian motion path using stock returns\n",
        "x = np.cumsum(daily_returns)\n",
        "y = np.cumsum(weekly_returns)\n",
        "\n",
        "# Create a directory to save the frames\n",
        "os.makedirs('brownian_motion_frames', exist_ok=True)\n",
        "\n",
        "# Plot each step and save the frames\n",
        "filenames = []\n",
        "for i in range(num_steps):\n",
        "    plt.figure(figsize=(6, 6))\n",
        "    plt.plot(x[:i+1], y[:i+1], 'b-', alpha=0.6)  # Path\n",
        "    plt.plot(x[i], y[i], 'ro')  # Current position\n",
        "    plt.xlim(x.min() - 0.01, x.max() + 0.01)\n",
        "    plt.ylim(y.min() - 0.01, y.max() + 0.01)\n",
        "    # plt.title(f\"2D Brownian Motion with {nom} Returns (Step {i+1})\")\n",
        "    # plt.xlabel('Cumulative Daily Returns')\n",
        "    # plt.ylabel('Cumulative Weekly Returns')\n",
        "\n",
        "    # Save frame\n",
        "    filename = f'brownian_motion_frames/frame_{i+1}.png'\n",
        "    filenames.append(filename)\n",
        "    plt.savefig(filename)\n",
        "    plt.close()\n",
        "\n",
        "# Create a GIF from the frames\n",
        "with imageio.get_writer('some_animation_2.gif', mode='I', duration=0.5) as writer:\n",
        "    for filename in filenames:\n",
        "        image = imageio.imread(filename)\n",
        "        writer.append_data(image)\n",
        "\n",
        "# Clean up the frames\n",
        "for filename in filenames:\n",
        "    os.remove(filename)\n",
        "\n",
        "print(\"GIF created and saved as 'some_animation_2.gif'\")\n"
      ],
      "metadata": {
        "colab": {
          "base_uri": "https://localhost:8080/"
        },
        "id": "ApJCEwhO_JYc",
        "outputId": "3b6022bd-b3e3-4603-c7ea-1358c910a1eb"
      },
      "execution_count": 12,
      "outputs": [
        {
          "output_type": "stream",
          "name": "stderr",
          "text": [
            "\r[*********************100%%**********************]  1 of 1 completed\n",
            "<ipython-input-12-4019f00d13e7>:55: DeprecationWarning: Starting with ImageIO v3 the behavior of this function will switch to that of iio.v3.imread. To keep the current behavior (and make this warning disappear) use `import imageio.v2 as imageio` or call `imageio.v2.imread` directly.\n",
            "  image = imageio.imread(filename)\n"
          ]
        },
        {
          "output_type": "stream",
          "name": "stdout",
          "text": [
            "GIF created and saved as 'some_animation_2.gif'\n"
          ]
        }
      ]
    },
    {
      "cell_type": "code",
      "source": [
        "import numpy as np\n",
        "import matplotlib.pyplot as plt\n",
        "import imageio\n",
        "import os\n",
        "import yfinance as yf\n",
        "import pandas as pd\n",
        "\n",
        "# Parameters\n",
        "num_steps = 100  # Number of time stamps\n",
        "\n",
        "# Download stock data for custom name\n",
        "nom = \"VERX\"\n",
        "stock_data = yf.download(f\"{nom}\", start=\"2023-01-01\", end=\"2023-12-31\")\n",
        "\n",
        "# Compute daily returns\n",
        "stock_data['Daily Return'] = stock_data['Adj Close'].pct_change()\n",
        "daily_returns = stock_data['Daily Return'].dropna()\n",
        "\n",
        "# Compute weekly returns\n",
        "stock_data['Weekly Return'] = stock_data['Adj Close'].pct_change(5)\n",
        "weekly_returns = stock_data['Weekly Return'].dropna()\n",
        "\n",
        "# Compute mean and standard deviation\n",
        "daily_mean = daily_returns.mean()\n",
        "daily_std = daily_returns.std()\n",
        "\n",
        "weekly_mean = weekly_returns.mean()\n",
        "weekly_std = weekly_returns.std()\n",
        "\n",
        "# Generate random numbers based on daily and weekly returns\n",
        "x = np.cumsum(np.random.normal(daily_mean, daily_std, num_steps))\n",
        "y = np.cumsum(np.random.normal(weekly_mean, weekly_std, num_steps))\n",
        "\n",
        "# Create a directory to save the frames\n",
        "os.makedirs('brownian_motion_frames', exist_ok=True)\n",
        "\n",
        "# Plot each step and save the frames\n",
        "filenames = []\n",
        "for i in range(num_steps):\n",
        "    plt.figure(figsize=(6, 6))\n",
        "    plt.plot(x[:i+1], y[:i+1], 'b-', alpha=0.6)  # Path\n",
        "    plt.plot(x[i], y[i], 'ro')  # Current position\n",
        "    plt.xlim(x.min() - 0.01, x.max() + 0.01)\n",
        "    plt.ylim(y.min() - 0.01, y.max() + 0.01)\n",
        "    # plt.title(f\"2D Brownian Motion with {nom} Returns (Step {i+1})\")\n",
        "    # plt.xlabel('Cumulative Daily Returns')\n",
        "    # plt.ylabel('Cumulative Weekly Returns')\n",
        "\n",
        "    # Save frame\n",
        "    filename = f'brownian_motion_frames/frame_{i+1}.png'\n",
        "    filenames.append(filename)\n",
        "    plt.savefig(filename)\n",
        "    plt.close()\n",
        "\n",
        "# Create a GIF from the frames\n",
        "with imageio.get_writer('some_animation_3.gif', mode='I', duration=0.5) as writer:\n",
        "    for filename in filenames:\n",
        "        image = imageio.imread(filename)\n",
        "        writer.append_data(image)\n",
        "\n",
        "# Clean up the frames\n",
        "for filename in filenames:\n",
        "    os.remove(filename)\n",
        "\n",
        "print(\"GIF created and saved as 'some_animation_3.gif'\")\n"
      ],
      "metadata": {
        "colab": {
          "base_uri": "https://localhost:8080/"
        },
        "id": "bg5IOR-2_hQc",
        "outputId": "c27e1b92-7f21-4714-be07-8e24ddd1463e"
      },
      "execution_count": 13,
      "outputs": [
        {
          "output_type": "stream",
          "name": "stderr",
          "text": [
            "\r[*********************100%%**********************]  1 of 1 completed\n",
            "<ipython-input-13-7cc976e290e2>:58: DeprecationWarning: Starting with ImageIO v3 the behavior of this function will switch to that of iio.v3.imread. To keep the current behavior (and make this warning disappear) use `import imageio.v2 as imageio` or call `imageio.v2.imread` directly.\n",
            "  image = imageio.imread(filename)\n"
          ]
        },
        {
          "output_type": "stream",
          "name": "stdout",
          "text": [
            "GIF created and saved as 'some_animation_3.gif'\n"
          ]
        }
      ]
    },
    {
      "cell_type": "code",
      "source": [],
      "metadata": {
        "id": "b5iIv3YkBpOY"
      },
      "execution_count": null,
      "outputs": []
    }
  ]
}