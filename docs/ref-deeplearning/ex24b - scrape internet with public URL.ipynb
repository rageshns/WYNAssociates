{
  "nbformat": 4,
  "nbformat_minor": 0,
  "metadata": {
    "colab": {
      "provenance": [],
      "toc_visible": true
    },
    "kernelspec": {
      "name": "python3",
      "display_name": "Python 3"
    },
    "language_info": {
      "name": "python"
    }
  },
  "cells": [
    {
      "cell_type": "code",
      "execution_count": 1,
      "metadata": {
        "id": "V-awBBoQ62cu"
      },
      "outputs": [],
      "source": [
        "import requests\n",
        "from bs4 import BeautifulSoup\n",
        "from typing import List"
      ]
    },
    {
      "cell_type": "code",
      "source": [
        "def scrape_urls(url: str) -> List[str]:\n",
        "    \"\"\"\n",
        "    Scrapes the text from a given URL and its sub-URLs.\n",
        "\n",
        "    Args:\n",
        "        url (str): The URL to scrape.\n",
        "\n",
        "    Returns:\n",
        "        List[str]: A list of strings containing the extracted text.\n",
        "    \"\"\"\n",
        "    result = []\n",
        "    visited_urls = set()  # Keep track of visited URLs to avoid duplicates\n",
        "\n",
        "    def scrape_text(url: str) -> None:\n",
        "        \"\"\"\n",
        "        Helper function to scrape text from a URL.\n",
        "\n",
        "        Args:\n",
        "            url (str): The URL to scrape.\n",
        "        \"\"\"\n",
        "        nonlocal result, visited_urls\n",
        "\n",
        "        if url in visited_urls:\n",
        "            return  # Skip already visited URLs\n",
        "\n",
        "        visited_urls.add(url)\n",
        "\n",
        "        try:\n",
        "            response = requests.get(url)\n",
        "            soup = BeautifulSoup(response.content, 'html.parser')\n",
        "            text = soup.get_text()\n",
        "            result.append(text)\n",
        "        except requests.exceptions.RequestException as e:\n",
        "            print(f\"An error occurred while scraping {url}: {e}\")\n",
        "\n",
        "        # Find all anchor tags and recursively scrape their href URLs\n",
        "        for anchor in soup.find_all('a', href=True):\n",
        "            sub_url = anchor['href']\n",
        "            if sub_url.startswith('http'):\n",
        "                scrape_text(sub_url)\n",
        "            else:\n",
        "                # Construct absolute URL if the sub URL is relative\n",
        "                base_url = response.url\n",
        "                sub_url = f\"{base_url}/{sub_url}\"\n",
        "                scrape_text(sub_url)\n",
        "\n",
        "    scrape_text(url)\n",
        "    return result\n"
      ],
      "metadata": {
        "id": "bd-JgGZf66ZC"
      },
      "execution_count": 2,
      "outputs": []
    },
    {
      "cell_type": "code",
      "source": [
        "%%time\n",
        "\n",
        "url = \"https://finviz.com/news.ashx\"\n",
        "scraped_text = scrape_urls(url)\n",
        "print(scraped_text)"
      ],
      "metadata": {
        "id": "iVlN0fhU7EFf",
        "colab": {
          "base_uri": "https://localhost:8080/"
        },
        "outputId": "065ca74c-6294-41f8-be21-b1956a7cd326"
      },
      "execution_count": 4,
      "outputs": [
        {
          "output_type": "stream",
          "name": "stdout",
          "text": [
            "['Just a moment...Enable JavaScript and cookies to continue\\n']\n",
            "CPU times: user 110 ms, sys: 964 µs, total: 111 ms\n",
            "Wall time: 169 ms\n"
          ]
        }
      ]
    },
    {
      "cell_type": "code",
      "source": [
        "len(scraped_text[0])"
      ],
      "metadata": {
        "colab": {
          "base_uri": "https://localhost:8080/"
        },
        "id": "VnUuNcRk9XYH",
        "outputId": "6425013e-26e1-413a-9730-2df8b7cb43ff"
      },
      "execution_count": 7,
      "outputs": [
        {
          "output_type": "execute_result",
          "data": {
            "text/plain": [
              "58"
            ]
          },
          "metadata": {},
          "execution_count": 7
        }
      ]
    }
  ]
}