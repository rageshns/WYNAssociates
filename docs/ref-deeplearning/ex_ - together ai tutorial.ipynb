{
  "nbformat": 4,
  "nbformat_minor": 0,
  "metadata": {
    "colab": {
      "provenance": []
    },
    "kernelspec": {
      "name": "python3",
      "display_name": "Python 3"
    },
    "language_info": {
      "name": "python"
    }
  },
  "cells": [
    {
      "cell_type": "code",
      "source": [
        "! pip install together"
      ],
      "metadata": {
        "id": "3LwAExTyKAgA"
      },
      "execution_count": null,
      "outputs": []
    },
    {
      "cell_type": "code",
      "source": [
        "from google.colab import userdata\n",
        "TOGETHER_API_KEY = userdata.get('TOGETHER_API_KEY')"
      ],
      "metadata": {
        "id": "__k_EIP3KQZN"
      },
      "execution_count": 2,
      "outputs": []
    },
    {
      "cell_type": "code",
      "source": [
        "from together import Together\n",
        "\n",
        "\n",
        "client = Together(api_key=TOGETHER_API_KEY)\n",
        "\n",
        "\n",
        "def call_llama(prompt: str) -> str:\n",
        "    \"\"\"\n",
        "        Send a prompt to the Llama model and return the response.\n",
        "        Args:\n",
        "            prompt (str): The input prompt to send to the Llama model.\n",
        "        Returns:\n",
        "            str: The response from the Llama model.\n",
        "    \"\"\"\n",
        "\n",
        "    # Create a completion request with the prompt\n",
        "    response = client.chat.completions.create(\n",
        "\n",
        "        # Use the Llama-3-8b-chat-hf model\n",
        "        # model=\"meta-llama/Llama-3-8b-chat-hf\",\n",
        "        model=\"meta-llama/Meta-Llama-3.1-405B-Instruct-Turbo\",\n",
        "\n",
        "        # Define the prompt as a user message\n",
        "        messages=[\n",
        "            {\n",
        "                \"role\": \"user\",\n",
        "                \"content\": prompt  # Use the input prompt\n",
        "            }\n",
        "        ],\n",
        "    )\n",
        "\n",
        "    # Return the content of the first response message\n",
        "    return response.choices[0].message.content"
      ],
      "metadata": {
        "id": "jr4OXDCTK4Oi"
      },
      "execution_count": 22,
      "outputs": []
    },
    {
      "cell_type": "code",
      "execution_count": 23,
      "metadata": {
        "id": "LXYXUmzfJ_kC"
      },
      "outputs": [],
      "source": [
        "response = call_llama(\"Hello, how are you?\")"
      ]
    },
    {
      "cell_type": "code",
      "source": [
        "response"
      ],
      "metadata": {
        "colab": {
          "base_uri": "https://localhost:8080/",
          "height": 36
        },
        "id": "B10h3a4PKV1j",
        "outputId": "102831f4-c1b1-42f0-a4de-1c35f08a9cc6"
      },
      "execution_count": 24,
      "outputs": [
        {
          "output_type": "execute_result",
          "data": {
            "text/plain": [
              "\"I'm just a language model, so I don't have feelings or emotions like humans do. However, I'm functioning properly and ready to help you with any questions or tasks you may have. How can I assist you today?\""
            ],
            "application/vnd.google.colaboratory.intrinsic+json": {
              "type": "string"
            }
          },
          "metadata": {},
          "execution_count": 24
        }
      ]
    }
  ]
}