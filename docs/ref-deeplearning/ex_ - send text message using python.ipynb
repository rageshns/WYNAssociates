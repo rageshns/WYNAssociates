{
  "nbformat": 4,
  "nbformat_minor": 0,
  "metadata": {
    "colab": {
      "provenance": []
    },
    "kernelspec": {
      "name": "python3",
      "display_name": "Python 3"
    },
    "language_info": {
      "name": "python"
    }
  },
  "cells": [
    {
      "cell_type": "code",
      "execution_count": null,
      "metadata": {
        "id": "V_OdtTvJGTCX"
      },
      "outputs": [],
      "source": [
        "! pip install twilio"
      ]
    },
    {
      "cell_type": "code",
      "source": [
        "from google.colab import userdata"
      ],
      "metadata": {
        "id": "OSrcb9VaGpGL"
      },
      "execution_count": 2,
      "outputs": []
    },
    {
      "cell_type": "code",
      "source": [
        "from twilio.rest import Client\n",
        "\n",
        "# Your Twilio account SID and auth token\n",
        "account_sid = userdata.get(\"YOUR_TWILIO_ACCOUNT_SID\")\n",
        "auth_token = userdata.get(\"YOUR_TWILIO_AUTH_TOKEN\")\n",
        "\n",
        "client = Client(account_sid, auth_token)\n",
        "\n",
        "message = client.messages.create(\n",
        "    body = 'My name is John and we are talking about YSA today on Saturday!',\n",
        "    from_= \"+1XXXXXXXXXX\",\n",
        "    to = '+1XXXXXXXXXX'\n",
        ")\n",
        "\n",
        "print(message.sid)"
      ],
      "metadata": {
        "id": "4TXuWtEYGVsi"
      },
      "execution_count": null,
      "outputs": []
    }
  ]
}