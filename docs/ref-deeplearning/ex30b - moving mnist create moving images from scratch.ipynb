{
  "nbformat": 4,
  "nbformat_minor": 0,
  "metadata": {
    "colab": {
      "provenance": [],
      "machine_shape": "hm"
    },
    "kernelspec": {
      "name": "python3",
      "display_name": "Python 3"
    },
    "language_info": {
      "name": "python"
    }
  },
  "cells": [
    {
      "cell_type": "markdown",
      "source": [
        "# Create Moving MNIST Dataset from Scratch"
      ],
      "metadata": {
        "id": "F9B5zb_HYUsJ"
      }
    },
    {
      "cell_type": "markdown",
      "source": [
        "## Download MNIST Dataset"
      ],
      "metadata": {
        "id": "Cb5vsfmtYX40"
      }
    },
    {
      "cell_type": "code",
      "execution_count": null,
      "metadata": {
        "id": "7lZU3FnrYS5Q"
      },
      "outputs": [],
      "source": [
        "import tensorflow as tf\n",
        "\n",
        "# Load MNIST data\n",
        "(x_train, _), (x_val, _) = tf.keras.datasets.mnist.load_data()\n",
        "\n",
        "# Reshape the data to include the channel dimension\n",
        "x_train = x_train[..., tf.newaxis]  # shape: (60000, 28, 28, 1)\n",
        "x_val = x_val[..., tf.newaxis]      # shape: (10000, 28, 28, 1)"
      ]
    },
    {
      "cell_type": "code",
      "source": [
        "print(x_train.shape)\n",
        "print(x_val.shape)"
      ],
      "metadata": {
        "colab": {
          "base_uri": "https://localhost:8080/"
        },
        "id": "zRog1iS7Y9DO",
        "outputId": "5cc53691-047e-40d7-e068-59452340c729"
      },
      "execution_count": null,
      "outputs": [
        {
          "output_type": "stream",
          "name": "stdout",
          "text": [
            "(60000, 28, 28, 1)\n",
            "(10000, 28, 28, 1)\n"
          ]
        }
      ]
    },
    {
      "cell_type": "markdown",
      "source": [
        "## Download CIFAR10 Dataset"
      ],
      "metadata": {
        "id": "MYF3CNwvqP8o"
      }
    },
    {
      "cell_type": "code",
      "source": [
        "import tensorflow as tf\n",
        "\n",
        "# Load MNIST data\n",
        "(x_train, _), (x_val, _) = tf.keras.datasets.cifar10.load_data()"
      ],
      "metadata": {
        "id": "jYMd3TLRqRwK"
      },
      "execution_count": null,
      "outputs": []
    },
    {
      "cell_type": "code",
      "source": [
        "print(x_train.shape)\n",
        "print(x_val.shape)"
      ],
      "metadata": {
        "colab": {
          "base_uri": "https://localhost:8080/"
        },
        "id": "zzT-1wArqZZP",
        "outputId": "c0b87d7c-9279-430d-f805-61eee3274962"
      },
      "execution_count": null,
      "outputs": [
        {
          "output_type": "stream",
          "name": "stdout",
          "text": [
            "(50000, 32, 32, 3)\n",
            "(10000, 32, 32, 3)\n"
          ]
        }
      ]
    },
    {
      "cell_type": "markdown",
      "source": [
        "## Define Trajectory"
      ],
      "metadata": {
        "id": "OIrotIvqYbd3"
      }
    },
    {
      "cell_type": "code",
      "source": [
        "import numpy as np\n",
        "\n",
        "image_size = 64  # Size of the MNIST image\n",
        "digit_size = x_train.shape[1]  # Digit occupies the whole image\n",
        "step_length = .5  # Step length for each move in the sequence\n",
        "\n",
        "def get_random_trajectory(seq_length):\n",
        "    \"\"\"Generate a random trajectory.\"\"\"\n",
        "    canvas_size = image_size - digit_size\n",
        "    x, y, v_x, v_y = np.random.random(4)\n",
        "    out_x, out_y = [], []\n",
        "\n",
        "    for _ in range(seq_length):\n",
        "        # Take a step along the velocity.\n",
        "        y += v_y * step_length\n",
        "        x += v_x * step_length\n",
        "\n",
        "        # Bounce off edges.\n",
        "        if x <= 0:\n",
        "            x = 0\n",
        "            v_x = -v_x\n",
        "        if x >= 1.0:\n",
        "            x = 1.0\n",
        "            v_x = -v_x\n",
        "        if y <= 0:\n",
        "            y = 0\n",
        "            v_y = -v_y\n",
        "        if y >= 1.0:\n",
        "            y = 1.0\n",
        "            v_y = -v_y\n",
        "\n",
        "        # Store the position scaled to the canvas size\n",
        "        out_x.append(int(x * canvas_size))\n",
        "        out_y.append(int(y * canvas_size))\n",
        "\n",
        "    return np.array(out_x), np.array(out_y)\n",
        "\n",
        "get_random_trajectory(30)"
      ],
      "metadata": {
        "colab": {
          "base_uri": "https://localhost:8080/"
        },
        "id": "ZY5URjzsYZuh",
        "outputId": "66700db5-8318-4526-f876-812871ad92d3"
      },
      "execution_count": null,
      "outputs": [
        {
          "output_type": "execute_result",
          "data": {
            "text/plain": [
              "(array([28, 31, 35, 36, 32, 29, 25, 22, 18, 15, 11,  8,  4,  1,  0,  3,  6,\n",
              "        10, 13, 17, 20, 24, 27, 31, 34, 36, 32, 29, 25, 22]),\n",
              " array([34, 36, 24, 13,  2,  0, 11, 22, 33, 36, 24, 13,  2,  0, 11, 22, 33,\n",
              "        36, 24, 13,  2,  0, 11, 22, 33, 36, 24, 13,  2,  0]))"
            ]
          },
          "metadata": {},
          "execution_count": 74
        }
      ]
    },
    {
      "cell_type": "markdown",
      "source": [
        "## Generate Moving MNIST Sequences"
      ],
      "metadata": {
        "id": "2jXzcKF_YhxI"
      }
    },
    {
      "cell_type": "code",
      "source": [
        "def generate_moving_mnist_sequence(digit, seq_length=60):\n",
        "    \"\"\"Generate a sequence of a single digit moving in a canvas, supporting both grayscale and RGB.\"\"\"\n",
        "\n",
        "    # Determine the number of channels (1 for grayscale, 3 for RGB)\n",
        "    channels = digit.shape[-1] if digit.ndim == 3 else 1\n",
        "\n",
        "    # Generate the trajectory for the movement\n",
        "    x_trajectory, y_trajectory = get_random_trajectory(seq_length)\n",
        "\n",
        "    # Initialize the sequence with the appropriate channel dimension\n",
        "    sequence = np.zeros((seq_length, image_size, image_size, channels), dtype=np.uint8)\n",
        "\n",
        "    for t in range(seq_length):\n",
        "        # Place the digit at the trajectory position\n",
        "        top_left_x = x_trajectory[t]\n",
        "        top_left_y = y_trajectory[t]\n",
        "\n",
        "        # Create a blank frame with the same channel dimension as the digit\n",
        "        frame = np.zeros((image_size, image_size, channels), dtype=np.uint8)\n",
        "\n",
        "        # Place the digit within the frame, ensuring the correct channel placement\n",
        "        if channels == 1:  # Grayscale\n",
        "            frame[top_left_y:top_left_y + digit_size, top_left_x:top_left_x + digit_size, 0] = digit.squeeze()\n",
        "        else:  # RGB\n",
        "            frame[top_left_y:top_left_y + digit_size, top_left_x:top_left_x + digit_size, :] = digit\n",
        "\n",
        "        # Assign the frame to the sequence at time t\n",
        "        sequence[t] = frame\n",
        "\n",
        "    return sequence"
      ],
      "metadata": {
        "id": "Ni6VHtLNYgKF"
      },
      "execution_count": null,
      "outputs": []
    },
    {
      "cell_type": "markdown",
      "source": [
        "## Create the Training and Validation Sequences"
      ],
      "metadata": {
        "id": "OVNxr2xfYn9R"
      }
    },
    {
      "cell_type": "code",
      "source": [
        "from tqdm import tqdm"
      ],
      "metadata": {
        "id": "o_Ejh2mwYuUz"
      },
      "execution_count": null,
      "outputs": []
    },
    {
      "cell_type": "code",
      "source": [
        "import numpy as np\n",
        "from tqdm import tqdm  # For progress bar\n",
        "\n",
        "# Determine the number of channels in the dataset (assumes all images have the same number of channels)\n",
        "channels = x_train.shape[-1] if x_train.ndim == 4 else 1\n",
        "\n",
        "# Initialize x_train_seq and x_val_seq with the correct shape, based on channels\n",
        "seq_length = 40\n",
        "x_train_seq = np.zeros((x_train.shape[0], seq_length, image_size, image_size, channels), dtype=np.uint8)\n",
        "x_val_seq = np.zeros((x_val.shape[0], seq_length, image_size, image_size, channels), dtype=np.uint8)\n",
        "\n",
        "# Populate x_train_seq and x_val_seq by generating sequences\n",
        "for i in tqdm(range(x_train.shape[0])):\n",
        "    x_train_seq[i] = generate_moving_mnist_sequence(x_train[i], seq_length)\n",
        "\n",
        "for i in tqdm(range(x_val.shape[0])):\n",
        "    x_val_seq[i] = generate_moving_mnist_sequence(x_val[i], seq_length)\n"
      ],
      "metadata": {
        "colab": {
          "base_uri": "https://localhost:8080/"
        },
        "id": "r-c7pMeQYkmu",
        "outputId": "2558c733-0154-4148-983c-0bc1ea5618f8"
      },
      "execution_count": null,
      "outputs": [
        {
          "output_type": "stream",
          "name": "stderr",
          "text": [
            "100%|██████████| 60000/60000 [00:11<00:00, 5215.52it/s]\n",
            "100%|██████████| 10000/10000 [00:01<00:00, 5224.25it/s]\n"
          ]
        }
      ]
    },
    {
      "cell_type": "code",
      "source": [
        "print(x_train_seq.shape)\n",
        "print(x_val_seq.shape)"
      ],
      "metadata": {
        "colab": {
          "base_uri": "https://localhost:8080/"
        },
        "id": "Ijmjf0FelsIR",
        "outputId": "9f7bfa34-d4e3-4611-c980-4760d459376f"
      },
      "execution_count": null,
      "outputs": [
        {
          "output_type": "stream",
          "name": "stdout",
          "text": [
            "(60000, 40, 64, 64, 1)\n",
            "(10000, 40, 64, 64, 1)\n"
          ]
        }
      ]
    },
    {
      "cell_type": "markdown",
      "source": [
        "## Slice Sequences to Create Input-Output Pairs"
      ],
      "metadata": {
        "id": "MT4B7_dxYrYE"
      }
    },
    {
      "cell_type": "code",
      "source": [
        "mid_seq_length = x_train_seq.shape[1] // 2\n",
        "print(mid_seq_length)"
      ],
      "metadata": {
        "colab": {
          "base_uri": "https://localhost:8080/"
        },
        "id": "0vkYvrDnluwL",
        "outputId": "615292d1-a029-41f4-fc21-37e384955020"
      },
      "execution_count": null,
      "outputs": [
        {
          "output_type": "stream",
          "name": "stdout",
          "text": [
            "20\n"
          ]
        }
      ]
    },
    {
      "cell_type": "code",
      "source": [
        "# Split x_train_seq and x_val_seq along the sequence axis into input and output\n",
        "x_train_in = x_train_seq[:, :mid_seq_length, ...]\n",
        "x_train_out = x_train_seq[:, mid_seq_length:, ...]\n",
        "\n",
        "x_val_in = x_val_seq[:, :mid_seq_length, ...]\n",
        "x_val_out = x_val_seq[:, mid_seq_length:, ...]"
      ],
      "metadata": {
        "id": "dRQ8wWykYpoj"
      },
      "execution_count": null,
      "outputs": []
    },
    {
      "cell_type": "code",
      "source": [
        "print(x_train_in.shape)\n",
        "print(x_train_out.shape)\n",
        "print(x_val_in.shape)\n",
        "print(x_val_out.shape)"
      ],
      "metadata": {
        "colab": {
          "base_uri": "https://localhost:8080/"
        },
        "id": "p6sTxPfuY5qN",
        "outputId": "39509403-a768-43f8-88b9-24b9e8771248"
      },
      "execution_count": null,
      "outputs": [
        {
          "output_type": "stream",
          "name": "stdout",
          "text": [
            "(60000, 20, 64, 64, 1)\n",
            "(60000, 20, 64, 64, 1)\n",
            "(10000, 20, 64, 64, 1)\n",
            "(10000, 20, 64, 64, 1)\n"
          ]
        }
      ]
    },
    {
      "cell_type": "markdown",
      "source": [
        "## Visualization in `.gif` file"
      ],
      "metadata": {
        "id": "XEtCx3JdZ4-I"
      }
    },
    {
      "cell_type": "code",
      "source": [
        "import numpy as np\n",
        "import matplotlib.pyplot as plt\n",
        "import imageio.v2 as imageio\n",
        "import io\n",
        "import random\n",
        "\n",
        "# Select a few random examples from the dataset\n",
        "num_samples = 5  # Number of sequences to display\n",
        "seq_length = 30  # Length of each sequence to display\n",
        "\n",
        "# Randomly select indices for sample display\n",
        "sample_indices = random.sample(range(len(x_train_in)), num_samples)\n",
        "\n",
        "# Prepare arrays to store the frames for the selected samples\n",
        "truth_frames_in = x_train_in[sample_indices]  # Shape (5, 30, 28, 28, 1)\n",
        "truth_frames_out = x_train_out[sample_indices]  # Shape (5, 30, 28, 28, 1)\n",
        "\n",
        "print(truth_frames_in.shape)\n",
        "print(truth_frames_out.shape)"
      ],
      "metadata": {
        "colab": {
          "base_uri": "https://localhost:8080/"
        },
        "id": "60z-Qtn-Y6ht",
        "outputId": "f0feb6f0-57ac-4cbe-bf09-9b792fefdd77"
      },
      "execution_count": null,
      "outputs": [
        {
          "output_type": "stream",
          "name": "stdout",
          "text": [
            "(5, 20, 64, 64, 1)\n",
            "(5, 20, 64, 64, 1)\n"
          ]
        }
      ]
    },
    {
      "cell_type": "code",
      "source": [
        "# Get the minimum sequence length available in the samples to avoid out-of-bounds errors\n",
        "seq_length = min(truth_frames_in.shape[1], truth_frames_out.shape[1], seq_length)\n",
        "\n",
        "def create_gif(frames, file_name):\n",
        "    \"\"\"Creates a GIF from the frames.\"\"\"\n",
        "    frames_list = []\n",
        "    for frame_idx in range(seq_length):  # Loop through the sequence frames\n",
        "        fig, axs = plt.subplots(num_samples, 1, figsize=(5, 17))\n",
        "        fig.subplots_adjust(wspace=0.1, hspace=0.1)\n",
        "\n",
        "        for row in range(num_samples):\n",
        "            # Display the true frame in grayscale\n",
        "            axs[row].imshow(frames[row, frame_idx].squeeze(), cmap=\"gray\")\n",
        "            axs[row].axis(\"off\")\n",
        "            axs[row].set_title(\"Ground Truth\")\n",
        "\n",
        "        # Add timestamp to the top of the figure\n",
        "        fig.text(0.5, 0.92, f'Timestamp: t={frame_idx + 1}', ha='center', va='center', transform=fig.transFigure)\n",
        "\n",
        "        # Convert figure to image and add to frames list\n",
        "        buf = io.BytesIO()\n",
        "        plt.savefig(buf, format=\"png\")\n",
        "        buf.seek(0)\n",
        "        frames_list.append(imageio.imread(buf))\n",
        "        buf.close()\n",
        "        plt.close(fig)\n",
        "\n",
        "    # Save the frames list as a single GIF\n",
        "    imageio.mimsave(f\"{file_name}.gif\", frames_list, duration=300)\n",
        "\n",
        "# Generate and save GIFs for x_train_in and x_train_out\n",
        "create_gif(truth_frames_in, \"x_train_in\")\n",
        "create_gif(truth_frames_out, \"x_train_out\")\n",
        "\n",
        "print(\"GIFs saved as 'x_train_in.gif' and 'x_train_out.gif'\")\n"
      ],
      "metadata": {
        "id": "rMvvYxuoselq"
      },
      "execution_count": null,
      "outputs": []
    },
    {
      "cell_type": "code",
      "source": [],
      "metadata": {
        "id": "vCueFunrf39w"
      },
      "execution_count": null,
      "outputs": []
    }
  ]
}