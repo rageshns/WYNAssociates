{
  "cells": [
    {
      "cell_type": "markdown",
      "id": "eacbb70c",
      "metadata": {
        "id": "eacbb70c"
      },
      "source": [
        "# Autogen: Coding and Financial Analysis"
      ]
    },
    {
      "cell_type": "code",
      "source": [
        "! pip install pyautogen"
      ],
      "metadata": {
        "colab": {
          "base_uri": "https://localhost:8080/"
        },
        "id": "-wlTi6zGU8GU",
        "outputId": "dfe45bc4-76c4-461f-f41c-1e1943c37807"
      },
      "id": "-wlTi6zGU8GU",
      "execution_count": null,
      "outputs": [
        {
          "output_type": "stream",
          "name": "stdout",
          "text": [
            "Collecting pyautogen\n",
            "  Downloading pyautogen-0.2.28-py3-none-any.whl (284 kB)\n",
            "\u001b[2K     \u001b[90m━━━━━━━━━━━━━━━━━━━━━━━━━━━━━━━━━━━━━━━━\u001b[0m \u001b[32m284.6/284.6 kB\u001b[0m \u001b[31m3.2 MB/s\u001b[0m eta \u001b[36m0:00:00\u001b[0m\n",
            "\u001b[?25hCollecting diskcache (from pyautogen)\n",
            "  Downloading diskcache-5.6.3-py3-none-any.whl (45 kB)\n",
            "\u001b[2K     \u001b[90m━━━━━━━━━━━━━━━━━━━━━━━━━━━━━━━━━━━━━━━━\u001b[0m \u001b[32m45.5/45.5 kB\u001b[0m \u001b[31m2.0 MB/s\u001b[0m eta \u001b[36m0:00:00\u001b[0m\n",
            "\u001b[?25hCollecting docker (from pyautogen)\n",
            "  Downloading docker-7.1.0-py3-none-any.whl (147 kB)\n",
            "\u001b[2K     \u001b[90m━━━━━━━━━━━━━━━━━━━━━━━━━━━━━━━━━━━━━━━━\u001b[0m \u001b[32m147.8/147.8 kB\u001b[0m \u001b[31m6.7 MB/s\u001b[0m eta \u001b[36m0:00:00\u001b[0m\n",
            "\u001b[?25hCollecting flaml (from pyautogen)\n",
            "  Downloading FLAML-2.1.2-py3-none-any.whl (296 kB)\n",
            "\u001b[2K     \u001b[90m━━━━━━━━━━━━━━━━━━━━━━━━━━━━━━━━━━━━━━━━\u001b[0m \u001b[32m296.7/296.7 kB\u001b[0m \u001b[31m9.4 MB/s\u001b[0m eta \u001b[36m0:00:00\u001b[0m\n",
            "\u001b[?25hRequirement already satisfied: numpy<2,>=1.17.0 in /usr/local/lib/python3.10/dist-packages (from pyautogen) (1.25.2)\n",
            "Collecting openai>=1.3 (from pyautogen)\n",
            "  Downloading openai-1.34.0-py3-none-any.whl (325 kB)\n",
            "\u001b[2K     \u001b[90m━━━━━━━━━━━━━━━━━━━━━━━━━━━━━━━━━━━━━━━━\u001b[0m \u001b[32m325.5/325.5 kB\u001b[0m \u001b[31m8.5 MB/s\u001b[0m eta \u001b[36m0:00:00\u001b[0m\n",
            "\u001b[?25hRequirement already satisfied: packaging in /usr/local/lib/python3.10/dist-packages (from pyautogen) (24.1)\n",
            "Requirement already satisfied: pydantic!=2.6.0,<3,>=1.10 in /usr/local/lib/python3.10/dist-packages (from pyautogen) (2.7.3)\n",
            "Collecting python-dotenv (from pyautogen)\n",
            "  Downloading python_dotenv-1.0.1-py3-none-any.whl (19 kB)\n",
            "Requirement already satisfied: termcolor in /usr/local/lib/python3.10/dist-packages (from pyautogen) (2.4.0)\n",
            "Collecting tiktoken (from pyautogen)\n",
            "  Downloading tiktoken-0.7.0-cp310-cp310-manylinux_2_17_x86_64.manylinux2014_x86_64.whl (1.1 MB)\n",
            "\u001b[2K     \u001b[90m━━━━━━━━━━━━━━━━━━━━━━━━━━━━━━━━━━━━━━━━\u001b[0m \u001b[32m1.1/1.1 MB\u001b[0m \u001b[31m13.4 MB/s\u001b[0m eta \u001b[36m0:00:00\u001b[0m\n",
            "\u001b[?25hRequirement already satisfied: anyio<5,>=3.5.0 in /usr/local/lib/python3.10/dist-packages (from openai>=1.3->pyautogen) (3.7.1)\n",
            "Requirement already satisfied: distro<2,>=1.7.0 in /usr/lib/python3/dist-packages (from openai>=1.3->pyautogen) (1.7.0)\n",
            "Collecting httpx<1,>=0.23.0 (from openai>=1.3->pyautogen)\n",
            "  Downloading httpx-0.27.0-py3-none-any.whl (75 kB)\n",
            "\u001b[2K     \u001b[90m━━━━━━━━━━━━━━━━━━━━━━━━━━━━━━━━━━━━━━━━\u001b[0m \u001b[32m75.6/75.6 kB\u001b[0m \u001b[31m1.6 MB/s\u001b[0m eta \u001b[36m0:00:00\u001b[0m\n",
            "\u001b[?25hRequirement already satisfied: sniffio in /usr/local/lib/python3.10/dist-packages (from openai>=1.3->pyautogen) (1.3.1)\n",
            "Requirement already satisfied: tqdm>4 in /usr/local/lib/python3.10/dist-packages (from openai>=1.3->pyautogen) (4.66.4)\n",
            "Requirement already satisfied: typing-extensions<5,>=4.7 in /usr/local/lib/python3.10/dist-packages (from openai>=1.3->pyautogen) (4.12.2)\n",
            "Requirement already satisfied: annotated-types>=0.4.0 in /usr/local/lib/python3.10/dist-packages (from pydantic!=2.6.0,<3,>=1.10->pyautogen) (0.7.0)\n",
            "Requirement already satisfied: pydantic-core==2.18.4 in /usr/local/lib/python3.10/dist-packages (from pydantic!=2.6.0,<3,>=1.10->pyautogen) (2.18.4)\n",
            "Requirement already satisfied: requests>=2.26.0 in /usr/local/lib/python3.10/dist-packages (from docker->pyautogen) (2.31.0)\n",
            "Requirement already satisfied: urllib3>=1.26.0 in /usr/local/lib/python3.10/dist-packages (from docker->pyautogen) (2.0.7)\n",
            "Requirement already satisfied: regex>=2022.1.18 in /usr/local/lib/python3.10/dist-packages (from tiktoken->pyautogen) (2024.5.15)\n",
            "Requirement already satisfied: idna>=2.8 in /usr/local/lib/python3.10/dist-packages (from anyio<5,>=3.5.0->openai>=1.3->pyautogen) (3.7)\n",
            "Requirement already satisfied: exceptiongroup in /usr/local/lib/python3.10/dist-packages (from anyio<5,>=3.5.0->openai>=1.3->pyautogen) (1.2.1)\n",
            "Requirement already satisfied: certifi in /usr/local/lib/python3.10/dist-packages (from httpx<1,>=0.23.0->openai>=1.3->pyautogen) (2024.6.2)\n",
            "Collecting httpcore==1.* (from httpx<1,>=0.23.0->openai>=1.3->pyautogen)\n",
            "  Downloading httpcore-1.0.5-py3-none-any.whl (77 kB)\n",
            "\u001b[2K     \u001b[90m━━━━━━━━━━━━━━━━━━━━━━━━━━━━━━━━━━━━━━━━\u001b[0m \u001b[32m77.9/77.9 kB\u001b[0m \u001b[31m4.0 MB/s\u001b[0m eta \u001b[36m0:00:00\u001b[0m\n",
            "\u001b[?25hCollecting h11<0.15,>=0.13 (from httpcore==1.*->httpx<1,>=0.23.0->openai>=1.3->pyautogen)\n",
            "  Downloading h11-0.14.0-py3-none-any.whl (58 kB)\n",
            "\u001b[2K     \u001b[90m━━━━━━━━━━━━━━━━━━━━━━━━━━━━━━━━━━━━━━━━\u001b[0m \u001b[32m58.3/58.3 kB\u001b[0m \u001b[31m3.3 MB/s\u001b[0m eta \u001b[36m0:00:00\u001b[0m\n",
            "\u001b[?25hRequirement already satisfied: charset-normalizer<4,>=2 in /usr/local/lib/python3.10/dist-packages (from requests>=2.26.0->docker->pyautogen) (3.3.2)\n",
            "Installing collected packages: python-dotenv, h11, flaml, diskcache, tiktoken, httpcore, docker, httpx, openai, pyautogen\n",
            "Successfully installed diskcache-5.6.3 docker-7.1.0 flaml-2.1.2 h11-0.14.0 httpcore-1.0.5 httpx-0.27.0 openai-1.34.0 pyautogen-0.2.28 python-dotenv-1.0.1 tiktoken-0.7.0\n"
          ]
        }
      ]
    },
    {
      "cell_type": "markdown",
      "id": "babbc472",
      "metadata": {
        "id": "babbc472"
      },
      "source": [
        "## Setup"
      ]
    },
    {
      "cell_type": "code",
      "source": [
        "from google.colab import userdata\n",
        "api_key = userdata.get('OPENAI_API_KEY')"
      ],
      "metadata": {
        "id": "sVEBiLOaU_Nc"
      },
      "id": "sVEBiLOaU_Nc",
      "execution_count": 1,
      "outputs": []
    },
    {
      "cell_type": "markdown",
      "id": "c65bac5e",
      "metadata": {
        "id": "c65bac5e"
      },
      "source": [
        "**Note**: The agent will automatically save the code in a .py file and the plot in a .png file. To access and check the files generated by the agents, go to the `File` menu and select `Open....` Then, open the folder named `coding` to find all the generated files."
      ]
    },
    {
      "cell_type": "markdown",
      "source": [
        "## Execute as `run.py` Script\n",
        "\n",
        "To run the following python script, you'll need to create a `requirements.txt` file with the following libraries.\n",
        "\n",
        "```txt\n",
        "yfinance\n",
        "openai\n",
        "pyautogen\n",
        "```\n",
        "\n",
        "Then you can create a `run.py` python script with the following code. You can use it to execute in a terminal window, i.e. `python run.py`.\n",
        "\n",
        "```py\n",
        "import yfinance\n",
        "import matplotlib.pyplot as plt\n",
        "from autogen import ConversableAgent, AssistantAgent\n",
        "from autogen.coding import LocalCommandLineCodeExecutor\n",
        "import datetime\n",
        "import os\n",
        "\n",
        "\n",
        "from google.colab import userdata\n",
        "api_key = userdata.get('OPENAI_API_KEY')\n",
        "\n",
        "\n",
        "# Define functions\n",
        "def get_stock_prices(stock_symbols, start_date, end_date):\n",
        "    \"\"\"Get the stock prices for the given stock symbols between\n",
        "    the start and end dates.\n",
        "\n",
        "    Args:\n",
        "        stock_symbols (str or list): The stock symbols to get the\n",
        "        prices for.\n",
        "        start_date (str): The start date in the format\n",
        "        'YYYY-MM-DD'.\n",
        "        end_date (str): The end date in the format 'YYYY-MM-DD'.\n",
        "\n",
        "    Returns:\n",
        "        pandas.DataFrame: The stock prices for the given stock\n",
        "        symbols indexed by date, with one column per stock\n",
        "        symbol.\n",
        "    \"\"\"\n",
        "    import yfinance\n",
        "\n",
        "    stock_data = yfinance.download(\n",
        "        stock_symbols, start=start_date, end=end_date\n",
        "    )\n",
        "    return stock_data.get(\"Close\")\n",
        "\n",
        "def plot_stock_prices(stock_prices, filename):\n",
        "    \"\"\"Plot the stock prices for the given stock symbols.\n",
        "\n",
        "    Args:\n",
        "        stock_prices (pandas.DataFrame): The stock prices for the\n",
        "        given stock symbols.\n",
        "    \"\"\"\n",
        "    import matplotlib.pyplot as plt\n",
        "\n",
        "    plt.figure(figsize=(10, 5))\n",
        "    for column in stock_prices.columns:\n",
        "        plt.plot(\n",
        "            stock_prices.index, stock_prices[column], label=column\n",
        "                )\n",
        "    plt.title(\"Stock Prices\")\n",
        "    plt.xlabel(\"Date\")\n",
        "    plt.ylabel(\"Price\")\n",
        "    plt.grid(True)\n",
        "    plt.savefig(filename)\n",
        "\n",
        "# Setup agents\n",
        "llm_config = {\"model\": \"gpt-4-turbo\", \"api_key\": api_key} # Replace with your actual model configuration\n",
        "\n",
        "code_writer_agent = AssistantAgent(\n",
        "    name=\"code_writer_agent\",\n",
        "    llm_config=llm_config,\n",
        "    code_execution_config=False,\n",
        "    human_input_mode=\"NEVER\",\n",
        ")\n",
        "\n",
        "code_writer_agent_system_message = code_writer_agent.system_message\n",
        "\n",
        "executor = LocalCommandLineCodeExecutor(\n",
        "    timeout=60,\n",
        "    work_dir=\"coding\",\n",
        "    functions=[get_stock_prices, plot_stock_prices],\n",
        ")\n",
        "\n",
        "code_writer_agent_system_message += executor.format_functions_for_prompt()\n",
        "\n",
        "code_writer_agent = ConversableAgent(\n",
        "    name=\"code_writer_agent\",\n",
        "    system_message=code_writer_agent_system_message,\n",
        "    llm_config=llm_config,\n",
        "    code_execution_config=False,\n",
        "    human_input_mode=\"ALWAYS\",\n",
        ")\n",
        "\n",
        "code_executor_agent = ConversableAgent(\n",
        "    name=\"code_executor_agent\",\n",
        "    llm_config=False,\n",
        "    code_execution_config={\"executor\": executor},\n",
        "    human_input_mode=\"ALWAYS\",\n",
        "    default_auto_reply=\"Please continue. If everything is done, reply 'TERMINATE'.\",\n",
        ")\n",
        "\n",
        "# Get today's date\n",
        "today = datetime.datetime.now().date()\n",
        "print(today)\n",
        "\n",
        "# Initiate chat\n",
        "chat_result = code_executor_agent.initiate_chat(\n",
        "    code_writer_agent,\n",
        "    message=f\"Today is {today}. Download the stock prices YTD for AAPL and GOOGL and create a plot. Make sure the code is in a markdown code block and save the figure to a file stock_prices_YTD_plot.png.\"\n",
        ")\n",
        "\n",
        "```"
      ],
      "metadata": {
        "id": "qZvDE2q02Jw6"
      },
      "id": "qZvDE2q02Jw6"
    },
    {
      "cell_type": "code",
      "source": [],
      "metadata": {
        "id": "2lKxRdJ62NF3"
      },
      "id": "2lKxRdJ62NF3",
      "execution_count": null,
      "outputs": []
    }
  ],
  "metadata": {
    "kernelspec": {
      "display_name": "Python 3",
      "name": "python3"
    },
    "language_info": {
      "codemirror_mode": {
        "name": "ipython",
        "version": 3
      },
      "file_extension": ".py",
      "mimetype": "text/x-python",
      "name": "python",
      "nbconvert_exporter": "python",
      "pygments_lexer": "ipython3",
      "version": "3.11.9"
    },
    "colab": {
      "provenance": []
    }
  },
  "nbformat": 4,
  "nbformat_minor": 5
}