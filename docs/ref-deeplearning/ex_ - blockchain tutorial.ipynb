{
  "cells": [
    {
      "cell_type": "markdown",
      "source": [
        "# Blockchain Tutorial (Python)\n",
        "\n",
        "![image](https://www.investopedia.com/thmb/pzT2wbISy-wNtMypVlBjr39dydg=/1500x0/filters:no_upscale():max_bytes(150000):strip_icc()/Blockchain_final-086b5b7b9ef74ecf9f20fe627dba1e34.png)"
      ],
      "metadata": {
        "id": "7hFDoLPTQaXQ"
      },
      "id": "7hFDoLPTQaXQ"
    },
    {
      "cell_type": "markdown",
      "source": [
        "## Start\n",
        "\n",
        "I want to give credits to [this repo](https://github.com/demining/Simple-Python-Blockchain-Google-Colab) with [this video](https://youtu.be/b81Ib_oYbFk?si=VEnNTD4aEfZkuL57) as explanation.\n",
        "\n",
        "This notebook is an adaption of the original author's work."
      ],
      "metadata": {
        "id": "hN0PuGRUwpa0"
      },
      "id": "hN0PuGRUwpa0"
    },
    {
      "cell_type": "code",
      "source": [
        "# from google.colab import drive\n",
        "# drive.mount('/content/drive/')"
      ],
      "metadata": {
        "id": "0NDfl6vu9ZnM"
      },
      "id": "0NDfl6vu9ZnM",
      "execution_count": null,
      "outputs": []
    },
    {
      "cell_type": "code",
      "source": [
        "# !git clone https://github.com/yiqiao-yin/Simple-Python-Blockchain-Google-Colab.git"
      ],
      "metadata": {
        "id": "pmWne9P_9ZYf",
        "outputId": "2486f25d-3349-4196-be31-63f2e8c87fea",
        "colab": {
          "base_uri": "https://localhost:8080/"
        }
      },
      "id": "pmWne9P_9ZYf",
      "execution_count": null,
      "outputs": [
        {
          "output_type": "stream",
          "name": "stdout",
          "text": [
            "Cloning into 'Simple-Python-Blockchain-Google-Colab'...\n",
            "remote: Enumerating objects: 16, done.\u001b[K\n",
            "remote: Counting objects: 100% (16/16), done.\u001b[K\n",
            "remote: Compressing objects: 100% (16/16), done.\u001b[K\n",
            "remote: Total 16 (delta 4), reused 1 (delta 0), pack-reused 0\u001b[K\n",
            "Receiving objects: 100% (16/16), 6.33 MiB | 35.59 MiB/s, done.\n",
            "Resolving deltas: 100% (4/4), done.\n"
          ]
        }
      ]
    },
    {
      "cell_type": "markdown",
      "source": [
        "## Library"
      ],
      "metadata": {
        "id": "ZAGzqSAAwniW"
      },
      "id": "ZAGzqSAAwniW"
    },
    {
      "cell_type": "code",
      "source": [
        "# cd Simple-Python-Blockchain-Google-Colab/"
      ],
      "metadata": {
        "id": "joEHaSYo9iZ5",
        "outputId": "405b35ad-7761-4ed9-ac74-e93106e7533f",
        "colab": {
          "base_uri": "https://localhost:8080/"
        }
      },
      "id": "joEHaSYo9iZ5",
      "execution_count": null,
      "outputs": [
        {
          "output_type": "stream",
          "name": "stdout",
          "text": [
            "/content/Simple-Python-Blockchain-Google-Colab\n"
          ]
        }
      ]
    },
    {
      "cell_type": "code",
      "source": [
        "# ! python ipynob.py"
      ],
      "metadata": {
        "id": "J3S7pyhDBj8-"
      },
      "id": "J3S7pyhDBj8-",
      "execution_count": null,
      "outputs": []
    },
    {
      "cell_type": "code",
      "source": [
        "import sys\n",
        "# import ipynob\n",
        "# import ipynumpy"
      ],
      "metadata": {
        "id": "FRyR7Hbi9ZEo"
      },
      "id": "FRyR7Hbi9ZEo",
      "execution_count": null,
      "outputs": []
    },
    {
      "cell_type": "markdown",
      "source": [
        "## Define `extended_gcd`\n",
        "\n"
      ],
      "metadata": {
        "id": "5b8fyGMqwkwd"
      },
      "id": "5b8fyGMqwkwd"
    },
    {
      "cell_type": "markdown",
      "source": [
        "Here's the given function with added comments and type hints for better understanding and clarity:\n",
        "\n",
        "```python\n",
        "def extended_gcd(aa: int, bb: int) -> tuple[int, int, int]:\n",
        "    \"\"\"\n",
        "    Calculate the Extended Greatest Common Divisor of two numbers.\n",
        "    \n",
        "    The Extended Euclidean Algorithm finds not only the greatest common divisor (GCD)\n",
        "    of two integers a and b, but also the coefficients of Bézout's identity, which are\n",
        "    integers x and y such that ax + by = gcd(a, b).\n",
        "\n",
        "    :param aa: First integer\n",
        "    :param bb: Second integer\n",
        "    :return: A tuple containing the GCD of aa and bb, and the Bézout coefficients x and y.\n",
        "    \"\"\"\n",
        "    # Initialize the remainders and the Bézout coefficients\n",
        "    lastremainder, remainder = abs(aa), abs(bb)\n",
        "    x, lastx, y, lasty = 0, 1, 1, 0\n",
        "\n",
        "    # Loop until the remainder is 0, indicating the end of the algorithm\n",
        "    while remainder:\n",
        "        # Update the remainder and calculate the quotient\n",
        "        lastremainder, (quotient, remainder) = remainder, divmod(lastremainder, remainder)\n",
        "\n",
        "        # Update Bézout coefficients for aa\n",
        "        x, lastx = lastx - quotient*x, x\n",
        "\n",
        "        # Update Bézout coefficients for bb\n",
        "        y, lasty = lasty - quotient*y, y\n",
        "\n",
        "    # Adjust the sign of Bézout coefficients based on the input integers' signs\n",
        "    # and return the GCD along with the Bézout coefficients\n",
        "    return lastremainder, lastx * (-1 if aa < 0 else 1), lasty * (-1 if bb < 0 else 1)\n",
        "```\n",
        "\n",
        "### Explanation\n",
        "\n",
        "This function is an implementation of the Extended Euclidean Algorithm. It is designed to calculate not only the Greatest Common Divisor (GCD) of two integers `a` and `b`, but also to find integers `x` and `y` (the Bézout coefficients) such that `a*x + b*y = gcd(a, b)`. Here's a breakdown of how it works:\n",
        "\n",
        "1. **Initialization**: The function starts by taking the absolute values of the inputs `aa` and `bb` to handle both positive and negative integers. It also initializes four variables, `x`, `lastx`, `y`, and `lasty`, which are used to calculate the Bézout coefficients.\n",
        "\n",
        "2. **While Loop**: The core of the algorithm is a while loop that runs as long as `remainder` is not zero. Inside this loop:\n",
        "    - It uses `divmod` to simultaneously update `lastremainder` to the current `remainder` and calculate a new `remainder` and a `quotient` from the division of `lastremainder` by the current `remainder`.\n",
        "    - It updates the Bézout coefficients `x` and `y` using the `quotient` calculated from the division.\n",
        "\n",
        "3. **Return**: Once the remainder reaches zero, the loop ends, and the function adjusts the signs of `x` and `y` based on the signs of the input integers. Finally, it returns a tuple containing the GCD of `aa` and `bb`, and the Bézout coefficients `x` and `y`.\n",
        "\n",
        "This implementation is particularly useful in fields such as cryptography, where finding the multiplicative inverse of a number modulo n (which is a special case of the Bézout coefficients) is a common task."
      ],
      "metadata": {
        "id": "p_iKbQCrxpuc"
      },
      "id": "p_iKbQCrxpuc"
    },
    {
      "cell_type": "code",
      "source": [
        "def extended_gcd(aa: int, bb: int) -> tuple[int, int, int]:\n",
        "    \"\"\"\n",
        "    Computes the greatest common divisor of two integers along with the coefficients of Bézout's identity.\n",
        "\n",
        "    :param aa: First integer\n",
        "    :param bb: Second integer\n",
        "    :return: A tuple containing three integers: the gcd of `aa` and `bb`, and the coefficients x and y of Bézout's identity (ax + by = gcd(a, b)).\n",
        "    \"\"\"\n",
        "    # Initialize variables\n",
        "    lastremainder, remainder = abs(aa), abs(bb)  # Use absolute values to handle negative inputs\n",
        "    x, lastx, y, lasty = 0, 1, 1, 0  # Initialize Bézout coefficients\n",
        "\n",
        "    # Loop until the remainder is 0\n",
        "    while remainder:\n",
        "        # Perform division and update remainders and quotient\n",
        "        lastremainder, (quotient, remainder) = remainder, divmod(lastremainder, remainder)\n",
        "\n",
        "        # Update x and y using the quotient\n",
        "        x, lastx = lastx - quotient * x, x  # Update x\n",
        "        y, lasty = lasty - quotient * y, y  # Update y\n",
        "\n",
        "    # Adjust the sign of lastx and lasty based on the signs of aa and bb\n",
        "    return lastremainder, lastx * (-1 if aa < 0 else 1), lasty * (-1 if bb < 0 else 1)"
      ],
      "metadata": {
        "id": "GcgGTtX3vsy7"
      },
      "id": "GcgGTtX3vsy7",
      "execution_count": null,
      "outputs": []
    },
    {
      "cell_type": "markdown",
      "source": [
        "## Define `modinv`"
      ],
      "metadata": {
        "id": "WcDkuf2bxEWV"
      },
      "id": "WcDkuf2bxEWV"
    },
    {
      "cell_type": "markdown",
      "source": [
        "Here's the given function with added comments and type hints for better understanding and clarity, assuming the `extended_gcd` function provided earlier is used here:\n",
        "\n",
        "```python\n",
        "def modinv(a: int, m: int) -> int:\n",
        "    \"\"\"\n",
        "    Calculate the modular multiplicative inverse of a modulo m.\n",
        "\n",
        "    This function finds an integer x such that (a * x) % m = 1, where\n",
        "    a is the integer and m is the modulus. The modular inverse exists\n",
        "    only if a and m are coprime (i.e., their greatest common divisor is 1).\n",
        "\n",
        "    :param a: The integer to find the modular inverse of.\n",
        "    :param m: The modulus.\n",
        "    :return: The modular multiplicative inverse of a modulo m.\n",
        "    :raises ValueError: If the modular inverse does not exist (i.e., a and m are not coprime).\n",
        "    \"\"\"\n",
        "    g, x, y = extended_gcd(a, m)  # Use the extended GCD function to get the GCD and Bézout coefficients\n",
        "    if g != 1:\n",
        "        # If the GCD is not 1, then a and m are not coprime, and the modular inverse does not exist\n",
        "        raise ValueError(\"modular inverse does not exist for these values\")\n",
        "    return x % m  # Return the modular inverse of a modulo m, ensuring it is positive\n",
        "```\n",
        "\n",
        "### Explanation\n",
        "\n",
        "This function computes the modular multiplicative inverse of an integer `a` modulo `m`. The modular multiplicative inverse of `a` modulo `m` is an integer `x` such that the product `a * x` is congruent to `1` modulo `m`:\n",
        "\n",
        "```\n",
        "(a * x) % m = 1\n",
        "```\n",
        "\n",
        "The key steps in the function are:\n",
        "\n",
        "1. **Use the Extended GCD Algorithm**: It employs the `extended_gcd` function to calculate the greatest common divisor (GCD) of `a` and `m`, along with the Bézout coefficients `x` and `y`. For the purpose of finding a modular inverse, we are particularly interested in `x`, which represents the coefficient of `a` in Bézout's identity.\n",
        "\n",
        "2. **Check for Coprimality**: The function checks if the GCD `g` is `1`. A modular inverse exists only if `a` and `m` are coprime (i.e., their GCD is `1`). If `g` is not `1`, the function raises a `ValueError`, indicating that the modular inverse does not exist for the given inputs.\n",
        "\n",
        "3. **Return the Modular Inverse**: If a modular inverse exists, the function returns `x` modulo `m`. This is because the Bézout coefficient `x` might be negative, and we want to ensure the result is a positive integer in the range `[0, m-1]`, which represents the modular multiplicative inverse of `a` modulo `m`.\n",
        "\n",
        "This function is particularly useful in cryptographic algorithms, where the modular inverse is frequently required for computations in modular arithmetic, such as in RSA encryption/decryption and in algorithms for digital signatures."
      ],
      "metadata": {
        "id": "K4MSxhiexnF6"
      },
      "id": "K4MSxhiexnF6"
    },
    {
      "cell_type": "markdown",
      "source": [
        "The modular multiplicative inverse is a fundamental concept in number theory and cryptography, playing a crucial role in various algorithms and cryptographic schemes. Understanding its computation and applications is key to fields such as encryption, digital signatures, and secure communications.\n",
        "\n",
        "In the context of cryptography, the modular inverse is critical for operations within finite fields, which are the mathematical basis of many encryption algorithms. For instance, in the RSA encryption algorithm, the public and private keys are generated through operations that involve finding modular inverses. The security of RSA relies on the difficulty of factorizing large prime numbers, and the modular inverse is used in the process of encrypting and decrypting messages.\n",
        "\n",
        "### Practical Applications\n",
        "\n",
        "#### Encryption and Decryption\n",
        "\n",
        "In RSA, for a given public key `(e, n)` and a private key `d`, the encryption of a message `m` is done by computing `c = m^e mod n`, where `c` is the ciphertext. Decryption involves computing `m = c^d mod n`, where `d` is the modular inverse of `e modulo φ(n)` (φ is Euler's totient function, and `n` is the product of two large primes). Finding `d` is straightforward if one knows the factorization of `n`, but extremely difficult otherwise, providing the basis for RSA's security.\n",
        "\n",
        "#### Digital Signatures\n",
        "\n",
        "Digital signature schemes, like DSA (Digital Signature Algorithm) or ECDSA (Elliptic Curve Digital Signature Algorithm), also rely on modular arithmetic and the computation of modular inverses. These algorithms allow one to sign digital documents securely and to verify the authenticity of the signature, ensuring that the document has not been altered and confirming the identity of the signer.\n",
        "\n",
        "### Cryptographic Importance\n",
        "\n",
        "The difficulty of certain mathematical problems, like the discrete logarithm problem or integer factorization, underpins the security of cryptographic algorithms. The computation of modular inverses, while efficiently doable even for large numbers when the modulus is known, is integral to these algorithms. The efficiency and security of cryptographic schemes often hinge on operations like the modular inverse, making its computation not just a theoretical exercise but a practical necessity.\n",
        "\n",
        "In summary, the function `modinv(a, m)` is a powerful tool in the arsenal of number theory and cryptography. It encapsulates a complex yet fundamental operation in a concise and efficient manner. Understanding its mechanism and implications allows for a deeper appreciation of modern cryptography and the mathematical elegance that secures digital communication."
      ],
      "metadata": {
        "id": "8DYItUYUxx2K"
      },
      "id": "8DYItUYUxx2K"
    },
    {
      "cell_type": "code",
      "source": [
        "def modinv(a: int, m: int) -> int:\n",
        "    \"\"\"\n",
        "    Calculate the modular multiplicative inverse of a modulo m.\n",
        "\n",
        "    This function finds an integer x such that (a * x) % m = 1, where\n",
        "    a is the integer and m is the modulus. The modular inverse exists\n",
        "    only if a and m are coprime (i.e., their greatest common divisor is 1).\n",
        "\n",
        "    :param a: The integer to find the modular inverse of.\n",
        "    :param m: The modulus.\n",
        "    :return: The modular multiplicative inverse of a modulo m.\n",
        "    :raises ValueError: If the modular inverse does not exist (i.e., a and m are not coprime).\n",
        "    \"\"\"\n",
        "    g, x, y = extended_gcd(a, m)  # Use the extended GCD function to get the GCD and Bézout coefficients\n",
        "    if g != 1:\n",
        "        # If the GCD is not 1, then a and m are not coprime, and the modular inverse does not exist\n",
        "        raise ValueError(\"modular inverse does not exist for these values\")\n",
        "    return x % m  # Return the modular inverse of a modulo m, ensuring it is positive\n"
      ],
      "metadata": {
        "id": "oudQafQaxBhv"
      },
      "id": "oudQafQaxBhv",
      "execution_count": null,
      "outputs": []
    },
    {
      "cell_type": "markdown",
      "source": [
        "## Shift Gear: BlockChain\n",
        "\n"
      ],
      "metadata": {
        "id": "ABw1dvxxL8uT"
      },
      "id": "ABw1dvxxL8uT"
    },
    {
      "cell_type": "markdown",
      "source": [
        "Why not greatest common divisor anymore?\n",
        "\n",
        "The Extended Euclidean Algorithm (EEA) and the concept of finding the greatest common divisor (GCD) serve different purposes than the proof-of-work (PoW) mechanism used in blockchain consensus algorithms. While both are mathematical processes, they are applied in different contexts within cryptography and computer science. Let's explore their uses and whether GCD plays a role in blockchain technology:\n",
        "\n",
        "### Extended Euclidean Algorithm (EEA) and Its Uses:\n",
        "- **Key Cryptographic Operations**: The EEA is crucial in cryptographic operations, particularly in finding multiplicative inverses modulo \\(n\\), which is essential for encryption schemes like RSA. In RSA, the EEA helps in determining the private key, given the public key and the totient function of the modulus.\n",
        "- **Solving Linear Diophantine Equations**: It's also used to solve equations of the form \\(ax + by = gcd(a, b)\\), providing solutions in integers \\(x\\) and \\(y\\), which have applications in cryptographic protocols.\n",
        "\n",
        "### Proof of Work (PoW) in Blockchain:\n",
        "- **Securing Transactions**: PoW is used primarily to secure transactions and achieve consensus in a decentralized manner across all nodes in the network. It requires miners to solve a computationally intensive problem, which does not involve finding GCDs but rather finding a value (nonce) that produces a hash meeting specific criteria.\n",
        "- **Preventing Spam and DoS Attacks**: The difficulty and computational cost associated with PoW act as deterrents against spamming the network or conducting denial-of-service (DoS) attacks.\n",
        "\n",
        "### Use of GCD in Blockchain:\n",
        "- While the direct calculation of GCDs through the EEA is not a part of the standard PoW process, **aspects of number theory and GCD calculations can still be relevant in blockchain technology**, particularly in the realm of cryptographic algorithms that secure the blockchain. For instance:\n",
        "  - **Key Generation and Digital Signatures**: Cryptographic algorithms used for key generation, digital signatures, and ensuring the integrity of transactions on the blockchain can involve principles where the EEA or GCD might play a role.\n",
        "  - **Elliptic Curve Cryptography (ECC)**: Used in many blockchain platforms for creating public-private key pairs and digital signatures, ECC relies on underlying mathematical principles, including aspects of number theory, though it doesn't directly use the EEA.\n",
        "\n",
        "### Conclusion:\n",
        "- The reason you don't see functions like `extended_gcd` directly used in the blockchain's PoW mechanism is that they serve different purposes. The blockchain's security and consensus mechanism through PoW is designed to ensure transaction integrity, prevent double-spending, and achieve decentralized agreement.\n",
        "- However, in the broader ecosystem of blockchain technology, especially in cryptographic functions that underpin transaction security, user authentication, and data integrity, principles of number theory, including the use of the EEA for calculations involving multiplicative inverses and modular arithmetic, are indeed significant."
      ],
      "metadata": {
        "id": "hFb9fCljMJl_"
      },
      "id": "hFb9fCljMJl_"
    },
    {
      "cell_type": "markdown",
      "source": [
        "## Define `Block` object"
      ],
      "metadata": {
        "id": "O9bvJDxMycAu"
      },
      "id": "O9bvJDxMycAu"
    },
    {
      "cell_type": "markdown",
      "source": [
        "The provided code defines a simple class `Block` that could be part of a basic blockchain implementation. Below is the enhanced version with added comments and type hints to improve clarity and understanding.\n",
        "\n",
        "```python\n",
        "import datetime\n",
        "import hashlib\n",
        "\n",
        "class Block:\n",
        "    blockNo: int = 0\n",
        "    data: any = None\n",
        "    next: 'Block' = None\n",
        "    hash: str = None\n",
        "    nonce: int = 0\n",
        "    previous_hash: int = 0x0\n",
        "    timestamp: datetime.datetime = datetime.datetime.now()\n",
        "\n",
        "    def __init__(self, data: any) -> None:\n",
        "        \"\"\"\n",
        "        Initialize a new block with provided data.\n",
        "        \n",
        "        :param data: The data to be stored in the block. Can be of any type.\n",
        "        \"\"\"\n",
        "        self.data = data\n",
        "\n",
        "    def hash(self) -> str:\n",
        "        \"\"\"\n",
        "        Generate a SHA-256 hash for the block.\n",
        "        \n",
        "        The hash is computed using the block's nonce, data, previous hash, timestamp, and block number.\n",
        "        \n",
        "        :return: A hexadecimal string representing the hash of the block.\n",
        "        \"\"\"\n",
        "        h = hashlib.sha256()\n",
        "        h.update(\n",
        "            str(self.nonce).encode('utf-8') +\n",
        "            str(self.data).encode('utf-8') +\n",
        "            str(self.previous_hash).encode('utf-8') +\n",
        "            str(self.timestamp).encode('utf-8') +\n",
        "            str(self.blockNo).encode('utf-8')\n",
        "        )\n",
        "        return h.hexdigest()\n",
        "\n",
        "    def __str__(self) -> str:\n",
        "        \"\"\"\n",
        "        Provide a string representation of the block, including its hash, block number, data, and nonce count.\n",
        "        \n",
        "        :return: A string representation of the block.\n",
        "        \"\"\"\n",
        "        return \"Block Hash: \" + str(self.hash()) + \"\\nBlockNo: \" + str(self.blockNo) + \"\\nBlock Data: \" + str(self.data) + \"\\nHashes: \" + str(self.nonce) + \"\\n--------------\"\n",
        "\n",
        "```\n",
        "\n",
        "### Explanation of the Code\n",
        "\n",
        "- **Class Definition**: The `Block` class is designed to represent a block in a blockchain. Each block contains data, a hash of its contents, and a reference to the hash of the previous block, creating a chain.\n",
        "\n",
        "- **Attributes**:\n",
        "  - `blockNo`: An integer indicating the block's position in the chain.\n",
        "  - `data`: The data stored in the block. Its type is not specified, meaning it can be any type of data.\n",
        "  - `next`: A reference to the next `Block` object in the chain (if any).\n",
        "  - `hash`: A string that stores the block's SHA-256 hash value.\n",
        "  - `nonce`: An integer used in mining to find a hash that meets certain criteria.\n",
        "  - `previous_hash`: Stores the hash of the previous block in the chain to maintain integrity. This is what makes the Blockchain immutable, because the chains of hash inside a blockchain requires you to chain the hash of every subscript block due to the `previous_hash`.\n",
        "  - `timestamp`: The datetime when the block was created.\n",
        "\n",
        "- **`__init__` Method**: The constructor accepts `data` as an argument and initializes a new block with that data.\n",
        "\n",
        "- **`hash` Method**: This method generates a SHA-256 hash for the block. The hash is calculated based on the block's nonce, data, previous hash, timestamp, and block number. The purpose is to uniquely identify the block and ensure its integrity by including the `previous_hash` in its hash calculation.\n",
        "\n",
        "- **`__str__` Method**: This method provides a human-readable string representation of the block, including its hash, block number, data, and the nonce value. This is useful for debugging and logging purposes.\n",
        "\n",
        "In a blockchain context, each `Block` would be linked to the next via the `next` attribute, creating a chain. The immutability of each block is ensured by the hash, which includes the `previous_hash`, making it extremely difficult to alter any block's data without altering all subsequent blocks in the chain. The `nonce` is used in the mining process to find a hash that satisfies certain conditions, such as a specific number of leading zeros, which is a way to secure the blockchain and verify the work done to add a new block."
      ],
      "metadata": {
        "id": "GB6QjYHsyeiG"
      },
      "id": "GB6QjYHsyeiG"
    },
    {
      "cell_type": "markdown",
      "source": [
        "#### What is `hashlib.sha256`?\n",
        "\n",
        "`hashlib.sha256` is a function from Python's `hashlib` module that implements the SHA-256 hashing algorithm. SHA-256 stands for Secure Hash Algorithm 256-bit and is part of the SHA-2 (Secure Hash Algorithm 2) family of cryptographic hash functions, designed by the National Security Agency (NSA) of the United States. It's widely used in various security applications and protocols, including SSL/TLS for securing websites, cryptocurrency systems like Bitcoin, and other applications requiring data integrity verification.\n",
        "\n",
        "Here’s a brief overview of what `hashlib.sha256` does and how it's used:\n",
        "\n",
        "##### Hash Function Basics\n",
        "- A hash function takes input (or 'message') and returns a fixed-size string of bytes. The output, typically a digest, appears random but is determined by the input data.\n",
        "- Hash functions are designed to be a one-way function, meaning it should be computationally infeasible to reverse the function to find the original input given the output.\n",
        "\n",
        "##### Features of SHA-256\n",
        "- **Fixed Output Size**: SHA-256 always produces a 256-bit (32-byte) hash value, regardless of the size of the input.\n",
        "- **Deterministic**: The same input will always produce the same output.\n",
        "- **High Collision Resistance**: It is computationally infeasible to find two different inputs that produce the same output.\n",
        "- **High Preimage Resistance**: Given a hash output, it is computationally infeasible to find the original input.\n",
        "\n",
        "##### Usage in Python\n",
        "```python\n",
        "import hashlib\n",
        "\n",
        "# Create a SHA-256 hash object\n",
        "hash_object = hashlib.sha256()\n",
        "\n",
        "# Data to hash\n",
        "data = \"Hello, world!\".encode()\n",
        "\n",
        "# Update the hash object with the bytes-like object (data)\n",
        "hash_object.update(data)\n",
        "\n",
        "# Get the hexadecimal digest of the hash\n",
        "hex_dig = hash_object.hexdigest()\n",
        "\n",
        "print(hex_dig)\n",
        "```\n",
        "\n"
      ],
      "metadata": {
        "id": "U-3fRdX3M9ar"
      },
      "id": "U-3fRdX3M9ar"
    },
    {
      "cell_type": "code",
      "source": [
        "import hashlib\n",
        "\n",
        "# Create a SHA-256 hash object\n",
        "hash_object = hashlib.sha256()\n",
        "\n",
        "# Data to hash\n",
        "data = \"Hello, world!\".encode()\n",
        "\n",
        "# Update the hash object with the bytes-like object (data)\n",
        "hash_object.update(data)\n",
        "\n",
        "# Get the hexadecimal digest of the hash\n",
        "hex_dig = hash_object.hexdigest()\n",
        "\n",
        "print(hex_dig)"
      ],
      "metadata": {
        "colab": {
          "base_uri": "https://localhost:8080/"
        },
        "id": "JBIte6RMOz70",
        "outputId": "8e6a5410-73df-49bf-b162-11eeaa36cc06"
      },
      "id": "JBIte6RMOz70",
      "execution_count": null,
      "outputs": [
        {
          "output_type": "stream",
          "name": "stdout",
          "text": [
            "315f5bdb76d078c43b8ac0064e4a0164612b1fce77c869345bfc94c75894edd3\n"
          ]
        }
      ]
    },
    {
      "cell_type": "code",
      "execution_count": null,
      "id": "db1e0588",
      "metadata": {
        "id": "db1e0588"
      },
      "outputs": [],
      "source": [
        "import datetime\n",
        "import hashlib"
      ]
    },
    {
      "cell_type": "markdown",
      "source": [
        "#### Definition of `Block`"
      ],
      "metadata": {
        "id": "MVgQ9-Ah18t3"
      },
      "id": "MVgQ9-Ah18t3"
    },
    {
      "cell_type": "code",
      "source": [
        "class Block:\n",
        "    blockNo: int = 0\n",
        "    data: any = None\n",
        "    next: 'Block' = None\n",
        "    hash: str = None\n",
        "    nonce: int = 0\n",
        "    previous_hash: int = 0x0\n",
        "    timestamp: datetime.datetime = datetime.datetime.now()\n",
        "\n",
        "    def __init__(self, data: any) -> None:\n",
        "        \"\"\"\n",
        "        Initialize a new block with provided data.\n",
        "\n",
        "        :param data: The data to be stored in the block. Can be of any type.\n",
        "        \"\"\"\n",
        "        self.data = data\n",
        "\n",
        "    def hash(self) -> str:\n",
        "        \"\"\"\n",
        "        Generate a SHA-256 hash for the block.\n",
        "\n",
        "        The hash is computed using the block's nonce, data, previous hash, timestamp, and block number.\n",
        "\n",
        "        :return: A hexadecimal string representing the hash of the block.\n",
        "        \"\"\"\n",
        "        h = hashlib.sha256()\n",
        "        h.update(\n",
        "            str(self.nonce).encode('utf-8') +\n",
        "            str(self.data).encode('utf-8') +\n",
        "            str(self.previous_hash).encode('utf-8') +\n",
        "            str(self.timestamp).encode('utf-8') +\n",
        "            str(self.blockNo).encode('utf-8')\n",
        "        )\n",
        "        return h.hexdigest()\n",
        "\n",
        "    def __str__(self) -> str:\n",
        "        \"\"\"\n",
        "        Provide a string representation of the block, including its hash, block number, data, and nonce count.\n",
        "\n",
        "        :return: A string representation of the block.\n",
        "        \"\"\"\n",
        "        return \"Block Hash: \" + str(self.hash()) + \"\\nBlockNo: \" + str(self.blockNo) + \"\\nBlock Data: \" + str(self.data) + \"\\nHashes: \" + str(self.nonce) + \"\\n--------------\"\n",
        "\n"
      ],
      "metadata": {
        "id": "p2J3-omlx4Uu"
      },
      "id": "p2J3-omlx4Uu",
      "execution_count": null,
      "outputs": []
    },
    {
      "cell_type": "markdown",
      "source": [
        "#### Demonstration of Usage"
      ],
      "metadata": {
        "id": "fUMYWGei2e9_"
      },
      "id": "fUMYWGei2e9_"
    },
    {
      "cell_type": "markdown",
      "source": [
        "To demonstrate how to use the `Block` class object, we will simulate creating and linking two blocks, simulating the simplest form of a blockchain. This example will involve creating a genesis block (the first block in the blockchain) and then creating another block that follows it.\n",
        "\n",
        "First, ensure you have the necessary imports at the top of your script:\n",
        "\n",
        "```python\n",
        "import datetime\n",
        "import hashlib\n",
        "```\n",
        "\n",
        "Now, let's create the genesis block and a subsequent block, linking them together:\n",
        "\n",
        "```python\n",
        "# Instantiate the genesis block with some initial data\n",
        "genesis_block = Block(data=\"Genesis Block\")\n",
        "\n",
        "# Since this is the first block, its block number is 0 and it has no previous hash\n",
        "genesis_block.blockNo = 0\n",
        "genesis_block.previous_hash = 0\n",
        "genesis_block.nonce = 0  # In a real application, nonce would be determined by mining\n",
        "\n",
        "# Print details of the genesis block\n",
        "print(genesis_block)\n",
        "\n",
        "# Create a second block with new data\n",
        "second_block = Block(data=\"Yes to Biden and No to Trump\")\n",
        "\n",
        "# For the second block, we increment the block number and use the hash of the genesis block as the previous hash\n",
        "second_block.blockNo = genesis_block.blockNo + 1\n",
        "second_block.previous_hash = genesis_block.hash()\n",
        "second_block.nonce = 0  # Similarly, nonce would be found via mining in a real scenario\n",
        "\n",
        "# Link the genesis block to the second block\n",
        "genesis_block.next = second_block\n",
        "\n",
        "# Print details of the second block\n",
        "print(second_block)\n",
        "```\n",
        "\n",
        "In this example:\n",
        "- The `genesis_block` is created with the data \"Genesis Block\". It is the first block, so its block number is set to `0`, and its `previous_hash` is `0` because there is no block before it. The `nonce` is set to `0` for simplicity.\n",
        "- The `second_block` is then created with the data \"Yes to Biden and No to Trump\". The block number is incremented by `1` from the genesis block, and its `previous_hash` is set to the hash of the genesis block, linking them together in a simple chain. This block's `nonce` is also set to `0` for the sake of example.\n",
        "- The `genesis_block.next` is set to `second_block`, creating a very basic chain of two blocks.\n",
        "\n",
        "This simplistic example demonstrates the creation and basic linking of blocks in a blockchain-like structure. In a real blockchain system, the nonce for each block would be determined through a mining process that finds a nonce value making the block's hash satisfy certain conditions (e.g., a specific number of leading zeros)."
      ],
      "metadata": {
        "id": "EP9Uxulb3GR-"
      },
      "id": "EP9Uxulb3GR-"
    },
    {
      "cell_type": "code",
      "source": [
        "# Instantiate the genesis block with some initial data\n",
        "genesis_block = Block(data=\"John Doe\")\n",
        "\n",
        "# Since this is the first block, its block number is 0 and it has no previous hash\n",
        "genesis_block.blockNo = 0\n",
        "genesis_block.previous_hash = 0\n",
        "genesis_block.nonce = 0  # In a real application, nonce would be determined by mining\n",
        "\n",
        "# Print details of the genesis block\n",
        "print(genesis_block)\n",
        "\n",
        "# Create a second block with new data\n",
        "second_block = Block(data=\"Yes to Biden and No to Trump\")\n",
        "\n",
        "# For the second block, we increment the block number and use the hash of the genesis block as the previous hash\n",
        "second_block.blockNo = genesis_block.blockNo + 1\n",
        "second_block.previous_hash = genesis_block.hash()\n",
        "second_block.nonce = 0  # Similarly, nonce would be found via mining in a real scenario\n",
        "\n",
        "# Link the genesis block to the second block\n",
        "genesis_block.next = second_block\n",
        "\n",
        "# Print details of the second block\n",
        "print(second_block)\n"
      ],
      "metadata": {
        "colab": {
          "base_uri": "https://localhost:8080/"
        },
        "id": "ugsN5edv2g_r",
        "outputId": "6e7e741a-d97d-4fc3-c786-f63dfe80ebbc"
      },
      "id": "ugsN5edv2g_r",
      "execution_count": null,
      "outputs": [
        {
          "output_type": "stream",
          "name": "stdout",
          "text": [
            "Block Hash: 3dc5ee0c9df78e7dbad5abdd15ce58e03f8659e29bc6b3b95efeaf5440ecb9dd\n",
            "BlockNo: 0\n",
            "Block Data: John Doe\n",
            "Hashes: 0\n",
            "--------------\n",
            "Block Hash: 37bb2c6c7a4da92979be3fd058253bc1165c172c7871e4aeea469d4ccfeabe7c\n",
            "BlockNo: 1\n",
            "Block Data: Yes to Biden and No to Trump\n",
            "Hashes: 0\n",
            "--------------\n"
          ]
        }
      ]
    },
    {
      "cell_type": "markdown",
      "source": [
        "## Define `Blockchain`"
      ],
      "metadata": {
        "id": "MurA7jf1yp0N"
      },
      "id": "MurA7jf1yp0N"
    },
    {
      "cell_type": "markdown",
      "source": [
        "What is blockchain?\n",
        "\n",
        "![image](https://img.money.com/2022/06/What-Is-Blockchain-Infographic.jpg)"
      ],
      "metadata": {
        "id": "D38mkEnvMXGc"
      },
      "id": "D38mkEnvMXGc"
    },
    {
      "cell_type": "markdown",
      "source": [
        "The `Blockchain` class object we are going to define is a linked list, a special type of python algorithmic design.\n",
        "\n",
        "![image](https://miro.medium.com/v2/resize:fit:830/1*zwrv4VuRRtrVsJLWjajvqg.png)"
      ],
      "metadata": {
        "id": "GLAL4ViHDti0"
      },
      "id": "GLAL4ViHDti0"
    },
    {
      "cell_type": "markdown",
      "source": [
        "Below is the enhanced version of the `Blockchain` class with added comments and type hints to clarify the functionality and purpose of each part. This assumes the `Block` class definition provided previously.\n",
        "\n",
        "```python\n",
        "class Blockchain:\n",
        "    diff: int = 30  # Difficulty of the proof-of-work algorithm\n",
        "    maxNonce: int = 2 ** 32  # Maximum value for the nonce\n",
        "    target: int = 2 ** (256 - diff)  # Target hash, adjusted by difficulty\n",
        "\n",
        "    block: Block = Block(\"Genesis\")  # First block in the blockchain\n",
        "    dummy: Block = head: Block = block  # Head of the blockchain, starts with the genesis block\n",
        "\n",
        "    def add(self, block: Block) -> None:\n",
        "        \"\"\"\n",
        "        Add a block to the blockchain after successful mining.\n",
        "\n",
        "        :param block: The block to be added to the blockchain.\n",
        "        \"\"\"\n",
        "        block.previous_hash = self.block.hash()  # Set the previous hash to the current block's hash\n",
        "        block.blockNo = self.block.blockNo + 1  # Increment the block number\n",
        "\n",
        "        self.block.next = block  # Link the current block to the new block\n",
        "        self.block = self.block.next  # Move the current block pointer to the new block\n",
        "\n",
        "    def mine(self, block: Block) -> None:\n",
        "        \"\"\"\n",
        "        Attempt to mine a block by finding a nonce that satisfies the blockchain's target hash.\n",
        "\n",
        "        :param block: The block to be mined.\n",
        "        \"\"\"\n",
        "        for n in range(self.maxNonce):\n",
        "            if int(block.hash(), 16) <= self.target:  # Check if block's hash meets the target\n",
        "                self.add(block)  # Add the successfully mined block to the blockchain\n",
        "                print(block)  # Print the block's details\n",
        "                break\n",
        "            else:\n",
        "                block.nonce += 1  # Increment the nonce and try again\n",
        "```\n",
        "\n",
        "### Explanation of the Code\n",
        "\n",
        "The `Blockchain` class represents a simple blockchain. It includes mechanisms for adding blocks to the chain and mining new blocks by finding a nonce that produces a hash under a specific target.\n",
        "\n",
        "- **Attributes**:\n",
        "  - `diff`: The difficulty level of the proof-of-work algorithm, which determines how hard it is to find a valid nonce.\n",
        "  - `maxNonce`: The maximum number for the nonce, limiting the number of attempts for mining a block.\n",
        "  - `target`: The target hash value, calculated based on the difficulty. The hash of a successfully mined block must be less than or equal to this target.\n",
        "  - `block`: Initially set to a genesis block, which is the first block in the chain.\n",
        "  - `dummy` and `head`: Pointers to help manage the blockchain. `head` points to the beginning of the chain, and `dummy` is a placeholder.\n",
        "\n",
        "- **`add` Method**: This method links a new block to the chain. It updates the new block's `previous_hash` with the hash of the current block and increments its `blockNo`. Then, it links the current block to the new one and updates the current block to be the new block.\n",
        "\n",
        "- **`mine` Method**: This method attempts to mine a given block. Mining involves finding a nonce such that the block's hash is less than or equal to the target defined by the blockchain's difficulty. It iterates through possible nonce values (up to `maxNonce`) and checks if the block's hash meets the target criteria. If successful, the block is added to the chain. If the nonce reaches `maxNonce` without finding a valid hash, the method ends without adding the block (though this exit condition is not explicitly coded here).\n",
        "\n",
        "### Mining Process\n",
        "\n",
        "The mining process is crucial for adding new blocks to the blockchain securely. It requires computational work to find a nonce that produces a valid hash, thereby securing the blockchain against tampering. When a block is successfully mined and added to the chain, it is announced to the network (simulated here by printing the block's details).\n",
        "\n",
        "This simplistic blockchain and mining process illustrates the basic principles behind more complex blockchain systems, like Bitcoin. However, real-world implementations involve additional mechanisms for transaction handling, consensus among nodes, and security measures."
      ],
      "metadata": {
        "id": "Rwi-YxxPy7K7"
      },
      "id": "Rwi-YxxPy7K7"
    },
    {
      "cell_type": "markdown",
      "source": [
        "### Applications in Blockchain\n",
        "In blockchain technology, particularly in cryptocurrencies like Bitcoin, SHA-256 is used for:\n",
        "- **Mining**: Miners compete to solve a computational puzzle that involves finding an input that, when hashed with SHA-256, results in a hash that meets certain conditions (such as a certain number of leading zeros). This process secures the blockchain and verifies transactions.\n",
        "- **Creating a Unique Block Identifier**: The hash of a block, created by hashing the block's header with SHA-256, serves as a unique identifier for that block.\n",
        "- **Ensuring Data Integrity**: Hashes of transactions and blocks ensure the integrity of the data in the blockchain. Any change to the transaction data would result in a different hash, signaling a potential tampering.\n",
        "\n",
        "Regarding your question about the use of the greatest common divisor (GCD) and functions like `extended_gcd` in blockchain, these are generally not directly used in the core blockchain technology or consensus mechanisms like proof of work. However, GCD and related mathematical concepts may find applications in the cryptographic algorithms (for example, in determining the multiplicative inverse during the RSA encryption process) that secure blockchain transactions and data."
      ],
      "metadata": {
        "id": "fBvpHBF5OzSZ"
      },
      "id": "fBvpHBF5OzSZ"
    },
    {
      "cell_type": "markdown",
      "source": [
        "### Network Consensus and Security\n",
        "\n",
        "In a real-world blockchain like Bitcoin, the process of adding blocks to the blockchain isn't done by a single entity but rather by a network of nodes competing to find the valid nonce first, known as miners. The consensus on which blocks are valid and should be added to the blockchain is achieved through a decentralized process. This process ensures that:\n",
        "\n",
        "1. **No single authority has control over the entire blockchain**, making it resistant to censorship or manipulation by a central entity.\n",
        "2. **The blockchain remains secure and tamper-proof**, as altering any block's data would require re-mining not only the altered block but also all subsequent blocks faster than the rest of the network, which becomes practically impossible due to the computational power of the network.\n",
        "\n",
        "### The Role of Difficulty\n",
        "\n",
        "The `diff` attribute in the `Blockchain` class plays a crucial role in adjusting how difficult it is to mine a new block. In actual blockchain networks:\n",
        "\n",
        "- The difficulty adjusts over time, typically based on the time it takes to mine a certain number of blocks. This adjustment ensures that the time between mined blocks remains relatively constant, even as the computational power of the network changes.\n",
        "- A higher difficulty means that the target hash value is lower, requiring more computational work to find a valid nonce. Conversely, a lower difficulty means the target is higher, making it easier to find a valid nonce.\n",
        "\n",
        "### Implications of the MaxNonce\n",
        "\n",
        "The `maxNonce` essentially sets a limit on the number of attempts a miner can make to find a valid nonce for a given block. In practice, blockchain protocols like Bitcoin do not have a hardcoded limit as the `maxNonce` in this class; instead, miners can continue to adjust other parts of the block (such as the timestamp or the composition of transactions) to effectively reset the nonce space and continue searching for a valid hash.\n",
        "\n",
        "### Real-World Mining\n",
        "\n",
        "In real-world scenarios, the mining process includes not only finding a valid nonce but also verifying transactions to be included in the blockchain. This ensures that:\n",
        "\n",
        "- **Transactions are valid** according to the network's rules (e.g., senders have the necessary funds).\n",
        "- **Double spending is prevented**, as once a transaction is included in a block and sufficiently deep in the chain, it cannot be reversed without enormous computational effort.\n",
        "\n",
        "### Summary of the Simplified Blockchain Class\n",
        "\n",
        "The simplified `Blockchain` and `Block` classes introduced earlier capture the essence of how blockchain technology works, including the creation of a linked list of blocks and the computational effort required to add new blocks. However, these examples omit many complexities and security features of real-world blockchains, such as:\n",
        "\n",
        "- Transaction management and verification.\n",
        "- Decentralized consensus mechanisms beyond simple proof-of-work.\n",
        "- Network communication between nodes.\n",
        "- Incentive structures, such as block rewards and transaction fees, that motivate participants to maintain and secure the network.\n",
        "\n",
        "Understanding these basic principles, however, is a crucial first step towards grasitating the broader and more complex aspects of blockchain technology and its applications in cryptocurrencies, smart contracts, decentralized finance (DeFi), and beyond."
      ],
      "metadata": {
        "id": "m-jmxJ8ZzGmy"
      },
      "id": "m-jmxJ8ZzGmy"
    },
    {
      "cell_type": "markdown",
      "source": [
        "#### Definition of `Blockchain`"
      ],
      "metadata": {
        "id": "5pi4p5122BV3"
      },
      "id": "5pi4p5122BV3"
    },
    {
      "cell_type": "code",
      "source": [
        "class Blockchain:\n",
        "    def __init__(self, diff: int = 10) -> None:\n",
        "        \"\"\"\n",
        "        Initializes a new instance of a blockchain.\n",
        "\n",
        "        :param diff: The difficulty level for the proof-of-work algorithm.\n",
        "        \"\"\"\n",
        "        self.diff = diff  # Difficulty of the proof-of-work algorithm\n",
        "        self.maxNonce = 2 ** 32  # Maximum value for the nonce\n",
        "        self.target = 2 ** (256 - diff)  # Target hash, adjusted by difficulty\n",
        "\n",
        "        self.block = Block(\"Genesis\")  # First block in the blockchain\n",
        "        self.head = self.block  # Head of the blockchain, starts with the genesis block\n",
        "\n",
        "    def add(self, block: Block) -> None:\n",
        "        \"\"\"\n",
        "        Add a block to the blockchain after successful mining.\n",
        "\n",
        "        :param block: The block to be added to the blockchain.\n",
        "        \"\"\"\n",
        "        block.previous_hash = self.block.hash()  # Set the previous hash to the current block's hash\n",
        "        block.blockNo = self.block.blockNo + 1  # Increment the block number\n",
        "\n",
        "        self.block.next = block  # Link the current block to the new block\n",
        "        self.block = self.block.next  # Move the current block pointer to the new block\n",
        "\n",
        "    def mine(self, block: Block) -> None:\n",
        "        \"\"\"\n",
        "        Attempt to mine a block by finding a nonce that satisfies the blockchain's target hash.\n",
        "\n",
        "        :param block: The block to be mined.\n",
        "        \"\"\"\n",
        "        for n in range(self.maxNonce):\n",
        "            if int(block.hash(), 16) <= self.target:  # Check if block's hash meets the target\n",
        "                self.add(block)  # Add the successfully mined block to the blockchain\n",
        "                print(block)  # Print the block's details\n",
        "                break\n",
        "            else:\n",
        "                block.nonce += 1  # Increment the nonce and try again\n"
      ],
      "metadata": {
        "id": "GQwjzAWR7A1O"
      },
      "id": "GQwjzAWR7A1O",
      "execution_count": null,
      "outputs": []
    },
    {
      "cell_type": "code",
      "source": [
        "genesis_block.hash(), int(genesis_block.hash(), 16)"
      ],
      "metadata": {
        "colab": {
          "base_uri": "https://localhost:8080/"
        },
        "id": "EsDeib689fEu",
        "outputId": "2658bb6d-e27f-45e9-d819-ce31deb7adc3"
      },
      "id": "EsDeib689fEu",
      "execution_count": null,
      "outputs": [
        {
          "output_type": "execute_result",
          "data": {
            "text/plain": [
              "('003e378a0336cc5065a8af967a32828d34e09ae33161f1d30709c04827ea0e35',\n",
              " 109927834876452882782110219694675563389479341943266780919177328852243975733)"
            ]
          },
          "metadata": {},
          "execution_count": 30
        }
      ]
    },
    {
      "cell_type": "markdown",
      "source": [
        "#### Demonstration of Usage"
      ],
      "metadata": {
        "id": "LrfozpoD3yqC"
      },
      "id": "LrfozpoD3yqC"
    },
    {
      "cell_type": "code",
      "source": [
        "# Instantiate the Blockchain\n",
        "blockchain = Blockchain()\n",
        "\n",
        "# Assume you were at previous code and you already ran #### Demonstration of Usage under Block\n",
        "\n",
        "# Mine the new block and add it to the blockchain\n",
        "print(\"Mining block 1...\")\n",
        "blockchain.mine(genesis_block)"
      ],
      "metadata": {
        "colab": {
          "base_uri": "https://localhost:8080/"
        },
        "id": "HgxAZuQH30Ue",
        "outputId": "1d94493c-002d-4815-f216-171b31fefa56"
      },
      "id": "HgxAZuQH30Ue",
      "execution_count": null,
      "outputs": [
        {
          "output_type": "stream",
          "name": "stdout",
          "text": [
            "Mining block 1...\n",
            "Block Hash: 003e378a0336cc5065a8af967a32828d34e09ae33161f1d30709c04827ea0e35\n",
            "BlockNo: 1\n",
            "Block Data: John Doe\n",
            "Hashes: 1961\n",
            "--------------\n"
          ]
        }
      ]
    },
    {
      "cell_type": "code",
      "source": [
        "# Mine the second new block and add it to the blockchain\n",
        "print(\"Mining block 2...\")\n",
        "blockchain.mine(second_block)"
      ],
      "metadata": {
        "colab": {
          "base_uri": "https://localhost:8080/"
        },
        "id": "LOLz5HFM4YHc",
        "outputId": "3523a970-b6ec-4e95-f668-667c130feee4"
      },
      "id": "LOLz5HFM4YHc",
      "execution_count": null,
      "outputs": [
        {
          "output_type": "stream",
          "name": "stdout",
          "text": [
            "Mining block 2...\n",
            "Block Hash: c5a20d0998c2b87bb9eac30c56ba1d24767a8a7b1aae804b3c6048ae3d7471bf\n",
            "BlockNo: 2\n",
            "Block Data: Yes to Biden and No to Trump\n",
            "Hashes: 408\n",
            "--------------\n"
          ]
        }
      ]
    },
    {
      "cell_type": "code",
      "source": [
        "# Traverse the blockchain to print out each block's content\n",
        "current_block = blockchain.head\n",
        "while current_block is not None:\n",
        "    print(current_block)\n",
        "    current_block = current_block.next\n"
      ],
      "metadata": {
        "colab": {
          "base_uri": "https://localhost:8080/"
        },
        "id": "z91h34tF4btC",
        "outputId": "2be61fa6-2c87-42f7-8b2f-04587676f836"
      },
      "id": "z91h34tF4btC",
      "execution_count": null,
      "outputs": [
        {
          "output_type": "stream",
          "name": "stdout",
          "text": [
            "Block Hash: 246cb0e0419d1e40707c0df2e5e6dc20dae394b138622b6470249082aaf2ea9d\n",
            "BlockNo: 0\n",
            "Block Data: Genesis\n",
            "Hashes: 0\n",
            "--------------\n",
            "Block Hash: 003e378a0336cc5065a8af967a32828d34e09ae33161f1d30709c04827ea0e35\n",
            "BlockNo: 1\n",
            "Block Data: John Doe\n",
            "Hashes: 1961\n",
            "--------------\n",
            "Block Hash: c5a20d0998c2b87bb9eac30c56ba1d24767a8a7b1aae804b3c6048ae3d7471bf\n",
            "BlockNo: 2\n",
            "Block Data: Yes to Biden and No to Trump\n",
            "Hashes: 408\n",
            "--------------\n"
          ]
        }
      ]
    },
    {
      "cell_type": "markdown",
      "source": [
        "#### How does it use the for loop to find the correct hash?"
      ],
      "metadata": {
        "id": "8FiNGWjP-xZ6"
      },
      "id": "8FiNGWjP-xZ6"
    },
    {
      "cell_type": "markdown",
      "source": [
        "The `blockchain.mine` function in your blockchain implementation uses a for loop to find a nonce that, when used in the hash calculation for a block, produces a hash value that meets the specified target criterion. This process is at the heart of the proof-of-work algorithm, which secures blockchain technology. Let's dissect the mining process step-by-step to understand how it uses the for loop to find the correct hash:\n",
        "\n",
        "1. **Initialization**: The mining process begins when a new block is ready to be added to the blockchain. This block contains data (e.g., transactions or any data you wish to store), but its nonce value is not yet set to produce a valid hash.\n",
        "\n",
        "2. **Nonce and Hash Calculation**: The nonce is an arbitrary number that can be changed to alter the hash of the block. The block's hash is calculated based on its data, the nonce, the previous block's hash, and other relevant block attributes. Since hashes are deterministic, changing the nonce results in a completely different hash.\n",
        "\n",
        "3. **The Mining Loop**:\n",
        "   - The for loop iterates from `0` to `maxNonce` (a predefined maximum number to prevent an infinite loop). For each iteration, the loop does the following:\n",
        "     - It calculates the hash of the current block with its current nonce value.\n",
        "     - It checks if the calculated hash meets the blockchain's target criterion, which is typically that the hash value is less than a target value derived from the difficulty level (`target = 2 ** (256 - diff)`).\n",
        "     - If the hash does not meet the target, the nonce is incremented, and the loop continues, calculating a new hash with the new nonce value.\n",
        "     - If the hash meets the target, the loop breaks, and the block is considered successfully mined. The block, with its now valid nonce, can be added to the blockchain.\n",
        "\n",
        "4. **Success Criterion**:\n",
        "   - The target hash is derived from the blockchain's difficulty level. A higher difficulty means a lower target hash value, making it statistically harder to find a nonce that produces a valid hash. This is because valid hashes become a smaller subset of all possible hashes.\n",
        "   - The loop checks if the block's hash is less than or equal to the target by converting the hash (a hexadecimal string) to an integer (`int(block.hash(), 16)`) and comparing it to the target. The hash function is designed to produce a hash that is uniformly distributed across the range of possible hash values, so every nonce has an equally random chance of being valid or not.\n",
        "\n",
        "5. **Adding the Block**:\n",
        "   - Once a valid nonce is found (meaning the block's hash meets the blockchain's target), the block can be added to the blockchain. The `mine` function calls the `add` method to link the newly mined block to the chain, updating the blockchain state.\n",
        "\n",
        "The purpose of this mechanism is to ensure that adding new blocks to the blockchain requires computational work, securing the blockchain against spam and tampering. The difficulty of finding a valid nonce (and thus the time and computational power required) can be adjusted by changing the blockchain's difficulty level. This proof-of-work process is crucial for achieving distributed consensus and security in blockchain systems."
      ],
      "metadata": {
        "id": "b2uSr-xr-66-"
      },
      "id": "b2uSr-xr-66-"
    },
    {
      "cell_type": "markdown",
      "source": [
        "#### Why is it important to use `int(block.hash(), 16)` to compare to `target`?\n",
        "\n",
        "Understanding why the code is written in this way requires a deeper dive into the principles of blockchain technology and the purpose of the proof-of-work (PoW) mechanism. The goal isn't to \"guess the message\" but to secure the blockchain by ensuring that adding new blocks requires computational effort. Let's explore the key concepts:\n",
        "\n",
        "##### 1. Immutable Ledger\n",
        "A blockchain is designed to be an immutable ledger of transactions or data entries. Each block contains a set of transactions/data along with the hash of the previous block, creating a secure chain of blocks. This linkage ensures that once a block is added to the blockchain, altering its content (and therefore its hash) would invalidate all subsequent blocks, as their references to previous hashes would no longer match.\n",
        "\n",
        "##### 2. Distributed Trust\n",
        "In decentralized blockchain systems (like Bitcoin), there's no central authority to trust for transaction verification. Instead, blockchain uses a consensus mechanism (PoW in this case) to ensure all participants agree on the ledger's current state. PoW makes it computationally expensive to add new blocks, which deters malicious actors from attempting to alter the blockchain.\n",
        "\n",
        "##### 3. Proof of Work Explained\n",
        "The essence of PoW involves solving a difficult but arbitrary mathematical problem that requires computational resources to solve. In the context of blockchain:\n",
        "- **Mining**: The process of finding a valid nonce (a number that's only used once) such that when the block's data (including transactions, the previous block's hash, etc.) is hashed along with this nonce, the resulting hash meets certain criteria.\n",
        "- **Criteria**: The hash must be less than a predetermined target value, which is derived from the blockchain's difficulty level. The difficulty adjusts over time to ensure that as computational power increases, it still takes roughly the same amount of time to mine a new block.\n",
        "- **Why Compare Hashes to a Target?**: This comparison provides a way to prove that a miner has expended a certain amount of computational work to find the nonce. It's probabilistic, ensuring security through randomness and computational expenditure.\n",
        "\n",
        "##### 4. Why Add the Block After Successful Mining\n",
        "When a miner successfully finds a nonce that produces a hash less than or equal to the target, it proves that they've performed the required work. Adding this block to the blockchain accomplishes several things:\n",
        "- **Secures the Blockchain**: The work to find the nonce acts as a barrier against spam and tampering. Altering any block would require redoing the work for that block and all subsequent blocks.\n",
        "- **Timestamp and Order Transactions**: Each added block confirms a set of transactions/data at a particular time, maintaining the integrity and chronological order of the ledger.\n",
        "- **Distributed Consensus**: When other participants in the network verify the work (by checking the nonce and hash), they reach a consensus to accept the new block, further validating and securing the ledger.\n",
        "\n",
        "##### Conclusion\n",
        "The goal of comparing the hash to a target and adding the block upon success isn't about guessing the content of the block (which is typically known and transparent) but about securing the blockchain through computational effort. This process deters malicious alterations and enables a trustless, distributed consensus mechanism that defines blockchain technology."
      ],
      "metadata": {
        "id": "BDHxnIWPHmda"
      },
      "id": "BDHxnIWPHmda"
    },
    {
      "cell_type": "markdown",
      "source": [
        "#### **Why Compare Hashes to a Target?: This comparison provides a way to prove that a miner has expended a certain amount of computational work to find the nonce. It's probabilistic, ensuring security through randomness and computational expenditure. Why does it prove that a miner has expended a certain amount of computational work?**\n",
        "\n",
        "The process of comparing hashes to a target in blockchain mining and regarding it as proof that a miner has expended a certain amount of computational work is rooted in the cryptographic hash functions' properties and the design of the proof-of-work (PoW) system. Here's why this comparison serves as proof of work:\n",
        "\n",
        "##### Properties of Cryptographic Hash Functions\n",
        "\n",
        "1. **Deterministic**: The same input always produces the same output, but you cannot predict the output without actually computing the hash.\n",
        "2. **Quick to Compute**: Given an input, the hash function produces the output quickly.\n",
        "3. **Pre-image Resistance**: Given a hash output, it's computationally infeasible to reverse it to find the original input.\n",
        "4. **Small Changes in Input Produce Unpredictable Changes**: Even a tiny change in the input (like incrementing the nonce by 1) results in a completely different, unpredictable output.\n",
        "\n",
        "##### Computational Effort in Finding a Valid Nonce\n",
        "\n",
        "- **Trial and Error**: The process of finding a nonce that produces a hash lower than the target is essentially a trial-and-error search. Given the unpredictable nature of hash functions, miners have no better strategy than guessing nonces randomly and hashing until they find a valid solution.\n",
        "- **Statistical Rarity of Success**: The criteria for a successful hash (one that is lower than the target) means that only a small fraction of possible hashes will qualify. The lower the target (which is adjusted by the difficulty level), the rarer these successful hashes become. Finding such a hash statistically requires a large number of attempts.\n",
        "- **Proof Through Work**: Successfully finding a nonce that meets the target criteria proves that the miner must have made numerous hash computations. This is because the probability of finding a valid hash is so low that achieving success without significant computational effort is virtually impossible. The work required increases with the difficulty level, which adjusts the target downward as computational power in the network grows.\n",
        "\n",
        "##### The Role of Difficulty\n",
        "\n",
        "- **Adjustable Difficulty**: The blockchain network adjusts the difficulty to maintain a consistent rate of block addition, regardless of the total computing power of the network. As the difficulty increases, the target value decreases, requiring more computational work (more hash calculations) to find a nonce that produces a hash meeting the criteria.\n",
        "- **Proof of Expenditure**: The fact that a miner has found such a nonce serves as proof that they have indeed expended the computational resources necessary to perform those calculations. It's this expenditure of computational resources — electricity and processing power — that is referred to as \"proof of work.\"\n",
        "\n",
        "##### Conclusion\n",
        "\n",
        "The requirement to compare hashes to a target and the necessity for this comparison to prove substantial computational effort is what secures a PoW blockchain. It prevents malicious actors from easily adding blocks or tampering with the blockchain, as doing so would require re-mining not just one block but all subsequent blocks at great computational cost. This system underpins the security, integrity, and trustless nature of blockchain technology."
      ],
      "metadata": {
        "id": "JoQkqBeKISRv"
      },
      "id": "JoQkqBeKISRv"
    },
    {
      "cell_type": "markdown",
      "source": [
        "#### **What makes this strategy secure? Why can't anyone just run the for loop until they find the nounce?**\n",
        "\n",
        "The security of the proof-of-work (PoW) strategy in blockchain technology is not derived merely from the act of running a for loop until a valid nonce is found. Instead, it's the combination of several factors related to this process that collectively ensures the network's security and integrity. Here's why this strategy is secure and why simply running the for loop until finding a nonce is part of the intended design, rather than a vulnerability:\n",
        "\n",
        "##### 1. **Computational Cost**:\n",
        "- The essence of PoW lies in the requirement to perform a substantial amount of computational work to find a valid nonce. This work equates to electricity and hardware usage costs. While anyone can run the for loop to search for a nonce, doing so at a scale significant enough to impact the network requires considerable resources.\n",
        "\n",
        "##### 2. **Statistical Improbability of Early Success**:\n",
        "- Due to the unpredictable output of cryptographic hash functions, each attempt to find a valid nonce is statistically independent and has an equally low probability of success. This means that, on average, finding the correct nonce requires a predictable amount of work proportional to the network's difficulty level. It's not practically feasible to shortcut this work due to the nature of hash functions.\n",
        "\n",
        "##### 3. **Difficulty Adjustment**:\n",
        "- Blockchains with PoW adjust the mining difficulty to maintain a constant rate of block addition, regardless of the total computational power. As more miners join and the network's hash rate increases, the difficulty adjusts upward, making it harder to find a valid nonce. This ensures that adding blocks remains challenging and resource-intensive, preventing any single party from dominating the blockchain creation process.\n",
        "\n",
        "##### 4. **Network Consensus and Validation**:\n",
        "- Once a miner finds a valid nonce and adds a block, other network participants (nodes) independently verify the block. If a miner were to cheat by not actually performing the work or attempting to alter past transactions, their block would be rejected by other nodes that validate the block's correctness, including the proof of work.\n",
        "\n",
        "##### 5. **Security Through Decentralization**:\n",
        "- The decentralized nature of blockchain networks means that no single miner or group has control over the entire ledger. To alter past blocks or double-spend, an attacker would need to control over 50% of the network's computational power, a feat known as a 51% attack, which is highly impractical for large, well-distributed networks due to the immense computational resources required.\n",
        "\n",
        "##### 6. **Economic Incentives**:\n",
        "- Miners are rewarded for their efforts with cryptocurrency and transaction fees. This reward system incentivizes miners to act honestly and contribute to the network's security. Dishonesty or attempting to attack the network would not only require enormous resources but would likely harm the value of the currency they're mining, making such attacks economically irrational for rational actors.\n",
        "\n",
        "In summary, while anyone can run the for loop to find a nonce, the design and inherent properties of PoW, combined with the economic and game-theoretic principles underlying blockchain networks, ensure that doing so in a manner that secures the network is costly, requires broad participation, and is validated by consensus, collectively making the system secure."
      ],
      "metadata": {
        "id": "uy_uHIguJudT"
      },
      "id": "uy_uHIguJudT"
    },
    {
      "cell_type": "markdown",
      "source": [
        "### Execution"
      ],
      "metadata": {
        "id": "2WJbyJAjzetG"
      },
      "id": "2WJbyJAjzetG"
    },
    {
      "cell_type": "markdown",
      "source": [
        "Here's the provided code snippet with added comments for clarity and type hints where applicable. This snippet assumes the presence of the previously defined `Blockchain` and `Block` classes.\n",
        "\n",
        "```python\n",
        "# Instantiate the Blockchain object\n",
        "blockchain = Blockchain()\n",
        "\n",
        "# Mine and add 10 blocks to the blockchain\n",
        "for n in range(10):\n",
        "    # Create a new Block object with a unique data string\n",
        "    new_block = Block(\"Block \" + str(n + 1))\n",
        "    # Attempt to mine the new block and add it to the blockchain\n",
        "    blockchain.mine(new_block)\n",
        "\n",
        "# Iterate through the blockchain from the head (genesis block) to the last block\n",
        "while blockchain.head is not None:\n",
        "    # Print the current block's information\n",
        "    print(blockchain.head)\n",
        "    # Move to the next block in the chain\n",
        "    blockchain.head = blockchain.head.next\n",
        "```\n",
        "\n",
        "### Explanation of the Code\n",
        "\n",
        "This code snippet demonstrates a simple simulation of mining and iterating through a blockchain using the previously defined `Blockchain` and `Block` classes.\n",
        "\n",
        "- **Blockchain Initialization**: It starts by creating an instance of the `Blockchain` class. This instance begins with a genesis block (the first block in the chain), as defined in the `Blockchain` class.\n",
        "\n",
        "- **Mining Blocks**: The for-loop iterates 10 times, creating 10 new blocks with incrementally numbered data (\"Block 1\", \"Block 2\", ..., \"Block 10\"). Each new block is passed to the `Blockchain.mine` method, which attempts to find a valid nonce for the block so that its hash meets the blockchain's target criteria. If successful, the block is added to the blockchain.\n",
        "\n",
        "- **Iterating Through the Blockchain**: After mining and adding the blocks, the code iterates through the blockchain starting from the genesis block (`blockchain.head`). It prints each block's information (using the `Block.__str__` method) and then moves to the next block until it reaches the end of the chain (`blockchain.head` becomes `None`).\n",
        "\n",
        "### What the Code Demonstrates\n",
        "\n",
        "- **Blockchain Growth**: How blocks are sequentially added to the blockchain, each linked to the previous block through the `previous_hash` attribute. This forms an immutable chain of blocks.\n",
        "\n",
        "- **Proof of Work Mining**: The process of mining new blocks by finding a nonce that results in a block hash meeting the specified target, simulating the proof of work mechanism used in many cryptocurrencies.\n",
        "\n",
        "- **Traversal**: How to traverse a blockchain from the first block (genesis) to the last, illustrating the linked nature of blockchain data structures.\n",
        "\n",
        "### Real-World Implications\n",
        "\n",
        "In a real blockchain network, mined blocks would contain sets of transactions, and the mining process would be conducted by multiple nodes competing to add the next block to the chain. This simplified example abstracts many complexities of real-world blockchains but provides a foundational understanding of how blocks are created, linked, and traversed in a blockchain system."
      ],
      "metadata": {
        "id": "25fYRvJWz6ao"
      },
      "id": "25fYRvJWz6ao"
    },
    {
      "cell_type": "code",
      "source": [
        "# Instantiate the Blockchain object\n",
        "blockchain = Blockchain()\n",
        "\n",
        "print(blockchain) # this is just a Blockchain() object"
      ],
      "metadata": {
        "colab": {
          "base_uri": "https://localhost:8080/"
        },
        "id": "_BeeQE-pyoZ2",
        "outputId": "bc0ef718-8730-4595-f88b-4942d80be138"
      },
      "id": "_BeeQE-pyoZ2",
      "execution_count": null,
      "outputs": [
        {
          "output_type": "stream",
          "name": "stdout",
          "text": [
            "<__main__.Blockchain object at 0x7f3bcf37b850>\n"
          ]
        }
      ]
    },
    {
      "cell_type": "code",
      "source": [
        "# Mine and add 10 blocks to the blockchain\n",
        "for n in range(3):\n",
        "    # Create a new Block object with a unique data string\n",
        "    new_block = Block(\"Block \" + str(n + 1))\n",
        "    # Attempt to mine the new block and add it to the blockchain\n",
        "    blockchain.mine(new_block)"
      ],
      "metadata": {
        "colab": {
          "base_uri": "https://localhost:8080/"
        },
        "id": "UvuAaTae1Nqp",
        "outputId": "81d49b82-58f6-4bc9-b41b-5a7c40fed91a"
      },
      "id": "UvuAaTae1Nqp",
      "execution_count": null,
      "outputs": [
        {
          "output_type": "stream",
          "name": "stdout",
          "text": [
            "Block Hash: 2f90c5df988e6f289feca3e7490816919b67d275852d660d7f4e0dfa1d89d074\n",
            "BlockNo: 1\n",
            "Block Data: Block 1\n",
            "Hashes: 578\n",
            "--------------\n",
            "Block Hash: 9e6499b690dcaa405899afd71987a6052195b7017a716593dbf433eaf376de80\n",
            "BlockNo: 2\n",
            "Block Data: Block 2\n",
            "Hashes: 252\n",
            "--------------\n",
            "Block Hash: a4f24c0de3fe9e52fbaf1659fc66a052fbdf6886b09dcfc5a8f061bd6d8da9b9\n",
            "BlockNo: 3\n",
            "Block Data: Block 3\n",
            "Hashes: 1720\n",
            "--------------\n"
          ]
        }
      ]
    },
    {
      "cell_type": "code",
      "source": [
        "# Iterate through the blockchain from the head (genesis block) to the last block\n",
        "while blockchain.head is not None:\n",
        "    # Print the current block's information\n",
        "    print(blockchain.head)\n",
        "    # Move to the next block in the chain\n",
        "    blockchain.head = blockchain.head.next\n"
      ],
      "metadata": {
        "colab": {
          "base_uri": "https://localhost:8080/"
        },
        "id": "dmxFXcSr1RvZ",
        "outputId": "2d244364-6f44-490a-aeed-4765dbaf189b"
      },
      "id": "dmxFXcSr1RvZ",
      "execution_count": null,
      "outputs": [
        {
          "output_type": "stream",
          "name": "stdout",
          "text": [
            "Block Hash: 97d2c8d5fc06f897ea264852ab2d082bfb1b6625393b9e40647d47d523c1f87a\n",
            "BlockNo: 0\n",
            "Block Data: Genesis\n",
            "Hashes: 0\n",
            "--------------\n",
            "Block Hash: 2f90c5df988e6f289feca3e7490816919b67d275852d660d7f4e0dfa1d89d074\n",
            "BlockNo: 1\n",
            "Block Data: Block 1\n",
            "Hashes: 578\n",
            "--------------\n",
            "Block Hash: 9e6499b690dcaa405899afd71987a6052195b7017a716593dbf433eaf376de80\n",
            "BlockNo: 2\n",
            "Block Data: Block 2\n",
            "Hashes: 252\n",
            "--------------\n",
            "Block Hash: a4f24c0de3fe9e52fbaf1659fc66a052fbdf6886b09dcfc5a8f061bd6d8da9b9\n",
            "BlockNo: 3\n",
            "Block Data: Block 3\n",
            "Hashes: 1720\n",
            "--------------\n"
          ]
        }
      ]
    },
    {
      "cell_type": "markdown",
      "source": [
        "#### Make it harder!!!"
      ],
      "metadata": {
        "id": "6kdAtlwa7pup"
      },
      "id": "6kdAtlwa7pup"
    },
    {
      "cell_type": "markdown",
      "source": [
        "Now that we know how the function works let us increase the difficulty by increasing `diff` in the `Blockchain` class object so that we can make it more difficult to be hacked."
      ],
      "metadata": {
        "id": "F-TFeMmz6Efc"
      },
      "id": "F-TFeMmz6Efc"
    },
    {
      "cell_type": "markdown",
      "source": [
        "The difference in time taken to mine blocks with `diff=25` compared to `diff=10` is due to the nature of the proof-of-work algorithm and how difficulty impacts it.\n",
        "\n",
        "In a blockchain context, the difficulty (`diff`) of mining a block directly influences how hard it is to find a valid nonce that satisfies the condition set by the target hash. The `target` value is adjusted based on the difficulty level, with a higher difficulty resulting in a lower target value. Here’s how the difficulty affects the mining process:\n",
        "\n",
        "1. **Lower Target Hash**: The target hash is calculated as `2 ** (256 - diff)`. A higher `diff` value decreases the target hash, making it statistically harder to find a nonce that produces a block hash lower than the target. This is because there are fewer valid nonces that can produce a hash meeting the condition, hence requiring more computational work (more hash calculations) to find a successful nonce.\n",
        "\n",
        "2. **Increased Computational Work**: With `diff=10`, the target hash is relatively higher, meaning there are more potential nonces that will produce a valid hash, making it easier and quicker to find a successful nonce. Conversely, with `diff=25`, the target hash is significantly lower, greatly reducing the number of nonces that can produce a valid hash and thereby increasing the time it takes to mine a block.\n",
        "\n",
        "3. **Exponential Growth in Difficulty**: The relationship between difficulty and the target hash value is exponential; even a small increase in difficulty can lead to a significant increase in the time required to find a valid nonce. This is why changing the difficulty from `10` to `25` can result in a dramatically longer time to mine the same number of blocks.\n",
        "\n",
        "In summary, increasing the difficulty from `10` to `25` increases the computational effort required to find a nonce that satisfies the mining condition (a block hash less than or equal to the target hash). This is why mining blocks with `diff=25` takes much longer than with `diff=10`.\n",
        "\n",
        "**Note**: The choice of `diff=25` is arbitrary and it will take a long time (too long to be waiting for it). If you choose `diff=22` or even just `diff=20`, you'll see the difference."
      ],
      "metadata": {
        "id": "fpoDTceI8JLb"
      },
      "id": "fpoDTceI8JLb"
    },
    {
      "cell_type": "code",
      "source": [
        "import numpy as np"
      ],
      "metadata": {
        "id": "8fnMIG6f91r8"
      },
      "id": "8fnMIG6f91r8",
      "execution_count": null,
      "outputs": []
    },
    {
      "cell_type": "code",
      "source": [
        "# use a random number generator to generate some random votes\n",
        "['Trump', 'Biden'][np.random.randint(2)]"
      ],
      "metadata": {
        "colab": {
          "base_uri": "https://localhost:8080/",
          "height": 36
        },
        "id": "AvEnKWw593I9",
        "outputId": "23d94c1a-54ae-4db2-97c3-db5b4cb9fbc1"
      },
      "id": "AvEnKWw593I9",
      "execution_count": null,
      "outputs": [
        {
          "output_type": "execute_result",
          "data": {
            "text/plain": [
              "'Trump'"
            ],
            "application/vnd.google.colaboratory.intrinsic+json": {
              "type": "string"
            }
          },
          "metadata": {},
          "execution_count": 90
        }
      ]
    },
    {
      "cell_type": "code",
      "source": [
        "%%time\n",
        "\n",
        "# Instantiate the Blockchain object\n",
        "blockchain = Blockchain(diff=10)\n",
        "\n",
        "print(blockchain) # this is just a Blockchain() object\n",
        "\n",
        "# Mine and add 10 blocks to the blockchain\n",
        "for n in range(3):\n",
        "    # Instantiate a vote as content\n",
        "    current_vote = ['Trump', 'Biden'][np.random.randint(2)]\n",
        "    # Create a new Block object with a unique data string\n",
        "    new_block = Block(\"Block \" + str(n + 1) + \", vote result: \" + current_vote)\n",
        "    # Attempt to mine the new block and add it to the blockchain\n",
        "    blockchain.mine(new_block)"
      ],
      "metadata": {
        "id": "QGou7pKntuen",
        "colab": {
          "base_uri": "https://localhost:8080/"
        },
        "outputId": "d3044b9e-2220-4d1a-d094-3ade8f1ddeb2"
      },
      "id": "QGou7pKntuen",
      "execution_count": null,
      "outputs": [
        {
          "output_type": "stream",
          "name": "stdout",
          "text": [
            "<__main__.Blockchain object at 0x7f3bcf24c8e0>\n",
            "Block Hash: 08963b23a73dec4b6396bf229dcdc30f34d4d1b39440e7790055f25ae3b4f4ed\n",
            "BlockNo: 1\n",
            "Block Data: Block 1, vote result: Biden\n",
            "Hashes: 1703\n",
            "--------------\n",
            "Block Hash: 724fdfc8f400c468b8c4ebfc82b8b528a9eac1ea0df6e6698125676eefeca47f\n",
            "BlockNo: 2\n",
            "Block Data: Block 2, vote result: Biden\n",
            "Hashes: 1013\n",
            "--------------\n",
            "Block Hash: 796fdb408f182df26a28eaccc64734c6e27464309888cfa290c09b1ab57f786d\n",
            "BlockNo: 3\n",
            "Block Data: Block 3, vote result: Biden\n",
            "Hashes: 3027\n",
            "--------------\n",
            "CPU times: user 37.3 ms, sys: 5 µs, total: 37.3 ms\n",
            "Wall time: 37.8 ms\n"
          ]
        }
      ]
    },
    {
      "cell_type": "markdown",
      "source": [
        "The output you're seeing is the result of your Python code executing the mining of three blocks on a blockchain with a difficulty setting of `10`. Let's break down the output and the process it went through:\n",
        "\n",
        "1. **Blockchain Object Creation**:\n",
        "   - The line `<__main__.Blockchain object at 0x7f3bcf37b460>` is the output from `print(blockchain)`. It simply states that you've created an instance of the `Blockchain` class, and it shows the memory address where this particular object is stored (`0x7f3bcf37b460`). This does not represent any blockchain data but rather confirms the creation of the `Blockchain` object.\n",
        "\n",
        "2. **Mining Blocks**:\n",
        "   - You looped through a range of three (`for n in range(3):`), creating and mining three new blocks with unique data (\"Block 1\", \"Block 2\", \"Block 3\").\n",
        "   - For each block, the `blockchain.mine(new_block)` call attempts to mine a block by finding a nonce that, when hashed with the block's data and other attributes, produces a hash value that is less than the target defined by the blockchain's difficulty setting (`diff=10`).\n",
        "\n",
        "3. **Mining Output**:\n",
        "   - Each \"Block Hash:\" line shows the successful hash of a mined block. The hash is a SHA-256 hash that meets the difficulty criteria of the blockchain.\n",
        "   - \"BlockNo:\" indicates the position of the block within the blockchain, starting from `1` for the first block after the genesis block.\n",
        "   - \"Block Data:\" displays the data contained within the block, which in this case is simply a string identifying the block (\"Block 1\", \"Block 2\", \"Block 3\").\n",
        "   - \"Hashes:\" shows the number of attempts (nonce value) it took to find a valid hash that meets the blockchain's difficulty target. For example, it took `578` attempts to find a valid hash for \"Block 1\".\n",
        "\n",
        "4. **Performance Metrics**:\n",
        "   - The \"CPU times\" line indicates the amount of CPU time used to execute the block mining loop. In this case, `29.4 ms` of user CPU time and `0 ns` of system CPU time, totaling `29.4 ms`.\n",
        "   - The \"Wall time\" refers to the actual real-world time elapsed while the operation was running, which was `69.8 ms` in this instance.\n",
        "\n",
        "In essence, the process you executed demonstrates how new blocks are mined and added to a blockchain in a simulated environment. The nonce for each block is found through a brute-force search that iterates until a hash meeting the difficulty criteria is discovered. The `diff=10` setting made it computationally feasible to find these nonces relatively quickly, as shown by the performance metrics."
      ],
      "metadata": {
        "id": "YIrwM8rn81Jw"
      },
      "id": "YIrwM8rn81Jw"
    },
    {
      "cell_type": "code",
      "source": [
        "%%time\n",
        "\n",
        "# Instantiate the Blockchain object\n",
        "blockchain = Blockchain(diff=15)\n",
        "\n",
        "print(blockchain) # this is just a Blockchain() object\n",
        "\n",
        "# Mine and add 10 blocks to the blockchain\n",
        "for n in range(3):\n",
        "    # Instantiate a vote as content\n",
        "    current_vote = ['Trump', 'Biden'][np.random.randint(2)]\n",
        "    # Create a new Block object with a unique data string\n",
        "    new_block = Block(\"Block \" + str(n + 1) + \", vote result: \" + current_vote)\n",
        "    # Attempt to mine the new block and add it to the blockchain\n",
        "    blockchain.mine(new_block)"
      ],
      "metadata": {
        "colab": {
          "base_uri": "https://localhost:8080/"
        },
        "id": "IuqpmuDC7Kqv",
        "outputId": "42f40df0-5843-45ab-9782-c88580ec60a2"
      },
      "id": "IuqpmuDC7Kqv",
      "execution_count": null,
      "outputs": [
        {
          "output_type": "stream",
          "name": "stdout",
          "text": [
            "<__main__.Blockchain object at 0x7f3bcf24c700>\n",
            "Block Hash: 4aa81ee98cc4cb773ceaf29e35a186a80d366add3d64441e8ac016661ae3a8fa\n",
            "BlockNo: 1\n",
            "Block Data: Block 1, vote result: Trump\n",
            "Hashes: 86087\n",
            "--------------\n",
            "Block Hash: 1474d3dea3dc1c66499f844f35033253737113881b1560d5af2e222e2ae73c3c\n",
            "BlockNo: 2\n",
            "Block Data: Block 2, vote result: Biden\n",
            "Hashes: 96173\n",
            "--------------\n",
            "Block Hash: 2ca38a2fed017bda837c443530bae3918efb767017669bc8bf1198bc9ef01e4e\n",
            "BlockNo: 3\n",
            "Block Data: Block 3, vote result: Biden\n",
            "Hashes: 7565\n",
            "--------------\n",
            "CPU times: user 1.16 s, sys: 6.92 ms, total: 1.17 s\n",
            "Wall time: 1.2 s\n"
          ]
        }
      ]
    },
    {
      "cell_type": "code",
      "source": [
        "%%time\n",
        "\n",
        "# Instantiate the Blockchain object\n",
        "blockchain = Blockchain(diff=20)\n",
        "\n",
        "print(blockchain) # this is just a Blockchain() object\n",
        "\n",
        "# Mine and add 10 blocks to the blockchain\n",
        "for n in range(3):\n",
        "    # Instantiate a vote as content\n",
        "    current_vote = ['Trump', 'Biden'][np.random.randint(2)]\n",
        "    # Create a new Block object with a unique data string\n",
        "    new_block = Block(\"Block \" + str(n + 1) + \", vote result: \" + current_vote)\n",
        "    # Attempt to mine the new block and add it to the blockchain\n",
        "    blockchain.mine(new_block)"
      ],
      "metadata": {
        "colab": {
          "base_uri": "https://localhost:8080/"
        },
        "id": "IHYSPftz7Nvn",
        "outputId": "576b1baa-f817-4e8b-9a32-3140a4d8ac70"
      },
      "id": "IHYSPftz7Nvn",
      "execution_count": null,
      "outputs": [
        {
          "output_type": "stream",
          "name": "stdout",
          "text": [
            "<__main__.Blockchain object at 0x7f3bcf24d7e0>\n",
            "Block Hash: 0115c83dc56622bc83413516ae03b80b6cf0831d45f6d4f16f1877091c177bfc\n",
            "BlockNo: 1\n",
            "Block Data: Block 1, vote result: Trump\n",
            "Hashes: 1845883\n",
            "--------------\n",
            "Block Hash: 8d8a0196c9aa2d4aa45c2179a3f8afd45a549a69d273104537fc6a92d1eb01a1\n",
            "BlockNo: 2\n",
            "Block Data: Block 2, vote result: Biden\n",
            "Hashes: 1889880\n",
            "--------------\n",
            "Block Hash: af5144138008fb0f329cd254723b977fe369a623ec7d881eb17e65c4446a1f97\n",
            "BlockNo: 3\n",
            "Block Data: Block 3, vote result: Trump\n",
            "Hashes: 1786554\n",
            "--------------\n",
            "CPU times: user 34.4 s, sys: 81.4 ms, total: 34.5 s\n",
            "Wall time: 35.4 s\n"
          ]
        }
      ]
    },
    {
      "cell_type": "code",
      "source": [],
      "metadata": {
        "id": "DxskbEH--UaJ"
      },
      "id": "DxskbEH--UaJ",
      "execution_count": null,
      "outputs": []
    }
  ],
  "metadata": {
    "colab": {
      "provenance": [],
      "collapsed_sections": [
        "5b8fyGMqwkwd",
        "WcDkuf2bxEWV",
        "ABw1dvxxL8uT"
      ],
      "toc_visible": true
    },
    "language_info": {
      "name": "python"
    },
    "kernelspec": {
      "name": "python3",
      "display_name": "Python 3"
    }
  },
  "nbformat": 4,
  "nbformat_minor": 5
}