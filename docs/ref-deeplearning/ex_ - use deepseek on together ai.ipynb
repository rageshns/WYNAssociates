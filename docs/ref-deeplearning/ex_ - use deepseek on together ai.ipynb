{
  "nbformat": 4,
  "nbformat_minor": 0,
  "metadata": {
    "colab": {
      "provenance": []
    },
    "kernelspec": {
      "name": "python3",
      "display_name": "Python 3"
    },
    "language_info": {
      "name": "python"
    }
  },
  "cells": [
    {
      "cell_type": "code",
      "source": [
        "from google.colab import userdata\n",
        "TOGETHER_API_KEY = userdata.get('TOGETHER_API_KEY')"
      ],
      "metadata": {
        "id": "zFFZndfL541L"
      },
      "execution_count": 1,
      "outputs": []
    },
    {
      "cell_type": "code",
      "source": [
        "! pip install together"
      ],
      "metadata": {
        "id": "5qzAjGr759l4"
      },
      "execution_count": null,
      "outputs": []
    },
    {
      "cell_type": "code",
      "source": [
        "from google.colab import userdata\n",
        "TOGETHER_API_KEY = userdata.get('TOGETHER_API_KEY')"
      ],
      "metadata": {
        "id": "0NIc0qjI6GYo"
      },
      "execution_count": 2,
      "outputs": []
    },
    {
      "cell_type": "code",
      "source": [
        "from together import Together\n",
        "\n",
        "client = Together(api_key=TOGETHER_API_KEY)"
      ],
      "metadata": {
        "id": "FUNhD0F1554n"
      },
      "execution_count": 3,
      "outputs": []
    },
    {
      "cell_type": "code",
      "source": [
        "response = client.chat.completions.create(\n",
        "    model=\"deepseek-ai/DeepSeek-R1\",\n",
        "    messages=[\n",
        "        {\n",
        "                \"role\": \"user\",\n",
        "                \"content\": \"what is 1+1\"\n",
        "        },\n",
        "        {\n",
        "                \"role\": \"assistant\",\n",
        "                \"content\": \"<think>\\nOkay, so the user is asking what 1 plus 1 is. That seems really simple, but maybe they‛re just starting to learn math. Let me think.\\n\\nFirst, I know that addition is combining two numbers. So if you have one apple and someone gives you another apple, you have two apples. That makes sense. But wait, is there any situation where 1+1 doesn‛t equal 2? Like in binary or different number systems? Hmm, in binary, 1+1 is 10, but the question doesn‛t specify the base. But usually, unless stated otherwise, we assume base 10. So in base 10, 1+1 is definitely 2. \\n\\nMaybe the user is testing me to see if I can explain it clearly. Let me make sure there‛s no trick here. Sometimes people use jokes or riddles where 1+1 could be something else, like in a partnership making 11, but that‛s not mathematical. The question is straightforward, so the answer should be straightforward too. \\n\\nI should also consider if there‛s any deeper context. If this is for a child learning addition, the answer is 2. If it‛s for a more advanced math concept, maybe there‛s a different angle, but the question doesn‛t indicate that. \\n\\nAlright, I think the best answer is 2. Just to double-check, I can count on my fingers. One finger plus another finger is two fingers. Yep, that‛s right. So I‛m confident the answer is 2.\\n</think>\\n\\nThe result of 1 + 1 is **2**. This is a fundamental arithmetic operation where adding one unit to another unit gives a total of two units.\"\n",
        "        }\n",
        "    ],\n",
        "    max_tokens=1024,\n",
        "    temperature=0.7,\n",
        "    top_p=0.7,\n",
        "    top_k=50,\n",
        "    repetition_penalty=1,\n",
        "    stop=[\"<｜end▁of▁sentence｜>\"],\n",
        "    stream=True\n",
        ")\n"
      ],
      "metadata": {
        "id": "YT3j3D5F5_Xn"
      },
      "execution_count": 31,
      "outputs": []
    },
    {
      "cell_type": "code",
      "source": [
        "for token in response:\n",
        "    if hasattr(token, 'choices'):\n",
        "        print(token.choices[0].delta.content, end='', flush=True)"
      ],
      "metadata": {
        "colab": {
          "base_uri": "https://localhost:8080/",
          "height": 314
        },
        "id": "3ZPFleDI-NHL",
        "outputId": "6668536d-ccdf-4306-cce4-c5f7852b4271"
      },
      "execution_count": 32,
      "outputs": [
        {
          "output_type": "stream",
          "name": "stdout",
          "text": [
            "\n",
            "\n",
            "**Explanation:**  \n",
            "- **Basic Addition:** In the decimal (base-10) system, combining 1 and 1 yields 2.  \n",
            "- **Binary Context:** If interpreted in binary (base-2), 1 + 1 equals 10 (which represents the decimal number 2). However, unless specified, the answer assumes standard base-10.  \n",
            "\n",
            "Let me know if you'd like further clarification! 😊"
          ]
        },
        {
          "output_type": "error",
          "ename": "IndexError",
          "evalue": "list index out of range",
          "traceback": [
            "\u001b[0;31m---------------------------------------------------------------------------\u001b[0m",
            "\u001b[0;31mIndexError\u001b[0m                                Traceback (most recent call last)",
            "\u001b[0;32m<ipython-input-32-0d02dea27530>\u001b[0m in \u001b[0;36m<cell line: 0>\u001b[0;34m()\u001b[0m\n\u001b[1;32m      1\u001b[0m \u001b[0;32mfor\u001b[0m \u001b[0mtoken\u001b[0m \u001b[0;32min\u001b[0m \u001b[0mresponse\u001b[0m\u001b[0;34m:\u001b[0m\u001b[0;34m\u001b[0m\u001b[0;34m\u001b[0m\u001b[0m\n\u001b[1;32m      2\u001b[0m     \u001b[0;32mif\u001b[0m \u001b[0mhasattr\u001b[0m\u001b[0;34m(\u001b[0m\u001b[0mtoken\u001b[0m\u001b[0;34m,\u001b[0m \u001b[0;34m'choices'\u001b[0m\u001b[0;34m)\u001b[0m\u001b[0;34m:\u001b[0m\u001b[0;34m\u001b[0m\u001b[0;34m\u001b[0m\u001b[0m\n\u001b[0;32m----> 3\u001b[0;31m         \u001b[0mprint\u001b[0m\u001b[0;34m(\u001b[0m\u001b[0mtoken\u001b[0m\u001b[0;34m.\u001b[0m\u001b[0mchoices\u001b[0m\u001b[0;34m[\u001b[0m\u001b[0;36m0\u001b[0m\u001b[0;34m]\u001b[0m\u001b[0;34m.\u001b[0m\u001b[0mdelta\u001b[0m\u001b[0;34m.\u001b[0m\u001b[0mcontent\u001b[0m\u001b[0;34m,\u001b[0m \u001b[0mend\u001b[0m\u001b[0;34m=\u001b[0m\u001b[0;34m''\u001b[0m\u001b[0;34m,\u001b[0m \u001b[0mflush\u001b[0m\u001b[0;34m=\u001b[0m\u001b[0;32mTrue\u001b[0m\u001b[0;34m)\u001b[0m\u001b[0;34m\u001b[0m\u001b[0;34m\u001b[0m\u001b[0m\n\u001b[0m",
            "\u001b[0;31mIndexError\u001b[0m: list index out of range"
          ]
        }
      ]
    },
    {
      "cell_type": "code",
      "source": [
        "token.choices[0].delta.content"
      ],
      "metadata": {
        "colab": {
          "base_uri": "https://localhost:8080/",
          "height": 148
        },
        "id": "SCCJCNGD-puI",
        "outputId": "d47c6201-1c74-4254-be88-7095f69abca7"
      },
      "execution_count": 33,
      "outputs": [
        {
          "output_type": "error",
          "ename": "IndexError",
          "evalue": "list index out of range",
          "traceback": [
            "\u001b[0;31m---------------------------------------------------------------------------\u001b[0m",
            "\u001b[0;31mIndexError\u001b[0m                                Traceback (most recent call last)",
            "\u001b[0;32m<ipython-input-33-941c91d35e27>\u001b[0m in \u001b[0;36m<cell line: 0>\u001b[0;34m()\u001b[0m\n\u001b[0;32m----> 1\u001b[0;31m \u001b[0mtoken\u001b[0m\u001b[0;34m.\u001b[0m\u001b[0mchoices\u001b[0m\u001b[0;34m[\u001b[0m\u001b[0;36m0\u001b[0m\u001b[0;34m]\u001b[0m\u001b[0;34m.\u001b[0m\u001b[0mdelta\u001b[0m\u001b[0;34m.\u001b[0m\u001b[0mcontent\u001b[0m\u001b[0;34m\u001b[0m\u001b[0;34m\u001b[0m\u001b[0m\n\u001b[0m",
            "\u001b[0;31mIndexError\u001b[0m: list index out of range"
          ]
        }
      ]
    },
    {
      "cell_type": "code",
      "source": [
        "answer = ''\n",
        "for token in response:\n",
        "    if hasattr(token, 'choices'):\n",
        "        try:\n",
        "            answer += token.choices[0].delta.content\n",
        "        except:\n",
        "            pass"
      ],
      "metadata": {
        "id": "tnf7swY26L9d"
      },
      "execution_count": 26,
      "outputs": []
    },
    {
      "cell_type": "code",
      "source": [
        "answer"
      ],
      "metadata": {
        "colab": {
          "base_uri": "https://localhost:8080/",
          "height": 55
        },
        "id": "YDpUEMkB6MXT",
        "outputId": "0d1d25f1-78f2-4553-d785-5003c6220924"
      },
      "execution_count": 27,
      "outputs": [
        {
          "output_type": "execute_result",
          "data": {
            "text/plain": [
              "'\\n\\n**Breakdown:**\\n- **Base 10 (Decimal):** In the standard number system, 1 + 1 = 2.\\n- **Binary (Base 2):** 1 + 1 = 10 (which represents the decimal number 2).\\n- **Set Theory:** Combining a set with 1 element and another set with 1 element results in a set with 2 elements.\\n\\nNo hidden tricks or contexts are implied here—just straightforward addition! 🧮'"
            ],
            "application/vnd.google.colaboratory.intrinsic+json": {
              "type": "string"
            }
          },
          "metadata": {},
          "execution_count": 27
        }
      ]
    },
    {
      "cell_type": "code",
      "source": [
        "from together import Together\n",
        "\n",
        "class ChatBot:\n",
        "    \"\"\"\n",
        "    A simple ChatBot class to interact with a Together LLM model.\n",
        "\n",
        "    Attributes:\n",
        "        api_key (str): The API key used to authenticate with the Together API.\n",
        "        client (Together): A Together client for making requests.\n",
        "        history (list[dict]): A list of dictionaries representing the conversation history.\n",
        "    \"\"\"\n",
        "\n",
        "    def __init__(self, api_key: str) -> None:\n",
        "        \"\"\"\n",
        "        Initializes the ChatBot with a given API key and an empty conversation history.\n",
        "        Also creates a Together client instance for making requests.\n",
        "\n",
        "        Args:\n",
        "            api_key (str): The API key for Together.\n",
        "        \"\"\"\n",
        "        self.api_key: str = api_key\n",
        "        self.client: Together = Together(api_key=self.api_key)\n",
        "        self.history: list[dict] = []\n",
        "\n",
        "    def append_history(self, role: str, content: str) -> None:\n",
        "        \"\"\"\n",
        "        Appends a new message entry to the conversation history.\n",
        "\n",
        "        Args:\n",
        "            role (str): The role of the message sender, e.g., \"user\" or \"assistant\".\n",
        "            content (str): The message content to be appended.\n",
        "        \"\"\"\n",
        "        self.history.append({\"role\": role, \"content\": content})\n",
        "\n",
        "    def invoke_api(\n",
        "        self,\n",
        "        model: str = \"deepseek-ai/DeepSeek-R1\",\n",
        "        max_tokens: int = 1024,\n",
        "        temperature: float = 0.7,\n",
        "        top_p: float = 0.7,\n",
        "        top_k: int = 50,\n",
        "        repetition_penalty: float = 1.0,\n",
        "        stop: list[str] = [\"<｜end▁of▁sentence｜>\"]\n",
        "    ) -> str:\n",
        "        \"\"\"\n",
        "        Invokes the Together chat API using the stored conversation history.\n",
        "\n",
        "        Args:\n",
        "            model (str, optional): The name of the Together model to use. Defaults to \"deepseek-ai/DeepSeek-R1\".\n",
        "            max_tokens (int, optional): The maximum number of tokens in the response. Defaults to 1024.\n",
        "            temperature (float, optional): The sampling temperature. Defaults to 0.7.\n",
        "            top_p (float, optional): The top_p sampling parameter. Defaults to 0.7.\n",
        "            top_k (int, optional): The top_k sampling parameter. Defaults to 50.\n",
        "            repetition_penalty (float, optional): The repetition penalty parameter. Defaults to 1.0.\n",
        "            stop (list[str], optional): A list of stop tokens. Defaults to [\"<｜end▁of▁sentence｜>\"].\n",
        "\n",
        "        Returns:\n",
        "            str: The collapsed string response from the API.\n",
        "        \"\"\"\n",
        "        response = self.client.chat.completions.create(\n",
        "            model=model,\n",
        "            messages=self.history,\n",
        "            max_tokens=max_tokens,\n",
        "            temperature=temperature,\n",
        "            top_p=top_p,\n",
        "            top_k=top_k,\n",
        "            repetition_penalty=repetition_penalty,\n",
        "            stop=stop,\n",
        "            stream=True\n",
        "        )\n",
        "        answer: str = self.collapse_response(response)\n",
        "        return answer\n",
        "\n",
        "    def collapse_response(self, response) -> str:\n",
        "        \"\"\"\n",
        "        Collapses a streaming response from the Together API into a single string.\n",
        "\n",
        "        Args:\n",
        "            response: The streaming response object from the Together API.\n",
        "\n",
        "        Returns:\n",
        "            str: A single string containing the concatenated content from each token in the response.\n",
        "        \"\"\"\n",
        "        answer: str = \"\"\n",
        "        for token in response:\n",
        "            if hasattr(token, \"choices\"):\n",
        "                try:\n",
        "                    answer += token.choices[0].delta.content\n",
        "                except:\n",
        "                    pass\n",
        "        return answer\n",
        "\n",
        "    def show_history(self) -> None:\n",
        "        \"\"\"\n",
        "        Prints the entire conversation history.\n",
        "        \"\"\"\n",
        "        print(self.history)\n"
      ],
      "metadata": {
        "id": "gF_whsvt68Qv"
      },
      "execution_count": 34,
      "outputs": []
    },
    {
      "cell_type": "code",
      "source": [
        "import os\n",
        "\n",
        "# Replace with your actual Together API key\n",
        "# TOGETHER_API_KEY = \"YOUR_TOGETHER_API_KEY\"\n",
        "\n",
        "# Instantiate the ChatBot\n",
        "bot = ChatBot(api_key=TOGETHER_API_KEY)\n",
        "print(\"Welcome to the ChatBot! Type 'exit' or 'quit' to end the conversation.\\n\")\n",
        "\n",
        "while True:\n",
        "    try:\n",
        "        # Get user input\n",
        "        user_input = input(\"🧑‍💻 You: \")\n",
        "\n",
        "        # Check for exit condition\n",
        "        if user_input.strip().lower() in [\"exit\", \"quit\"]:\n",
        "            print(\"👋 Ending the conversation. Goodbye!\")\n",
        "            break\n",
        "\n",
        "        # Append user message to history\n",
        "        bot.append_history(role=\"user\", content=user_input)\n",
        "\n",
        "        # Invoke the API to get the assistant's response\n",
        "        assistant_response = bot.invoke_api()\n",
        "\n",
        "        # Append assistant response to history\n",
        "        bot.append_history(role=\"assistant\", content=assistant_response)\n",
        "\n",
        "        # Display the assistant's response with emoji\n",
        "        print(f\"🤖 Assistant: {assistant_response}\\n\")\n",
        "\n",
        "    except KeyboardInterrupt:\n",
        "        print(\"\\n👋 Conversation interrupted. Goodbye!\")\n",
        "        break\n",
        "    except Exception as e:\n",
        "        print(f\"❌ An error occurred: {e}\")\n"
      ],
      "metadata": {
        "colab": {
          "base_uri": "https://localhost:8080/"
        },
        "id": "pmHNkVaq8DrO",
        "outputId": "4cce942d-f71d-44f4-beb6-888e7fd08321"
      },
      "execution_count": 35,
      "outputs": [
        {
          "output_type": "stream",
          "name": "stdout",
          "text": [
            "Welcome to the ChatBot! Type 'exit' or 'quit' to end the conversation.\n",
            "\n",
            "🧑‍💻 You: what is 1+1\n",
            "🤖 Assistant: <think>\n",
            "Okay, the user is asking \"what is 1+1\". Let me think about how to approach this.\n",
            "\n",
            "First, I need to make sure I understand the question correctly. They're asking for the sum of 1 and 1. That seems straightforward, but maybe they want a more detailed explanation, especially if they're just learning basic arithmetic.\n",
            "\n",
            "So, 1 plus 1. In basic addition, when you add two numbers, you're combining their values. Here, combining one unit with another unit gives you two units. So, 1 + 1 equals 2. \n",
            "\n",
            "But wait, maybe I should check if there's any context I'm missing. Sometimes people ask simple questions as a test or a joke. But the user hasn't given any indication of that. They might be a student starting out with math, so a clear and simple answer is best.\n",
            "\n",
            "I should also consider different ways to explain it. For example, using objects: if you have one apple and someone gives you another apple, you now have two apples. That visual example might help solidify the concept.\n",
            "\n",
            "Is there any possibility that this is a trick question? Like in binary, 1 + 1 equals 10, but the question doesn't specify a number base. However, unless stated otherwise, it's safe to assume they're asking in base 10. So the answer remains 2.\n",
            "\n",
            "Another angle: in formal mathematics, the equation 1 + 1 = 2 is a fundamental concept in arithmetic and is proven in systems like Principia Mathematica, though that's very advanced. But for most purposes, especially at a basic level, stating that 1 + 1 equals 2 is sufficient.\n",
            "\n",
            "I should make sure the answer is confident and clear. There's no ambiguity here, so the answer should be straightforward. Maybe add a brief explanation to reinforce understanding, but keep it simple.\n",
            "</think>\n",
            "\n",
            "The sum of 1 and 1 is **2**. \n",
            "\n",
            "In basic arithmetic:  \n",
            "1 + 1 = 2  \n",
            "\n",
            "This result is foundational in mathematics and applies to most everyday contexts. Let me know if you'd like further clarification! 😊\n",
            "\n",
            "🧑‍💻 You: quit\n",
            "👋 Ending the conversation. Goodbye!\n"
          ]
        }
      ]
    },
    {
      "cell_type": "code",
      "source": [],
      "metadata": {
        "id": "MtJeQptB8ToZ"
      },
      "execution_count": null,
      "outputs": []
    }
  ]
}