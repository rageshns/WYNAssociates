{
  "nbformat": 4,
  "nbformat_minor": 0,
  "metadata": {
    "colab": {
      "provenance": []
    },
    "kernelspec": {
      "name": "python3",
      "display_name": "Python 3"
    },
    "language_info": {
      "name": "python"
    }
  },
  "cells": [
    {
      "cell_type": "code",
      "source": [
        "! pip install openai"
      ],
      "metadata": {
        "colab": {
          "base_uri": "https://localhost:8080/"
        },
        "id": "SRh-bWRgoT87",
        "outputId": "921d96e7-3f1b-49f6-fdf1-2b0bbbc2e891"
      },
      "execution_count": 2,
      "outputs": [
        {
          "output_type": "stream",
          "name": "stdout",
          "text": [
            "Collecting openai\n",
            "  Downloading openai-1.52.0-py3-none-any.whl.metadata (24 kB)\n",
            "Requirement already satisfied: anyio<5,>=3.5.0 in /usr/local/lib/python3.10/dist-packages (from openai) (3.7.1)\n",
            "Requirement already satisfied: distro<2,>=1.7.0 in /usr/lib/python3/dist-packages (from openai) (1.7.0)\n",
            "Collecting httpx<1,>=0.23.0 (from openai)\n",
            "  Downloading httpx-0.27.2-py3-none-any.whl.metadata (7.1 kB)\n",
            "Collecting jiter<1,>=0.4.0 (from openai)\n",
            "  Downloading jiter-0.6.1-cp310-cp310-manylinux_2_17_x86_64.manylinux2014_x86_64.whl.metadata (5.2 kB)\n",
            "Requirement already satisfied: pydantic<3,>=1.9.0 in /usr/local/lib/python3.10/dist-packages (from openai) (2.9.2)\n",
            "Requirement already satisfied: sniffio in /usr/local/lib/python3.10/dist-packages (from openai) (1.3.1)\n",
            "Requirement already satisfied: tqdm>4 in /usr/local/lib/python3.10/dist-packages (from openai) (4.66.5)\n",
            "Requirement already satisfied: typing-extensions<5,>=4.11 in /usr/local/lib/python3.10/dist-packages (from openai) (4.12.2)\n",
            "Requirement already satisfied: idna>=2.8 in /usr/local/lib/python3.10/dist-packages (from anyio<5,>=3.5.0->openai) (3.10)\n",
            "Requirement already satisfied: exceptiongroup in /usr/local/lib/python3.10/dist-packages (from anyio<5,>=3.5.0->openai) (1.2.2)\n",
            "Requirement already satisfied: certifi in /usr/local/lib/python3.10/dist-packages (from httpx<1,>=0.23.0->openai) (2024.8.30)\n",
            "Collecting httpcore==1.* (from httpx<1,>=0.23.0->openai)\n",
            "  Downloading httpcore-1.0.6-py3-none-any.whl.metadata (21 kB)\n",
            "Collecting h11<0.15,>=0.13 (from httpcore==1.*->httpx<1,>=0.23.0->openai)\n",
            "  Downloading h11-0.14.0-py3-none-any.whl.metadata (8.2 kB)\n",
            "Requirement already satisfied: annotated-types>=0.6.0 in /usr/local/lib/python3.10/dist-packages (from pydantic<3,>=1.9.0->openai) (0.7.0)\n",
            "Requirement already satisfied: pydantic-core==2.23.4 in /usr/local/lib/python3.10/dist-packages (from pydantic<3,>=1.9.0->openai) (2.23.4)\n",
            "Downloading openai-1.52.0-py3-none-any.whl (386 kB)\n",
            "\u001b[2K   \u001b[90m━━━━━━━━━━━━━━━━━━━━━━━━━━━━━━━━━━━━━━━━\u001b[0m \u001b[32m386.9/386.9 kB\u001b[0m \u001b[31m7.2 MB/s\u001b[0m eta \u001b[36m0:00:00\u001b[0m\n",
            "\u001b[?25hDownloading httpx-0.27.2-py3-none-any.whl (76 kB)\n",
            "\u001b[2K   \u001b[90m━━━━━━━━━━━━━━━━━━━━━━━━━━━━━━━━━━━━━━━━\u001b[0m \u001b[32m76.4/76.4 kB\u001b[0m \u001b[31m6.6 MB/s\u001b[0m eta \u001b[36m0:00:00\u001b[0m\n",
            "\u001b[?25hDownloading httpcore-1.0.6-py3-none-any.whl (78 kB)\n",
            "\u001b[2K   \u001b[90m━━━━━━━━━━━━━━━━━━━━━━━━━━━━━━━━━━━━━━━━\u001b[0m \u001b[32m78.0/78.0 kB\u001b[0m \u001b[31m6.5 MB/s\u001b[0m eta \u001b[36m0:00:00\u001b[0m\n",
            "\u001b[?25hDownloading jiter-0.6.1-cp310-cp310-manylinux_2_17_x86_64.manylinux2014_x86_64.whl (325 kB)\n",
            "\u001b[2K   \u001b[90m━━━━━━━━━━━━━━━━━━━━━━━━━━━━━━━━━━━━━━━━\u001b[0m \u001b[32m325.2/325.2 kB\u001b[0m \u001b[31m20.0 MB/s\u001b[0m eta \u001b[36m0:00:00\u001b[0m\n",
            "\u001b[?25hDownloading h11-0.14.0-py3-none-any.whl (58 kB)\n",
            "\u001b[2K   \u001b[90m━━━━━━━━━━━━━━━━━━━━━━━━━━━━━━━━━━━━━━━━\u001b[0m \u001b[32m58.3/58.3 kB\u001b[0m \u001b[31m4.5 MB/s\u001b[0m eta \u001b[36m0:00:00\u001b[0m\n",
            "\u001b[?25hInstalling collected packages: jiter, h11, httpcore, httpx, openai\n",
            "Successfully installed h11-0.14.0 httpcore-1.0.6 httpx-0.27.2 jiter-0.6.1 openai-1.52.0\n"
          ]
        }
      ]
    },
    {
      "cell_type": "code",
      "execution_count": 4,
      "metadata": {
        "colab": {
          "base_uri": "https://localhost:8080/"
        },
        "id": "xpxdWToKoK2X",
        "outputId": "35f524af-3412-4d91-ffe1-258e84d58c87"
      },
      "outputs": [
        {
          "output_type": "stream",
          "name": "stdout",
          "text": [
            "**Please note that forecasting interest rates is inherently uncertain and subject to various economic, geopolitical, and unforeseen factors. The following forecast is based on current trends, historical data, and publicly available information up to my last update (March 2023). For the most accurate and up-to-date information, consult financial experts, central banks, or reputable financial news sources.**\n",
            "\n",
            "### Forecast for the Next 12 Months (Assuming Current Trends Continue)\n",
            "\n",
            "**Assumptions:**\n",
            "- Global economic growth continues at a moderate pace.\n",
            "- Inflation rates gradually decrease but remain above pre-pandemic levels in many countries.\n",
            "- Central banks aim to balance inflation control with supporting economic growth.\n",
            "\n",
            "**Forecast by Quarter (Interest Rate Changes are Relative to the Current Rates as of March 2023):**\n",
            "\n",
            "#### **Q2 2023 (April to June)**\n",
            "\n",
            "* **US Federal Funds Rate:** +0.25% to 0.5% increase (Target Range: 5.25% to 5.75% or slightly higher)\n",
            "* **EU Eurozone Refinancing Rate:** Stable to +0.25% increase (Around 3.5% to 3.75%)\n",
            "* **UK Bank of England Base Rate:** Stable (Around 4.25%)\n",
            "* **Australian Cash Rate:** Stable to -0.25% decrease (Around 3.25% to 3.5%)\n",
            "* **Canadian Overnight Lending Rate:** Stable (Around 4.5%)\n",
            "\n",
            "#### **Q3 2023 (July to September)**\n",
            "\n",
            "* **US Federal Funds Rate:** Stable to +0.25% increase (Target Range: 5.5% to 6.0% if inflation persists)\n",
            "* **EU Eurozone Refinancing Rate:** +0.25% increase (Around 3.75% to 4.0%)\n",
            "* **UK Bank of England Base Rate:** +0.25% increase (Around 4.5%)\n",
            "* **Australian Cash Rate:** -0.25% to -0.5% decrease (Around 2.75% to 3.0% as inflation concerns ease)\n",
            "* **Canadian Overnight Lending Rate:** Stable (Around 4.5%, with potential for a slight decrease if economic growth slows)\n",
            "\n",
            "#### **Q4 2023 (October to December)**\n",
            "\n",
            "* **US Federal Funds Rate:** Stable (Peaking around 5.75% to 6.0% before potential future cuts)\n",
            "* **EU Eurozone Refinancing Rate:** Stable (Around 4.0%)\n",
            "* **UK Bank of England Base Rate:** Stable (Around 4.5%)\n",
            "* **Australian Cash Rate:** -0.25% to -0.5% decrease (Around 2.5% to 2.75%)\n",
            "* **Canadian Overnight Lending Rate:** -0.25% decrease (Around 4.25%)\n",
            "\n",
            "#### **Q1 2024 (January to March)**\n",
            "\n",
            "* **US Federal Funds Rate:** Potential for -0.25% decrease (Target Range: 5.25% to 5.5% if inflation significantly drops)\n",
            "* **EU Eurozone Refinancing Rate:** Stable (Around 4.0%)\n",
            "* **UK Bank of England Base Rate:** Stable (Around 4.5%)\n",
            "* **Australian Cash Rate:** Stable (Around 2.5%)\n",
            "* **Canadian Overnight Lending Rate:** Stable (Around 4.25%)\n",
            "\n",
            "#### **Q2 2024 to Q1 2025 Outlook**\n",
            "\n",
            "* Expect a gradual decrease in interest rates across the board as central banks respond to anticipated decreases in inflation rates and potential slowdowns in economic growth. The pace of these decreases will heavily depend on the actual inflation and growth data.\n",
            "\n",
            "**Key Risks to This Forecast:**\n",
            "- **Unexpected Inflation Surges:** Could lead to higher-than-forecast interest rate hikes.\n",
            "- **Global Economic Downturn:** Might result in sooner or deeper interest rate cuts.\n",
            "- **Geopolitical Tensions:** Can significantly alter economic conditions and interest rate trajectories.\n",
            "\n",
            "**Recommendation for Individuals and Businesses:**\n",
            "- **Stay Informed:** Regularly check updates from central banks and reputable financial sources.\n",
            "- **Diversify:** Spread investments and financial products to mitigate risks.\n",
            "- **Flexibility:** Maintain the ability to adjust financial strategies as interest rates and economic conditions evolve."
          ]
        }
      ],
      "source": [
        "from openai import OpenAI\n",
        "\n",
        "client = OpenAI(\n",
        "  base_url = \"https://integrate.api.nvidia.com/v1\",\n",
        "  api_key = \"xxx\"\n",
        ")\n",
        "\n",
        "completion = client.chat.completions.create(\n",
        "  model=\"nvidia/llama-3.1-nemotron-70b-instruct\",\n",
        "  messages=[{\"role\":\"system\",\"content\":\"You are a helpful assistant.\"},{\"role\":\"user\",\"content\":\"Forecast the next 12 months of interest rate.\"}],\n",
        "  temperature=0.5,\n",
        "  top_p=0.7,\n",
        "  max_tokens=1024,\n",
        "  stream=True\n",
        ")\n",
        "\n",
        "for chunk in completion:\n",
        "  if chunk.choices[0].delta.content is not None:\n",
        "    print(chunk.choices[0].delta.content, end=\"\")\n",
        "\n"
      ]
    },
    {
      "cell_type": "code",
      "source": [],
      "metadata": {
        "id": "VWFIXpnboTHD"
      },
      "execution_count": null,
      "outputs": []
    }
  ]
}