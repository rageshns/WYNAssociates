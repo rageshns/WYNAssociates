{
  "nbformat": 4,
  "nbformat_minor": 0,
  "metadata": {
    "colab": {
      "provenance": [],
      "machine_shape": "hm",
      "gpuType": "T4"
    },
    "kernelspec": {
      "name": "python3",
      "display_name": "Python 3"
    },
    "language_info": {
      "name": "python"
    },
    "accelerator": "GPU"
  },
  "cells": [
    {
      "cell_type": "markdown",
      "source": [
        "# Main\n",
        "\n",
        "Package: [WYN-Agent](https://pypi.org/project/wyn-agent/)"
      ],
      "metadata": {
        "id": "N1dLAzxRM5fK"
      }
    },
    {
      "cell_type": "markdown",
      "source": [
        "## Get Started: Install"
      ],
      "metadata": {
        "id": "O43Lwa3wJBg5"
      }
    },
    {
      "cell_type": "code",
      "source": [
        "! pip install wyn-agent"
      ],
      "metadata": {
        "id": "V-7ntihMHs-e",
        "colab": {
          "base_uri": "https://localhost:8080/"
        },
        "outputId": "1cc46bfc-ece4-409a-e60e-256ccfc080f3"
      },
      "execution_count": 1,
      "outputs": [
        {
          "output_type": "stream",
          "name": "stdout",
          "text": [
            "Collecting wyn-agent\n",
            "  Downloading wyn_agent-0.1.9-py3-none-any.whl.metadata (3.6 kB)\n",
            "Collecting mistralai<2.0.0,>=1.0.1 (from wyn-agent)\n",
            "  Downloading mistralai-1.4.0-py3-none-any.whl.metadata (27 kB)\n",
            "Requirement already satisfied: eval-type-backport>=0.2.0 in /usr/local/lib/python3.11/dist-packages (from mistralai<2.0.0,>=1.0.1->wyn-agent) (0.2.2)\n",
            "Requirement already satisfied: httpx>=0.27.0 in /usr/local/lib/python3.11/dist-packages (from mistralai<2.0.0,>=1.0.1->wyn-agent) (0.28.1)\n",
            "Collecting jsonpath-python>=1.0.6 (from mistralai<2.0.0,>=1.0.1->wyn-agent)\n",
            "  Downloading jsonpath_python-1.0.6-py3-none-any.whl.metadata (12 kB)\n",
            "Requirement already satisfied: pydantic>=2.9.0 in /usr/local/lib/python3.11/dist-packages (from mistralai<2.0.0,>=1.0.1->wyn-agent) (2.10.5)\n",
            "Requirement already satisfied: python-dateutil>=2.8.2 in /usr/local/lib/python3.11/dist-packages (from mistralai<2.0.0,>=1.0.1->wyn-agent) (2.8.2)\n",
            "Collecting typing-inspect>=0.9.0 (from mistralai<2.0.0,>=1.0.1->wyn-agent)\n",
            "  Downloading typing_inspect-0.9.0-py3-none-any.whl.metadata (1.5 kB)\n",
            "Requirement already satisfied: anyio in /usr/local/lib/python3.11/dist-packages (from httpx>=0.27.0->mistralai<2.0.0,>=1.0.1->wyn-agent) (3.7.1)\n",
            "Requirement already satisfied: certifi in /usr/local/lib/python3.11/dist-packages (from httpx>=0.27.0->mistralai<2.0.0,>=1.0.1->wyn-agent) (2024.12.14)\n",
            "Requirement already satisfied: httpcore==1.* in /usr/local/lib/python3.11/dist-packages (from httpx>=0.27.0->mistralai<2.0.0,>=1.0.1->wyn-agent) (1.0.7)\n",
            "Requirement already satisfied: idna in /usr/local/lib/python3.11/dist-packages (from httpx>=0.27.0->mistralai<2.0.0,>=1.0.1->wyn-agent) (3.10)\n",
            "Requirement already satisfied: h11<0.15,>=0.13 in /usr/local/lib/python3.11/dist-packages (from httpcore==1.*->httpx>=0.27.0->mistralai<2.0.0,>=1.0.1->wyn-agent) (0.14.0)\n",
            "Requirement already satisfied: annotated-types>=0.6.0 in /usr/local/lib/python3.11/dist-packages (from pydantic>=2.9.0->mistralai<2.0.0,>=1.0.1->wyn-agent) (0.7.0)\n",
            "Requirement already satisfied: pydantic-core==2.27.2 in /usr/local/lib/python3.11/dist-packages (from pydantic>=2.9.0->mistralai<2.0.0,>=1.0.1->wyn-agent) (2.27.2)\n",
            "Requirement already satisfied: typing-extensions>=4.12.2 in /usr/local/lib/python3.11/dist-packages (from pydantic>=2.9.0->mistralai<2.0.0,>=1.0.1->wyn-agent) (4.12.2)\n",
            "Requirement already satisfied: six>=1.5 in /usr/local/lib/python3.11/dist-packages (from python-dateutil>=2.8.2->mistralai<2.0.0,>=1.0.1->wyn-agent) (1.17.0)\n",
            "Collecting mypy-extensions>=0.3.0 (from typing-inspect>=0.9.0->mistralai<2.0.0,>=1.0.1->wyn-agent)\n",
            "  Downloading mypy_extensions-1.0.0-py3-none-any.whl.metadata (1.1 kB)\n",
            "Requirement already satisfied: sniffio>=1.1 in /usr/local/lib/python3.11/dist-packages (from anyio->httpx>=0.27.0->mistralai<2.0.0,>=1.0.1->wyn-agent) (1.3.1)\n",
            "Downloading wyn_agent-0.1.9-py3-none-any.whl (4.4 kB)\n",
            "Downloading mistralai-1.4.0-py3-none-any.whl (262 kB)\n",
            "\u001b[2K   \u001b[90m━━━━━━━━━━━━━━━━━━━━━━━━━━━━━━━━━━━━━━━━\u001b[0m \u001b[32m262.5/262.5 kB\u001b[0m \u001b[31m6.9 MB/s\u001b[0m eta \u001b[36m0:00:00\u001b[0m\n",
            "\u001b[?25hDownloading jsonpath_python-1.0.6-py3-none-any.whl (7.6 kB)\n",
            "Downloading typing_inspect-0.9.0-py3-none-any.whl (8.8 kB)\n",
            "Downloading mypy_extensions-1.0.0-py3-none-any.whl (4.7 kB)\n",
            "Installing collected packages: mypy-extensions, jsonpath-python, typing-inspect, mistralai, wyn-agent\n",
            "Successfully installed jsonpath-python-1.0.6 mistralai-1.4.0 mypy-extensions-1.0.0 typing-inspect-0.9.0 wyn-agent-0.1.9\n"
          ]
        }
      ]
    },
    {
      "cell_type": "markdown",
      "source": [
        "## Get Started: Import"
      ],
      "metadata": {
        "id": "jtP402j-JP8t"
      }
    },
    {
      "cell_type": "code",
      "source": [
        "from google.colab import userdata\n",
        "MISTRAL_API_KEY = userdata.get('MISTRAL_API_KEY')"
      ],
      "metadata": {
        "id": "FGStjer3IDNK"
      },
      "execution_count": 2,
      "outputs": []
    },
    {
      "cell_type": "code",
      "source": [
        "from wyn_agent.mistral_agent import ChatBot"
      ],
      "metadata": {
        "id": "caSy4uzqIc6a"
      },
      "execution_count": 3,
      "outputs": []
    },
    {
      "cell_type": "markdown",
      "source": [
        "## Run Bot"
      ],
      "metadata": {
        "id": "BPVgHwcjJEk-"
      }
    },
    {
      "cell_type": "code",
      "source": [
        "# @title Talk to JARVIS\n",
        "\n",
        "bot = ChatBot(\n",
        "    api_key=MISTRAL_API_KEY,\n",
        "    agent_id=\"ag:xxx_api_id_here\",\n",
        "    protocol=\"You are a code assistant.\"\n",
        ")\n",
        "\n",
        "bot.run_mistral_agent()"
      ],
      "metadata": {
        "id": "EhphWvIpHtyZ",
        "colab": {
          "base_uri": "https://localhost:8080/"
        },
        "outputId": "732a2e67-28a8-4310-fc49-56086e0cb0a8"
      },
      "execution_count": 4,
      "outputs": [
        {
          "name": "stdout",
          "output_type": "stream",
          "text": [
            "START CHATTING: Enter 'EXIT' if you want to quit the program.\n",
            "🧑 Human: EXIT\n"
          ]
        }
      ]
    }
  ]
}