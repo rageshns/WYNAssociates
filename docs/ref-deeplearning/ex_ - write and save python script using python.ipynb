{
  "nbformat": 4,
  "nbformat_minor": 0,
  "metadata": {
    "colab": {
      "provenance": []
    },
    "kernelspec": {
      "name": "python3",
      "display_name": "Python 3"
    },
    "language_info": {
      "name": "python"
    }
  },
  "cells": [
    {
      "cell_type": "markdown",
      "source": [
        "## Sample `.py` Script"
      ],
      "metadata": {
        "id": "9AzHanPPr_FK"
      }
    },
    {
      "cell_type": "markdown",
      "source": [
        "Take the following code and save it in a `run.py` script locally.\n",
        "\n",
        "```py\n",
        "print(\"hello world!\")\n",
        "```"
      ],
      "metadata": {
        "id": "sn48gpLvr0Wk"
      }
    },
    {
      "cell_type": "markdown",
      "source": [
        "## Write `.py` Script"
      ],
      "metadata": {
        "id": "IfzbtKEosrE8"
      }
    },
    {
      "cell_type": "markdown",
      "source": [
        "To write a `name.py` script locally with the content `print(\"hello world!\")`, you can follow these steps depending on whether you are inside another Python script or using a Python IDE.\n",
        "\n"
      ],
      "metadata": {
        "id": "-nXOwQw1su9j"
      }
    },
    {
      "cell_type": "markdown",
      "source": [
        "### Method 1: Using Another Python Script\n",
        "\n",
        "If you are inside another Python script, you can write to a new file named `name.py` using the `open` function in write mode:\n",
        "\n",
        "```python\n",
        "# Sample code to write to name.py\n",
        "script_content = 'print(\"hello world!\")'\n",
        "\n",
        "with open('name.py', 'w') as file:\n",
        "    file.write(script_content)\n",
        "```\n",
        "\n"
      ],
      "metadata": {
        "id": "WdhlaYo3svzY"
      }
    },
    {
      "cell_type": "markdown",
      "source": [
        "### Method 2: Using a Python IDE or Text Editor\n",
        "\n",
        "1. **Open your Python IDE or text editor** (e.g., PyCharm, VSCode, Sublime Text, Atom).\n",
        "\n",
        "2. **Create a new file**:\n",
        "   - In your IDE or text editor, go to `File > New File` (or a similar option).\n",
        "\n",
        "3. **Write the content**:\n",
        "   - Type the following code into the new file:\n",
        "     ```python\n",
        "     print(\"hello world!\")\n",
        "     ```\n",
        "\n",
        "4. **Save the file**:\n",
        "   - Save the file as `name.py` by going to `File > Save As` (or a similar option) and entering `name.py` as the file name.\n",
        "\n"
      ],
      "metadata": {
        "id": "54Ljp9_Zsw3b"
      }
    },
    {
      "cell_type": "markdown",
      "source": [
        "### Example of Using a Python IDE (e.g., VSCode):\n",
        "\n",
        "1. Open VSCode.\n",
        "2. Click on `File > New File`.\n",
        "3. In the new file, type the following code:\n",
        "   ```python\n",
        "   print(\"hello world!\")\n",
        "   ```\n",
        "4. Save the file by clicking on `File > Save As` and entering `name.py`.\n",
        "\n"
      ],
      "metadata": {
        "id": "byUoYbkmsx6m"
      }
    },
    {
      "cell_type": "markdown",
      "source": [
        "### Method 3: Using Command Line or Terminal\n",
        "\n",
        "You can also create and write to the file directly from the command line or terminal:\n",
        "\n",
        "1. Open your terminal or command prompt.\n",
        "2. Use the `echo` command to write the content to `name.py`:\n",
        "   ```sh\n",
        "   echo 'print(\"hello world!\")' > name.py\n",
        "   ```\n",
        "\n",
        "These methods will create a new Python file named `name.py` with the content `print(\"hello world!\")`."
      ],
      "metadata": {
        "id": "_zXVwnBVsyxa"
      }
    },
    {
      "cell_type": "code",
      "source": [
        "user_name = input(\"What is your name? \")\n",
        "print(f\"Hello, {user_name}!\")"
      ],
      "metadata": {
        "colab": {
          "base_uri": "https://localhost:8080/"
        },
        "id": "3aLOilBUstm6",
        "outputId": "75c3c1d1-0a3d-4b2d-9bd6-555e7237683c"
      },
      "execution_count": 6,
      "outputs": [
        {
          "output_type": "stream",
          "name": "stdout",
          "text": [
            "What is your name? John\n",
            "Hello, John!\n"
          ]
        }
      ]
    },
    {
      "cell_type": "code",
      "source": [
        "# Sample code to write to name.py\n",
        "script_content = f\"\"\"\n",
        "user_name = input('What is your name? ')\n",
        "print(f'Hello, {user_name}!')\n",
        "\"\"\"\n",
        "\n",
        "with open('hello.py', 'w') as file:\n",
        "    file.write(script_content)"
      ],
      "metadata": {
        "id": "9T7reetXs483"
      },
      "execution_count": 7,
      "outputs": []
    },
    {
      "cell_type": "markdown",
      "source": [
        "## Execute `.py` Script"
      ],
      "metadata": {
        "id": "809PaQf2sbvf"
      }
    },
    {
      "cell_type": "markdown",
      "source": [
        "To execute a Python script named `run.py` that is located in the same directory as your current working directory, you can use one of the following methods:\n",
        "\n"
      ],
      "metadata": {
        "id": "wEY44Bqhr9wS"
      }
    },
    {
      "cell_type": "markdown",
      "source": [
        "### Method 1: Using the Command Line\n",
        "Open your terminal or command prompt and navigate to the directory containing `run.py`. Then, run the following command:\n",
        "```sh\n",
        "python run.py\n",
        "```\n",
        "\n",
        "If you are using Python 3 and the `python` command points to Python 2, you may need to use:\n",
        "```sh\n",
        "python3 run.py\n",
        "```\n",
        "\n"
      ],
      "metadata": {
        "id": "w7b5ujjEsgte"
      }
    },
    {
      "cell_type": "markdown",
      "source": [
        "### Method 2: Using a Python IDE or Text Editor\n",
        "Most Python IDEs (like PyCharm, VSCode, or Spyder) and text editors with Python support (like Sublime Text or Atom) allow you to run a script directly within the editor. Open `run.py` in your preferred IDE or editor and look for a run button or an option in the menu to execute the script.\n",
        "\n"
      ],
      "metadata": {
        "id": "5MsKcj5Jsidv"
      }
    },
    {
      "cell_type": "markdown",
      "source": [
        "### Method 3: Using IPython or Jupyter Notebook\n",
        "If you are working in an IPython shell or Jupyter Notebook, you can execute the script with the following command:\n",
        "```python\n",
        "!python run.py\n",
        "```\n",
        "\n"
      ],
      "metadata": {
        "id": "hIhq4a_EsjR9"
      }
    },
    {
      "cell_type": "markdown",
      "source": [
        "### Method 4: From Another Python Script\n",
        "You can also execute `run.py` from another Python script using the `exec` function or the `subprocess` module.\n",
        "\n"
      ],
      "metadata": {
        "id": "zCG1oWG9skDb"
      }
    },
    {
      "cell_type": "markdown",
      "source": [
        "Using `exec`:\n",
        "\n",
        "```python\n",
        "with open('run.py') as file:\n",
        "    exec(file.read())\n",
        "```\n",
        "\n",
        "Using `subprocess`:\n",
        "\n",
        "```python\n",
        "import subprocess\n",
        "\n",
        "subprocess.run(['python', 'run.py'])\n",
        "# or for Python 3\n",
        "subprocess.run(['python3', 'run.py'])\n",
        "```\n",
        "\n",
        "Choose the method that best suits your workflow and environment."
      ],
      "metadata": {
        "id": "bMHohBpgskwV"
      }
    },
    {
      "cell_type": "code",
      "execution_count": 1,
      "metadata": {
        "colab": {
          "base_uri": "https://localhost:8080/"
        },
        "id": "aRASc5e-ryod",
        "outputId": "2a21926b-7192-4c45-f967-cc7da18ead8e"
      },
      "outputs": [
        {
          "output_type": "stream",
          "name": "stdout",
          "text": [
            "hello world!\n"
          ]
        }
      ],
      "source": [
        "!python run.py"
      ]
    },
    {
      "cell_type": "code",
      "source": [
        "with open('run.py') as file:\n",
        "    exec(file.read())"
      ],
      "metadata": {
        "colab": {
          "base_uri": "https://localhost:8080/"
        },
        "id": "6U1jZyPQsDJ5",
        "outputId": "08ee5a4d-80db-4a7c-90bd-7924d17aa6ba"
      },
      "execution_count": 2,
      "outputs": [
        {
          "output_type": "stream",
          "name": "stdout",
          "text": [
            "hello world!\n"
          ]
        }
      ]
    },
    {
      "cell_type": "code",
      "source": [
        "import subprocess\n",
        "\n",
        "subprocess.run(['python', 'run.py'])"
      ],
      "metadata": {
        "colab": {
          "base_uri": "https://localhost:8080/"
        },
        "id": "p-W-U3zlsEf3",
        "outputId": "29a97cb4-669a-4dfe-ee98-a2da8365e7b7"
      },
      "execution_count": 3,
      "outputs": [
        {
          "output_type": "execute_result",
          "data": {
            "text/plain": [
              "CompletedProcess(args=['python', 'run.py'], returncode=0)"
            ]
          },
          "metadata": {},
          "execution_count": 3
        }
      ]
    },
    {
      "cell_type": "code",
      "source": [
        "# or for Python 3\n",
        "subprocess.run(['python3', 'run.py'])"
      ],
      "metadata": {
        "colab": {
          "base_uri": "https://localhost:8080/"
        },
        "id": "1oZBNIWHsHEI",
        "outputId": "f3d01c5f-ffb6-4f6c-ec5b-c83e119900bc"
      },
      "execution_count": 4,
      "outputs": [
        {
          "output_type": "execute_result",
          "data": {
            "text/plain": [
              "CompletedProcess(args=['python3', 'run.py'], returncode=0)"
            ]
          },
          "metadata": {},
          "execution_count": 4
        }
      ]
    },
    {
      "cell_type": "code",
      "source": [
        "with open('hello.py') as file:\n",
        "    exec(file.read())"
      ],
      "metadata": {
        "colab": {
          "base_uri": "https://localhost:8080/"
        },
        "id": "FJFng9hJsHmg",
        "outputId": "588e122d-1793-41bd-ac37-a9bc4fac9126"
      },
      "execution_count": 8,
      "outputs": [
        {
          "output_type": "stream",
          "name": "stdout",
          "text": [
            "What is your name? Tom\n",
            "Hello, John!\n"
          ]
        }
      ]
    },
    {
      "cell_type": "code",
      "source": [],
      "metadata": {
        "id": "6O5NBzJytNmN"
      },
      "execution_count": null,
      "outputs": []
    }
  ]
}