{
  "nbformat": 4,
  "nbformat_minor": 0,
  "metadata": {
    "colab": {
      "provenance": []
    },
    "kernelspec": {
      "name": "python3",
      "display_name": "Python 3"
    },
    "language_info": {
      "name": "python"
    }
  },
  "cells": [
    {
      "cell_type": "markdown",
      "metadata": {
        "id": "N1WfLHfr_oTy"
      },
      "source": [
        "## Download Library"
      ]
    },
    {
      "cell_type": "code",
      "execution_count": null,
      "metadata": {
        "id": "f56ySd6Al5hF"
      },
      "outputs": [],
      "source": [
        "! pip install openai"
      ]
    },
    {
      "cell_type": "code",
      "execution_count": null,
      "metadata": {
        "id": "2aEtlnMElIWP"
      },
      "outputs": [],
      "source": [
        "import openai"
      ]
    },
    {
      "cell_type": "code",
      "execution_count": null,
      "metadata": {
        "id": "NPA4krwVgchJ"
      },
      "outputs": [],
      "source": [
        "! pip install datasets"
      ]
    },
    {
      "cell_type": "markdown",
      "metadata": {
        "id": "TabtWWWmAHDH"
      },
      "source": [
        "## Scrap `Any` PDF\n",
        "\n",
        "We need the `PyMuPDF` package in python. So, we install it first."
      ]
    },
    {
      "cell_type": "code",
      "execution_count": null,
      "metadata": {
        "id": "_XfynWp8g8i6"
      },
      "outputs": [],
      "source": [
        "! pip install PyMuPDF"
      ]
    },
    {
      "cell_type": "markdown",
      "metadata": {
        "id": "Su-PW3VLALnA"
      },
      "source": [
        "### `read_pdf_content` function"
      ]
    },
    {
      "cell_type": "code",
      "execution_count": null,
      "metadata": {
        "id": "tdjsZB5tiGQQ"
      },
      "outputs": [],
      "source": [
        "import fitz  # PyMuPDF\n",
        "\n",
        "def read_pdf_content(pdf_path):\n",
        "    \"\"\"\n",
        "    Reads a PDF and returns its content as a list of strings.\n",
        "\n",
        "    Args:\n",
        "    pdf_path (str): The file path to the PDF.\n",
        "\n",
        "    Returns:\n",
        "    list of str: A list where each element is the text content of a PDF page.\n",
        "    \"\"\"\n",
        "    content_list = []\n",
        "    with fitz.open(pdf_path) as doc:\n",
        "        for page in doc:\n",
        "            content_list.append(page.get_text())\n",
        "\n",
        "    return content_list"
      ]
    },
    {
      "cell_type": "code",
      "execution_count": null,
      "metadata": {
        "id": "LI6rS0chiIm_"
      },
      "outputs": [],
      "source": [
        "%%time\n",
        "\n",
        "scraped_content = read_pdf_content(\"/content/all_ysa_doc.pdf\")"
      ]
    },
    {
      "cell_type": "code",
      "source": [
        "len(scraped_content)"
      ],
      "metadata": {
        "id": "JRi_zDbOU6fp"
      },
      "execution_count": null,
      "outputs": []
    },
    {
      "cell_type": "code",
      "source": [
        "len(scraped_content[0])"
      ],
      "metadata": {
        "id": "LTzPSMSdU8-D"
      },
      "execution_count": null,
      "outputs": []
    },
    {
      "cell_type": "code",
      "source": [
        "scraped_content[0]"
      ],
      "metadata": {
        "id": "ordawGvsU-vH"
      },
      "execution_count": null,
      "outputs": []
    },
    {
      "cell_type": "code",
      "source": [
        "scraped_content = ' '.join(scraped_content)"
      ],
      "metadata": {
        "id": "tnJUv1FPVNiO"
      },
      "execution_count": null,
      "outputs": []
    },
    {
      "cell_type": "code",
      "source": [
        "%%time\n",
        "\n",
        "scraped_content = [scraped_content.split('. ')[i].replace('\\n', '').replace('   ', '').replace('  ', '') for i in range(len(scraped_content.split('. ')))]"
      ],
      "metadata": {
        "id": "LOycR2fCVE_3"
      },
      "execution_count": null,
      "outputs": []
    },
    {
      "cell_type": "code",
      "source": [
        "scraped_content[0]"
      ],
      "metadata": {
        "id": "IoQYk7TeVFuG"
      },
      "execution_count": null,
      "outputs": []
    },
    {
      "cell_type": "markdown",
      "metadata": {
        "id": "grtHYX2tAP11"
      },
      "source": [
        "## API Call to Create Data\n",
        "\n",
        "Here we use the `client.chat.completions.create` function from *OpenAI* as a helper function to assist us to create question answer."
      ]
    },
    {
      "cell_type": "code",
      "execution_count": null,
      "metadata": {
        "id": "TbimzRpTjjz5"
      },
      "outputs": [],
      "source": [
        "OPENAI_API_KEY = \"sk-xxx\"\n",
        "openai_client = openai.OpenAI(api_key=OPENAI_API_KEY)\n",
        "\n",
        "\n",
        "def call_chatgpt(query: str, model: str = \"gpt-3.5-turbo\") -> str:\n",
        "    \"\"\"\n",
        "    Generates a response to a query using the specified language model.\n",
        "    Args:\n",
        "        query (str): The user's query that needs to be processed.\n",
        "        model (str, optional): The language model to be used. Defaults to \"gpt-3.5-turbo\".\n",
        "    Returns:\n",
        "        str: The generated response to the query.\n",
        "    \"\"\"\n",
        "\n",
        "    # Prepare the conversation context with system and user messages.\n",
        "    messages = [\n",
        "        {\"role\": \"system\", \"content\": \"You are a helpful assistant.\"},\n",
        "        {\"role\": \"user\", \"content\": f\"Question: {query}.\"},\n",
        "    ]\n",
        "\n",
        "    # Use the OpenAI client to generate a response based on the model and the conversation context.\n",
        "    response = openai_client.chat.completions.create(\n",
        "        model=model,\n",
        "        messages=messages,\n",
        "    )\n",
        "\n",
        "    # Extract the content of the response from the first choice.\n",
        "    content: str = response.choices[0].message.content\n",
        "\n",
        "    # Return the generated content.\n",
        "    return content"
      ]
    },
    {
      "cell_type": "code",
      "execution_count": null,
      "metadata": {
        "id": "pjJ5wlmOkLdq"
      },
      "outputs": [],
      "source": [
        "resp = call_chatgpt(\"tell me a joke\")"
      ]
    },
    {
      "cell_type": "code",
      "execution_count": null,
      "metadata": {
        "id": "rvHuZ-u-kGEm"
      },
      "outputs": [],
      "source": [
        "resp"
      ]
    },
    {
      "cell_type": "markdown",
      "metadata": {
        "id": "EXHLmEs2AfJg"
      },
      "source": [
        "### Prompt Engineer\n",
        "\n",
        "We use prompt engineer to ensure the content `GPT` gave us is in the same content as the `openassist/guanaco` data.\n",
        "\n",
        "```python\n",
        "    ### Human:\n",
        "    ### Assistant:\n",
        "```"
      ]
    },
    {
      "cell_type": "code",
      "execution_count": null,
      "metadata": {
        "id": "h_SJZ0AhnRfx"
      },
      "outputs": [],
      "source": [
        "def prompt_engineered_api(text: str):\n",
        "\n",
        "    prompt = f\"\"\"\n",
        "        I have the following content: {text}\n",
        "\n",
        "        Write one question based on the content above. Just write ONE question in a sentence. No more.\n",
        "    \"\"\"\n",
        "\n",
        "    resp = call_chatgpt(prompt)\n",
        "\n",
        "    return resp"
      ]
    },
    {
      "cell_type": "code",
      "source": [
        "scraped_content[0]"
      ],
      "metadata": {
        "id": "Qt0zyImDVaxR"
      },
      "execution_count": null,
      "outputs": []
    },
    {
      "cell_type": "code",
      "execution_count": null,
      "metadata": {
        "id": "OQWijSDioC_n"
      },
      "outputs": [],
      "source": [
        "resp = prompt_engineered_api(scraped_content[20])\n",
        "resp"
      ]
    },
    {
      "cell_type": "code",
      "execution_count": null,
      "metadata": {
        "id": "OdAYvuqbpaDw"
      },
      "outputs": [],
      "source": [
        "this_sample_question = resp.split(\"###\")[0]\n",
        "this_sample_answer = scraped_content[20]\n",
        "print(this_sample_question)\n",
        "print(this_sample_answer)"
      ]
    },
    {
      "cell_type": "code",
      "source": [
        "len(scraped_content)"
      ],
      "metadata": {
        "id": "-Hi0W4R0XK7M"
      },
      "execution_count": null,
      "outputs": []
    },
    {
      "cell_type": "markdown",
      "source": [
        "## Create `DataDict` Structure"
      ],
      "metadata": {
        "id": "RqQxf2VLYH7p"
      }
    },
    {
      "cell_type": "code",
      "source": [
        "from datasets import Dataset, DatasetDict\n",
        "from tqdm import tqdm"
      ],
      "metadata": {
        "id": "n689MS0WXNLm"
      },
      "execution_count": null,
      "outputs": []
    },
    {
      "cell_type": "code",
      "source": [
        "%%time\n",
        "\n",
        "raw_content_questions = []\n",
        "raw_content_answers = []\n",
        "for i in tqdm(range(len(scraped_content))):\n",
        "    resp = prompt_engineered_api(scraped_content[i])\n",
        "    this_sample_question = resp.split(\"###\")[0]\n",
        "    this_sample_answer = scraped_content[i]\n",
        "    raw_content_questions.append(this_sample_question)\n",
        "    raw_content_answers.append(this_sample_answer)"
      ],
      "metadata": {
        "id": "hhHX5IAPVRwX"
      },
      "execution_count": null,
      "outputs": []
    },
    {
      "cell_type": "code",
      "source": [
        "i = 20\n",
        "raw_content_questions[i], raw_content_answers[i]"
      ],
      "metadata": {
        "id": "diXFJPaIYMKm"
      },
      "execution_count": null,
      "outputs": []
    },
    {
      "cell_type": "code",
      "source": [
        "# Example data - replace these with your actual data\n",
        "train_data = {\n",
        "    'questions': raw_content_questions,\n",
        "    'answers': raw_content_answers\n",
        "}\n",
        "\n",
        "# Create Dataset objects for training and testing\n",
        "train_dataset = Dataset.from_dict(train_data)\n",
        "\n",
        "# Combine them into a DatasetDict\n",
        "dataset_dict = DatasetDict({\n",
        "    'train': train_dataset,\n",
        "})\n",
        "\n",
        "# Display the structure of the dataset\n",
        "print(dataset_dict)"
      ],
      "metadata": {
        "id": "93gvmbZwXTdC"
      },
      "execution_count": null,
      "outputs": []
    },
    {
      "cell_type": "markdown",
      "metadata": {
        "id": "xTqknyL_Aw5e"
      },
      "source": [
        "## Push to HuggingFace Hub"
      ]
    },
    {
      "cell_type": "code",
      "execution_count": null,
      "metadata": {
        "id": "w5jm2qfmsFCA"
      },
      "outputs": [],
      "source": [
        "! huggingface-cli login"
      ]
    },
    {
      "cell_type": "code",
      "execution_count": null,
      "metadata": {
        "id": "VeK-gKl531a3"
      },
      "outputs": [],
      "source": [
        "from huggingface_hub import HfApi, create_repo"
      ]
    },
    {
      "cell_type": "code",
      "execution_count": null,
      "metadata": {
        "id": "_nY3yXFi32G3"
      },
      "outputs": [],
      "source": [
        "# Replace 'your_token_here' with your actual Hugging Face Auth token\n",
        "# Replace 'youthless-homeless-shelter-web-scrape-dataset' with your desired repository name\n",
        "auth_token = 'xxx'\n",
        "repo_name = 'youthless-homeless-shelter-web-scrape-dataset-qa-formatted'\n",
        "username = 'eagle0504' # replace with your Hugging Face username\n",
        "\n",
        "api = HfApi()\n",
        "create_repo(repo_name, token=auth_token, private=False) # Set private=True if you want it to be a private dataset"
      ]
    },
    {
      "cell_type": "code",
      "execution_count": null,
      "metadata": {
        "id": "ixYNdItB4Fto"
      },
      "outputs": [],
      "source": [
        "app_id = f\"{username}/{repo_name}\"\n",
        "print(app_id)"
      ]
    },
    {
      "cell_type": "code",
      "execution_count": null,
      "metadata": {
        "id": "2dVxrZKkscJl"
      },
      "outputs": [],
      "source": [
        "%%time\n",
        "\n",
        "dataset_dict.push_to_hub(app_id)"
      ]
    },
    {
      "cell_type": "code",
      "source": [],
      "metadata": {
        "id": "mzAapU3cYgW6"
      },
      "execution_count": null,
      "outputs": []
    }
  ]
}