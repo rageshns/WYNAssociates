{
  "nbformat": 4,
  "nbformat_minor": 0,
  "metadata": {
    "colab": {
      "provenance": []
    },
    "kernelspec": {
      "name": "python3",
      "display_name": "Python 3"
    },
    "language_info": {
      "name": "python"
    }
  },
  "cells": [
    {
      "cell_type": "code",
      "execution_count": 1,
      "metadata": {
        "id": "DXpv8AkdZVzE"
      },
      "outputs": [],
      "source": [
        "metadata = {\n",
        "    \"create_an_account\": {\n",
        "        \"sample_payload\": {\"name\": \"string\"},\n",
        "        \"prerequisite\": None\n",
        "    },\n",
        "    \"buy_product\": {\n",
        "        \"sample_payload\": {\"product\": \"string\"},\n",
        "        \"prerequisite\": \"create_an_account\"\n",
        "    }\n",
        "}"
      ]
    },
    {
      "cell_type": "code",
      "source": [
        "event_stream = [\n",
        "    {\"event\": \"user_message\", \"content\": \"I'd like to buy a product.\"},\n",
        "    {\"event\": \"api_call\", \"api_name\": \"create_an_account\", \"response\": {\"status\": \"success\", \"user_id\": 123}},\n",
        "    {\"event\": \"user_message\", \"content\": \"My name is John Doe.\"}\n",
        "]"
      ],
      "metadata": {
        "id": "40o91DbmZXnl"
      },
      "execution_count": 2,
      "outputs": []
    },
    {
      "cell_type": "code",
      "source": [
        "def create_an_account(name):\n",
        "    # Simulate the API call to create an account\n",
        "    print(f\"API Call: create_an_account with name={name}\")\n",
        "    # Mock response\n",
        "    response = {\"status\": \"success\", \"user_id\": 123}\n",
        "    # Log the response to the event stream\n",
        "    event_stream.append({\"event\": \"api_call\", \"api_name\": \"create_an_account\", \"response\": response})\n",
        "    return response\n",
        "\n",
        "def buy_product(product, user_id):\n",
        "    # Simulate the API call to buy a product\n",
        "    print(f\"API Call: buy_product with product={product} for user_id={user_id}\")\n",
        "    # Mock response\n",
        "    response = {\"status\": \"success\", \"order_id\": 456}\n",
        "    # Log the response to the event stream\n",
        "    event_stream.append({\"event\": \"api_call\", \"api_name\": \"buy_product\", \"response\": response})\n",
        "    return response"
      ],
      "metadata": {
        "id": "ynE2ILfBZYu8"
      },
      "execution_count": 3,
      "outputs": []
    },
    {
      "cell_type": "code",
      "source": [
        "def find_in_event_stream(key):\n",
        "    \"\"\"\n",
        "    Helper function to find a piece of information in the event stream.\n",
        "    \"\"\"\n",
        "    for event in reversed(event_stream):  # Reverse to find the most recent occurrence\n",
        "        if event.get(\"event\") == \"user_message\" and key.lower() in event.get(\"content\", \"\").lower():\n",
        "            return event.get(\"content\")\n",
        "    return None\n",
        "\n",
        "def check_prerequisite(api_name):\n",
        "    \"\"\"\n",
        "    Check if the prerequisite API call for the given API has been made.\n",
        "    \"\"\"\n",
        "    prerequisite = metadata[api_name][\"prerequisite\"]\n",
        "    if not prerequisite:\n",
        "        return True\n",
        "    # Check if the prerequisite API call is in the event stream with a success status\n",
        "    for event in event_stream:\n",
        "        if event.get(\"event\") == \"api_call\" and event.get(\"api_name\") == prerequisite and event[\"response\"].get(\"status\") == \"success\":\n",
        "            return True\n",
        "    return False\n",
        "\n",
        "def resolve_and_execute(api_name):\n",
        "    \"\"\"\n",
        "    Resolve dependencies and execute the specified API call.\n",
        "    \"\"\"\n",
        "    if not check_prerequisite(api_name):\n",
        "        print(f\"Error: Prerequisite {metadata[api_name]['prerequisite']} not met for {api_name}.\")\n",
        "        return None\n",
        "\n",
        "    # Resolve the payload for the API call\n",
        "    payload = {}\n",
        "    for key in metadata[api_name][\"sample_payload\"]:\n",
        "        value = find_in_event_stream(key)\n",
        "        if not value:\n",
        "            # Prompt user for missing information\n",
        "            value = input(f\"Please provide {key}: \")\n",
        "            event_stream.append({\"event\": \"user_message\", \"content\": f\"My {key} is {value}.\"})\n",
        "        payload[key] = value.split(\" is \")[-1]\n",
        "\n",
        "    # Execute the API call\n",
        "    if api_name == \"create_an_account\":\n",
        "        return create_an_account(payload[\"name\"])\n",
        "    elif api_name == \"buy_product\":\n",
        "        # Check if user_id is available in the event stream\n",
        "        user_id_event = next((event for event in event_stream if event.get(\"api_name\") == \"create_an_account\"), None)\n",
        "        if not user_id_event:\n",
        "            print(\"Error: User account not created yet.\")\n",
        "            return None\n",
        "        user_id = user_id_event[\"response\"][\"user_id\"]\n",
        "        return buy_product(payload[\"product\"], user_id)\n",
        "    else:\n",
        "        print(f\"Unknown API call: {api_name}\")\n",
        "        return None\n"
      ],
      "metadata": {
        "id": "6Xmhw8q7ZbY4"
      },
      "execution_count": 4,
      "outputs": []
    },
    {
      "cell_type": "code",
      "source": [
        "# Simulate a user interaction where they want to buy a product\n",
        "print(\"User wants to buy a product.\")\n",
        "\n",
        "# Agent decides to invoke the \"buy_product\" API\n",
        "resolve_and_execute(\"buy_product\")"
      ],
      "metadata": {
        "colab": {
          "base_uri": "https://localhost:8080/"
        },
        "id": "BF-BiMScZg3n",
        "outputId": "05b4e1f3-9376-4856-e602-c62ef4ba5084"
      },
      "execution_count": 5,
      "outputs": [
        {
          "output_type": "stream",
          "name": "stdout",
          "text": [
            "User wants to buy a product.\n",
            "API Call: buy_product with product=I'd like to buy a product. for user_id=123\n"
          ]
        },
        {
          "output_type": "execute_result",
          "data": {
            "text/plain": [
              "{'status': 'success', 'order_id': 456}"
            ]
          },
          "metadata": {},
          "execution_count": 5
        }
      ]
    },
    {
      "cell_type": "code",
      "source": [
        "# Output:\n",
        "# Error: Prerequisite create_an_account not met for buy_product.\n",
        "\n",
        "# The agent now realizes that it needs to create an account first\n",
        "resolve_and_execute(\"create_an_account\")\n",
        "\n",
        "# User provides the necessary information, and the account is created.\n",
        "\n",
        "# Try buying the product again\n",
        "resolve_and_execute(\"buy_product\")"
      ],
      "metadata": {
        "colab": {
          "base_uri": "https://localhost:8080/"
        },
        "id": "N8rtskKTZkCt",
        "outputId": "7c667e88-cbdd-47be-dee7-f0d7ef313cf1"
      },
      "execution_count": 6,
      "outputs": [
        {
          "output_type": "stream",
          "name": "stdout",
          "text": [
            "API Call: create_an_account with name=John Doe.\n",
            "API Call: buy_product with product=I'd like to buy a product. for user_id=123\n"
          ]
        },
        {
          "output_type": "execute_result",
          "data": {
            "text/plain": [
              "{'status': 'success', 'order_id': 456}"
            ]
          },
          "metadata": {},
          "execution_count": 6
        }
      ]
    },
    {
      "cell_type": "code",
      "source": [
        "event_stream = [\n",
        "    {\"event\": \"user_message\", \"content\": \"I'd like to buy a product.\"},\n",
        "    # No other information provided\n",
        "]"
      ],
      "metadata": {
        "id": "9Ne5GCoTaMQI"
      },
      "execution_count": 7,
      "outputs": []
    },
    {
      "cell_type": "code",
      "source": [
        "# Simulate a user interaction where they want to buy a product\n",
        "print(\"User wants to buy a product.\")\n",
        "\n",
        "# Agent decides to invoke the \"buy_product\" API\n",
        "resolve_and_execute(\"buy_product\")"
      ],
      "metadata": {
        "colab": {
          "base_uri": "https://localhost:8080/"
        },
        "id": "5GoibS_MaO4a",
        "outputId": "9b984b35-5223-4ee5-cefd-4625b0150ba5"
      },
      "execution_count": 8,
      "outputs": [
        {
          "output_type": "stream",
          "name": "stdout",
          "text": [
            "User wants to buy a product.\n",
            "Error: Prerequisite create_an_account not met for buy_product.\n"
          ]
        }
      ]
    },
    {
      "cell_type": "code",
      "source": [],
      "metadata": {
        "id": "VcObrdtzaPOh"
      },
      "execution_count": null,
      "outputs": []
    }
  ]
}