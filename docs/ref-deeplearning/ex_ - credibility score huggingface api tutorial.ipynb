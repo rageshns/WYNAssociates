{
  "nbformat": 4,
  "nbformat_minor": 0,
  "metadata": {
    "colab": {
      "provenance": [],
      "toc_visible": true,
      "machine_shape": "hm",
      "gpuType": "L4"
    },
    "kernelspec": {
      "name": "python3",
      "display_name": "Python 3"
    },
    "language_info": {
      "name": "python"
    },
    "accelerator": "GPU",
    "widgets": {
      "application/vnd.jupyter.widget-state+json": {
        "ad1229fcf3e448a0a7e3efb07cdbdc74": {
          "model_module": "@jupyter-widgets/controls",
          "model_name": "HBoxModel",
          "model_module_version": "1.5.0",
          "state": {
            "_dom_classes": [],
            "_model_module": "@jupyter-widgets/controls",
            "_model_module_version": "1.5.0",
            "_model_name": "HBoxModel",
            "_view_count": null,
            "_view_module": "@jupyter-widgets/controls",
            "_view_module_version": "1.5.0",
            "_view_name": "HBoxView",
            "box_style": "",
            "children": [
              "IPY_MODEL_700aef42ca3148f3af35bc0ad4668adb",
              "IPY_MODEL_d1f65bb410884f289ff5085dd8b498c0",
              "IPY_MODEL_137112d21d5a4e21859ba7d73011988b"
            ],
            "layout": "IPY_MODEL_2986fe9b7bde45d697c5bb5259876a00"
          }
        },
        "700aef42ca3148f3af35bc0ad4668adb": {
          "model_module": "@jupyter-widgets/controls",
          "model_name": "HTMLModel",
          "model_module_version": "1.5.0",
          "state": {
            "_dom_classes": [],
            "_model_module": "@jupyter-widgets/controls",
            "_model_module_version": "1.5.0",
            "_model_name": "HTMLModel",
            "_view_count": null,
            "_view_module": "@jupyter-widgets/controls",
            "_view_module_version": "1.5.0",
            "_view_name": "HTMLView",
            "description": "",
            "description_tooltip": null,
            "layout": "IPY_MODEL_e0435dac0b3e437695f0ce53263f7f0f",
            "placeholder": "​",
            "style": "IPY_MODEL_2ca8122e6bfa4d85974fe78e173a9abc",
            "value": "model.keras: 100%"
          }
        },
        "d1f65bb410884f289ff5085dd8b498c0": {
          "model_module": "@jupyter-widgets/controls",
          "model_name": "FloatProgressModel",
          "model_module_version": "1.5.0",
          "state": {
            "_dom_classes": [],
            "_model_module": "@jupyter-widgets/controls",
            "_model_module_version": "1.5.0",
            "_model_name": "FloatProgressModel",
            "_view_count": null,
            "_view_module": "@jupyter-widgets/controls",
            "_view_module_version": "1.5.0",
            "_view_name": "ProgressView",
            "bar_style": "success",
            "description": "",
            "description_tooltip": null,
            "layout": "IPY_MODEL_9da1bd772cab4c2f9234f4d554c600b6",
            "max": 212145,
            "min": 0,
            "orientation": "horizontal",
            "style": "IPY_MODEL_9a58015c86b5457cae3684f7cac772e1",
            "value": 212145
          }
        },
        "137112d21d5a4e21859ba7d73011988b": {
          "model_module": "@jupyter-widgets/controls",
          "model_name": "HTMLModel",
          "model_module_version": "1.5.0",
          "state": {
            "_dom_classes": [],
            "_model_module": "@jupyter-widgets/controls",
            "_model_module_version": "1.5.0",
            "_model_name": "HTMLModel",
            "_view_count": null,
            "_view_module": "@jupyter-widgets/controls",
            "_view_module_version": "1.5.0",
            "_view_name": "HTMLView",
            "description": "",
            "description_tooltip": null,
            "layout": "IPY_MODEL_61f2b4081aea448eb33c8504fbd58c2a",
            "placeholder": "​",
            "style": "IPY_MODEL_a1eb654d575f4f0982a7eb5aa906ab23",
            "value": " 212k/212k [00:00&lt;00:00, 264kB/s]"
          }
        },
        "2986fe9b7bde45d697c5bb5259876a00": {
          "model_module": "@jupyter-widgets/base",
          "model_name": "LayoutModel",
          "model_module_version": "1.2.0",
          "state": {
            "_model_module": "@jupyter-widgets/base",
            "_model_module_version": "1.2.0",
            "_model_name": "LayoutModel",
            "_view_count": null,
            "_view_module": "@jupyter-widgets/base",
            "_view_module_version": "1.2.0",
            "_view_name": "LayoutView",
            "align_content": null,
            "align_items": null,
            "align_self": null,
            "border": null,
            "bottom": null,
            "display": null,
            "flex": null,
            "flex_flow": null,
            "grid_area": null,
            "grid_auto_columns": null,
            "grid_auto_flow": null,
            "grid_auto_rows": null,
            "grid_column": null,
            "grid_gap": null,
            "grid_row": null,
            "grid_template_areas": null,
            "grid_template_columns": null,
            "grid_template_rows": null,
            "height": null,
            "justify_content": null,
            "justify_items": null,
            "left": null,
            "margin": null,
            "max_height": null,
            "max_width": null,
            "min_height": null,
            "min_width": null,
            "object_fit": null,
            "object_position": null,
            "order": null,
            "overflow": null,
            "overflow_x": null,
            "overflow_y": null,
            "padding": null,
            "right": null,
            "top": null,
            "visibility": null,
            "width": null
          }
        },
        "e0435dac0b3e437695f0ce53263f7f0f": {
          "model_module": "@jupyter-widgets/base",
          "model_name": "LayoutModel",
          "model_module_version": "1.2.0",
          "state": {
            "_model_module": "@jupyter-widgets/base",
            "_model_module_version": "1.2.0",
            "_model_name": "LayoutModel",
            "_view_count": null,
            "_view_module": "@jupyter-widgets/base",
            "_view_module_version": "1.2.0",
            "_view_name": "LayoutView",
            "align_content": null,
            "align_items": null,
            "align_self": null,
            "border": null,
            "bottom": null,
            "display": null,
            "flex": null,
            "flex_flow": null,
            "grid_area": null,
            "grid_auto_columns": null,
            "grid_auto_flow": null,
            "grid_auto_rows": null,
            "grid_column": null,
            "grid_gap": null,
            "grid_row": null,
            "grid_template_areas": null,
            "grid_template_columns": null,
            "grid_template_rows": null,
            "height": null,
            "justify_content": null,
            "justify_items": null,
            "left": null,
            "margin": null,
            "max_height": null,
            "max_width": null,
            "min_height": null,
            "min_width": null,
            "object_fit": null,
            "object_position": null,
            "order": null,
            "overflow": null,
            "overflow_x": null,
            "overflow_y": null,
            "padding": null,
            "right": null,
            "top": null,
            "visibility": null,
            "width": null
          }
        },
        "2ca8122e6bfa4d85974fe78e173a9abc": {
          "model_module": "@jupyter-widgets/controls",
          "model_name": "DescriptionStyleModel",
          "model_module_version": "1.5.0",
          "state": {
            "_model_module": "@jupyter-widgets/controls",
            "_model_module_version": "1.5.0",
            "_model_name": "DescriptionStyleModel",
            "_view_count": null,
            "_view_module": "@jupyter-widgets/base",
            "_view_module_version": "1.2.0",
            "_view_name": "StyleView",
            "description_width": ""
          }
        },
        "9da1bd772cab4c2f9234f4d554c600b6": {
          "model_module": "@jupyter-widgets/base",
          "model_name": "LayoutModel",
          "model_module_version": "1.2.0",
          "state": {
            "_model_module": "@jupyter-widgets/base",
            "_model_module_version": "1.2.0",
            "_model_name": "LayoutModel",
            "_view_count": null,
            "_view_module": "@jupyter-widgets/base",
            "_view_module_version": "1.2.0",
            "_view_name": "LayoutView",
            "align_content": null,
            "align_items": null,
            "align_self": null,
            "border": null,
            "bottom": null,
            "display": null,
            "flex": null,
            "flex_flow": null,
            "grid_area": null,
            "grid_auto_columns": null,
            "grid_auto_flow": null,
            "grid_auto_rows": null,
            "grid_column": null,
            "grid_gap": null,
            "grid_row": null,
            "grid_template_areas": null,
            "grid_template_columns": null,
            "grid_template_rows": null,
            "height": null,
            "justify_content": null,
            "justify_items": null,
            "left": null,
            "margin": null,
            "max_height": null,
            "max_width": null,
            "min_height": null,
            "min_width": null,
            "object_fit": null,
            "object_position": null,
            "order": null,
            "overflow": null,
            "overflow_x": null,
            "overflow_y": null,
            "padding": null,
            "right": null,
            "top": null,
            "visibility": null,
            "width": null
          }
        },
        "9a58015c86b5457cae3684f7cac772e1": {
          "model_module": "@jupyter-widgets/controls",
          "model_name": "ProgressStyleModel",
          "model_module_version": "1.5.0",
          "state": {
            "_model_module": "@jupyter-widgets/controls",
            "_model_module_version": "1.5.0",
            "_model_name": "ProgressStyleModel",
            "_view_count": null,
            "_view_module": "@jupyter-widgets/base",
            "_view_module_version": "1.2.0",
            "_view_name": "StyleView",
            "bar_color": null,
            "description_width": ""
          }
        },
        "61f2b4081aea448eb33c8504fbd58c2a": {
          "model_module": "@jupyter-widgets/base",
          "model_name": "LayoutModel",
          "model_module_version": "1.2.0",
          "state": {
            "_model_module": "@jupyter-widgets/base",
            "_model_module_version": "1.2.0",
            "_model_name": "LayoutModel",
            "_view_count": null,
            "_view_module": "@jupyter-widgets/base",
            "_view_module_version": "1.2.0",
            "_view_name": "LayoutView",
            "align_content": null,
            "align_items": null,
            "align_self": null,
            "border": null,
            "bottom": null,
            "display": null,
            "flex": null,
            "flex_flow": null,
            "grid_area": null,
            "grid_auto_columns": null,
            "grid_auto_flow": null,
            "grid_auto_rows": null,
            "grid_column": null,
            "grid_gap": null,
            "grid_row": null,
            "grid_template_areas": null,
            "grid_template_columns": null,
            "grid_template_rows": null,
            "height": null,
            "justify_content": null,
            "justify_items": null,
            "left": null,
            "margin": null,
            "max_height": null,
            "max_width": null,
            "min_height": null,
            "min_width": null,
            "object_fit": null,
            "object_position": null,
            "order": null,
            "overflow": null,
            "overflow_x": null,
            "overflow_y": null,
            "padding": null,
            "right": null,
            "top": null,
            "visibility": null,
            "width": null
          }
        },
        "a1eb654d575f4f0982a7eb5aa906ab23": {
          "model_module": "@jupyter-widgets/controls",
          "model_name": "DescriptionStyleModel",
          "model_module_version": "1.5.0",
          "state": {
            "_model_module": "@jupyter-widgets/controls",
            "_model_module_version": "1.5.0",
            "_model_name": "DescriptionStyleModel",
            "_view_count": null,
            "_view_module": "@jupyter-widgets/base",
            "_view_module_version": "1.2.0",
            "_view_name": "StyleView",
            "description_width": ""
          }
        },
        "e8eb5b2f78734fbf8101ac2566b1e169": {
          "model_module": "@jupyter-widgets/controls",
          "model_name": "HBoxModel",
          "model_module_version": "1.5.0",
          "state": {
            "_dom_classes": [],
            "_model_module": "@jupyter-widgets/controls",
            "_model_module_version": "1.5.0",
            "_model_name": "HBoxModel",
            "_view_count": null,
            "_view_module": "@jupyter-widgets/controls",
            "_view_module_version": "1.5.0",
            "_view_name": "HBoxView",
            "box_style": "",
            "children": [
              "IPY_MODEL_9158a7292751431c9b34265631f7c506",
              "IPY_MODEL_5a76df727651422688c1b3b11b214b87",
              "IPY_MODEL_f63d290478144de7a337968a2fc807b7"
            ],
            "layout": "IPY_MODEL_bd42442e3a3f462b8ac08f5a96908ebc"
          }
        },
        "9158a7292751431c9b34265631f7c506": {
          "model_module": "@jupyter-widgets/controls",
          "model_name": "HTMLModel",
          "model_module_version": "1.5.0",
          "state": {
            "_dom_classes": [],
            "_model_module": "@jupyter-widgets/controls",
            "_model_module_version": "1.5.0",
            "_model_name": "HTMLModel",
            "_view_count": null,
            "_view_module": "@jupyter-widgets/controls",
            "_view_module_version": "1.5.0",
            "_view_name": "HTMLView",
            "description": "",
            "description_tooltip": null,
            "layout": "IPY_MODEL_f094f97d92004fc09ed132b09c3599df",
            "placeholder": "​",
            "style": "IPY_MODEL_c39999651b164a31b3ab7fbbbefc5bf0",
            "value": "tokenizer.pkl: 100%"
          }
        },
        "5a76df727651422688c1b3b11b214b87": {
          "model_module": "@jupyter-widgets/controls",
          "model_name": "FloatProgressModel",
          "model_module_version": "1.5.0",
          "state": {
            "_dom_classes": [],
            "_model_module": "@jupyter-widgets/controls",
            "_model_module_version": "1.5.0",
            "_model_name": "FloatProgressModel",
            "_view_count": null,
            "_view_module": "@jupyter-widgets/controls",
            "_view_module_version": "1.5.0",
            "_view_name": "ProgressView",
            "bar_style": "success",
            "description": "",
            "description_tooltip": null,
            "layout": "IPY_MODEL_179baffef08041749973935cc0d1be9c",
            "max": 2650,
            "min": 0,
            "orientation": "horizontal",
            "style": "IPY_MODEL_2c827aa6955c483091b477d510bfc32b",
            "value": 2650
          }
        },
        "f63d290478144de7a337968a2fc807b7": {
          "model_module": "@jupyter-widgets/controls",
          "model_name": "HTMLModel",
          "model_module_version": "1.5.0",
          "state": {
            "_dom_classes": [],
            "_model_module": "@jupyter-widgets/controls",
            "_model_module_version": "1.5.0",
            "_model_name": "HTMLModel",
            "_view_count": null,
            "_view_module": "@jupyter-widgets/controls",
            "_view_module_version": "1.5.0",
            "_view_name": "HTMLView",
            "description": "",
            "description_tooltip": null,
            "layout": "IPY_MODEL_57d56d09d37445a983126d3add35e627",
            "placeholder": "​",
            "style": "IPY_MODEL_2aa8fd6517fc403ca507162536f38744",
            "value": " 2.65k/2.65k [00:00&lt;00:00, 8.78kB/s]"
          }
        },
        "bd42442e3a3f462b8ac08f5a96908ebc": {
          "model_module": "@jupyter-widgets/base",
          "model_name": "LayoutModel",
          "model_module_version": "1.2.0",
          "state": {
            "_model_module": "@jupyter-widgets/base",
            "_model_module_version": "1.2.0",
            "_model_name": "LayoutModel",
            "_view_count": null,
            "_view_module": "@jupyter-widgets/base",
            "_view_module_version": "1.2.0",
            "_view_name": "LayoutView",
            "align_content": null,
            "align_items": null,
            "align_self": null,
            "border": null,
            "bottom": null,
            "display": null,
            "flex": null,
            "flex_flow": null,
            "grid_area": null,
            "grid_auto_columns": null,
            "grid_auto_flow": null,
            "grid_auto_rows": null,
            "grid_column": null,
            "grid_gap": null,
            "grid_row": null,
            "grid_template_areas": null,
            "grid_template_columns": null,
            "grid_template_rows": null,
            "height": null,
            "justify_content": null,
            "justify_items": null,
            "left": null,
            "margin": null,
            "max_height": null,
            "max_width": null,
            "min_height": null,
            "min_width": null,
            "object_fit": null,
            "object_position": null,
            "order": null,
            "overflow": null,
            "overflow_x": null,
            "overflow_y": null,
            "padding": null,
            "right": null,
            "top": null,
            "visibility": null,
            "width": null
          }
        },
        "f094f97d92004fc09ed132b09c3599df": {
          "model_module": "@jupyter-widgets/base",
          "model_name": "LayoutModel",
          "model_module_version": "1.2.0",
          "state": {
            "_model_module": "@jupyter-widgets/base",
            "_model_module_version": "1.2.0",
            "_model_name": "LayoutModel",
            "_view_count": null,
            "_view_module": "@jupyter-widgets/base",
            "_view_module_version": "1.2.0",
            "_view_name": "LayoutView",
            "align_content": null,
            "align_items": null,
            "align_self": null,
            "border": null,
            "bottom": null,
            "display": null,
            "flex": null,
            "flex_flow": null,
            "grid_area": null,
            "grid_auto_columns": null,
            "grid_auto_flow": null,
            "grid_auto_rows": null,
            "grid_column": null,
            "grid_gap": null,
            "grid_row": null,
            "grid_template_areas": null,
            "grid_template_columns": null,
            "grid_template_rows": null,
            "height": null,
            "justify_content": null,
            "justify_items": null,
            "left": null,
            "margin": null,
            "max_height": null,
            "max_width": null,
            "min_height": null,
            "min_width": null,
            "object_fit": null,
            "object_position": null,
            "order": null,
            "overflow": null,
            "overflow_x": null,
            "overflow_y": null,
            "padding": null,
            "right": null,
            "top": null,
            "visibility": null,
            "width": null
          }
        },
        "c39999651b164a31b3ab7fbbbefc5bf0": {
          "model_module": "@jupyter-widgets/controls",
          "model_name": "DescriptionStyleModel",
          "model_module_version": "1.5.0",
          "state": {
            "_model_module": "@jupyter-widgets/controls",
            "_model_module_version": "1.5.0",
            "_model_name": "DescriptionStyleModel",
            "_view_count": null,
            "_view_module": "@jupyter-widgets/base",
            "_view_module_version": "1.2.0",
            "_view_name": "StyleView",
            "description_width": ""
          }
        },
        "179baffef08041749973935cc0d1be9c": {
          "model_module": "@jupyter-widgets/base",
          "model_name": "LayoutModel",
          "model_module_version": "1.2.0",
          "state": {
            "_model_module": "@jupyter-widgets/base",
            "_model_module_version": "1.2.0",
            "_model_name": "LayoutModel",
            "_view_count": null,
            "_view_module": "@jupyter-widgets/base",
            "_view_module_version": "1.2.0",
            "_view_name": "LayoutView",
            "align_content": null,
            "align_items": null,
            "align_self": null,
            "border": null,
            "bottom": null,
            "display": null,
            "flex": null,
            "flex_flow": null,
            "grid_area": null,
            "grid_auto_columns": null,
            "grid_auto_flow": null,
            "grid_auto_rows": null,
            "grid_column": null,
            "grid_gap": null,
            "grid_row": null,
            "grid_template_areas": null,
            "grid_template_columns": null,
            "grid_template_rows": null,
            "height": null,
            "justify_content": null,
            "justify_items": null,
            "left": null,
            "margin": null,
            "max_height": null,
            "max_width": null,
            "min_height": null,
            "min_width": null,
            "object_fit": null,
            "object_position": null,
            "order": null,
            "overflow": null,
            "overflow_x": null,
            "overflow_y": null,
            "padding": null,
            "right": null,
            "top": null,
            "visibility": null,
            "width": null
          }
        },
        "2c827aa6955c483091b477d510bfc32b": {
          "model_module": "@jupyter-widgets/controls",
          "model_name": "ProgressStyleModel",
          "model_module_version": "1.5.0",
          "state": {
            "_model_module": "@jupyter-widgets/controls",
            "_model_module_version": "1.5.0",
            "_model_name": "ProgressStyleModel",
            "_view_count": null,
            "_view_module": "@jupyter-widgets/base",
            "_view_module_version": "1.2.0",
            "_view_name": "StyleView",
            "bar_color": null,
            "description_width": ""
          }
        },
        "57d56d09d37445a983126d3add35e627": {
          "model_module": "@jupyter-widgets/base",
          "model_name": "LayoutModel",
          "model_module_version": "1.2.0",
          "state": {
            "_model_module": "@jupyter-widgets/base",
            "_model_module_version": "1.2.0",
            "_model_name": "LayoutModel",
            "_view_count": null,
            "_view_module": "@jupyter-widgets/base",
            "_view_module_version": "1.2.0",
            "_view_name": "LayoutView",
            "align_content": null,
            "align_items": null,
            "align_self": null,
            "border": null,
            "bottom": null,
            "display": null,
            "flex": null,
            "flex_flow": null,
            "grid_area": null,
            "grid_auto_columns": null,
            "grid_auto_flow": null,
            "grid_auto_rows": null,
            "grid_column": null,
            "grid_gap": null,
            "grid_row": null,
            "grid_template_areas": null,
            "grid_template_columns": null,
            "grid_template_rows": null,
            "height": null,
            "justify_content": null,
            "justify_items": null,
            "left": null,
            "margin": null,
            "max_height": null,
            "max_width": null,
            "min_height": null,
            "min_width": null,
            "object_fit": null,
            "object_position": null,
            "order": null,
            "overflow": null,
            "overflow_x": null,
            "overflow_y": null,
            "padding": null,
            "right": null,
            "top": null,
            "visibility": null,
            "width": null
          }
        },
        "2aa8fd6517fc403ca507162536f38744": {
          "model_module": "@jupyter-widgets/controls",
          "model_name": "DescriptionStyleModel",
          "model_module_version": "1.5.0",
          "state": {
            "_model_module": "@jupyter-widgets/controls",
            "_model_module_version": "1.5.0",
            "_model_name": "DescriptionStyleModel",
            "_view_count": null,
            "_view_module": "@jupyter-widgets/base",
            "_view_module_version": "1.2.0",
            "_view_name": "StyleView",
            "description_width": ""
          }
        },
        "856fa8097d294541bd49561c73891a23": {
          "model_module": "@jupyter-widgets/controls",
          "model_name": "HBoxModel",
          "model_module_version": "1.5.0",
          "state": {
            "_dom_classes": [],
            "_model_module": "@jupyter-widgets/controls",
            "_model_module_version": "1.5.0",
            "_model_name": "HBoxModel",
            "_view_count": null,
            "_view_module": "@jupyter-widgets/controls",
            "_view_module_version": "1.5.0",
            "_view_name": "HBoxView",
            "box_style": "",
            "children": [
              "IPY_MODEL_6a8bdaee4c2040b68e0d35d317804cd5",
              "IPY_MODEL_55570277cf0a4b34b9611dcf918f3c26",
              "IPY_MODEL_4eb31139bf114241832e0300875d4d31"
            ],
            "layout": "IPY_MODEL_ab06ce42c417427f9855b6da5890e3a4"
          }
        },
        "6a8bdaee4c2040b68e0d35d317804cd5": {
          "model_module": "@jupyter-widgets/controls",
          "model_name": "HTMLModel",
          "model_module_version": "1.5.0",
          "state": {
            "_dom_classes": [],
            "_model_module": "@jupyter-widgets/controls",
            "_model_module_version": "1.5.0",
            "_model_name": "HTMLModel",
            "_view_count": null,
            "_view_module": "@jupyter-widgets/controls",
            "_view_module_version": "1.5.0",
            "_view_name": "HTMLView",
            "description": "",
            "description_tooltip": null,
            "layout": "IPY_MODEL_713d1cc077eb45788eb13375195a709e",
            "placeholder": "​",
            "style": "IPY_MODEL_e5cae3fed94a4b20972c18335a3a833d",
            "value": "model.keras: 100%"
          }
        },
        "55570277cf0a4b34b9611dcf918f3c26": {
          "model_module": "@jupyter-widgets/controls",
          "model_name": "FloatProgressModel",
          "model_module_version": "1.5.0",
          "state": {
            "_dom_classes": [],
            "_model_module": "@jupyter-widgets/controls",
            "_model_module_version": "1.5.0",
            "_model_name": "FloatProgressModel",
            "_view_count": null,
            "_view_module": "@jupyter-widgets/controls",
            "_view_module_version": "1.5.0",
            "_view_name": "ProgressView",
            "bar_style": "success",
            "description": "",
            "description_tooltip": null,
            "layout": "IPY_MODEL_c2cb01c3b237497c8872db90530d9134",
            "max": 212145,
            "min": 0,
            "orientation": "horizontal",
            "style": "IPY_MODEL_e154654e25274a6ca6c688d8ce7f07b1",
            "value": 212145
          }
        },
        "4eb31139bf114241832e0300875d4d31": {
          "model_module": "@jupyter-widgets/controls",
          "model_name": "HTMLModel",
          "model_module_version": "1.5.0",
          "state": {
            "_dom_classes": [],
            "_model_module": "@jupyter-widgets/controls",
            "_model_module_version": "1.5.0",
            "_model_name": "HTMLModel",
            "_view_count": null,
            "_view_module": "@jupyter-widgets/controls",
            "_view_module_version": "1.5.0",
            "_view_name": "HTMLView",
            "description": "",
            "description_tooltip": null,
            "layout": "IPY_MODEL_796e9b41a88f4f4093b122ce1d7a84f8",
            "placeholder": "​",
            "style": "IPY_MODEL_2e792d8308c946abb961d9718fcce1a3",
            "value": " 212k/212k [00:00&lt;00:00, 12.7MB/s]"
          }
        },
        "ab06ce42c417427f9855b6da5890e3a4": {
          "model_module": "@jupyter-widgets/base",
          "model_name": "LayoutModel",
          "model_module_version": "1.2.0",
          "state": {
            "_model_module": "@jupyter-widgets/base",
            "_model_module_version": "1.2.0",
            "_model_name": "LayoutModel",
            "_view_count": null,
            "_view_module": "@jupyter-widgets/base",
            "_view_module_version": "1.2.0",
            "_view_name": "LayoutView",
            "align_content": null,
            "align_items": null,
            "align_self": null,
            "border": null,
            "bottom": null,
            "display": null,
            "flex": null,
            "flex_flow": null,
            "grid_area": null,
            "grid_auto_columns": null,
            "grid_auto_flow": null,
            "grid_auto_rows": null,
            "grid_column": null,
            "grid_gap": null,
            "grid_row": null,
            "grid_template_areas": null,
            "grid_template_columns": null,
            "grid_template_rows": null,
            "height": null,
            "justify_content": null,
            "justify_items": null,
            "left": null,
            "margin": null,
            "max_height": null,
            "max_width": null,
            "min_height": null,
            "min_width": null,
            "object_fit": null,
            "object_position": null,
            "order": null,
            "overflow": null,
            "overflow_x": null,
            "overflow_y": null,
            "padding": null,
            "right": null,
            "top": null,
            "visibility": null,
            "width": null
          }
        },
        "713d1cc077eb45788eb13375195a709e": {
          "model_module": "@jupyter-widgets/base",
          "model_name": "LayoutModel",
          "model_module_version": "1.2.0",
          "state": {
            "_model_module": "@jupyter-widgets/base",
            "_model_module_version": "1.2.0",
            "_model_name": "LayoutModel",
            "_view_count": null,
            "_view_module": "@jupyter-widgets/base",
            "_view_module_version": "1.2.0",
            "_view_name": "LayoutView",
            "align_content": null,
            "align_items": null,
            "align_self": null,
            "border": null,
            "bottom": null,
            "display": null,
            "flex": null,
            "flex_flow": null,
            "grid_area": null,
            "grid_auto_columns": null,
            "grid_auto_flow": null,
            "grid_auto_rows": null,
            "grid_column": null,
            "grid_gap": null,
            "grid_row": null,
            "grid_template_areas": null,
            "grid_template_columns": null,
            "grid_template_rows": null,
            "height": null,
            "justify_content": null,
            "justify_items": null,
            "left": null,
            "margin": null,
            "max_height": null,
            "max_width": null,
            "min_height": null,
            "min_width": null,
            "object_fit": null,
            "object_position": null,
            "order": null,
            "overflow": null,
            "overflow_x": null,
            "overflow_y": null,
            "padding": null,
            "right": null,
            "top": null,
            "visibility": null,
            "width": null
          }
        },
        "e5cae3fed94a4b20972c18335a3a833d": {
          "model_module": "@jupyter-widgets/controls",
          "model_name": "DescriptionStyleModel",
          "model_module_version": "1.5.0",
          "state": {
            "_model_module": "@jupyter-widgets/controls",
            "_model_module_version": "1.5.0",
            "_model_name": "DescriptionStyleModel",
            "_view_count": null,
            "_view_module": "@jupyter-widgets/base",
            "_view_module_version": "1.2.0",
            "_view_name": "StyleView",
            "description_width": ""
          }
        },
        "c2cb01c3b237497c8872db90530d9134": {
          "model_module": "@jupyter-widgets/base",
          "model_name": "LayoutModel",
          "model_module_version": "1.2.0",
          "state": {
            "_model_module": "@jupyter-widgets/base",
            "_model_module_version": "1.2.0",
            "_model_name": "LayoutModel",
            "_view_count": null,
            "_view_module": "@jupyter-widgets/base",
            "_view_module_version": "1.2.0",
            "_view_name": "LayoutView",
            "align_content": null,
            "align_items": null,
            "align_self": null,
            "border": null,
            "bottom": null,
            "display": null,
            "flex": null,
            "flex_flow": null,
            "grid_area": null,
            "grid_auto_columns": null,
            "grid_auto_flow": null,
            "grid_auto_rows": null,
            "grid_column": null,
            "grid_gap": null,
            "grid_row": null,
            "grid_template_areas": null,
            "grid_template_columns": null,
            "grid_template_rows": null,
            "height": null,
            "justify_content": null,
            "justify_items": null,
            "left": null,
            "margin": null,
            "max_height": null,
            "max_width": null,
            "min_height": null,
            "min_width": null,
            "object_fit": null,
            "object_position": null,
            "order": null,
            "overflow": null,
            "overflow_x": null,
            "overflow_y": null,
            "padding": null,
            "right": null,
            "top": null,
            "visibility": null,
            "width": null
          }
        },
        "e154654e25274a6ca6c688d8ce7f07b1": {
          "model_module": "@jupyter-widgets/controls",
          "model_name": "ProgressStyleModel",
          "model_module_version": "1.5.0",
          "state": {
            "_model_module": "@jupyter-widgets/controls",
            "_model_module_version": "1.5.0",
            "_model_name": "ProgressStyleModel",
            "_view_count": null,
            "_view_module": "@jupyter-widgets/base",
            "_view_module_version": "1.2.0",
            "_view_name": "StyleView",
            "bar_color": null,
            "description_width": ""
          }
        },
        "796e9b41a88f4f4093b122ce1d7a84f8": {
          "model_module": "@jupyter-widgets/base",
          "model_name": "LayoutModel",
          "model_module_version": "1.2.0",
          "state": {
            "_model_module": "@jupyter-widgets/base",
            "_model_module_version": "1.2.0",
            "_model_name": "LayoutModel",
            "_view_count": null,
            "_view_module": "@jupyter-widgets/base",
            "_view_module_version": "1.2.0",
            "_view_name": "LayoutView",
            "align_content": null,
            "align_items": null,
            "align_self": null,
            "border": null,
            "bottom": null,
            "display": null,
            "flex": null,
            "flex_flow": null,
            "grid_area": null,
            "grid_auto_columns": null,
            "grid_auto_flow": null,
            "grid_auto_rows": null,
            "grid_column": null,
            "grid_gap": null,
            "grid_row": null,
            "grid_template_areas": null,
            "grid_template_columns": null,
            "grid_template_rows": null,
            "height": null,
            "justify_content": null,
            "justify_items": null,
            "left": null,
            "margin": null,
            "max_height": null,
            "max_width": null,
            "min_height": null,
            "min_width": null,
            "object_fit": null,
            "object_position": null,
            "order": null,
            "overflow": null,
            "overflow_x": null,
            "overflow_y": null,
            "padding": null,
            "right": null,
            "top": null,
            "visibility": null,
            "width": null
          }
        },
        "2e792d8308c946abb961d9718fcce1a3": {
          "model_module": "@jupyter-widgets/controls",
          "model_name": "DescriptionStyleModel",
          "model_module_version": "1.5.0",
          "state": {
            "_model_module": "@jupyter-widgets/controls",
            "_model_module_version": "1.5.0",
            "_model_name": "DescriptionStyleModel",
            "_view_count": null,
            "_view_module": "@jupyter-widgets/base",
            "_view_module_version": "1.2.0",
            "_view_name": "StyleView",
            "description_width": ""
          }
        }
      }
    }
  },
  "cells": [
    {
      "cell_type": "markdown",
      "source": [
        "## Import `tf` Library"
      ],
      "metadata": {
        "id": "RX_J4FO1UM9V"
      }
    },
    {
      "cell_type": "code",
      "execution_count": 1,
      "metadata": {
        "id": "FYWwfshkN4z-"
      },
      "outputs": [],
      "source": [
        "import tensorflow as tf\n",
        "from tensorflow.keras.layers import Input, Embedding, Dense, Concatenate, Flatten\n",
        "from tensorflow.keras.models import Model\n",
        "from tensorflow.keras.preprocessing.text import Tokenizer\n",
        "from tensorflow.keras.preprocessing.sequence import pad_sequences\n",
        "import numpy as np\n",
        "import pandas as pd"
      ]
    },
    {
      "cell_type": "markdown",
      "source": [
        "## Define Model"
      ],
      "metadata": {
        "id": "vZWECH6nUPU2"
      }
    },
    {
      "cell_type": "code",
      "source": [
        "# Define function to create the neural network model\n",
        "def create_nn_model(vocab_size: int, embedding_dim: int, max_length: int, num_of_dense: int) -> Model:\n",
        "    \"\"\"\n",
        "    Creates a neural network model that processes user prompts using an embedding layer,\n",
        "    concatenates it with function ratings, and passes through dense layers.\n",
        "\n",
        "    Args:\n",
        "        vocab_size (int): Size of the vocabulary for embedding.\n",
        "        embedding_dim (int): Dimensionality of the embedding layer.\n",
        "        max_length (int): Maximum length of input sequences.\n",
        "        num_of_dense (int): Number of dense layers before concatenation.\n",
        "\n",
        "    Returns:\n",
        "        Model: A compiled TensorFlow model.\n",
        "    \"\"\"\n",
        "    # Text input (user prompt)\n",
        "    text_input = Input(shape=(max_length,), name=\"text_input\")\n",
        "    embedding = Embedding(input_dim=vocab_size, output_dim=embedding_dim, input_length=max_length)(text_input)\n",
        "    flatten = Flatten()(embedding)\n",
        "\n",
        "    # Dense layers for text input\n",
        "    x = flatten\n",
        "    for _ in range(num_of_dense):\n",
        "        x = Dense(64, activation='relu')(x)\n",
        "\n",
        "    # Numeric input (func_rating)\n",
        "    func_rating_input = Input(shape=(1,), name=\"func_rating_input\")\n",
        "    y = Dense(32, activation='relu')(func_rating_input)\n",
        "\n",
        "    # Concatenate both paths\n",
        "    concatenated = Concatenate()([x, y])\n",
        "    output = Dense(1, activation='linear', name=\"output\")(concatenated)\n",
        "\n",
        "    # Define and compile the model\n",
        "    model = Model(inputs=[text_input, func_rating_input], outputs=output)\n",
        "    model.compile(optimizer='adam', loss='mse', metrics=['mae'])\n",
        "\n",
        "    return model"
      ],
      "metadata": {
        "id": "dSTMr2Q3OyiD"
      },
      "execution_count": 2,
      "outputs": []
    },
    {
      "cell_type": "markdown",
      "source": [
        "## Prep Data"
      ],
      "metadata": {
        "id": "H9k9nkCxUQhg"
      }
    },
    {
      "cell_type": "code",
      "source": [
        "# Generate a larger sample dataset with 20 rows\n",
        "data = {\n",
        "    \"user_prompt\": [\n",
        "        \"I have just been on an international flight\",\n",
        "        \"How can I improve my sleep quality?\",\n",
        "        \"What are the symptoms of vitamin D deficiency?\",\n",
        "        \"Best exercises for lower back pain relief\",\n",
        "        \"Healthy meal ideas for weight loss\",\n",
        "        \"How to reduce stress and anxiety naturally?\",\n",
        "        \"What are the benefits of intermittent fasting?\",\n",
        "        \"Tips for maintaining healthy skin\",\n",
        "        \"How much water should I drink daily?\",\n",
        "        \"Best ways to boost immune system\",\n",
        "        \"Exercises to improve posture\",\n",
        "        \"How to manage time effectively?\",\n",
        "        \"Signs and symptoms of dehydration\",\n",
        "        \"What foods help lower cholesterol?\",\n",
        "        \"How to stay productive while working remotely?\",\n",
        "        \"What are the dangers of processed foods?\",\n",
        "        \"How to get better sleep without medication?\",\n",
        "        \"Ways to increase energy levels naturally\",\n",
        "        \"How does meditation help mental health?\",\n",
        "        \"Best strategies to quit smoking\"\n",
        "    ],\n",
        "    \"func_rating\": [3, 4, 2, 5, 3, 4, 5, 3, 4, 5, 3, 4, 2, 5, 3, 4, 5, 3, 4, 5],\n",
        "    \"custom_rating\": [4, 5, 3, 4, 4, 5, 5, 4, 4, 5, 3, 5, 3, 4, 4, 3, 5, 4, 4, 5]\n",
        "}\n",
        "\n",
        "# Convert to DataFrame and display\n",
        "df = pd.DataFrame(data)"
      ],
      "metadata": {
        "id": "GYyeXTbMOz3A"
      },
      "execution_count": 3,
      "outputs": []
    },
    {
      "cell_type": "markdown",
      "source": [
        "### Tokenizer to Process Text"
      ],
      "metadata": {
        "id": "cwQCqPvfUR7g"
      }
    },
    {
      "cell_type": "code",
      "source": [
        "# Tokenize and prepare data\n",
        "tokenizer = Tokenizer()\n",
        "tokenizer.fit_on_texts(df[\"user_prompt\"])\n",
        "vocab_size = len(tokenizer.word_index) + 1\n",
        "max_length = max([len(x.split()) for x in df[\"user_prompt\"]])\n",
        "embedding_dim = 16\n",
        "\n",
        "# Convert text data into sequences\n",
        "X_text = tokenizer.texts_to_sequences(df[\"user_prompt\"])\n",
        "X_text = pad_sequences(X_text, maxlen=max_length, padding='post')\n",
        "print(X_text.shape)\n",
        "\n",
        "# Numeric input\n",
        "X_func_rating = np.array(df[\"func_rating\"]).reshape(-1, 1)\n",
        "print(X_func_rating.shape)\n",
        "\n",
        "# Target variable\n",
        "y = np.array(df[\"custom_rating\"]).reshape(-1, 1)\n",
        "print(y.shape)"
      ],
      "metadata": {
        "colab": {
          "base_uri": "https://localhost:8080/"
        },
        "id": "moxZqZxYO1aP",
        "outputId": "79b623bc-81f6-44c7-cd01-ffcd2020dc70"
      },
      "execution_count": 4,
      "outputs": [
        {
          "output_type": "stream",
          "name": "stdout",
          "text": [
            "(20, 8)\n",
            "(20, 1)\n",
            "(20, 1)\n"
          ]
        }
      ]
    },
    {
      "cell_type": "markdown",
      "source": [
        "## Instantiate Model"
      ],
      "metadata": {
        "id": "NVT9xIpSUU50"
      }
    },
    {
      "cell_type": "code",
      "source": [
        "# Create the model\n",
        "num_of_dense_layers = 2  # Example: 2 dense layers before concatenation\n",
        "model = create_nn_model(vocab_size, embedding_dim, max_length, num_of_dense_layers)"
      ],
      "metadata": {
        "colab": {
          "base_uri": "https://localhost:8080/"
        },
        "id": "7uAZerbZO_UA",
        "outputId": "91b11a13-2ec9-4ca1-a777-3add39891d24"
      },
      "execution_count": 5,
      "outputs": [
        {
          "output_type": "stream",
          "name": "stderr",
          "text": [
            "/usr/local/lib/python3.11/dist-packages/keras/src/layers/core/embedding.py:90: UserWarning: Argument `input_length` is deprecated. Just remove it.\n",
            "  warnings.warn(\n"
          ]
        }
      ]
    },
    {
      "cell_type": "markdown",
      "source": [
        "## Training"
      ],
      "metadata": {
        "id": "Es9AE-AVUXvd"
      }
    },
    {
      "cell_type": "code",
      "source": [
        "%%time\n",
        "\n",
        "# Train the model\n",
        "model.fit(\n",
        "    {\"text_input\": X_text, \"func_rating_input\": X_func_rating},\n",
        "    y,\n",
        "    epochs=200,\n",
        "    batch_size=2,\n",
        "    verbose=2\n",
        ")"
      ],
      "metadata": {
        "colab": {
          "base_uri": "https://localhost:8080/"
        },
        "id": "hNTu_mbjT9Wk",
        "outputId": "ed782b3f-45e5-4254-f42e-b6dccc20c6a1"
      },
      "execution_count": 6,
      "outputs": [
        {
          "output_type": "stream",
          "name": "stdout",
          "text": [
            "Epoch 1/200\n",
            "10/10 - 3s - 349ms/step - loss: 17.1425 - mae: 4.0802\n",
            "Epoch 2/200\n",
            "10/10 - 0s - 6ms/step - loss: 14.7081 - mae: 3.7749\n",
            "Epoch 3/200\n",
            "10/10 - 0s - 6ms/step - loss: 11.8023 - mae: 3.3677\n",
            "Epoch 4/200\n",
            "10/10 - 0s - 6ms/step - loss: 7.7183 - mae: 2.7156\n",
            "Epoch 5/200\n",
            "10/10 - 0s - 6ms/step - loss: 3.4160 - mae: 1.6723\n",
            "Epoch 6/200\n",
            "10/10 - 0s - 6ms/step - loss: 0.8596 - mae: 0.7359\n",
            "Epoch 7/200\n",
            "10/10 - 0s - 5ms/step - loss: 0.7324 - mae: 0.6978\n",
            "Epoch 8/200\n",
            "10/10 - 0s - 6ms/step - loss: 0.3930 - mae: 0.4576\n",
            "Epoch 9/200\n",
            "10/10 - 0s - 6ms/step - loss: 0.3098 - mae: 0.4465\n",
            "Epoch 10/200\n",
            "10/10 - 0s - 6ms/step - loss: 0.1710 - mae: 0.3052\n",
            "Epoch 11/200\n",
            "10/10 - 0s - 6ms/step - loss: 0.1121 - mae: 0.2496\n",
            "Epoch 12/200\n",
            "10/10 - 0s - 6ms/step - loss: 0.0539 - mae: 0.1782\n",
            "Epoch 13/200\n",
            "10/10 - 0s - 6ms/step - loss: 0.0376 - mae: 0.1546\n",
            "Epoch 14/200\n",
            "10/10 - 0s - 6ms/step - loss: 0.0262 - mae: 0.1167\n",
            "Epoch 15/200\n",
            "10/10 - 0s - 6ms/step - loss: 0.0156 - mae: 0.0872\n",
            "Epoch 16/200\n",
            "10/10 - 0s - 6ms/step - loss: 0.0096 - mae: 0.0617\n",
            "Epoch 17/200\n",
            "10/10 - 0s - 6ms/step - loss: 0.0058 - mae: 0.0470\n",
            "Epoch 18/200\n",
            "10/10 - 0s - 6ms/step - loss: 0.0032 - mae: 0.0328\n",
            "Epoch 19/200\n",
            "10/10 - 0s - 6ms/step - loss: 0.0021 - mae: 0.0271\n",
            "Epoch 20/200\n",
            "10/10 - 0s - 6ms/step - loss: 0.0013 - mae: 0.0194\n",
            "Epoch 21/200\n",
            "10/10 - 0s - 6ms/step - loss: 8.2305e-04 - mae: 0.0173\n",
            "Epoch 22/200\n",
            "10/10 - 0s - 6ms/step - loss: 4.4865e-04 - mae: 0.0126\n",
            "Epoch 23/200\n",
            "10/10 - 0s - 6ms/step - loss: 2.6723e-04 - mae: 0.0085\n",
            "Epoch 24/200\n",
            "10/10 - 0s - 6ms/step - loss: 1.6672e-04 - mae: 0.0073\n",
            "Epoch 25/200\n",
            "10/10 - 0s - 6ms/step - loss: 8.6640e-05 - mae: 0.0050\n",
            "Epoch 26/200\n",
            "10/10 - 0s - 6ms/step - loss: 4.1378e-05 - mae: 0.0033\n",
            "Epoch 27/200\n",
            "10/10 - 0s - 6ms/step - loss: 2.1606e-05 - mae: 0.0029\n",
            "Epoch 28/200\n",
            "10/10 - 0s - 6ms/step - loss: 1.1397e-05 - mae: 0.0020\n",
            "Epoch 29/200\n",
            "10/10 - 0s - 6ms/step - loss: 5.3963e-06 - mae: 0.0013\n",
            "Epoch 30/200\n",
            "10/10 - 0s - 6ms/step - loss: 2.8202e-06 - mae: 0.0011\n",
            "Epoch 31/200\n",
            "10/10 - 0s - 6ms/step - loss: 1.0724e-06 - mae: 7.2777e-04\n",
            "Epoch 32/200\n",
            "10/10 - 0s - 6ms/step - loss: 3.4061e-07 - mae: 3.5131e-04\n",
            "Epoch 33/200\n",
            "10/10 - 0s - 6ms/step - loss: 3.0969e-07 - mae: 3.4878e-04\n",
            "Epoch 34/200\n",
            "10/10 - 0s - 6ms/step - loss: 1.4746e-07 - mae: 2.3035e-04\n",
            "Epoch 35/200\n",
            "10/10 - 0s - 6ms/step - loss: 5.2066e-08 - mae: 1.6013e-04\n",
            "Epoch 36/200\n",
            "10/10 - 0s - 6ms/step - loss: 1.8974e-08 - mae: 9.6023e-05\n",
            "Epoch 37/200\n",
            "10/10 - 0s - 6ms/step - loss: 1.1702e-08 - mae: 8.3852e-05\n",
            "Epoch 38/200\n",
            "10/10 - 0s - 6ms/step - loss: 2.2805e-08 - mae: 1.0817e-04\n",
            "Epoch 39/200\n",
            "10/10 - 0s - 6ms/step - loss: 1.2791e-08 - mae: 8.3780e-05\n",
            "Epoch 40/200\n",
            "10/10 - 0s - 6ms/step - loss: 7.2259e-09 - mae: 6.3348e-05\n",
            "Epoch 41/200\n",
            "10/10 - 0s - 6ms/step - loss: 1.7091e-08 - mae: 9.2888e-05\n",
            "Epoch 42/200\n",
            "10/10 - 0s - 6ms/step - loss: 8.3137e-09 - mae: 6.7377e-05\n",
            "Epoch 43/200\n",
            "10/10 - 0s - 6ms/step - loss: 6.0666e-09 - mae: 5.9593e-05\n",
            "Epoch 44/200\n",
            "10/10 - 0s - 6ms/step - loss: 1.2179e-08 - mae: 7.6294e-05\n",
            "Epoch 45/200\n",
            "10/10 - 0s - 6ms/step - loss: 9.2094e-09 - mae: 6.9726e-05\n",
            "Epoch 46/200\n",
            "10/10 - 0s - 6ms/step - loss: 1.1253e-08 - mae: 6.2621e-05\n",
            "Epoch 47/200\n",
            "10/10 - 0s - 6ms/step - loss: 3.6268e-09 - mae: 4.7243e-05\n",
            "Epoch 48/200\n",
            "10/10 - 0s - 6ms/step - loss: 1.3309e-08 - mae: 7.2479e-05\n",
            "Epoch 49/200\n",
            "10/10 - 0s - 6ms/step - loss: 1.4577e-08 - mae: 8.2433e-05\n",
            "Epoch 50/200\n",
            "10/10 - 0s - 6ms/step - loss: 5.7373e-09 - mae: 5.5683e-05\n",
            "Epoch 51/200\n",
            "10/10 - 0s - 6ms/step - loss: 1.7406e-08 - mae: 8.2099e-05\n",
            "Epoch 52/200\n",
            "10/10 - 0s - 6ms/step - loss: 1.7644e-08 - mae: 1.0160e-04\n",
            "Epoch 53/200\n",
            "10/10 - 0s - 6ms/step - loss: 4.2259e-08 - mae: 1.5963e-04\n",
            "Epoch 54/200\n",
            "10/10 - 0s - 6ms/step - loss: 4.4114e-08 - mae: 1.6019e-04\n",
            "Epoch 55/200\n",
            "10/10 - 0s - 6ms/step - loss: 1.5054e-08 - mae: 9.3138e-05\n",
            "Epoch 56/200\n",
            "10/10 - 0s - 6ms/step - loss: 1.2611e-08 - mae: 8.5092e-05\n",
            "Epoch 57/200\n",
            "10/10 - 0s - 6ms/step - loss: 9.0646e-09 - mae: 5.8591e-05\n",
            "Epoch 58/200\n",
            "10/10 - 0s - 6ms/step - loss: 1.0712e-08 - mae: 7.3612e-05\n",
            "Epoch 59/200\n",
            "10/10 - 0s - 6ms/step - loss: 1.9434e-08 - mae: 9.7609e-05\n",
            "Epoch 60/200\n",
            "10/10 - 0s - 6ms/step - loss: 8.4292e-09 - mae: 7.6056e-05\n",
            "Epoch 61/200\n",
            "10/10 - 0s - 6ms/step - loss: 1.2882e-08 - mae: 7.6497e-05\n",
            "Epoch 62/200\n",
            "10/10 - 0s - 6ms/step - loss: 1.2962e-08 - mae: 7.6246e-05\n",
            "Epoch 63/200\n",
            "10/10 - 0s - 6ms/step - loss: 1.3228e-08 - mae: 7.8750e-05\n",
            "Epoch 64/200\n",
            "10/10 - 0s - 6ms/step - loss: 1.3986e-08 - mae: 7.4625e-05\n",
            "Epoch 65/200\n",
            "10/10 - 0s - 6ms/step - loss: 1.0807e-08 - mae: 7.6020e-05\n",
            "Epoch 66/200\n",
            "10/10 - 0s - 6ms/step - loss: 1.0170e-08 - mae: 7.6246e-05\n",
            "Epoch 67/200\n",
            "10/10 - 0s - 6ms/step - loss: 1.9769e-08 - mae: 9.2340e-05\n",
            "Epoch 68/200\n",
            "10/10 - 0s - 6ms/step - loss: 3.7923e-08 - mae: 1.5180e-04\n",
            "Epoch 69/200\n",
            "10/10 - 0s - 6ms/step - loss: 3.6727e-08 - mae: 1.3757e-04\n",
            "Epoch 70/200\n",
            "10/10 - 0s - 6ms/step - loss: 1.8706e-08 - mae: 9.4807e-05\n",
            "Epoch 71/200\n",
            "10/10 - 0s - 6ms/step - loss: 2.3475e-08 - mae: 1.0904e-04\n",
            "Epoch 72/200\n",
            "10/10 - 0s - 6ms/step - loss: 1.9771e-08 - mae: 1.0893e-04\n",
            "Epoch 73/200\n",
            "10/10 - 0s - 6ms/step - loss: 2.2311e-08 - mae: 1.0129e-04\n",
            "Epoch 74/200\n",
            "10/10 - 0s - 6ms/step - loss: 1.7034e-08 - mae: 8.1217e-05\n",
            "Epoch 75/200\n",
            "10/10 - 0s - 6ms/step - loss: 5.4300e-09 - mae: 5.8210e-05\n",
            "Epoch 76/200\n",
            "10/10 - 0s - 6ms/step - loss: 1.2444e-08 - mae: 6.8390e-05\n",
            "Epoch 77/200\n",
            "10/10 - 0s - 6ms/step - loss: 1.2298e-08 - mae: 7.7426e-05\n",
            "Epoch 78/200\n",
            "10/10 - 0s - 6ms/step - loss: 1.1775e-08 - mae: 7.9870e-05\n",
            "Epoch 79/200\n",
            "10/10 - 0s - 6ms/step - loss: 2.6595e-08 - mae: 1.0008e-04\n",
            "Epoch 80/200\n",
            "10/10 - 0s - 6ms/step - loss: 2.4464e-08 - mae: 1.0707e-04\n",
            "Epoch 81/200\n",
            "10/10 - 0s - 6ms/step - loss: 3.8036e-08 - mae: 1.5465e-04\n",
            "Epoch 82/200\n",
            "10/10 - 0s - 6ms/step - loss: 1.4299e-08 - mae: 8.5306e-05\n",
            "Epoch 83/200\n",
            "10/10 - 0s - 6ms/step - loss: 2.0703e-08 - mae: 9.9683e-05\n",
            "Epoch 84/200\n",
            "10/10 - 0s - 6ms/step - loss: 1.3221e-08 - mae: 8.5330e-05\n",
            "Epoch 85/200\n",
            "10/10 - 0s - 6ms/step - loss: 1.1119e-08 - mae: 8.0860e-05\n",
            "Epoch 86/200\n",
            "10/10 - 0s - 6ms/step - loss: 1.4862e-08 - mae: 8.1086e-05\n",
            "Epoch 87/200\n",
            "10/10 - 0s - 6ms/step - loss: 3.2836e-09 - mae: 4.4322e-05\n",
            "Epoch 88/200\n",
            "10/10 - 0s - 6ms/step - loss: 1.4464e-08 - mae: 7.1430e-05\n",
            "Epoch 89/200\n",
            "10/10 - 0s - 6ms/step - loss: 9.3468e-09 - mae: 6.3503e-05\n",
            "Epoch 90/200\n",
            "10/10 - 0s - 6ms/step - loss: 9.6343e-09 - mae: 7.3934e-05\n",
            "Epoch 91/200\n",
            "10/10 - 0s - 6ms/step - loss: 5.1850e-09 - mae: 5.9021e-05\n",
            "Epoch 92/200\n",
            "10/10 - 0s - 6ms/step - loss: 1.2825e-08 - mae: 7.6401e-05\n",
            "Epoch 93/200\n",
            "10/10 - 0s - 6ms/step - loss: 1.2881e-08 - mae: 7.5769e-05\n",
            "Epoch 94/200\n",
            "10/10 - 0s - 6ms/step - loss: 3.6348e-08 - mae: 1.3732e-04\n",
            "Epoch 95/200\n",
            "10/10 - 0s - 6ms/step - loss: 3.0412e-08 - mae: 1.4241e-04\n",
            "Epoch 96/200\n",
            "10/10 - 0s - 6ms/step - loss: 2.6758e-08 - mae: 1.2810e-04\n",
            "Epoch 97/200\n",
            "10/10 - 0s - 6ms/step - loss: 8.5621e-09 - mae: 6.7592e-05\n",
            "Epoch 98/200\n",
            "10/10 - 0s - 6ms/step - loss: 1.6242e-08 - mae: 7.8332e-05\n",
            "Epoch 99/200\n",
            "10/10 - 0s - 6ms/step - loss: 1.5881e-08 - mae: 8.7368e-05\n",
            "Epoch 100/200\n",
            "10/10 - 0s - 6ms/step - loss: 1.7081e-08 - mae: 9.8073e-05\n",
            "Epoch 101/200\n",
            "10/10 - 0s - 6ms/step - loss: 1.9221e-08 - mae: 8.8620e-05\n",
            "Epoch 102/200\n",
            "10/10 - 0s - 6ms/step - loss: 4.5763e-08 - mae: 1.3697e-04\n",
            "Epoch 103/200\n",
            "10/10 - 0s - 6ms/step - loss: 4.2046e-08 - mae: 1.3037e-04\n",
            "Epoch 104/200\n",
            "10/10 - 0s - 6ms/step - loss: 2.5563e-08 - mae: 1.0506e-04\n",
            "Epoch 105/200\n",
            "10/10 - 0s - 6ms/step - loss: 2.7853e-08 - mae: 1.2379e-04\n",
            "Epoch 106/200\n",
            "10/10 - 0s - 6ms/step - loss: 2.8175e-08 - mae: 1.3126e-04\n",
            "Epoch 107/200\n",
            "10/10 - 0s - 6ms/step - loss: 3.2873e-08 - mae: 1.2137e-04\n",
            "Epoch 108/200\n",
            "10/10 - 0s - 6ms/step - loss: 3.7300e-08 - mae: 1.4544e-04\n",
            "Epoch 109/200\n",
            "10/10 - 0s - 6ms/step - loss: 1.0664e-08 - mae: 7.4732e-05\n",
            "Epoch 110/200\n",
            "10/10 - 0s - 6ms/step - loss: 7.4813e-09 - mae: 6.9225e-05\n",
            "Epoch 111/200\n",
            "10/10 - 0s - 6ms/step - loss: 2.3323e-08 - mae: 1.1592e-04\n",
            "Epoch 112/200\n",
            "10/10 - 0s - 6ms/step - loss: 3.6281e-08 - mae: 1.2686e-04\n",
            "Epoch 113/200\n",
            "10/10 - 0s - 7ms/step - loss: 2.6901e-08 - mae: 1.2151e-04\n",
            "Epoch 114/200\n",
            "10/10 - 0s - 6ms/step - loss: 1.8050e-08 - mae: 9.9790e-05\n",
            "Epoch 115/200\n",
            "10/10 - 0s - 6ms/step - loss: 3.2323e-08 - mae: 1.4228e-04\n",
            "Epoch 116/200\n",
            "10/10 - 0s - 6ms/step - loss: 5.4579e-08 - mae: 1.9523e-04\n",
            "Epoch 117/200\n",
            "10/10 - 0s - 6ms/step - loss: 9.8429e-08 - mae: 2.5268e-04\n",
            "Epoch 118/200\n",
            "10/10 - 0s - 6ms/step - loss: 8.8192e-08 - mae: 2.5213e-04\n",
            "Epoch 119/200\n",
            "10/10 - 0s - 6ms/step - loss: 7.7223e-08 - mae: 2.1255e-04\n",
            "Epoch 120/200\n",
            "10/10 - 0s - 6ms/step - loss: 5.8610e-08 - mae: 1.8181e-04\n",
            "Epoch 121/200\n",
            "10/10 - 0s - 6ms/step - loss: 5.1475e-08 - mae: 1.5062e-04\n",
            "Epoch 122/200\n",
            "10/10 - 0s - 6ms/step - loss: 2.5605e-08 - mae: 1.2290e-04\n",
            "Epoch 123/200\n",
            "10/10 - 0s - 6ms/step - loss: 6.4954e-08 - mae: 1.5898e-04\n",
            "Epoch 124/200\n",
            "10/10 - 0s - 6ms/step - loss: 2.2734e-08 - mae: 1.1557e-04\n",
            "Epoch 125/200\n",
            "10/10 - 0s - 6ms/step - loss: 3.8555e-08 - mae: 1.5020e-04\n",
            "Epoch 126/200\n",
            "10/10 - 0s - 6ms/step - loss: 3.7391e-08 - mae: 1.5484e-04\n",
            "Epoch 127/200\n",
            "10/10 - 0s - 6ms/step - loss: 6.4960e-08 - mae: 1.8866e-04\n",
            "Epoch 128/200\n",
            "10/10 - 0s - 6ms/step - loss: 6.5572e-08 - mae: 1.7881e-04\n",
            "Epoch 129/200\n",
            "10/10 - 0s - 6ms/step - loss: 4.9207e-08 - mae: 1.5837e-04\n",
            "Epoch 130/200\n",
            "10/10 - 0s - 6ms/step - loss: 3.5429e-08 - mae: 1.5006e-04\n",
            "Epoch 131/200\n",
            "10/10 - 0s - 6ms/step - loss: 2.2568e-08 - mae: 1.1945e-04\n",
            "Epoch 132/200\n",
            "10/10 - 0s - 6ms/step - loss: 2.9312e-08 - mae: 1.2594e-04\n",
            "Epoch 133/200\n",
            "10/10 - 0s - 6ms/step - loss: 3.5252e-08 - mae: 1.3911e-04\n",
            "Epoch 134/200\n",
            "10/10 - 0s - 6ms/step - loss: 3.7720e-08 - mae: 1.2637e-04\n",
            "Epoch 135/200\n",
            "10/10 - 0s - 6ms/step - loss: 3.1267e-08 - mae: 1.4342e-04\n",
            "Epoch 136/200\n",
            "10/10 - 0s - 6ms/step - loss: 7.0267e-08 - mae: 2.0336e-04\n",
            "Epoch 137/200\n",
            "10/10 - 0s - 6ms/step - loss: 3.7897e-08 - mae: 1.5334e-04\n",
            "Epoch 138/200\n",
            "10/10 - 0s - 6ms/step - loss: 4.3725e-08 - mae: 1.4285e-04\n",
            "Epoch 139/200\n",
            "10/10 - 0s - 6ms/step - loss: 4.9972e-08 - mae: 1.5750e-04\n",
            "Epoch 140/200\n",
            "10/10 - 0s - 6ms/step - loss: 2.5370e-08 - mae: 1.1318e-04\n",
            "Epoch 141/200\n",
            "10/10 - 0s - 6ms/step - loss: 2.3601e-08 - mae: 1.2524e-04\n",
            "Epoch 142/200\n",
            "10/10 - 0s - 6ms/step - loss: 4.5425e-08 - mae: 1.7763e-04\n",
            "Epoch 143/200\n",
            "10/10 - 0s - 7ms/step - loss: 1.1633e-07 - mae: 2.5945e-04\n",
            "Epoch 144/200\n",
            "10/10 - 0s - 8ms/step - loss: 6.9633e-08 - mae: 2.1057e-04\n",
            "Epoch 145/200\n",
            "10/10 - 0s - 7ms/step - loss: 4.1664e-08 - mae: 1.4230e-04\n",
            "Epoch 146/200\n",
            "10/10 - 0s - 8ms/step - loss: 2.2531e-08 - mae: 1.1691e-04\n",
            "Epoch 147/200\n",
            "10/10 - 0s - 8ms/step - loss: 2.9106e-08 - mae: 1.1491e-04\n",
            "Epoch 148/200\n",
            "10/10 - 0s - 8ms/step - loss: 1.7752e-08 - mae: 1.0825e-04\n",
            "Epoch 149/200\n",
            "10/10 - 0s - 7ms/step - loss: 2.2840e-08 - mae: 1.0034e-04\n",
            "Epoch 150/200\n",
            "10/10 - 0s - 7ms/step - loss: 1.9535e-08 - mae: 1.0620e-04\n",
            "Epoch 151/200\n",
            "10/10 - 0s - 7ms/step - loss: 6.1801e-08 - mae: 2.0823e-04\n",
            "Epoch 152/200\n",
            "10/10 - 0s - 7ms/step - loss: 9.2488e-08 - mae: 2.1986e-04\n",
            "Epoch 153/200\n",
            "10/10 - 0s - 6ms/step - loss: 7.1073e-08 - mae: 2.2302e-04\n",
            "Epoch 154/200\n",
            "10/10 - 0s - 7ms/step - loss: 1.3937e-07 - mae: 3.0928e-04\n",
            "Epoch 155/200\n",
            "10/10 - 0s - 7ms/step - loss: 1.3873e-07 - mae: 3.1292e-04\n",
            "Epoch 156/200\n",
            "10/10 - 0s - 6ms/step - loss: 8.4058e-08 - mae: 1.9802e-04\n",
            "Epoch 157/200\n",
            "10/10 - 0s - 6ms/step - loss: 5.4618e-08 - mae: 1.7226e-04\n",
            "Epoch 158/200\n",
            "10/10 - 0s - 7ms/step - loss: 2.7614e-08 - mae: 1.1321e-04\n",
            "Epoch 159/200\n",
            "10/10 - 0s - 7ms/step - loss: 5.7730e-08 - mae: 1.8275e-04\n",
            "Epoch 160/200\n",
            "10/10 - 0s - 6ms/step - loss: 1.2230e-07 - mae: 2.5809e-04\n",
            "Epoch 161/200\n",
            "10/10 - 0s - 6ms/step - loss: 1.1127e-07 - mae: 2.6877e-04\n",
            "Epoch 162/200\n",
            "10/10 - 0s - 7ms/step - loss: 1.3476e-07 - mae: 2.5089e-04\n",
            "Epoch 163/200\n",
            "10/10 - 0s - 8ms/step - loss: 2.1196e-07 - mae: 3.0490e-04\n",
            "Epoch 164/200\n",
            "10/10 - 0s - 8ms/step - loss: 1.8057e-07 - mae: 3.4055e-04\n",
            "Epoch 165/200\n",
            "10/10 - 0s - 8ms/step - loss: 3.3480e-07 - mae: 4.6649e-04\n",
            "Epoch 166/200\n",
            "10/10 - 0s - 8ms/step - loss: 8.6117e-08 - mae: 2.2076e-04\n",
            "Epoch 167/200\n",
            "10/10 - 0s - 7ms/step - loss: 9.1399e-08 - mae: 1.9325e-04\n",
            "Epoch 168/200\n",
            "10/10 - 0s - 7ms/step - loss: 7.8669e-08 - mae: 2.3220e-04\n",
            "Epoch 169/200\n",
            "10/10 - 0s - 7ms/step - loss: 1.8741e-07 - mae: 2.8582e-04\n",
            "Epoch 170/200\n",
            "10/10 - 0s - 7ms/step - loss: 4.4364e-08 - mae: 1.6096e-04\n",
            "Epoch 171/200\n",
            "10/10 - 0s - 7ms/step - loss: 8.0944e-08 - mae: 1.7678e-04\n",
            "Epoch 172/200\n",
            "10/10 - 0s - 7ms/step - loss: 8.8126e-08 - mae: 1.9504e-04\n",
            "Epoch 173/200\n",
            "10/10 - 0s - 7ms/step - loss: 1.0286e-07 - mae: 2.0350e-04\n",
            "Epoch 174/200\n",
            "10/10 - 0s - 7ms/step - loss: 1.2284e-07 - mae: 2.6441e-04\n",
            "Epoch 175/200\n",
            "10/10 - 0s - 7ms/step - loss: 2.2339e-07 - mae: 4.0951e-04\n",
            "Epoch 176/200\n",
            "10/10 - 0s - 7ms/step - loss: 4.3387e-07 - mae: 5.8528e-04\n",
            "Epoch 177/200\n",
            "10/10 - 0s - 8ms/step - loss: 3.7817e-07 - mae: 4.7814e-04\n",
            "Epoch 178/200\n",
            "10/10 - 0s - 8ms/step - loss: 5.8967e-07 - mae: 5.5304e-04\n",
            "Epoch 179/200\n",
            "10/10 - 0s - 8ms/step - loss: 1.4437e-06 - mae: 9.5550e-04\n",
            "Epoch 180/200\n",
            "10/10 - 0s - 7ms/step - loss: 1.5098e-06 - mae: 9.9106e-04\n",
            "Epoch 181/200\n",
            "10/10 - 0s - 8ms/step - loss: 1.2090e-06 - mae: 8.6563e-04\n",
            "Epoch 182/200\n",
            "10/10 - 0s - 7ms/step - loss: 2.0700e-06 - mae: 0.0012\n",
            "Epoch 183/200\n",
            "10/10 - 0s - 8ms/step - loss: 2.9218e-06 - mae: 0.0014\n",
            "Epoch 184/200\n",
            "10/10 - 0s - 7ms/step - loss: 2.9819e-06 - mae: 0.0014\n",
            "Epoch 185/200\n",
            "10/10 - 0s - 7ms/step - loss: 1.8544e-06 - mae: 0.0011\n",
            "Epoch 186/200\n",
            "10/10 - 0s - 7ms/step - loss: 5.5470e-06 - mae: 0.0020\n",
            "Epoch 187/200\n",
            "10/10 - 0s - 7ms/step - loss: 4.2873e-06 - mae: 0.0017\n",
            "Epoch 188/200\n",
            "10/10 - 0s - 7ms/step - loss: 5.4635e-06 - mae: 0.0019\n",
            "Epoch 189/200\n",
            "10/10 - 0s - 7ms/step - loss: 9.9425e-06 - mae: 0.0027\n",
            "Epoch 190/200\n",
            "10/10 - 0s - 8ms/step - loss: 9.2467e-06 - mae: 0.0026\n",
            "Epoch 191/200\n",
            "10/10 - 0s - 7ms/step - loss: 3.7365e-06 - mae: 0.0016\n",
            "Epoch 192/200\n",
            "10/10 - 0s - 7ms/step - loss: 9.9530e-06 - mae: 0.0026\n",
            "Epoch 193/200\n",
            "10/10 - 0s - 7ms/step - loss: 9.7489e-06 - mae: 0.0027\n",
            "Epoch 194/200\n",
            "10/10 - 0s - 7ms/step - loss: 5.7364e-06 - mae: 0.0020\n",
            "Epoch 195/200\n",
            "10/10 - 0s - 7ms/step - loss: 9.1844e-06 - mae: 0.0022\n",
            "Epoch 196/200\n",
            "10/10 - 0s - 7ms/step - loss: 5.1826e-06 - mae: 0.0017\n",
            "Epoch 197/200\n",
            "10/10 - 0s - 7ms/step - loss: 1.2615e-05 - mae: 0.0025\n",
            "Epoch 198/200\n",
            "10/10 - 0s - 7ms/step - loss: 9.9750e-06 - mae: 0.0027\n",
            "Epoch 199/200\n",
            "10/10 - 0s - 7ms/step - loss: 2.5735e-05 - mae: 0.0045\n",
            "Epoch 200/200\n",
            "10/10 - 0s - 8ms/step - loss: 2.8529e-05 - mae: 0.0040\n",
            "CPU times: user 20.6 s, sys: 1.76 s, total: 22.3 s\n",
            "Wall time: 16.6 s\n"
          ]
        },
        {
          "output_type": "execute_result",
          "data": {
            "text/plain": [
              "<keras.src.callbacks.history.History at 0x787ae5222190>"
            ]
          },
          "metadata": {},
          "execution_count": 6
        }
      ]
    },
    {
      "cell_type": "code",
      "source": [
        "# Display the model summary\n",
        "model.summary()"
      ],
      "metadata": {
        "colab": {
          "base_uri": "https://localhost:8080/",
          "height": 484
        },
        "id": "PSdlbIL6PB8S",
        "outputId": "8d53b126-0134-48d1-a639-ce6f7a6de7f4"
      },
      "execution_count": 7,
      "outputs": [
        {
          "output_type": "display_data",
          "data": {
            "text/plain": [
              "\u001b[1mModel: \"functional\"\u001b[0m\n"
            ],
            "text/html": [
              "<pre style=\"white-space:pre;overflow-x:auto;line-height:normal;font-family:Menlo,'DejaVu Sans Mono',consolas,'Courier New',monospace\"><span style=\"font-weight: bold\">Model: \"functional\"</span>\n",
              "</pre>\n"
            ]
          },
          "metadata": {}
        },
        {
          "output_type": "display_data",
          "data": {
            "text/plain": [
              "┏━━━━━━━━━━━━━━━━━━━━━━━━━━━┳━━━━━━━━━━━━━━━━━━━━━━━━┳━━━━━━━━━━━━━━━━┳━━━━━━━━━━━━━━━━━━━━━━━━┓\n",
              "┃\u001b[1m \u001b[0m\u001b[1mLayer (type)             \u001b[0m\u001b[1m \u001b[0m┃\u001b[1m \u001b[0m\u001b[1mOutput Shape          \u001b[0m\u001b[1m \u001b[0m┃\u001b[1m \u001b[0m\u001b[1m       Param #\u001b[0m\u001b[1m \u001b[0m┃\u001b[1m \u001b[0m\u001b[1mConnected to          \u001b[0m\u001b[1m \u001b[0m┃\n",
              "┡━━━━━━━━━━━━━━━━━━━━━━━━━━━╇━━━━━━━━━━━━━━━━━━━━━━━━╇━━━━━━━━━━━━━━━━╇━━━━━━━━━━━━━━━━━━━━━━━━┩\n",
              "│ text_input (\u001b[38;5;33mInputLayer\u001b[0m)   │ (\u001b[38;5;45mNone\u001b[0m, \u001b[38;5;34m8\u001b[0m)              │              \u001b[38;5;34m0\u001b[0m │ -                      │\n",
              "├───────────────────────────┼────────────────────────┼────────────────┼────────────────────────┤\n",
              "│ embedding (\u001b[38;5;33mEmbedding\u001b[0m)     │ (\u001b[38;5;45mNone\u001b[0m, \u001b[38;5;34m8\u001b[0m, \u001b[38;5;34m16\u001b[0m)          │          \u001b[38;5;34m1,376\u001b[0m │ text_input[\u001b[38;5;34m0\u001b[0m][\u001b[38;5;34m0\u001b[0m]       │\n",
              "├───────────────────────────┼────────────────────────┼────────────────┼────────────────────────┤\n",
              "│ flatten (\u001b[38;5;33mFlatten\u001b[0m)         │ (\u001b[38;5;45mNone\u001b[0m, \u001b[38;5;34m128\u001b[0m)            │              \u001b[38;5;34m0\u001b[0m │ embedding[\u001b[38;5;34m0\u001b[0m][\u001b[38;5;34m0\u001b[0m]        │\n",
              "├───────────────────────────┼────────────────────────┼────────────────┼────────────────────────┤\n",
              "│ dense (\u001b[38;5;33mDense\u001b[0m)             │ (\u001b[38;5;45mNone\u001b[0m, \u001b[38;5;34m64\u001b[0m)             │          \u001b[38;5;34m8,256\u001b[0m │ flatten[\u001b[38;5;34m0\u001b[0m][\u001b[38;5;34m0\u001b[0m]          │\n",
              "├───────────────────────────┼────────────────────────┼────────────────┼────────────────────────┤\n",
              "│ func_rating_input         │ (\u001b[38;5;45mNone\u001b[0m, \u001b[38;5;34m1\u001b[0m)              │              \u001b[38;5;34m0\u001b[0m │ -                      │\n",
              "│ (\u001b[38;5;33mInputLayer\u001b[0m)              │                        │                │                        │\n",
              "├───────────────────────────┼────────────────────────┼────────────────┼────────────────────────┤\n",
              "│ dense_1 (\u001b[38;5;33mDense\u001b[0m)           │ (\u001b[38;5;45mNone\u001b[0m, \u001b[38;5;34m64\u001b[0m)             │          \u001b[38;5;34m4,160\u001b[0m │ dense[\u001b[38;5;34m0\u001b[0m][\u001b[38;5;34m0\u001b[0m]            │\n",
              "├───────────────────────────┼────────────────────────┼────────────────┼────────────────────────┤\n",
              "│ dense_2 (\u001b[38;5;33mDense\u001b[0m)           │ (\u001b[38;5;45mNone\u001b[0m, \u001b[38;5;34m32\u001b[0m)             │             \u001b[38;5;34m64\u001b[0m │ func_rating_input[\u001b[38;5;34m0\u001b[0m][\u001b[38;5;34m…\u001b[0m │\n",
              "├───────────────────────────┼────────────────────────┼────────────────┼────────────────────────┤\n",
              "│ concatenate (\u001b[38;5;33mConcatenate\u001b[0m) │ (\u001b[38;5;45mNone\u001b[0m, \u001b[38;5;34m96\u001b[0m)             │              \u001b[38;5;34m0\u001b[0m │ dense_1[\u001b[38;5;34m0\u001b[0m][\u001b[38;5;34m0\u001b[0m],         │\n",
              "│                           │                        │                │ dense_2[\u001b[38;5;34m0\u001b[0m][\u001b[38;5;34m0\u001b[0m]          │\n",
              "├───────────────────────────┼────────────────────────┼────────────────┼────────────────────────┤\n",
              "│ output (\u001b[38;5;33mDense\u001b[0m)            │ (\u001b[38;5;45mNone\u001b[0m, \u001b[38;5;34m1\u001b[0m)              │             \u001b[38;5;34m97\u001b[0m │ concatenate[\u001b[38;5;34m0\u001b[0m][\u001b[38;5;34m0\u001b[0m]      │\n",
              "└───────────────────────────┴────────────────────────┴────────────────┴────────────────────────┘\n"
            ],
            "text/html": [
              "<pre style=\"white-space:pre;overflow-x:auto;line-height:normal;font-family:Menlo,'DejaVu Sans Mono',consolas,'Courier New',monospace\">┏━━━━━━━━━━━━━━━━━━━━━━━━━━━┳━━━━━━━━━━━━━━━━━━━━━━━━┳━━━━━━━━━━━━━━━━┳━━━━━━━━━━━━━━━━━━━━━━━━┓\n",
              "┃<span style=\"font-weight: bold\"> Layer (type)              </span>┃<span style=\"font-weight: bold\"> Output Shape           </span>┃<span style=\"font-weight: bold\">        Param # </span>┃<span style=\"font-weight: bold\"> Connected to           </span>┃\n",
              "┡━━━━━━━━━━━━━━━━━━━━━━━━━━━╇━━━━━━━━━━━━━━━━━━━━━━━━╇━━━━━━━━━━━━━━━━╇━━━━━━━━━━━━━━━━━━━━━━━━┩\n",
              "│ text_input (<span style=\"color: #0087ff; text-decoration-color: #0087ff\">InputLayer</span>)   │ (<span style=\"color: #00d7ff; text-decoration-color: #00d7ff\">None</span>, <span style=\"color: #00af00; text-decoration-color: #00af00\">8</span>)              │              <span style=\"color: #00af00; text-decoration-color: #00af00\">0</span> │ -                      │\n",
              "├───────────────────────────┼────────────────────────┼────────────────┼────────────────────────┤\n",
              "│ embedding (<span style=\"color: #0087ff; text-decoration-color: #0087ff\">Embedding</span>)     │ (<span style=\"color: #00d7ff; text-decoration-color: #00d7ff\">None</span>, <span style=\"color: #00af00; text-decoration-color: #00af00\">8</span>, <span style=\"color: #00af00; text-decoration-color: #00af00\">16</span>)          │          <span style=\"color: #00af00; text-decoration-color: #00af00\">1,376</span> │ text_input[<span style=\"color: #00af00; text-decoration-color: #00af00\">0</span>][<span style=\"color: #00af00; text-decoration-color: #00af00\">0</span>]       │\n",
              "├───────────────────────────┼────────────────────────┼────────────────┼────────────────────────┤\n",
              "│ flatten (<span style=\"color: #0087ff; text-decoration-color: #0087ff\">Flatten</span>)         │ (<span style=\"color: #00d7ff; text-decoration-color: #00d7ff\">None</span>, <span style=\"color: #00af00; text-decoration-color: #00af00\">128</span>)            │              <span style=\"color: #00af00; text-decoration-color: #00af00\">0</span> │ embedding[<span style=\"color: #00af00; text-decoration-color: #00af00\">0</span>][<span style=\"color: #00af00; text-decoration-color: #00af00\">0</span>]        │\n",
              "├───────────────────────────┼────────────────────────┼────────────────┼────────────────────────┤\n",
              "│ dense (<span style=\"color: #0087ff; text-decoration-color: #0087ff\">Dense</span>)             │ (<span style=\"color: #00d7ff; text-decoration-color: #00d7ff\">None</span>, <span style=\"color: #00af00; text-decoration-color: #00af00\">64</span>)             │          <span style=\"color: #00af00; text-decoration-color: #00af00\">8,256</span> │ flatten[<span style=\"color: #00af00; text-decoration-color: #00af00\">0</span>][<span style=\"color: #00af00; text-decoration-color: #00af00\">0</span>]          │\n",
              "├───────────────────────────┼────────────────────────┼────────────────┼────────────────────────┤\n",
              "│ func_rating_input         │ (<span style=\"color: #00d7ff; text-decoration-color: #00d7ff\">None</span>, <span style=\"color: #00af00; text-decoration-color: #00af00\">1</span>)              │              <span style=\"color: #00af00; text-decoration-color: #00af00\">0</span> │ -                      │\n",
              "│ (<span style=\"color: #0087ff; text-decoration-color: #0087ff\">InputLayer</span>)              │                        │                │                        │\n",
              "├───────────────────────────┼────────────────────────┼────────────────┼────────────────────────┤\n",
              "│ dense_1 (<span style=\"color: #0087ff; text-decoration-color: #0087ff\">Dense</span>)           │ (<span style=\"color: #00d7ff; text-decoration-color: #00d7ff\">None</span>, <span style=\"color: #00af00; text-decoration-color: #00af00\">64</span>)             │          <span style=\"color: #00af00; text-decoration-color: #00af00\">4,160</span> │ dense[<span style=\"color: #00af00; text-decoration-color: #00af00\">0</span>][<span style=\"color: #00af00; text-decoration-color: #00af00\">0</span>]            │\n",
              "├───────────────────────────┼────────────────────────┼────────────────┼────────────────────────┤\n",
              "│ dense_2 (<span style=\"color: #0087ff; text-decoration-color: #0087ff\">Dense</span>)           │ (<span style=\"color: #00d7ff; text-decoration-color: #00d7ff\">None</span>, <span style=\"color: #00af00; text-decoration-color: #00af00\">32</span>)             │             <span style=\"color: #00af00; text-decoration-color: #00af00\">64</span> │ func_rating_input[<span style=\"color: #00af00; text-decoration-color: #00af00\">0</span>][<span style=\"color: #00af00; text-decoration-color: #00af00\">…</span> │\n",
              "├───────────────────────────┼────────────────────────┼────────────────┼────────────────────────┤\n",
              "│ concatenate (<span style=\"color: #0087ff; text-decoration-color: #0087ff\">Concatenate</span>) │ (<span style=\"color: #00d7ff; text-decoration-color: #00d7ff\">None</span>, <span style=\"color: #00af00; text-decoration-color: #00af00\">96</span>)             │              <span style=\"color: #00af00; text-decoration-color: #00af00\">0</span> │ dense_1[<span style=\"color: #00af00; text-decoration-color: #00af00\">0</span>][<span style=\"color: #00af00; text-decoration-color: #00af00\">0</span>],         │\n",
              "│                           │                        │                │ dense_2[<span style=\"color: #00af00; text-decoration-color: #00af00\">0</span>][<span style=\"color: #00af00; text-decoration-color: #00af00\">0</span>]          │\n",
              "├───────────────────────────┼────────────────────────┼────────────────┼────────────────────────┤\n",
              "│ output (<span style=\"color: #0087ff; text-decoration-color: #0087ff\">Dense</span>)            │ (<span style=\"color: #00d7ff; text-decoration-color: #00d7ff\">None</span>, <span style=\"color: #00af00; text-decoration-color: #00af00\">1</span>)              │             <span style=\"color: #00af00; text-decoration-color: #00af00\">97</span> │ concatenate[<span style=\"color: #00af00; text-decoration-color: #00af00\">0</span>][<span style=\"color: #00af00; text-decoration-color: #00af00\">0</span>]      │\n",
              "└───────────────────────────┴────────────────────────┴────────────────┴────────────────────────┘\n",
              "</pre>\n"
            ]
          },
          "metadata": {}
        },
        {
          "output_type": "display_data",
          "data": {
            "text/plain": [
              "\u001b[1m Total params: \u001b[0m\u001b[38;5;34m41,861\u001b[0m (163.52 KB)\n"
            ],
            "text/html": [
              "<pre style=\"white-space:pre;overflow-x:auto;line-height:normal;font-family:Menlo,'DejaVu Sans Mono',consolas,'Courier New',monospace\"><span style=\"font-weight: bold\"> Total params: </span><span style=\"color: #00af00; text-decoration-color: #00af00\">41,861</span> (163.52 KB)\n",
              "</pre>\n"
            ]
          },
          "metadata": {}
        },
        {
          "output_type": "display_data",
          "data": {
            "text/plain": [
              "\u001b[1m Trainable params: \u001b[0m\u001b[38;5;34m13,953\u001b[0m (54.50 KB)\n"
            ],
            "text/html": [
              "<pre style=\"white-space:pre;overflow-x:auto;line-height:normal;font-family:Menlo,'DejaVu Sans Mono',consolas,'Courier New',monospace\"><span style=\"font-weight: bold\"> Trainable params: </span><span style=\"color: #00af00; text-decoration-color: #00af00\">13,953</span> (54.50 KB)\n",
              "</pre>\n"
            ]
          },
          "metadata": {}
        },
        {
          "output_type": "display_data",
          "data": {
            "text/plain": [
              "\u001b[1m Non-trainable params: \u001b[0m\u001b[38;5;34m0\u001b[0m (0.00 B)\n"
            ],
            "text/html": [
              "<pre style=\"white-space:pre;overflow-x:auto;line-height:normal;font-family:Menlo,'DejaVu Sans Mono',consolas,'Courier New',monospace\"><span style=\"font-weight: bold\"> Non-trainable params: </span><span style=\"color: #00af00; text-decoration-color: #00af00\">0</span> (0.00 B)\n",
              "</pre>\n"
            ]
          },
          "metadata": {}
        },
        {
          "output_type": "display_data",
          "data": {
            "text/plain": [
              "\u001b[1m Optimizer params: \u001b[0m\u001b[38;5;34m27,908\u001b[0m (109.02 KB)\n"
            ],
            "text/html": [
              "<pre style=\"white-space:pre;overflow-x:auto;line-height:normal;font-family:Menlo,'DejaVu Sans Mono',consolas,'Courier New',monospace\"><span style=\"font-weight: bold\"> Optimizer params: </span><span style=\"color: #00af00; text-decoration-color: #00af00\">27,908</span> (109.02 KB)\n",
              "</pre>\n"
            ]
          },
          "metadata": {}
        }
      ]
    },
    {
      "cell_type": "markdown",
      "source": [
        "## Create Repo on HF"
      ],
      "metadata": {
        "id": "FVAx30lWTtQd"
      }
    },
    {
      "cell_type": "code",
      "source": [
        "! pip install --upgrade huggingface_hub"
      ],
      "metadata": {
        "colab": {
          "base_uri": "https://localhost:8080/"
        },
        "id": "z965EE9wRMuN",
        "outputId": "826cd16d-8aae-4d14-e422-636cadd86413"
      },
      "execution_count": 8,
      "outputs": [
        {
          "output_type": "stream",
          "name": "stdout",
          "text": [
            "Requirement already satisfied: huggingface_hub in /usr/local/lib/python3.11/dist-packages (0.28.1)\n",
            "Requirement already satisfied: filelock in /usr/local/lib/python3.11/dist-packages (from huggingface_hub) (3.17.0)\n",
            "Requirement already satisfied: fsspec>=2023.5.0 in /usr/local/lib/python3.11/dist-packages (from huggingface_hub) (2024.10.0)\n",
            "Requirement already satisfied: packaging>=20.9 in /usr/local/lib/python3.11/dist-packages (from huggingface_hub) (24.2)\n",
            "Requirement already satisfied: pyyaml>=5.1 in /usr/local/lib/python3.11/dist-packages (from huggingface_hub) (6.0.2)\n",
            "Requirement already satisfied: requests in /usr/local/lib/python3.11/dist-packages (from huggingface_hub) (2.32.3)\n",
            "Requirement already satisfied: tqdm>=4.42.1 in /usr/local/lib/python3.11/dist-packages (from huggingface_hub) (4.67.1)\n",
            "Requirement already satisfied: typing-extensions>=3.7.4.3 in /usr/local/lib/python3.11/dist-packages (from huggingface_hub) (4.12.2)\n",
            "Requirement already satisfied: charset-normalizer<4,>=2 in /usr/local/lib/python3.11/dist-packages (from requests->huggingface_hub) (3.4.1)\n",
            "Requirement already satisfied: idna<4,>=2.5 in /usr/local/lib/python3.11/dist-packages (from requests->huggingface_hub) (3.10)\n",
            "Requirement already satisfied: urllib3<3,>=1.21.1 in /usr/local/lib/python3.11/dist-packages (from requests->huggingface_hub) (2.3.0)\n",
            "Requirement already satisfied: certifi>=2017.4.17 in /usr/local/lib/python3.11/dist-packages (from requests->huggingface_hub) (2025.1.31)\n"
          ]
        }
      ]
    },
    {
      "cell_type": "code",
      "source": [
        "from huggingface_hub import HfApi\n",
        "\n",
        "hf_username = \"eagle0504\"  # Replace with your Hugging Face username\n",
        "repo_name = \"my-tf-nn-model-v4\"  # Change this as needed\n",
        "repo_id = f\"{hf_username}/{repo_name}\"\n",
        "\n",
        "api = HfApi()\n",
        "\n",
        "# Create the repository\n",
        "api.create_repo(repo_id=repo_id, exist_ok=True)  # exist_ok=True prevents errors if the repo already exists\n",
        "\n",
        "print(f\"Repository created: https://huggingface.co/{repo_id}\")"
      ],
      "metadata": {
        "colab": {
          "base_uri": "https://localhost:8080/"
        },
        "id": "SmhMVs-BRZ5f",
        "outputId": "11d67b20-5eb6-4e89-a34a-9eb9a3b525d6"
      },
      "execution_count": 18,
      "outputs": [
        {
          "output_type": "stream",
          "name": "stdout",
          "text": [
            "Repository created: https://huggingface.co/eagle0504/my-tf-nn-model-v4\n"
          ]
        }
      ]
    },
    {
      "cell_type": "markdown",
      "source": [
        "## Push Artifacts on HF"
      ],
      "metadata": {
        "id": "oLT-_HepTvTH"
      }
    },
    {
      "cell_type": "code",
      "source": [
        "import pickle\n",
        "import os\n",
        "from huggingface_hub import HfApi\n",
        "import tensorflow as tf\n",
        "from tensorflow.keras.preprocessing.text import Tokenizer\n",
        "\n",
        "# Define save directory\n",
        "model_dir = \"./saved_model\"\n",
        "os.makedirs(model_dir, exist_ok=True)\n",
        "\n",
        "# Save the model\n",
        "model_path = os.path.join(model_dir, \"model.keras\")\n",
        "model.save(model_path)\n",
        "\n",
        "# Save the tokenizer as a pickle file\n",
        "tokenizer_path = os.path.join(model_dir, \"tokenizer.pkl\")\n",
        "with open(tokenizer_path, \"wb\") as f:\n",
        "    pickle.dump(tokenizer, f)\n",
        "\n",
        "# Upload model and tokenizer to Hugging Face\n",
        "repo_id = f\"eagle0504/{repo_name}\"  # Change as needed\n",
        "api = HfApi()\n",
        "\n",
        "api.upload_file(path_or_fileobj=model_path, path_in_repo=\"model.keras\", repo_id=repo_id)\n",
        "api.upload_file(path_or_fileobj=tokenizer_path, path_in_repo=\"tokenizer.pkl\", repo_id=repo_id)\n",
        "\n",
        "print(f\"Model and tokenizer successfully pushed to: https://huggingface.co/{repo_id}\")"
      ],
      "metadata": {
        "colab": {
          "base_uri": "https://localhost:8080/",
          "height": 99,
          "referenced_widgets": [
            "ad1229fcf3e448a0a7e3efb07cdbdc74",
            "700aef42ca3148f3af35bc0ad4668adb",
            "d1f65bb410884f289ff5085dd8b498c0",
            "137112d21d5a4e21859ba7d73011988b",
            "2986fe9b7bde45d697c5bb5259876a00",
            "e0435dac0b3e437695f0ce53263f7f0f",
            "2ca8122e6bfa4d85974fe78e173a9abc",
            "9da1bd772cab4c2f9234f4d554c600b6",
            "9a58015c86b5457cae3684f7cac772e1",
            "61f2b4081aea448eb33c8504fbd58c2a",
            "a1eb654d575f4f0982a7eb5aa906ab23",
            "e8eb5b2f78734fbf8101ac2566b1e169",
            "9158a7292751431c9b34265631f7c506",
            "5a76df727651422688c1b3b11b214b87",
            "f63d290478144de7a337968a2fc807b7",
            "bd42442e3a3f462b8ac08f5a96908ebc",
            "f094f97d92004fc09ed132b09c3599df",
            "c39999651b164a31b3ab7fbbbefc5bf0",
            "179baffef08041749973935cc0d1be9c",
            "2c827aa6955c483091b477d510bfc32b",
            "57d56d09d37445a983126d3add35e627",
            "2aa8fd6517fc403ca507162536f38744"
          ]
        },
        "id": "JqH2HkwUPZ9t",
        "outputId": "636395ec-bc4e-45bf-e4f0-79d236ff3fa7"
      },
      "execution_count": 10,
      "outputs": [
        {
          "output_type": "display_data",
          "data": {
            "text/plain": [
              "model.keras:   0%|          | 0.00/212k [00:00<?, ?B/s]"
            ],
            "application/vnd.jupyter.widget-view+json": {
              "version_major": 2,
              "version_minor": 0,
              "model_id": "ad1229fcf3e448a0a7e3efb07cdbdc74"
            }
          },
          "metadata": {}
        },
        {
          "output_type": "display_data",
          "data": {
            "text/plain": [
              "tokenizer.pkl:   0%|          | 0.00/2.65k [00:00<?, ?B/s]"
            ],
            "application/vnd.jupyter.widget-view+json": {
              "version_major": 2,
              "version_minor": 0,
              "model_id": "e8eb5b2f78734fbf8101ac2566b1e169"
            }
          },
          "metadata": {}
        },
        {
          "output_type": "stream",
          "name": "stdout",
          "text": [
            "Model and tokenizer successfully pushed to: https://huggingface.co/eagle0504/my-tf-nn-model-v3\n"
          ]
        }
      ]
    },
    {
      "cell_type": "markdown",
      "source": [
        "## Download Model Artifact from HF"
      ],
      "metadata": {
        "id": "Rtr2BtibTy0e"
      }
    },
    {
      "cell_type": "code",
      "source": [
        "import os\n",
        "import numpy as np\n",
        "import tensorflow as tf\n",
        "from tensorflow import keras\n",
        "from huggingface_hub import hf_hub_download\n",
        "\n",
        "# Set Keras backend to JAX (Optional, only needed if you want to experiment with JAX backend)\n",
        "os.environ[\"KERAS_BACKEND\"] = \"jax\"\n",
        "\n",
        "# Define repo ID and model filename\n",
        "# repo_id = \"eagle0504/my-tf-nn-model\" # we already defined it above\n",
        "filename = \"model.keras\"  # Ensure this matches what was uploaded\n",
        "\n",
        "# Download the model\n",
        "model_path = hf_hub_download(repo_id=repo_id, filename=filename)\n",
        "\n",
        "# Load the Keras model\n",
        "new_model = keras.models.load_model(model_path)\n",
        "\n",
        "print(\"Model loaded successfully!\")"
      ],
      "metadata": {
        "colab": {
          "base_uri": "https://localhost:8080/",
          "height": 67,
          "referenced_widgets": [
            "856fa8097d294541bd49561c73891a23",
            "6a8bdaee4c2040b68e0d35d317804cd5",
            "55570277cf0a4b34b9611dcf918f3c26",
            "4eb31139bf114241832e0300875d4d31",
            "ab06ce42c417427f9855b6da5890e3a4",
            "713d1cc077eb45788eb13375195a709e",
            "e5cae3fed94a4b20972c18335a3a833d",
            "c2cb01c3b237497c8872db90530d9134",
            "e154654e25274a6ca6c688d8ce7f07b1",
            "796e9b41a88f4f4093b122ce1d7a84f8",
            "2e792d8308c946abb961d9718fcce1a3"
          ]
        },
        "id": "Wn0SuQcTQK6F",
        "outputId": "fcdc4592-a5c8-4589-b20e-e9b6ee095d1b"
      },
      "execution_count": 11,
      "outputs": [
        {
          "output_type": "display_data",
          "data": {
            "text/plain": [
              "model.keras:   0%|          | 0.00/212k [00:00<?, ?B/s]"
            ],
            "application/vnd.jupyter.widget-view+json": {
              "version_major": 2,
              "version_minor": 0,
              "model_id": "856fa8097d294541bd49561c73891a23"
            }
          },
          "metadata": {}
        },
        {
          "output_type": "stream",
          "name": "stdout",
          "text": [
            "Model loaded successfully!\n"
          ]
        }
      ]
    },
    {
      "cell_type": "code",
      "source": [
        "new_model.summary()"
      ],
      "metadata": {
        "colab": {
          "base_uri": "https://localhost:8080/",
          "height": 484
        },
        "id": "gYXHAb6QWhNp",
        "outputId": "07ce8709-087f-4d98-f265-3ce63e5625eb"
      },
      "execution_count": 12,
      "outputs": [
        {
          "output_type": "display_data",
          "data": {
            "text/plain": [
              "\u001b[1mModel: \"functional\"\u001b[0m\n"
            ],
            "text/html": [
              "<pre style=\"white-space:pre;overflow-x:auto;line-height:normal;font-family:Menlo,'DejaVu Sans Mono',consolas,'Courier New',monospace\"><span style=\"font-weight: bold\">Model: \"functional\"</span>\n",
              "</pre>\n"
            ]
          },
          "metadata": {}
        },
        {
          "output_type": "display_data",
          "data": {
            "text/plain": [
              "┏━━━━━━━━━━━━━━━━━━━━━━━━━━━┳━━━━━━━━━━━━━━━━━━━━━━━━┳━━━━━━━━━━━━━━━━┳━━━━━━━━━━━━━━━━━━━━━━━━┓\n",
              "┃\u001b[1m \u001b[0m\u001b[1mLayer (type)             \u001b[0m\u001b[1m \u001b[0m┃\u001b[1m \u001b[0m\u001b[1mOutput Shape          \u001b[0m\u001b[1m \u001b[0m┃\u001b[1m \u001b[0m\u001b[1m       Param #\u001b[0m\u001b[1m \u001b[0m┃\u001b[1m \u001b[0m\u001b[1mConnected to          \u001b[0m\u001b[1m \u001b[0m┃\n",
              "┡━━━━━━━━━━━━━━━━━━━━━━━━━━━╇━━━━━━━━━━━━━━━━━━━━━━━━╇━━━━━━━━━━━━━━━━╇━━━━━━━━━━━━━━━━━━━━━━━━┩\n",
              "│ text_input (\u001b[38;5;33mInputLayer\u001b[0m)   │ (\u001b[38;5;45mNone\u001b[0m, \u001b[38;5;34m8\u001b[0m)              │              \u001b[38;5;34m0\u001b[0m │ -                      │\n",
              "├───────────────────────────┼────────────────────────┼────────────────┼────────────────────────┤\n",
              "│ embedding (\u001b[38;5;33mEmbedding\u001b[0m)     │ (\u001b[38;5;45mNone\u001b[0m, \u001b[38;5;34m8\u001b[0m, \u001b[38;5;34m16\u001b[0m)          │          \u001b[38;5;34m1,376\u001b[0m │ text_input[\u001b[38;5;34m0\u001b[0m][\u001b[38;5;34m0\u001b[0m]       │\n",
              "├───────────────────────────┼────────────────────────┼────────────────┼────────────────────────┤\n",
              "│ flatten (\u001b[38;5;33mFlatten\u001b[0m)         │ (\u001b[38;5;45mNone\u001b[0m, \u001b[38;5;34m128\u001b[0m)            │              \u001b[38;5;34m0\u001b[0m │ embedding[\u001b[38;5;34m0\u001b[0m][\u001b[38;5;34m0\u001b[0m]        │\n",
              "├───────────────────────────┼────────────────────────┼────────────────┼────────────────────────┤\n",
              "│ dense (\u001b[38;5;33mDense\u001b[0m)             │ (\u001b[38;5;45mNone\u001b[0m, \u001b[38;5;34m64\u001b[0m)             │          \u001b[38;5;34m8,256\u001b[0m │ flatten[\u001b[38;5;34m0\u001b[0m][\u001b[38;5;34m0\u001b[0m]          │\n",
              "├───────────────────────────┼────────────────────────┼────────────────┼────────────────────────┤\n",
              "│ func_rating_input         │ (\u001b[38;5;45mNone\u001b[0m, \u001b[38;5;34m1\u001b[0m)              │              \u001b[38;5;34m0\u001b[0m │ -                      │\n",
              "│ (\u001b[38;5;33mInputLayer\u001b[0m)              │                        │                │                        │\n",
              "├───────────────────────────┼────────────────────────┼────────────────┼────────────────────────┤\n",
              "│ dense_1 (\u001b[38;5;33mDense\u001b[0m)           │ (\u001b[38;5;45mNone\u001b[0m, \u001b[38;5;34m64\u001b[0m)             │          \u001b[38;5;34m4,160\u001b[0m │ dense[\u001b[38;5;34m0\u001b[0m][\u001b[38;5;34m0\u001b[0m]            │\n",
              "├───────────────────────────┼────────────────────────┼────────────────┼────────────────────────┤\n",
              "│ dense_2 (\u001b[38;5;33mDense\u001b[0m)           │ (\u001b[38;5;45mNone\u001b[0m, \u001b[38;5;34m32\u001b[0m)             │             \u001b[38;5;34m64\u001b[0m │ func_rating_input[\u001b[38;5;34m0\u001b[0m][\u001b[38;5;34m…\u001b[0m │\n",
              "├───────────────────────────┼────────────────────────┼────────────────┼────────────────────────┤\n",
              "│ concatenate (\u001b[38;5;33mConcatenate\u001b[0m) │ (\u001b[38;5;45mNone\u001b[0m, \u001b[38;5;34m96\u001b[0m)             │              \u001b[38;5;34m0\u001b[0m │ dense_1[\u001b[38;5;34m0\u001b[0m][\u001b[38;5;34m0\u001b[0m],         │\n",
              "│                           │                        │                │ dense_2[\u001b[38;5;34m0\u001b[0m][\u001b[38;5;34m0\u001b[0m]          │\n",
              "├───────────────────────────┼────────────────────────┼────────────────┼────────────────────────┤\n",
              "│ output (\u001b[38;5;33mDense\u001b[0m)            │ (\u001b[38;5;45mNone\u001b[0m, \u001b[38;5;34m1\u001b[0m)              │             \u001b[38;5;34m97\u001b[0m │ concatenate[\u001b[38;5;34m0\u001b[0m][\u001b[38;5;34m0\u001b[0m]      │\n",
              "└───────────────────────────┴────────────────────────┴────────────────┴────────────────────────┘\n"
            ],
            "text/html": [
              "<pre style=\"white-space:pre;overflow-x:auto;line-height:normal;font-family:Menlo,'DejaVu Sans Mono',consolas,'Courier New',monospace\">┏━━━━━━━━━━━━━━━━━━━━━━━━━━━┳━━━━━━━━━━━━━━━━━━━━━━━━┳━━━━━━━━━━━━━━━━┳━━━━━━━━━━━━━━━━━━━━━━━━┓\n",
              "┃<span style=\"font-weight: bold\"> Layer (type)              </span>┃<span style=\"font-weight: bold\"> Output Shape           </span>┃<span style=\"font-weight: bold\">        Param # </span>┃<span style=\"font-weight: bold\"> Connected to           </span>┃\n",
              "┡━━━━━━━━━━━━━━━━━━━━━━━━━━━╇━━━━━━━━━━━━━━━━━━━━━━━━╇━━━━━━━━━━━━━━━━╇━━━━━━━━━━━━━━━━━━━━━━━━┩\n",
              "│ text_input (<span style=\"color: #0087ff; text-decoration-color: #0087ff\">InputLayer</span>)   │ (<span style=\"color: #00d7ff; text-decoration-color: #00d7ff\">None</span>, <span style=\"color: #00af00; text-decoration-color: #00af00\">8</span>)              │              <span style=\"color: #00af00; text-decoration-color: #00af00\">0</span> │ -                      │\n",
              "├───────────────────────────┼────────────────────────┼────────────────┼────────────────────────┤\n",
              "│ embedding (<span style=\"color: #0087ff; text-decoration-color: #0087ff\">Embedding</span>)     │ (<span style=\"color: #00d7ff; text-decoration-color: #00d7ff\">None</span>, <span style=\"color: #00af00; text-decoration-color: #00af00\">8</span>, <span style=\"color: #00af00; text-decoration-color: #00af00\">16</span>)          │          <span style=\"color: #00af00; text-decoration-color: #00af00\">1,376</span> │ text_input[<span style=\"color: #00af00; text-decoration-color: #00af00\">0</span>][<span style=\"color: #00af00; text-decoration-color: #00af00\">0</span>]       │\n",
              "├───────────────────────────┼────────────────────────┼────────────────┼────────────────────────┤\n",
              "│ flatten (<span style=\"color: #0087ff; text-decoration-color: #0087ff\">Flatten</span>)         │ (<span style=\"color: #00d7ff; text-decoration-color: #00d7ff\">None</span>, <span style=\"color: #00af00; text-decoration-color: #00af00\">128</span>)            │              <span style=\"color: #00af00; text-decoration-color: #00af00\">0</span> │ embedding[<span style=\"color: #00af00; text-decoration-color: #00af00\">0</span>][<span style=\"color: #00af00; text-decoration-color: #00af00\">0</span>]        │\n",
              "├───────────────────────────┼────────────────────────┼────────────────┼────────────────────────┤\n",
              "│ dense (<span style=\"color: #0087ff; text-decoration-color: #0087ff\">Dense</span>)             │ (<span style=\"color: #00d7ff; text-decoration-color: #00d7ff\">None</span>, <span style=\"color: #00af00; text-decoration-color: #00af00\">64</span>)             │          <span style=\"color: #00af00; text-decoration-color: #00af00\">8,256</span> │ flatten[<span style=\"color: #00af00; text-decoration-color: #00af00\">0</span>][<span style=\"color: #00af00; text-decoration-color: #00af00\">0</span>]          │\n",
              "├───────────────────────────┼────────────────────────┼────────────────┼────────────────────────┤\n",
              "│ func_rating_input         │ (<span style=\"color: #00d7ff; text-decoration-color: #00d7ff\">None</span>, <span style=\"color: #00af00; text-decoration-color: #00af00\">1</span>)              │              <span style=\"color: #00af00; text-decoration-color: #00af00\">0</span> │ -                      │\n",
              "│ (<span style=\"color: #0087ff; text-decoration-color: #0087ff\">InputLayer</span>)              │                        │                │                        │\n",
              "├───────────────────────────┼────────────────────────┼────────────────┼────────────────────────┤\n",
              "│ dense_1 (<span style=\"color: #0087ff; text-decoration-color: #0087ff\">Dense</span>)           │ (<span style=\"color: #00d7ff; text-decoration-color: #00d7ff\">None</span>, <span style=\"color: #00af00; text-decoration-color: #00af00\">64</span>)             │          <span style=\"color: #00af00; text-decoration-color: #00af00\">4,160</span> │ dense[<span style=\"color: #00af00; text-decoration-color: #00af00\">0</span>][<span style=\"color: #00af00; text-decoration-color: #00af00\">0</span>]            │\n",
              "├───────────────────────────┼────────────────────────┼────────────────┼────────────────────────┤\n",
              "│ dense_2 (<span style=\"color: #0087ff; text-decoration-color: #0087ff\">Dense</span>)           │ (<span style=\"color: #00d7ff; text-decoration-color: #00d7ff\">None</span>, <span style=\"color: #00af00; text-decoration-color: #00af00\">32</span>)             │             <span style=\"color: #00af00; text-decoration-color: #00af00\">64</span> │ func_rating_input[<span style=\"color: #00af00; text-decoration-color: #00af00\">0</span>][<span style=\"color: #00af00; text-decoration-color: #00af00\">…</span> │\n",
              "├───────────────────────────┼────────────────────────┼────────────────┼────────────────────────┤\n",
              "│ concatenate (<span style=\"color: #0087ff; text-decoration-color: #0087ff\">Concatenate</span>) │ (<span style=\"color: #00d7ff; text-decoration-color: #00d7ff\">None</span>, <span style=\"color: #00af00; text-decoration-color: #00af00\">96</span>)             │              <span style=\"color: #00af00; text-decoration-color: #00af00\">0</span> │ dense_1[<span style=\"color: #00af00; text-decoration-color: #00af00\">0</span>][<span style=\"color: #00af00; text-decoration-color: #00af00\">0</span>],         │\n",
              "│                           │                        │                │ dense_2[<span style=\"color: #00af00; text-decoration-color: #00af00\">0</span>][<span style=\"color: #00af00; text-decoration-color: #00af00\">0</span>]          │\n",
              "├───────────────────────────┼────────────────────────┼────────────────┼────────────────────────┤\n",
              "│ output (<span style=\"color: #0087ff; text-decoration-color: #0087ff\">Dense</span>)            │ (<span style=\"color: #00d7ff; text-decoration-color: #00d7ff\">None</span>, <span style=\"color: #00af00; text-decoration-color: #00af00\">1</span>)              │             <span style=\"color: #00af00; text-decoration-color: #00af00\">97</span> │ concatenate[<span style=\"color: #00af00; text-decoration-color: #00af00\">0</span>][<span style=\"color: #00af00; text-decoration-color: #00af00\">0</span>]      │\n",
              "└───────────────────────────┴────────────────────────┴────────────────┴────────────────────────┘\n",
              "</pre>\n"
            ]
          },
          "metadata": {}
        },
        {
          "output_type": "display_data",
          "data": {
            "text/plain": [
              "\u001b[1m Total params: \u001b[0m\u001b[38;5;34m41,861\u001b[0m (163.52 KB)\n"
            ],
            "text/html": [
              "<pre style=\"white-space:pre;overflow-x:auto;line-height:normal;font-family:Menlo,'DejaVu Sans Mono',consolas,'Courier New',monospace\"><span style=\"font-weight: bold\"> Total params: </span><span style=\"color: #00af00; text-decoration-color: #00af00\">41,861</span> (163.52 KB)\n",
              "</pre>\n"
            ]
          },
          "metadata": {}
        },
        {
          "output_type": "display_data",
          "data": {
            "text/plain": [
              "\u001b[1m Trainable params: \u001b[0m\u001b[38;5;34m13,953\u001b[0m (54.50 KB)\n"
            ],
            "text/html": [
              "<pre style=\"white-space:pre;overflow-x:auto;line-height:normal;font-family:Menlo,'DejaVu Sans Mono',consolas,'Courier New',monospace\"><span style=\"font-weight: bold\"> Trainable params: </span><span style=\"color: #00af00; text-decoration-color: #00af00\">13,953</span> (54.50 KB)\n",
              "</pre>\n"
            ]
          },
          "metadata": {}
        },
        {
          "output_type": "display_data",
          "data": {
            "text/plain": [
              "\u001b[1m Non-trainable params: \u001b[0m\u001b[38;5;34m0\u001b[0m (0.00 B)\n"
            ],
            "text/html": [
              "<pre style=\"white-space:pre;overflow-x:auto;line-height:normal;font-family:Menlo,'DejaVu Sans Mono',consolas,'Courier New',monospace\"><span style=\"font-weight: bold\"> Non-trainable params: </span><span style=\"color: #00af00; text-decoration-color: #00af00\">0</span> (0.00 B)\n",
              "</pre>\n"
            ]
          },
          "metadata": {}
        },
        {
          "output_type": "display_data",
          "data": {
            "text/plain": [
              "\u001b[1m Optimizer params: \u001b[0m\u001b[38;5;34m27,908\u001b[0m (109.02 KB)\n"
            ],
            "text/html": [
              "<pre style=\"white-space:pre;overflow-x:auto;line-height:normal;font-family:Menlo,'DejaVu Sans Mono',consolas,'Courier New',monospace\"><span style=\"font-weight: bold\"> Optimizer params: </span><span style=\"color: #00af00; text-decoration-color: #00af00\">27,908</span> (109.02 KB)\n",
              "</pre>\n"
            ]
          },
          "metadata": {}
        }
      ]
    },
    {
      "cell_type": "markdown",
      "source": [
        "## Local Inference"
      ],
      "metadata": {
        "id": "rs6qIIMwT1bt"
      }
    },
    {
      "cell_type": "code",
      "source": [
        "import pickle\n",
        "from huggingface_hub import hf_hub_download\n",
        "from tensorflow import keras\n",
        "from tensorflow.keras.preprocessing.sequence import pad_sequences\n",
        "import numpy as np\n",
        "\n",
        "# Define repo details\n",
        "# repo_id = \"eagle0504/my-tf-nn-model\" # we already defined above\n",
        "\n",
        "# Download model\n",
        "model_path = hf_hub_download(repo_id=repo_id, filename=\"model.keras\")\n",
        "new_model = keras.models.load_model(model_path)\n",
        "\n",
        "# Download tokenizer\n",
        "tokenizer_path = hf_hub_download(repo_id=repo_id, filename=\"tokenizer.pkl\")\n",
        "\n",
        "# Load the tokenizer\n",
        "with open(tokenizer_path, \"rb\") as f:\n",
        "    tokenizer = pickle.load(f)\n",
        "\n",
        "print(\"Model and tokenizer loaded successfully!\")\n",
        "\n",
        "# Sample test data\n",
        "test_texts = [\n",
        "    \"How to improve focus and concentration?\",\n",
        "    \"What are the side effects of lack of sleep?\",\n",
        "]\n",
        "\n",
        "# Preprocess test data using the loaded tokenizer\n",
        "max_length = model.input_shape[0][1]  # Get max_length from model input shape\n",
        "X_text_test = tokenizer.texts_to_sequences(test_texts)\n",
        "X_text_test = pad_sequences(X_text_test, maxlen=max_length, padding='post')\n",
        "\n",
        "# Dummy numeric input (func_rating)\n",
        "X_func_test = np.array([4, -5]).reshape(-1, 1)\n",
        "\n",
        "# Make predictions\n",
        "predictions = new_model.predict({\"text_input\": X_text_test, \"func_rating_input\": X_func_test})\n",
        "\n",
        "# Display results\n",
        "for i, text in enumerate(test_texts):\n",
        "    print(f\"Prompt: {text}\")\n",
        "    print(f\"Predicted Rating: {predictions[i][0]:.2f}\")\n",
        "    print(\"-\" * 50)"
      ],
      "metadata": {
        "colab": {
          "base_uri": "https://localhost:8080/"
        },
        "id": "VHcw9ZUlRzO7",
        "outputId": "498d8e51-2365-4f21-cc97-cc8cd3a526c0"
      },
      "execution_count": 17,
      "outputs": [
        {
          "output_type": "stream",
          "name": "stdout",
          "text": [
            "Model and tokenizer loaded successfully!\n"
          ]
        },
        {
          "output_type": "stream",
          "name": "stderr",
          "text": [
            "WARNING:tensorflow:5 out of the last 5 calls to <function TensorFlowTrainer.make_predict_function.<locals>.one_step_on_data_distributed at 0x787a0821a200> triggered tf.function retracing. Tracing is expensive and the excessive number of tracings could be due to (1) creating @tf.function repeatedly in a loop, (2) passing tensors with different shapes, (3) passing Python objects instead of tensors. For (1), please define your @tf.function outside of the loop. For (2), @tf.function has reduce_retracing=True option that can avoid unnecessary retracing. For (3), please refer to https://www.tensorflow.org/guide/function#controlling_retracing and https://www.tensorflow.org/api_docs/python/tf/function for  more details.\n"
          ]
        },
        {
          "output_type": "stream",
          "name": "stdout",
          "text": [
            "\u001b[1m1/1\u001b[0m \u001b[32m━━━━━━━━━━━━━━━━━━━━\u001b[0m\u001b[37m\u001b[0m \u001b[1m0s\u001b[0m 245ms/step\n",
            "Prompt: How to improve focus and concentration?\n",
            "Predicted Rating: 4.15\n",
            "--------------------------------------------------\n",
            "Prompt: What are the side effects of lack of sleep?\n",
            "Predicted Rating: 2.88\n",
            "--------------------------------------------------\n"
          ]
        }
      ]
    }
  ]
}