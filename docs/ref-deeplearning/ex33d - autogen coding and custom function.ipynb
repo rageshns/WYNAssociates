{
  "cells": [
    {
      "cell_type": "markdown",
      "id": "eacbb70c",
      "metadata": {
        "id": "eacbb70c"
      },
      "source": [
        "# Autogen: Coding and Financial Analysis"
      ]
    },
    {
      "cell_type": "code",
      "source": [
        "! pip install pyautogen"
      ],
      "metadata": {
        "colab": {
          "base_uri": "https://localhost:8080/"
        },
        "id": "-wlTi6zGU8GU",
        "outputId": "70cbd47c-d7c5-4a67-be89-ef9afa50ab2a"
      },
      "id": "-wlTi6zGU8GU",
      "execution_count": 1,
      "outputs": [
        {
          "output_type": "stream",
          "name": "stdout",
          "text": [
            "Requirement already satisfied: pyautogen in /usr/local/lib/python3.10/dist-packages (0.2.28)\n",
            "Requirement already satisfied: diskcache in /usr/local/lib/python3.10/dist-packages (from pyautogen) (5.6.3)\n",
            "Requirement already satisfied: docker in /usr/local/lib/python3.10/dist-packages (from pyautogen) (7.1.0)\n",
            "Requirement already satisfied: flaml in /usr/local/lib/python3.10/dist-packages (from pyautogen) (2.1.2)\n",
            "Requirement already satisfied: numpy<2,>=1.17.0 in /usr/local/lib/python3.10/dist-packages (from pyautogen) (1.25.2)\n",
            "Requirement already satisfied: openai>=1.3 in /usr/local/lib/python3.10/dist-packages (from pyautogen) (1.30.5)\n",
            "Requirement already satisfied: packaging in /usr/local/lib/python3.10/dist-packages (from pyautogen) (24.0)\n",
            "Requirement already satisfied: pydantic!=2.6.0,<3,>=1.10 in /usr/local/lib/python3.10/dist-packages (from pyautogen) (2.7.1)\n",
            "Requirement already satisfied: python-dotenv in /usr/local/lib/python3.10/dist-packages (from pyautogen) (1.0.1)\n",
            "Requirement already satisfied: termcolor in /usr/local/lib/python3.10/dist-packages (from pyautogen) (2.4.0)\n",
            "Requirement already satisfied: tiktoken in /usr/local/lib/python3.10/dist-packages (from pyautogen) (0.7.0)\n",
            "Requirement already satisfied: anyio<5,>=3.5.0 in /usr/local/lib/python3.10/dist-packages (from openai>=1.3->pyautogen) (3.7.1)\n",
            "Requirement already satisfied: distro<2,>=1.7.0 in /usr/lib/python3/dist-packages (from openai>=1.3->pyautogen) (1.7.0)\n",
            "Requirement already satisfied: httpx<1,>=0.23.0 in /usr/local/lib/python3.10/dist-packages (from openai>=1.3->pyautogen) (0.27.0)\n",
            "Requirement already satisfied: sniffio in /usr/local/lib/python3.10/dist-packages (from openai>=1.3->pyautogen) (1.3.1)\n",
            "Requirement already satisfied: tqdm>4 in /usr/local/lib/python3.10/dist-packages (from openai>=1.3->pyautogen) (4.66.4)\n",
            "Requirement already satisfied: typing-extensions<5,>=4.7 in /usr/local/lib/python3.10/dist-packages (from openai>=1.3->pyautogen) (4.11.0)\n",
            "Requirement already satisfied: annotated-types>=0.4.0 in /usr/local/lib/python3.10/dist-packages (from pydantic!=2.6.0,<3,>=1.10->pyautogen) (0.7.0)\n",
            "Requirement already satisfied: pydantic-core==2.18.2 in /usr/local/lib/python3.10/dist-packages (from pydantic!=2.6.0,<3,>=1.10->pyautogen) (2.18.2)\n",
            "Requirement already satisfied: requests>=2.26.0 in /usr/local/lib/python3.10/dist-packages (from docker->pyautogen) (2.31.0)\n",
            "Requirement already satisfied: urllib3>=1.26.0 in /usr/local/lib/python3.10/dist-packages (from docker->pyautogen) (2.0.7)\n",
            "Requirement already satisfied: regex>=2022.1.18 in /usr/local/lib/python3.10/dist-packages (from tiktoken->pyautogen) (2024.5.15)\n",
            "Requirement already satisfied: idna>=2.8 in /usr/local/lib/python3.10/dist-packages (from anyio<5,>=3.5.0->openai>=1.3->pyautogen) (3.7)\n",
            "Requirement already satisfied: exceptiongroup in /usr/local/lib/python3.10/dist-packages (from anyio<5,>=3.5.0->openai>=1.3->pyautogen) (1.2.1)\n",
            "Requirement already satisfied: certifi in /usr/local/lib/python3.10/dist-packages (from httpx<1,>=0.23.0->openai>=1.3->pyautogen) (2024.2.2)\n",
            "Requirement already satisfied: httpcore==1.* in /usr/local/lib/python3.10/dist-packages (from httpx<1,>=0.23.0->openai>=1.3->pyautogen) (1.0.5)\n",
            "Requirement already satisfied: h11<0.15,>=0.13 in /usr/local/lib/python3.10/dist-packages (from httpcore==1.*->httpx<1,>=0.23.0->openai>=1.3->pyautogen) (0.14.0)\n",
            "Requirement already satisfied: charset-normalizer<4,>=2 in /usr/local/lib/python3.10/dist-packages (from requests>=2.26.0->docker->pyautogen) (3.3.2)\n"
          ]
        }
      ]
    },
    {
      "cell_type": "markdown",
      "id": "babbc472",
      "metadata": {
        "id": "babbc472"
      },
      "source": [
        "## Setup"
      ]
    },
    {
      "cell_type": "code",
      "source": [
        "from google.colab import userdata\n",
        "api_key = userdata.get('OPENAI_API_KEY')"
      ],
      "metadata": {
        "id": "sVEBiLOaU_Nc"
      },
      "id": "sVEBiLOaU_Nc",
      "execution_count": 2,
      "outputs": []
    },
    {
      "cell_type": "code",
      "execution_count": 3,
      "id": "b5613ba9-d387-4b7d-9670-ec2b6e4353be",
      "metadata": {
        "height": 31,
        "id": "b5613ba9-d387-4b7d-9670-ec2b6e4353be"
      },
      "outputs": [],
      "source": [
        "llm_config = {\"model\": \"gpt-4-turbo\", \"api_key\": api_key}"
      ]
    },
    {
      "cell_type": "markdown",
      "id": "e4e8fd85",
      "metadata": {
        "id": "e4e8fd85"
      },
      "source": [
        "## Define a code executor"
      ]
    },
    {
      "cell_type": "code",
      "execution_count": 4,
      "id": "fb90a672-4318-47de-a061-384e68dd75c9",
      "metadata": {
        "height": 31,
        "id": "fb90a672-4318-47de-a061-384e68dd75c9"
      },
      "outputs": [],
      "source": [
        "from autogen.coding import LocalCommandLineCodeExecutor"
      ]
    },
    {
      "cell_type": "code",
      "execution_count": 5,
      "id": "b5cafee7-a0ac-4583-8201-5e19eb603138",
      "metadata": {
        "height": 82,
        "id": "b5cafee7-a0ac-4583-8201-5e19eb603138"
      },
      "outputs": [],
      "source": [
        "executor = LocalCommandLineCodeExecutor(\n",
        "    timeout=60,\n",
        "    work_dir=\"coding\",\n",
        ")"
      ]
    },
    {
      "cell_type": "markdown",
      "id": "3b62a1a0",
      "metadata": {
        "id": "3b62a1a0"
      },
      "source": [
        "## Create agents"
      ]
    },
    {
      "cell_type": "code",
      "execution_count": 6,
      "id": "e6d9b3d6-9915-4fea-a853-512dfb77c4a5",
      "metadata": {
        "height": 31,
        "id": "e6d9b3d6-9915-4fea-a853-512dfb77c4a5"
      },
      "outputs": [],
      "source": [
        "from autogen import ConversableAgent, AssistantAgent"
      ]
    },
    {
      "cell_type": "markdown",
      "id": "b741b947",
      "metadata": {
        "id": "b741b947"
      },
      "source": [
        "### 1. Agent with code executor configuration"
      ]
    },
    {
      "cell_type": "code",
      "execution_count": 7,
      "id": "57d286e5-b7b7-405a-b1d7-212c0cc84497",
      "metadata": {
        "height": 150,
        "id": "57d286e5-b7b7-405a-b1d7-212c0cc84497"
      },
      "outputs": [],
      "source": [
        "code_executor_agent = ConversableAgent(\n",
        "    name=\"code_executor_agent\",\n",
        "    llm_config=False,\n",
        "    code_execution_config={\"executor\": executor},\n",
        "    human_input_mode=\"ALWAYS\",\n",
        "    default_auto_reply=\n",
        "    \"Please continue. If everything is done, reply 'TERMINATE'.\",\n",
        ")"
      ]
    },
    {
      "cell_type": "markdown",
      "id": "c1eb1094",
      "metadata": {
        "id": "c1eb1094"
      },
      "source": [
        "### 2. Agent with code writing capability"
      ]
    },
    {
      "cell_type": "code",
      "execution_count": 8,
      "id": "99c38c33-d335-48cd-96eb-cafe9ac70142",
      "metadata": {
        "height": 116,
        "id": "99c38c33-d335-48cd-96eb-cafe9ac70142"
      },
      "outputs": [],
      "source": [
        "code_writer_agent = AssistantAgent(\n",
        "    name=\"code_writer_agent\",\n",
        "    llm_config=llm_config,\n",
        "    code_execution_config=False,\n",
        "    human_input_mode=\"NEVER\",\n",
        ")"
      ]
    },
    {
      "cell_type": "code",
      "execution_count": 9,
      "id": "0fb1a62f-8dd2-4636-9103-b26ea27a29bd",
      "metadata": {
        "height": 31,
        "id": "0fb1a62f-8dd2-4636-9103-b26ea27a29bd"
      },
      "outputs": [],
      "source": [
        "code_writer_agent_system_message = code_writer_agent.system_message"
      ]
    },
    {
      "cell_type": "code",
      "execution_count": 10,
      "id": "7c8e9a04-55fb-4124-a9d0-3431274476d2",
      "metadata": {
        "height": 31,
        "colab": {
          "base_uri": "https://localhost:8080/"
        },
        "id": "7c8e9a04-55fb-4124-a9d0-3431274476d2",
        "outputId": "3e4d67c4-56d4-42dc-e696-a5f8ff0b1042"
      },
      "outputs": [
        {
          "output_type": "stream",
          "name": "stdout",
          "text": [
            "You are a helpful AI assistant.\n",
            "Solve tasks using your coding and language skills.\n",
            "In the following cases, suggest python code (in a python coding block) or shell script (in a sh coding block) for the user to execute.\n",
            "    1. When you need to collect info, use the code to output the info you need, for example, browse or search the web, download/read a file, print the content of a webpage or a file, get the current date/time, check the operating system. After sufficient info is printed and the task is ready to be solved based on your language skill, you can solve the task by yourself.\n",
            "    2. When you need to perform some task with code, use the code to perform the task and output the result. Finish the task smartly.\n",
            "Solve the task step by step if you need to. If a plan is not provided, explain your plan first. Be clear which step uses code, and which step uses your language skill.\n",
            "When using code, you must indicate the script type in the code block. The user cannot provide any other feedback or perform any other action beyond executing the code you suggest. The user can't modify your code. So do not suggest incomplete code which requires users to modify. Don't use a code block if it's not intended to be executed by the user.\n",
            "If you want the user to save the code in a file before executing it, put # filename: <filename> inside the code block as the first line. Don't include multiple code blocks in one response. Do not ask users to copy and paste the result. Instead, use 'print' function for the output when relevant. Check the execution result returned by the user.\n",
            "If the result indicates there is an error, fix the error and output the code again. Suggest the full code instead of partial code or code changes. If the error can't be fixed or if the task is not solved even after the code is executed successfully, analyze the problem, revisit your assumption, collect additional info you need, and think of a different approach to try.\n",
            "When you find an answer, verify the answer carefully. Include verifiable evidence in your response if possible.\n",
            "Reply \"TERMINATE\" in the end when everything is done.\n",
            "    \n"
          ]
        }
      ],
      "source": [
        "print(code_writer_agent_system_message)"
      ]
    },
    {
      "cell_type": "markdown",
      "id": "f487b75a",
      "metadata": {
        "id": "f487b75a"
      },
      "source": [
        "## The task!\n",
        "\n",
        "Ask the two agents to collaborate on a stock analysis task."
      ]
    },
    {
      "cell_type": "code",
      "execution_count": 11,
      "id": "9cce0ba4-9fea-4d36-b4a0-a1e51fcd09a6",
      "metadata": {
        "height": 133,
        "id": "9cce0ba4-9fea-4d36-b4a0-a1e51fcd09a6"
      },
      "outputs": [],
      "source": [
        "import datetime\n",
        "\n",
        "today = datetime.datetime.now().date()\n",
        "message = f\"Today is {today}. \"\\\n",
        "\"Create a plot showing stock gain YTD for NVDA and TLSA. \"\\\n",
        "\"Make sure the code is in markdown code block and save the figure\"\\\n",
        "\" to a file ytd_stock_gains.png.\"\"\""
      ]
    },
    {
      "cell_type": "markdown",
      "id": "4d02df6c",
      "metadata": {
        "id": "4d02df6c"
      },
      "source": [
        "<p style=\"background-color:#ECECEC; padding:15px; \"> <b>Note:</b> In this lesson, you will use GPT 4 for better results. Please note that the lesson has a quota limit. If you want to explore the code in this lesson further, we recommend trying it locally with your own API key."
      ]
    },
    {
      "cell_type": "markdown",
      "id": "77fc5f1b",
      "metadata": {
        "id": "77fc5f1b"
      },
      "source": [
        "**Note**: You might see a different set of outputs than those shown in the video. The agents collaborate to generate the code needed for your task, and they might produce code with errors in the process. However, they will ultimately provide a correct code in the end."
      ]
    },
    {
      "cell_type": "code",
      "execution_count": 12,
      "id": "230bb9c0-9c80-498f-a05f-96cef11ddb4e",
      "metadata": {
        "height": 82,
        "colab": {
          "base_uri": "https://localhost:8080/"
        },
        "id": "230bb9c0-9c80-498f-a05f-96cef11ddb4e",
        "outputId": "2490ce5f-e73b-4ace-f452-56eb12073047"
      },
      "outputs": [
        {
          "output_type": "stream",
          "name": "stdout",
          "text": [
            "code_executor_agent (to code_writer_agent):\n",
            "\n",
            "Today is 2024-05-31. Create a plot showing stock gain YTD for NVDA and TLSA. Make sure the code is in markdown code block and save the figure to a file ytd_stock_gains.png.\n",
            "\n",
            "--------------------------------------------------------------------------------\n",
            "code_writer_agent (to code_executor_agent):\n",
            "\n",
            "To create a plot showing the Year-To-Date (YTD) stock gains for NVIDIA (NVDA) and Tesla (TSLA), we'll follow these steps:\n",
            "\n",
            "1. Collect historical stock price data for NVDA and TSLA starting from the beginning of 2024 up to the date provided (2024-05-31).\n",
            "2. Calculate the gain for each stock by comparing the latest price (on 2024-05-31) to the first price of the year.\n",
            "3. Plot the daily percentage gain from the start of the year to the given date for both stocks.\n",
            "4. Save the plot to a file named `ytd_stock_gains.png`.\n",
            "\n",
            "We'll use Python with libraries such as `pandas` for data manipulation and `matplotlib` for plotting. First, let's obtain the stock data. This code will involve using the `yfinance` library to fetch the stock price data, calculate the gains, and plot the results.\n",
            "\n",
            "```python\n",
            "# filename: plot_ytd_stock_gains.py\n",
            "import yfinance as yf\n",
            "import matplotlib.pyplot as plt\n",
            "import pandas as pd\n",
            "\n",
            "# Set the date range for YTD of 2024\n",
            "start_date = '2024-01-01'\n",
            "end_date = '2024-05-31'\n",
            "\n",
            "# Fetch historical stock data for NVDA and TSLA\n",
            "nvda = yf.download('NVDA', start=start_date, end=end_date)\n",
            "tsla = yf.download('TSLA', start=start_date, end=end_date)\n",
            "\n",
            "# Calculate the daily YTD gains based on the closing price\n",
            "nvda['Gain'] = (nvda['Close'] / nvda['Close'].iloc[0] - 1) * 100\n",
            "tsla['Gain'] = (tsla['Close'] / tsla['Close'].iloc[0] - 1) * 100\n",
            "\n",
            "# Create a plot of the gains\n",
            "plt.figure(figsize=(10, 5))\n",
            "plt.plot(nvda.index, nvda['Gain'], label='NVDA YTD Gain %')\n",
            "plt.plot(tsla.index, tsla['Gain'], label='TSLA YTD Gain %')\n",
            "plt.title('YTD Stock Gains for NVDA and TSLA for 2024')\n",
            "plt.xlabel('Date')\n",
            "plt.ylabel('Percentage Gain')\n",
            "plt.legend()\n",
            "plt.grid(True)\n",
            "\n",
            "# Save the figure\n",
            "plt.savefig('ytd_stock_gains.png')\n",
            "plt.show()\n",
            "```\n",
            "\n",
            "Execute this script after saving it to a file named `plot_ytd_stock_gains.py`. This will generate the plot and save it to `ytd_stock_gains.png` as requested. Ensure that Python and the required libraries (`yfinance`, `matplotlib`, `pandas`) are installed in your environment before running the script.\n",
            "\n",
            "TERMINATE\n",
            "\n",
            "--------------------------------------------------------------------------------\n",
            "Provide feedback to code_writer_agent. Press enter to skip and use auto-reply, or type 'exit' to end the conversation: \n",
            "\n",
            ">>>>>>>> NO HUMAN INPUT RECEIVED.\n",
            "\n",
            ">>>>>>>> USING AUTO REPLY...\n",
            "\n",
            ">>>>>>>> EXECUTING CODE BLOCK (inferred language is python)...\n",
            "code_executor_agent (to code_writer_agent):\n",
            "\n",
            "exitcode: 0 (execution succeeded)\n",
            "Code output: \n",
            "[*********************100%%**********************]  1 of 1 completed\n",
            "\n",
            "[*********************100%%**********************]  1 of 1 completed\n",
            "Figure(1000x500)\n",
            "\n",
            "\n",
            "--------------------------------------------------------------------------------\n",
            "code_writer_agent (to code_executor_agent):\n",
            "\n",
            "The script executed successfully, fetched the required stock data for NVIDIA and Tesla, calculated the YTD gains, and generated the plot which was saved as `ytd_stock_gains.png`. You should now find this image file in your working directory.\n",
            "\n",
            "If you need any more analysis or any other tasks to be done, feel free to ask!\n",
            "\n",
            "TERMINATE\n",
            "\n",
            "--------------------------------------------------------------------------------\n",
            "Provide feedback to code_writer_agent. Press enter to skip and use auto-reply, or type 'exit' to end the conversation: \n",
            "\n",
            ">>>>>>>> NO HUMAN INPUT RECEIVED.\n",
            "\n",
            ">>>>>>>> USING AUTO REPLY...\n",
            "code_executor_agent (to code_writer_agent):\n",
            "\n",
            "Please continue. If everything is done, reply 'TERMINATE'.\n",
            "\n",
            "--------------------------------------------------------------------------------\n",
            "code_writer_agent (to code_executor_agent):\n",
            "\n",
            "TERMINATE\n",
            "\n",
            "--------------------------------------------------------------------------------\n",
            "Provide feedback to code_writer_agent. Press enter to skip and use auto-reply, or type 'exit' to end the conversation: \n",
            "\n",
            ">>>>>>>> NO HUMAN INPUT RECEIVED.\n"
          ]
        }
      ],
      "source": [
        "chat_result = code_executor_agent.initiate_chat(\n",
        "    code_writer_agent,\n",
        "    message=message,\n",
        ")"
      ]
    },
    {
      "cell_type": "markdown",
      "id": "9b0cbbdd",
      "metadata": {
        "id": "9b0cbbdd"
      },
      "source": [
        "## Let's see the plot!\n",
        "\n",
        "**Note**:\n",
        "* Your plot might differ from the one shown in the video because the LLM's freestyle code generation could choose a different plot type, such as a bar plot.\n",
        "* You can re-run the previous cell and check the generated code. If it produces a bar plot, remember you can directly specify your preference by asking for a specific plot type instead of a bar plot."
      ]
    },
    {
      "cell_type": "code",
      "execution_count": 13,
      "id": "26804313-566f-42fb-9243-4e0c147f770b",
      "metadata": {
        "height": 82,
        "id": "26804313-566f-42fb-9243-4e0c147f770b",
        "colab": {
          "base_uri": "https://localhost:8080/",
          "height": 517
        },
        "outputId": "d434628b-5a82-43f9-f89b-371f3e9df2a7"
      },
      "outputs": [
        {
          "output_type": "execute_result",
          "data": {
            "image/png": "[encoded data removed]",
            "text/plain": [
              "<IPython.core.display.Image object>"
            ]
          },
          "metadata": {},
          "execution_count": 13
        }
      ],
      "source": [
        "import os\n",
        "from IPython.display import Image\n",
        "\n",
        "Image(os.path.join(\"coding\", \"ytd_stock_gains.png\"))"
      ]
    },
    {
      "cell_type": "markdown",
      "id": "ccf49d7e",
      "metadata": {
        "id": "ccf49d7e"
      },
      "source": [
        "**Note**: The agent will automatically save the code in a .py file and the plot in a .png file. To access and check the files generated by the agents, go to the `File` menu and select `Open....` Then, open the folder named `coding` to find all the generated files."
      ]
    },
    {
      "cell_type": "markdown",
      "id": "5aded8dc",
      "metadata": {
        "id": "5aded8dc"
      },
      "source": [
        "## User-Defined Functions\n",
        "\n",
        "Instead of asking LLM to generate the code for downloading stock data\n",
        "and plotting charts each time, you can define functions for these two tasks and have LLM call these functions in the code."
      ]
    },
    {
      "cell_type": "code",
      "execution_count": 14,
      "id": "bca089a7-d85a-40ad-b33d-6a5318076c6e",
      "metadata": {
        "height": 388,
        "id": "bca089a7-d85a-40ad-b33d-6a5318076c6e"
      },
      "outputs": [],
      "source": [
        "def get_stock_prices(stock_symbols, start_date, end_date):\n",
        "    \"\"\"Get the stock prices for the given stock symbols between\n",
        "    the start and end dates.\n",
        "\n",
        "    Args:\n",
        "        stock_symbols (str or list): The stock symbols to get the\n",
        "        prices for.\n",
        "        start_date (str): The start date in the format\n",
        "        'YYYY-MM-DD'.\n",
        "        end_date (str): The end date in the format 'YYYY-MM-DD'.\n",
        "\n",
        "    Returns:\n",
        "        pandas.DataFrame: The stock prices for the given stock\n",
        "        symbols indexed by date, with one column per stock\n",
        "        symbol.\n",
        "    \"\"\"\n",
        "    import yfinance\n",
        "\n",
        "    stock_data = yfinance.download(\n",
        "        stock_symbols, start=start_date, end=end_date\n",
        "    )\n",
        "    return stock_data.get(\"Close\")"
      ]
    },
    {
      "cell_type": "code",
      "execution_count": 15,
      "id": "5dff50a6-39ae-46a4-9b9c-e98c1550472b",
      "metadata": {
        "height": 337,
        "id": "5dff50a6-39ae-46a4-9b9c-e98c1550472b"
      },
      "outputs": [],
      "source": [
        "def plot_stock_prices(stock_prices, filename):\n",
        "    \"\"\"Plot the stock prices for the given stock symbols.\n",
        "\n",
        "    Args:\n",
        "        stock_prices (pandas.DataFrame): The stock prices for the\n",
        "        given stock symbols.\n",
        "    \"\"\"\n",
        "    import matplotlib.pyplot as plt\n",
        "\n",
        "    plt.figure(figsize=(10, 5))\n",
        "    for column in stock_prices.columns:\n",
        "        plt.plot(\n",
        "            stock_prices.index, stock_prices[column], label=column\n",
        "                )\n",
        "    plt.title(\"Stock Prices\")\n",
        "    plt.xlabel(\"Date\")\n",
        "    plt.ylabel(\"Price\")\n",
        "    plt.grid(True)\n",
        "    plt.savefig(filename)"
      ]
    },
    {
      "cell_type": "markdown",
      "id": "63ff7175",
      "metadata": {
        "id": "63ff7175"
      },
      "source": [
        "### Create a new executor with the user-defined functions"
      ]
    },
    {
      "cell_type": "code",
      "execution_count": 16,
      "id": "452d315f-681d-4418-9cd0-653cc8d6a668",
      "metadata": {
        "height": 99,
        "id": "452d315f-681d-4418-9cd0-653cc8d6a668"
      },
      "outputs": [],
      "source": [
        "executor = LocalCommandLineCodeExecutor(\n",
        "    timeout=60,\n",
        "    work_dir=\"coding\",\n",
        "    functions=[get_stock_prices, plot_stock_prices],\n",
        ")"
      ]
    },
    {
      "cell_type": "code",
      "execution_count": 17,
      "id": "b95b30ad-1e6d-4d88-9a6c-2b0f11b625e4",
      "metadata": {
        "height": 48,
        "id": "b95b30ad-1e6d-4d88-9a6c-2b0f11b625e4",
        "colab": {
          "base_uri": "https://localhost:8080/"
        },
        "outputId": "f1128865-9a49-4042-a05f-690090cec88b"
      },
      "outputs": [
        {
          "output_type": "stream",
          "name": "stdout",
          "text": [
            "You are a helpful AI assistant.\n",
            "Solve tasks using your coding and language skills.\n",
            "In the following cases, suggest python code (in a python coding block) or shell script (in a sh coding block) for the user to execute.\n",
            "    1. When you need to collect info, use the code to output the info you need, for example, browse or search the web, download/read a file, print the content of a webpage or a file, get the current date/time, check the operating system. After sufficient info is printed and the task is ready to be solved based on your language skill, you can solve the task by yourself.\n",
            "    2. When you need to perform some task with code, use the code to perform the task and output the result. Finish the task smartly.\n",
            "Solve the task step by step if you need to. If a plan is not provided, explain your plan first. Be clear which step uses code, and which step uses your language skill.\n",
            "When using code, you must indicate the script type in the code block. The user cannot provide any other feedback or perform any other action beyond executing the code you suggest. The user can't modify your code. So do not suggest incomplete code which requires users to modify. Don't use a code block if it's not intended to be executed by the user.\n",
            "If you want the user to save the code in a file before executing it, put # filename: <filename> inside the code block as the first line. Don't include multiple code blocks in one response. Do not ask users to copy and paste the result. Instead, use 'print' function for the output when relevant. Check the execution result returned by the user.\n",
            "If the result indicates there is an error, fix the error and output the code again. Suggest the full code instead of partial code or code changes. If the error can't be fixed or if the task is not solved even after the code is executed successfully, analyze the problem, revisit your assumption, collect additional info you need, and think of a different approach to try.\n",
            "When you find an answer, verify the answer carefully. Include verifiable evidence in your response if possible.\n",
            "Reply \"TERMINATE\" in the end when everything is done.\n",
            "    You have access to the following user defined functions. They can be accessed from the module called `functions` by their function names.\n",
            "\n",
            "For example, if there was a function called `foo` you could import it by writing `from functions import foo`\n",
            "\n",
            "def get_stock_prices(stock_symbols, start_date, end_date):\n",
            "    \"\"\"Get the stock prices for the given stock symbols between\n",
            "        the start and end dates.\n",
            "\n",
            "        Args:\n",
            "            stock_symbols (str or list): The stock symbols to get the\n",
            "            prices for.\n",
            "            start_date (str): The start date in the format\n",
            "            'YYYY-MM-DD'.\n",
            "            end_date (str): The end date in the format 'YYYY-MM-DD'.\n",
            "\n",
            "        Returns:\n",
            "            pandas.DataFrame: The stock prices for the given stock\n",
            "            symbols indexed by date, with one column per stock\n",
            "            symbol.\n",
            "    \"\"\"\n",
            "    ...\n",
            "\n",
            "def plot_stock_prices(stock_prices, filename):\n",
            "    \"\"\"Plot the stock prices for the given stock symbols.\n",
            "\n",
            "        Args:\n",
            "            stock_prices (pandas.DataFrame): The stock prices for the\n",
            "            given stock symbols.\n",
            "    \"\"\"\n",
            "    ...\n"
          ]
        }
      ],
      "source": [
        "code_writer_agent_system_message += executor.format_functions_for_prompt()\n",
        "print(code_writer_agent_system_message)"
      ]
    },
    {
      "cell_type": "markdown",
      "id": "64d3cc77",
      "metadata": {
        "id": "64d3cc77"
      },
      "source": [
        "### Let's update the agents with the new system message"
      ]
    },
    {
      "cell_type": "code",
      "execution_count": 18,
      "id": "615c02b0-0175-442e-bed2-52bb35b8945c",
      "metadata": {
        "height": 133,
        "id": "615c02b0-0175-442e-bed2-52bb35b8945c"
      },
      "outputs": [],
      "source": [
        "code_writer_agent = ConversableAgent(\n",
        "    name=\"code_writer_agent\",\n",
        "    system_message=code_writer_agent_system_message,\n",
        "    llm_config=llm_config,\n",
        "    code_execution_config=False,\n",
        "    human_input_mode=\"NEVER\",\n",
        ")"
      ]
    },
    {
      "cell_type": "code",
      "execution_count": 19,
      "id": "a9a725b0-9bb6-47e3-85df-27d9aadc9290",
      "metadata": {
        "height": 150,
        "id": "a9a725b0-9bb6-47e3-85df-27d9aadc9290"
      },
      "outputs": [],
      "source": [
        "code_executor_agent = ConversableAgent(\n",
        "    name=\"code_executor_agent\",\n",
        "    llm_config=False,\n",
        "    code_execution_config={\"executor\": executor},\n",
        "    human_input_mode=\"ALWAYS\",\n",
        "    default_auto_reply=\n",
        "    \"Please continue. If everything is done, reply 'TERMINATE'.\",\n",
        ")"
      ]
    },
    {
      "cell_type": "markdown",
      "id": "e8d7b57c",
      "metadata": {
        "id": "e8d7b57c"
      },
      "source": [
        "### Start the same task again!"
      ]
    },
    {
      "cell_type": "code",
      "execution_count": 20,
      "id": "8895bb51-bcdd-4f63-a49f-858fc25c474f",
      "metadata": {
        "height": 133,
        "id": "8895bb51-bcdd-4f63-a49f-858fc25c474f",
        "colab": {
          "base_uri": "https://localhost:8080/"
        },
        "outputId": "34af0f99-7be2-4e3d-9bc2-2021bae45ce8"
      },
      "outputs": [
        {
          "output_type": "stream",
          "name": "stdout",
          "text": [
            "code_executor_agent (to code_writer_agent):\n",
            "\n",
            "Today is 2024-05-31.Download the stock prices YTD for NVDA and TSLA and createa plot. Make sure the code is in markdown code block and save the figure to a file stock_prices_YTD_plot.png.\n",
            "\n",
            "--------------------------------------------------------------------------------\n",
            "code_writer_agent (to code_executor_agent):\n",
            "\n",
            "First, to achieve this, the steps will be as follows:\n",
            "\n",
            "1. Fetch the stock prices for NVDA and TSLA from the start of the year 2024 to today (2024-05-31).\n",
            "2. Plot the prices and save the plot as `stock_prices_YTD_plot.png`.\n",
            "\n",
            "Here is the complete Python code:\n",
            "\n",
            "```python\n",
            "# filename: fetch_and_plot_stocks.py\n",
            "from functions import get_stock_prices, plot_stock_prices\n",
            "import pandas as pd\n",
            "\n",
            "# Target stock symbols\n",
            "stock_symbols = ['NVDA', 'TSLA']\n",
            "# Start and end dates for YTD\n",
            "start_date = '2024-01-01'\n",
            "end_date = '2024-05-31'\n",
            "\n",
            "# Fetch stock prices\n",
            "stock_prices = get_stock_prices(stock_symbols, start_date, end_date)\n",
            "\n",
            "# Create and save the plot\n",
            "plot_stock_prices(stock_prices, 'stock_prices_YTD_plot.png')\n",
            "```\n",
            "\n",
            "Please save the above code in a file named `fetch_and_plot_stocks.py` and then execute it. After running, check for the file `stock_prices_YTD_plot.png` to view the plot.\n",
            "\n",
            "--------------------------------------------------------------------------------\n",
            "Provide feedback to code_writer_agent. Press enter to skip and use auto-reply, or type 'exit' to end the conversation: \n",
            "\n",
            ">>>>>>>> NO HUMAN INPUT RECEIVED.\n",
            "\n",
            ">>>>>>>> USING AUTO REPLY...\n",
            "\n",
            ">>>>>>>> EXECUTING CODE BLOCK (inferred language is python)...\n",
            "code_executor_agent (to code_writer_agent):\n",
            "\n",
            "exitcode: 0 (execution succeeded)\n",
            "Code output: \n",
            "[                       0%%                      ]\n",
            "[*********************100%%**********************]  2 of 2 completed\n",
            "\n",
            "\n",
            "--------------------------------------------------------------------------------\n",
            "code_writer_agent (to code_executor_agent):\n",
            "\n",
            "The script has successfully fetched the stock prices for NVDA and TSLA YTD (from January 1, 2024, to May 31, 2024) and plotted them. The resulting plot should be saved in the file named `stock_prices_YTD_plot.png`.\n",
            "\n",
            "You can check your current directory for the file `stock_prices_YTD_plot.png` to see the visual representation of the stock prices for these symbols. This plot will give you a graphical view of how the stock prices for NVDA and TSLa have trended over the specified period.\n",
            "\n",
            "TERMINATE\n",
            "\n",
            "--------------------------------------------------------------------------------\n",
            "Provide feedback to code_writer_agent. Press enter to skip and use auto-reply, or type 'exit' to end the conversation: \n",
            "\n",
            ">>>>>>>> NO HUMAN INPUT RECEIVED.\n",
            "\n",
            ">>>>>>>> USING AUTO REPLY...\n",
            "code_executor_agent (to code_writer_agent):\n",
            "\n",
            "Please continue. If everything is done, reply 'TERMINATE'.\n",
            "\n",
            "--------------------------------------------------------------------------------\n",
            "code_writer_agent (to code_executor_agent):\n",
            "\n",
            "TERMINATE\n",
            "\n",
            "--------------------------------------------------------------------------------\n",
            "Provide feedback to code_writer_agent. Press enter to skip and use auto-reply, or type 'exit' to end the conversation: \n",
            "\n",
            ">>>>>>>> NO HUMAN INPUT RECEIVED.\n"
          ]
        }
      ],
      "source": [
        "chat_result = code_executor_agent.initiate_chat(\n",
        "    code_writer_agent,\n",
        "    message=f\"Today is {today}.\"\n",
        "    \"Download the stock prices YTD for NVDA and TSLA and create\"\n",
        "    \"a plot. Make sure the code is in markdown code block and \"\n",
        "    \"save the figure to a file stock_prices_YTD_plot.png.\",\n",
        ")"
      ]
    },
    {
      "cell_type": "markdown",
      "id": "3c4bb718",
      "metadata": {
        "id": "3c4bb718"
      },
      "source": [
        "### Plot the results"
      ]
    },
    {
      "cell_type": "code",
      "execution_count": 21,
      "id": "a930c007-dd56-4da6-b542-902312ed27dd",
      "metadata": {
        "height": 31,
        "id": "a930c007-dd56-4da6-b542-902312ed27dd",
        "colab": {
          "base_uri": "https://localhost:8080/",
          "height": 517
        },
        "outputId": "392c5b43-f368-45bd-a363-56a286716523"
      },
      "outputs": [
        {
          "output_type": "execute_result",
          "data": {
            "image/png": "[encoded data removed]",
            "text/plain": [
              "<IPython.core.display.Image object>"
            ]
          },
          "metadata": {},
          "execution_count": 21
        }
      ],
      "source": [
        "Image(os.path.join(\"coding\", \"stock_prices_YTD_plot.png\"))"
      ]
    },
    {
      "cell_type": "markdown",
      "id": "c65bac5e",
      "metadata": {
        "id": "c65bac5e"
      },
      "source": [
        "**Note**: The agent will automatically save the code in a .py file and the plot in a .png file. To access and check the files generated by the agents, go to the `File` menu and select `Open....` Then, open the folder named `coding` to find all the generated files."
      ]
    }
  ],
  "metadata": {
    "kernelspec": {
      "display_name": "Python 3",
      "name": "python3"
    },
    "language_info": {
      "codemirror_mode": {
        "name": "ipython",
        "version": 3
      },
      "file_extension": ".py",
      "mimetype": "text/x-python",
      "name": "python",
      "nbconvert_exporter": "python",
      "pygments_lexer": "ipython3",
      "version": "3.11.9"
    },
    "colab": {
      "provenance": []
    }
  },
  "nbformat": 4,
  "nbformat_minor": 5
}