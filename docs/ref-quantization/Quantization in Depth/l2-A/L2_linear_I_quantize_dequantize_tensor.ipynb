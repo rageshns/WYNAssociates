{
  "cells": [
    {
      "cell_type": "markdown",
      "metadata": {
        "id": "huMJed3cv1-k"
      },
      "source": [
        "You can download the `requirements.txt` for this course from the workspace of this lab. `File --> Open...`"
      ]
    },
    {
      "cell_type": "markdown",
      "metadata": {
        "id": "znxT4TWov1-m"
      },
      "source": [
        "# L2-A - Linear Quantization I: Quantize and De-quantize a Tensor\n",
        "\n",
        "In this lesson, you will learn the fundamentals of linear quantization."
      ]
    },
    {
      "cell_type": "markdown",
      "metadata": {
        "id": "WrQlZ262v1-n"
      },
      "source": [
        "The libraries are already installed in the classroom.  If you're running this notebook on your own machine, you can install the following:\n",
        "\n",
        "```Python\n",
        "!pip install torch==2.1.1\n",
        "```"
      ]
    },
    {
      "cell_type": "code",
      "execution_count": 1,
      "metadata": {
        "height": 30,
        "id": "7XBypXvRv1-n"
      },
      "outputs": [],
      "source": [
        "import torch"
      ]
    },
    {
      "cell_type": "markdown",
      "metadata": {
        "id": "u26SLut5v1-o"
      },
      "source": [
        "## Quantization with Random `Scale` and `Zero Point`\n",
        "\n",
        "- Implement Linear Quantization for when the \"scale\" and the \"zero point\" are known/randomly selected."
      ]
    },
    {
      "cell_type": "code",
      "execution_count": 2,
      "metadata": {
        "height": 234,
        "id": "y3KTjQiwv1-o"
      },
      "outputs": [],
      "source": [
        "def linear_q_with_scale_and_zero_point(\n",
        "    tensor, scale, zero_point, dtype = torch.int8):\n",
        "\n",
        "    scaled_and_shifted_tensor = tensor / scale + zero_point\n",
        "\n",
        "    rounded_tensor = torch.round(scaled_and_shifted_tensor)\n",
        "\n",
        "    q_min = torch.iinfo(dtype).min\n",
        "    q_max = torch.iinfo(dtype).max\n",
        "\n",
        "    q_tensor = rounded_tensor.clamp(q_min,q_max).to(dtype)\n",
        "\n",
        "    return q_tensor"
      ]
    },
    {
      "cell_type": "code",
      "execution_count": 3,
      "metadata": {
        "height": 115,
        "id": "Oz0fFY6gMXI6"
      },
      "outputs": [],
      "source": [
        "### a dummy tensor to test the implementation\n",
        "test_tensor=torch.tensor(\n",
        "    [[191.6, -13.5, 728.6],\n",
        "     [92.14, 295.5,  -184],\n",
        "     [0,     684.6, 245.5]]\n",
        ")"
      ]
    },
    {
      "cell_type": "code",
      "execution_count": 4,
      "metadata": {
        "height": 81,
        "id": "EmqD0GIOv1-o"
      },
      "outputs": [],
      "source": [
        "### these are random values for \"scale\" and \"zero_point\"\n",
        "### to test the implementation\n",
        "scale = 3.5\n",
        "zero_point = -70"
      ]
    },
    {
      "cell_type": "code",
      "execution_count": 5,
      "metadata": {
        "height": 47,
        "id": "lQWpKT0Zv1-p"
      },
      "outputs": [],
      "source": [
        "quantized_tensor = linear_q_with_scale_and_zero_point(\n",
        "    test_tensor, scale, zero_point)"
      ]
    },
    {
      "cell_type": "code",
      "execution_count": 6,
      "metadata": {
        "height": 30,
        "colab": {
          "base_uri": "https://localhost:8080/"
        },
        "id": "WIigjxSFv1-p",
        "outputId": "92322075-c050-45f8-920e-a509b6c1bc96"
      },
      "outputs": [
        {
          "output_type": "execute_result",
          "data": {
            "text/plain": [
              "tensor([[ -15,  -74,  127],\n",
              "        [ -44,   14, -123],\n",
              "        [ -70,  126,    0]], dtype=torch.int8)"
            ]
          },
          "metadata": {},
          "execution_count": 6
        }
      ],
      "source": [
        "quantized_tensor"
      ]
    },
    {
      "cell_type": "markdown",
      "metadata": {
        "id": "47JUmFxJv1-p"
      },
      "source": [
        "## Dequantization with Random `Scale` and `Zero Point`"
      ]
    },
    {
      "cell_type": "markdown",
      "metadata": {
        "id": "iLolNyhIv1-p"
      },
      "source": [
        "- Now, Dequantize the tensor to see how precise the quantization is."
      ]
    },
    {
      "cell_type": "code",
      "execution_count": 7,
      "metadata": {
        "height": 30,
        "id": "Mwv1_Lp3v1-p"
      },
      "outputs": [],
      "source": [
        "dequantized_tensor = scale * (quantized_tensor.float() - zero_point)"
      ]
    },
    {
      "cell_type": "code",
      "execution_count": 8,
      "metadata": {
        "height": 81,
        "id": "Nj3gd1Qgv1-p"
      },
      "outputs": [],
      "source": [
        "# this was the original tensor\n",
        "# [[191.6, -13.5, 728.6],\n",
        "#  [92.14, 295.5,  -184],\n",
        "#  [0,     684.6, 245.5]]"
      ]
    },
    {
      "cell_type": "code",
      "execution_count": 9,
      "metadata": {
        "height": 30,
        "colab": {
          "base_uri": "https://localhost:8080/"
        },
        "id": "ScgEBRT7v1-p",
        "outputId": "2781f5a7-b4ac-4db5-c923-806691995c4c"
      },
      "outputs": [
        {
          "output_type": "execute_result",
          "data": {
            "text/plain": [
              "tensor([[ 192.5000,  -14.0000,  689.5000],\n",
              "        [  91.0000,  294.0000, -185.5000],\n",
              "        [   0.0000,  686.0000,  245.0000]])"
            ]
          },
          "metadata": {},
          "execution_count": 9
        }
      ],
      "source": [
        "dequantized_tensor"
      ]
    },
    {
      "cell_type": "code",
      "execution_count": 10,
      "metadata": {
        "height": 47,
        "colab": {
          "base_uri": "https://localhost:8080/"
        },
        "id": "w9BK19Odv1-p",
        "outputId": "c3642ab4-5f4b-442e-9992-0005dcdd6380"
      },
      "outputs": [
        {
          "output_type": "execute_result",
          "data": {
            "text/plain": [
              "tensor([[ 192.5000,  -14.0000, -206.5000],\n",
              "        [  91.0000,  294.0000, -185.5000],\n",
              "        [   0.0000, -210.0000,  245.0000]])"
            ]
          },
          "metadata": {},
          "execution_count": 10
        }
      ],
      "source": [
        "### without casting to float\n",
        "scale * (quantized_tensor - zero_point)"
      ]
    },
    {
      "cell_type": "code",
      "execution_count": 11,
      "metadata": {
        "height": 47,
        "id": "hCAk6m2Wv1-p"
      },
      "outputs": [],
      "source": [
        "def linear_dequantization(quantized_tensor, scale, zero_point):\n",
        "    return scale * (quantized_tensor.float() - zero_point)"
      ]
    },
    {
      "cell_type": "markdown",
      "metadata": {
        "id": "2rh50aC-v1-q"
      },
      "source": [
        "- Calculate `dequantized_tensor` using the function `linear_dequantization`."
      ]
    },
    {
      "cell_type": "code",
      "execution_count": 12,
      "metadata": {
        "height": 47,
        "id": "95HXG028v1-q"
      },
      "outputs": [],
      "source": [
        "dequantized_tensor = linear_dequantization(\n",
        "    quantized_tensor, scale, zero_point)"
      ]
    },
    {
      "cell_type": "markdown",
      "metadata": {
        "id": "fHTgLvaRv1-q"
      },
      "source": [
        "- Print the results of the `dequantized_tensor`."
      ]
    },
    {
      "cell_type": "code",
      "execution_count": 13,
      "metadata": {
        "height": 30,
        "colab": {
          "base_uri": "https://localhost:8080/"
        },
        "id": "jUCktq9Dv1-q",
        "outputId": "5eec96cd-dd0b-4490-ba43-d35b639b61ba"
      },
      "outputs": [
        {
          "output_type": "execute_result",
          "data": {
            "text/plain": [
              "tensor([[ 192.5000,  -14.0000,  689.5000],\n",
              "        [  91.0000,  294.0000, -185.5000],\n",
              "        [   0.0000,  686.0000,  245.0000]])"
            ]
          },
          "metadata": {},
          "execution_count": 13
        }
      ],
      "source": [
        "dequantized_tensor"
      ]
    },
    {
      "cell_type": "markdown",
      "metadata": {
        "id": "eBvCiierv1-q"
      },
      "source": [
        "### Quantization Error"
      ]
    },
    {
      "cell_type": "markdown",
      "metadata": {
        "id": "04vFnchav1-q"
      },
      "source": [
        "- Load the `plot_quantization_errors` from the helper file.\n",
        "- To access the `helper.py` file, you can click `File --> Open...`, on the top left."
      ]
    },
    {
      "cell_type": "code",
      "execution_count": 14,
      "metadata": {
        "height": 30,
        "id": "9Z38lfyWv1-q"
      },
      "outputs": [],
      "source": [
        "from helper import plot_quantization_errors"
      ]
    },
    {
      "cell_type": "markdown",
      "metadata": {
        "id": "eEGdIF9Fv1-q"
      },
      "source": [
        "- Plot the quantization results."
      ]
    },
    {
      "cell_type": "code",
      "execution_count": 15,
      "metadata": {
        "colab": {
          "base_uri": "https://localhost:8080/",
          "height": 308
        },
        "height": 47,
        "id": "5Jr5S5ZBNhkj",
        "outputId": "07e25b3f-3981-4f67-e163-513534c9ea6a"
      },
      "outputs": [
        {
          "output_type": "display_data",
          "data": {
            "text/plain": [
              "<Figure size 1500x400 with 4 Axes>"
            ],
            "image/png": "[encoded data removed]"
          },
          "metadata": {}
        }
      ],
      "source": [
        "plot_quantization_errors(test_tensor, quantized_tensor,\n",
        "                         dequantized_tensor)"
      ]
    },
    {
      "cell_type": "markdown",
      "metadata": {
        "id": "vHW3uWr8v1-q"
      },
      "source": [
        "**Note:** For the plot above, `Quantization Error Tensor = abs(Original Tensor - Dequantized Tensor)`"
      ]
    },
    {
      "cell_type": "markdown",
      "metadata": {
        "id": "g6y1elnIv1-q"
      },
      "source": [
        "- Calculate an \"overall\" quantization error by using [Mean Squared Error](https://en.wikipedia.org/wiki/Mean_squared_error) technique."
      ]
    },
    {
      "cell_type": "code",
      "execution_count": 16,
      "metadata": {
        "height": 30,
        "colab": {
          "base_uri": "https://localhost:8080/"
        },
        "id": "sSXt0ZXev1-q",
        "outputId": "2ecba3e5-7290-4d2e-a242-1962e38920ef"
      },
      "outputs": [
        {
          "output_type": "execute_result",
          "data": {
            "text/plain": [
              "tensor([[  0.9000,  -0.5000, -39.1000],\n",
              "        [ -1.1400,  -1.5000,  -1.5000],\n",
              "        [  0.0000,   1.4000,  -0.5000]])"
            ]
          },
          "metadata": {},
          "execution_count": 16
        }
      ],
      "source": [
        "dequantized_tensor - test_tensor"
      ]
    },
    {
      "cell_type": "code",
      "execution_count": 17,
      "metadata": {
        "height": 30,
        "colab": {
          "base_uri": "https://localhost:8080/"
        },
        "id": "6sWVPlHEv1-q",
        "outputId": "1c8b44a9-d9d5-4365-f10a-cdde05ad1342"
      },
      "outputs": [
        {
          "output_type": "execute_result",
          "data": {
            "text/plain": [
              "tensor([[8.0999e-01, 2.5000e-01, 1.5288e+03],\n",
              "        [1.2996e+00, 2.2500e+00, 2.2500e+00],\n",
              "        [0.0000e+00, 1.9601e+00, 2.5000e-01]])"
            ]
          },
          "metadata": {},
          "execution_count": 17
        }
      ],
      "source": [
        "(dequantized_tensor - test_tensor).square()"
      ]
    },
    {
      "cell_type": "code",
      "execution_count": 18,
      "metadata": {
        "height": 30,
        "colab": {
          "base_uri": "https://localhost:8080/"
        },
        "id": "nyF8rmDDv1-q",
        "outputId": "25db0c6a-7b9e-4557-d3be-0e71a459879c"
      },
      "outputs": [
        {
          "output_type": "execute_result",
          "data": {
            "text/plain": [
              "tensor(170.8753)"
            ]
          },
          "metadata": {},
          "execution_count": 18
        }
      ],
      "source": [
        "(dequantized_tensor - test_tensor).square().mean()"
      ]
    },
    {
      "cell_type": "code",
      "execution_count": 18,
      "metadata": {
        "height": 30,
        "id": "SilhRdypv1-q"
      },
      "outputs": [],
      "source": []
    },
    {
      "cell_type": "markdown",
      "source": [
        "Let's do a `torch.int16` as a comparison."
      ],
      "metadata": {
        "id": "ZUXO5u8myFhY"
      }
    },
    {
      "cell_type": "code",
      "source": [
        "torch.int16"
      ],
      "metadata": {
        "colab": {
          "base_uri": "https://localhost:8080/"
        },
        "id": "5mTI2u5IyeoC",
        "outputId": "f62352bb-12a6-4e65-c65b-313486e2397f"
      },
      "execution_count": 19,
      "outputs": [
        {
          "output_type": "execute_result",
          "data": {
            "text/plain": [
              "torch.int16"
            ]
          },
          "metadata": {},
          "execution_count": 19
        }
      ]
    },
    {
      "cell_type": "code",
      "source": [
        "quantized_tensor_16 = linear_q_with_scale_and_zero_point(\n",
        "    test_tensor, scale, zero_point, torch.int16)\n",
        "dequantized_tensor_16 = linear_dequantization(\n",
        "    quantized_tensor_16, scale, zero_point)"
      ],
      "metadata": {
        "id": "ZJkXcUtqySi4"
      },
      "execution_count": 20,
      "outputs": []
    },
    {
      "cell_type": "code",
      "source": [
        "quantized_tensor"
      ],
      "metadata": {
        "colab": {
          "base_uri": "https://localhost:8080/"
        },
        "id": "yg9PxNlszhe6",
        "outputId": "2c8b6cb1-9639-4eec-e8a2-e15728be031b"
      },
      "execution_count": 28,
      "outputs": [
        {
          "output_type": "execute_result",
          "data": {
            "text/plain": [
              "tensor([[ -15,  -74,  127],\n",
              "        [ -44,   14, -123],\n",
              "        [ -70,  126,    0]], dtype=torch.int8)"
            ]
          },
          "metadata": {},
          "execution_count": 28
        }
      ]
    },
    {
      "cell_type": "code",
      "source": [
        "quantized_tensor_16"
      ],
      "metadata": {
        "colab": {
          "base_uri": "https://localhost:8080/"
        },
        "id": "m0vW2b85zg3a",
        "outputId": "0879951e-eafc-4022-fbf8-ef29f5895d45"
      },
      "execution_count": 27,
      "outputs": [
        {
          "output_type": "execute_result",
          "data": {
            "text/plain": [
              "tensor([[ -15,  -74,  138],\n",
              "        [ -44,   14, -123],\n",
              "        [ -70,  126,    0]], dtype=torch.int16)"
            ]
          },
          "metadata": {},
          "execution_count": 27
        }
      ]
    },
    {
      "cell_type": "code",
      "execution_count": 25,
      "metadata": {
        "height": 30,
        "colab": {
          "base_uri": "https://localhost:8080/",
          "height": 308
        },
        "id": "3KNnb7ZXv1-q",
        "outputId": "09bb4462-1c37-4043-d903-d2d79ba1e8c0"
      },
      "outputs": [
        {
          "output_type": "display_data",
          "data": {
            "text/plain": [
              "<Figure size 1500x400 with 4 Axes>"
            ],
            "image/png": "[encoded data removed]"
          },
          "metadata": {}
        }
      ],
      "source": [
        "plot_quantization_errors(test_tensor, quantized_tensor_16,\n",
        "                         dequantized_tensor_16, torch.int16, 16)"
      ]
    },
    {
      "cell_type": "code",
      "source": [
        "(dequantized_tensor_16 - test_tensor).square().mean()"
      ],
      "metadata": {
        "colab": {
          "base_uri": "https://localhost:8080/"
        },
        "id": "WB7kHTcvypqX",
        "outputId": "19fdf4e7-7c9a-4c91-fe6b-7aa3bf57874b"
      },
      "execution_count": 26,
      "outputs": [
        {
          "output_type": "execute_result",
          "data": {
            "text/plain": [
              "tensor(1.0477)"
            ]
          },
          "metadata": {},
          "execution_count": 26
        }
      ]
    },
    {
      "cell_type": "markdown",
      "source": [
        "Performance\n",
        "\n",
        "| | 8-bit | 16-bit |\n",
        "| --- | ---   | ---    |\n",
        "| Mean Square Error | 170   | 1.04   |"
      ],
      "metadata": {
        "id": "Rhdd7Akqz4MC"
      }
    },
    {
      "cell_type": "code",
      "source": [],
      "metadata": {
        "id": "Msw6TmMF0CJn"
      },
      "execution_count": null,
      "outputs": []
    }
  ],
  "metadata": {
    "colab": {
      "provenance": []
    },
    "kernelspec": {
      "display_name": "Python 3 (ipykernel)",
      "language": "python",
      "name": "python3"
    },
    "language_info": {
      "codemirror_mode": {
        "name": "ipython",
        "version": 3
      },
      "file_extension": ".py",
      "mimetype": "text/x-python",
      "name": "python",
      "nbconvert_exporter": "python",
      "pygments_lexer": "ipython3",
      "version": "3.11.9"
    }
  },
  "nbformat": 4,
  "nbformat_minor": 0
}