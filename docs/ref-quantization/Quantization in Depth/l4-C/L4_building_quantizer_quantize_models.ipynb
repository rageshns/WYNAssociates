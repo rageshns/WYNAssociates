{
  "nbformat": 4,
  "nbformat_minor": 0,
  "metadata": {
    "colab": {
      "provenance": []
    },
    "kernelspec": {
      "name": "python3",
      "display_name": "Python 3"
    },
    "language_info": {
      "name": "python"
    }
  },
  "cells": [
    {
      "cell_type": "markdown",
      "source": [
        "# L4-C - Building your own Quantizer: Quantize any Open Source PyTorch Model\n",
        "\n",
        "In this lesson, you will look at the results of open source models compressed using the custom quantizer you built."
      ],
      "metadata": {
        "id": "egZdxulenzjV"
      }
    },
    {
      "cell_type": "markdown",
      "source": [
        "Run the next cell to import all of the functions you have used before in the previous lesson(s) of `Building your own Quantizer` to follow along with the video.\n",
        "\n",
        "- To access the `helper.py` file, you can click `File --> Open...`, on the top left."
      ],
      "metadata": {
        "id": "HZ2iclSWn05b"
      }
    },
    {
      "cell_type": "code",
      "source": [
        "import torch\n",
        "import torch.nn as nn\n",
        "import torch.nn.functional as F\n",
        "\n",
        "from helper import W8A16LinearLayer, replace_linear_with_target_and_quantize"
      ],
      "metadata": {
        "id": "UhROVtAEnyoj"
      },
      "execution_count": null,
      "outputs": []
    },
    {
      "cell_type": "markdown",
      "source": [
        "## Step 3: Test the Implementation on Various LLMs"
      ],
      "metadata": {
        "id": "t1Lc3_dgn2MZ"
      }
    },
    {
      "cell_type": "markdown",
      "source": [
        "### 3.1 - [Salesforce/codegen-350M-mono](https://huggingface.co/Salesforce/codegen-350M-mono)"
      ],
      "metadata": {
        "id": "ShmwEHDSn3ij"
      }
    },
    {
      "cell_type": "code",
      "source": [
        "from transformers import AutoModelForCausalLM, AutoTokenizer, pipeline\n",
        "\n",
        "model_id = \"./models/Salesforce/codegen-350M-mono\"\n",
        "\n",
        "model = AutoModelForCausalLM.from_pretrained(model_id,\n",
        "                                    torch_dtype=torch.bfloat16,\n",
        "                                             low_cpu_mem_usage=True)\n",
        "tokenizer = AutoTokenizer.from_pretrained(model_id)"
      ],
      "metadata": {
        "id": "AqB00huPn4et"
      },
      "execution_count": null,
      "outputs": []
    },
    {
      "cell_type": "code",
      "source": [
        "pipe = pipeline(\"text-generation\", model=model, tokenizer=tokenizer)"
      ],
      "metadata": {
        "id": "ANRafQPcn5T8"
      },
      "execution_count": null,
      "outputs": []
    },
    {
      "cell_type": "code",
      "source": [
        "print(pipe(\"def hello_world():\", max_new_tokens=20, do_sample=False))"
      ],
      "metadata": {
        "id": "558jfJPen7am"
      },
      "execution_count": null,
      "outputs": []
    },
    {
      "cell_type": "code",
      "source": [
        "print(\"Model before:\\n\\n\", model)"
      ],
      "metadata": {
        "id": "L6KYMrLpn8T3"
      },
      "execution_count": null,
      "outputs": []
    },
    {
      "cell_type": "code",
      "source": [
        "replace_linear_with_target_and_quantize(model,\n",
        "                                        W8A16LinearLayer, [\"lm_head\"])"
      ],
      "metadata": {
        "id": "tEaNMSsvn9P7"
      },
      "execution_count": null,
      "outputs": []
    },
    {
      "cell_type": "code",
      "source": [
        "pipe.model"
      ],
      "metadata": {
        "id": "JYfbEC_Yn-GP"
      },
      "execution_count": null,
      "outputs": []
    },
    {
      "cell_type": "code",
      "source": [
        "print(pipe(\"def hello_world():\", max_new_tokens=20,\n",
        "           do_sample=False)[0][\"generated_text\"])"
      ],
      "metadata": {
        "id": "RNL3bxMun_M8"
      },
      "execution_count": null,
      "outputs": []
    },
    {
      "cell_type": "markdown",
      "source": [
        "### 3.2 - [facebook/detr-resnet-50](https://huggingface.co/facebook/detr-resnet-50)"
      ],
      "metadata": {
        "id": "yKpe0ivboBDo"
      }
    },
    {
      "cell_type": "code",
      "source": [
        "from transformers import DetrImageProcessor, DetrForObjectDetection\n",
        "from PIL import Image\n",
        "import requests\n",
        "\n",
        "# you can specify the revision tag if you don't want the timm dependency\n",
        "processor = DetrImageProcessor.from_pretrained(\n",
        "    \"facebook/detr-resnet-50\", revision=\"no_timm\")\n",
        "model = DetrForObjectDetection.from_pretrained(\n",
        "    \"facebook/detr-resnet-50\", revision=\"no_timm\")"
      ],
      "metadata": {
        "id": "rQBC5n07oBiJ"
      },
      "execution_count": null,
      "outputs": []
    },
    {
      "cell_type": "code",
      "source": [
        "previous_memory_footprint = model.get_memory_footprint()"
      ],
      "metadata": {
        "id": "Ii2Z5ZtnoDZP"
      },
      "execution_count": null,
      "outputs": []
    },
    {
      "cell_type": "code",
      "source": [
        "print(\"Footprint of the model in MBs: \",\n",
        "      previous_memory_footprint/1e+6)"
      ],
      "metadata": {
        "id": "p7Jm_JSzoEZd"
      },
      "execution_count": null,
      "outputs": []
    },
    {
      "cell_type": "code",
      "source": [
        "img_path = \"dinner_with_friends.png\"\n",
        "image = Image.open(img_path).convert(\"RGB\")\n",
        "image"
      ],
      "metadata": {
        "id": "J_02THcxoFcc"
      },
      "execution_count": null,
      "outputs": []
    },
    {
      "cell_type": "code",
      "source": [
        "from helper import plot_results\n",
        "\n",
        "inputs = processor(images=image, return_tensors=\"pt\")\n",
        "with torch.no_grad():\n",
        "  outputs = model(**inputs)\n",
        "\n",
        "# convert outputs (bounding boxes and class logits) to COCO API\n",
        "# let's only keep detections with score > 0.9\n",
        "target_sizes = torch.tensor([image.size[::-1]])\n",
        "results = processor.post_process_object_detection(outputs, target_sizes=target_sizes, threshold=0.9)[0]"
      ],
      "metadata": {
        "id": "SPWZsWPsoHVI"
      },
      "execution_count": null,
      "outputs": []
    },
    {
      "cell_type": "code",
      "source": [
        "plot_results(model, image, results)"
      ],
      "metadata": {
        "id": "mLXvJ3GNoILL"
      },
      "execution_count": null,
      "outputs": []
    },
    {
      "cell_type": "code",
      "source": [
        "model"
      ],
      "metadata": {
        "id": "f94xpEC7oJEY"
      },
      "execution_count": null,
      "outputs": []
    },
    {
      "cell_type": "code",
      "source": [
        "replace_linear_with_target_and_quantize(model,\n",
        "                                        W8A16LinearLayer,\n",
        "               [\"0\", \"1\", \"2\", \"class_labels_classifier\"])"
      ],
      "metadata": {
        "id": "cgb_1wdHoJ7i"
      },
      "execution_count": null,
      "outputs": []
    },
    {
      "cell_type": "code",
      "source": [
        "### Model after quantization\n",
        "model"
      ],
      "metadata": {
        "id": "YiEHM3WmoLD5"
      },
      "execution_count": null,
      "outputs": []
    },
    {
      "cell_type": "markdown",
      "source": [
        "- Visualize results after quantization."
      ],
      "metadata": {
        "id": "GUoLiCzhoMqh"
      }
    },
    {
      "cell_type": "code",
      "source": [
        "inputs = processor(images=image, return_tensors=\"pt\")\n",
        "with torch.no_grad():\n",
        "  outputs = model(**inputs)\n",
        "\n",
        "# convert outputs (bounding boxes and class logits) to COCO API\n",
        "# let's only keep detections with score > 0.9\n",
        "target_sizes = torch.tensor([image.size[::-1]])\n",
        "results = processor.post_process_object_detection(outputs, target_sizes=target_sizes, threshold=0.9)[0]"
      ],
      "metadata": {
        "id": "EXisTdNHoOpO"
      },
      "execution_count": null,
      "outputs": []
    },
    {
      "cell_type": "code",
      "source": [
        "plot_results(model, image, results)"
      ],
      "metadata": {
        "id": "tZ00d7VuoSqG"
      },
      "execution_count": null,
      "outputs": []
    },
    {
      "cell_type": "code",
      "source": [
        "new_footprint = model.get_memory_footprint()"
      ],
      "metadata": {
        "id": "fzYpteA2oTkH"
      },
      "execution_count": null,
      "outputs": []
    },
    {
      "cell_type": "code",
      "source": [
        "print(\"Footprint of the model in MBs: \",\n",
        "      new_footprint/1e+6)"
      ],
      "metadata": {
        "id": "_EAGOJAFoUe9"
      },
      "execution_count": null,
      "outputs": []
    },
    {
      "cell_type": "code",
      "source": [
        "### Memory saved\n",
        "print(\"Memory saved in MBs: \",\n",
        "      (previous_memory_footprint - new_footprint)/1e+6)"
      ],
      "metadata": {
        "id": "3fBigcFvoVou"
      },
      "execution_count": null,
      "outputs": []
    }
  ]
}