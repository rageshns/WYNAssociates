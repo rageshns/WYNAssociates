{
  "nbformat": 4,
  "nbformat_minor": 0,
  "metadata": {
    "colab": {
      "provenance": []
    },
    "kernelspec": {
      "name": "python3",
      "display_name": "Python 3"
    },
    "language_info": {
      "name": "python"
    }
  },
  "cells": [
    {
      "cell_type": "markdown",
      "source": [
        "# L4-D - Building your own Quantizer: Load your Quantized Weights from Hugging Face Hub\n",
        "\n",
        "In this lesson, you will learn memory efficient model loading."
      ],
      "metadata": {
        "id": "NWxnjLYkrLmc"
      }
    },
    {
      "cell_type": "markdown",
      "source": [
        "Run the next cell to import all of the functions you have used before in the previous lesson(s) of `Building your own Quantizer` to follow along with the video.\n",
        "\n",
        "- To access the `helper.py` file, you can click `File --> Open...`, on the top left."
      ],
      "metadata": {
        "id": "wSabZvmbrL3Z"
      }
    },
    {
      "cell_type": "code",
      "source": [
        "import torch\n",
        "\n",
        "from helper import W8A16LinearLayer, replace_linear_with_target_and_quantize, replace_linear_with_target"
      ],
      "metadata": {
        "id": "s5lO0hiSrMzc"
      },
      "execution_count": null,
      "outputs": []
    },
    {
      "cell_type": "markdown",
      "source": [
        "## Memory Efficient Model Loading\n",
        "\n",
        "- Load [facebook/opt-125m](https://huggingface.co/facebook/opt-125m)"
      ],
      "metadata": {
        "id": "Y8oGnthirNdZ"
      }
    },
    {
      "cell_type": "code",
      "source": [
        "from transformers import AutoModelForCausalLM, AutoTokenizer\n",
        "\n",
        "model_id = \"./models/facebook/opt-125m\"\n",
        "\n",
        "model = AutoModelForCausalLM.from_pretrained(\n",
        "    model_id, torch_dtype=torch.bfloat16, low_cpu_mem_usage=True)\n",
        "tokenizer = AutoTokenizer.from_pretrained(model_id)"
      ],
      "metadata": {
        "id": "X_iSdc1UrOcW"
      },
      "execution_count": null,
      "outputs": []
    },
    {
      "cell_type": "code",
      "source": [
        "replace_linear_with_target_and_quantize(model,\n",
        "                             W8A16LinearLayer,\n",
        "                                   [\"lm_head\"])"
      ],
      "metadata": {
        "id": "Zexn4txnrPVr"
      },
      "execution_count": null,
      "outputs": []
    },
    {
      "cell_type": "code",
      "source": [
        "model"
      ],
      "metadata": {
        "id": "CFdSmCkQrQkm"
      },
      "execution_count": null,
      "outputs": []
    },
    {
      "cell_type": "code",
      "source": [
        "quantized_state_dict = model.state_dict()\n",
        "torch.save(quantized_state_dict, \"quantized_state_dict.pth\")"
      ],
      "metadata": {
        "id": "n676GVrYrRax"
      },
      "execution_count": null,
      "outputs": []
    },
    {
      "cell_type": "markdown",
      "source": [
        "- The below code is for demonstration purposes only.\n",
        "- You'll need your own Hugging Face username in order for it to run.\n",
        "- You'll add your usernmae in `YOUR_HF_USERNAME = \"\"`"
      ],
      "metadata": {
        "id": "KCu16TuTrSdS"
      }
    },
    {
      "cell_type": "markdown",
      "source": [
        "```Python\n",
        "from huggingface_hub import HfApi, create_repo\n",
        "\n",
        "YOUR_HF_USERNAME = \"\"\n",
        "your_repo_id = f\"{YOUR_HF_USERNAME}/opt-125m-quantized-dlai\"\n",
        "\n",
        "api = HfApi()\n",
        "\n",
        "# create_repo(your_repo_id)\n",
        "\n",
        "api.upload_file(\n",
        " path_or_fileobj=\"quantized_state_dict.pth\",\n",
        " path_in_repo=\"quantized_state_dict.pth\",\n",
        " repo_id=your_repo_id\n",
        ")\n",
        "```"
      ],
      "metadata": {
        "id": "yLvTkgHArTHD"
      }
    },
    {
      "cell_type": "markdown",
      "source": [
        "### Load the Model in the Meta Device"
      ],
      "metadata": {
        "id": "konCiqUPrVFz"
      }
    },
    {
      "cell_type": "code",
      "source": [
        "from transformers import OPTForCausalLM, AutoTokenizer, AutoConfig\n",
        "\n",
        "model_id = \"./models/facebook/opt-125m\"\n",
        "config = AutoConfig.from_pretrained(model_id)\n",
        "\n",
        "with torch.device(\"meta\"):\n",
        "  model = OPTForCausalLM(config)\n",
        "\n",
        "tokenizer = AutoTokenizer.from_pretrained(model_id)"
      ],
      "metadata": {
        "id": "0a33YVMRrWbR"
      },
      "execution_count": null,
      "outputs": []
    },
    {
      "cell_type": "code",
      "source": [
        "for param in model.parameters():\n",
        "  print(param)"
      ],
      "metadata": {
        "id": "VcW-rorkrXOx"
      },
      "execution_count": null,
      "outputs": []
    },
    {
      "cell_type": "code",
      "source": [
        "model"
      ],
      "metadata": {
        "id": "fzbUoQ9DrYsR"
      },
      "execution_count": null,
      "outputs": []
    },
    {
      "cell_type": "code",
      "source": [
        "replace_linear_with_target(model, W8A16LinearLayer, [\"lm_head\"])"
      ],
      "metadata": {
        "id": "vXY2UiLprZoK"
      },
      "execution_count": null,
      "outputs": []
    },
    {
      "cell_type": "code",
      "source": [
        "model"
      ],
      "metadata": {
        "id": "anyI1liKra38"
      },
      "execution_count": null,
      "outputs": []
    },
    {
      "cell_type": "code",
      "source": [
        "from huggingface_hub import hf_hub_download\n",
        "\n",
        "state_dict_cache_path = hf_hub_download(\n",
        "    \"ybelkada/opt-125m-quantized-dlai\",\n",
        "    \"quantized_state_dict.pth\"\n",
        ")"
      ],
      "metadata": {
        "id": "1ZfCFK7grb3i"
      },
      "execution_count": null,
      "outputs": []
    },
    {
      "cell_type": "code",
      "source": [
        "state_dict = torch.load(state_dict_cache_path)"
      ],
      "metadata": {
        "id": "Myk4gWoCrcoR"
      },
      "execution_count": null,
      "outputs": []
    },
    {
      "cell_type": "code",
      "source": [
        "model.load_state_dict(state_dict, strict=True, assign=True)"
      ],
      "metadata": {
        "id": "aYW0uYVVrdYe"
      },
      "execution_count": null,
      "outputs": []
    },
    {
      "cell_type": "markdown",
      "source": [
        "- Test your model.\n",
        "- **Note:** Your generated text might be different than what you see in the video."
      ],
      "metadata": {
        "id": "6q4J3CoDreQW"
      }
    },
    {
      "cell_type": "code",
      "source": [
        "from transformers import pipeline\n",
        "\n",
        "pipe = pipeline(\"text-generation\", model=model, tokenizer=tokenizer)\n",
        "pipe(\"Hello today I am\", max_new_tokens=40)"
      ],
      "metadata": {
        "id": "pfr5-kd9re3J"
      },
      "execution_count": null,
      "outputs": []
    },
    {
      "cell_type": "code",
      "source": [
        "pipe = pipeline(\"text-generation\", model=model, tokenizer=tokenizer)\n",
        "pipe(\"Hello today I am giving a course about\", max_new_tokens=10)"
      ],
      "metadata": {
        "id": "V88vBHLKrgyZ"
      },
      "execution_count": null,
      "outputs": []
    }
  ]
}